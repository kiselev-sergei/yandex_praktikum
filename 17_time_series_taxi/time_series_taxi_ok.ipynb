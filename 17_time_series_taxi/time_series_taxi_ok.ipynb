{
 "cells": [
  {
   "cell_type": "markdown",
   "metadata": {
    "toc": true
   },
   "source": [
    "<h1>Содержание<span class=\"tocSkip\"></span></h1>\n",
    "<div class=\"toc\"><ul class=\"toc-item\"><li><ul class=\"toc-item\"><li><span><a href=\"#Описание-проекта\" data-toc-modified-id=\"Описание-проекта-0.1\"><span class=\"toc-item-num\">0.1&nbsp;&nbsp;</span>Описание проекта</a></span></li></ul></li><li><span><a href=\"#Подготовка\" data-toc-modified-id=\"Подготовка-1\"><span class=\"toc-item-num\">1&nbsp;&nbsp;</span>Подготовка</a></span></li><li><span><a href=\"#Анализ\" data-toc-modified-id=\"Анализ-2\"><span class=\"toc-item-num\">2&nbsp;&nbsp;</span>Анализ</a></span></li><li><span><a href=\"#Обучение\" data-toc-modified-id=\"Обучение-3\"><span class=\"toc-item-num\">3&nbsp;&nbsp;</span>Обучение</a></span><ul class=\"toc-item\"><li><span><a href=\"#Линейная-регрессия\" data-toc-modified-id=\"Линейная-регрессия-3.1\"><span class=\"toc-item-num\">3.1&nbsp;&nbsp;</span>Линейная регрессия</a></span></li><li><span><a href=\"#Случайный-лес\" data-toc-modified-id=\"Случайный-лес-3.2\"><span class=\"toc-item-num\">3.2&nbsp;&nbsp;</span>Случайный лес</a></span></li><li><span><a href=\"#Catboost\" data-toc-modified-id=\"Catboost-3.3\"><span class=\"toc-item-num\">3.3&nbsp;&nbsp;</span>Catboost</a></span></li></ul></li><li><span><a href=\"#Тестирование\" data-toc-modified-id=\"Тестирование-4\"><span class=\"toc-item-num\">4&nbsp;&nbsp;</span>Тестирование</a></span></li><li><span><a href=\"#Общие-выводы\" data-toc-modified-id=\"Общие-выводы-5\"><span class=\"toc-item-num\">5&nbsp;&nbsp;</span>Общие выводы</a></span></li></ul></div>"
   ]
  },
  {
   "cell_type": "markdown",
   "metadata": {},
   "source": [
    "#  Прогнозирование заказов такси"
   ]
  },
  {
   "cell_type": "markdown",
   "metadata": {},
   "source": [
    "Компания «Чётенькое такси» собрала исторические данные о заказах такси в аэропортах. Чтобы привлекать больше водителей в период пиковой нагрузки, нужно спрогнозировать количество заказов такси на следующий час. Постройте модель для такого предсказания.\n",
    "\n",
    "Значение метрики *RMSE* на тестовой выборке должно быть не больше 48.\n",
    "\n",
    "Вам нужно:\n",
    "\n",
    "1. Загрузить данные и выполнить их ресемплирование по одному часу.\n",
    "2. Проанализировать данные.\n",
    "3. Обучить разные модели с различными гиперпараметрами. Сделать тестовую выборку размером 10% от исходных данных.\n",
    "4. Проверить данные на тестовой выборке и сделать выводы.\n",
    "\n",
    "\n",
    "Данные лежат в файле `taxi.csv`. Количество заказов находится в столбце `num_orders` (от англ. *number of orders*, «число заказов»)."
   ]
  },
  {
   "cell_type": "markdown",
   "metadata": {},
   "source": [
    "### Описание проекта\n",
    "Перед нами исторические данные о заказах такси в аэропортах. \n",
    "\n",
    "Задача: спрогнозировать количество заказов такси на следующий час.\n",
    "\n",
    "Проанализируем данные и их временные ряды. Протестируем три модели, выберем лучшую."
   ]
  },
  {
   "cell_type": "markdown",
   "metadata": {},
   "source": [
    "## Подготовка"
   ]
  },
  {
   "cell_type": "code",
   "execution_count": 1,
   "metadata": {},
   "outputs": [],
   "source": [
    "import pandas as pd\n",
    "import numpy as np\n",
    "\n",
    "from statsmodels.tsa.seasonal import seasonal_decompose\n",
    "import matplotlib.pyplot as plt\n",
    "\n",
    "from sklearn.model_selection import train_test_split\n",
    "from sklearn.model_selection import cross_val_score, RandomizedSearchCV, GridSearchCV, TimeSeriesSplit\n",
    "from sklearn.preprocessing import StandardScaler, OneHotEncoder\n",
    "from sklearn.linear_model import LinearRegression\n",
    "from sklearn.tree import DecisionTreeRegressor\n",
    "from sklearn.compose import ColumnTransformer\n",
    "from sklearn.ensemble import RandomForestRegressor\n",
    "from catboost import CatBoostRegressor, Pool\n",
    "from sklearn.metrics import mean_squared_error, make_scorer"
   ]
  },
  {
   "cell_type": "code",
   "execution_count": 2,
   "metadata": {},
   "outputs": [
    {
     "name": "stdout",
     "output_type": "stream",
     "text": [
      "True\n",
      "<class 'pandas.core.frame.DataFrame'>\n",
      "DatetimeIndex: 26496 entries, 2018-03-01 00:00:00 to 2018-08-31 23:50:00\n",
      "Data columns (total 1 columns):\n",
      " #   Column      Non-Null Count  Dtype\n",
      "---  ------      --------------  -----\n",
      " 0   num_orders  26496 non-null  int64\n",
      "dtypes: int64(1)\n",
      "memory usage: 414.0 KB\n"
     ]
    }
   ],
   "source": [
    "df = pd.read_csv('/datasets/taxi.csv', index_col=[0], parse_dates=[0])\n",
    "df = df.sort_index(axis='index', ascending=True) # < напишите код здесь >\n",
    "print(df.index.is_monotonic)\n",
    "df.info()\n"
   ]
  },
  {
   "cell_type": "code",
   "execution_count": 3,
   "metadata": {},
   "outputs": [
    {
     "data": {
      "text/plain": [
       "0"
      ]
     },
     "execution_count": 3,
     "metadata": {},
     "output_type": "execute_result"
    }
   ],
   "source": [
    "df.reset_index().duplicated().sum()"
   ]
  },
  {
   "cell_type": "markdown",
   "metadata": {},
   "source": [
    "Проведем ресемплирование по одному часу."
   ]
  },
  {
   "cell_type": "code",
   "execution_count": 4,
   "metadata": {},
   "outputs": [],
   "source": [
    "df = df.resample('1H').sum()"
   ]
  },
  {
   "cell_type": "code",
   "execution_count": 5,
   "metadata": {},
   "outputs": [
    {
     "data": {
      "text/html": [
       "<div>\n",
       "<style scoped>\n",
       "    .dataframe tbody tr th:only-of-type {\n",
       "        vertical-align: middle;\n",
       "    }\n",
       "\n",
       "    .dataframe tbody tr th {\n",
       "        vertical-align: top;\n",
       "    }\n",
       "\n",
       "    .dataframe thead th {\n",
       "        text-align: right;\n",
       "    }\n",
       "</style>\n",
       "<table border=\"1\" class=\"dataframe\">\n",
       "  <thead>\n",
       "    <tr style=\"text-align: right;\">\n",
       "      <th></th>\n",
       "      <th>num_orders</th>\n",
       "    </tr>\n",
       "    <tr>\n",
       "      <th>datetime</th>\n",
       "      <th></th>\n",
       "    </tr>\n",
       "  </thead>\n",
       "  <tbody>\n",
       "    <tr>\n",
       "      <th>2018-03-01 00:00:00</th>\n",
       "      <td>124</td>\n",
       "    </tr>\n",
       "    <tr>\n",
       "      <th>2018-03-01 01:00:00</th>\n",
       "      <td>85</td>\n",
       "    </tr>\n",
       "    <tr>\n",
       "      <th>2018-03-01 02:00:00</th>\n",
       "      <td>71</td>\n",
       "    </tr>\n",
       "    <tr>\n",
       "      <th>2018-03-01 03:00:00</th>\n",
       "      <td>66</td>\n",
       "    </tr>\n",
       "    <tr>\n",
       "      <th>2018-03-01 04:00:00</th>\n",
       "      <td>43</td>\n",
       "    </tr>\n",
       "    <tr>\n",
       "      <th>...</th>\n",
       "      <td>...</td>\n",
       "    </tr>\n",
       "    <tr>\n",
       "      <th>2018-08-31 19:00:00</th>\n",
       "      <td>136</td>\n",
       "    </tr>\n",
       "    <tr>\n",
       "      <th>2018-08-31 20:00:00</th>\n",
       "      <td>154</td>\n",
       "    </tr>\n",
       "    <tr>\n",
       "      <th>2018-08-31 21:00:00</th>\n",
       "      <td>159</td>\n",
       "    </tr>\n",
       "    <tr>\n",
       "      <th>2018-08-31 22:00:00</th>\n",
       "      <td>223</td>\n",
       "    </tr>\n",
       "    <tr>\n",
       "      <th>2018-08-31 23:00:00</th>\n",
       "      <td>205</td>\n",
       "    </tr>\n",
       "  </tbody>\n",
       "</table>\n",
       "<p>4416 rows × 1 columns</p>\n",
       "</div>"
      ],
      "text/plain": [
       "                     num_orders\n",
       "datetime                       \n",
       "2018-03-01 00:00:00         124\n",
       "2018-03-01 01:00:00          85\n",
       "2018-03-01 02:00:00          71\n",
       "2018-03-01 03:00:00          66\n",
       "2018-03-01 04:00:00          43\n",
       "...                         ...\n",
       "2018-08-31 19:00:00         136\n",
       "2018-08-31 20:00:00         154\n",
       "2018-08-31 21:00:00         159\n",
       "2018-08-31 22:00:00         223\n",
       "2018-08-31 23:00:00         205\n",
       "\n",
       "[4416 rows x 1 columns]"
      ]
     },
     "execution_count": 5,
     "metadata": {},
     "output_type": "execute_result"
    }
   ],
   "source": [
    "df"
   ]
  },
  {
   "cell_type": "code",
   "execution_count": 6,
   "metadata": {},
   "outputs": [
    {
     "data": {
      "text/html": [
       "<div>\n",
       "<style scoped>\n",
       "    .dataframe tbody tr th:only-of-type {\n",
       "        vertical-align: middle;\n",
       "    }\n",
       "\n",
       "    .dataframe tbody tr th {\n",
       "        vertical-align: top;\n",
       "    }\n",
       "\n",
       "    .dataframe thead th {\n",
       "        text-align: right;\n",
       "    }\n",
       "</style>\n",
       "<table border=\"1\" class=\"dataframe\">\n",
       "  <thead>\n",
       "    <tr style=\"text-align: right;\">\n",
       "      <th></th>\n",
       "      <th>num_orders</th>\n",
       "    </tr>\n",
       "    <tr>\n",
       "      <th>datetime</th>\n",
       "      <th></th>\n",
       "    </tr>\n",
       "  </thead>\n",
       "  <tbody>\n",
       "    <tr>\n",
       "      <th>2018-03-01 00:00:00</th>\n",
       "      <td>124</td>\n",
       "    </tr>\n",
       "    <tr>\n",
       "      <th>2018-03-01 01:00:00</th>\n",
       "      <td>85</td>\n",
       "    </tr>\n",
       "    <tr>\n",
       "      <th>2018-03-01 02:00:00</th>\n",
       "      <td>71</td>\n",
       "    </tr>\n",
       "    <tr>\n",
       "      <th>2018-03-01 03:00:00</th>\n",
       "      <td>66</td>\n",
       "    </tr>\n",
       "    <tr>\n",
       "      <th>2018-03-01 04:00:00</th>\n",
       "      <td>43</td>\n",
       "    </tr>\n",
       "  </tbody>\n",
       "</table>\n",
       "</div>"
      ],
      "text/plain": [
       "                     num_orders\n",
       "datetime                       \n",
       "2018-03-01 00:00:00         124\n",
       "2018-03-01 01:00:00          85\n",
       "2018-03-01 02:00:00          71\n",
       "2018-03-01 03:00:00          66\n",
       "2018-03-01 04:00:00          43"
      ]
     },
     "execution_count": 6,
     "metadata": {},
     "output_type": "execute_result"
    }
   ],
   "source": [
    "df.head()"
   ]
  },
  {
   "cell_type": "markdown",
   "metadata": {},
   "source": [
    "Видим, что после ресемплирования у нас стало в шесть раз меньше строк (так как десятиминутные отрезки мы соединили в часовые), и что мы располагаем данными за весну-лето 2018 года. Соответственно, элементы сезонности, повторяющиеся из года в год, мы увидеть не сможем. "
   ]
  },
  {
   "cell_type": "markdown",
   "metadata": {},
   "source": [
    "Данные подготовлены: проверены на дубликаты и пропуски, ресемплированы по 1 часу, переходим к анализу."
   ]
  },
  {
   "cell_type": "markdown",
   "metadata": {},
   "source": [
    "## Анализ"
   ]
  },
  {
   "cell_type": "markdown",
   "metadata": {},
   "source": [
    "Данные приведены к необходимому виду. Перейдем к их анализу. Начнем с трендов и сезонности."
   ]
  },
  {
   "cell_type": "code",
   "execution_count": 7,
   "metadata": {},
   "outputs": [
    {
     "data": {
      "text/html": [
       "<div>\n",
       "<style scoped>\n",
       "    .dataframe tbody tr th:only-of-type {\n",
       "        vertical-align: middle;\n",
       "    }\n",
       "\n",
       "    .dataframe tbody tr th {\n",
       "        vertical-align: top;\n",
       "    }\n",
       "\n",
       "    .dataframe thead th {\n",
       "        text-align: right;\n",
       "    }\n",
       "</style>\n",
       "<table border=\"1\" class=\"dataframe\">\n",
       "  <thead>\n",
       "    <tr style=\"text-align: right;\">\n",
       "      <th></th>\n",
       "      <th>num_orders</th>\n",
       "    </tr>\n",
       "  </thead>\n",
       "  <tbody>\n",
       "    <tr>\n",
       "      <th>count</th>\n",
       "      <td>4416.000000</td>\n",
       "    </tr>\n",
       "    <tr>\n",
       "      <th>mean</th>\n",
       "      <td>84.422781</td>\n",
       "    </tr>\n",
       "    <tr>\n",
       "      <th>std</th>\n",
       "      <td>45.023853</td>\n",
       "    </tr>\n",
       "    <tr>\n",
       "      <th>min</th>\n",
       "      <td>0.000000</td>\n",
       "    </tr>\n",
       "    <tr>\n",
       "      <th>25%</th>\n",
       "      <td>54.000000</td>\n",
       "    </tr>\n",
       "    <tr>\n",
       "      <th>50%</th>\n",
       "      <td>78.000000</td>\n",
       "    </tr>\n",
       "    <tr>\n",
       "      <th>75%</th>\n",
       "      <td>107.000000</td>\n",
       "    </tr>\n",
       "    <tr>\n",
       "      <th>max</th>\n",
       "      <td>462.000000</td>\n",
       "    </tr>\n",
       "  </tbody>\n",
       "</table>\n",
       "</div>"
      ],
      "text/plain": [
       "        num_orders\n",
       "count  4416.000000\n",
       "mean     84.422781\n",
       "std      45.023853\n",
       "min       0.000000\n",
       "25%      54.000000\n",
       "50%      78.000000\n",
       "75%     107.000000\n",
       "max     462.000000"
      ]
     },
     "execution_count": 7,
     "metadata": {},
     "output_type": "execute_result"
    }
   ],
   "source": [
    "df.describe()"
   ]
  },
  {
   "cell_type": "code",
   "execution_count": 8,
   "metadata": {},
   "outputs": [
    {
     "data": {
      "image/png": "[encoded data removed]",
      "text/plain": [
       "<Figure size 576x1080 with 3 Axes>"
      ]
     },
     "metadata": {
      "needs_background": "light"
     },
     "output_type": "display_data"
    }
   ],
   "source": [
    "decomposed = seasonal_decompose(df)\n",
    "\n",
    "plt.figure(figsize=(8, 15))\n",
    "plt.subplot(311)\n",
    "decomposed.trend.plot(ax=plt.gca())\n",
    "plt.title('Trend')\n",
    "plt.subplot(312)\n",
    "decomposed.seasonal.plot(ax=plt.gca())\n",
    "plt.title('Seasonality')\n",
    "plt.subplot(313)\n",
    "decomposed.resid.plot(ax=plt.gca())\n",
    "\n",
    "plt.title('Residuals')\n",
    "plt.tight_layout()"
   ]
  },
  {
   "cell_type": "markdown",
   "metadata": {},
   "source": [
    "Наблюдаем явный тренд на увеличение количества заказов с каждым новым месяцем. Сезонность рассмотрим на более узком временном участке в 2 недели."
   ]
  },
  {
   "cell_type": "code",
   "execution_count": 9,
   "metadata": {
    "scrolled": true
   },
   "outputs": [
    {
     "data": {
      "image/png": "[encoded data removed]",
      "text/plain": [
       "<Figure size 1080x288 with 1 Axes>"
      ]
     },
     "metadata": {
      "needs_background": "light"
     },
     "output_type": "display_data"
    }
   ],
   "source": [
    "decomposed.seasonal['2018-03-01':'2018-03-15'].plot(figsize = (15,4), title='График сезонности с 1 по 15 марта 2018 года')\n",
    "plt.show()"
   ]
  },
  {
   "cell_type": "markdown",
   "metadata": {},
   "source": [
    "Уже понятнее: видим ежедневно 3 пика, включая самый высокий в районе перехода в новый день - вероятно, в районе полуночи. Посмотрим еще детальнее:"
   ]
  },
  {
   "cell_type": "code",
   "execution_count": 10,
   "metadata": {},
   "outputs": [
    {
     "data": {
      "image/png": "[encoded data removed]",
      "text/plain": [
       "<Figure size 1080x288 with 1 Axes>"
      ]
     },
     "metadata": {
      "needs_background": "light"
     },
     "output_type": "display_data"
    }
   ],
   "source": [
    "decomposed.seasonal['2018-03-01':'2018-03-02'].plot(figsize = (15,4), title='График сезонности с 1 по 2 марта 2018 года')\n",
    "plt.show()\n"
   ]
  },
  {
   "cell_type": "markdown",
   "metadata": {},
   "source": [
    "По этому графику уже можно сделать более конкретные выводы:\n",
    "1) Абсолютный минимум заказов такси в аэропорту - в районе 6 утра. Вероятно, связано с графиком прибывающих самолётов.\n",
    "\n",
    "2) Первый пик - в районе 8-10 часов утра. Вероятно, прилетевшие пассажиры желают избежать часа пик в общественном транспорте с чемоданами или спешат на работу.\n",
    "\n",
    "3) Похожая картина в районе 16 часов, объяснение про чемоданы и час пик может быть применено и здесь.\n",
    "\n",
    "4) Абсолютный пик - в районе полуночи. Вероятно, общественный транспорт уже не ходит, а добираться из аэропорта как-то надо."
   ]
  },
  {
   "cell_type": "markdown",
   "metadata": {},
   "source": [
    "Предположим, что наряду с суточной сезонностью есть и недельная. Построим график, чтобы это проверить:"
   ]
  },
  {
   "cell_type": "code",
   "execution_count": 11,
   "metadata": {},
   "outputs": [
    {
     "data": {
      "image/png": "[encoded data removed]",
      "text/plain": [
       "<Figure size 1080x288 with 1 Axes>"
      ]
     },
     "metadata": {
      "needs_background": "light"
     },
     "output_type": "display_data"
    }
   ],
   "source": [
    "decomposed = seasonal_decompose(df.resample('1D').sum())\n",
    "decomposed.seasonal['2018-03-01':'2018-03-31'].plot(figsize = (15,4), title='График недельной сезонности за март 2018 года')\n",
    "plt.show()"
   ]
  },
  {
   "cell_type": "markdown",
   "metadata": {},
   "source": [
    "Выводы по графику: \n",
    "- Наблюдается чёткая недельная сезонность.\n",
    "- Самый нагруженный день - пятница, следом за ним понедельник и четверг. \n",
    "- Меньше всего заказов такси - во вторник и воскресенье."
   ]
  },
  {
   "cell_type": "markdown",
   "metadata": {},
   "source": [
    "## Обучение"
   ]
  },
  {
   "cell_type": "markdown",
   "metadata": {},
   "source": [
    "В исходной таблице всего 1 столбец - количество заказов. Для обучения моделей необходимо создать дополнительные признаки. Для этого напишем функцию make_features(), в которую добавим:\n",
    "\n",
    "1) Календарные признаки. Так как в нашей таблице содержатся только данные за полгода, то выделим следующие признаки: день недели, часы.\n",
    "\n",
    "2) Предыдущие значения. Cоздадим столбцы с отстающими значениями с максимальным размером отставания в 5 часов.\n",
    "\n",
    "3) Cкользящее среднее. Ранее мы выяснили, что пики заказов приходятся на промежутки по 2-4 часа. Поэтому зададим ширину окна в 3 часа. Помимо этого создадим скользящее среднее по дням (24 часа) и за 3 дня, так как ранее мы выявили недельную сезонность.\n",
    "\n"
   ]
  },
  {
   "cell_type": "code",
   "execution_count": 13,
   "metadata": {},
   "outputs": [
    {
     "name": "stdout",
     "output_type": "stream",
     "text": [
      "                     num_orders  dayofweek  hour  lag_1  lag_2  lag_3  lag_4  \\\n",
      "datetime                                                                       \n",
      "2018-03-01 00:00:00         124          3     0    NaN    NaN    NaN    NaN   \n",
      "2018-03-01 01:00:00          85          3     1  124.0    NaN    NaN    NaN   \n",
      "2018-03-01 02:00:00          71          3     2   85.0  124.0    NaN    NaN   \n",
      "2018-03-01 03:00:00          66          3     3   71.0   85.0  124.0    NaN   \n",
      "2018-03-01 04:00:00          43          3     4   66.0   71.0   85.0  124.0   \n",
      "\n",
      "                     lag_5  rolling_mean  rolling_mean_24  rolling_mean_3days  \n",
      "datetime                                                                       \n",
      "2018-03-01 00:00:00    NaN           NaN              NaN                 NaN  \n",
      "2018-03-01 01:00:00    NaN           NaN              NaN                 NaN  \n",
      "2018-03-01 02:00:00    NaN           NaN              NaN                 NaN  \n",
      "2018-03-01 03:00:00    NaN     93.333333              NaN                 NaN  \n",
      "2018-03-01 04:00:00    NaN     74.000000              NaN                 NaN  \n"
     ]
    }
   ],
   "source": [
    "def make_features(data, max_lag, rolling_mean_size):\n",
    "    frame = data.copy()\n",
    "    frame['dayofweek'] = frame.index.dayofweek\n",
    "    frame['hour'] = frame.index.hour\n",
    "    \n",
    "    for lag in range(1, max_lag + 1):\n",
    "        frame['lag_{}'.format(lag)] = frame['num_orders'].shift(lag)\n",
    "\n",
    "    frame['rolling_mean'] = frame['num_orders'].shift().rolling(rolling_mean_size).mean()\n",
    "    frame['rolling_mean_24'] = frame['num_orders'].shift().rolling(24).mean()#скользящее среднее за сутки\n",
    "    frame['rolling_mean_3days'] = frame['num_orders'].shift().rolling(72).mean()#скользящее среднее за 3 суток\n",
    "    return frame\n",
    "\n",
    "data = make_features(df, 5, 3)\n",
    "print(data.head())"
   ]
  },
  {
   "cell_type": "markdown",
   "metadata": {},
   "source": [
    "Модели не смогут обрабатывать строки с пропусками, а нам нечем их заполнять. Придётся удалить."
   ]
  },
  {
   "cell_type": "code",
   "execution_count": 14,
   "metadata": {},
   "outputs": [],
   "source": [
    "data = data.dropna()"
   ]
  },
  {
   "cell_type": "markdown",
   "metadata": {},
   "source": [
    "Добавим также столбец, содержащий разницу между количеством заказов в предыдущий и предшествующий тому часы:"
   ]
  },
  {
   "cell_type": "code",
   "execution_count": 15,
   "metadata": {},
   "outputs": [],
   "source": [
    "data['lag_1-lag_2'] = data['lag_1']-data['lag_2']"
   ]
  },
  {
   "cell_type": "markdown",
   "metadata": {},
   "source": [
    "Перейдем к разделению выборок."
   ]
  },
  {
   "cell_type": "code",
   "execution_count": 16,
   "metadata": {},
   "outputs": [],
   "source": [
    "train, test = train_test_split(data, test_size=0.1, shuffle=False)"
   ]
  },
  {
   "cell_type": "code",
   "execution_count": 17,
   "metadata": {
    "scrolled": false
   },
   "outputs": [
    {
     "name": "stdout",
     "output_type": "stream",
     "text": [
      "2018-03-04 00:00:00 2018-08-13 20:00:00\n",
      "2018-08-13 21:00:00 2018-08-31 23:00:00\n"
     ]
    }
   ],
   "source": [
    "#Проверка выборок\n",
    "print(train.index.min(), train.index.max())\n",
    "print(test.index.min(), test.index.max())"
   ]
  },
  {
   "cell_type": "markdown",
   "metadata": {},
   "source": [
    "Выборки разделены корректно, даты не перемешаны."
   ]
  },
  {
   "cell_type": "code",
   "execution_count": 18,
   "metadata": {},
   "outputs": [],
   "source": [
    "X_train = train.drop('num_orders', axis=1)\n",
    "y_train = train['num_orders']\n",
    "\n",
    "X_test = test.drop('num_orders', axis=1)\n",
    "y_test = test['num_orders']"
   ]
  },
  {
   "cell_type": "markdown",
   "metadata": {},
   "source": [
    "### Линейная регрессия"
   ]
  },
  {
   "cell_type": "markdown",
   "metadata": {},
   "source": [
    "В качестве первой модели попробуем линейную регрессию."
   ]
  },
  {
   "cell_type": "code",
   "execution_count": 19,
   "metadata": {
    "scrolled": true
   },
   "outputs": [
    {
     "name": "stdout",
     "output_type": "stream",
     "text": [
      "CPU times: user 47.9 ms, sys: 28.5 ms, total: 76.4 ms\n",
      "Wall time: 29 ms\n"
     ]
    }
   ],
   "source": [
    "%%time\n",
    "lr = LinearRegression()\n",
    "mse = cross_val_score(lr, X_train, y_train, cv=5, scoring='neg_mean_squared_error')"
   ]
  },
  {
   "cell_type": "code",
   "execution_count": 20,
   "metadata": {},
   "outputs": [
    {
     "data": {
      "text/plain": [
       "'RMSE для линейной модели на валидационной выборке: 30.78'"
      ]
     },
     "execution_count": 20,
     "metadata": {},
     "output_type": "execute_result"
    }
   ],
   "source": [
    "f\"RMSE для линейной модели на валидационной выборке: {round((-mse.mean()) ** 0.5, 2)}\"\n"
   ]
  },
  {
   "cell_type": "code",
   "execution_count": 21,
   "metadata": {},
   "outputs": [
    {
     "name": "stdout",
     "output_type": "stream",
     "text": [
      "CPU times: user 2.14 ms, sys: 3.63 ms, total: 5.76 ms\n",
      "Wall time: 3.85 ms\n"
     ]
    },
    {
     "data": {
      "text/plain": [
       "LinearRegression()"
      ]
     },
     "execution_count": 21,
     "metadata": {},
     "output_type": "execute_result"
    }
   ],
   "source": [
    "%%time\n",
    "lr = LinearRegression()\n",
    "lr.fit(X_train, y_train)"
   ]
  },
  {
   "cell_type": "code",
   "execution_count": 22,
   "metadata": {},
   "outputs": [
    {
     "name": "stdout",
     "output_type": "stream",
     "text": [
      "CPU times: user 2.75 ms, sys: 0 ns, total: 2.75 ms\n",
      "Wall time: 2.32 ms\n"
     ]
    }
   ],
   "source": [
    "%%time\n",
    "predictions_lr = lr.predict(X_test)"
   ]
  },
  {
   "cell_type": "code",
   "execution_count": 23,
   "metadata": {
    "scrolled": true
   },
   "outputs": [
    {
     "data": {
      "text/plain": [
       "'RMSE для линейной модели на тестовой выборке: 50.03'"
      ]
     },
     "execution_count": 23,
     "metadata": {},
     "output_type": "execute_result"
    }
   ],
   "source": [
    "mse_lr = mean_squared_error(y_test, predictions_lr)\n",
    "f\"RMSE для линейной модели на тестовой выборке: {round((mse_lr) ** 0.5, 2)}\""
   ]
  },
  {
   "cell_type": "markdown",
   "metadata": {},
   "source": [
    "Линейная регрессия показала хорошие результаты на трейне, но не дотягивает до необходимого уровня на тестовой выборке. Попробуем подобрать ей гиперпараметры."
   ]
  },
  {
   "cell_type": "code",
   "execution_count": 24,
   "metadata": {},
   "outputs": [],
   "source": [
    "def rmse(predict, actual):\n",
    "    predict = np.array(predict)\n",
    "    actual = np.array(actual)\n",
    "\n",
    "    distance = predict - actual\n",
    "\n",
    "    square_distance = distance ** 2\n",
    "\n",
    "    mean_square_distance = square_distance.mean()\n",
    "\n",
    "    score = np.sqrt(mean_square_distance)\n",
    "\n",
    "    return score\n",
    "\n",
    "rmse_score = make_scorer(rmse, greater_is_better = False)"
   ]
  },
  {
   "cell_type": "code",
   "execution_count": 25,
   "metadata": {
    "scrolled": true
   },
   "outputs": [
    {
     "name": "stdout",
     "output_type": "stream",
     "text": [
      "CPU times: user 589 ms, sys: 312 ms, total: 901 ms\n",
      "Wall time: 898 ms\n"
     ]
    },
    {
     "data": {
      "text/plain": [
       "{'copy_X': True, 'fit_intercept': False, 'normalize': True}"
      ]
     },
     "execution_count": 25,
     "metadata": {},
     "output_type": "execute_result"
    }
   ],
   "source": [
    "%%time\n",
    "parameters = {'fit_intercept':[True,False], 'normalize':[True,False], 'copy_X':[True, False]}\n",
    "tscv = TimeSeriesSplit(n_splits=5)\n",
    "grid_lr = GridSearchCV(lr, parameters, cv=tscv, scoring = rmse_score, verbose=False)\n",
    "grid_lr.fit(X_train, y_train)\n",
    "grid_lr.best_params_"
   ]
  },
  {
   "cell_type": "code",
   "execution_count": 26,
   "metadata": {},
   "outputs": [
    {
     "data": {
      "text/plain": [
       "-31.571706670134034"
      ]
     },
     "execution_count": 26,
     "metadata": {},
     "output_type": "execute_result"
    }
   ],
   "source": [
    "grid_lr.best_score_"
   ]
  },
  {
   "cell_type": "markdown",
   "metadata": {},
   "source": [
    "### Случайный лес"
   ]
  },
  {
   "cell_type": "code",
   "execution_count": 27,
   "metadata": {},
   "outputs": [
    {
     "name": "stdout",
     "output_type": "stream",
     "text": [
      "CPU times: user 1.89 s, sys: 0 ns, total: 1.89 s\n",
      "Wall time: 1.89 s\n"
     ]
    },
    {
     "data": {
      "text/plain": [
       "{'n_estimators': 7}"
      ]
     },
     "execution_count": 27,
     "metadata": {},
     "output_type": "execute_result"
    }
   ],
   "source": [
    "%%time\n",
    "parameters = {'n_estimators': range(1, 8)}\n",
    "             \n",
    "random_forest = RandomForestRegressor(random_state=12345)\n",
    "tscv = TimeSeriesSplit(n_splits=5)\n",
    "grid_rf = GridSearchCV(random_forest, parameters, cv=tscv, scoring= 'neg_root_mean_squared_error')\n",
    "grid_rf.fit(X_train, y_train)\n",
    "grid_rf.best_params_"
   ]
  },
  {
   "cell_type": "code",
   "execution_count": 28,
   "metadata": {},
   "outputs": [
    {
     "data": {
      "text/plain": [
       "-26.125534161941182"
      ]
     },
     "execution_count": 28,
     "metadata": {},
     "output_type": "execute_result"
    }
   ],
   "source": [
    "grid_rf.best_score_"
   ]
  },
  {
   "cell_type": "markdown",
   "metadata": {},
   "source": [
    "Проверили n_estimators от 1 до 8 с помощью GridSearch, получили RMSE равный 26,1."
   ]
  },
  {
   "cell_type": "markdown",
   "metadata": {},
   "source": [
    "### Catboost"
   ]
  },
  {
   "cell_type": "code",
   "execution_count": 29,
   "metadata": {
    "scrolled": true
   },
   "outputs": [
    {
     "name": "stdout",
     "output_type": "stream",
     "text": [
      "0:\tlearn: 26.5234618\ttotal: 46.3ms\tremaining: 0us\n",
      "0:\tlearn: 27.8552661\ttotal: 412us\tremaining: 0us\n",
      "0:\tlearn: 29.1368784\ttotal: 664us\tremaining: 0us\n",
      "0:\tlearn: 30.1865123\ttotal: 571us\tremaining: 0us\n",
      "0:\tlearn: 31.2258640\ttotal: 655us\tremaining: 0us\n",
      "0:\tlearn: 26.5234618\ttotal: 299us\tremaining: 299us\n",
      "1:\tlearn: 24.0891026\ttotal: 725us\tremaining: 0us\n",
      "0:\tlearn: 27.8552661\ttotal: 510us\tremaining: 510us\n",
      "1:\tlearn: 26.1126097\ttotal: 1.07ms\tremaining: 0us\n",
      "0:\tlearn: 29.1368784\ttotal: 411us\tremaining: 411us\n",
      "1:\tlearn: 27.6434839\ttotal: 947us\tremaining: 0us\n",
      "0:\tlearn: 30.1865123\ttotal: 527us\tremaining: 527us\n",
      "1:\tlearn: 29.2264638\ttotal: 1.16ms\tremaining: 0us\n",
      "0:\tlearn: 31.2258640\ttotal: 586us\tremaining: 586us\n",
      "1:\tlearn: 30.4818022\ttotal: 1.16ms\tremaining: 0us\n",
      "0:\tlearn: 26.5234618\ttotal: 254us\tremaining: 509us\n",
      "1:\tlearn: 24.0891026\ttotal: 660us\tremaining: 330us\n",
      "2:\tlearn: 22.8735346\ttotal: 825us\tremaining: 0us\n",
      "0:\tlearn: 27.8552661\ttotal: 332us\tremaining: 664us\n",
      "1:\tlearn: 26.1126097\ttotal: 756us\tremaining: 378us\n",
      "2:\tlearn: 24.8115729\ttotal: 976us\tremaining: 0us\n",
      "0:\tlearn: 29.1368784\ttotal: 885us\tremaining: 1.77ms\n",
      "1:\tlearn: 27.6434839\ttotal: 1.51ms\tremaining: 755us\n",
      "2:\tlearn: 26.9064174\ttotal: 2.06ms\tremaining: 0us\n",
      "0:\tlearn: 30.1865123\ttotal: 515us\tremaining: 1.03ms\n",
      "1:\tlearn: 29.2264638\ttotal: 1.1ms\tremaining: 552us\n",
      "2:\tlearn: 27.9160012\ttotal: 1.51ms\tremaining: 0us\n",
      "0:\tlearn: 31.2258640\ttotal: 469us\tremaining: 938us\n",
      "1:\tlearn: 30.4818022\ttotal: 1.09ms\tremaining: 547us\n",
      "2:\tlearn: 28.9755695\ttotal: 1.51ms\tremaining: 0us\n",
      "0:\tlearn: 26.5234618\ttotal: 251us\tremaining: 755us\n",
      "1:\tlearn: 24.0891026\ttotal: 712us\tremaining: 712us\n",
      "2:\tlearn: 22.8735346\ttotal: 951us\tremaining: 317us\n",
      "3:\tlearn: 22.3837053\ttotal: 1.12ms\tremaining: 0us\n",
      "0:\tlearn: 27.8552661\ttotal: 335us\tremaining: 1ms\n",
      "1:\tlearn: 26.1126097\ttotal: 860us\tremaining: 860us\n",
      "2:\tlearn: 24.8115729\ttotal: 1.1ms\tremaining: 367us\n",
      "3:\tlearn: 23.8488516\ttotal: 1.36ms\tremaining: 0us\n",
      "0:\tlearn: 29.1368784\ttotal: 404us\tremaining: 1.21ms\n",
      "1:\tlearn: 27.6434839\ttotal: 836us\tremaining: 836us\n",
      "2:\tlearn: 26.9064174\ttotal: 1.19ms\tremaining: 396us\n",
      "3:\tlearn: 25.7065317\ttotal: 1.49ms\tremaining: 0us\n",
      "0:\tlearn: 30.1865123\ttotal: 513us\tremaining: 1.54ms\n",
      "1:\tlearn: 29.2264638\ttotal: 1.18ms\tremaining: 1.18ms\n",
      "2:\tlearn: 27.9160012\ttotal: 1.56ms\tremaining: 520us\n",
      "3:\tlearn: 26.8646919\ttotal: 1.91ms\tremaining: 0us\n",
      "0:\tlearn: 31.2258640\ttotal: 578us\tremaining: 1.73ms\n",
      "1:\tlearn: 30.4818022\ttotal: 1.13ms\tremaining: 1.13ms\n",
      "2:\tlearn: 28.9755695\ttotal: 1.59ms\tremaining: 528us\n",
      "3:\tlearn: 28.2403782\ttotal: 1.99ms\tremaining: 0us\n",
      "0:\tlearn: 24.0383201\ttotal: 478us\tremaining: 0us\n",
      "0:\tlearn: 26.0827041\ttotal: 566us\tremaining: 0us\n",
      "0:\tlearn: 27.5251759\ttotal: 621us\tremaining: 0us\n",
      "0:\tlearn: 29.1341786\ttotal: 968us\tremaining: 0us\n",
      "0:\tlearn: 29.3135773\ttotal: 819us\tremaining: 0us\n",
      "0:\tlearn: 24.0383201\ttotal: 455us\tremaining: 455us\n",
      "1:\tlearn: 22.4144514\ttotal: 1.01ms\tremaining: 0us\n",
      "0:\tlearn: 26.0827041\ttotal: 492us\tremaining: 492us\n",
      "1:\tlearn: 24.4245241\ttotal: 1.15ms\tremaining: 0us\n",
      "0:\tlearn: 27.5251759\ttotal: 615us\tremaining: 615us\n",
      "1:\tlearn: 25.4998210\ttotal: 1.26ms\tremaining: 0us\n",
      "0:\tlearn: 29.1341786\ttotal: 1.04ms\tremaining: 1.04ms\n",
      "1:\tlearn: 26.4489485\ttotal: 2.19ms\tremaining: 0us\n",
      "0:\tlearn: 29.3135773\ttotal: 758us\tremaining: 758us\n",
      "1:\tlearn: 27.0938497\ttotal: 1.56ms\tremaining: 0us\n",
      "0:\tlearn: 24.0383201\ttotal: 336us\tremaining: 673us\n",
      "1:\tlearn: 22.4144514\ttotal: 751us\tremaining: 375us\n",
      "2:\tlearn: 21.5220461\ttotal: 1.1ms\tremaining: 0us\n",
      "0:\tlearn: 26.0827041\ttotal: 680us\tremaining: 1.36ms\n",
      "1:\tlearn: 24.4245241\ttotal: 1.55ms\tremaining: 773us\n",
      "2:\tlearn: 23.4052086\ttotal: 2.2ms\tremaining: 0us\n",
      "0:\tlearn: 27.5251759\ttotal: 831us\tremaining: 1.66ms\n",
      "1:\tlearn: 25.4998210\ttotal: 1.71ms\tremaining: 856us\n",
      "2:\tlearn: 24.6684164\ttotal: 2.39ms\tremaining: 0us\n",
      "0:\tlearn: 29.1341786\ttotal: 1.04ms\tremaining: 2.08ms\n",
      "1:\tlearn: 26.4489485\ttotal: 2.04ms\tremaining: 1.02ms\n",
      "2:\tlearn: 25.4620104\ttotal: 2.83ms\tremaining: 0us\n",
      "0:\tlearn: 29.3135773\ttotal: 689us\tremaining: 1.38ms\n",
      "1:\tlearn: 27.0938497\ttotal: 1.46ms\tremaining: 730us\n",
      "2:\tlearn: 26.5501354\ttotal: 2.09ms\tremaining: 0us\n",
      "0:\tlearn: 24.0383201\ttotal: 538us\tremaining: 1.61ms\n",
      "1:\tlearn: 22.4144514\ttotal: 1.21ms\tremaining: 1.21ms\n",
      "2:\tlearn: 21.5220461\ttotal: 1.75ms\tremaining: 585us\n",
      "3:\tlearn: 20.7621623\ttotal: 2.25ms\tremaining: 0us\n",
      "0:\tlearn: 26.0827041\ttotal: 494us\tremaining: 1.48ms\n",
      "1:\tlearn: 24.4245241\ttotal: 1.05ms\tremaining: 1.05ms\n",
      "2:\tlearn: 23.4052086\ttotal: 1.54ms\tremaining: 514us\n",
      "3:\tlearn: 22.6957445\ttotal: 2.02ms\tremaining: 0us\n",
      "0:\tlearn: 27.5251759\ttotal: 641us\tremaining: 1.93ms\n",
      "1:\tlearn: 25.4998210\ttotal: 1.27ms\tremaining: 1.27ms\n",
      "2:\tlearn: 24.6684164\ttotal: 1.72ms\tremaining: 574us\n",
      "3:\tlearn: 23.9943680\ttotal: 2.19ms\tremaining: 0us\n",
      "0:\tlearn: 29.1341786\ttotal: 607us\tremaining: 1.82ms\n",
      "1:\tlearn: 26.4489485\ttotal: 1.45ms\tremaining: 1.45ms\n",
      "2:\tlearn: 25.4620104\ttotal: 2.02ms\tremaining: 673us\n",
      "3:\tlearn: 24.5067126\ttotal: 2.56ms\tremaining: 0us\n",
      "0:\tlearn: 29.3135773\ttotal: 710us\tremaining: 2.13ms\n",
      "1:\tlearn: 27.0938497\ttotal: 1.55ms\tremaining: 1.55ms\n",
      "2:\tlearn: 26.5501354\ttotal: 2.1ms\tremaining: 700us\n",
      "3:\tlearn: 25.2634051\ttotal: 2.63ms\tremaining: 0us\n",
      "0:\tlearn: 23.5793111\ttotal: 594us\tremaining: 0us\n",
      "0:\tlearn: 23.8451228\ttotal: 728us\tremaining: 0us\n",
      "0:\tlearn: 25.0635435\ttotal: 762us\tremaining: 0us\n",
      "0:\tlearn: 28.7314201\ttotal: 943us\tremaining: 0us\n",
      "0:\tlearn: 27.2123349\ttotal: 1.1ms\tremaining: 0us\n",
      "0:\tlearn: 23.5793111\ttotal: 823us\tremaining: 823us\n",
      "1:\tlearn: 20.8802258\ttotal: 1.63ms\tremaining: 0us\n",
      "0:\tlearn: 23.8451228\ttotal: 1.1ms\tremaining: 1.1ms\n",
      "1:\tlearn: 22.1789657\ttotal: 2.04ms\tremaining: 0us\n",
      "0:\tlearn: 25.0635435\ttotal: 887us\tremaining: 887us\n",
      "1:\tlearn: 23.0050626\ttotal: 1.68ms\tremaining: 0us\n",
      "0:\tlearn: 28.7314201\ttotal: 877us\tremaining: 877us\n",
      "1:\tlearn: 25.1743165\ttotal: 1.89ms\tremaining: 0us\n",
      "0:\tlearn: 27.2123349\ttotal: 1.53ms\tremaining: 1.53ms\n",
      "1:\tlearn: 24.8707565\ttotal: 2.94ms\tremaining: 0us\n",
      "0:\tlearn: 23.5793111\ttotal: 589us\tremaining: 1.18ms\n",
      "1:\tlearn: 20.8802258\ttotal: 1.24ms\tremaining: 618us\n",
      "2:\tlearn: 20.5396696\ttotal: 1.67ms\tremaining: 0us\n",
      "0:\tlearn: 23.8451228\ttotal: 612us\tremaining: 1.22ms\n",
      "1:\tlearn: 22.1789657\ttotal: 1.2ms\tremaining: 599us\n",
      "2:\tlearn: 21.4607687\ttotal: 1.82ms\tremaining: 0us\n",
      "0:\tlearn: 25.0635435\ttotal: 797us\tremaining: 1.59ms\n",
      "1:\tlearn: 23.0050626\ttotal: 1.72ms\tremaining: 859us\n",
      "2:\tlearn: 22.2768475\ttotal: 2.38ms\tremaining: 0us\n",
      "0:\tlearn: 28.7314201\ttotal: 846us\tremaining: 1.69ms\n",
      "1:\tlearn: 25.1743165\ttotal: 1.75ms\tremaining: 877us\n",
      "2:\tlearn: 24.0960034\ttotal: 2.54ms\tremaining: 0us\n",
      "0:\tlearn: 27.2123349\ttotal: 1.02ms\tremaining: 2.04ms\n",
      "1:\tlearn: 24.8707565\ttotal: 2.16ms\tremaining: 1.08ms\n",
      "2:\tlearn: 24.1234367\ttotal: 3.1ms\tremaining: 0us\n",
      "0:\tlearn: 23.5793111\ttotal: 616us\tremaining: 1.85ms\n",
      "1:\tlearn: 20.8802258\ttotal: 1.34ms\tremaining: 1.34ms\n",
      "2:\tlearn: 20.5396696\ttotal: 1.82ms\tremaining: 607us\n",
      "3:\tlearn: 20.0607831\ttotal: 2.31ms\tremaining: 0us\n",
      "0:\tlearn: 23.8451228\ttotal: 771us\tremaining: 2.31ms\n",
      "1:\tlearn: 22.1789657\ttotal: 1.48ms\tremaining: 1.48ms\n",
      "2:\tlearn: 21.4607687\ttotal: 2.07ms\tremaining: 690us\n",
      "3:\tlearn: 21.3141364\ttotal: 2.73ms\tremaining: 0us\n",
      "0:\tlearn: 25.0635435\ttotal: 882us\tremaining: 2.65ms\n",
      "1:\tlearn: 23.0050626\ttotal: 1.96ms\tremaining: 1.96ms\n",
      "2:\tlearn: 22.2768475\ttotal: 2.95ms\tremaining: 984us\n",
      "3:\tlearn: 21.8964365\ttotal: 4.02ms\tremaining: 0us\n",
      "0:\tlearn: 28.7314201\ttotal: 908us\tremaining: 2.73ms\n",
      "1:\tlearn: 25.1743165\ttotal: 1.8ms\tremaining: 1.8ms\n",
      "2:\tlearn: 24.0960034\ttotal: 2.51ms\tremaining: 836us\n",
      "3:\tlearn: 23.5235591\ttotal: 3.29ms\tremaining: 0us\n",
      "0:\tlearn: 27.2123349\ttotal: 941us\tremaining: 2.82ms\n",
      "1:\tlearn: 24.8707565\ttotal: 1.89ms\tremaining: 1.89ms\n",
      "2:\tlearn: 24.1234367\ttotal: 2.71ms\tremaining: 904us\n",
      "3:\tlearn: 23.8825275\ttotal: 3.55ms\tremaining: 0us\n",
      "0:\tlearn: 22.2635412\ttotal: 1.28ms\tremaining: 0us\n",
      "0:\tlearn: 23.4127008\ttotal: 999us\tremaining: 0us\n",
      "0:\tlearn: 24.5534591\ttotal: 1.05ms\tremaining: 0us\n",
      "0:\tlearn: 27.2671989\ttotal: 1.9ms\tremaining: 0us\n",
      "0:\tlearn: 25.7921698\ttotal: 1.31ms\tremaining: 0us\n",
      "0:\tlearn: 22.2635412\ttotal: 687us\tremaining: 687us\n",
      "1:\tlearn: 19.5215031\ttotal: 1.67ms\tremaining: 0us\n",
      "0:\tlearn: 23.4127008\ttotal: 1.04ms\tremaining: 1.04ms\n",
      "1:\tlearn: 21.7373500\ttotal: 2.07ms\tremaining: 0us\n",
      "0:\tlearn: 24.5534591\ttotal: 1.04ms\tremaining: 1.04ms\n",
      "1:\tlearn: 22.4317230\ttotal: 2.14ms\tremaining: 0us\n",
      "0:\tlearn: 27.2671989\ttotal: 1.51ms\tremaining: 1.51ms\n",
      "1:\tlearn: 24.5515001\ttotal: 3.16ms\tremaining: 0us\n",
      "0:\tlearn: 25.7921698\ttotal: 1.26ms\tremaining: 1.26ms\n",
      "1:\tlearn: 24.1154170\ttotal: 2.37ms\tremaining: 0us\n",
      "0:\tlearn: 22.2635412\ttotal: 1.14ms\tremaining: 2.28ms\n",
      "1:\tlearn: 19.5215031\ttotal: 2.21ms\tremaining: 1.1ms\n",
      "2:\tlearn: 18.7438654\ttotal: 3.18ms\tremaining: 0us\n",
      "0:\tlearn: 23.4127008\ttotal: 880us\tremaining: 1.76ms\n",
      "1:\tlearn: 21.7373500\ttotal: 1.84ms\tremaining: 918us\n",
      "2:\tlearn: 20.7383335\ttotal: 2.63ms\tremaining: 0us\n",
      "0:\tlearn: 24.5534591\ttotal: 1.1ms\tremaining: 2.21ms\n",
      "1:\tlearn: 22.4317230\ttotal: 2.14ms\tremaining: 1.07ms\n",
      "2:\tlearn: 21.7695469\ttotal: 2.97ms\tremaining: 0us\n",
      "0:\tlearn: 27.2671989\ttotal: 1.1ms\tremaining: 2.21ms\n",
      "1:\tlearn: 24.5515001\ttotal: 2.3ms\tremaining: 1.15ms\n",
      "2:\tlearn: 23.0799144\ttotal: 3.34ms\tremaining: 0us\n",
      "0:\tlearn: 25.7921698\ttotal: 1.21ms\tremaining: 2.42ms\n",
      "1:\tlearn: 24.1154170\ttotal: 2.57ms\tremaining: 1.29ms\n",
      "2:\tlearn: 23.8328300\ttotal: 3.57ms\tremaining: 0us\n",
      "0:\tlearn: 22.2635412\ttotal: 670us\tremaining: 2.01ms\n",
      "1:\tlearn: 19.5215031\ttotal: 1.63ms\tremaining: 1.63ms\n",
      "2:\tlearn: 18.7438654\ttotal: 2.55ms\tremaining: 849us\n",
      "3:\tlearn: 17.8023818\ttotal: 3.33ms\tremaining: 0us\n",
      "0:\tlearn: 23.4127008\ttotal: 876us\tremaining: 2.63ms\n",
      "1:\tlearn: 21.7373500\ttotal: 1.96ms\tremaining: 1.96ms\n",
      "2:\tlearn: 20.7383335\ttotal: 2.91ms\tremaining: 970us\n",
      "3:\tlearn: 20.4693595\ttotal: 3.71ms\tremaining: 0us\n",
      "0:\tlearn: 24.5534591\ttotal: 1.63ms\tremaining: 4.88ms\n",
      "1:\tlearn: 22.4317230\ttotal: 3.1ms\tremaining: 3.1ms\n",
      "2:\tlearn: 21.7695469\ttotal: 4.52ms\tremaining: 1.51ms\n",
      "3:\tlearn: 21.2512885\ttotal: 5.85ms\tremaining: 0us\n",
      "0:\tlearn: 27.2671989\ttotal: 1.05ms\tremaining: 3.15ms\n",
      "1:\tlearn: 24.5515001\ttotal: 2.3ms\tremaining: 2.3ms\n",
      "2:\tlearn: 23.0799144\ttotal: 3.31ms\tremaining: 1.1ms\n",
      "3:\tlearn: 22.5350434\ttotal: 4.28ms\tremaining: 0us\n",
      "0:\tlearn: 25.7921698\ttotal: 1.28ms\tremaining: 3.84ms\n",
      "1:\tlearn: 24.1154170\ttotal: 2.43ms\tremaining: 2.43ms\n",
      "2:\tlearn: 23.8328300\ttotal: 3.55ms\tremaining: 1.18ms\n",
      "3:\tlearn: 23.2912514\ttotal: 5.31ms\tremaining: 0us\n",
      "0:\tlearn: 30.3772176\ttotal: 2.23ms\tremaining: 6.68ms\n",
      "1:\tlearn: 28.3806165\ttotal: 3.94ms\tremaining: 3.94ms\n",
      "2:\tlearn: 28.1479683\ttotal: 5.45ms\tremaining: 1.82ms\n",
      "3:\tlearn: 26.5011101\ttotal: 6.57ms\tremaining: 0us\n",
      "CPU times: user 1.06 s, sys: 178 ms, total: 1.24 s\n",
      "Wall time: 44.9 s\n"
     ]
    },
    {
     "data": {
      "text/plain": [
       "{'depth': 4, 'iterations': 4}"
      ]
     },
     "execution_count": 29,
     "metadata": {},
     "output_type": "execute_result"
    }
   ],
   "source": [
    "%%time\n",
    "parameters = {'depth': range(1, 5),\n",
    "            'iterations': range(1,5) }\n",
    "\n",
    "             \n",
    "catboost = CatBoostRegressor(random_state=12345, learning_rate=1)\n",
    "train_pool = Pool(X_train, y_train)\n",
    "tscv = TimeSeriesSplit(n_splits=5)\n",
    "grid = GridSearchCV(catboost, parameters, cv=tscv, scoring = 'neg_root_mean_squared_error')\n",
    "grid.fit(X_train, y_train)\n",
    "grid.best_params_\n",
    "\n"
   ]
  },
  {
   "cell_type": "code",
   "execution_count": 30,
   "metadata": {},
   "outputs": [
    {
     "data": {
      "text/plain": [
       "-28.40741408196043"
      ]
     },
     "execution_count": 30,
     "metadata": {},
     "output_type": "execute_result"
    }
   ],
   "source": [
    "grid.best_score_"
   ]
  },
  {
   "cell_type": "markdown",
   "metadata": {},
   "source": [
    "## Тестирование"
   ]
  },
  {
   "cell_type": "markdown",
   "metadata": {},
   "source": [
    "Лучший результат на обучающей выборке показала модель случайного леса. Проверим ее на тестовых."
   ]
  },
  {
   "cell_type": "code",
   "execution_count": 31,
   "metadata": {},
   "outputs": [
    {
     "data": {
      "text/plain": [
       "46.150242155852936"
      ]
     },
     "execution_count": 31,
     "metadata": {},
     "output_type": "execute_result"
    }
   ],
   "source": [
    "random_forest = RandomForestRegressor(random_state=12345, n_estimators=7)\n",
    "random_forest.fit(X_train, y_train)\n",
    "predictions = random_forest.predict(X_test)\n",
    "rmse = mean_squared_error(y_test, predictions, squared=False)\n",
    "rmse\n",
    "\n"
   ]
  },
  {
   "cell_type": "markdown",
   "metadata": {},
   "source": [
    "Целевой показатель (RMSE=48) побит, модель удовлетворяет условиям проекта. "
   ]
  },
  {
   "cell_type": "code",
   "execution_count": 32,
   "metadata": {},
   "outputs": [
    {
     "data": {
      "image/png": "[encoded data removed]",
      "text/plain": [
       "<Figure size 1080x360 with 1 Axes>"
      ]
     },
     "metadata": {
      "needs_background": "light"
     },
     "output_type": "display_data"
    }
   ],
   "source": [
    "#Для наглядной интерпретации результатов выведем график реальных и предсказанных заказов:\n",
    "\n",
    "taxi_predictions = pd.DataFrame()\n",
    "taxi_predictions['real_orders'] = y_test\n",
    "taxi_predictions['predictions'] = predictions\n",
    "taxi_predictions.plot(figsize=(15,5), title='Прогноз VS. факт')\n",
    "plt.show()"
   ]
  },
  {
   "cell_type": "markdown",
   "metadata": {},
   "source": [
    "Модель слабовато предсказывает выбивающиеся из общего тренда пики (они для нее действительно неожиданны), но неплохо справляется со средними значениями. Почти никогда не предсказывает количество заказов больше, чем на самом деле: пока предложение не превышает спрос, таксопарк в минусе не останется :)"
   ]
  },
  {
   "cell_type": "markdown",
   "metadata": {},
   "source": [
    "## Общие выводы"
   ]
  },
  {
   "cell_type": "markdown",
   "metadata": {},
   "source": [
    "В работе над проектом мы:\n",
    "\n",
    "- проанализировали датафрейм с временными рядами.\n",
    "\n",
    "- выявили общий тренд - количество заказов такси увеличивается от месяца к месяцу.\n",
    "\n",
    "- определили часовую сезонность: 3 пика заказов приходятся на периоды с 8 до 10,  с 15 до 17, в районе полуночи. Абсолютный минимум заказов приходится на раннее утро.\n",
    "\n",
    "- выявили недельную сезонность: минимум заказов приходится на вторники и воскресенья, максимум - на понедельники и пятницы.\n",
    "\n",
    "- создали для моделей дополнительные признаки: календарные (месяц, день, день недели, часы), предыдущие значения с  размером отставания в 1-5 часов, скользящие средние с шириной окна в 3 часа, по дням (24 часа) и за 3 дня. Дополнительно создали столбец, который содержит разницу между количеством заказов в предыдущий и предшествующий тому часы.\n",
    "\n",
    "- обучили три различные модели: линейной регрессии, случайного леса и градиентного бустинга из библиотеки CatBoost.\n",
    "\n",
    "Лучше всего на обучающей выборке справилась модель случайного леса в регрессии (25,2), хуже всего - модель линейной регрессии (30,5).\n",
    "Лучшая модель (модель случайного леса в регрессии с n_estimators=7) на тестовой выборке показывает RMSE=46.15."
   ]
  }
 ],
 "metadata": {
  "ExecuteTimeLog": [
   {
    "duration": 1199,
    "start_time": "2023-07-24T19:09:31.814Z"
   },
   {
    "duration": 55,
    "start_time": "2023-07-24T19:09:37.796Z"
   },
   {
    "duration": 294,
    "start_time": "2023-07-24T19:10:12.058Z"
   },
   {
    "duration": 48,
    "start_time": "2023-07-24T19:10:17.501Z"
   },
   {
    "duration": 11,
    "start_time": "2023-07-24T19:10:32.540Z"
   },
   {
    "duration": 49,
    "start_time": "2023-07-24T19:11:37.413Z"
   },
   {
    "duration": 6,
    "start_time": "2023-07-24T19:11:39.955Z"
   },
   {
    "duration": 50,
    "start_time": "2023-07-24T19:11:56.859Z"
   },
   {
    "duration": 6,
    "start_time": "2023-07-24T19:11:59.484Z"
   },
   {
    "duration": 5,
    "start_time": "2023-07-24T19:12:46.820Z"
   },
   {
    "duration": 52,
    "start_time": "2023-07-24T19:13:00.727Z"
   },
   {
    "duration": 7,
    "start_time": "2023-07-24T19:13:03.922Z"
   },
   {
    "duration": 13,
    "start_time": "2023-07-24T19:14:15.084Z"
   },
   {
    "duration": 15,
    "start_time": "2023-07-24T19:14:18.561Z"
   },
   {
    "duration": 51,
    "start_time": "2023-07-24T19:15:16.558Z"
   },
   {
    "duration": 7,
    "start_time": "2023-07-24T19:15:19.844Z"
   },
   {
    "duration": 6,
    "start_time": "2023-07-24T19:15:22.397Z"
   },
   {
    "duration": 8,
    "start_time": "2023-07-24T19:15:25.653Z"
   },
   {
    "duration": 400,
    "start_time": "2023-07-24T19:18:37.122Z"
   },
   {
    "duration": 864,
    "start_time": "2023-07-24T19:19:47.792Z"
   },
   {
    "duration": 181,
    "start_time": "2023-07-24T19:28:00.415Z"
   },
   {
    "duration": 1848,
    "start_time": "2023-07-24T19:28:16.188Z"
   },
   {
    "duration": 167,
    "start_time": "2023-07-24T19:28:22.101Z"
   },
   {
    "duration": 181,
    "start_time": "2023-07-24T19:28:35.795Z"
   },
   {
    "duration": 1864,
    "start_time": "2023-07-26T12:36:29.441Z"
   },
   {
    "duration": 218,
    "start_time": "2023-07-26T12:36:31.309Z"
   },
   {
    "duration": 12,
    "start_time": "2023-07-26T12:36:31.529Z"
   },
   {
    "duration": 76,
    "start_time": "2023-07-26T12:36:31.543Z"
   },
   {
    "duration": 51,
    "start_time": "2023-07-26T12:36:31.621Z"
   },
   {
    "duration": 1058,
    "start_time": "2023-07-26T12:36:31.674Z"
   },
   {
    "duration": 223,
    "start_time": "2023-07-26T12:36:32.733Z"
   },
   {
    "duration": 138,
    "start_time": "2023-07-26T12:37:12.079Z"
   },
   {
    "duration": 128,
    "start_time": "2023-07-26T12:37:17.757Z"
   },
   {
    "duration": 7,
    "start_time": "2023-07-26T12:37:21.309Z"
   },
   {
    "duration": 6,
    "start_time": "2023-07-26T12:38:09.453Z"
   },
   {
    "duration": 8,
    "start_time": "2023-07-26T12:38:17.624Z"
   },
   {
    "duration": 7,
    "start_time": "2023-07-26T12:38:46.788Z"
   },
   {
    "duration": 8,
    "start_time": "2023-07-26T12:39:00.890Z"
   },
   {
    "duration": 30,
    "start_time": "2023-07-26T12:42:55.512Z"
   },
   {
    "duration": 27,
    "start_time": "2023-07-26T12:44:21.083Z"
   },
   {
    "duration": 11,
    "start_time": "2023-07-26T12:52:41.651Z"
   },
   {
    "duration": 9,
    "start_time": "2023-07-26T12:52:46.941Z"
   },
   {
    "duration": 11,
    "start_time": "2023-07-26T12:53:28.991Z"
   },
   {
    "duration": 4,
    "start_time": "2023-07-26T12:53:31.482Z"
   },
   {
    "duration": 143,
    "start_time": "2023-07-26T12:53:31.488Z"
   },
   {
    "duration": 18,
    "start_time": "2023-07-26T12:53:31.633Z"
   },
   {
    "duration": 24,
    "start_time": "2023-07-26T12:53:31.653Z"
   },
   {
    "duration": 29,
    "start_time": "2023-07-26T12:53:31.679Z"
   },
   {
    "duration": 59,
    "start_time": "2023-07-26T12:53:31.710Z"
   },
   {
    "duration": 58,
    "start_time": "2023-07-26T12:53:31.771Z"
   },
   {
    "duration": 64,
    "start_time": "2023-07-26T12:53:31.831Z"
   },
   {
    "duration": 25,
    "start_time": "2023-07-26T12:53:31.898Z"
   },
   {
    "duration": 70,
    "start_time": "2023-07-26T12:53:31.925Z"
   },
   {
    "duration": 0,
    "start_time": "2023-07-26T12:53:31.996Z"
   },
   {
    "duration": 0,
    "start_time": "2023-07-26T12:53:31.998Z"
   },
   {
    "duration": 11,
    "start_time": "2023-07-26T12:54:02.656Z"
   },
   {
    "duration": 9,
    "start_time": "2023-07-26T12:54:03.912Z"
   },
   {
    "duration": 8,
    "start_time": "2023-07-26T12:54:11.260Z"
   },
   {
    "duration": 5,
    "start_time": "2023-07-26T12:54:14.013Z"
   },
   {
    "duration": 80,
    "start_time": "2023-07-26T12:54:14.020Z"
   },
   {
    "duration": 12,
    "start_time": "2023-07-26T12:54:14.103Z"
   },
   {
    "duration": 23,
    "start_time": "2023-07-26T12:54:14.116Z"
   },
   {
    "duration": 18,
    "start_time": "2023-07-26T12:54:14.142Z"
   },
   {
    "duration": 27,
    "start_time": "2023-07-26T12:54:14.161Z"
   },
   {
    "duration": 38,
    "start_time": "2023-07-26T12:54:14.190Z"
   },
   {
    "duration": 36,
    "start_time": "2023-07-26T12:54:14.230Z"
   },
   {
    "duration": 9,
    "start_time": "2023-07-26T12:54:14.267Z"
   },
   {
    "duration": 22,
    "start_time": "2023-07-26T12:54:14.278Z"
   },
   {
    "duration": 0,
    "start_time": "2023-07-26T12:54:14.301Z"
   },
   {
    "duration": 0,
    "start_time": "2023-07-26T12:54:14.303Z"
   },
   {
    "duration": 11,
    "start_time": "2023-07-26T12:54:23.116Z"
   },
   {
    "duration": 24,
    "start_time": "2023-07-26T12:56:37.506Z"
   },
   {
    "duration": 5,
    "start_time": "2023-07-26T12:56:43.748Z"
   },
   {
    "duration": 90,
    "start_time": "2023-07-26T12:56:43.756Z"
   },
   {
    "duration": 12,
    "start_time": "2023-07-26T12:56:43.848Z"
   },
   {
    "duration": 50,
    "start_time": "2023-07-26T12:56:43.862Z"
   },
   {
    "duration": 44,
    "start_time": "2023-07-26T12:56:43.914Z"
   },
   {
    "duration": 37,
    "start_time": "2023-07-26T12:56:43.959Z"
   },
   {
    "duration": 56,
    "start_time": "2023-07-26T12:56:43.998Z"
   },
   {
    "duration": 0,
    "start_time": "2023-07-26T12:56:44.055Z"
   },
   {
    "duration": 0,
    "start_time": "2023-07-26T12:56:44.056Z"
   },
   {
    "duration": 0,
    "start_time": "2023-07-26T12:56:44.058Z"
   },
   {
    "duration": 17,
    "start_time": "2023-07-26T12:57:33.582Z"
   },
   {
    "duration": 21,
    "start_time": "2023-07-26T12:57:44.451Z"
   },
   {
    "duration": 17,
    "start_time": "2023-07-26T12:57:54.918Z"
   },
   {
    "duration": 5,
    "start_time": "2023-07-26T12:57:59.829Z"
   },
   {
    "duration": 82,
    "start_time": "2023-07-26T12:57:59.836Z"
   },
   {
    "duration": 11,
    "start_time": "2023-07-26T12:57:59.920Z"
   },
   {
    "duration": 8,
    "start_time": "2023-07-26T12:57:59.932Z"
   },
   {
    "duration": 24,
    "start_time": "2023-07-26T12:57:59.943Z"
   },
   {
    "duration": 13,
    "start_time": "2023-07-26T12:57:59.969Z"
   },
   {
    "duration": 40,
    "start_time": "2023-07-26T12:57:59.984Z"
   },
   {
    "duration": 753,
    "start_time": "2023-07-26T12:58:00.026Z"
   },
   {
    "duration": 234,
    "start_time": "2023-07-26T12:58:00.781Z"
   },
   {
    "duration": 10,
    "start_time": "2023-07-26T12:58:01.017Z"
   },
   {
    "duration": 50,
    "start_time": "2023-07-26T12:58:39.477Z"
   },
   {
    "duration": 122,
    "start_time": "2023-07-26T13:04:04.976Z"
   },
   {
    "duration": 344,
    "start_time": "2023-07-26T13:04:20.338Z"
   },
   {
    "duration": 448,
    "start_time": "2023-07-26T13:04:24.833Z"
   },
   {
    "duration": 5,
    "start_time": "2023-07-26T13:10:03.450Z"
   },
   {
    "duration": 4,
    "start_time": "2023-07-26T13:10:15.273Z"
   },
   {
    "duration": 2296,
    "start_time": "2023-07-27T08:23:33.583Z"
   },
   {
    "duration": 144,
    "start_time": "2023-07-27T08:23:35.881Z"
   },
   {
    "duration": 13,
    "start_time": "2023-07-27T08:23:36.027Z"
   },
   {
    "duration": 173,
    "start_time": "2023-07-27T08:23:36.043Z"
   },
   {
    "duration": 66,
    "start_time": "2023-07-27T08:23:36.218Z"
   },
   {
    "duration": 26,
    "start_time": "2023-07-27T08:23:36.286Z"
   },
   {
    "duration": 82,
    "start_time": "2023-07-27T08:23:36.314Z"
   },
   {
    "duration": 56,
    "start_time": "2023-07-27T08:23:36.398Z"
   },
   {
    "duration": 867,
    "start_time": "2023-07-27T08:23:36.456Z"
   },
   {
    "duration": 272,
    "start_time": "2023-07-27T08:23:37.326Z"
   },
   {
    "duration": 334,
    "start_time": "2023-07-27T08:23:37.600Z"
   },
   {
    "duration": 5,
    "start_time": "2023-07-27T08:23:37.936Z"
   },
   {
    "duration": 9,
    "start_time": "2023-07-27T08:23:37.952Z"
   },
   {
    "duration": 278,
    "start_time": "2023-07-27T08:27:12.721Z"
   },
   {
    "duration": 219,
    "start_time": "2023-07-27T08:28:50.071Z"
   },
   {
    "duration": 201,
    "start_time": "2023-07-27T08:28:52.463Z"
   },
   {
    "duration": 200,
    "start_time": "2023-07-27T08:31:06.474Z"
   },
   {
    "duration": 258,
    "start_time": "2023-07-27T08:31:09.648Z"
   },
   {
    "duration": 51,
    "start_time": "2023-07-28T10:24:11.294Z"
   },
   {
    "duration": 1829,
    "start_time": "2023-07-28T10:24:15.468Z"
   },
   {
    "duration": 161,
    "start_time": "2023-07-28T10:24:17.299Z"
   },
   {
    "duration": 17,
    "start_time": "2023-07-28T10:24:17.462Z"
   },
   {
    "duration": 23,
    "start_time": "2023-07-28T10:24:17.482Z"
   },
   {
    "duration": 38,
    "start_time": "2023-07-28T10:24:17.507Z"
   },
   {
    "duration": 31,
    "start_time": "2023-07-28T10:24:17.547Z"
   },
   {
    "duration": 44,
    "start_time": "2023-07-28T10:24:17.581Z"
   },
   {
    "duration": 57,
    "start_time": "2023-07-28T10:24:17.627Z"
   },
   {
    "duration": 915,
    "start_time": "2023-07-28T10:24:17.686Z"
   },
   {
    "duration": 268,
    "start_time": "2023-07-28T10:24:18.604Z"
   },
   {
    "duration": 232,
    "start_time": "2023-07-28T10:24:18.874Z"
   },
   {
    "duration": 136,
    "start_time": "2023-07-28T10:24:19.109Z"
   },
   {
    "duration": 0,
    "start_time": "2023-07-28T10:24:19.247Z"
   },
   {
    "duration": 0,
    "start_time": "2023-07-28T10:24:19.248Z"
   },
   {
    "duration": 0,
    "start_time": "2023-07-28T10:24:19.250Z"
   },
   {
    "duration": 23,
    "start_time": "2023-07-28T10:25:03.007Z"
   },
   {
    "duration": 266,
    "start_time": "2023-07-28T10:26:00.652Z"
   },
   {
    "duration": 322,
    "start_time": "2023-07-28T10:27:05.845Z"
   },
   {
    "duration": 161,
    "start_time": "2023-07-28T10:28:08.340Z"
   },
   {
    "duration": 119,
    "start_time": "2023-07-28T10:28:15.094Z"
   },
   {
    "duration": 19,
    "start_time": "2023-07-28T10:35:15.066Z"
   },
   {
    "duration": 20,
    "start_time": "2023-07-28T10:35:22.021Z"
   },
   {
    "duration": 30,
    "start_time": "2023-07-28T10:35:28.363Z"
   },
   {
    "duration": 19,
    "start_time": "2023-07-28T10:35:38.700Z"
   },
   {
    "duration": 25,
    "start_time": "2023-07-28T10:35:45.399Z"
   },
   {
    "duration": 8,
    "start_time": "2023-07-28T10:40:30.929Z"
   },
   {
    "duration": 5,
    "start_time": "2023-07-28T10:41:15.419Z"
   },
   {
    "duration": 13,
    "start_time": "2023-07-28T10:41:21.349Z"
   },
   {
    "duration": 7,
    "start_time": "2023-07-28T10:41:44.573Z"
   },
   {
    "duration": 4,
    "start_time": "2023-07-28T10:41:45.832Z"
   },
   {
    "duration": 120,
    "start_time": "2023-07-28T10:51:28.091Z"
   },
   {
    "duration": 8,
    "start_time": "2023-07-28T10:53:10.605Z"
   },
   {
    "duration": 195,
    "start_time": "2023-07-28T10:53:12.769Z"
   },
   {
    "duration": 4,
    "start_time": "2023-07-28T10:53:41.496Z"
   },
   {
    "duration": 16,
    "start_time": "2023-07-28T10:53:53.001Z"
   },
   {
    "duration": 7,
    "start_time": "2023-07-28T10:54:04.114Z"
   },
   {
    "duration": 7,
    "start_time": "2023-07-28T10:54:18.813Z"
   },
   {
    "duration": 132,
    "start_time": "2023-07-28T10:56:03.321Z"
   },
   {
    "duration": 5,
    "start_time": "2023-07-28T10:56:49.799Z"
   },
   {
    "duration": 1913,
    "start_time": "2023-07-28T10:56:52.048Z"
   },
   {
    "duration": 8,
    "start_time": "2023-07-28T10:57:16.466Z"
   },
   {
    "duration": 6,
    "start_time": "2023-07-28T10:57:24.702Z"
   },
   {
    "duration": 5,
    "start_time": "2023-07-28T10:57:39.511Z"
   },
   {
    "duration": 5,
    "start_time": "2023-07-28T13:26:42.153Z"
   },
   {
    "duration": 160,
    "start_time": "2023-07-28T13:26:57.422Z"
   },
   {
    "duration": 4395,
    "start_time": "2023-07-28T13:27:09.868Z"
   },
   {
    "duration": 6,
    "start_time": "2023-07-28T13:27:33.798Z"
   },
   {
    "duration": 165,
    "start_time": "2023-07-28T13:29:43.975Z"
   },
   {
    "duration": 8,
    "start_time": "2023-07-28T13:30:04.645Z"
   },
   {
    "duration": 11,
    "start_time": "2023-07-28T13:30:35.916Z"
   },
   {
    "duration": 6,
    "start_time": "2023-07-28T13:30:41.314Z"
   },
   {
    "duration": 158,
    "start_time": "2023-07-28T13:34:53.084Z"
   },
   {
    "duration": 298833,
    "start_time": "2023-07-28T13:35:06.975Z"
   },
   {
    "duration": 6,
    "start_time": "2023-07-28T13:41:00.120Z"
   },
   {
    "duration": 2642,
    "start_time": "2023-07-28T13:41:32.518Z"
   },
   {
    "duration": 6,
    "start_time": "2023-07-28T13:41:41.839Z"
   },
   {
    "duration": 20,
    "start_time": "2023-07-28T13:43:00.677Z"
   },
   {
    "duration": 3869,
    "start_time": "2023-07-28T13:43:27.862Z"
   },
   {
    "duration": 9,
    "start_time": "2023-07-28T13:43:33.788Z"
   },
   {
    "duration": 208,
    "start_time": "2023-07-28T13:43:41.843Z"
   },
   {
    "duration": 9,
    "start_time": "2023-07-28T13:43:43.425Z"
   },
   {
    "duration": 7,
    "start_time": "2023-07-28T13:43:44.728Z"
   },
   {
    "duration": 215,
    "start_time": "2023-07-28T13:45:12.655Z"
   },
   {
    "duration": 315,
    "start_time": "2023-07-28T13:50:09.346Z"
   },
   {
    "duration": 5,
    "start_time": "2023-07-28T13:55:50.549Z"
   },
   {
    "duration": 178,
    "start_time": "2023-07-28T13:55:50.561Z"
   },
   {
    "duration": 14,
    "start_time": "2023-07-28T13:55:50.741Z"
   },
   {
    "duration": 19,
    "start_time": "2023-07-28T13:55:50.763Z"
   },
   {
    "duration": 25,
    "start_time": "2023-07-28T13:55:50.788Z"
   },
   {
    "duration": 16,
    "start_time": "2023-07-28T13:55:50.815Z"
   },
   {
    "duration": 59,
    "start_time": "2023-07-28T13:55:50.834Z"
   },
   {
    "duration": 984,
    "start_time": "2023-07-28T13:55:50.896Z"
   },
   {
    "duration": 290,
    "start_time": "2023-07-28T13:55:51.886Z"
   },
   {
    "duration": 203,
    "start_time": "2023-07-28T13:55:52.181Z"
   },
   {
    "duration": 180,
    "start_time": "2023-07-28T13:55:52.387Z"
   },
   {
    "duration": 25,
    "start_time": "2023-07-28T13:55:52.570Z"
   },
   {
    "duration": 9,
    "start_time": "2023-07-28T13:55:52.597Z"
   },
   {
    "duration": 6,
    "start_time": "2023-07-28T13:55:52.609Z"
   },
   {
    "duration": 7,
    "start_time": "2023-07-28T13:55:52.618Z"
   },
   {
    "duration": 51,
    "start_time": "2023-07-28T13:55:52.627Z"
   },
   {
    "duration": 9,
    "start_time": "2023-07-28T13:55:52.680Z"
   },
   {
    "duration": 92,
    "start_time": "2023-07-28T13:55:52.691Z"
   },
   {
    "duration": 5,
    "start_time": "2023-07-28T13:55:52.786Z"
   },
   {
    "duration": 90,
    "start_time": "2023-07-28T13:55:52.793Z"
   },
   {
    "duration": 8,
    "start_time": "2023-07-28T13:55:52.886Z"
   },
   {
    "duration": 85,
    "start_time": "2023-07-28T13:55:52.897Z"
   },
   {
    "duration": 5,
    "start_time": "2023-07-28T13:55:52.984Z"
   },
   {
    "duration": 2183,
    "start_time": "2023-07-28T13:55:52.994Z"
   },
   {
    "duration": 14,
    "start_time": "2023-07-28T13:55:55.179Z"
   },
   {
    "duration": 4000,
    "start_time": "2023-07-28T13:55:55.195Z"
   },
   {
    "duration": 6,
    "start_time": "2023-07-28T13:55:59.201Z"
   },
   {
    "duration": 351985,
    "start_time": "2023-07-28T13:55:59.209Z"
   },
   {
    "duration": 6,
    "start_time": "2023-07-28T14:01:51.196Z"
   },
   {
    "duration": 193,
    "start_time": "2023-07-28T14:01:51.204Z"
   },
   {
    "duration": 286,
    "start_time": "2023-07-28T14:01:51.399Z"
   },
   {
    "duration": 1850,
    "start_time": "2023-07-29T08:39:18.215Z"
   },
   {
    "duration": 123,
    "start_time": "2023-07-29T08:39:20.067Z"
   },
   {
    "duration": 10,
    "start_time": "2023-07-29T08:39:20.191Z"
   },
   {
    "duration": 41,
    "start_time": "2023-07-29T08:39:20.202Z"
   },
   {
    "duration": 14,
    "start_time": "2023-07-29T08:39:20.244Z"
   },
   {
    "duration": 7,
    "start_time": "2023-07-29T08:39:20.259Z"
   },
   {
    "duration": 119,
    "start_time": "2023-07-29T08:39:20.267Z"
   },
   {
    "duration": 5,
    "start_time": "2023-07-29T08:39:46.007Z"
   },
   {
    "duration": 85,
    "start_time": "2023-07-29T08:39:46.014Z"
   },
   {
    "duration": 12,
    "start_time": "2023-07-29T08:39:46.100Z"
   },
   {
    "duration": 19,
    "start_time": "2023-07-29T08:39:46.114Z"
   },
   {
    "duration": 25,
    "start_time": "2023-07-29T08:39:46.135Z"
   },
   {
    "duration": 17,
    "start_time": "2023-07-29T08:39:46.162Z"
   },
   {
    "duration": 22,
    "start_time": "2023-07-29T08:39:46.181Z"
   },
   {
    "duration": 845,
    "start_time": "2023-07-29T08:39:53.357Z"
   },
   {
    "duration": 193,
    "start_time": "2023-07-29T08:40:17.533Z"
   },
   {
    "duration": 149,
    "start_time": "2023-07-29T08:40:19.968Z"
   },
   {
    "duration": 94,
    "start_time": "2023-07-29T08:40:24.434Z"
   },
   {
    "duration": 93,
    "start_time": "2023-07-29T08:40:37.395Z"
   },
   {
    "duration": 156,
    "start_time": "2023-07-29T08:41:31.327Z"
   },
   {
    "duration": 9,
    "start_time": "2023-07-29T08:41:57.581Z"
   },
   {
    "duration": 189,
    "start_time": "2023-07-29T08:42:04.138Z"
   },
   {
    "duration": 19,
    "start_time": "2023-07-29T08:42:19.521Z"
   },
   {
    "duration": 6,
    "start_time": "2023-07-29T08:42:24.803Z"
   },
   {
    "duration": 5,
    "start_time": "2023-07-29T08:42:26.117Z"
   },
   {
    "duration": 4,
    "start_time": "2023-07-29T08:42:28.682Z"
   },
   {
    "duration": 3,
    "start_time": "2023-07-29T08:42:31.156Z"
   },
   {
    "duration": 5,
    "start_time": "2023-07-29T08:42:34.248Z"
   },
   {
    "duration": 211,
    "start_time": "2023-07-29T08:42:36.993Z"
   },
   {
    "duration": 4,
    "start_time": "2023-07-29T08:42:38.494Z"
   },
   {
    "duration": 9,
    "start_time": "2023-07-29T08:42:40.458Z"
   },
   {
    "duration": 6,
    "start_time": "2023-07-29T08:42:43.301Z"
   },
   {
    "duration": 4,
    "start_time": "2023-07-29T08:42:45.363Z"
   },
   {
    "duration": 3,
    "start_time": "2023-07-29T08:42:47.644Z"
   },
   {
    "duration": 1621,
    "start_time": "2023-07-29T08:42:49.885Z"
   },
   {
    "duration": 4,
    "start_time": "2023-07-29T08:43:00.381Z"
   },
   {
    "duration": 506,
    "start_time": "2023-07-29T08:43:19.609Z"
   },
   {
    "duration": 4,
    "start_time": "2023-07-29T08:43:22.330Z"
   },
   {
    "duration": 1820,
    "start_time": "2023-07-29T08:43:30.289Z"
   },
   {
    "duration": 3,
    "start_time": "2023-07-29T08:43:33.943Z"
   },
   {
    "duration": 3106,
    "start_time": "2023-07-29T08:43:43.933Z"
   },
   {
    "duration": 4,
    "start_time": "2023-07-29T08:43:48.568Z"
   },
   {
    "duration": 3507,
    "start_time": "2023-07-29T08:43:54.939Z"
   },
   {
    "duration": 5,
    "start_time": "2023-07-29T08:43:59.681Z"
   },
   {
    "duration": 54,
    "start_time": "2023-07-29T08:44:59.787Z"
   },
   {
    "duration": 1871,
    "start_time": "2023-07-29T08:45:02.725Z"
   },
   {
    "duration": 5,
    "start_time": "2023-07-29T08:45:05.896Z"
   },
   {
    "duration": 95110,
    "start_time": "2023-07-29T08:45:22.230Z"
   },
   {
    "duration": 4,
    "start_time": "2023-07-29T08:49:01.082Z"
   },
   {
    "duration": 170,
    "start_time": "2023-07-29T08:49:12.641Z"
   },
   {
    "duration": 256,
    "start_time": "2023-07-29T08:49:16.965Z"
   },
   {
    "duration": 4,
    "start_time": "2023-07-29T08:49:31.880Z"
   },
   {
    "duration": 89,
    "start_time": "2023-07-29T08:49:31.885Z"
   },
   {
    "duration": 7,
    "start_time": "2023-07-29T08:49:31.976Z"
   },
   {
    "duration": 33,
    "start_time": "2023-07-29T08:49:31.985Z"
   },
   {
    "duration": 28,
    "start_time": "2023-07-29T08:49:32.020Z"
   },
   {
    "duration": 20,
    "start_time": "2023-07-29T08:49:32.049Z"
   },
   {
    "duration": 36,
    "start_time": "2023-07-29T08:49:32.071Z"
   },
   {
    "duration": 842,
    "start_time": "2023-07-29T08:49:32.108Z"
   },
   {
    "duration": 183,
    "start_time": "2023-07-29T08:49:32.953Z"
   },
   {
    "duration": 153,
    "start_time": "2023-07-29T08:49:33.137Z"
   },
   {
    "duration": 202,
    "start_time": "2023-07-29T08:49:33.292Z"
   },
   {
    "duration": 22,
    "start_time": "2023-07-29T08:49:33.496Z"
   },
   {
    "duration": 16,
    "start_time": "2023-07-29T08:49:33.519Z"
   },
   {
    "duration": 11,
    "start_time": "2023-07-29T08:49:33.536Z"
   },
   {
    "duration": 19,
    "start_time": "2023-07-29T08:49:33.549Z"
   },
   {
    "duration": 8,
    "start_time": "2023-07-29T08:49:33.570Z"
   },
   {
    "duration": 26,
    "start_time": "2023-07-29T08:49:33.579Z"
   },
   {
    "duration": 37,
    "start_time": "2023-07-29T08:49:33.606Z"
   },
   {
    "duration": 5,
    "start_time": "2023-07-29T08:49:33.699Z"
   },
   {
    "duration": 15,
    "start_time": "2023-07-29T08:49:33.706Z"
   },
   {
    "duration": 78,
    "start_time": "2023-07-29T08:49:33.723Z"
   },
   {
    "duration": 8,
    "start_time": "2023-07-29T08:49:33.803Z"
   },
   {
    "duration": 5,
    "start_time": "2023-07-29T08:49:33.812Z"
   },
   {
    "duration": 591,
    "start_time": "2023-07-29T08:49:33.821Z"
   },
   {
    "duration": 4,
    "start_time": "2023-07-29T08:49:34.413Z"
   },
   {
    "duration": 2043,
    "start_time": "2023-07-29T08:49:34.419Z"
   },
   {
    "duration": 3,
    "start_time": "2023-07-29T08:49:36.464Z"
   },
   {
    "duration": 1633,
    "start_time": "2024-02-07T17:38:34.515Z"
   },
   {
    "duration": 169,
    "start_time": "2024-02-07T17:38:40.963Z"
   },
   {
    "duration": 19,
    "start_time": "2024-02-07T17:38:48.489Z"
   },
   {
    "duration": 1479,
    "start_time": "2024-04-06T17:54:55.456Z"
   },
   {
    "duration": 169,
    "start_time": "2024-04-06T17:54:58.287Z"
   },
   {
    "duration": 13,
    "start_time": "2024-04-06T17:55:01.371Z"
   },
   {
    "duration": 11,
    "start_time": "2024-04-06T17:55:11.875Z"
   },
   {
    "duration": 11,
    "start_time": "2024-04-06T17:55:12.311Z"
   },
   {
    "duration": 8,
    "start_time": "2024-04-06T17:55:14.563Z"
   },
   {
    "duration": 11,
    "start_time": "2024-04-06T17:55:33.210Z"
   },
   {
    "duration": 910,
    "start_time": "2024-04-06T17:55:36.281Z"
   },
   {
    "duration": 180,
    "start_time": "2024-04-06T17:56:02.368Z"
   },
   {
    "duration": 151,
    "start_time": "2024-04-06T17:56:10.292Z"
   },
   {
    "duration": 200,
    "start_time": "2024-04-06T17:56:24.176Z"
   },
   {
    "duration": 17,
    "start_time": "2024-04-06T17:56:33.727Z"
   },
   {
    "duration": 17,
    "start_time": "2024-04-06T18:01:18.214Z"
   },
   {
    "duration": 7,
    "start_time": "2024-04-06T18:01:21.522Z"
   },
   {
    "duration": 4,
    "start_time": "2024-04-06T18:01:22.787Z"
   },
   {
    "duration": 5,
    "start_time": "2024-04-06T18:01:25.787Z"
   },
   {
    "duration": 4,
    "start_time": "2024-04-06T18:01:27.777Z"
   },
   {
    "duration": 5,
    "start_time": "2024-04-06T18:01:33.033Z"
   },
   {
    "duration": 33,
    "start_time": "2024-04-06T18:01:36.096Z"
   },
   {
    "duration": 5,
    "start_time": "2024-04-06T18:01:37.880Z"
   },
   {
    "duration": 9,
    "start_time": "2024-04-06T18:01:39.025Z"
   },
   {
    "duration": 6,
    "start_time": "2024-04-06T18:01:40.387Z"
   },
   {
    "duration": 8,
    "start_time": "2024-04-06T18:01:41.968Z"
   },
   {
    "duration": 4,
    "start_time": "2024-04-06T18:01:52.601Z"
   },
   {
    "duration": 906,
    "start_time": "2024-04-06T18:01:55.157Z"
   },
   {
    "duration": 3,
    "start_time": "2024-04-06T18:01:57.904Z"
   },
   {
    "duration": 1894,
    "start_time": "2024-04-06T18:02:03.173Z"
   },
   {
    "duration": 4,
    "start_time": "2024-04-06T18:02:05.225Z"
   },
   {
    "duration": 44905,
    "start_time": "2024-04-06T18:02:09.287Z"
   },
   {
    "duration": 4,
    "start_time": "2024-04-06T18:02:59.002Z"
   },
   {
    "duration": 158,
    "start_time": "2024-04-06T18:04:08.152Z"
   },
   {
    "duration": 256,
    "start_time": "2024-04-06T18:04:15.065Z"
   }
  ],
  "kernelspec": {
   "display_name": "Python 3 (ipykernel)",
   "language": "python",
   "name": "python3"
  },
  "language_info": {
   "codemirror_mode": {
    "name": "ipython",
    "version": 3
   },
   "file_extension": ".py",
   "mimetype": "text/x-python",
   "name": "python",
   "nbconvert_exporter": "python",
   "pygments_lexer": "ipython3",
   "version": "3.9.5"
  },
  "toc": {
   "base_numbering": 1,
   "nav_menu": {},
   "number_sections": true,
   "sideBar": true,
   "skip_h1_title": true,
   "title_cell": "Содержание",
   "title_sidebar": "Contents",
   "toc_cell": true,
   "toc_position": {
    "height": "calc(100% - 180px)",
    "left": "10px",
    "top": "150px",
    "width": "165px"
   },
   "toc_section_display": true,
   "toc_window_display": true
  }
 },
 "nbformat": 4,
 "nbformat_minor": 2
}
