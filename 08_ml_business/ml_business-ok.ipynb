{
 "cells": [
  {
   "cell_type": "markdown",
   "metadata": {},
   "source": [
    "# Выбор локации для скважины"
   ]
  },
  {
   "cell_type": "markdown",
   "metadata": {},
   "source": [
    "Допустим, вы работаете в добывающей компании «ГлавРосГосНефть». Нужно решить, где бурить новую скважину.\n",
    "\n",
    "Вам предоставлены пробы нефти в трёх регионах: в каждом 10 000 месторождений, где измерили качество нефти и объём её запасов. Постройте модель машинного обучения, которая поможет определить регион, где добыча принесёт наибольшую прибыль. Проанализируйте возможную прибыль и риски техникой *Bootstrap.*\n",
    "\n",
    "Шаги для выбора локации:\n",
    "\n",
    "- В избранном регионе ищут месторождения, для каждого определяют значения признаков;\n",
    "- Строят модель и оценивают объём запасов;\n",
    "- Выбирают месторождения с самым высокими оценками значений. Количество месторождений зависит от бюджета компании и стоимости разработки одной скважины;\n",
    "- Прибыль равна суммарной прибыли отобранных месторождений.\n",
    "\n",
    "- При разведке региона исследуют 500 точек, из которых с помощью машинного обучения выбирают 200 лучших для разработки.\n",
    "- Бюджет на разработку скважин в регионе — 10 млрд рублей.\n",
    "- При нынешних ценах один баррель сырья приносит 450 рублей дохода. Доход с каждой единицы продукта составляет 450 тыс. рублей, поскольку объём указан в тысячах баррелей.\n",
    "- После оценки рисков нужно оставить лишь те регионы, в которых вероятность убытков меньше 2.5%. Среди них выбирают регион с наибольшей средней прибылью."
   ]
  },
  {
   "cell_type": "markdown",
   "metadata": {},
   "source": [
    "## Загрузка и подготовка данных"
   ]
  },
  {
   "cell_type": "code",
   "execution_count": 1,
   "metadata": {},
   "outputs": [],
   "source": [
    "import pandas as pd\n",
    "import numpy as np\n",
    "from sklearn.model_selection import train_test_split\n",
    "from sklearn.preprocessing import StandardScaler, OneHotEncoder\n",
    "from sklearn.linear_model import LinearRegression\n",
    "from sklearn.metrics import mean_squared_error\n",
    "\n",
    "pd.options.mode.chained_assignment = None"
   ]
  },
  {
   "cell_type": "markdown",
   "metadata": {},
   "source": [
    "Шаг 1. Загрузим датафреймы, изучим информацию о них, проверим их на дубликаты."
   ]
  },
  {
   "cell_type": "code",
   "execution_count": 2,
   "metadata": {
    "scrolled": false
   },
   "outputs": [
    {
     "name": "stdout",
     "output_type": "stream",
     "text": [
      "<class 'pandas.core.frame.DataFrame'>\n",
      "RangeIndex: 100000 entries, 0 to 99999\n",
      "Data columns (total 5 columns):\n",
      " #   Column   Non-Null Count   Dtype  \n",
      "---  ------   --------------   -----  \n",
      " 0   id       100000 non-null  object \n",
      " 1   f0       100000 non-null  float64\n",
      " 2   f1       100000 non-null  float64\n",
      " 3   f2       100000 non-null  float64\n",
      " 4   product  100000 non-null  float64\n",
      "dtypes: float64(4), object(1)\n",
      "memory usage: 3.8+ MB\n",
      "<class 'pandas.core.frame.DataFrame'>\n",
      "RangeIndex: 100000 entries, 0 to 99999\n",
      "Data columns (total 5 columns):\n",
      " #   Column   Non-Null Count   Dtype  \n",
      "---  ------   --------------   -----  \n",
      " 0   id       100000 non-null  object \n",
      " 1   f0       100000 non-null  float64\n",
      " 2   f1       100000 non-null  float64\n",
      " 3   f2       100000 non-null  float64\n",
      " 4   product  100000 non-null  float64\n",
      "dtypes: float64(4), object(1)\n",
      "memory usage: 3.8+ MB\n",
      "<class 'pandas.core.frame.DataFrame'>\n",
      "RangeIndex: 100000 entries, 0 to 99999\n",
      "Data columns (total 5 columns):\n",
      " #   Column   Non-Null Count   Dtype  \n",
      "---  ------   --------------   -----  \n",
      " 0   id       100000 non-null  object \n",
      " 1   f0       100000 non-null  float64\n",
      " 2   f1       100000 non-null  float64\n",
      " 3   f2       100000 non-null  float64\n",
      " 4   product  100000 non-null  float64\n",
      "dtypes: float64(4), object(1)\n",
      "memory usage: 3.8+ MB\n"
     ]
    },
    {
     "data": {
      "text/html": [
       "<div>\n",
       "<style scoped>\n",
       "    .dataframe tbody tr th:only-of-type {\n",
       "        vertical-align: middle;\n",
       "    }\n",
       "\n",
       "    .dataframe tbody tr th {\n",
       "        vertical-align: top;\n",
       "    }\n",
       "\n",
       "    .dataframe thead th {\n",
       "        text-align: right;\n",
       "    }\n",
       "</style>\n",
       "<table border=\"1\" class=\"dataframe\">\n",
       "  <thead>\n",
       "    <tr style=\"text-align: right;\">\n",
       "      <th></th>\n",
       "      <th>f0</th>\n",
       "      <th>f1</th>\n",
       "      <th>f2</th>\n",
       "      <th>product</th>\n",
       "    </tr>\n",
       "  </thead>\n",
       "  <tbody>\n",
       "    <tr>\n",
       "      <th>0</th>\n",
       "      <td>0.705745</td>\n",
       "      <td>-0.497823</td>\n",
       "      <td>1.221170</td>\n",
       "      <td>105.280062</td>\n",
       "    </tr>\n",
       "    <tr>\n",
       "      <th>1</th>\n",
       "      <td>1.334711</td>\n",
       "      <td>-0.340164</td>\n",
       "      <td>4.365080</td>\n",
       "      <td>73.037750</td>\n",
       "    </tr>\n",
       "    <tr>\n",
       "      <th>2</th>\n",
       "      <td>1.022732</td>\n",
       "      <td>0.151990</td>\n",
       "      <td>1.419926</td>\n",
       "      <td>85.265647</td>\n",
       "    </tr>\n",
       "    <tr>\n",
       "      <th>3</th>\n",
       "      <td>-0.032172</td>\n",
       "      <td>0.139033</td>\n",
       "      <td>2.978566</td>\n",
       "      <td>168.620776</td>\n",
       "    </tr>\n",
       "    <tr>\n",
       "      <th>4</th>\n",
       "      <td>1.988431</td>\n",
       "      <td>0.155413</td>\n",
       "      <td>4.751769</td>\n",
       "      <td>154.036647</td>\n",
       "    </tr>\n",
       "  </tbody>\n",
       "</table>\n",
       "</div>"
      ],
      "text/plain": [
       "         f0        f1        f2     product\n",
       "0  0.705745 -0.497823  1.221170  105.280062\n",
       "1  1.334711 -0.340164  4.365080   73.037750\n",
       "2  1.022732  0.151990  1.419926   85.265647\n",
       "3 -0.032172  0.139033  2.978566  168.620776\n",
       "4  1.988431  0.155413  4.751769  154.036647"
      ]
     },
     "metadata": {},
     "output_type": "display_data"
    },
    {
     "data": {
      "text/html": [
       "<div>\n",
       "<style scoped>\n",
       "    .dataframe tbody tr th:only-of-type {\n",
       "        vertical-align: middle;\n",
       "    }\n",
       "\n",
       "    .dataframe tbody tr th {\n",
       "        vertical-align: top;\n",
       "    }\n",
       "\n",
       "    .dataframe thead th {\n",
       "        text-align: right;\n",
       "    }\n",
       "</style>\n",
       "<table border=\"1\" class=\"dataframe\">\n",
       "  <thead>\n",
       "    <tr style=\"text-align: right;\">\n",
       "      <th></th>\n",
       "      <th>f0</th>\n",
       "      <th>f1</th>\n",
       "      <th>f2</th>\n",
       "      <th>product</th>\n",
       "    </tr>\n",
       "  </thead>\n",
       "  <tbody>\n",
       "    <tr>\n",
       "      <th>0</th>\n",
       "      <td>-15.001348</td>\n",
       "      <td>-8.276000</td>\n",
       "      <td>-0.005876</td>\n",
       "      <td>3.179103</td>\n",
       "    </tr>\n",
       "    <tr>\n",
       "      <th>1</th>\n",
       "      <td>14.272088</td>\n",
       "      <td>-3.475083</td>\n",
       "      <td>0.999183</td>\n",
       "      <td>26.953261</td>\n",
       "    </tr>\n",
       "    <tr>\n",
       "      <th>2</th>\n",
       "      <td>6.263187</td>\n",
       "      <td>-5.948386</td>\n",
       "      <td>5.001160</td>\n",
       "      <td>134.766305</td>\n",
       "    </tr>\n",
       "    <tr>\n",
       "      <th>3</th>\n",
       "      <td>-13.081196</td>\n",
       "      <td>-11.506057</td>\n",
       "      <td>4.999415</td>\n",
       "      <td>137.945408</td>\n",
       "    </tr>\n",
       "    <tr>\n",
       "      <th>4</th>\n",
       "      <td>12.702195</td>\n",
       "      <td>-8.147433</td>\n",
       "      <td>5.004363</td>\n",
       "      <td>134.766305</td>\n",
       "    </tr>\n",
       "  </tbody>\n",
       "</table>\n",
       "</div>"
      ],
      "text/plain": [
       "          f0         f1        f2     product\n",
       "0 -15.001348  -8.276000 -0.005876    3.179103\n",
       "1  14.272088  -3.475083  0.999183   26.953261\n",
       "2   6.263187  -5.948386  5.001160  134.766305\n",
       "3 -13.081196 -11.506057  4.999415  137.945408\n",
       "4  12.702195  -8.147433  5.004363  134.766305"
      ]
     },
     "metadata": {},
     "output_type": "display_data"
    },
    {
     "data": {
      "text/html": [
       "<div>\n",
       "<style scoped>\n",
       "    .dataframe tbody tr th:only-of-type {\n",
       "        vertical-align: middle;\n",
       "    }\n",
       "\n",
       "    .dataframe tbody tr th {\n",
       "        vertical-align: top;\n",
       "    }\n",
       "\n",
       "    .dataframe thead th {\n",
       "        text-align: right;\n",
       "    }\n",
       "</style>\n",
       "<table border=\"1\" class=\"dataframe\">\n",
       "  <thead>\n",
       "    <tr style=\"text-align: right;\">\n",
       "      <th></th>\n",
       "      <th>f0</th>\n",
       "      <th>f1</th>\n",
       "      <th>f2</th>\n",
       "      <th>product</th>\n",
       "    </tr>\n",
       "  </thead>\n",
       "  <tbody>\n",
       "    <tr>\n",
       "      <th>0</th>\n",
       "      <td>-1.146987</td>\n",
       "      <td>0.963328</td>\n",
       "      <td>-0.828965</td>\n",
       "      <td>27.758673</td>\n",
       "    </tr>\n",
       "    <tr>\n",
       "      <th>1</th>\n",
       "      <td>0.262778</td>\n",
       "      <td>0.269839</td>\n",
       "      <td>-2.530187</td>\n",
       "      <td>56.069697</td>\n",
       "    </tr>\n",
       "    <tr>\n",
       "      <th>2</th>\n",
       "      <td>0.194587</td>\n",
       "      <td>0.289035</td>\n",
       "      <td>-5.586433</td>\n",
       "      <td>62.871910</td>\n",
       "    </tr>\n",
       "    <tr>\n",
       "      <th>3</th>\n",
       "      <td>2.236060</td>\n",
       "      <td>-0.553760</td>\n",
       "      <td>0.930038</td>\n",
       "      <td>114.572842</td>\n",
       "    </tr>\n",
       "    <tr>\n",
       "      <th>4</th>\n",
       "      <td>-0.515993</td>\n",
       "      <td>1.716266</td>\n",
       "      <td>5.899011</td>\n",
       "      <td>149.600746</td>\n",
       "    </tr>\n",
       "  </tbody>\n",
       "</table>\n",
       "</div>"
      ],
      "text/plain": [
       "         f0        f1        f2     product\n",
       "0 -1.146987  0.963328 -0.828965   27.758673\n",
       "1  0.262778  0.269839 -2.530187   56.069697\n",
       "2  0.194587  0.289035 -5.586433   62.871910\n",
       "3  2.236060 -0.553760  0.930038  114.572842\n",
       "4 -0.515993  1.716266  5.899011  149.600746"
      ]
     },
     "metadata": {},
     "output_type": "display_data"
    }
   ],
   "source": [
    "df0 = pd.read_csv('https://code.s3.yandex.net/datasets/geo_data_0.csv')\n",
    "df1 = pd.read_csv('https://code.s3.yandex.net/datasets/geo_data_1.csv')\n",
    "df2 = pd.read_csv('https://code.s3.yandex.net/datasets/geo_data_2.csv')\n",
    "\n",
    "df0.info()\n",
    "df1.info()\n",
    "df2.info()\n",
    "df0.duplicated().value_counts()\n",
    "df1.duplicated().value_counts()\n",
    "df2.duplicated().value_counts()\n",
    "\n",
    "df0 = df0.drop(['id'], axis='columns')\n",
    "df1 = df1.drop(['id'], axis='columns')\n",
    "df2 = df2.drop(['id'], axis='columns')\n",
    "display(df0.head())\n",
    "display(df1.head())\n",
    "display(df2.head())"
   ]
  },
  {
   "cell_type": "markdown",
   "metadata": {},
   "source": [
    "Типы данных в столбцах соответствуют природе этих данных, преобразования не требуются. Дубликатов нет.\n",
    "Удалим столбец 'id' с типом данных object, так как модели не воспринимают буквы, других проблем с предподготовкой данных не вижу."
   ]
  },
  {
   "cell_type": "markdown",
   "metadata": {},
   "source": [
    "## Обучение и проверка модели"
   ]
  },
  {
   "cell_type": "markdown",
   "metadata": {},
   "source": [
    "Создадим функцию model для того, чтобы сразу в каждом датафрейме выделить целевой признак и разбить датафреймы на тренировочную и валидационную выборки. Внутри функции обучим модель, подсчитаем MSE, RMSE и предсказание среднего объема скважин по региону."
   ]
  },
  {
   "cell_type": "code",
   "execution_count": 3,
   "metadata": {},
   "outputs": [],
   "source": [
    "def model(df):\n",
    "    features = df.drop(['product'], axis = 1)\n",
    "    target = df['product']\n",
    "    features_train, features_valid, target_train, target_valid = train_test_split(features, target, test_size=0.25, random_state=12345)\n",
    "    numeric = ['f0', 'f1', 'f2']\n",
    "    scaler = StandardScaler()\n",
    "    scaler.fit(features_train[numeric])\n",
    "    features_train[numeric] = scaler.transform(features_train[numeric])\n",
    "    features_valid[numeric] = scaler.transform(features_valid[numeric])\n",
    "\n",
    "    model = LinearRegression()\n",
    "    model.fit(features_train, target_train)\n",
    "    predictions = model.predict(features_valid)\n",
    "    df['predicted'] = model.predict(features) #добавим столбец с предсказаниями модели прямо в датафрейм, чтобы в дальнейших функциях не путаться с индексами\n",
    "    mean = predictions.mean()\n",
    "    mse = mean_squared_error(target_valid, predictions)\n",
    "    print(\"MSE =\", mse)\n",
    "    print(\"RMSE =\", mse ** 0.5)\n",
    "    print(\"Predicted_mean =\", predictions.mean())\n",
    "    return mean, predictions"
   ]
  },
  {
   "cell_type": "code",
   "execution_count": 4,
   "metadata": {
    "scrolled": true
   },
   "outputs": [
    {
     "name": "stdout",
     "output_type": "stream",
     "text": [
      "MSE = 1412.2129364399243\n",
      "RMSE = 37.5794217150813\n",
      "Predicted_mean = 92.59256778438035\n"
     ]
    },
    {
     "data": {
      "text/html": [
       "<div>\n",
       "<style scoped>\n",
       "    .dataframe tbody tr th:only-of-type {\n",
       "        vertical-align: middle;\n",
       "    }\n",
       "\n",
       "    .dataframe tbody tr th {\n",
       "        vertical-align: top;\n",
       "    }\n",
       "\n",
       "    .dataframe thead th {\n",
       "        text-align: right;\n",
       "    }\n",
       "</style>\n",
       "<table border=\"1\" class=\"dataframe\">\n",
       "  <thead>\n",
       "    <tr style=\"text-align: right;\">\n",
       "      <th></th>\n",
       "      <th>f0</th>\n",
       "      <th>f1</th>\n",
       "      <th>f2</th>\n",
       "      <th>product</th>\n",
       "      <th>predicted</th>\n",
       "    </tr>\n",
       "  </thead>\n",
       "  <tbody>\n",
       "    <tr>\n",
       "      <th>0</th>\n",
       "      <td>0.705745</td>\n",
       "      <td>-0.497823</td>\n",
       "      <td>1.221170</td>\n",
       "      <td>105.280062</td>\n",
       "      <td>124.553920</td>\n",
       "    </tr>\n",
       "    <tr>\n",
       "      <th>1</th>\n",
       "      <td>1.334711</td>\n",
       "      <td>-0.340164</td>\n",
       "      <td>4.365080</td>\n",
       "      <td>73.037750</td>\n",
       "      <td>192.763405</td>\n",
       "    </tr>\n",
       "    <tr>\n",
       "      <th>2</th>\n",
       "      <td>1.022732</td>\n",
       "      <td>0.151990</td>\n",
       "      <td>1.419926</td>\n",
       "      <td>85.265647</td>\n",
       "      <td>125.186291</td>\n",
       "    </tr>\n",
       "    <tr>\n",
       "      <th>3</th>\n",
       "      <td>-0.032172</td>\n",
       "      <td>0.139033</td>\n",
       "      <td>2.978566</td>\n",
       "      <td>168.620776</td>\n",
       "      <td>155.368884</td>\n",
       "    </tr>\n",
       "    <tr>\n",
       "      <th>4</th>\n",
       "      <td>1.988431</td>\n",
       "      <td>0.155413</td>\n",
       "      <td>4.751769</td>\n",
       "      <td>154.036647</td>\n",
       "      <td>199.573411</td>\n",
       "    </tr>\n",
       "  </tbody>\n",
       "</table>\n",
       "</div>"
      ],
      "text/plain": [
       "         f0        f1        f2     product   predicted\n",
       "0  0.705745 -0.497823  1.221170  105.280062  124.553920\n",
       "1  1.334711 -0.340164  4.365080   73.037750  192.763405\n",
       "2  1.022732  0.151990  1.419926   85.265647  125.186291\n",
       "3 -0.032172  0.139033  2.978566  168.620776  155.368884\n",
       "4  1.988431  0.155413  4.751769  154.036647  199.573411"
      ]
     },
     "execution_count": 4,
     "metadata": {},
     "output_type": "execute_result"
    }
   ],
   "source": [
    "model(df0) \n",
    "df0.head()"
   ]
  },
  {
   "cell_type": "code",
   "execution_count": 5,
   "metadata": {},
   "outputs": [
    {
     "name": "stdout",
     "output_type": "stream",
     "text": [
      "MSE = 0.7976263360391157\n",
      "RMSE = 0.893099286775617\n",
      "Predicted_mean = 68.728546895446\n"
     ]
    },
    {
     "data": {
      "text/html": [
       "<div>\n",
       "<style scoped>\n",
       "    .dataframe tbody tr th:only-of-type {\n",
       "        vertical-align: middle;\n",
       "    }\n",
       "\n",
       "    .dataframe tbody tr th {\n",
       "        vertical-align: top;\n",
       "    }\n",
       "\n",
       "    .dataframe thead th {\n",
       "        text-align: right;\n",
       "    }\n",
       "</style>\n",
       "<table border=\"1\" class=\"dataframe\">\n",
       "  <thead>\n",
       "    <tr style=\"text-align: right;\">\n",
       "      <th></th>\n",
       "      <th>f0</th>\n",
       "      <th>f1</th>\n",
       "      <th>f2</th>\n",
       "      <th>product</th>\n",
       "      <th>predicted</th>\n",
       "    </tr>\n",
       "  </thead>\n",
       "  <tbody>\n",
       "    <tr>\n",
       "      <th>0</th>\n",
       "      <td>-15.001348</td>\n",
       "      <td>-8.276000</td>\n",
       "      <td>-0.005876</td>\n",
       "      <td>3.179103</td>\n",
       "      <td>89.017978</td>\n",
       "    </tr>\n",
       "    <tr>\n",
       "      <th>1</th>\n",
       "      <td>14.272088</td>\n",
       "      <td>-3.475083</td>\n",
       "      <td>0.999183</td>\n",
       "      <td>26.953261</td>\n",
       "      <td>96.553612</td>\n",
       "    </tr>\n",
       "    <tr>\n",
       "      <th>2</th>\n",
       "      <td>6.263187</td>\n",
       "      <td>-5.948386</td>\n",
       "      <td>5.001160</td>\n",
       "      <td>134.766305</td>\n",
       "      <td>290.875231</td>\n",
       "    </tr>\n",
       "    <tr>\n",
       "      <th>3</th>\n",
       "      <td>-13.081196</td>\n",
       "      <td>-11.506057</td>\n",
       "      <td>4.999415</td>\n",
       "      <td>137.945408</td>\n",
       "      <td>316.560503</td>\n",
       "    </tr>\n",
       "    <tr>\n",
       "      <th>4</th>\n",
       "      <td>12.702195</td>\n",
       "      <td>-8.147433</td>\n",
       "      <td>5.004363</td>\n",
       "      <td>134.766305</td>\n",
       "      <td>282.903146</td>\n",
       "    </tr>\n",
       "  </tbody>\n",
       "</table>\n",
       "</div>"
      ],
      "text/plain": [
       "          f0         f1        f2     product   predicted\n",
       "0 -15.001348  -8.276000 -0.005876    3.179103   89.017978\n",
       "1  14.272088  -3.475083  0.999183   26.953261   96.553612\n",
       "2   6.263187  -5.948386  5.001160  134.766305  290.875231\n",
       "3 -13.081196 -11.506057  4.999415  137.945408  316.560503\n",
       "4  12.702195  -8.147433  5.004363  134.766305  282.903146"
      ]
     },
     "execution_count": 5,
     "metadata": {},
     "output_type": "execute_result"
    }
   ],
   "source": [
    "model(df1)\n",
    "df1.head()"
   ]
  },
  {
   "cell_type": "code",
   "execution_count": 6,
   "metadata": {},
   "outputs": [
    {
     "name": "stdout",
     "output_type": "stream",
     "text": [
      "MSE = 1602.3775813236196\n",
      "RMSE = 40.02970873393434\n",
      "Predicted_mean = 94.96504596800489\n"
     ]
    },
    {
     "data": {
      "text/html": [
       "<div>\n",
       "<style scoped>\n",
       "    .dataframe tbody tr th:only-of-type {\n",
       "        vertical-align: middle;\n",
       "    }\n",
       "\n",
       "    .dataframe tbody tr th {\n",
       "        vertical-align: top;\n",
       "    }\n",
       "\n",
       "    .dataframe thead th {\n",
       "        text-align: right;\n",
       "    }\n",
       "</style>\n",
       "<table border=\"1\" class=\"dataframe\">\n",
       "  <thead>\n",
       "    <tr style=\"text-align: right;\">\n",
       "      <th></th>\n",
       "      <th>f0</th>\n",
       "      <th>f1</th>\n",
       "      <th>f2</th>\n",
       "      <th>product</th>\n",
       "      <th>predicted</th>\n",
       "    </tr>\n",
       "  </thead>\n",
       "  <tbody>\n",
       "    <tr>\n",
       "      <th>0</th>\n",
       "      <td>-1.146987</td>\n",
       "      <td>0.963328</td>\n",
       "      <td>-0.828965</td>\n",
       "      <td>27.758673</td>\n",
       "      <td>78.477490</td>\n",
       "    </tr>\n",
       "    <tr>\n",
       "      <th>1</th>\n",
       "      <td>0.262778</td>\n",
       "      <td>0.269839</td>\n",
       "      <td>-2.530187</td>\n",
       "      <td>56.069697</td>\n",
       "      <td>44.885688</td>\n",
       "    </tr>\n",
       "    <tr>\n",
       "      <th>2</th>\n",
       "      <td>0.194587</td>\n",
       "      <td>0.289035</td>\n",
       "      <td>-5.586433</td>\n",
       "      <td>62.871910</td>\n",
       "      <td>-15.693094</td>\n",
       "    </tr>\n",
       "    <tr>\n",
       "      <th>3</th>\n",
       "      <td>2.236060</td>\n",
       "      <td>-0.553760</td>\n",
       "      <td>0.930038</td>\n",
       "      <td>114.572842</td>\n",
       "      <td>113.631571</td>\n",
       "    </tr>\n",
       "    <tr>\n",
       "      <th>4</th>\n",
       "      <td>-0.515993</td>\n",
       "      <td>1.716266</td>\n",
       "      <td>5.899011</td>\n",
       "      <td>149.600746</td>\n",
       "      <td>211.802858</td>\n",
       "    </tr>\n",
       "  </tbody>\n",
       "</table>\n",
       "</div>"
      ],
      "text/plain": [
       "         f0        f1        f2     product   predicted\n",
       "0 -1.146987  0.963328 -0.828965   27.758673   78.477490\n",
       "1  0.262778  0.269839 -2.530187   56.069697   44.885688\n",
       "2  0.194587  0.289035 -5.586433   62.871910  -15.693094\n",
       "3  2.236060 -0.553760  0.930038  114.572842  113.631571\n",
       "4 -0.515993  1.716266  5.899011  149.600746  211.802858"
      ]
     },
     "execution_count": 6,
     "metadata": {},
     "output_type": "execute_result"
    }
   ],
   "source": [
    "model(df2)\n",
    "df2.head()"
   ]
  },
  {
   "cell_type": "markdown",
   "metadata": {},
   "source": [
    "Вывод. Точнее всего предсказания получаются в регионе 1 (RMSE меньше единицы), но и прогноз по объему скважин там существенно ниже соседних регионов (69 против 90+)."
   ]
  },
  {
   "cell_type": "markdown",
   "metadata": {},
   "source": [
    "## Подготовка к расчёту прибыли"
   ]
  },
  {
   "cell_type": "markdown",
   "metadata": {},
   "source": [
    "Бюджет на разработку скважин в регионе — 10 млрд рублей.\n",
    "\n",
    "Доход с каждой единицы продукта составляет 450 тыс. рублей, поскольку объём указан в тысячах баррелей.\n",
    "\n",
    "Для разработки выбирают 200 точек."
   ]
  },
  {
   "cell_type": "code",
   "execution_count": 7,
   "metadata": {
    "scrolled": true
   },
   "outputs": [
    {
     "data": {
      "text/plain": [
       "111.11111111111111"
      ]
     },
     "execution_count": 7,
     "metadata": {},
     "output_type": "execute_result"
    }
   ],
   "source": [
    "BUDGET = 10000000000 \n",
    "REVENUE = 450000 \n",
    "PROD_ONE_WELL = BUDGET/200/REVENUE\n",
    "PROD_ONE_WELL"
   ]
  },
  {
   "cell_type": "markdown",
   "metadata": {},
   "source": [
    "Для безубыточности производства скважина должна содержать 111 тысяч баррелей нефти. Ниже сравним это со средними данными по регионам."
   ]
  },
  {
   "cell_type": "code",
   "execution_count": 8,
   "metadata": {
    "scrolled": false
   },
   "outputs": [
    {
     "name": "stdout",
     "output_type": "stream",
     "text": [
      "92.50000000000001\n",
      "68.82500000000002\n",
      "95.00000000000004\n"
     ]
    }
   ],
   "source": [
    "print(df0['product'].mean())\n",
    "print(df1['product'].mean())\n",
    "print(df2['product'].mean())\n"
   ]
  },
  {
   "cell_type": "markdown",
   "metadata": {},
   "source": [
    "Хочется сделать 2 вывода. \n",
    "1) Модели выше выдают неплохое качество по среднему значению запасов нефти.\n",
    "\n",
    "2) Средние значения по регионам значительно уступают целевому значению безубыточности в 111 тысячу баррелей."
   ]
  },
  {
   "cell_type": "markdown",
   "metadata": {},
   "source": [
    "## Расчёт прибыли и рисков "
   ]
  },
  {
   "cell_type": "markdown",
   "metadata": {},
   "source": [
    "Преобразуем предсказания моделей в датафреймы пандас, чтобы их можно было сортировать по величине запасов. "
   ]
  },
  {
   "cell_type": "code",
   "execution_count": 9,
   "metadata": {
    "scrolled": true
   },
   "outputs": [
    {
     "name": "stdout",
     "output_type": "stream",
     "text": [
      "Предсказанная прибыль в регионе 0: 2948960411.773096\n",
      "Предсказанная прибыль в регионе 1: 2415086696.681511\n",
      "Предсказанная прибыль в регионе 2: 2555578577.505953\n"
     ]
    }
   ],
   "source": [
    "def profit(df):\n",
    "    sort_predicted = df.sort_values('predicted', ascending = False).head(200)\n",
    "    sort_real = df[df.index.isin(sort_predicted.index)]\n",
    "    revenues = sort_real['product'].sum()*REVENUE - BUDGET\n",
    "    return revenues\n",
    "\n",
    "print('Предсказанная прибыль в регионе 0:', profit(df0))\n",
    "print('Предсказанная прибыль в регионе 1:', profit(df1))\n",
    "print('Предсказанная прибыль в регионе 2:', profit(df2))"
   ]
  },
  {
   "cell_type": "markdown",
   "metadata": {},
   "source": [
    "<div class=\"alert alert-block alert-info\">\n",
    "<b>Совет: </b> Эту функцию лучше было бы назвать profit, так как revenue – это выручка.\n",
    "</div>"
   ]
  },
  {
   "cell_type": "code",
   "execution_count": 10,
   "metadata": {},
   "outputs": [],
   "source": [
    "def risk_profit(df):\n",
    "    state = np.random.RandomState(12345)\n",
    "    target = df['product']\n",
    "    predictions = df['predicted']\n",
    "    values = []\n",
    "    for i in range(1000):\n",
    "        predictions_subsample = predictions.sample(n=500, replace=True, random_state=state)\n",
    "        data = df[df.index.isin(predictions_subsample.index)]\n",
    "        value = profit(data)\n",
    "        values.append(value)\n",
    "    \n",
    "    values = pd.Series(values)    \n",
    "    lower = values.quantile(0.025)\n",
    "    upper = values.quantile(0.975)\n",
    "    mean = values.mean()\n",
    "    loss_risk = values[values < 0].count() / values.count()\n",
    "    losses = (values < 0).mean()\n",
    "                 \n",
    "    return(print(f'95%й доверительный интервал {lower} - {upper} руб.'),\n",
    "           print(\"Средняя прибыль по региону:\", mean),\n",
    "           print(losses),\n",
    "           print(\"Вероятность убытков по региону:\", f'{loss_risk*100}%'))\n",
    "    "
   ]
  },
  {
   "cell_type": "code",
   "execution_count": 11,
   "metadata": {
    "scrolled": true
   },
   "outputs": [
    {
     "name": "stdout",
     "output_type": "stream",
     "text": [
      "95%й доверительный интервал -201086434.5541483 - 900656314.1569986 руб.\n",
      "Средняя прибыль по региону: 333962035.55452675\n",
      "0.097\n",
      "Вероятность убытков по региону: 9.700000000000001%\n"
     ]
    },
    {
     "data": {
      "text/plain": [
       "(None, None, None, None)"
      ]
     },
     "execution_count": 11,
     "metadata": {},
     "output_type": "execute_result"
    }
   ],
   "source": [
    "risk_profit(df0)"
   ]
  },
  {
   "cell_type": "code",
   "execution_count": 12,
   "metadata": {},
   "outputs": [
    {
     "name": "stdout",
     "output_type": "stream",
     "text": [
      "95%й доверительный интервал 33153416.18845363 - 813156428.839896 руб.\n",
      "Средняя прибыль по региону: 441614931.09542817\n",
      "0.014\n",
      "Вероятность убытков по региону: 1.4000000000000001%\n"
     ]
    },
    {
     "data": {
      "text/plain": [
       "(None, None, None, None)"
      ]
     },
     "execution_count": 12,
     "metadata": {},
     "output_type": "execute_result"
    }
   ],
   "source": [
    "risk_profit(df1)"
   ]
  },
  {
   "cell_type": "code",
   "execution_count": 13,
   "metadata": {},
   "outputs": [
    {
     "name": "stdout",
     "output_type": "stream",
     "text": [
      "95%й доверительный интервал -182019253.3325233 - 889544958.2930584 руб.\n",
      "Средняя прибыль по региону: 370377844.7408863\n",
      "0.09\n",
      "Вероятность убытков по региону: 9.0%\n"
     ]
    },
    {
     "data": {
      "text/plain": [
       "(None, None, None, None)"
      ]
     },
     "execution_count": 13,
     "metadata": {},
     "output_type": "execute_result"
    }
   ],
   "source": [
    "risk_profit(df2)"
   ]
  },
  {
   "cell_type": "markdown",
   "metadata": {},
   "source": [
    "Условия проекта гласят, что после оценки рисков нужно оставить лишь те регионы, в которых вероятность убытков меньше 2.5%. Данному условию удовлетворяет лишь регион 1. Помимо минимального риска убытков, средняя прибыль в этом регионе также превышает соседние. Выбираем его."
   ]
  },
  {
   "cell_type": "markdown",
   "metadata": {},
   "source": [
    "### Общие выводы\n",
    "В данном проекте мы изучили нефтяные месторождения трех регионов с целью выбора самого выгодного для бурения скважин в рамках обозначенного бюджета. Для этого мы:\n",
    "* изучили три датасета, \n",
    "* обучили по ним модель линейной регрессии, \n",
    "* проанализировали бизнес-термины, составили функции для расчета прибыли с учетом различных условий бизнеса;\n",
    "* с помощью процедуры бутстреп оценили соотношение рисков и прибыли, что позволило выбрать оптимальный регион для бурения новых скважин. \n",
    "\n",
    "Отметим, что по первоначальным данным обучения моделей этот регион казался наименее интересным с точки зрения запасов нефти, однако бутстрепирование показало, что именно он наименее рискованный и обещает самую стабильную и высокую прибыль для бизнеса."
   ]
  }
 ],
 "metadata": {
  "ExecuteTimeLog": [
   {
    "duration": 412,
    "start_time": "2022-12-14T17:55:35.019Z"
   },
   {
    "duration": 1043,
    "start_time": "2022-12-14T17:57:01.372Z"
   },
   {
    "duration": 151,
    "start_time": "2022-12-14T17:57:08.129Z"
   },
   {
    "duration": 144,
    "start_time": "2022-12-14T17:57:23.099Z"
   },
   {
    "duration": 141,
    "start_time": "2022-12-14T17:57:26.275Z"
   },
   {
    "duration": 794,
    "start_time": "2022-12-14T17:58:06.478Z"
   },
   {
    "duration": 275,
    "start_time": "2022-12-14T17:58:09.673Z"
   },
   {
    "duration": 280,
    "start_time": "2022-12-14T17:58:24.257Z"
   },
   {
    "duration": 898,
    "start_time": "2022-12-14T17:59:07.347Z"
   },
   {
    "duration": 375,
    "start_time": "2022-12-14T17:59:13.241Z"
   },
   {
    "duration": 439,
    "start_time": "2022-12-14T17:59:36.136Z"
   },
   {
    "duration": 431,
    "start_time": "2022-12-14T17:59:42.234Z"
   },
   {
    "duration": 482,
    "start_time": "2022-12-14T17:59:51.567Z"
   },
   {
    "duration": 493,
    "start_time": "2022-12-14T17:59:57.330Z"
   },
   {
    "duration": 591,
    "start_time": "2022-12-14T18:00:33.387Z"
   },
   {
    "duration": 558,
    "start_time": "2022-12-14T18:00:43.768Z"
   },
   {
    "duration": 521,
    "start_time": "2022-12-14T18:01:11.627Z"
   },
   {
    "duration": 514,
    "start_time": "2022-12-14T18:01:17.862Z"
   },
   {
    "duration": 583,
    "start_time": "2022-12-14T18:01:40.967Z"
   },
   {
    "duration": 342,
    "start_time": "2022-12-16T18:12:56.438Z"
   },
   {
    "duration": 726,
    "start_time": "2022-12-16T18:12:56.782Z"
   },
   {
    "duration": 632,
    "start_time": "2022-12-16T18:19:53.808Z"
   },
   {
    "duration": 18,
    "start_time": "2022-12-16T18:21:50.741Z"
   },
   {
    "duration": 20,
    "start_time": "2022-12-16T18:21:57.056Z"
   },
   {
    "duration": 108,
    "start_time": "2022-12-16T18:21:59.465Z"
   },
   {
    "duration": 20,
    "start_time": "2022-12-16T18:22:01.630Z"
   },
   {
    "duration": 37,
    "start_time": "2022-12-16T18:22:16.108Z"
   },
   {
    "duration": 48,
    "start_time": "2022-12-16T18:22:26.377Z"
   },
   {
    "duration": 1212,
    "start_time": "2022-12-17T18:16:51.932Z"
   },
   {
    "duration": 951,
    "start_time": "2022-12-17T18:16:53.146Z"
   },
   {
    "duration": 84,
    "start_time": "2022-12-17T18:16:54.099Z"
   },
   {
    "duration": 56,
    "start_time": "2022-12-17T18:26:21.769Z"
   },
   {
    "duration": 108,
    "start_time": "2022-12-17T18:26:32.651Z"
   },
   {
    "duration": 2,
    "start_time": "2022-12-17T18:26:51.648Z"
   },
   {
    "duration": 538,
    "start_time": "2022-12-17T18:26:51.656Z"
   },
   {
    "duration": 34,
    "start_time": "2022-12-17T18:26:54.480Z"
   },
   {
    "duration": 24,
    "start_time": "2022-12-17T18:27:20.692Z"
   },
   {
    "duration": 29,
    "start_time": "2022-12-17T18:28:02.462Z"
   },
   {
    "duration": 4,
    "start_time": "2022-12-17T18:28:08.459Z"
   },
   {
    "duration": 540,
    "start_time": "2022-12-17T18:28:08.464Z"
   },
   {
    "duration": 31,
    "start_time": "2022-12-17T18:28:09.006Z"
   },
   {
    "duration": 26,
    "start_time": "2022-12-17T18:28:17.196Z"
   },
   {
    "duration": 26,
    "start_time": "2022-12-17T18:28:21.576Z"
   },
   {
    "duration": 29,
    "start_time": "2022-12-17T18:29:14.459Z"
   },
   {
    "duration": 23,
    "start_time": "2022-12-17T18:29:42.981Z"
   },
   {
    "duration": 25,
    "start_time": "2022-12-17T18:30:09.469Z"
   },
   {
    "duration": 24,
    "start_time": "2022-12-17T18:30:33.997Z"
   },
   {
    "duration": 23,
    "start_time": "2022-12-17T18:30:44.140Z"
   },
   {
    "duration": 29,
    "start_time": "2022-12-17T18:30:45.813Z"
   },
   {
    "duration": 3,
    "start_time": "2022-12-17T18:34:07.385Z"
   },
   {
    "duration": 83,
    "start_time": "2022-12-17T18:35:44.623Z"
   },
   {
    "duration": 4,
    "start_time": "2022-12-17T18:36:08.593Z"
   },
   {
    "duration": 50,
    "start_time": "2022-12-17T18:36:12.459Z"
   },
   {
    "duration": 64,
    "start_time": "2022-12-17T18:36:29.603Z"
   },
   {
    "duration": 9,
    "start_time": "2022-12-17T18:36:50.645Z"
   },
   {
    "duration": 108,
    "start_time": "2022-12-17T18:37:59.987Z"
   },
   {
    "duration": 158,
    "start_time": "2022-12-17T18:38:17.448Z"
   },
   {
    "duration": 22,
    "start_time": "2022-12-17T18:39:05.442Z"
   },
   {
    "duration": 4,
    "start_time": "2022-12-17T18:40:33.475Z"
   },
   {
    "duration": 33,
    "start_time": "2022-12-17T18:41:15.790Z"
   },
   {
    "duration": 537,
    "start_time": "2022-12-17T18:42:21.871Z"
   },
   {
    "duration": 14,
    "start_time": "2022-12-17T18:42:24.451Z"
   },
   {
    "duration": 514,
    "start_time": "2022-12-17T18:42:47.884Z"
   },
   {
    "duration": 553,
    "start_time": "2022-12-17T18:42:54.906Z"
   },
   {
    "duration": 4,
    "start_time": "2022-12-17T18:43:43.736Z"
   },
   {
    "duration": 568,
    "start_time": "2022-12-17T18:43:43.742Z"
   },
   {
    "duration": 19,
    "start_time": "2022-12-17T18:43:44.312Z"
   },
   {
    "duration": 40,
    "start_time": "2022-12-17T18:43:44.332Z"
   },
   {
    "duration": 23,
    "start_time": "2022-12-17T18:43:44.375Z"
   },
   {
    "duration": 69,
    "start_time": "2022-12-17T18:43:44.399Z"
   },
   {
    "duration": 24,
    "start_time": "2022-12-17T18:43:44.470Z"
   },
   {
    "duration": 14,
    "start_time": "2022-12-17T18:44:20.449Z"
   },
   {
    "duration": 15,
    "start_time": "2022-12-17T18:44:45.443Z"
   },
   {
    "duration": 17,
    "start_time": "2022-12-17T18:45:06.654Z"
   },
   {
    "duration": 17,
    "start_time": "2022-12-17T18:45:14.544Z"
   },
   {
    "duration": 14,
    "start_time": "2022-12-17T18:45:46.402Z"
   },
   {
    "duration": 4,
    "start_time": "2022-12-17T19:09:44.446Z"
   },
   {
    "duration": 637,
    "start_time": "2022-12-17T19:09:44.453Z"
   },
   {
    "duration": 15,
    "start_time": "2022-12-17T19:09:45.091Z"
   },
   {
    "duration": 48,
    "start_time": "2022-12-17T19:09:45.109Z"
   },
   {
    "duration": 38,
    "start_time": "2022-12-17T19:09:45.160Z"
   },
   {
    "duration": 68,
    "start_time": "2022-12-17T19:09:45.201Z"
   },
   {
    "duration": 21,
    "start_time": "2022-12-17T19:09:45.271Z"
   },
   {
    "duration": 104,
    "start_time": "2022-12-17T19:09:45.357Z"
   },
   {
    "duration": 195,
    "start_time": "2022-12-17T19:09:45.463Z"
   },
   {
    "duration": 43,
    "start_time": "2022-12-17T19:11:09.083Z"
   },
   {
    "duration": 46,
    "start_time": "2022-12-17T19:11:20.226Z"
   },
   {
    "duration": 42,
    "start_time": "2022-12-17T19:11:22.160Z"
   },
   {
    "duration": 43,
    "start_time": "2022-12-17T19:11:51.440Z"
   },
   {
    "duration": 46,
    "start_time": "2022-12-17T19:11:56.006Z"
   },
   {
    "duration": 62,
    "start_time": "2022-12-17T19:12:00.962Z"
   },
   {
    "duration": 18,
    "start_time": "2022-12-17T19:12:14.058Z"
   },
   {
    "duration": 20,
    "start_time": "2022-12-17T19:12:24.446Z"
   },
   {
    "duration": 50,
    "start_time": "2022-12-17T19:12:39.442Z"
   },
   {
    "duration": 48,
    "start_time": "2022-12-17T19:12:44.319Z"
   },
   {
    "duration": 24,
    "start_time": "2022-12-17T19:12:59.441Z"
   },
   {
    "duration": 3,
    "start_time": "2022-12-17T19:13:38.734Z"
   },
   {
    "duration": 678,
    "start_time": "2022-12-17T19:13:38.740Z"
   },
   {
    "duration": 17,
    "start_time": "2022-12-17T19:13:39.420Z"
   },
   {
    "duration": 33,
    "start_time": "2022-12-17T19:13:39.439Z"
   },
   {
    "duration": 52,
    "start_time": "2022-12-17T19:13:39.473Z"
   },
   {
    "duration": 76,
    "start_time": "2022-12-17T19:13:39.527Z"
   },
   {
    "duration": 51,
    "start_time": "2022-12-17T19:13:39.605Z"
   },
   {
    "duration": 143,
    "start_time": "2022-12-17T19:13:39.658Z"
   },
   {
    "duration": 173,
    "start_time": "2022-12-17T19:13:39.803Z"
   },
   {
    "duration": 15,
    "start_time": "2022-12-17T19:14:00.999Z"
   },
   {
    "duration": 22,
    "start_time": "2022-12-17T19:14:23.256Z"
   },
   {
    "duration": 15,
    "start_time": "2022-12-17T19:14:38.429Z"
   },
   {
    "duration": 56,
    "start_time": "2022-12-17T19:14:47.437Z"
   },
   {
    "duration": 57,
    "start_time": "2022-12-17T19:14:57.428Z"
   },
   {
    "duration": 47,
    "start_time": "2022-12-17T19:15:02.690Z"
   },
   {
    "duration": 63,
    "start_time": "2022-12-17T19:15:06.437Z"
   },
   {
    "duration": 19,
    "start_time": "2022-12-17T19:15:09.376Z"
   },
   {
    "duration": 14,
    "start_time": "2022-12-17T19:15:11.220Z"
   },
   {
    "duration": 15,
    "start_time": "2022-12-17T19:15:12.509Z"
   },
   {
    "duration": 30,
    "start_time": "2022-12-17T19:15:14.255Z"
   },
   {
    "duration": 3,
    "start_time": "2022-12-17T19:15:19.890Z"
   },
   {
    "duration": 603,
    "start_time": "2022-12-17T19:15:19.896Z"
   },
   {
    "duration": 14,
    "start_time": "2022-12-17T19:15:20.501Z"
   },
   {
    "duration": 14,
    "start_time": "2022-12-17T19:15:20.517Z"
   },
   {
    "duration": 40,
    "start_time": "2022-12-17T19:15:20.533Z"
   },
   {
    "duration": 49,
    "start_time": "2022-12-17T19:15:20.574Z"
   },
   {
    "duration": 52,
    "start_time": "2022-12-17T19:15:20.625Z"
   },
   {
    "duration": 199,
    "start_time": "2022-12-17T19:15:20.679Z"
   },
   {
    "duration": 194,
    "start_time": "2022-12-17T19:15:20.880Z"
   },
   {
    "duration": 21,
    "start_time": "2022-12-17T19:15:53.854Z"
   },
   {
    "duration": 16,
    "start_time": "2022-12-17T19:15:56.284Z"
   },
   {
    "duration": 13,
    "start_time": "2022-12-17T19:15:58.795Z"
   },
   {
    "duration": 622,
    "start_time": "2022-12-17T19:16:24.134Z"
   },
   {
    "duration": 548,
    "start_time": "2022-12-17T19:16:32.953Z"
   },
   {
    "duration": 3,
    "start_time": "2022-12-17T19:16:48.934Z"
   },
   {
    "duration": 583,
    "start_time": "2022-12-17T19:16:48.941Z"
   },
   {
    "duration": 28,
    "start_time": "2022-12-17T19:16:49.527Z"
   },
   {
    "duration": 20,
    "start_time": "2022-12-17T19:16:49.558Z"
   },
   {
    "duration": 17,
    "start_time": "2022-12-17T19:16:49.581Z"
   },
   {
    "duration": 78,
    "start_time": "2022-12-17T19:16:49.600Z"
   },
   {
    "duration": 79,
    "start_time": "2022-12-17T19:16:49.680Z"
   },
   {
    "duration": 105,
    "start_time": "2022-12-17T19:16:49.761Z"
   },
   {
    "duration": 196,
    "start_time": "2022-12-17T19:16:49.868Z"
   },
   {
    "duration": 16,
    "start_time": "2022-12-17T19:17:03.951Z"
   },
   {
    "duration": 18,
    "start_time": "2022-12-17T19:17:06.480Z"
   },
   {
    "duration": 1056,
    "start_time": "2022-12-22T18:11:52.315Z"
   },
   {
    "duration": 905,
    "start_time": "2022-12-22T18:11:53.373Z"
   },
   {
    "duration": 16,
    "start_time": "2022-12-22T18:11:54.279Z"
   },
   {
    "duration": 16,
    "start_time": "2022-12-22T18:11:54.297Z"
   },
   {
    "duration": 33,
    "start_time": "2022-12-22T18:11:54.314Z"
   },
   {
    "duration": 42,
    "start_time": "2022-12-22T18:11:54.348Z"
   },
   {
    "duration": 48,
    "start_time": "2022-12-22T18:11:54.391Z"
   },
   {
    "duration": 107,
    "start_time": "2022-12-22T18:11:54.441Z"
   },
   {
    "duration": 188,
    "start_time": "2022-12-22T18:11:54.549Z"
   },
   {
    "duration": 29,
    "start_time": "2022-12-22T18:41:40.306Z"
   },
   {
    "duration": 14,
    "start_time": "2022-12-22T18:42:04.137Z"
   },
   {
    "duration": 14,
    "start_time": "2022-12-22T18:42:17.219Z"
   },
   {
    "duration": 13,
    "start_time": "2022-12-22T18:42:21.514Z"
   },
   {
    "duration": 14,
    "start_time": "2022-12-22T18:42:34.767Z"
   },
   {
    "duration": 14,
    "start_time": "2022-12-22T18:43:04.025Z"
   },
   {
    "duration": 15,
    "start_time": "2022-12-22T18:43:06.160Z"
   },
   {
    "duration": 13,
    "start_time": "2022-12-22T18:43:09.529Z"
   },
   {
    "duration": 49,
    "start_time": "2022-12-22T18:51:59.483Z"
   },
   {
    "duration": 48,
    "start_time": "2022-12-22T18:52:28.159Z"
   },
   {
    "duration": 47,
    "start_time": "2022-12-22T18:52:42.845Z"
   },
   {
    "duration": 94,
    "start_time": "2022-12-22T18:52:45.615Z"
   },
   {
    "duration": 9,
    "start_time": "2022-12-22T18:53:16.932Z"
   },
   {
    "duration": 4,
    "start_time": "2022-12-22T18:53:40.519Z"
   },
   {
    "duration": 9,
    "start_time": "2022-12-22T18:55:06.436Z"
   },
   {
    "duration": 5,
    "start_time": "2022-12-22T18:55:13.023Z"
   },
   {
    "duration": 5,
    "start_time": "2022-12-22T18:55:24.236Z"
   },
   {
    "duration": 6,
    "start_time": "2022-12-22T18:55:37.933Z"
   },
   {
    "duration": 1083,
    "start_time": "2022-12-23T17:19:37.713Z"
   },
   {
    "duration": 1745,
    "start_time": "2022-12-23T17:19:38.798Z"
   },
   {
    "duration": 17,
    "start_time": "2022-12-23T17:19:40.544Z"
   },
   {
    "duration": 17,
    "start_time": "2022-12-23T17:19:40.563Z"
   },
   {
    "duration": 42,
    "start_time": "2022-12-23T17:19:40.582Z"
   },
   {
    "duration": 44,
    "start_time": "2022-12-23T17:19:40.626Z"
   },
   {
    "duration": 59,
    "start_time": "2022-12-23T17:19:40.672Z"
   },
   {
    "duration": 103,
    "start_time": "2022-12-23T17:19:40.733Z"
   },
   {
    "duration": 187,
    "start_time": "2022-12-23T17:19:40.838Z"
   },
   {
    "duration": 214,
    "start_time": "2022-12-23T17:19:41.027Z"
   },
   {
    "duration": 0,
    "start_time": "2022-12-23T17:19:41.242Z"
   },
   {
    "duration": 3,
    "start_time": "2022-12-23T17:20:08.934Z"
   },
   {
    "duration": 2,
    "start_time": "2022-12-23T17:20:12.886Z"
   },
   {
    "duration": 540,
    "start_time": "2022-12-23T17:20:12.909Z"
   },
   {
    "duration": 15,
    "start_time": "2022-12-23T17:20:13.451Z"
   },
   {
    "duration": 16,
    "start_time": "2022-12-23T17:20:13.468Z"
   },
   {
    "duration": 37,
    "start_time": "2022-12-23T17:20:13.486Z"
   },
   {
    "duration": 45,
    "start_time": "2022-12-23T17:20:13.525Z"
   },
   {
    "duration": 53,
    "start_time": "2022-12-23T17:20:13.571Z"
   },
   {
    "duration": 106,
    "start_time": "2022-12-23T17:20:13.627Z"
   },
   {
    "duration": 190,
    "start_time": "2022-12-23T17:20:13.735Z"
   },
   {
    "duration": 103,
    "start_time": "2022-12-23T17:20:13.926Z"
   },
   {
    "duration": 13,
    "start_time": "2022-12-23T17:20:14.031Z"
   },
   {
    "duration": 9,
    "start_time": "2022-12-23T17:42:47.738Z"
   },
   {
    "duration": 4,
    "start_time": "2022-12-23T17:43:13.812Z"
   },
   {
    "duration": 10,
    "start_time": "2022-12-23T17:43:16.970Z"
   },
   {
    "duration": 9,
    "start_time": "2022-12-23T17:43:32.570Z"
   },
   {
    "duration": 9,
    "start_time": "2022-12-23T17:43:35.570Z"
   },
   {
    "duration": 5,
    "start_time": "2022-12-23T17:43:41.119Z"
   },
   {
    "duration": 4,
    "start_time": "2022-12-23T17:43:47.743Z"
   },
   {
    "duration": 8,
    "start_time": "2022-12-23T17:43:55.961Z"
   },
   {
    "duration": 8,
    "start_time": "2022-12-23T17:51:07.517Z"
   },
   {
    "duration": 17,
    "start_time": "2022-12-23T17:51:33.605Z"
   },
   {
    "duration": 1090,
    "start_time": "2022-12-24T18:16:10.432Z"
   },
   {
    "duration": 1116,
    "start_time": "2022-12-24T18:16:11.524Z"
   },
   {
    "duration": 21,
    "start_time": "2022-12-24T18:16:12.643Z"
   },
   {
    "duration": 23,
    "start_time": "2022-12-24T18:16:12.667Z"
   },
   {
    "duration": 51,
    "start_time": "2022-12-24T18:16:12.692Z"
   },
   {
    "duration": 48,
    "start_time": "2022-12-24T18:16:12.745Z"
   },
   {
    "duration": 50,
    "start_time": "2022-12-24T18:16:12.795Z"
   },
   {
    "duration": 104,
    "start_time": "2022-12-24T18:16:12.849Z"
   },
   {
    "duration": 192,
    "start_time": "2022-12-24T18:16:12.955Z"
   },
   {
    "duration": 90,
    "start_time": "2022-12-24T18:16:13.150Z"
   },
   {
    "duration": 108,
    "start_time": "2022-12-24T18:16:13.242Z"
   },
   {
    "duration": 104,
    "start_time": "2022-12-24T18:16:13.352Z"
   },
   {
    "duration": 0,
    "start_time": "2022-12-24T18:16:13.458Z"
   },
   {
    "duration": 9,
    "start_time": "2022-12-24T18:18:45.456Z"
   },
   {
    "duration": 4,
    "start_time": "2022-12-24T18:19:31.254Z"
   },
   {
    "duration": 4,
    "start_time": "2022-12-24T18:19:34.036Z"
   },
   {
    "duration": 9,
    "start_time": "2022-12-24T18:19:42.641Z"
   },
   {
    "duration": 8,
    "start_time": "2022-12-24T18:20:41.442Z"
   },
   {
    "duration": 8,
    "start_time": "2022-12-24T18:25:14.886Z"
   },
   {
    "duration": 3,
    "start_time": "2022-12-24T18:25:24.679Z"
   },
   {
    "duration": 9,
    "start_time": "2022-12-24T18:25:37.144Z"
   },
   {
    "duration": 9,
    "start_time": "2022-12-24T18:25:45.889Z"
   },
   {
    "duration": 5,
    "start_time": "2022-12-24T18:25:52.495Z"
   },
   {
    "duration": 10,
    "start_time": "2022-12-24T18:26:02.401Z"
   },
   {
    "duration": 2,
    "start_time": "2022-12-24T18:28:08.451Z"
   },
   {
    "duration": 516,
    "start_time": "2022-12-24T18:28:08.457Z"
   },
   {
    "duration": 14,
    "start_time": "2022-12-24T18:28:08.975Z"
   },
   {
    "duration": 20,
    "start_time": "2022-12-24T18:28:08.991Z"
   },
   {
    "duration": 29,
    "start_time": "2022-12-24T18:28:09.013Z"
   },
   {
    "duration": 44,
    "start_time": "2022-12-24T18:28:09.044Z"
   },
   {
    "duration": 54,
    "start_time": "2022-12-24T18:28:09.090Z"
   },
   {
    "duration": 100,
    "start_time": "2022-12-24T18:28:09.147Z"
   },
   {
    "duration": 100,
    "start_time": "2022-12-24T18:28:09.249Z"
   },
   {
    "duration": 98,
    "start_time": "2022-12-24T18:28:09.439Z"
   },
   {
    "duration": 12,
    "start_time": "2022-12-24T18:28:09.539Z"
   },
   {
    "duration": 3,
    "start_time": "2022-12-24T18:29:09.699Z"
   },
   {
    "duration": 10,
    "start_time": "2022-12-24T18:29:15.654Z"
   },
   {
    "duration": 11,
    "start_time": "2022-12-24T18:29:22.504Z"
   },
   {
    "duration": 5,
    "start_time": "2022-12-24T18:29:58.147Z"
   },
   {
    "duration": 4,
    "start_time": "2022-12-24T18:30:00.172Z"
   },
   {
    "duration": 11,
    "start_time": "2022-12-24T18:30:06.116Z"
   },
   {
    "duration": 3,
    "start_time": "2022-12-24T18:35:47.292Z"
   },
   {
    "duration": 5,
    "start_time": "2022-12-24T18:35:52.464Z"
   },
   {
    "duration": 4,
    "start_time": "2022-12-24T18:38:14.637Z"
   },
   {
    "duration": 13,
    "start_time": "2022-12-24T18:42:08.217Z"
   },
   {
    "duration": 14,
    "start_time": "2022-12-24T18:42:38.282Z"
   },
   {
    "duration": 16,
    "start_time": "2022-12-24T18:43:21.033Z"
   },
   {
    "duration": 19,
    "start_time": "2022-12-24T18:44:32.593Z"
   },
   {
    "duration": 11,
    "start_time": "2022-12-24T18:44:46.280Z"
   },
   {
    "duration": 11,
    "start_time": "2022-12-24T18:44:59.932Z"
   },
   {
    "duration": 9,
    "start_time": "2022-12-24T18:45:41.792Z"
   },
   {
    "duration": 11,
    "start_time": "2022-12-24T18:46:07.483Z"
   },
   {
    "duration": 20,
    "start_time": "2022-12-24T18:46:33.055Z"
   },
   {
    "duration": 22,
    "start_time": "2022-12-24T18:47:01.653Z"
   },
   {
    "duration": 21,
    "start_time": "2022-12-24T18:47:12.203Z"
   },
   {
    "duration": 19,
    "start_time": "2022-12-24T18:49:15.848Z"
   },
   {
    "duration": 11,
    "start_time": "2022-12-24T19:02:15.374Z"
   },
   {
    "duration": 3,
    "start_time": "2022-12-24T19:02:28.846Z"
   },
   {
    "duration": 1431,
    "start_time": "2022-12-24T19:02:32.988Z"
   },
   {
    "duration": 1549,
    "start_time": "2022-12-24T19:02:51.257Z"
   },
   {
    "duration": 1126,
    "start_time": "2022-12-25T18:32:04.463Z"
   },
   {
    "duration": 1203,
    "start_time": "2022-12-25T18:32:05.591Z"
   },
   {
    "duration": 20,
    "start_time": "2022-12-25T18:32:06.795Z"
   },
   {
    "duration": 23,
    "start_time": "2022-12-25T18:32:06.817Z"
   },
   {
    "duration": 49,
    "start_time": "2022-12-25T18:32:06.842Z"
   },
   {
    "duration": 52,
    "start_time": "2022-12-25T18:32:06.892Z"
   },
   {
    "duration": 43,
    "start_time": "2022-12-25T18:32:06.947Z"
   },
   {
    "duration": 95,
    "start_time": "2022-12-25T18:32:06.992Z"
   },
   {
    "duration": 103,
    "start_time": "2022-12-25T18:32:07.179Z"
   },
   {
    "duration": 94,
    "start_time": "2022-12-25T18:32:07.288Z"
   },
   {
    "duration": 98,
    "start_time": "2022-12-25T18:32:07.385Z"
   },
   {
    "duration": 15,
    "start_time": "2022-12-25T18:32:07.486Z"
   },
   {
    "duration": 34,
    "start_time": "2022-12-25T18:32:07.502Z"
   },
   {
    "duration": 1674,
    "start_time": "2022-12-25T18:32:07.537Z"
   },
   {
    "duration": 8,
    "start_time": "2022-12-25T18:33:14.063Z"
   },
   {
    "duration": 9,
    "start_time": "2022-12-25T18:33:22.767Z"
   },
   {
    "duration": 9,
    "start_time": "2022-12-25T18:33:24.049Z"
   },
   {
    "duration": 11,
    "start_time": "2022-12-25T18:33:28.690Z"
   },
   {
    "duration": 48,
    "start_time": "2022-12-25T18:33:54.836Z"
   },
   {
    "duration": 15,
    "start_time": "2022-12-25T18:33:57.283Z"
   },
   {
    "duration": 9,
    "start_time": "2022-12-25T18:33:58.665Z"
   },
   {
    "duration": 5,
    "start_time": "2022-12-25T18:49:00.983Z"
   },
   {
    "duration": 9,
    "start_time": "2022-12-25T18:49:26.957Z"
   },
   {
    "duration": 4,
    "start_time": "2022-12-25T18:49:30.515Z"
   },
   {
    "duration": 4,
    "start_time": "2022-12-25T18:49:37.560Z"
   },
   {
    "duration": 6,
    "start_time": "2022-12-25T18:49:42.462Z"
   },
   {
    "duration": 1412,
    "start_time": "2022-12-25T18:49:57.707Z"
   },
   {
    "duration": 13,
    "start_time": "2022-12-25T18:51:00.444Z"
   },
   {
    "duration": 13,
    "start_time": "2022-12-25T18:51:53.417Z"
   },
   {
    "duration": 6,
    "start_time": "2022-12-25T18:52:43.152Z"
   },
   {
    "duration": 657,
    "start_time": "2022-12-25T18:56:38.833Z"
   },
   {
    "duration": 70,
    "start_time": "2022-12-25T19:00:48.977Z"
   },
   {
    "duration": 17,
    "start_time": "2022-12-25T19:01:07.633Z"
   },
   {
    "duration": 11,
    "start_time": "2022-12-25T19:03:02.766Z"
   },
   {
    "duration": 7,
    "start_time": "2022-12-25T19:03:07.396Z"
   },
   {
    "duration": 7,
    "start_time": "2022-12-25T19:03:25.662Z"
   },
   {
    "duration": 7,
    "start_time": "2022-12-25T19:03:31.879Z"
   },
   {
    "duration": 15,
    "start_time": "2022-12-25T19:03:39.645Z"
   },
   {
    "duration": 390,
    "start_time": "2022-12-25T19:04:03.445Z"
   },
   {
    "duration": 458,
    "start_time": "2022-12-25T19:04:18.396Z"
   },
   {
    "duration": 367,
    "start_time": "2022-12-25T19:04:39.242Z"
   },
   {
    "duration": 3070,
    "start_time": "2022-12-25T19:04:52.954Z"
   },
   {
    "duration": 386,
    "start_time": "2022-12-25T19:09:25.098Z"
   },
   {
    "duration": 56,
    "start_time": "2022-12-25T19:10:12.776Z"
   },
   {
    "duration": 13,
    "start_time": "2022-12-25T19:10:15.706Z"
   },
   {
    "duration": 14,
    "start_time": "2022-12-25T19:10:18.505Z"
   },
   {
    "duration": 878,
    "start_time": "2022-12-25T19:11:05.653Z"
   },
   {
    "duration": 377,
    "start_time": "2022-12-25T19:11:11.154Z"
   },
   {
    "duration": 883,
    "start_time": "2022-12-25T19:11:15.273Z"
   },
   {
    "duration": 3369,
    "start_time": "2022-12-25T19:12:53.593Z"
   },
   {
    "duration": 3184,
    "start_time": "2022-12-25T19:13:05.279Z"
   },
   {
    "duration": 49,
    "start_time": "2022-12-26T17:40:25.256Z"
   },
   {
    "duration": 1073,
    "start_time": "2022-12-26T17:40:28.653Z"
   },
   {
    "duration": 2205,
    "start_time": "2022-12-26T17:40:29.728Z"
   },
   {
    "duration": 16,
    "start_time": "2022-12-26T17:40:31.934Z"
   },
   {
    "duration": 17,
    "start_time": "2022-12-26T17:40:31.952Z"
   },
   {
    "duration": 17,
    "start_time": "2022-12-26T17:40:31.971Z"
   },
   {
    "duration": 73,
    "start_time": "2022-12-26T17:40:31.990Z"
   },
   {
    "duration": 63,
    "start_time": "2022-12-26T17:40:32.064Z"
   },
   {
    "duration": 105,
    "start_time": "2022-12-26T17:40:32.129Z"
   },
   {
    "duration": 91,
    "start_time": "2022-12-26T17:40:32.236Z"
   },
   {
    "duration": 100,
    "start_time": "2022-12-26T17:40:32.330Z"
   },
   {
    "duration": 8,
    "start_time": "2022-12-26T17:40:32.521Z"
   },
   {
    "duration": 21,
    "start_time": "2022-12-26T17:40:32.531Z"
   },
   {
    "duration": 18,
    "start_time": "2022-12-26T17:40:32.553Z"
   },
   {
    "duration": 2915,
    "start_time": "2022-12-26T17:40:32.573Z"
   },
   {
    "duration": 2902,
    "start_time": "2022-12-26T17:40:46.976Z"
   },
   {
    "duration": 3060,
    "start_time": "2022-12-26T17:42:46.686Z"
   },
   {
    "duration": 3006,
    "start_time": "2022-12-26T17:44:00.499Z"
   },
   {
    "duration": 2858,
    "start_time": "2022-12-26T17:44:36.886Z"
   },
   {
    "duration": 2983,
    "start_time": "2022-12-26T17:44:49.507Z"
   },
   {
    "duration": 3057,
    "start_time": "2022-12-26T17:45:25.575Z"
   },
   {
    "duration": 396,
    "start_time": "2022-12-26T17:50:33.596Z"
   },
   {
    "duration": 390,
    "start_time": "2022-12-26T17:50:36.108Z"
   },
   {
    "duration": 390,
    "start_time": "2022-12-26T17:50:38.761Z"
   },
   {
    "duration": 390,
    "start_time": "2022-12-26T17:53:08.377Z"
   },
   {
    "duration": 402,
    "start_time": "2022-12-26T17:53:34.775Z"
   },
   {
    "duration": 398,
    "start_time": "2022-12-26T17:53:41.238Z"
   },
   {
    "duration": 380,
    "start_time": "2022-12-26T17:53:52.827Z"
   },
   {
    "duration": 401,
    "start_time": "2022-12-26T17:53:57.277Z"
   },
   {
    "duration": 402,
    "start_time": "2022-12-26T17:54:58.017Z"
   },
   {
    "duration": 382,
    "start_time": "2022-12-26T17:55:08.158Z"
   },
   {
    "duration": 376,
    "start_time": "2022-12-26T17:55:18.099Z"
   },
   {
    "duration": 387,
    "start_time": "2022-12-26T17:55:47.754Z"
   },
   {
    "duration": 426,
    "start_time": "2022-12-26T17:56:01.469Z"
   },
   {
    "duration": 414,
    "start_time": "2022-12-26T17:56:11.415Z"
   },
   {
    "duration": 3,
    "start_time": "2022-12-26T18:06:39.119Z"
   },
   {
    "duration": 60,
    "start_time": "2022-12-26T18:08:59.568Z"
   },
   {
    "duration": 12,
    "start_time": "2022-12-26T18:09:30.559Z"
   },
   {
    "duration": 19,
    "start_time": "2022-12-26T18:10:19.644Z"
   },
   {
    "duration": 18,
    "start_time": "2022-12-26T18:14:48.633Z"
   },
   {
    "duration": 13,
    "start_time": "2022-12-26T18:16:35.126Z"
   },
   {
    "duration": 21,
    "start_time": "2022-12-26T18:16:42.067Z"
   },
   {
    "duration": 23,
    "start_time": "2022-12-26T18:17:35.860Z"
   },
   {
    "duration": 20,
    "start_time": "2022-12-26T18:17:55.908Z"
   },
   {
    "duration": 19,
    "start_time": "2022-12-26T18:18:04.411Z"
   },
   {
    "duration": 22,
    "start_time": "2022-12-26T18:18:22.104Z"
   },
   {
    "duration": 18,
    "start_time": "2022-12-26T18:20:32.812Z"
   },
   {
    "duration": 17,
    "start_time": "2022-12-26T18:20:51.040Z"
   },
   {
    "duration": 26,
    "start_time": "2022-12-26T18:21:02.760Z"
   },
   {
    "duration": 26,
    "start_time": "2022-12-26T18:21:09.306Z"
   },
   {
    "duration": 4540,
    "start_time": "2022-12-26T18:21:19.273Z"
   },
   {
    "duration": 4222,
    "start_time": "2022-12-26T18:21:37.358Z"
   },
   {
    "duration": 4,
    "start_time": "2022-12-26T18:21:45.765Z"
   },
   {
    "duration": 673,
    "start_time": "2022-12-26T18:21:45.773Z"
   },
   {
    "duration": 17,
    "start_time": "2022-12-26T18:21:46.448Z"
   },
   {
    "duration": 19,
    "start_time": "2022-12-26T18:21:46.467Z"
   },
   {
    "duration": 46,
    "start_time": "2022-12-26T18:21:46.489Z"
   },
   {
    "duration": 47,
    "start_time": "2022-12-26T18:21:46.537Z"
   },
   {
    "duration": 39,
    "start_time": "2022-12-26T18:21:46.586Z"
   },
   {
    "duration": 199,
    "start_time": "2022-12-26T18:21:46.626Z"
   },
   {
    "duration": 198,
    "start_time": "2022-12-26T18:21:46.827Z"
   },
   {
    "duration": 94,
    "start_time": "2022-12-26T18:21:47.028Z"
   },
   {
    "duration": 6,
    "start_time": "2022-12-26T18:21:47.126Z"
   },
   {
    "duration": 91,
    "start_time": "2022-12-26T18:21:47.134Z"
   },
   {
    "duration": 17,
    "start_time": "2022-12-26T18:21:47.227Z"
   },
   {
    "duration": 4271,
    "start_time": "2022-12-26T18:21:47.246Z"
   },
   {
    "duration": 417,
    "start_time": "2022-12-26T18:21:51.525Z"
   },
   {
    "duration": 414,
    "start_time": "2022-12-26T18:21:51.944Z"
   },
   {
    "duration": 412,
    "start_time": "2022-12-26T18:21:52.359Z"
   },
   {
    "duration": 4254,
    "start_time": "2022-12-26T18:22:11.098Z"
   },
   {
    "duration": 25,
    "start_time": "2022-12-26T18:22:23.199Z"
   },
   {
    "duration": 6,
    "start_time": "2022-12-26T18:24:26.496Z"
   },
   {
    "duration": 9,
    "start_time": "2022-12-26T18:24:31.964Z"
   },
   {
    "duration": 7,
    "start_time": "2022-12-26T18:25:06.728Z"
   },
   {
    "duration": 18,
    "start_time": "2022-12-26T18:26:47.815Z"
   },
   {
    "duration": 26,
    "start_time": "2022-12-26T18:26:55.813Z"
   },
   {
    "duration": 25,
    "start_time": "2022-12-26T18:27:04.770Z"
   },
   {
    "duration": 24,
    "start_time": "2022-12-26T18:27:20.857Z"
   },
   {
    "duration": 25,
    "start_time": "2022-12-26T18:27:33.876Z"
   },
   {
    "duration": 27,
    "start_time": "2022-12-26T18:27:44.977Z"
   },
   {
    "duration": 20,
    "start_time": "2022-12-26T18:30:38.151Z"
   },
   {
    "duration": 19,
    "start_time": "2022-12-26T18:30:42.410Z"
   },
   {
    "duration": 16,
    "start_time": "2022-12-26T18:30:46.562Z"
   },
   {
    "duration": 17,
    "start_time": "2022-12-26T18:30:57.774Z"
   },
   {
    "duration": 17,
    "start_time": "2022-12-26T18:31:09.852Z"
   },
   {
    "duration": 31,
    "start_time": "2022-12-26T18:31:34.628Z"
   },
   {
    "duration": 3,
    "start_time": "2022-12-26T18:31:46.596Z"
   },
   {
    "duration": 550,
    "start_time": "2022-12-26T18:31:46.604Z"
   },
   {
    "duration": 13,
    "start_time": "2022-12-26T18:31:47.156Z"
   },
   {
    "duration": 14,
    "start_time": "2022-12-26T18:31:47.171Z"
   },
   {
    "duration": 40,
    "start_time": "2022-12-26T18:31:47.188Z"
   },
   {
    "duration": 49,
    "start_time": "2022-12-26T18:31:47.230Z"
   },
   {
    "duration": 45,
    "start_time": "2022-12-26T18:31:47.281Z"
   },
   {
    "duration": 100,
    "start_time": "2022-12-26T18:31:47.328Z"
   },
   {
    "duration": 192,
    "start_time": "2022-12-26T18:31:47.430Z"
   },
   {
    "duration": 99,
    "start_time": "2022-12-26T18:31:47.624Z"
   },
   {
    "duration": 7,
    "start_time": "2022-12-26T18:31:47.726Z"
   },
   {
    "duration": 7,
    "start_time": "2022-12-26T18:31:47.734Z"
   },
   {
    "duration": 15,
    "start_time": "2022-12-26T18:31:47.743Z"
   },
   {
    "duration": 33,
    "start_time": "2022-12-26T18:31:47.760Z"
   },
   {
    "duration": 0,
    "start_time": "2022-12-26T18:31:47.794Z"
   },
   {
    "duration": 0,
    "start_time": "2022-12-26T18:31:47.822Z"
   },
   {
    "duration": 0,
    "start_time": "2022-12-26T18:31:47.823Z"
   },
   {
    "duration": 6,
    "start_time": "2022-12-26T18:32:38.096Z"
   },
   {
    "duration": 4,
    "start_time": "2022-12-26T18:32:52.627Z"
   },
   {
    "duration": 7,
    "start_time": "2022-12-26T18:32:57.542Z"
   },
   {
    "duration": 9,
    "start_time": "2022-12-26T18:33:20.936Z"
   },
   {
    "duration": 7,
    "start_time": "2022-12-26T18:33:23.814Z"
   },
   {
    "duration": 35,
    "start_time": "2022-12-26T18:33:27.274Z"
   },
   {
    "duration": 4,
    "start_time": "2022-12-26T18:52:25.440Z"
   },
   {
    "duration": 17,
    "start_time": "2022-12-26T18:52:50.757Z"
   },
   {
    "duration": 4,
    "start_time": "2022-12-26T18:53:04.994Z"
   },
   {
    "duration": 19,
    "start_time": "2022-12-26T18:53:07.216Z"
   },
   {
    "duration": 4,
    "start_time": "2022-12-26T18:53:25.976Z"
   },
   {
    "duration": 81,
    "start_time": "2022-12-26T18:53:28.346Z"
   },
   {
    "duration": 4,
    "start_time": "2022-12-26T18:54:07.780Z"
   },
   {
    "duration": 37,
    "start_time": "2022-12-26T18:54:09.585Z"
   },
   {
    "duration": 20,
    "start_time": "2022-12-26T18:54:24.529Z"
   },
   {
    "duration": 25,
    "start_time": "2022-12-26T18:54:32.640Z"
   },
   {
    "duration": 29,
    "start_time": "2022-12-26T18:54:57.814Z"
   },
   {
    "duration": 23,
    "start_time": "2022-12-26T18:55:51.452Z"
   },
   {
    "duration": 4,
    "start_time": "2022-12-26T18:57:28.334Z"
   },
   {
    "duration": 25,
    "start_time": "2022-12-26T18:57:30.365Z"
   },
   {
    "duration": 22,
    "start_time": "2022-12-26T18:57:38.281Z"
   },
   {
    "duration": 23,
    "start_time": "2022-12-26T18:57:40.034Z"
   },
   {
    "duration": 5,
    "start_time": "2022-12-26T18:59:04.657Z"
   },
   {
    "duration": 5,
    "start_time": "2022-12-26T18:59:09.078Z"
   },
   {
    "duration": 4,
    "start_time": "2022-12-26T19:00:34.661Z"
   },
   {
    "duration": 23,
    "start_time": "2022-12-26T19:00:36.414Z"
   },
   {
    "duration": 27,
    "start_time": "2022-12-26T19:00:38.459Z"
   },
   {
    "duration": 25,
    "start_time": "2022-12-26T19:00:40.519Z"
   },
   {
    "duration": 5,
    "start_time": "2022-12-26T19:02:36.562Z"
   },
   {
    "duration": 83,
    "start_time": "2022-12-26T19:02:38.440Z"
   },
   {
    "duration": 84,
    "start_time": "2022-12-26T19:02:47.945Z"
   },
   {
    "duration": 80,
    "start_time": "2022-12-26T19:03:02.846Z"
   },
   {
    "duration": 94,
    "start_time": "2022-12-26T19:03:08.529Z"
   },
   {
    "duration": 15,
    "start_time": "2022-12-26T19:05:36.515Z"
   },
   {
    "duration": 63,
    "start_time": "2022-12-26T19:05:45.646Z"
   },
   {
    "duration": 53,
    "start_time": "2022-12-26T19:08:09.299Z"
   },
   {
    "duration": 77,
    "start_time": "2022-12-26T19:16:24.699Z"
   },
   {
    "duration": 75,
    "start_time": "2022-12-26T19:16:34.566Z"
   },
   {
    "duration": 76,
    "start_time": "2022-12-26T19:17:09.603Z"
   },
   {
    "duration": 96,
    "start_time": "2022-12-26T19:17:15.006Z"
   },
   {
    "duration": 5,
    "start_time": "2022-12-26T19:17:32.142Z"
   },
   {
    "duration": 16,
    "start_time": "2022-12-26T19:17:57.342Z"
   },
   {
    "duration": 88,
    "start_time": "2022-12-26T19:19:27.736Z"
   },
   {
    "duration": 7,
    "start_time": "2022-12-26T19:19:37.291Z"
   },
   {
    "duration": 84,
    "start_time": "2022-12-26T19:20:26.558Z"
   },
   {
    "duration": 6,
    "start_time": "2022-12-26T19:21:13.256Z"
   },
   {
    "duration": 13,
    "start_time": "2022-12-26T19:21:14.993Z"
   },
   {
    "duration": 5,
    "start_time": "2022-12-26T19:22:48.314Z"
   },
   {
    "duration": 13,
    "start_time": "2022-12-26T19:22:49.543Z"
   },
   {
    "duration": 6,
    "start_time": "2022-12-26T19:24:07.045Z"
   },
   {
    "duration": 14,
    "start_time": "2022-12-26T19:24:09.281Z"
   },
   {
    "duration": 6,
    "start_time": "2022-12-26T19:25:13.821Z"
   },
   {
    "duration": 16,
    "start_time": "2022-12-26T19:25:15.675Z"
   },
   {
    "duration": 9,
    "start_time": "2022-12-26T19:26:36.732Z"
   },
   {
    "duration": 56,
    "start_time": "2022-12-26T19:26:54.023Z"
   },
   {
    "duration": 7,
    "start_time": "2022-12-26T19:26:58.173Z"
   },
   {
    "duration": 2813,
    "start_time": "2022-12-26T19:26:59.585Z"
   },
   {
    "duration": 2564,
    "start_time": "2022-12-26T19:27:25.383Z"
   },
   {
    "duration": 2629,
    "start_time": "2022-12-26T19:27:41.710Z"
   },
   {
    "duration": 5,
    "start_time": "2022-12-26T19:30:48.326Z"
   },
   {
    "duration": 2617,
    "start_time": "2022-12-26T19:30:49.781Z"
   },
   {
    "duration": 2598,
    "start_time": "2022-12-26T19:30:52.399Z"
   },
   {
    "duration": 2747,
    "start_time": "2022-12-26T19:30:54.999Z"
   },
   {
    "duration": 4,
    "start_time": "2022-12-26T19:35:00.255Z"
   },
   {
    "duration": 2712,
    "start_time": "2022-12-26T19:35:02.164Z"
   },
   {
    "duration": 3,
    "start_time": "2022-12-26T19:35:06.381Z"
   },
   {
    "duration": 509,
    "start_time": "2022-12-26T19:35:06.387Z"
   },
   {
    "duration": 4,
    "start_time": "2022-12-26T19:35:06.898Z"
   },
   {
    "duration": 119,
    "start_time": "2022-12-26T19:35:06.904Z"
   },
   {
    "duration": 202,
    "start_time": "2022-12-26T19:35:07.025Z"
   },
   {
    "duration": 191,
    "start_time": "2022-12-26T19:35:07.232Z"
   },
   {
    "duration": 4,
    "start_time": "2022-12-26T19:35:07.425Z"
   },
   {
    "duration": 104,
    "start_time": "2022-12-26T19:35:07.431Z"
   },
   {
    "duration": 56,
    "start_time": "2022-12-26T19:35:07.536Z"
   },
   {
    "duration": 5,
    "start_time": "2022-12-26T19:35:07.594Z"
   },
   {
    "duration": 2564,
    "start_time": "2022-12-26T19:35:07.601Z"
   },
   {
    "duration": 2515,
    "start_time": "2022-12-26T19:35:10.167Z"
   },
   {
    "duration": 2597,
    "start_time": "2022-12-26T19:35:12.683Z"
   },
   {
    "duration": 10,
    "start_time": "2022-12-27T18:14:11.107Z"
   },
   {
    "duration": 40,
    "start_time": "2022-12-27T18:14:13.432Z"
   },
   {
    "duration": 1013,
    "start_time": "2022-12-27T18:14:16.646Z"
   },
   {
    "duration": 946,
    "start_time": "2022-12-27T18:14:17.661Z"
   },
   {
    "duration": 6,
    "start_time": "2022-12-27T18:14:18.612Z"
   },
   {
    "duration": 101,
    "start_time": "2022-12-27T18:14:18.620Z"
   },
   {
    "duration": 107,
    "start_time": "2022-12-27T18:14:18.813Z"
   },
   {
    "duration": 105,
    "start_time": "2022-12-27T18:14:19.013Z"
   },
   {
    "duration": 94,
    "start_time": "2022-12-27T18:14:19.120Z"
   },
   {
    "duration": 10,
    "start_time": "2022-12-27T18:14:19.216Z"
   },
   {
    "duration": 84,
    "start_time": "2022-12-27T18:14:19.228Z"
   },
   {
    "duration": 6,
    "start_time": "2022-12-27T18:14:19.314Z"
   },
   {
    "duration": 2835,
    "start_time": "2022-12-27T18:14:19.322Z"
   },
   {
    "duration": 2774,
    "start_time": "2022-12-27T18:14:22.159Z"
   },
   {
    "duration": 2747,
    "start_time": "2022-12-27T18:14:24.934Z"
   },
   {
    "duration": 94,
    "start_time": "2022-12-27T18:14:46.226Z"
   },
   {
    "duration": 134,
    "start_time": "2022-12-27T18:14:48.880Z"
   },
   {
    "duration": 6,
    "start_time": "2022-12-27T18:21:11.297Z"
   },
   {
    "duration": 2815,
    "start_time": "2022-12-27T18:21:15.079Z"
   },
   {
    "duration": 2625,
    "start_time": "2022-12-27T18:21:28.408Z"
   },
   {
    "duration": 2632,
    "start_time": "2022-12-27T18:21:41.892Z"
   },
   {
    "duration": 2585,
    "start_time": "2022-12-27T18:21:46.961Z"
   },
   {
    "duration": 3,
    "start_time": "2022-12-27T18:21:53.202Z"
   },
   {
    "duration": 508,
    "start_time": "2022-12-27T18:21:53.209Z"
   },
   {
    "duration": 5,
    "start_time": "2022-12-27T18:21:53.719Z"
   },
   {
    "duration": 96,
    "start_time": "2022-12-27T18:21:53.725Z"
   },
   {
    "duration": 105,
    "start_time": "2022-12-27T18:21:53.913Z"
   },
   {
    "duration": 293,
    "start_time": "2022-12-27T18:21:54.020Z"
   },
   {
    "duration": 4,
    "start_time": "2022-12-27T18:21:54.315Z"
   },
   {
    "duration": 7,
    "start_time": "2022-12-27T18:21:54.321Z"
   },
   {
    "duration": 87,
    "start_time": "2022-12-27T18:21:54.329Z"
   },
   {
    "duration": 6,
    "start_time": "2022-12-27T18:21:54.417Z"
   },
   {
    "duration": 2733,
    "start_time": "2022-12-27T18:21:54.425Z"
   },
   {
    "duration": 2645,
    "start_time": "2022-12-27T18:21:57.160Z"
   },
   {
    "duration": 2631,
    "start_time": "2022-12-27T18:21:59.806Z"
   }
  ],
  "kernelspec": {
   "display_name": "Python 3 (ipykernel)",
   "language": "python",
   "name": "python3"
  },
  "language_info": {
   "codemirror_mode": {
    "name": "ipython",
    "version": 3
   },
   "file_extension": ".py",
   "mimetype": "text/x-python",
   "name": "python",
   "nbconvert_exporter": "python",
   "pygments_lexer": "ipython3",
   "version": "3.9.16"
  },
  "toc": {
   "base_numbering": 1,
   "nav_menu": {},
   "number_sections": true,
   "sideBar": true,
   "skip_h1_title": true,
   "title_cell": "Table of Contents",
   "title_sidebar": "Contents",
   "toc_cell": false,
   "toc_position": {},
   "toc_section_display": true,
   "toc_window_display": false
  }
 },
 "nbformat": 4,
 "nbformat_minor": 2
}
