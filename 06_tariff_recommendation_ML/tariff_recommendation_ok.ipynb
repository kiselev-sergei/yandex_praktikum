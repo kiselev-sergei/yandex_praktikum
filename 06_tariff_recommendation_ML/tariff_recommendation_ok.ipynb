{
 "cells": [
  {
   "cell_type": "markdown",
   "metadata": {},
   "source": [
    "# Рекомендация тарифов"
   ]
  },
  {
   "cell_type": "markdown",
   "metadata": {},
   "source": [
    "Оператор мобильной связи «Мегалайн» выяснил: многие клиенты пользуются архивными тарифами. Они хотят построить систему, способную проанализировать поведение клиентов и предложить пользователям новый тариф: «Смарт» или «Ультра».\n",
    "\n",
    "В вашем распоряжении данные о поведении клиентов, которые уже перешли на эти тарифы. Нужно построить модель для задачи классификации, которая выберет подходящий тариф. Предобработка данных не понадобится — вы её уже сделали.\n",
    "\n",
    "Постройте модель с максимально большим значением accuracy. Чтобы сдать проект успешно, нужно довести долю правильных ответов по крайней мере до 0.75. Проверьте accuracy на тестовой выборке самостоятельно."
   ]
  },
  {
   "cell_type": "markdown",
   "metadata": {},
   "source": [
    "## Откройте и изучите файл"
   ]
  },
  {
   "cell_type": "code",
   "execution_count": 9,
   "metadata": {},
   "outputs": [
    {
     "name": "stdout",
     "output_type": "stream",
     "text": [
      "Requirement already satisfied: fast_ml in /home/sergifranb/anaconda3/envs/ds_practicum_env/lib/python3.9/site-packages (3.68)\n",
      "\n",
      "\u001b[1m[\u001b[0m\u001b[34;49mnotice\u001b[0m\u001b[1;39;49m]\u001b[0m\u001b[39;49m A new release of pip is available: \u001b[0m\u001b[31;49m23.2.1\u001b[0m\u001b[39;49m -> \u001b[0m\u001b[32;49m24.0\u001b[0m\n",
      "\u001b[1m[\u001b[0m\u001b[34;49mnotice\u001b[0m\u001b[1;39;49m]\u001b[0m\u001b[39;49m To update, run: \u001b[0m\u001b[32;49mpip install --upgrade pip\u001b[0m\n"
     ]
    }
   ],
   "source": [
    "#!pip install fast_ml"
   ]
  },
  {
   "cell_type": "code",
   "execution_count": 10,
   "metadata": {},
   "outputs": [],
   "source": [
    "import pandas as pd\n",
    "from sklearn.model_selection import train_test_split\n",
    "from sklearn.ensemble import RandomForestClassifier\n",
    "from sklearn.tree import DecisionTreeClassifier\n",
    "from sklearn.linear_model import LogisticRegression\n",
    "from sklearn.metrics import accuracy_score\n",
    "import joblib\n",
    "from joblib import dump\n",
    "from sklearn.metrics import plot_confusion_matrix\n",
    "\n",
    "from fast_ml.model_development import train_valid_test_split\n"
   ]
  },
  {
   "cell_type": "code",
   "execution_count": 11,
   "metadata": {},
   "outputs": [
    {
     "name": "stdout",
     "output_type": "stream",
     "text": [
      "<class 'pandas.core.frame.DataFrame'>\n",
      "RangeIndex: 3214 entries, 0 to 3213\n",
      "Data columns (total 5 columns):\n",
      " #   Column    Non-Null Count  Dtype  \n",
      "---  ------    --------------  -----  \n",
      " 0   calls     3214 non-null   float64\n",
      " 1   minutes   3214 non-null   float64\n",
      " 2   messages  3214 non-null   float64\n",
      " 3   mb_used   3214 non-null   float64\n",
      " 4   is_ultra  3214 non-null   int64  \n",
      "dtypes: float64(4), int64(1)\n",
      "memory usage: 125.7 KB\n"
     ]
    },
    {
     "data": {
      "text/html": [
       "<div>\n",
       "<style scoped>\n",
       "    .dataframe tbody tr th:only-of-type {\n",
       "        vertical-align: middle;\n",
       "    }\n",
       "\n",
       "    .dataframe tbody tr th {\n",
       "        vertical-align: top;\n",
       "    }\n",
       "\n",
       "    .dataframe thead th {\n",
       "        text-align: right;\n",
       "    }\n",
       "</style>\n",
       "<table border=\"1\" class=\"dataframe\">\n",
       "  <thead>\n",
       "    <tr style=\"text-align: right;\">\n",
       "      <th></th>\n",
       "      <th>calls</th>\n",
       "      <th>minutes</th>\n",
       "      <th>messages</th>\n",
       "      <th>mb_used</th>\n",
       "      <th>is_ultra</th>\n",
       "    </tr>\n",
       "  </thead>\n",
       "  <tbody>\n",
       "    <tr>\n",
       "      <th>0</th>\n",
       "      <td>40.0</td>\n",
       "      <td>311.90</td>\n",
       "      <td>83.0</td>\n",
       "      <td>19915.42</td>\n",
       "      <td>0</td>\n",
       "    </tr>\n",
       "    <tr>\n",
       "      <th>1</th>\n",
       "      <td>85.0</td>\n",
       "      <td>516.75</td>\n",
       "      <td>56.0</td>\n",
       "      <td>22696.96</td>\n",
       "      <td>0</td>\n",
       "    </tr>\n",
       "    <tr>\n",
       "      <th>2</th>\n",
       "      <td>77.0</td>\n",
       "      <td>467.66</td>\n",
       "      <td>86.0</td>\n",
       "      <td>21060.45</td>\n",
       "      <td>0</td>\n",
       "    </tr>\n",
       "    <tr>\n",
       "      <th>3</th>\n",
       "      <td>106.0</td>\n",
       "      <td>745.53</td>\n",
       "      <td>81.0</td>\n",
       "      <td>8437.39</td>\n",
       "      <td>1</td>\n",
       "    </tr>\n",
       "    <tr>\n",
       "      <th>4</th>\n",
       "      <td>66.0</td>\n",
       "      <td>418.74</td>\n",
       "      <td>1.0</td>\n",
       "      <td>14502.75</td>\n",
       "      <td>0</td>\n",
       "    </tr>\n",
       "  </tbody>\n",
       "</table>\n",
       "</div>"
      ],
      "text/plain": [
       "   calls  minutes  messages   mb_used  is_ultra\n",
       "0   40.0   311.90      83.0  19915.42         0\n",
       "1   85.0   516.75      56.0  22696.96         0\n",
       "2   77.0   467.66      86.0  21060.45         0\n",
       "3  106.0   745.53      81.0   8437.39         1\n",
       "4   66.0   418.74       1.0  14502.75         0"
      ]
     },
     "execution_count": 11,
     "metadata": {},
     "output_type": "execute_result"
    }
   ],
   "source": [
    "df = pd.read_csv('https://code.s3.yandex.net/datasets/users_behavior.csv')\n",
    "df.info()\n",
    "df.head()"
   ]
  },
  {
   "cell_type": "markdown",
   "metadata": {},
   "source": [
    "#### Промежуточный вывод\n",
    "Данные предобработаны в прошлом проекте (в теме «Статистический анализ данных»), пропусков нет, типы значений правильные.\n",
    "Целевым показателем является столбец \"is_ultra\" со значениями 1 (тариф \"Ультра\") и 0 (не тариф \"Ультра\", то есть \"Смарт\"), именно его значения будут предсказывать модели. То есть будет решаться задача бинарной классификации.\n"
   ]
  },
  {
   "cell_type": "markdown",
   "metadata": {},
   "source": [
    "## Разбейте данные на выборки"
   ]
  },
  {
   "cell_type": "code",
   "execution_count": 26,
   "metadata": {},
   "outputs": [],
   "source": [
    "X_train, y_train, X_valid, y_valid, X_test, y_test = train_valid_test_split(df, target = 'is_ultra', \n",
    "                                                                            train_size=0.6, valid_size=0.2, test_size=0.2, random_state=12345)"
   ]
  },
  {
   "cell_type": "code",
   "execution_count": 27,
   "metadata": {},
   "outputs": [
    {
     "name": "stdout",
     "output_type": "stream",
     "text": [
      "(1928, 4)\n",
      "(643, 4)\n",
      "(643, 4)\n"
     ]
    }
   ],
   "source": [
    "# убедимся, что размеры поделенных выборок соответствуют соотношению 3:1:1\n",
    "print(X_train.shape)\n",
    "print(X_valid.shape)\n",
    "print(X_test.shape)"
   ]
  },
  {
   "cell_type": "markdown",
   "metadata": {},
   "source": [
    "## Исследуйте модели"
   ]
  },
  {
   "cell_type": "code",
   "execution_count": 28,
   "metadata": {},
   "outputs": [],
   "source": [
    "# модель для дерева решений с глубиной в 6 ветвей\n",
    "model_tree_train = DecisionTreeClassifier(max_depth=6, random_state=12345)\n",
    "model_tree_train.fit(X_train, y_train)\n",
    "\n",
    "predictions_tree_valid = model_tree_train.predict(X_valid)\n",
    "tree_accuracy = accuracy_score(y_valid, predictions_tree_valid)"
   ]
  },
  {
   "cell_type": "code",
   "execution_count": 29,
   "metadata": {},
   "outputs": [],
   "source": [
    "# модель для случайного леса с 50 деревьями и глубиной в 20 ветвей\n",
    "model_forest_train = RandomForestClassifier(n_estimators=50, max_depth=20, random_state=12345)\n",
    "model_forest_train.fit(X_train, y_train)\n",
    "\n",
    "predictions_forest_valid = model_forest_train.predict(X_valid)\n",
    "forest_accuracy = accuracy_score(y_valid, predictions_forest_valid)"
   ]
  },
  {
   "cell_type": "code",
   "execution_count": 30,
   "metadata": {},
   "outputs": [],
   "source": [
    "# модель логистической регрессии с 100 итераций\n",
    "model_lr_train = LogisticRegression(max_iter=100, solver='lbfgs', random_state=12345)\n",
    "model_lr_train.fit(X_train, y_train)\n",
    "\n",
    "predictions_lr_valid = model_lr_train.predict(X_valid)\n",
    "lr_accuracy = accuracy_score(y_valid, predictions_lr_valid)"
   ]
  },
  {
   "cell_type": "code",
   "execution_count": 31,
   "metadata": {},
   "outputs": [],
   "source": [
    "# модель логистической регрессии с 50 итераций\n",
    "model_lr50_train = LogisticRegression(max_iter=50, solver='lbfgs', random_state=12345)\n",
    "model_lr50_train.fit(X_train, y_train)\n",
    "\n",
    "predictions_lr50_valid = model_lr_train.predict(X_valid)\n",
    "lr50_accuracy = accuracy_score(y_valid, predictions_lr50_valid)"
   ]
  },
  {
   "cell_type": "code",
   "execution_count": 32,
   "metadata": {},
   "outputs": [],
   "source": [
    "# модель логистической регрессии с 5000 итераций\n",
    "model_lr5000_train = LogisticRegression(max_iter=5000, solver='lbfgs', random_state=12345)\n",
    "model_lr5000_train.fit(X_train, y_train)\n",
    "\n",
    "predictions_lr5000_valid = model_lr_train.predict(X_valid)\n",
    "lr5000_accuracy = accuracy_score(y_valid, predictions_lr5000_valid)"
   ]
  },
  {
   "cell_type": "code",
   "execution_count": 33,
   "metadata": {},
   "outputs": [
    {
     "name": "stdout",
     "output_type": "stream",
     "text": [
      "Ошибки сформированной модели дерева решений: 139\n",
      "Ошибки сформированной модели случайного леса: 138\n",
      "Ошибки сформированной модели логистической регрессии: 186\n",
      "Ошибки сформированной модели логистической регрессии: 186\n",
      "Ошибки сформированной модели логистической регрессии: 186\n",
      "Accuracy DecisionTreeClassifier: 0.7838258164852255\n",
      "Accuracy RandomForestClassifier: 0.7853810264385692\n",
      "Accuracy LogisticRegression: 0.7107309486780715\n",
      "Accuracy LogisticRegression(50): 0.7107309486780715\n",
      "Accuracy LogisticRegression(5000): 0.7107309486780715\n"
     ]
    }
   ],
   "source": [
    "# создаем функцию счетчика ошибок в предсказанных моделях\n",
    "def error_count(answers, predictions):\n",
    "    counter = 0\n",
    "    for i in range(len(answers)):\n",
    "        if answers[i] != predictions[i]:\n",
    "            counter += 1\n",
    "    return counter\n",
    "\n",
    "print('Ошибки сформированной модели дерева решений:', error_count(y_valid.values, predictions_tree_valid))\n",
    "print('Ошибки сформированной модели случайного леса:', error_count(y_valid.values, predictions_forest_valid))\n",
    "print('Ошибки сформированной модели логистической регрессии:', error_count(y_valid.values, predictions_lr_valid))\n",
    "print('Ошибки сформированной модели логистической регрессии:', error_count(y_valid.values, predictions_lr50_valid))\n",
    "print('Ошибки сформированной модели логистической регрессии:', error_count(y_valid.values, predictions_lr5000_valid))\n",
    "\n",
    "\n",
    "print(\"Accuracy DecisionTreeClassifier:\", tree_accuracy)\n",
    "print(\"Accuracy RandomForestClassifier:\", forest_accuracy)\n",
    "print(\"Accuracy LogisticRegression:\", lr_accuracy)\n",
    "print(\"Accuracy LogisticRegression(50):\", lr50_accuracy)\n",
    "print(\"Accuracy LogisticRegression(5000):\", lr5000_accuracy)"
   ]
  },
  {
   "cell_type": "markdown",
   "metadata": {},
   "source": [
    "#### Выводы по исследованию трёх разных моделей.\n",
    "Две модели из трёх (дерево решений и случайный лес) показали схожие результаты, превосходящие показатели исходной модели: количество ошибок ниже (138 и 139 против 186), доля правильных ответов, соответственно, выше (0.78 против 0.71). Третья модель (логистическая регрессия) оказалась менее эффективной, причем в ходе исследования я подставлял разные гиперпараметры, но при 3 разных количествах итераций (100, 50, 5000) показатели не меняются."
   ]
  },
  {
   "cell_type": "markdown",
   "metadata": {},
   "source": [
    "## Проверьте модель на тестовой выборке"
   ]
  },
  {
   "cell_type": "code",
   "execution_count": 34,
   "metadata": {},
   "outputs": [
    {
     "name": "stdout",
     "output_type": "stream",
     "text": [
      "Accuracy TEST RandomForestClassifier: 0.7838258164852255\n"
     ]
    }
   ],
   "source": [
    "# проверим лучшую модель на тестовой выборке\n",
    "\n",
    "predictions_forest_test = model_forest_train.predict(X_test)\n",
    "forest_test_accuracy = accuracy_score(y_test, predictions_forest_test)\n",
    "\n",
    "print(\"Accuracy TEST RandomForestClassifier:\", forest_test_accuracy)"
   ]
  },
  {
   "cell_type": "markdown",
   "metadata": {},
   "source": [
    "#### Выводы по проверке моделей на тестовой выборке.\n",
    "Результаты исследований подтверждаются: модель RandomForestClassifier показала на тестовой выборке еще более высокий результат accuracy, чем на учебной/валидационной."
   ]
  },
  {
   "cell_type": "markdown",
   "metadata": {},
   "source": [
    "## (дополнительно) Проверьте модели на адекватность"
   ]
  },
  {
   "cell_type": "markdown",
   "metadata": {},
   "source": [
    "Построим константную модель: теоретическую модель, которая каждой строке присваивает один и тот же класс, в нашем случае наиболее встречаемый (strategy='most_frequent'). "
   ]
  },
  {
   "cell_type": "code",
   "execution_count": 35,
   "metadata": {},
   "outputs": [
    {
     "name": "stdout",
     "output_type": "stream",
     "text": [
      "Dummy accuracy:  0.6842923794712286\n"
     ]
    }
   ],
   "source": [
    "from sklearn.dummy import DummyClassifier\n",
    "dummy_clsf = DummyClassifier(strategy='most_frequent')\n",
    "dummy_clsf.fit(X_train, y_train)\n",
    "DummyClassifier(strategy='most_frequent')\n",
    "dummy_clsf.predict(X_test)\n",
    "score_dummy = dummy_clsf.score(X_test, y_test)\n",
    "print(\"Dummy accuracy: \", score_dummy)"
   ]
  },
  {
   "cell_type": "code",
   "execution_count": 36,
   "metadata": {},
   "outputs": [
    {
     "data": {
      "text/plain": [
       "<sklearn.metrics._plot.confusion_matrix.ConfusionMatrixDisplay at 0x7fccb5fed670>"
      ]
     },
     "execution_count": 36,
     "metadata": {},
     "output_type": "execute_result"
    },
    {
     "data": {
      "image/png": "[encoded data removed]",
      "text/plain": [
       "<Figure size 640x480 with 2 Axes>"
      ]
     },
     "metadata": {},
     "output_type": "display_data"
    }
   ],
   "source": [
    "plot_confusion_matrix(estimator=dummy_clsf, X=X_test, y_true=y_test,\n",
    "                      normalize='true', cmap='Blues')"
   ]
  },
  {
   "cell_type": "code",
   "execution_count": 37,
   "metadata": {},
   "outputs": [
    {
     "data": {
      "text/plain": [
       "<sklearn.metrics._plot.confusion_matrix.ConfusionMatrixDisplay at 0x7fccb5e9c160>"
      ]
     },
     "execution_count": 37,
     "metadata": {},
     "output_type": "execute_result"
    },
    {
     "data": {
      "image/png": "[encoded data removed]",
      "text/plain": [
       "<Figure size 640x480 with 2 Axes>"
      ]
     },
     "metadata": {},
     "output_type": "display_data"
    }
   ],
   "source": [
    "plot_confusion_matrix(estimator=model_forest_train, X=X_test, y_true=y_test,\n",
    "                      normalize='true', cmap='Reds')"
   ]
  },
  {
   "cell_type": "markdown",
   "metadata": {},
   "source": [
    "Проверка на адекватность пройдена: accuracy нашей модели — 78%, а у константной модели 68%. Матрица ошибок показывает, что наша модель очень хорошо определяет нули,  лишь в 57% случаев правильно ставит единицы. Есть над чем работать, но в цели данного проекта это не входит. "
   ]
  },
  {
   "cell_type": "markdown",
   "metadata": {},
   "source": [
    "### ВЫВОД\n",
    "\n",
    "Анализ датасета и различных моделей машинного обучения помог нам подобрать эффективную модель для анализа поведения клиентов оператора мобильной связи \"Мегалайн\".\n",
    "Было построео и обучено 5 моделей (дерево решений, три логистических регрессии и случайный лес)\n",
    " Лучшие результаты показала модель RandomForestClassifier. Модель также прошла проверку на адекватность. \n",
    "\n",
    "Благодаря проделанной работе «Мегалайн» сможет с точностью в 78% анализировать поведение клиентов и предлагать новый тариф - \"Смарт\" или \"Ультра\". "
   ]
  }
 ],
 "metadata": {
  "ExecuteTimeLog": [
   {
    "duration": 510,
    "start_time": "2022-11-19T17:46:30.189Z"
   },
   {
    "duration": 120,
    "start_time": "2022-11-19T17:46:40.744Z"
   },
   {
    "duration": 39,
    "start_time": "2022-11-19T17:46:44.827Z"
   },
   {
    "duration": 52,
    "start_time": "2022-11-19T17:47:37.793Z"
   },
   {
    "duration": 45,
    "start_time": "2022-11-19T17:49:44.848Z"
   },
   {
    "duration": 41,
    "start_time": "2022-11-19T17:49:56.588Z"
   },
   {
    "duration": 46,
    "start_time": "2022-11-19T17:50:03.051Z"
   },
   {
    "duration": 9,
    "start_time": "2022-11-19T18:00:46.957Z"
   },
   {
    "duration": 774,
    "start_time": "2022-11-19T18:01:10.315Z"
   },
   {
    "duration": 8,
    "start_time": "2022-11-19T18:01:13.673Z"
   },
   {
    "duration": 10,
    "start_time": "2022-11-19T18:01:34.027Z"
   },
   {
    "duration": 11,
    "start_time": "2022-11-19T18:01:55.590Z"
   },
   {
    "duration": 11,
    "start_time": "2022-11-19T18:02:17.680Z"
   },
   {
    "duration": 12,
    "start_time": "2022-11-19T18:02:22.808Z"
   },
   {
    "duration": 11,
    "start_time": "2022-11-19T18:03:00.107Z"
   },
   {
    "duration": 12,
    "start_time": "2022-11-19T18:03:16.909Z"
   },
   {
    "duration": 10,
    "start_time": "2022-11-19T18:03:55.000Z"
   },
   {
    "duration": 101,
    "start_time": "2022-11-19T18:05:22.172Z"
   },
   {
    "duration": 47,
    "start_time": "2022-11-19T18:07:27.570Z"
   },
   {
    "duration": 9,
    "start_time": "2022-11-19T18:07:31.099Z"
   },
   {
    "duration": 53,
    "start_time": "2022-11-19T18:12:01.026Z"
   },
   {
    "duration": 23,
    "start_time": "2022-11-19T18:14:06.707Z"
   },
   {
    "duration": 22,
    "start_time": "2022-11-19T18:14:17.133Z"
   },
   {
    "duration": 93,
    "start_time": "2022-11-19T18:15:14.490Z"
   },
   {
    "duration": 10,
    "start_time": "2022-11-19T18:15:50.075Z"
   },
   {
    "duration": 46,
    "start_time": "2022-11-19T18:15:55.073Z"
   },
   {
    "duration": 22,
    "start_time": "2022-11-19T18:16:02.878Z"
   },
   {
    "duration": 22,
    "start_time": "2022-11-19T18:16:37.135Z"
   },
   {
    "duration": 24,
    "start_time": "2022-11-19T18:18:15.735Z"
   },
   {
    "duration": 24,
    "start_time": "2022-11-19T18:18:20.626Z"
   },
   {
    "duration": 23,
    "start_time": "2022-11-19T18:18:23.446Z"
   },
   {
    "duration": 24,
    "start_time": "2022-11-19T18:18:24.700Z"
   },
   {
    "duration": 859,
    "start_time": "2022-11-19T18:20:45.103Z"
   },
   {
    "duration": 753,
    "start_time": "2022-11-19T18:22:38.804Z"
   },
   {
    "duration": 30,
    "start_time": "2022-11-19T18:24:57.335Z"
   },
   {
    "duration": 18,
    "start_time": "2022-11-19T18:25:08.214Z"
   },
   {
    "duration": 20,
    "start_time": "2022-11-19T18:25:20.554Z"
   },
   {
    "duration": 36,
    "start_time": "2022-11-19T18:25:31.552Z"
   },
   {
    "duration": 737,
    "start_time": "2022-11-19T18:25:39.671Z"
   },
   {
    "duration": 30,
    "start_time": "2022-11-19T18:25:58.180Z"
   },
   {
    "duration": 48,
    "start_time": "2022-11-19T18:26:10.182Z"
   },
   {
    "duration": 33,
    "start_time": "2022-11-19T18:26:16.400Z"
   },
   {
    "duration": 35,
    "start_time": "2022-11-19T18:27:35.921Z"
   },
   {
    "duration": 24,
    "start_time": "2022-11-19T18:27:45.232Z"
   },
   {
    "duration": 30,
    "start_time": "2022-11-19T18:30:17.774Z"
   },
   {
    "duration": 45,
    "start_time": "2022-11-19T18:30:24.512Z"
   },
   {
    "duration": 28,
    "start_time": "2022-11-19T18:30:41.825Z"
   },
   {
    "duration": 31,
    "start_time": "2022-11-19T18:31:05.438Z"
   },
   {
    "duration": 44,
    "start_time": "2022-11-19T18:32:37.123Z"
   },
   {
    "duration": 32,
    "start_time": "2022-11-19T18:32:47.550Z"
   },
   {
    "duration": 45,
    "start_time": "2022-11-19T18:32:53.510Z"
   },
   {
    "duration": 32,
    "start_time": "2022-11-19T18:32:59.932Z"
   },
   {
    "duration": 44,
    "start_time": "2022-11-19T18:33:03.340Z"
   },
   {
    "duration": 32,
    "start_time": "2022-11-19T18:33:03.386Z"
   },
   {
    "duration": 49,
    "start_time": "2022-11-19T18:33:32.151Z"
   },
   {
    "duration": 35,
    "start_time": "2022-11-19T18:33:36.449Z"
   },
   {
    "duration": 43,
    "start_time": "2022-11-19T18:33:46.311Z"
   },
   {
    "duration": 44,
    "start_time": "2022-11-19T18:34:19.824Z"
   },
   {
    "duration": 100,
    "start_time": "2022-11-19T18:34:22.373Z"
   },
   {
    "duration": 78,
    "start_time": "2022-11-19T18:37:00.458Z"
   },
   {
    "duration": 88,
    "start_time": "2022-11-19T18:37:07.986Z"
   },
   {
    "duration": 75,
    "start_time": "2022-11-19T18:37:11.556Z"
   },
   {
    "duration": 104,
    "start_time": "2022-11-19T18:37:14.987Z"
   },
   {
    "duration": 49,
    "start_time": "2022-11-19T18:41:46.733Z"
   },
   {
    "duration": 190,
    "start_time": "2022-11-19T18:42:03.341Z"
   },
   {
    "duration": 58,
    "start_time": "2022-11-19T18:42:29.132Z"
   },
   {
    "duration": 75,
    "start_time": "2022-11-19T18:42:32.903Z"
   },
   {
    "duration": 203,
    "start_time": "2022-11-19T18:42:35.415Z"
   },
   {
    "duration": 81,
    "start_time": "2022-11-19T18:43:18.577Z"
   },
   {
    "duration": 72,
    "start_time": "2022-11-19T18:43:31.348Z"
   },
   {
    "duration": 200,
    "start_time": "2022-11-19T18:43:39.673Z"
   },
   {
    "duration": 276,
    "start_time": "2022-11-19T18:44:28.789Z"
   },
   {
    "duration": 245,
    "start_time": "2022-11-19T18:44:46.094Z"
   },
   {
    "duration": 252,
    "start_time": "2022-11-19T18:45:16.315Z"
   },
   {
    "duration": 1238,
    "start_time": "2022-11-20T17:36:14.751Z"
   },
   {
    "duration": 85,
    "start_time": "2022-11-20T17:36:15.990Z"
   },
   {
    "duration": 228,
    "start_time": "2022-11-20T17:36:16.077Z"
   },
   {
    "duration": 259,
    "start_time": "2022-11-20T17:52:11.345Z"
   },
   {
    "duration": 261,
    "start_time": "2022-11-20T17:58:47.429Z"
   },
   {
    "duration": 255,
    "start_time": "2022-11-20T17:58:57.254Z"
   },
   {
    "duration": 256,
    "start_time": "2022-11-20T17:59:05.307Z"
   },
   {
    "duration": 268,
    "start_time": "2022-11-20T17:59:09.718Z"
   },
   {
    "duration": 262,
    "start_time": "2022-11-20T17:59:27.561Z"
   },
   {
    "duration": 78,
    "start_time": "2022-11-20T18:01:51.732Z"
   },
   {
    "duration": 241,
    "start_time": "2022-11-20T18:02:00.713Z"
   },
   {
    "duration": 261,
    "start_time": "2022-11-20T18:04:09.085Z"
   },
   {
    "duration": 6,
    "start_time": "2022-11-20T18:09:08.513Z"
   },
   {
    "duration": 19,
    "start_time": "2022-11-20T18:10:34.246Z"
   },
   {
    "duration": 25,
    "start_time": "2022-11-20T18:11:29.143Z"
   },
   {
    "duration": 45,
    "start_time": "2022-11-20T18:21:22.943Z"
   },
   {
    "duration": 82,
    "start_time": "2022-11-20T18:21:22.990Z"
   },
   {
    "duration": 268,
    "start_time": "2022-11-20T18:21:23.073Z"
   },
   {
    "duration": 23,
    "start_time": "2022-11-20T18:21:23.343Z"
   },
   {
    "duration": 3,
    "start_time": "2022-11-20T18:21:23.368Z"
   },
   {
    "duration": 81,
    "start_time": "2022-11-21T17:31:43.305Z"
   },
   {
    "duration": 40,
    "start_time": "2022-11-21T17:37:08.513Z"
   },
   {
    "duration": 1117,
    "start_time": "2022-11-21T17:37:12.561Z"
   },
   {
    "duration": 78,
    "start_time": "2022-11-21T17:37:13.679Z"
   },
   {
    "duration": 3098,
    "start_time": "2022-11-21T17:37:13.758Z"
   },
   {
    "duration": 261,
    "start_time": "2022-11-21T17:37:16.858Z"
   },
   {
    "duration": 14,
    "start_time": "2022-11-21T17:37:17.121Z"
   },
   {
    "duration": 3,
    "start_time": "2022-11-21T17:37:17.136Z"
   },
   {
    "duration": 76,
    "start_time": "2022-11-21T17:42:37.325Z"
   },
   {
    "duration": 74,
    "start_time": "2022-11-21T17:42:40.110Z"
   },
   {
    "duration": 7,
    "start_time": "2022-11-21T17:42:47.104Z"
   },
   {
    "duration": 44,
    "start_time": "2022-11-21T17:48:58.546Z"
   },
   {
    "duration": 101,
    "start_time": "2022-11-21T17:48:58.592Z"
   },
   {
    "duration": 1833,
    "start_time": "2022-11-21T17:48:58.695Z"
   },
   {
    "duration": 249,
    "start_time": "2022-11-21T17:49:00.531Z"
   },
   {
    "duration": 18,
    "start_time": "2022-11-21T17:49:00.781Z"
   },
   {
    "duration": 13,
    "start_time": "2022-11-21T17:49:00.800Z"
   }
  ],
  "kernelspec": {
   "display_name": "Python 3 (ipykernel)",
   "language": "python",
   "name": "python3"
  },
  "language_info": {
   "codemirror_mode": {
    "name": "ipython",
    "version": 3
   },
   "file_extension": ".py",
   "mimetype": "text/x-python",
   "name": "python",
   "nbconvert_exporter": "python",
   "pygments_lexer": "ipython3",
   "version": "3.9.16"
  },
  "toc": {
   "base_numbering": 1,
   "nav_menu": {},
   "number_sections": true,
   "sideBar": true,
   "skip_h1_title": true,
   "title_cell": "Table of Contents",
   "title_sidebar": "Contents",
   "toc_cell": false,
   "toc_position": {},
   "toc_section_display": true,
   "toc_window_display": false
  }
 },
 "nbformat": 4,
 "nbformat_minor": 2
}
