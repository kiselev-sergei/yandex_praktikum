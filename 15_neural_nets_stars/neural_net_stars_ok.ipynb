{
 "cells": [
  {
   "cell_type": "markdown",
   "id": "ecf531ee",
   "metadata": {},
   "source": [
    "## Описание проекта"
   ]
  },
  {
   "cell_type": "markdown",
   "id": "e5618b2d",
   "metadata": {},
   "source": [
    "Данный проект посвящен прогнозированию абсолютной температуры на поверхности звезд с помощью нейросети. \n",
    "\n",
    "В базе обсерватории есть характеристики уже изученных 240 звёзд.\n",
    "Их характеристики:\n",
    "\n",
    "    Относительная светимость L/Lo — светимость звезды относительно Солнца.\n",
    "    Относительный радиус R/Ro — радиус звезды относительно радиуса Солнца.\n",
    "    Абсолютная звёздная величина Mv — физическая величина, характеризующая блеск звезды.\n",
    "    Звёздный цвет (white, red, blue, yellow, yellow-orange и др.) — цвет звезды, который определяют на основе спектрального анализа.\n",
    "    Тип звезды.\n",
    "    Абсолютная температура T(K) — температура на поверхности звезды в Кельвинах."
   ]
  },
  {
   "cell_type": "markdown",
   "id": "corresponding-armstrong",
   "metadata": {
    "ExecuteTime": {
     "end_time": "2022-05-05T04:58:05.692448Z",
     "start_time": "2022-05-05T04:58:05.688565Z"
    }
   },
   "source": [
    "## Загрузка данных"
   ]
  },
  {
   "cell_type": "code",
   "execution_count": 1,
   "id": "2c1c39a6",
   "metadata": {},
   "outputs": [
    {
     "name": "stdout",
     "output_type": "stream",
     "text": [
      "Looking in links: https://download.pytorch.org/whl/torch_stable.html\n",
      "Collecting torch==2.0.0+cpu\n",
      "  Downloading https://download.pytorch.org/whl/cpu/torch-2.0.0%2Bcpu-cp39-cp39-linux_x86_64.whl (195.4 MB)\n",
      "\u001b[K     |████████████████████████████████| 195.4 MB 1.8 kB/s  eta 0:00:01\n",
      "\u001b[?25hRequirement already satisfied: jinja2 in /opt/conda/lib/python3.9/site-packages (from torch==2.0.0+cpu) (3.0.1)\n",
      "Requirement already satisfied: filelock in /opt/conda/lib/python3.9/site-packages (from torch==2.0.0+cpu) (3.8.0)\n",
      "Collecting networkx\n",
      "  Downloading networkx-3.2.1-py3-none-any.whl (1.6 MB)\n",
      "\u001b[K     |████████████████████████████████| 1.6 MB 1.2 MB/s eta 0:00:01\n",
      "\u001b[?25hCollecting sympy\n",
      "  Downloading sympy-1.12-py3-none-any.whl (5.7 MB)\n",
      "\u001b[K     |████████████████████████████████| 5.7 MB 97.0 MB/s eta 0:00:01\n",
      "\u001b[?25hRequirement already satisfied: typing-extensions in /opt/conda/lib/python3.9/site-packages (from torch==2.0.0+cpu) (4.3.0)\n",
      "Requirement already satisfied: MarkupSafe>=2.0 in /opt/conda/lib/python3.9/site-packages (from jinja2->torch==2.0.0+cpu) (2.1.1)\n",
      "Collecting mpmath>=0.19\n",
      "  Downloading mpmath-1.3.0-py3-none-any.whl (536 kB)\n",
      "\u001b[K     |████████████████████████████████| 536 kB 68.4 MB/s eta 0:00:01\n",
      "\u001b[?25hInstalling collected packages: mpmath, sympy, networkx, torch\n",
      "\u001b[33m  WARNING: The script isympy is installed in '/home/jovyan/.local/bin' which is not on PATH.\n",
      "  Consider adding this directory to PATH or, if you prefer to suppress this warning, use --no-warn-script-location.\u001b[0m\n",
      "\u001b[33m  WARNING: The scripts convert-caffe2-to-onnx, convert-onnx-to-caffe2 and torchrun are installed in '/home/jovyan/.local/bin' which is not on PATH.\n",
      "  Consider adding this directory to PATH or, if you prefer to suppress this warning, use --no-warn-script-location.\u001b[0m\n",
      "Successfully installed mpmath-1.3.0 networkx-3.2.1 sympy-1.12 torch-2.0.0+cpu\n"
     ]
    }
   ],
   "source": [
    "!pip install torch==2.0.0+cpu -f https://download.pytorch.org/whl/torch_stable.html --user"
   ]
  },
  {
   "cell_type": "code",
   "execution_count": 2,
   "id": "spectacular-folder",
   "metadata": {},
   "outputs": [],
   "source": [
    "import pandas as pd\n",
    "import numpy as np\n",
    "import torch\n",
    "import torch.nn as nn\n",
    "import matplotlib.pyplot as plt\n",
    "\n",
    "from sklearn.model_selection import train_test_split\n",
    "from sklearn.preprocessing import StandardScaler, OneHotEncoder"
   ]
  },
  {
   "cell_type": "code",
   "execution_count": 3,
   "id": "a76d925d",
   "metadata": {},
   "outputs": [
    {
     "name": "stdout",
     "output_type": "stream",
     "text": [
      "<class 'pandas.core.frame.DataFrame'>\n",
      "RangeIndex: 240 entries, 0 to 239\n",
      "Data columns (total 7 columns):\n",
      " #   Column                  Non-Null Count  Dtype  \n",
      "---  ------                  --------------  -----  \n",
      " 0   Unnamed: 0              240 non-null    int64  \n",
      " 1   Temperature (K)         240 non-null    int64  \n",
      " 2   Luminosity(L/Lo)        240 non-null    float64\n",
      " 3   Radius(R/Ro)            240 non-null    float64\n",
      " 4   Absolute magnitude(Mv)  240 non-null    float64\n",
      " 5   Star type               240 non-null    int64  \n",
      " 6   Star color              240 non-null    object \n",
      "dtypes: float64(3), int64(3), object(1)\n",
      "memory usage: 13.2+ KB\n"
     ]
    },
    {
     "data": {
      "text/html": [
       "<div>\n",
       "<style scoped>\n",
       "    .dataframe tbody tr th:only-of-type {\n",
       "        vertical-align: middle;\n",
       "    }\n",
       "\n",
       "    .dataframe tbody tr th {\n",
       "        vertical-align: top;\n",
       "    }\n",
       "\n",
       "    .dataframe thead th {\n",
       "        text-align: right;\n",
       "    }\n",
       "</style>\n",
       "<table border=\"1\" class=\"dataframe\">\n",
       "  <thead>\n",
       "    <tr style=\"text-align: right;\">\n",
       "      <th></th>\n",
       "      <th>Unnamed: 0</th>\n",
       "      <th>Temperature (K)</th>\n",
       "      <th>Luminosity(L/Lo)</th>\n",
       "      <th>Radius(R/Ro)</th>\n",
       "      <th>Absolute magnitude(Mv)</th>\n",
       "      <th>Star type</th>\n",
       "      <th>Star color</th>\n",
       "    </tr>\n",
       "  </thead>\n",
       "  <tbody>\n",
       "    <tr>\n",
       "      <th>0</th>\n",
       "      <td>0</td>\n",
       "      <td>3068</td>\n",
       "      <td>0.002400</td>\n",
       "      <td>0.1700</td>\n",
       "      <td>16.12</td>\n",
       "      <td>0</td>\n",
       "      <td>Red</td>\n",
       "    </tr>\n",
       "    <tr>\n",
       "      <th>1</th>\n",
       "      <td>1</td>\n",
       "      <td>3042</td>\n",
       "      <td>0.000500</td>\n",
       "      <td>0.1542</td>\n",
       "      <td>16.60</td>\n",
       "      <td>0</td>\n",
       "      <td>Red</td>\n",
       "    </tr>\n",
       "    <tr>\n",
       "      <th>2</th>\n",
       "      <td>2</td>\n",
       "      <td>2600</td>\n",
       "      <td>0.000300</td>\n",
       "      <td>0.1020</td>\n",
       "      <td>18.70</td>\n",
       "      <td>0</td>\n",
       "      <td>Red</td>\n",
       "    </tr>\n",
       "    <tr>\n",
       "      <th>3</th>\n",
       "      <td>3</td>\n",
       "      <td>2800</td>\n",
       "      <td>0.000200</td>\n",
       "      <td>0.1600</td>\n",
       "      <td>16.65</td>\n",
       "      <td>0</td>\n",
       "      <td>Red</td>\n",
       "    </tr>\n",
       "    <tr>\n",
       "      <th>4</th>\n",
       "      <td>4</td>\n",
       "      <td>1939</td>\n",
       "      <td>0.000138</td>\n",
       "      <td>0.1030</td>\n",
       "      <td>20.06</td>\n",
       "      <td>0</td>\n",
       "      <td>Red</td>\n",
       "    </tr>\n",
       "    <tr>\n",
       "      <th>5</th>\n",
       "      <td>5</td>\n",
       "      <td>2840</td>\n",
       "      <td>0.000650</td>\n",
       "      <td>0.1100</td>\n",
       "      <td>16.98</td>\n",
       "      <td>0</td>\n",
       "      <td>Red</td>\n",
       "    </tr>\n",
       "    <tr>\n",
       "      <th>6</th>\n",
       "      <td>6</td>\n",
       "      <td>2637</td>\n",
       "      <td>0.000730</td>\n",
       "      <td>0.1270</td>\n",
       "      <td>17.22</td>\n",
       "      <td>0</td>\n",
       "      <td>Red</td>\n",
       "    </tr>\n",
       "    <tr>\n",
       "      <th>7</th>\n",
       "      <td>7</td>\n",
       "      <td>2600</td>\n",
       "      <td>0.000400</td>\n",
       "      <td>0.0960</td>\n",
       "      <td>17.40</td>\n",
       "      <td>0</td>\n",
       "      <td>Red</td>\n",
       "    </tr>\n",
       "    <tr>\n",
       "      <th>8</th>\n",
       "      <td>8</td>\n",
       "      <td>2650</td>\n",
       "      <td>0.000690</td>\n",
       "      <td>0.1100</td>\n",
       "      <td>17.45</td>\n",
       "      <td>0</td>\n",
       "      <td>Red</td>\n",
       "    </tr>\n",
       "    <tr>\n",
       "      <th>9</th>\n",
       "      <td>9</td>\n",
       "      <td>2700</td>\n",
       "      <td>0.000180</td>\n",
       "      <td>0.1300</td>\n",
       "      <td>16.05</td>\n",
       "      <td>0</td>\n",
       "      <td>Red</td>\n",
       "    </tr>\n",
       "  </tbody>\n",
       "</table>\n",
       "</div>"
      ],
      "text/plain": [
       "   Unnamed: 0  Temperature (K)  Luminosity(L/Lo)  Radius(R/Ro)  \\\n",
       "0           0             3068          0.002400        0.1700   \n",
       "1           1             3042          0.000500        0.1542   \n",
       "2           2             2600          0.000300        0.1020   \n",
       "3           3             2800          0.000200        0.1600   \n",
       "4           4             1939          0.000138        0.1030   \n",
       "5           5             2840          0.000650        0.1100   \n",
       "6           6             2637          0.000730        0.1270   \n",
       "7           7             2600          0.000400        0.0960   \n",
       "8           8             2650          0.000690        0.1100   \n",
       "9           9             2700          0.000180        0.1300   \n",
       "\n",
       "   Absolute magnitude(Mv)  Star type Star color  \n",
       "0                   16.12          0        Red  \n",
       "1                   16.60          0        Red  \n",
       "2                   18.70          0        Red  \n",
       "3                   16.65          0        Red  \n",
       "4                   20.06          0        Red  \n",
       "5                   16.98          0        Red  \n",
       "6                   17.22          0        Red  \n",
       "7                   17.40          0        Red  \n",
       "8                   17.45          0        Red  \n",
       "9                   16.05          0        Red  "
      ]
     },
     "execution_count": 3,
     "metadata": {},
     "output_type": "execute_result"
    }
   ],
   "source": [
    "df = pd.read_csv('/datasets/6_class.csv')\n",
    "df.info()\n",
    "df.head(10)"
   ]
  },
  {
   "cell_type": "markdown",
   "id": "simple-subdivision",
   "metadata": {},
   "source": [
    "## Предобработка и анализ данных"
   ]
  },
  {
   "cell_type": "code",
   "execution_count": 4,
   "id": "flush-dream",
   "metadata": {},
   "outputs": [
    {
     "data": {
      "text/plain": [
       "0"
      ]
     },
     "execution_count": 4,
     "metadata": {},
     "output_type": "execute_result"
    }
   ],
   "source": [
    "df.duplicated().sum()"
   ]
  },
  {
   "cell_type": "code",
   "execution_count": 5,
   "id": "cb53e52c",
   "metadata": {},
   "outputs": [
    {
     "data": {
      "text/plain": [
       "Unnamed: 0                0\n",
       "Temperature (K)           0\n",
       "Luminosity(L/Lo)          0\n",
       "Radius(R/Ro)              0\n",
       "Absolute magnitude(Mv)    0\n",
       "Star type                 0\n",
       "Star color                0\n",
       "dtype: int64"
      ]
     },
     "execution_count": 5,
     "metadata": {},
     "output_type": "execute_result"
    }
   ],
   "source": [
    "df.isna().sum()"
   ]
  },
  {
   "cell_type": "code",
   "execution_count": 6,
   "id": "4b253a1c",
   "metadata": {},
   "outputs": [],
   "source": [
    "df['Unnamed: 0'].unique() # дублирует id, удаляем столбец\n",
    "df = df.drop('Unnamed: 0', axis=1)"
   ]
  },
  {
   "cell_type": "code",
   "execution_count": 7,
   "id": "2e28a0ce",
   "metadata": {},
   "outputs": [],
   "source": [
    "# заменим неудобные названия колонок с указаниями единиц измерения на snake_case\n",
    "df = df.rename(\n",
    "    columns={\n",
    "'Temperature (K)': 'temperature',\n",
    "'Luminosity(L/Lo)': 'luminosity', \n",
    "'Radius(R/Ro)': 'radius',\n",
    "'Absolute magnitude(Mv)': 'abs_magnitude',\n",
    "'Star type': 'star_type',\n",
    "'Star color': 'star_color',        \n",
    "}\n",
    ")"
   ]
  },
  {
   "cell_type": "code",
   "execution_count": 10,
   "id": "27c955eb",
   "metadata": {},
   "outputs": [
    {
     "data": {
      "text/plain": [
       "array(['red', 'blue-white', 'white', 'yellow-white', 'orange', 'blue',\n",
       "       'yellow'], dtype=object)"
      ]
     },
     "execution_count": 10,
     "metadata": {},
     "output_type": "execute_result"
    }
   ],
   "source": [
    "df['star_color'].unique() \n",
    "df['star_color'] = df['star_color'].str.lower()\n",
    "\n",
    "df['star_color'] = df['star_color'].str.replace(\"blue white \", \"bluе-white\")\n",
    "df['star_color'] = df['star_color'].str.replace(\"blue white\", \"bluе-white\")\n",
    "df['star_color'] = df['star_color'].str.replace(\"blue \", \"bluе\")\n",
    "df['star_color'] = df['star_color'].str.replace(\"bluе-white\", \"blue-white\") # не очень понял прикол, но две строки были визуально идентичными, заменил одну на другую копипастом\n",
    "df['star_color'] = df['star_color'].str.replace(\"blue \", \"bluе\")\n",
    "df['star_color'] = df['star_color'].str.replace(\"bluе\", \"blue\")\n",
    "\n",
    "df = df.replace({'star_color' : { 'white-yellow' : 'yellow-white', 'yellowish white' : 'yellow-white', \n",
    "                                 'orange-red' : 'orange', 'pale yellow orange' : 'orange',\n",
    "                                'yellowish': 'yellow', 'whitish' : 'white'}})\n",
    "\n",
    "\n",
    "\n",
    "df['star_color'].unique() "
   ]
  },
  {
   "cell_type": "code",
   "execution_count": 11,
   "id": "88f9a6c3",
   "metadata": {},
   "outputs": [
    {
     "data": {
      "text/plain": [
       "red             112\n",
       "blue             56\n",
       "blue-white       41\n",
       "white            12\n",
       "yellow-white     12\n",
       "orange            4\n",
       "yellow            3\n",
       "Name: star_color, dtype: int64"
      ]
     },
     "execution_count": 11,
     "metadata": {},
     "output_type": "execute_result"
    }
   ],
   "source": [
    "df['star_color'].value_counts()"
   ]
  },
  {
   "cell_type": "markdown",
   "id": "47903224",
   "metadata": {},
   "source": [
    "По столбцу star_color: lowercase и удаление лишних пробелов помогут сократить количество категорий."
   ]
  },
  {
   "cell_type": "code",
   "execution_count": 12,
   "id": "b3b87325",
   "metadata": {},
   "outputs": [
    {
     "data": {
      "text/html": [
       "<div>\n",
       "<style scoped>\n",
       "    .dataframe tbody tr th:only-of-type {\n",
       "        vertical-align: middle;\n",
       "    }\n",
       "\n",
       "    .dataframe tbody tr th {\n",
       "        vertical-align: top;\n",
       "    }\n",
       "\n",
       "    .dataframe thead th {\n",
       "        text-align: right;\n",
       "    }\n",
       "</style>\n",
       "<table border=\"1\" class=\"dataframe\">\n",
       "  <thead>\n",
       "    <tr style=\"text-align: right;\">\n",
       "      <th></th>\n",
       "      <th>temperature</th>\n",
       "      <th>luminosity</th>\n",
       "      <th>radius</th>\n",
       "      <th>abs_magnitude</th>\n",
       "      <th>star_type</th>\n",
       "      <th>star_color</th>\n",
       "    </tr>\n",
       "  </thead>\n",
       "  <tbody>\n",
       "    <tr>\n",
       "      <th>0</th>\n",
       "      <td>3068</td>\n",
       "      <td>0.002400</td>\n",
       "      <td>0.1700</td>\n",
       "      <td>16.12</td>\n",
       "      <td>0</td>\n",
       "      <td>red</td>\n",
       "    </tr>\n",
       "    <tr>\n",
       "      <th>1</th>\n",
       "      <td>3042</td>\n",
       "      <td>0.000500</td>\n",
       "      <td>0.1542</td>\n",
       "      <td>16.60</td>\n",
       "      <td>0</td>\n",
       "      <td>red</td>\n",
       "    </tr>\n",
       "    <tr>\n",
       "      <th>2</th>\n",
       "      <td>2600</td>\n",
       "      <td>0.000300</td>\n",
       "      <td>0.1020</td>\n",
       "      <td>18.70</td>\n",
       "      <td>0</td>\n",
       "      <td>red</td>\n",
       "    </tr>\n",
       "    <tr>\n",
       "      <th>3</th>\n",
       "      <td>2800</td>\n",
       "      <td>0.000200</td>\n",
       "      <td>0.1600</td>\n",
       "      <td>16.65</td>\n",
       "      <td>0</td>\n",
       "      <td>red</td>\n",
       "    </tr>\n",
       "    <tr>\n",
       "      <th>4</th>\n",
       "      <td>1939</td>\n",
       "      <td>0.000138</td>\n",
       "      <td>0.1030</td>\n",
       "      <td>20.06</td>\n",
       "      <td>0</td>\n",
       "      <td>red</td>\n",
       "    </tr>\n",
       "    <tr>\n",
       "      <th>...</th>\n",
       "      <td>...</td>\n",
       "      <td>...</td>\n",
       "      <td>...</td>\n",
       "      <td>...</td>\n",
       "      <td>...</td>\n",
       "      <td>...</td>\n",
       "    </tr>\n",
       "    <tr>\n",
       "      <th>235</th>\n",
       "      <td>38940</td>\n",
       "      <td>374830.000000</td>\n",
       "      <td>1356.0000</td>\n",
       "      <td>-9.93</td>\n",
       "      <td>5</td>\n",
       "      <td>blue</td>\n",
       "    </tr>\n",
       "    <tr>\n",
       "      <th>236</th>\n",
       "      <td>30839</td>\n",
       "      <td>834042.000000</td>\n",
       "      <td>1194.0000</td>\n",
       "      <td>-10.63</td>\n",
       "      <td>5</td>\n",
       "      <td>blue</td>\n",
       "    </tr>\n",
       "    <tr>\n",
       "      <th>237</th>\n",
       "      <td>8829</td>\n",
       "      <td>537493.000000</td>\n",
       "      <td>1423.0000</td>\n",
       "      <td>-10.73</td>\n",
       "      <td>5</td>\n",
       "      <td>white</td>\n",
       "    </tr>\n",
       "    <tr>\n",
       "      <th>238</th>\n",
       "      <td>9235</td>\n",
       "      <td>404940.000000</td>\n",
       "      <td>1112.0000</td>\n",
       "      <td>-11.23</td>\n",
       "      <td>5</td>\n",
       "      <td>white</td>\n",
       "    </tr>\n",
       "    <tr>\n",
       "      <th>239</th>\n",
       "      <td>37882</td>\n",
       "      <td>294903.000000</td>\n",
       "      <td>1783.0000</td>\n",
       "      <td>-7.80</td>\n",
       "      <td>5</td>\n",
       "      <td>blue</td>\n",
       "    </tr>\n",
       "  </tbody>\n",
       "</table>\n",
       "<p>240 rows × 6 columns</p>\n",
       "</div>"
      ],
      "text/plain": [
       "     temperature     luminosity     radius  abs_magnitude  star_type  \\\n",
       "0           3068       0.002400     0.1700          16.12          0   \n",
       "1           3042       0.000500     0.1542          16.60          0   \n",
       "2           2600       0.000300     0.1020          18.70          0   \n",
       "3           2800       0.000200     0.1600          16.65          0   \n",
       "4           1939       0.000138     0.1030          20.06          0   \n",
       "..           ...            ...        ...            ...        ...   \n",
       "235        38940  374830.000000  1356.0000          -9.93          5   \n",
       "236        30839  834042.000000  1194.0000         -10.63          5   \n",
       "237         8829  537493.000000  1423.0000         -10.73          5   \n",
       "238         9235  404940.000000  1112.0000         -11.23          5   \n",
       "239        37882  294903.000000  1783.0000          -7.80          5   \n",
       "\n",
       "    star_color  \n",
       "0          red  \n",
       "1          red  \n",
       "2          red  \n",
       "3          red  \n",
       "4          red  \n",
       "..         ...  \n",
       "235       blue  \n",
       "236       blue  \n",
       "237      white  \n",
       "238      white  \n",
       "239       blue  \n",
       "\n",
       "[240 rows x 6 columns]"
      ]
     },
     "execution_count": 12,
     "metadata": {},
     "output_type": "execute_result"
    }
   ],
   "source": [
    "df"
   ]
  },
  {
   "cell_type": "markdown",
   "id": "390bd60f",
   "metadata": {},
   "source": [
    "Первичная предобработка завершена: в данных нет дубликатов, пропусков, лишний столбец удален, а названия столбцов приведены к классическому виду. \n",
    "Переходим к EDA."
   ]
  },
  {
   "cell_type": "code",
   "execution_count": 13,
   "id": "7cf82b37",
   "metadata": {
    "scrolled": false
   },
   "outputs": [
    {
     "data": {
      "image/png": "[encoded data removed]",
      "text/plain": [
       "<Figure size 1080x1080 with 6 Axes>"
      ]
     },
     "metadata": {
      "needs_background": "light"
     },
     "output_type": "display_data"
    }
   ],
   "source": [
    "df.hist(figsize=(15, 15))\n",
    "plt.show()"
   ]
  },
  {
   "cell_type": "markdown",
   "id": "982c8ae6",
   "metadata": {},
   "source": [
    "Что бросается в глаза по графикам:\n",
    "1) температура и относительная светимость похожи на распределение Пуассона, и это, наверное, естественно для этих данных. \n",
    "\n",
    "2) надо проверить относительный радиус на нули.\n",
    "\n",
    "3) star_type относится к категориальным признакам"
   ]
  },
  {
   "cell_type": "code",
   "execution_count": 14,
   "id": "e293a9a8",
   "metadata": {
    "scrolled": false
   },
   "outputs": [
    {
     "data": {
      "image/png": "[encoded data removed]",
      "text/plain": [
       "<Figure size 576x432 with 1 Axes>"
      ]
     },
     "metadata": {
      "needs_background": "light"
     },
     "output_type": "display_data"
    },
    {
     "data": {
      "text/html": [
       "<div>\n",
       "<style scoped>\n",
       "    .dataframe tbody tr th:only-of-type {\n",
       "        vertical-align: middle;\n",
       "    }\n",
       "\n",
       "    .dataframe tbody tr th {\n",
       "        vertical-align: top;\n",
       "    }\n",
       "\n",
       "    .dataframe thead th {\n",
       "        text-align: right;\n",
       "    }\n",
       "</style>\n",
       "<table border=\"1\" class=\"dataframe\">\n",
       "  <thead>\n",
       "    <tr style=\"text-align: right;\">\n",
       "      <th></th>\n",
       "      <th>temperature</th>\n",
       "      <th>luminosity</th>\n",
       "      <th>radius</th>\n",
       "      <th>abs_magnitude</th>\n",
       "      <th>star_type</th>\n",
       "      <th>star_color</th>\n",
       "    </tr>\n",
       "  </thead>\n",
       "  <tbody>\n",
       "    <tr>\n",
       "      <th>0</th>\n",
       "      <td>3068</td>\n",
       "      <td>0.002400</td>\n",
       "      <td>0.1700</td>\n",
       "      <td>16.120</td>\n",
       "      <td>0</td>\n",
       "      <td>red</td>\n",
       "    </tr>\n",
       "    <tr>\n",
       "      <th>1</th>\n",
       "      <td>3042</td>\n",
       "      <td>0.000500</td>\n",
       "      <td>0.1542</td>\n",
       "      <td>16.600</td>\n",
       "      <td>0</td>\n",
       "      <td>red</td>\n",
       "    </tr>\n",
       "    <tr>\n",
       "      <th>2</th>\n",
       "      <td>2600</td>\n",
       "      <td>0.000300</td>\n",
       "      <td>0.1020</td>\n",
       "      <td>18.700</td>\n",
       "      <td>0</td>\n",
       "      <td>red</td>\n",
       "    </tr>\n",
       "    <tr>\n",
       "      <th>3</th>\n",
       "      <td>2800</td>\n",
       "      <td>0.000200</td>\n",
       "      <td>0.1600</td>\n",
       "      <td>16.650</td>\n",
       "      <td>0</td>\n",
       "      <td>red</td>\n",
       "    </tr>\n",
       "    <tr>\n",
       "      <th>4</th>\n",
       "      <td>1939</td>\n",
       "      <td>0.000138</td>\n",
       "      <td>0.1030</td>\n",
       "      <td>20.060</td>\n",
       "      <td>0</td>\n",
       "      <td>red</td>\n",
       "    </tr>\n",
       "    <tr>\n",
       "      <th>...</th>\n",
       "      <td>...</td>\n",
       "      <td>...</td>\n",
       "      <td>...</td>\n",
       "      <td>...</td>\n",
       "      <td>...</td>\n",
       "      <td>...</td>\n",
       "    </tr>\n",
       "    <tr>\n",
       "      <th>225</th>\n",
       "      <td>18734</td>\n",
       "      <td>224780.000000</td>\n",
       "      <td>46.0000</td>\n",
       "      <td>-7.450</td>\n",
       "      <td>4</td>\n",
       "      <td>blue</td>\n",
       "    </tr>\n",
       "    <tr>\n",
       "      <th>226</th>\n",
       "      <td>9892</td>\n",
       "      <td>593900.000000</td>\n",
       "      <td>80.0000</td>\n",
       "      <td>-7.262</td>\n",
       "      <td>4</td>\n",
       "      <td>blue</td>\n",
       "    </tr>\n",
       "    <tr>\n",
       "      <th>227</th>\n",
       "      <td>10930</td>\n",
       "      <td>783930.000000</td>\n",
       "      <td>25.0000</td>\n",
       "      <td>-6.224</td>\n",
       "      <td>4</td>\n",
       "      <td>blue</td>\n",
       "    </tr>\n",
       "    <tr>\n",
       "      <th>228</th>\n",
       "      <td>23095</td>\n",
       "      <td>347820.000000</td>\n",
       "      <td>86.0000</td>\n",
       "      <td>-5.905</td>\n",
       "      <td>4</td>\n",
       "      <td>blue</td>\n",
       "    </tr>\n",
       "    <tr>\n",
       "      <th>229</th>\n",
       "      <td>21738</td>\n",
       "      <td>748890.000000</td>\n",
       "      <td>92.0000</td>\n",
       "      <td>-7.346</td>\n",
       "      <td>4</td>\n",
       "      <td>blue</td>\n",
       "    </tr>\n",
       "  </tbody>\n",
       "</table>\n",
       "<p>200 rows × 6 columns</p>\n",
       "</div>"
      ],
      "text/plain": [
       "     temperature     luminosity   radius  abs_magnitude  star_type star_color\n",
       "0           3068       0.002400   0.1700         16.120          0        red\n",
       "1           3042       0.000500   0.1542         16.600          0        red\n",
       "2           2600       0.000300   0.1020         18.700          0        red\n",
       "3           2800       0.000200   0.1600         16.650          0        red\n",
       "4           1939       0.000138   0.1030         20.060          0        red\n",
       "..           ...            ...      ...            ...        ...        ...\n",
       "225        18734  224780.000000  46.0000         -7.450          4       blue\n",
       "226         9892  593900.000000  80.0000         -7.262          4       blue\n",
       "227        10930  783930.000000  25.0000         -6.224          4       blue\n",
       "228        23095  347820.000000  86.0000         -5.905          4       blue\n",
       "229        21738  748890.000000  92.0000         -7.346          4       blue\n",
       "\n",
       "[200 rows x 6 columns]"
      ]
     },
     "execution_count": 14,
     "metadata": {},
     "output_type": "execute_result"
    }
   ],
   "source": [
    "df['radius'].describe()\n",
    "df['radius'].hist(figsize=(8, 6))\n",
    "plt.show()\n",
    "df.query('radius < 250')"
   ]
  },
  {
   "cell_type": "code",
   "execution_count": 15,
   "id": "f2f04a17",
   "metadata": {},
   "outputs": [
    {
     "data": {
      "text/html": [
       "<div>\n",
       "<style scoped>\n",
       "    .dataframe tbody tr th:only-of-type {\n",
       "        vertical-align: middle;\n",
       "    }\n",
       "\n",
       "    .dataframe tbody tr th {\n",
       "        vertical-align: top;\n",
       "    }\n",
       "\n",
       "    .dataframe thead th {\n",
       "        text-align: right;\n",
       "    }\n",
       "</style>\n",
       "<table border=\"1\" class=\"dataframe\">\n",
       "  <thead>\n",
       "    <tr style=\"text-align: right;\">\n",
       "      <th></th>\n",
       "      <th>temperature</th>\n",
       "      <th>luminosity</th>\n",
       "      <th>radius</th>\n",
       "      <th>abs_magnitude</th>\n",
       "      <th>star_type</th>\n",
       "      <th>star_color</th>\n",
       "    </tr>\n",
       "  </thead>\n",
       "  <tbody>\n",
       "    <tr>\n",
       "      <th>50</th>\n",
       "      <td>3490</td>\n",
       "      <td>270000.0</td>\n",
       "      <td>1520.0</td>\n",
       "      <td>-9.40</td>\n",
       "      <td>5</td>\n",
       "      <td>red</td>\n",
       "    </tr>\n",
       "    <tr>\n",
       "      <th>51</th>\n",
       "      <td>3750</td>\n",
       "      <td>283000.0</td>\n",
       "      <td>1260.0</td>\n",
       "      <td>-7.63</td>\n",
       "      <td>5</td>\n",
       "      <td>red</td>\n",
       "    </tr>\n",
       "    <tr>\n",
       "      <th>52</th>\n",
       "      <td>3834</td>\n",
       "      <td>272000.0</td>\n",
       "      <td>1183.0</td>\n",
       "      <td>-9.20</td>\n",
       "      <td>5</td>\n",
       "      <td>red</td>\n",
       "    </tr>\n",
       "    <tr>\n",
       "      <th>53</th>\n",
       "      <td>3749</td>\n",
       "      <td>550000.0</td>\n",
       "      <td>1648.0</td>\n",
       "      <td>-8.05</td>\n",
       "      <td>5</td>\n",
       "      <td>orange</td>\n",
       "    </tr>\n",
       "    <tr>\n",
       "      <th>54</th>\n",
       "      <td>3650</td>\n",
       "      <td>310000.0</td>\n",
       "      <td>1324.0</td>\n",
       "      <td>-7.79</td>\n",
       "      <td>5</td>\n",
       "      <td>red</td>\n",
       "    </tr>\n",
       "    <tr>\n",
       "      <th>55</th>\n",
       "      <td>3450</td>\n",
       "      <td>263000.0</td>\n",
       "      <td>1349.0</td>\n",
       "      <td>-11.75</td>\n",
       "      <td>5</td>\n",
       "      <td>red</td>\n",
       "    </tr>\n",
       "    <tr>\n",
       "      <th>56</th>\n",
       "      <td>3660</td>\n",
       "      <td>363000.0</td>\n",
       "      <td>1673.0</td>\n",
       "      <td>-11.92</td>\n",
       "      <td>5</td>\n",
       "      <td>red</td>\n",
       "    </tr>\n",
       "    <tr>\n",
       "      <th>57</th>\n",
       "      <td>3450</td>\n",
       "      <td>174000.0</td>\n",
       "      <td>1284.0</td>\n",
       "      <td>-11.28</td>\n",
       "      <td>5</td>\n",
       "      <td>red</td>\n",
       "    </tr>\n",
       "    <tr>\n",
       "      <th>58</th>\n",
       "      <td>3752</td>\n",
       "      <td>209000.0</td>\n",
       "      <td>955.0</td>\n",
       "      <td>-11.24</td>\n",
       "      <td>5</td>\n",
       "      <td>red</td>\n",
       "    </tr>\n",
       "    <tr>\n",
       "      <th>59</th>\n",
       "      <td>3535</td>\n",
       "      <td>195000.0</td>\n",
       "      <td>1546.0</td>\n",
       "      <td>-11.36</td>\n",
       "      <td>5</td>\n",
       "      <td>red</td>\n",
       "    </tr>\n",
       "    <tr>\n",
       "      <th>110</th>\n",
       "      <td>3459</td>\n",
       "      <td>100000.0</td>\n",
       "      <td>1289.0</td>\n",
       "      <td>-10.70</td>\n",
       "      <td>5</td>\n",
       "      <td>red</td>\n",
       "    </tr>\n",
       "    <tr>\n",
       "      <th>111</th>\n",
       "      <td>3605</td>\n",
       "      <td>126000.0</td>\n",
       "      <td>1124.0</td>\n",
       "      <td>-10.81</td>\n",
       "      <td>5</td>\n",
       "      <td>red</td>\n",
       "    </tr>\n",
       "    <tr>\n",
       "      <th>112</th>\n",
       "      <td>3615</td>\n",
       "      <td>200000.0</td>\n",
       "      <td>1635.0</td>\n",
       "      <td>-11.33</td>\n",
       "      <td>5</td>\n",
       "      <td>red</td>\n",
       "    </tr>\n",
       "    <tr>\n",
       "      <th>113</th>\n",
       "      <td>3399</td>\n",
       "      <td>117000.0</td>\n",
       "      <td>1486.0</td>\n",
       "      <td>-10.92</td>\n",
       "      <td>5</td>\n",
       "      <td>red</td>\n",
       "    </tr>\n",
       "    <tr>\n",
       "      <th>114</th>\n",
       "      <td>3610</td>\n",
       "      <td>132000.0</td>\n",
       "      <td>1522.0</td>\n",
       "      <td>-10.86</td>\n",
       "      <td>5</td>\n",
       "      <td>red</td>\n",
       "    </tr>\n",
       "    <tr>\n",
       "      <th>115</th>\n",
       "      <td>3553</td>\n",
       "      <td>145000.0</td>\n",
       "      <td>1324.0</td>\n",
       "      <td>-11.03</td>\n",
       "      <td>5</td>\n",
       "      <td>red</td>\n",
       "    </tr>\n",
       "    <tr>\n",
       "      <th>116</th>\n",
       "      <td>4015</td>\n",
       "      <td>282000.0</td>\n",
       "      <td>1534.0</td>\n",
       "      <td>-11.39</td>\n",
       "      <td>5</td>\n",
       "      <td>red</td>\n",
       "    </tr>\n",
       "    <tr>\n",
       "      <th>117</th>\n",
       "      <td>3625</td>\n",
       "      <td>74000.0</td>\n",
       "      <td>876.0</td>\n",
       "      <td>-10.25</td>\n",
       "      <td>5</td>\n",
       "      <td>red</td>\n",
       "    </tr>\n",
       "    <tr>\n",
       "      <th>118</th>\n",
       "      <td>6850</td>\n",
       "      <td>229000.0</td>\n",
       "      <td>1467.0</td>\n",
       "      <td>-10.07</td>\n",
       "      <td>5</td>\n",
       "      <td>red</td>\n",
       "    </tr>\n",
       "    <tr>\n",
       "      <th>119</th>\n",
       "      <td>3780</td>\n",
       "      <td>200000.0</td>\n",
       "      <td>1324.0</td>\n",
       "      <td>-10.70</td>\n",
       "      <td>5</td>\n",
       "      <td>red</td>\n",
       "    </tr>\n",
       "    <tr>\n",
       "      <th>170</th>\n",
       "      <td>3570</td>\n",
       "      <td>320000.0</td>\n",
       "      <td>1480.0</td>\n",
       "      <td>-7.58</td>\n",
       "      <td>5</td>\n",
       "      <td>red</td>\n",
       "    </tr>\n",
       "    <tr>\n",
       "      <th>171</th>\n",
       "      <td>3500</td>\n",
       "      <td>138000.0</td>\n",
       "      <td>1420.0</td>\n",
       "      <td>-8.18</td>\n",
       "      <td>5</td>\n",
       "      <td>red</td>\n",
       "    </tr>\n",
       "    <tr>\n",
       "      <th>172</th>\n",
       "      <td>4287</td>\n",
       "      <td>630000.0</td>\n",
       "      <td>1315.0</td>\n",
       "      <td>-9.20</td>\n",
       "      <td>5</td>\n",
       "      <td>orange</td>\n",
       "    </tr>\n",
       "    <tr>\n",
       "      <th>173</th>\n",
       "      <td>26000</td>\n",
       "      <td>316000.0</td>\n",
       "      <td>1679.0</td>\n",
       "      <td>-9.10</td>\n",
       "      <td>5</td>\n",
       "      <td>blue</td>\n",
       "    </tr>\n",
       "    <tr>\n",
       "      <th>174</th>\n",
       "      <td>3600</td>\n",
       "      <td>240000.0</td>\n",
       "      <td>1190.0</td>\n",
       "      <td>-7.89</td>\n",
       "      <td>5</td>\n",
       "      <td>red</td>\n",
       "    </tr>\n",
       "    <tr>\n",
       "      <th>175</th>\n",
       "      <td>3614</td>\n",
       "      <td>145000.0</td>\n",
       "      <td>1553.0</td>\n",
       "      <td>-7.71</td>\n",
       "      <td>5</td>\n",
       "      <td>red</td>\n",
       "    </tr>\n",
       "    <tr>\n",
       "      <th>176</th>\n",
       "      <td>18000</td>\n",
       "      <td>200000.0</td>\n",
       "      <td>1045.0</td>\n",
       "      <td>-8.30</td>\n",
       "      <td>5</td>\n",
       "      <td>blue</td>\n",
       "    </tr>\n",
       "    <tr>\n",
       "      <th>177</th>\n",
       "      <td>11000</td>\n",
       "      <td>170000.0</td>\n",
       "      <td>1779.0</td>\n",
       "      <td>-9.90</td>\n",
       "      <td>5</td>\n",
       "      <td>blue-white</td>\n",
       "    </tr>\n",
       "    <tr>\n",
       "      <th>178</th>\n",
       "      <td>12100</td>\n",
       "      <td>120000.0</td>\n",
       "      <td>708.9</td>\n",
       "      <td>-7.84</td>\n",
       "      <td>5</td>\n",
       "      <td>blue-white</td>\n",
       "    </tr>\n",
       "    <tr>\n",
       "      <th>179</th>\n",
       "      <td>24490</td>\n",
       "      <td>248490.0</td>\n",
       "      <td>1134.5</td>\n",
       "      <td>-8.24</td>\n",
       "      <td>5</td>\n",
       "      <td>blue-white</td>\n",
       "    </tr>\n",
       "    <tr>\n",
       "      <th>230</th>\n",
       "      <td>24145</td>\n",
       "      <td>382993.0</td>\n",
       "      <td>1494.0</td>\n",
       "      <td>-8.84</td>\n",
       "      <td>5</td>\n",
       "      <td>blue-white</td>\n",
       "    </tr>\n",
       "    <tr>\n",
       "      <th>231</th>\n",
       "      <td>38234</td>\n",
       "      <td>272830.0</td>\n",
       "      <td>1356.0</td>\n",
       "      <td>-9.29</td>\n",
       "      <td>5</td>\n",
       "      <td>blue</td>\n",
       "    </tr>\n",
       "    <tr>\n",
       "      <th>232</th>\n",
       "      <td>32489</td>\n",
       "      <td>648430.0</td>\n",
       "      <td>1948.5</td>\n",
       "      <td>-10.84</td>\n",
       "      <td>5</td>\n",
       "      <td>blue</td>\n",
       "    </tr>\n",
       "    <tr>\n",
       "      <th>233</th>\n",
       "      <td>27739</td>\n",
       "      <td>849420.0</td>\n",
       "      <td>1252.0</td>\n",
       "      <td>-7.59</td>\n",
       "      <td>5</td>\n",
       "      <td>blue-white</td>\n",
       "    </tr>\n",
       "    <tr>\n",
       "      <th>234</th>\n",
       "      <td>21904</td>\n",
       "      <td>748490.0</td>\n",
       "      <td>1130.0</td>\n",
       "      <td>-7.67</td>\n",
       "      <td>5</td>\n",
       "      <td>blue-white</td>\n",
       "    </tr>\n",
       "    <tr>\n",
       "      <th>235</th>\n",
       "      <td>38940</td>\n",
       "      <td>374830.0</td>\n",
       "      <td>1356.0</td>\n",
       "      <td>-9.93</td>\n",
       "      <td>5</td>\n",
       "      <td>blue</td>\n",
       "    </tr>\n",
       "    <tr>\n",
       "      <th>236</th>\n",
       "      <td>30839</td>\n",
       "      <td>834042.0</td>\n",
       "      <td>1194.0</td>\n",
       "      <td>-10.63</td>\n",
       "      <td>5</td>\n",
       "      <td>blue</td>\n",
       "    </tr>\n",
       "    <tr>\n",
       "      <th>237</th>\n",
       "      <td>8829</td>\n",
       "      <td>537493.0</td>\n",
       "      <td>1423.0</td>\n",
       "      <td>-10.73</td>\n",
       "      <td>5</td>\n",
       "      <td>white</td>\n",
       "    </tr>\n",
       "    <tr>\n",
       "      <th>238</th>\n",
       "      <td>9235</td>\n",
       "      <td>404940.0</td>\n",
       "      <td>1112.0</td>\n",
       "      <td>-11.23</td>\n",
       "      <td>5</td>\n",
       "      <td>white</td>\n",
       "    </tr>\n",
       "    <tr>\n",
       "      <th>239</th>\n",
       "      <td>37882</td>\n",
       "      <td>294903.0</td>\n",
       "      <td>1783.0</td>\n",
       "      <td>-7.80</td>\n",
       "      <td>5</td>\n",
       "      <td>blue</td>\n",
       "    </tr>\n",
       "  </tbody>\n",
       "</table>\n",
       "</div>"
      ],
      "text/plain": [
       "     temperature  luminosity  radius  abs_magnitude  star_type  star_color\n",
       "50          3490    270000.0  1520.0          -9.40          5         red\n",
       "51          3750    283000.0  1260.0          -7.63          5         red\n",
       "52          3834    272000.0  1183.0          -9.20          5         red\n",
       "53          3749    550000.0  1648.0          -8.05          5      orange\n",
       "54          3650    310000.0  1324.0          -7.79          5         red\n",
       "55          3450    263000.0  1349.0         -11.75          5         red\n",
       "56          3660    363000.0  1673.0         -11.92          5         red\n",
       "57          3450    174000.0  1284.0         -11.28          5         red\n",
       "58          3752    209000.0   955.0         -11.24          5         red\n",
       "59          3535    195000.0  1546.0         -11.36          5         red\n",
       "110         3459    100000.0  1289.0         -10.70          5         red\n",
       "111         3605    126000.0  1124.0         -10.81          5         red\n",
       "112         3615    200000.0  1635.0         -11.33          5         red\n",
       "113         3399    117000.0  1486.0         -10.92          5         red\n",
       "114         3610    132000.0  1522.0         -10.86          5         red\n",
       "115         3553    145000.0  1324.0         -11.03          5         red\n",
       "116         4015    282000.0  1534.0         -11.39          5         red\n",
       "117         3625     74000.0   876.0         -10.25          5         red\n",
       "118         6850    229000.0  1467.0         -10.07          5         red\n",
       "119         3780    200000.0  1324.0         -10.70          5         red\n",
       "170         3570    320000.0  1480.0          -7.58          5         red\n",
       "171         3500    138000.0  1420.0          -8.18          5         red\n",
       "172         4287    630000.0  1315.0          -9.20          5      orange\n",
       "173        26000    316000.0  1679.0          -9.10          5        blue\n",
       "174         3600    240000.0  1190.0          -7.89          5         red\n",
       "175         3614    145000.0  1553.0          -7.71          5         red\n",
       "176        18000    200000.0  1045.0          -8.30          5        blue\n",
       "177        11000    170000.0  1779.0          -9.90          5  blue-white\n",
       "178        12100    120000.0   708.9          -7.84          5  blue-white\n",
       "179        24490    248490.0  1134.5          -8.24          5  blue-white\n",
       "230        24145    382993.0  1494.0          -8.84          5  blue-white\n",
       "231        38234    272830.0  1356.0          -9.29          5        blue\n",
       "232        32489    648430.0  1948.5         -10.84          5        blue\n",
       "233        27739    849420.0  1252.0          -7.59          5  blue-white\n",
       "234        21904    748490.0  1130.0          -7.67          5  blue-white\n",
       "235        38940    374830.0  1356.0          -9.93          5        blue\n",
       "236        30839    834042.0  1194.0         -10.63          5        blue\n",
       "237         8829    537493.0  1423.0         -10.73          5       white\n",
       "238         9235    404940.0  1112.0         -11.23          5       white\n",
       "239        37882    294903.0  1783.0          -7.80          5        blue"
      ]
     },
     "execution_count": 15,
     "metadata": {},
     "output_type": "execute_result"
    }
   ],
   "source": [
    "df.query('radius > 500')"
   ]
  },
  {
   "cell_type": "markdown",
   "id": "f9124a89",
   "metadata": {},
   "source": [
    "Тайна столбца radius раскрыта. Поскольку данные отображены относительно Солнца, почти половина датасета имеет радиус меньше единицы, т.е. это звезды, которые меньше Солнца. Сорок звезд имеют радиус выше 500, и все они относятся к пятому типу (гипергиганты). Таким образом, данные, похоже, аномалий не представляют."
   ]
  },
  {
   "cell_type": "code",
   "execution_count": 16,
   "id": "bc34b629",
   "metadata": {},
   "outputs": [
    {
     "name": "stdout",
     "output_type": "stream",
     "text": [
      "<class 'pandas.core.frame.DataFrame'>\n",
      "RangeIndex: 240 entries, 0 to 239\n",
      "Data columns (total 6 columns):\n",
      " #   Column         Non-Null Count  Dtype  \n",
      "---  ------         --------------  -----  \n",
      " 0   temperature    240 non-null    int64  \n",
      " 1   luminosity     240 non-null    float64\n",
      " 2   radius         240 non-null    float64\n",
      " 3   abs_magnitude  240 non-null    float64\n",
      " 4   star_type      240 non-null    object \n",
      " 5   star_color     240 non-null    object \n",
      "dtypes: float64(3), int64(1), object(2)\n",
      "memory usage: 11.4+ KB\n"
     ]
    }
   ],
   "source": [
    "df['star_type'] = df['star_type'].astype('str') # превращаем столбец в категориальный\n",
    "df.info()"
   ]
  },
  {
   "cell_type": "markdown",
   "id": "03dccade",
   "metadata": {},
   "source": [
    "Остальные столбцы выглядят адекватно, считаю, что в предобработке не нуждаются. Перейдем к скалированию данных и разбиению на выборки. "
   ]
  },
  {
   "cell_type": "code",
   "execution_count": 17,
   "id": "dc4334fd",
   "metadata": {},
   "outputs": [],
   "source": [
    "dfc = df.copy()\n",
    "\n",
    "X = dfc.drop('temperature', axis=1)\n",
    "y = dfc['temperature']\n",
    "\n",
    "X_train, X_test, y_train, y_test = train_test_split(X, y, test_size=0.2, random_state=76767)"
   ]
  },
  {
   "cell_type": "code",
   "execution_count": 18,
   "id": "f47fe496",
   "metadata": {},
   "outputs": [],
   "source": [
    "enc = OneHotEncoder(handle_unknown='ignore')\n",
    "\n",
    "ohe_cat = ['star_type', 'star_color']\n",
    "num_col = ['luminosity', 'radius', 'abs_magnitude']\n",
    "\n",
    "enc.fit(X_train[ohe_cat])\n",
    "X_train_coded = pd.DataFrame(enc.transform(X_train[ohe_cat]).toarray(),\n",
    "                             columns=enc.get_feature_names(ohe_cat),\n",
    "                            index=X_train.index)\n",
    "\n",
    "X_test_coded = pd.DataFrame(enc.transform(X_test[ohe_cat]).toarray(),\n",
    "                             columns=enc.get_feature_names(ohe_cat),\n",
    "                            index=X_test.index)"
   ]
  },
  {
   "cell_type": "code",
   "execution_count": 19,
   "id": "af44d274",
   "metadata": {},
   "outputs": [],
   "source": [
    "scaler = StandardScaler()\n",
    "scaler.fit(X_train[num_col])\n",
    "columns = num_col\n",
    "X_train_scaled = pd.DataFrame(scaler.transform(X_train[num_col]), \n",
    "                             columns = columns,\n",
    "                             index = X_train.index)\n",
    "\n",
    "X_train = pd.concat((X_train_coded, X_train_scaled), axis=1)\n",
    "                             \n",
    "X_test_scaled = pd.DataFrame(scaler.transform(X_test[num_col]), \n",
    "                             columns = columns,\n",
    "                             index = X_test.index)\n",
    "                             \n",
    "X_test = pd.concat((X_test_coded, X_test_scaled), axis=1)"
   ]
  },
  {
   "cell_type": "code",
   "execution_count": 20,
   "id": "81c34396",
   "metadata": {
    "scrolled": false
   },
   "outputs": [
    {
     "data": {
      "text/plain": [
       "'Размер обучающей выборки: (192, 16)'"
      ]
     },
     "execution_count": 20,
     "metadata": {},
     "output_type": "execute_result"
    }
   ],
   "source": [
    "f\"Размер обучающей выборки: {X_train.shape}\""
   ]
  },
  {
   "cell_type": "code",
   "execution_count": 21,
   "id": "c3ed02b7",
   "metadata": {
    "scrolled": false
   },
   "outputs": [
    {
     "data": {
      "text/plain": [
       "'Размер тестовой  выборки: (48, 16)'"
      ]
     },
     "execution_count": 21,
     "metadata": {},
     "output_type": "execute_result"
    }
   ],
   "source": [
    "f\"Размер тестовой  выборки: {X_test.shape}\""
   ]
  },
  {
   "cell_type": "code",
   "execution_count": 22,
   "id": "7f158805",
   "metadata": {
    "scrolled": false
   },
   "outputs": [
    {
     "data": {
      "text/html": [
       "<div>\n",
       "<style scoped>\n",
       "    .dataframe tbody tr th:only-of-type {\n",
       "        vertical-align: middle;\n",
       "    }\n",
       "\n",
       "    .dataframe tbody tr th {\n",
       "        vertical-align: top;\n",
       "    }\n",
       "\n",
       "    .dataframe thead th {\n",
       "        text-align: right;\n",
       "    }\n",
       "</style>\n",
       "<table border=\"1\" class=\"dataframe\">\n",
       "  <thead>\n",
       "    <tr style=\"text-align: right;\">\n",
       "      <th></th>\n",
       "      <th>star_type_0</th>\n",
       "      <th>star_type_1</th>\n",
       "      <th>star_type_2</th>\n",
       "      <th>star_type_3</th>\n",
       "      <th>star_type_4</th>\n",
       "      <th>star_type_5</th>\n",
       "      <th>star_color_blue</th>\n",
       "      <th>star_color_blue-white</th>\n",
       "      <th>star_color_orange</th>\n",
       "      <th>star_color_red</th>\n",
       "      <th>star_color_white</th>\n",
       "      <th>star_color_yellow</th>\n",
       "      <th>star_color_yellow-white</th>\n",
       "      <th>luminosity</th>\n",
       "      <th>radius</th>\n",
       "      <th>abs_magnitude</th>\n",
       "    </tr>\n",
       "  </thead>\n",
       "  <tbody>\n",
       "    <tr>\n",
       "      <th>95</th>\n",
       "      <td>0.0</td>\n",
       "      <td>0.0</td>\n",
       "      <td>0.0</td>\n",
       "      <td>1.0</td>\n",
       "      <td>0.0</td>\n",
       "      <td>0.0</td>\n",
       "      <td>0.0</td>\n",
       "      <td>1.0</td>\n",
       "      <td>0.0</td>\n",
       "      <td>0.0</td>\n",
       "      <td>0.0</td>\n",
       "      <td>0.0</td>\n",
       "      <td>0.0</td>\n",
       "      <td>-0.589408</td>\n",
       "      <td>-0.436263</td>\n",
       "      <td>-0.622865</td>\n",
       "    </tr>\n",
       "    <tr>\n",
       "      <th>59</th>\n",
       "      <td>0.0</td>\n",
       "      <td>0.0</td>\n",
       "      <td>0.0</td>\n",
       "      <td>0.0</td>\n",
       "      <td>0.0</td>\n",
       "      <td>1.0</td>\n",
       "      <td>0.0</td>\n",
       "      <td>0.0</td>\n",
       "      <td>0.0</td>\n",
       "      <td>1.0</td>\n",
       "      <td>0.0</td>\n",
       "      <td>0.0</td>\n",
       "      <td>0.0</td>\n",
       "      <td>0.450058</td>\n",
       "      <td>2.630190</td>\n",
       "      <td>-1.491932</td>\n",
       "    </tr>\n",
       "    <tr>\n",
       "      <th>104</th>\n",
       "      <td>0.0</td>\n",
       "      <td>0.0</td>\n",
       "      <td>0.0</td>\n",
       "      <td>0.0</td>\n",
       "      <td>1.0</td>\n",
       "      <td>0.0</td>\n",
       "      <td>1.0</td>\n",
       "      <td>0.0</td>\n",
       "      <td>0.0</td>\n",
       "      <td>0.0</td>\n",
       "      <td>0.0</td>\n",
       "      <td>0.0</td>\n",
       "      <td>0.0</td>\n",
       "      <td>0.006089</td>\n",
       "      <td>-0.426260</td>\n",
       "      <td>-0.969149</td>\n",
       "    </tr>\n",
       "    <tr>\n",
       "      <th>176</th>\n",
       "      <td>0.0</td>\n",
       "      <td>0.0</td>\n",
       "      <td>0.0</td>\n",
       "      <td>0.0</td>\n",
       "      <td>0.0</td>\n",
       "      <td>1.0</td>\n",
       "      <td>1.0</td>\n",
       "      <td>0.0</td>\n",
       "      <td>0.0</td>\n",
       "      <td>0.0</td>\n",
       "      <td>0.0</td>\n",
       "      <td>0.0</td>\n",
       "      <td>0.0</td>\n",
       "      <td>0.476803</td>\n",
       "      <td>1.631962</td>\n",
       "      <td>-1.198406</td>\n",
       "    </tr>\n",
       "    <tr>\n",
       "      <th>183</th>\n",
       "      <td>1.0</td>\n",
       "      <td>0.0</td>\n",
       "      <td>0.0</td>\n",
       "      <td>0.0</td>\n",
       "      <td>0.0</td>\n",
       "      <td>0.0</td>\n",
       "      <td>0.0</td>\n",
       "      <td>0.0</td>\n",
       "      <td>0.0</td>\n",
       "      <td>1.0</td>\n",
       "      <td>0.0</td>\n",
       "      <td>0.0</td>\n",
       "      <td>0.0</td>\n",
       "      <td>-0.593003</td>\n",
       "      <td>-0.449973</td>\n",
       "      <td>1.261072</td>\n",
       "    </tr>\n",
       "    <tr>\n",
       "      <th>...</th>\n",
       "      <td>...</td>\n",
       "      <td>...</td>\n",
       "      <td>...</td>\n",
       "      <td>...</td>\n",
       "      <td>...</td>\n",
       "      <td>...</td>\n",
       "      <td>...</td>\n",
       "      <td>...</td>\n",
       "      <td>...</td>\n",
       "      <td>...</td>\n",
       "      <td>...</td>\n",
       "      <td>...</td>\n",
       "      <td>...</td>\n",
       "      <td>...</td>\n",
       "      <td>...</td>\n",
       "      <td>...</td>\n",
       "    </tr>\n",
       "    <tr>\n",
       "      <th>6</th>\n",
       "      <td>1.0</td>\n",
       "      <td>0.0</td>\n",
       "      <td>0.0</td>\n",
       "      <td>0.0</td>\n",
       "      <td>0.0</td>\n",
       "      <td>0.0</td>\n",
       "      <td>0.0</td>\n",
       "      <td>0.0</td>\n",
       "      <td>0.0</td>\n",
       "      <td>1.0</td>\n",
       "      <td>0.0</td>\n",
       "      <td>0.0</td>\n",
       "      <td>0.0</td>\n",
       "      <td>-0.593003</td>\n",
       "      <td>-0.449917</td>\n",
       "      <td>1.249562</td>\n",
       "    </tr>\n",
       "    <tr>\n",
       "      <th>143</th>\n",
       "      <td>0.0</td>\n",
       "      <td>0.0</td>\n",
       "      <td>1.0</td>\n",
       "      <td>0.0</td>\n",
       "      <td>0.0</td>\n",
       "      <td>0.0</td>\n",
       "      <td>0.0</td>\n",
       "      <td>1.0</td>\n",
       "      <td>0.0</td>\n",
       "      <td>0.0</td>\n",
       "      <td>0.0</td>\n",
       "      <td>0.0</td>\n",
       "      <td>0.0</td>\n",
       "      <td>-0.593003</td>\n",
       "      <td>-0.450151</td>\n",
       "      <td>0.741167</td>\n",
       "    </tr>\n",
       "    <tr>\n",
       "      <th>169</th>\n",
       "      <td>0.0</td>\n",
       "      <td>0.0</td>\n",
       "      <td>0.0</td>\n",
       "      <td>0.0</td>\n",
       "      <td>1.0</td>\n",
       "      <td>0.0</td>\n",
       "      <td>1.0</td>\n",
       "      <td>0.0</td>\n",
       "      <td>0.0</td>\n",
       "      <td>0.0</td>\n",
       "      <td>0.0</td>\n",
       "      <td>0.0</td>\n",
       "      <td>0.0</td>\n",
       "      <td>1.677768</td>\n",
       "      <td>-0.402351</td>\n",
       "      <td>-0.976823</td>\n",
       "    </tr>\n",
       "    <tr>\n",
       "      <th>208</th>\n",
       "      <td>0.0</td>\n",
       "      <td>0.0</td>\n",
       "      <td>1.0</td>\n",
       "      <td>0.0</td>\n",
       "      <td>0.0</td>\n",
       "      <td>0.0</td>\n",
       "      <td>1.0</td>\n",
       "      <td>0.0</td>\n",
       "      <td>0.0</td>\n",
       "      <td>0.0</td>\n",
       "      <td>0.0</td>\n",
       "      <td>0.0</td>\n",
       "      <td>0.0</td>\n",
       "      <td>-0.593003</td>\n",
       "      <td>-0.450149</td>\n",
       "      <td>0.716227</td>\n",
       "    </tr>\n",
       "    <tr>\n",
       "      <th>159</th>\n",
       "      <td>0.0</td>\n",
       "      <td>0.0</td>\n",
       "      <td>0.0</td>\n",
       "      <td>1.0</td>\n",
       "      <td>0.0</td>\n",
       "      <td>0.0</td>\n",
       "      <td>1.0</td>\n",
       "      <td>0.0</td>\n",
       "      <td>0.0</td>\n",
       "      <td>0.0</td>\n",
       "      <td>0.0</td>\n",
       "      <td>0.0</td>\n",
       "      <td>0.0</td>\n",
       "      <td>0.492316</td>\n",
       "      <td>-0.436502</td>\n",
       "      <td>-0.839652</td>\n",
       "    </tr>\n",
       "  </tbody>\n",
       "</table>\n",
       "<p>192 rows × 16 columns</p>\n",
       "</div>"
      ],
      "text/plain": [
       "     star_type_0  star_type_1  star_type_2  star_type_3  star_type_4  \\\n",
       "95           0.0          0.0          0.0          1.0          0.0   \n",
       "59           0.0          0.0          0.0          0.0          0.0   \n",
       "104          0.0          0.0          0.0          0.0          1.0   \n",
       "176          0.0          0.0          0.0          0.0          0.0   \n",
       "183          1.0          0.0          0.0          0.0          0.0   \n",
       "..           ...          ...          ...          ...          ...   \n",
       "6            1.0          0.0          0.0          0.0          0.0   \n",
       "143          0.0          0.0          1.0          0.0          0.0   \n",
       "169          0.0          0.0          0.0          0.0          1.0   \n",
       "208          0.0          0.0          1.0          0.0          0.0   \n",
       "159          0.0          0.0          0.0          1.0          0.0   \n",
       "\n",
       "     star_type_5  star_color_blue  star_color_blue-white  star_color_orange  \\\n",
       "95           0.0              0.0                    1.0                0.0   \n",
       "59           1.0              0.0                    0.0                0.0   \n",
       "104          0.0              1.0                    0.0                0.0   \n",
       "176          1.0              1.0                    0.0                0.0   \n",
       "183          0.0              0.0                    0.0                0.0   \n",
       "..           ...              ...                    ...                ...   \n",
       "6            0.0              0.0                    0.0                0.0   \n",
       "143          0.0              0.0                    1.0                0.0   \n",
       "169          0.0              1.0                    0.0                0.0   \n",
       "208          0.0              1.0                    0.0                0.0   \n",
       "159          0.0              1.0                    0.0                0.0   \n",
       "\n",
       "     star_color_red  star_color_white  star_color_yellow  \\\n",
       "95              0.0               0.0                0.0   \n",
       "59              1.0               0.0                0.0   \n",
       "104             0.0               0.0                0.0   \n",
       "176             0.0               0.0                0.0   \n",
       "183             1.0               0.0                0.0   \n",
       "..              ...               ...                ...   \n",
       "6               1.0               0.0                0.0   \n",
       "143             0.0               0.0                0.0   \n",
       "169             0.0               0.0                0.0   \n",
       "208             0.0               0.0                0.0   \n",
       "159             0.0               0.0                0.0   \n",
       "\n",
       "     star_color_yellow-white  luminosity    radius  abs_magnitude  \n",
       "95                       0.0   -0.589408 -0.436263      -0.622865  \n",
       "59                       0.0    0.450058  2.630190      -1.491932  \n",
       "104                      0.0    0.006089 -0.426260      -0.969149  \n",
       "176                      0.0    0.476803  1.631962      -1.198406  \n",
       "183                      0.0   -0.593003 -0.449973       1.261072  \n",
       "..                       ...         ...       ...            ...  \n",
       "6                        0.0   -0.593003 -0.449917       1.249562  \n",
       "143                      0.0   -0.593003 -0.450151       0.741167  \n",
       "169                      0.0    1.677768 -0.402351      -0.976823  \n",
       "208                      0.0   -0.593003 -0.450149       0.716227  \n",
       "159                      0.0    0.492316 -0.436502      -0.839652  \n",
       "\n",
       "[192 rows x 16 columns]"
      ]
     },
     "execution_count": 22,
     "metadata": {},
     "output_type": "execute_result"
    }
   ],
   "source": [
    "X_train"
   ]
  },
  {
   "cell_type": "code",
   "execution_count": 23,
   "id": "d2b60f7c",
   "metadata": {},
   "outputs": [],
   "source": [
    "X_train = torch.FloatTensor(X_train.values)\n",
    "X_test = torch.FloatTensor(X_test.values)\n",
    "y_train = torch.FloatTensor(y_train.values)\n",
    "y_test = torch.FloatTensor(y_test.values)"
   ]
  },
  {
   "cell_type": "code",
   "execution_count": 24,
   "id": "08c778cb",
   "metadata": {},
   "outputs": [],
   "source": [
    "y_train = y_train.reshape(y_train.shape[0], 1)\n",
    "y_test = y_test.reshape(y_test.shape[0], 1)"
   ]
  },
  {
   "cell_type": "code",
   "execution_count": 25,
   "id": "1a23dbcc",
   "metadata": {},
   "outputs": [
    {
     "data": {
      "text/plain": [
       "torch.Size([48, 1])"
      ]
     },
     "execution_count": 25,
     "metadata": {},
     "output_type": "execute_result"
    }
   ],
   "source": [
    "X_train.size()\n",
    "y_train.size()\n",
    "X_test.size()\n",
    "y_test.size()"
   ]
  },
  {
   "cell_type": "markdown",
   "id": "fc0a99ab",
   "metadata": {},
   "source": [
    "На этом этапе мы провели кодирование категориальных признаков, разбиение на тренировочную и тестовую выборки, масштабирование количественных признаков. Предобработка окончена, можно приступать к построению нейронной сети."
   ]
  },
  {
   "cell_type": "markdown",
   "id": "442f1a76",
   "metadata": {},
   "source": [
    "## Построение базовой нейронной сети"
   ]
  },
  {
   "cell_type": "code",
   "execution_count": 24,
   "id": "forced-concentrate",
   "metadata": {},
   "outputs": [],
   "source": [
    "# Гиперпараметры обучения:\n",
    "# '''\n",
    "# torch.manual_seed(1234)\n",
    "# input_size = 28*28\n",
    "# hidden_size = 550\n",
    "# num_classes = 10\n",
    "# num_epochs = 1\n",
    "# batch_size = 100\n",
    "# learning_rate = 0.001"
   ]
  },
  {
   "cell_type": "code",
   "execution_count": 25,
   "id": "f0f14450",
   "metadata": {},
   "outputs": [],
   "source": [
    "torch.manual_seed(76767)\n",
    "np.random.seed(76767)"
   ]
  },
  {
   "cell_type": "code",
   "execution_count": 26,
   "id": "7a4fe768",
   "metadata": {
    "scrolled": false
   },
   "outputs": [
    {
     "name": "stdout",
     "output_type": "stream",
     "text": [
      "tensor(11851.1045, grad_fn=<SqrtBackward0>)\n",
      "tensor(11265.9668, grad_fn=<SqrtBackward0>)\n",
      "tensor(7485.7974, grad_fn=<SqrtBackward0>)\n",
      "tensor(4886.9971, grad_fn=<SqrtBackward0>)\n",
      "tensor(4141.8296, grad_fn=<SqrtBackward0>)\n",
      "tensor(3816.1558, grad_fn=<SqrtBackward0>)\n",
      "tensor(3768.5042, grad_fn=<SqrtBackward0>)\n",
      "tensor(3727.4211, grad_fn=<SqrtBackward0>)\n",
      "tensor(3658.7227, grad_fn=<SqrtBackward0>)\n",
      "tensor(3589.0471, grad_fn=<SqrtBackward0>)\n"
     ]
    }
   ],
   "source": [
    "n_in_neurons = X_train.shape[1]\n",
    "n_hidden_neurons_1 = 200\n",
    "n_hidden_neurons_2 = 300\n",
    "n_out_neurons = 1\n",
    "\n",
    "net = nn.Sequential(\n",
    "    nn.Linear(n_in_neurons, n_hidden_neurons_1),\n",
    "    nn.ReLU(),\n",
    "    nn.Linear(n_hidden_neurons_1, n_hidden_neurons_2),\n",
    "    nn.ReLU(),\n",
    "    nn.Linear(n_hidden_neurons_2, n_out_neurons), \n",
    "    nn.ReLU()\n",
    ")\n",
    "\n",
    "optimizer = torch.optim.Adam(net.parameters(), lr=0.003) \n",
    "\n",
    "loss = nn.MSELoss()\n",
    "\n",
    "num_epochs = 500\n",
    "\n",
    "for epoch in range(num_epochs):\n",
    "    net.train()\n",
    "    optimizer.zero_grad()\n",
    "    preds = net.forward(X_train).flatten()\n",
    "    loss_value = torch.sqrt(loss(preds, y_train.flatten()))\n",
    "    loss_value.backward()\n",
    "    optimizer.step()\n",
    "    \n",
    "    if epoch % 50 == 0 or num_epochs / epoch == 1:\n",
    "        net.eval()\n",
    "        test_preds = net.forward(X_test).flatten()\n",
    "        rmse = torch.sqrt(loss(test_preds, y_test.flatten()))\n",
    "        \n",
    "        print(rmse)"
   ]
  },
  {
   "cell_type": "code",
   "execution_count": 27,
   "id": "6a6d9f3d",
   "metadata": {},
   "outputs": [
    {
     "data": {
      "text/plain": [
       "tensor([ 5364.8462, 18133.4121, 18595.7559, 20681.0020,  6011.1523, 19355.8438,\n",
       "         2984.2578,  3095.7329,  3343.9497,  2743.6143,  3118.2415,  3730.8530,\n",
       "         3188.5693,  3067.7942,  3355.8987,  2938.2266,  3110.1885, 14094.2383,\n",
       "         3004.4465,  2898.4360,  3307.2278,  7237.5786,  2611.1821,  4502.0322,\n",
       "        19120.1797, 18146.7305,  7764.3418,  3092.9883,  7086.2661, 18742.2148,\n",
       "         3349.6155, 20208.9219,  2851.0376, 18476.2812, 21206.6777,  3005.7700,\n",
       "         2955.4421,  2950.0496, 12398.5684, 17318.9980, 10123.5020,  3133.1436,\n",
       "         3011.1355, 18915.2344,  3016.7234,  9093.8203, 20197.5918, 11966.6816],\n",
       "       grad_fn=<ReshapeAliasBackward0>)"
      ]
     },
     "execution_count": 27,
     "metadata": {},
     "output_type": "execute_result"
    }
   ],
   "source": [
    "test_preds"
   ]
  },
  {
   "cell_type": "code",
   "execution_count": 30,
   "id": "c1a53634",
   "metadata": {},
   "outputs": [],
   "source": [
    "def draw_plot(target, preds, width = 0.4):\n",
    "    y1 = target.numpy().reshape([-1])\n",
    "    y2 = preds.reshape([-1]).detach().numpy()\n",
    "    x = np.arange(len(y1))\n",
    "    fig,ax = plt.subplots()\n",
    "    rects1 = ax.bar(x, y1, width, label = 'Факт', color = 'darkblue')\n",
    "    rects2 = ax.bar(x, y2, width/3, label = 'Прогноз', color = 'limegreen')\n",
    "    ax.set_title('Факт - Прогноз')\n",
    "    ax.set_xticks(x)\n",
    "    ax.set_xlabel('Номер')\n",
    "    ax.set_ylabel('Температура')\n",
    "    fig.set_figwidth(20)\n",
    "    fig.set_figheight(10)\n",
    "    ax.legend();"
   ]
  },
  {
   "cell_type": "code",
   "execution_count": 31,
   "id": "42079bae",
   "metadata": {},
   "outputs": [
    {
     "data": {
      "image/png": "[encoded data removed]",
      "text/plain": [
       "<Figure size 1440x720 with 1 Axes>"
      ]
     },
     "metadata": {
      "needs_background": "light"
     },
     "output_type": "display_data"
    }
   ],
   "source": [
    "draw_plot(y_test, test_preds)"
   ]
  },
  {
   "cell_type": "markdown",
   "id": "0d01cf68",
   "metadata": {},
   "source": [
    "Бейзлайн-модель готова. Выдает метрику RMSE в районе 3600, что уже лучше таргета в 4500. \n",
    "\n",
    "Модель довольно точно предсказывает невысокую температуру. Часто ошибается на температуре от 10000 К, возможно, потому, что звезд с такой температурой меньше и потому их тяжелее \"просчитать\" для нейронной сети."
   ]
  },
  {
   "cell_type": "markdown",
   "id": "growing-supply",
   "metadata": {},
   "source": [
    "## Улучшение нейронной сети"
   ]
  },
  {
   "cell_type": "markdown",
   "id": "4466aa98",
   "metadata": {},
   "source": [
    "Попробуем улучшить нейросеть с помощью BatchNormalization."
   ]
  },
  {
   "cell_type": "code",
   "execution_count": 35,
   "id": "acceptable-forwarding",
   "metadata": {},
   "outputs": [
    {
     "name": "stdout",
     "output_type": "stream",
     "text": [
      "tensor(11851.3301)\n",
      "tensor(11566.5830)\n",
      "tensor(10819.1914)\n",
      "tensor(9323.6250)\n",
      "tensor(7618.3652)\n",
      "tensor(5671.9814)\n",
      "tensor(4233.7876)\n",
      "tensor(4065.4204)\n",
      "tensor(4059.5615)\n",
      "tensor(4294.0762)\n"
     ]
    }
   ],
   "source": [
    "n_in_neurons = X_train.shape[1]\n",
    "n_hidden_neurons_1 = 200\n",
    "n_hidden_neurons_2 = 300\n",
    "n_out_neurons = 1\n",
    "\n",
    "net_bn = nn.Sequential(\n",
    "    nn.Linear(n_in_neurons, n_hidden_neurons_1),\n",
    "    nn.ReLU(),\n",
    "    nn.BatchNorm1d(n_hidden_neurons_1),\n",
    "    nn.Linear(n_hidden_neurons_1, n_hidden_neurons_2),\n",
    "    nn.ReLU(),\n",
    "    nn.BatchNorm1d(n_hidden_neurons_2),\n",
    "    nn.Linear(n_hidden_neurons_2, n_out_neurons), \n",
    "    nn.ReLU()\n",
    ")\n",
    "\n",
    "optimizer = torch.optim.Adam(net_bn.parameters(), lr=0.003) \n",
    "\n",
    "loss = nn.MSELoss()\n",
    "\n",
    "num_epochs = 2000\n",
    "\n",
    "for epoch in range(num_epochs):\n",
    "    net_bn.train()\n",
    "    optimizer.zero_grad()\n",
    "    preds = net_bn.forward(X_train).flatten()\n",
    "    loss_value = torch.sqrt(loss(preds, y_train.flatten()))\n",
    "    loss_value.backward()\n",
    "    optimizer.step()\n",
    "    \n",
    "    if epoch % 200 == 0 or num_epochs / epoch == 1:\n",
    "        with torch.no_grad():\n",
    "            net_bn.eval()\n",
    "            bn_test_preds = net_bn.forward(X_test).flatten()\n",
    "            rmse = torch.sqrt(loss(bn_test_preds, y_test.flatten()))\n",
    "            print(rmse)"
   ]
  },
  {
   "cell_type": "code",
   "execution_count": 33,
   "id": "377c2c10",
   "metadata": {
    "scrolled": false
   },
   "outputs": [
    {
     "data": {
      "text/plain": [
       "tensor([ 3816.7705, 31793.8926, 12279.0186, 18083.1660,  3700.7600, 19923.5820,\n",
       "         3051.7092,  3162.8945,  4151.9790,  3368.5046,  3311.5073,     0.0000,\n",
       "         3337.9324,  3136.2471,  3443.4231,  3027.5913,  3312.0039, 16478.4258,\n",
       "         3073.6160,  3839.1438,  3407.7344,  8012.4502,  3407.8625,  3782.2554,\n",
       "        23503.9121, 11291.6494,  3925.5286,  3313.7603,  5144.9507, 25288.3379,\n",
       "            0.0000, 17917.7168,  3002.1477, 21844.9883, 21276.8418,  3074.6299,\n",
       "         3032.4153,  3030.9329, 12407.8555, 19563.8281,  5178.4097,  3660.0642,\n",
       "         3080.3298, 23009.1895,  3313.0427, 14467.9355, 18026.5566,  9665.5615])"
      ]
     },
     "execution_count": 33,
     "metadata": {},
     "output_type": "execute_result"
    }
   ],
   "source": [
    "bn_test_preds"
   ]
  },
  {
   "cell_type": "code",
   "execution_count": 34,
   "id": "7c08347f",
   "metadata": {},
   "outputs": [
    {
     "data": {
      "image/png": "[encoded data removed]",
      "text/plain": [
       "<Figure size 1440x720 with 1 Axes>"
      ]
     },
     "metadata": {
      "needs_background": "light"
     },
     "output_type": "display_data"
    }
   ],
   "source": [
    "draw_plot(y_test, bn_test_preds)"
   ]
  },
  {
   "cell_type": "markdown",
   "id": "ce69f72e",
   "metadata": {},
   "source": [
    "Batch Normalization работает только при увеличении количества эпох в 4 раза, но метрики хуже, чем без неё. "
   ]
  },
  {
   "cell_type": "markdown",
   "id": "0252848c",
   "metadata": {},
   "source": [
    "Теперь попробуем Dropout. Значения будем перебирать циклом из списка ниже."
   ]
  },
  {
   "cell_type": "code",
   "execution_count": 36,
   "id": "635fccb0",
   "metadata": {},
   "outputs": [],
   "source": [
    "dropout_values = [0.1, 0.3, 0.5, 0.7]"
   ]
  },
  {
   "cell_type": "code",
   "execution_count": 37,
   "id": "f6a7894a",
   "metadata": {},
   "outputs": [
    {
     "name": "stdout",
     "output_type": "stream",
     "text": [
      "dropout_value: 0.1, rmse: 3607.3505859375\n",
      "dropout_value: 0.3, rmse: 3632.937744140625\n",
      "dropout_value: 0.5, rmse: 3738.780517578125\n",
      "dropout_value: 0.7, rmse: 3759.9736328125\n"
     ]
    }
   ],
   "source": [
    "for value in dropout_values:\n",
    "    net_dp = nn.Sequential(\n",
    "        nn.Linear(n_in_neurons, n_hidden_neurons_1),\n",
    "        nn.ReLU(),\n",
    "        nn.Dropout(p=value),\n",
    "        nn.Linear(n_hidden_neurons_1, n_hidden_neurons_2),\n",
    "        nn.ReLU(),\n",
    "        nn.Dropout(p=value),\n",
    "        nn.Linear(n_hidden_neurons_2, n_out_neurons), \n",
    "        nn.ReLU()\n",
    "    )\n",
    "    \n",
    "    optimizer = torch.optim.Adam(net_dp.parameters(), lr=0.003) \n",
    "\n",
    "    loss = nn.MSELoss()\n",
    "\n",
    "    num_epochs = 500\n",
    "\n",
    "    for epoch in range(num_epochs):\n",
    "        net_dp.train()\n",
    "        optimizer.zero_grad()\n",
    "        preds = net_dp.forward(X_train).flatten()\n",
    "        loss_value = torch.sqrt(loss(preds, y_train.flatten()))\n",
    "        loss_value.backward()\n",
    "        optimizer.step()\n",
    "    \n",
    "        if epoch % 50 == 0 or num_epochs / epoch == 1:\n",
    "            with torch.no_grad():\n",
    "                net_dp.eval()\n",
    "                dp_test_preds = net_dp.forward(X_test).flatten()\n",
    "                rmse = torch.sqrt(loss(dp_test_preds, y_test.flatten()))\n",
    "        \n",
    "    print(f'dropout_value: {value}, rmse: {rmse}')        "
   ]
  },
  {
   "cell_type": "code",
   "execution_count": 38,
   "id": "bae99256",
   "metadata": {},
   "outputs": [
    {
     "data": {
      "text/plain": [
       "tensor([ 6143.2979, 18125.6777, 18384.6582, 21201.9355,  6591.7769, 19443.8262,\n",
       "         2835.3918,  2881.2378,  4500.1597,  1398.9146,  3051.6614,  4027.7615,\n",
       "         3089.0388,  2869.7161,  3175.6768,  2816.4878,  3047.4082, 15568.0908,\n",
       "         2843.6147,  3759.2959,  3150.4204,  6368.3193,  1794.6224,  5375.0859,\n",
       "        18619.8809, 17831.9453,  8096.0234,  3037.7783,  7597.6797, 19172.8047,\n",
       "         3508.3284, 20820.6602,  2779.9944, 18066.9844, 21537.1426,  2844.2732,\n",
       "         2823.5977,  2821.3650, 12157.3125, 17213.0781, 10802.1670,  4006.4968,\n",
       "         2846.4822, 18328.7988,  2997.5005,  8513.8135, 20811.6348, 11856.0879])"
      ]
     },
     "execution_count": 38,
     "metadata": {},
     "output_type": "execute_result"
    }
   ],
   "source": [
    "dp_test_preds"
   ]
  },
  {
   "cell_type": "code",
   "execution_count": 39,
   "id": "57f9b05a",
   "metadata": {},
   "outputs": [
    {
     "data": {
      "image/png": "[encoded data removed]",
      "text/plain": [
       "<Figure size 1440x720 with 1 Axes>"
      ]
     },
     "metadata": {
      "needs_background": "light"
     },
     "output_type": "display_data"
    }
   ],
   "source": [
    "draw_plot(y_test, dp_test_preds)"
   ]
  },
  {
   "cell_type": "markdown",
   "id": "accurate-infrastructure",
   "metadata": {},
   "source": [
    "## Выводы"
   ]
  },
  {
   "cell_type": "markdown",
   "id": "6ca5b011",
   "metadata": {},
   "source": [
    "Улучшения метрики RMSE получить с помощью Dropout и BatchNorm не удалось. BatchNorm превосходил baseline только с увеличением количества эпох в 4 раза.\n",
    "\n",
    "Кажется, удалось собрать слишком удачный бейэлайн (RMSE = 3589) :)"
   ]
  }
 ],
 "metadata": {
  "ExecuteTimeLog": [
   {
    "duration": 931,
    "start_time": "2023-06-18T16:56:52.890Z"
   },
   {
    "duration": 60,
    "start_time": "2023-06-18T16:56:56.257Z"
   },
   {
    "duration": 34,
    "start_time": "2023-06-18T16:57:01.734Z"
   },
   {
    "duration": 9,
    "start_time": "2023-06-18T16:58:13.833Z"
   },
   {
    "duration": 6,
    "start_time": "2023-06-18T16:58:32.212Z"
   },
   {
    "duration": 40,
    "start_time": "2023-06-18T16:59:06.405Z"
   },
   {
    "duration": 4,
    "start_time": "2023-06-18T16:59:36.883Z"
   },
   {
    "duration": 4,
    "start_time": "2023-06-18T16:59:40.290Z"
   },
   {
    "duration": 4,
    "start_time": "2023-06-18T17:01:13.778Z"
   },
   {
    "duration": 3,
    "start_time": "2023-06-18T17:05:06.287Z"
   },
   {
    "duration": 13,
    "start_time": "2023-06-18T17:05:10.120Z"
   },
   {
    "duration": 355,
    "start_time": "2023-06-18T17:10:46.120Z"
   },
   {
    "duration": 709,
    "start_time": "2023-06-18T17:11:06.840Z"
   },
   {
    "duration": 505,
    "start_time": "2023-06-18T17:11:18.085Z"
   },
   {
    "duration": 707,
    "start_time": "2023-06-18T17:11:22.635Z"
   },
   {
    "duration": 1090,
    "start_time": "2023-06-18T17:14:49.999Z"
   },
   {
    "duration": 1139,
    "start_time": "2023-06-18T17:14:58.434Z"
   },
   {
    "duration": 4,
    "start_time": "2023-06-18T17:15:05.882Z"
   },
   {
    "duration": 8,
    "start_time": "2023-06-18T17:21:57.310Z"
   },
   {
    "duration": 3,
    "start_time": "2023-06-18T17:22:09.445Z"
   },
   {
    "duration": 57,
    "start_time": "2023-06-18T17:22:09.460Z"
   },
   {
    "duration": 4,
    "start_time": "2023-06-18T17:22:09.519Z"
   },
   {
    "duration": 10,
    "start_time": "2023-06-18T17:22:09.524Z"
   },
   {
    "duration": 3,
    "start_time": "2023-06-18T17:22:09.536Z"
   },
   {
    "duration": 6,
    "start_time": "2023-06-18T17:22:09.540Z"
   },
   {
    "duration": 10,
    "start_time": "2023-06-18T17:22:09.547Z"
   },
   {
    "duration": 19,
    "start_time": "2023-06-18T17:22:09.558Z"
   },
   {
    "duration": 679,
    "start_time": "2023-06-18T17:22:09.579Z"
   },
   {
    "duration": 8,
    "start_time": "2023-06-18T17:22:39.849Z"
   },
   {
    "duration": 9,
    "start_time": "2023-06-18T17:23:05.284Z"
   },
   {
    "duration": 6,
    "start_time": "2023-06-18T17:26:28.809Z"
   },
   {
    "duration": 7,
    "start_time": "2023-06-18T17:26:36.212Z"
   },
   {
    "duration": 235,
    "start_time": "2023-06-18T17:27:16.736Z"
   },
   {
    "duration": 226,
    "start_time": "2023-06-18T17:27:23.943Z"
   },
   {
    "duration": 211,
    "start_time": "2023-06-18T17:27:42.287Z"
   },
   {
    "duration": 193,
    "start_time": "2023-06-18T17:28:03.357Z"
   },
   {
    "duration": 288,
    "start_time": "2023-06-18T17:28:33.742Z"
   },
   {
    "duration": 184,
    "start_time": "2023-06-18T17:28:51.357Z"
   },
   {
    "duration": 179,
    "start_time": "2023-06-18T17:28:55.703Z"
   },
   {
    "duration": 168,
    "start_time": "2023-06-18T17:29:00.252Z"
   },
   {
    "duration": 142,
    "start_time": "2023-06-18T17:29:08.794Z"
   },
   {
    "duration": 137,
    "start_time": "2023-06-18T17:29:51.728Z"
   },
   {
    "duration": 131,
    "start_time": "2023-06-18T17:30:10.059Z"
   },
   {
    "duration": 136,
    "start_time": "2023-06-18T17:30:31.323Z"
   },
   {
    "duration": 152,
    "start_time": "2023-06-18T17:31:06.503Z"
   },
   {
    "duration": 16,
    "start_time": "2023-06-18T17:31:38.915Z"
   },
   {
    "duration": 16,
    "start_time": "2023-06-18T17:33:06.145Z"
   },
   {
    "duration": 7,
    "start_time": "2023-06-18T18:40:23.592Z"
   },
   {
    "duration": 7,
    "start_time": "2023-06-18T18:42:21.040Z"
   },
   {
    "duration": 1589,
    "start_time": "2023-06-18T18:44:38.887Z"
   },
   {
    "duration": 27698,
    "start_time": "2023-06-18T18:45:13.025Z"
   },
   {
    "duration": 4,
    "start_time": "2023-06-18T18:49:34.708Z"
   },
   {
    "duration": 11,
    "start_time": "2023-06-18T18:49:40.710Z"
   },
   {
    "duration": 13,
    "start_time": "2023-06-18T18:52:15.798Z"
   },
   {
    "duration": 493,
    "start_time": "2023-06-18T18:52:41.657Z"
   },
   {
    "duration": 6,
    "start_time": "2023-06-18T18:52:46.459Z"
   },
   {
    "duration": 2,
    "start_time": "2023-06-18T18:54:12.946Z"
   },
   {
    "duration": 11,
    "start_time": "2023-06-18T18:56:39.941Z"
   },
   {
    "duration": 4,
    "start_time": "2023-06-18T18:57:18.238Z"
   },
   {
    "duration": 4,
    "start_time": "2023-06-18T18:57:25.517Z"
   },
   {
    "duration": 10,
    "start_time": "2023-06-18T18:57:54.129Z"
   },
   {
    "duration": 19,
    "start_time": "2023-06-18T18:58:05.942Z"
   },
   {
    "duration": 3,
    "start_time": "2023-06-18T19:06:33.251Z"
   },
   {
    "duration": 50,
    "start_time": "2023-06-18T19:08:48.396Z"
   },
   {
    "duration": 25,
    "start_time": "2023-06-18T19:09:07.055Z"
   },
   {
    "duration": 30163,
    "start_time": "2023-06-19T19:00:58.506Z"
   },
   {
    "duration": 1937,
    "start_time": "2023-06-19T19:01:28.671Z"
   },
   {
    "duration": 121,
    "start_time": "2023-06-19T19:01:30.610Z"
   },
   {
    "duration": 21,
    "start_time": "2023-06-19T19:01:30.737Z"
   },
   {
    "duration": 118,
    "start_time": "2023-06-19T19:01:30.761Z"
   },
   {
    "duration": 507,
    "start_time": "2023-06-19T19:01:30.881Z"
   },
   {
    "duration": 107,
    "start_time": "2023-06-19T19:01:31.390Z"
   },
   {
    "duration": 73,
    "start_time": "2023-06-19T19:01:31.499Z"
   },
   {
    "duration": 168,
    "start_time": "2023-06-19T19:01:31.574Z"
   },
   {
    "duration": 914,
    "start_time": "2023-06-19T19:01:31.743Z"
   },
   {
    "duration": 188,
    "start_time": "2023-06-19T19:01:32.658Z"
   },
   {
    "duration": 18,
    "start_time": "2023-06-19T19:01:32.848Z"
   },
   {
    "duration": 216,
    "start_time": "2023-06-19T19:01:32.868Z"
   },
   {
    "duration": 63,
    "start_time": "2023-06-19T19:01:33.087Z"
   },
   {
    "duration": 47,
    "start_time": "2023-06-19T19:01:33.151Z"
   },
   {
    "duration": 49,
    "start_time": "2023-06-19T19:01:33.199Z"
   },
   {
    "duration": 5,
    "start_time": "2023-06-19T19:01:33.250Z"
   },
   {
    "duration": 12,
    "start_time": "2023-06-19T19:01:33.257Z"
   },
   {
    "duration": 17,
    "start_time": "2023-06-19T19:01:33.270Z"
   },
   {
    "duration": 11,
    "start_time": "2023-06-19T19:01:33.288Z"
   },
   {
    "duration": 17,
    "start_time": "2023-06-19T19:01:33.300Z"
   },
   {
    "duration": 240,
    "start_time": "2023-06-19T19:01:33.318Z"
   },
   {
    "duration": 616,
    "start_time": "2023-06-19T19:02:52.831Z"
   },
   {
    "duration": 17,
    "start_time": "2023-06-19T19:16:57.616Z"
   },
   {
    "duration": 3,
    "start_time": "2023-06-19T19:17:20.244Z"
   },
   {
    "duration": 21,
    "start_time": "2023-06-19T19:17:38.757Z"
   },
   {
    "duration": 2,
    "start_time": "2023-06-19T19:17:47.944Z"
   },
   {
    "duration": 11,
    "start_time": "2023-06-19T19:18:09.191Z"
   },
   {
    "duration": 913,
    "start_time": "2023-06-19T19:18:21.343Z"
   },
   {
    "duration": 42695,
    "start_time": "2023-06-20T15:49:45.221Z"
   },
   {
    "duration": 8289,
    "start_time": "2023-06-20T15:50:27.918Z"
   },
   {
    "duration": 124,
    "start_time": "2023-06-20T15:50:36.212Z"
   },
   {
    "duration": 8,
    "start_time": "2023-06-20T15:50:36.337Z"
   },
   {
    "duration": 8,
    "start_time": "2023-06-20T15:50:36.347Z"
   },
   {
    "duration": 6,
    "start_time": "2023-06-20T15:50:36.356Z"
   },
   {
    "duration": 4,
    "start_time": "2023-06-20T15:50:36.363Z"
   },
   {
    "duration": 14,
    "start_time": "2023-06-20T15:50:36.369Z"
   },
   {
    "duration": 18,
    "start_time": "2023-06-20T15:50:36.384Z"
   },
   {
    "duration": 954,
    "start_time": "2023-06-20T15:50:36.404Z"
   },
   {
    "duration": 264,
    "start_time": "2023-06-20T15:50:37.360Z"
   },
   {
    "duration": 36,
    "start_time": "2023-06-20T15:50:37.630Z"
   },
   {
    "duration": 40,
    "start_time": "2023-06-20T15:50:37.669Z"
   },
   {
    "duration": 18,
    "start_time": "2023-06-20T15:50:37.724Z"
   },
   {
    "duration": 21,
    "start_time": "2023-06-20T15:50:37.744Z"
   },
   {
    "duration": 23,
    "start_time": "2023-06-20T15:50:37.767Z"
   },
   {
    "duration": 9,
    "start_time": "2023-06-20T15:50:37.794Z"
   },
   {
    "duration": 35,
    "start_time": "2023-06-20T15:50:37.806Z"
   },
   {
    "duration": 33,
    "start_time": "2023-06-20T15:50:37.854Z"
   },
   {
    "duration": 84,
    "start_time": "2023-06-20T15:50:37.891Z"
   },
   {
    "duration": 28,
    "start_time": "2023-06-20T15:50:37.981Z"
   },
   {
    "duration": 9,
    "start_time": "2023-06-20T15:50:38.019Z"
   },
   {
    "duration": 2997,
    "start_time": "2023-06-20T15:50:38.033Z"
   },
   {
    "duration": 2311,
    "start_time": "2023-06-20T15:51:25.323Z"
   },
   {
    "duration": 4,
    "start_time": "2023-06-20T15:52:02.128Z"
   },
   {
    "duration": 2312,
    "start_time": "2023-06-20T15:52:26.335Z"
   },
   {
    "duration": 173,
    "start_time": "2023-06-20T15:53:45.630Z"
   },
   {
    "duration": 13,
    "start_time": "2023-06-20T15:55:55.221Z"
   },
   {
    "duration": 21,
    "start_time": "2023-06-20T15:55:58.230Z"
   },
   {
    "duration": 24,
    "start_time": "2023-06-20T15:56:02.598Z"
   },
   {
    "duration": 4,
    "start_time": "2023-06-20T15:58:33.032Z"
   },
   {
    "duration": 5,
    "start_time": "2023-06-20T15:58:35.049Z"
   },
   {
    "duration": 6,
    "start_time": "2023-06-20T15:59:14.402Z"
   },
   {
    "duration": 7,
    "start_time": "2023-06-20T15:59:21.508Z"
   },
   {
    "duration": 4,
    "start_time": "2023-06-20T15:59:27.345Z"
   },
   {
    "duration": 1084,
    "start_time": "2023-06-20T16:30:56.101Z"
   },
   {
    "duration": 924,
    "start_time": "2023-06-20T16:31:12.285Z"
   },
   {
    "duration": 2171,
    "start_time": "2023-06-20T16:31:18.451Z"
   },
   {
    "duration": 4,
    "start_time": "2023-06-20T16:31:20.625Z"
   },
   {
    "duration": 79,
    "start_time": "2023-06-20T16:31:20.630Z"
   },
   {
    "duration": 7,
    "start_time": "2023-06-20T16:31:20.712Z"
   },
   {
    "duration": 22,
    "start_time": "2023-06-20T16:31:20.721Z"
   },
   {
    "duration": 36,
    "start_time": "2023-06-20T16:31:20.745Z"
   },
   {
    "duration": 26,
    "start_time": "2023-06-20T16:31:20.782Z"
   },
   {
    "duration": 36,
    "start_time": "2023-06-20T16:31:20.809Z"
   },
   {
    "duration": 25,
    "start_time": "2023-06-20T16:31:20.847Z"
   },
   {
    "duration": 809,
    "start_time": "2023-06-20T16:31:20.875Z"
   },
   {
    "duration": 179,
    "start_time": "2023-06-20T16:31:21.686Z"
   },
   {
    "duration": 32,
    "start_time": "2023-06-20T16:31:21.868Z"
   },
   {
    "duration": 11,
    "start_time": "2023-06-20T16:31:21.904Z"
   },
   {
    "duration": 11,
    "start_time": "2023-06-20T16:31:21.916Z"
   },
   {
    "duration": 10,
    "start_time": "2023-06-20T16:31:21.929Z"
   },
   {
    "duration": 10,
    "start_time": "2023-06-20T16:31:21.941Z"
   },
   {
    "duration": 20,
    "start_time": "2023-06-20T16:31:21.970Z"
   },
   {
    "duration": 11,
    "start_time": "2023-06-20T16:31:21.993Z"
   },
   {
    "duration": 29,
    "start_time": "2023-06-20T16:31:22.006Z"
   },
   {
    "duration": 4,
    "start_time": "2023-06-20T16:31:22.037Z"
   },
   {
    "duration": 4,
    "start_time": "2023-06-20T16:31:22.042Z"
   },
   {
    "duration": 5,
    "start_time": "2023-06-20T16:31:22.047Z"
   },
   {
    "duration": 83,
    "start_time": "2023-06-20T16:31:22.054Z"
   },
   {
    "duration": 0,
    "start_time": "2023-06-20T16:31:22.139Z"
   },
   {
    "duration": 2,
    "start_time": "2023-06-20T16:31:45.102Z"
   },
   {
    "duration": 702,
    "start_time": "2023-06-20T16:31:46.383Z"
   },
   {
    "duration": 648,
    "start_time": "2023-06-20T16:32:18.523Z"
   },
   {
    "duration": 2151,
    "start_time": "2023-06-20T16:32:29.208Z"
   },
   {
    "duration": 3,
    "start_time": "2023-06-20T16:32:31.362Z"
   },
   {
    "duration": 113,
    "start_time": "2023-06-20T16:32:31.367Z"
   },
   {
    "duration": 6,
    "start_time": "2023-06-20T16:32:31.482Z"
   },
   {
    "duration": 23,
    "start_time": "2023-06-20T16:32:31.489Z"
   },
   {
    "duration": 22,
    "start_time": "2023-06-20T16:32:31.514Z"
   },
   {
    "duration": 38,
    "start_time": "2023-06-20T16:32:31.537Z"
   },
   {
    "duration": 147,
    "start_time": "2023-06-20T16:32:31.577Z"
   },
   {
    "duration": 36,
    "start_time": "2023-06-20T16:32:31.725Z"
   },
   {
    "duration": 824,
    "start_time": "2023-06-20T16:32:31.764Z"
   },
   {
    "duration": 166,
    "start_time": "2023-06-20T16:32:32.590Z"
   },
   {
    "duration": 32,
    "start_time": "2023-06-20T16:32:32.757Z"
   },
   {
    "duration": 11,
    "start_time": "2023-06-20T16:32:32.791Z"
   },
   {
    "duration": 17,
    "start_time": "2023-06-20T16:32:32.803Z"
   },
   {
    "duration": 20,
    "start_time": "2023-06-20T16:32:32.821Z"
   },
   {
    "duration": 8,
    "start_time": "2023-06-20T16:32:32.842Z"
   },
   {
    "duration": 5,
    "start_time": "2023-06-20T16:32:32.851Z"
   },
   {
    "duration": 23,
    "start_time": "2023-06-20T16:32:32.857Z"
   },
   {
    "duration": 20,
    "start_time": "2023-06-20T16:32:32.885Z"
   },
   {
    "duration": 16,
    "start_time": "2023-06-20T16:32:32.907Z"
   },
   {
    "duration": 12,
    "start_time": "2023-06-20T16:32:32.925Z"
   },
   {
    "duration": 10,
    "start_time": "2023-06-20T16:32:32.939Z"
   },
   {
    "duration": 4,
    "start_time": "2023-06-20T16:32:32.951Z"
   },
   {
    "duration": 739,
    "start_time": "2023-06-20T16:32:32.957Z"
   },
   {
    "duration": 659,
    "start_time": "2023-06-20T16:32:50.629Z"
   },
   {
    "duration": 2090,
    "start_time": "2023-06-20T16:32:54.320Z"
   },
   {
    "duration": 4,
    "start_time": "2023-06-20T16:32:56.413Z"
   },
   {
    "duration": 58,
    "start_time": "2023-06-20T16:32:56.418Z"
   },
   {
    "duration": 7,
    "start_time": "2023-06-20T16:32:56.478Z"
   },
   {
    "duration": 12,
    "start_time": "2023-06-20T16:32:56.487Z"
   },
   {
    "duration": 6,
    "start_time": "2023-06-20T16:32:56.501Z"
   },
   {
    "duration": 7,
    "start_time": "2023-06-20T16:32:56.508Z"
   },
   {
    "duration": 15,
    "start_time": "2023-06-20T16:32:56.516Z"
   },
   {
    "duration": 13,
    "start_time": "2023-06-20T16:32:56.532Z"
   },
   {
    "duration": 779,
    "start_time": "2023-06-20T16:32:56.546Z"
   },
   {
    "duration": 169,
    "start_time": "2023-06-20T16:32:57.327Z"
   },
   {
    "duration": 16,
    "start_time": "2023-06-20T16:32:57.498Z"
   },
   {
    "duration": 12,
    "start_time": "2023-06-20T16:32:57.516Z"
   },
   {
    "duration": 7,
    "start_time": "2023-06-20T16:32:57.532Z"
   },
   {
    "duration": 41,
    "start_time": "2023-06-20T16:32:57.540Z"
   },
   {
    "duration": 3,
    "start_time": "2023-06-20T16:32:57.584Z"
   },
   {
    "duration": 9,
    "start_time": "2023-06-20T16:32:57.588Z"
   },
   {
    "duration": 15,
    "start_time": "2023-06-20T16:32:57.598Z"
   },
   {
    "duration": 45,
    "start_time": "2023-06-20T16:32:57.615Z"
   },
   {
    "duration": 21,
    "start_time": "2023-06-20T16:32:57.662Z"
   },
   {
    "duration": 6,
    "start_time": "2023-06-20T16:32:57.685Z"
   },
   {
    "duration": 6,
    "start_time": "2023-06-20T16:32:57.693Z"
   },
   {
    "duration": 15,
    "start_time": "2023-06-20T16:32:57.700Z"
   },
   {
    "duration": 777,
    "start_time": "2023-06-20T16:32:57.717Z"
   },
   {
    "duration": 6312,
    "start_time": "2023-06-20T16:33:43.296Z"
   },
   {
    "duration": 2326,
    "start_time": "2023-06-20T16:34:16.681Z"
   },
   {
    "duration": 4,
    "start_time": "2023-06-20T16:34:19.009Z"
   },
   {
    "duration": 56,
    "start_time": "2023-06-20T16:34:19.014Z"
   },
   {
    "duration": 20,
    "start_time": "2023-06-20T16:34:19.074Z"
   },
   {
    "duration": 9,
    "start_time": "2023-06-20T16:34:19.100Z"
   },
   {
    "duration": 18,
    "start_time": "2023-06-20T16:34:19.111Z"
   },
   {
    "duration": 18,
    "start_time": "2023-06-20T16:34:19.131Z"
   },
   {
    "duration": 31,
    "start_time": "2023-06-20T16:34:19.151Z"
   },
   {
    "duration": 30,
    "start_time": "2023-06-20T16:34:19.183Z"
   },
   {
    "duration": 942,
    "start_time": "2023-06-20T16:34:19.215Z"
   },
   {
    "duration": 181,
    "start_time": "2023-06-20T16:34:20.159Z"
   },
   {
    "duration": 17,
    "start_time": "2023-06-20T16:34:20.341Z"
   },
   {
    "duration": 21,
    "start_time": "2023-06-20T16:34:20.371Z"
   },
   {
    "duration": 15,
    "start_time": "2023-06-20T16:34:20.396Z"
   },
   {
    "duration": 16,
    "start_time": "2023-06-20T16:34:20.412Z"
   },
   {
    "duration": 16,
    "start_time": "2023-06-20T16:34:20.430Z"
   },
   {
    "duration": 9,
    "start_time": "2023-06-20T16:34:20.447Z"
   },
   {
    "duration": 13,
    "start_time": "2023-06-20T16:34:20.458Z"
   },
   {
    "duration": 33,
    "start_time": "2023-06-20T16:34:20.477Z"
   },
   {
    "duration": 3,
    "start_time": "2023-06-20T16:34:20.512Z"
   },
   {
    "duration": 11,
    "start_time": "2023-06-20T16:34:20.517Z"
   },
   {
    "duration": 9,
    "start_time": "2023-06-20T16:34:20.530Z"
   },
   {
    "duration": 24,
    "start_time": "2023-06-20T16:34:20.541Z"
   },
   {
    "duration": 2241,
    "start_time": "2023-06-20T16:34:20.567Z"
   },
   {
    "duration": 2209,
    "start_time": "2023-06-20T16:34:26.297Z"
   },
   {
    "duration": 4,
    "start_time": "2023-06-20T16:34:28.508Z"
   },
   {
    "duration": 48,
    "start_time": "2023-06-20T16:34:28.514Z"
   },
   {
    "duration": 14,
    "start_time": "2023-06-20T16:34:28.563Z"
   },
   {
    "duration": 10,
    "start_time": "2023-06-20T16:34:28.580Z"
   },
   {
    "duration": 15,
    "start_time": "2023-06-20T16:34:28.591Z"
   },
   {
    "duration": 22,
    "start_time": "2023-06-20T16:34:28.607Z"
   },
   {
    "duration": 13,
    "start_time": "2023-06-20T16:34:28.630Z"
   },
   {
    "duration": 37,
    "start_time": "2023-06-20T16:34:28.645Z"
   },
   {
    "duration": 779,
    "start_time": "2023-06-20T16:34:28.684Z"
   },
   {
    "duration": 179,
    "start_time": "2023-06-20T16:34:29.465Z"
   },
   {
    "duration": 35,
    "start_time": "2023-06-20T16:34:29.646Z"
   },
   {
    "duration": 14,
    "start_time": "2023-06-20T16:34:29.683Z"
   },
   {
    "duration": 7,
    "start_time": "2023-06-20T16:34:29.700Z"
   },
   {
    "duration": 14,
    "start_time": "2023-06-20T16:34:29.709Z"
   },
   {
    "duration": 5,
    "start_time": "2023-06-20T16:34:29.725Z"
   },
   {
    "duration": 5,
    "start_time": "2023-06-20T16:34:29.732Z"
   },
   {
    "duration": 9,
    "start_time": "2023-06-20T16:34:29.739Z"
   },
   {
    "duration": 49,
    "start_time": "2023-06-20T16:34:29.750Z"
   },
   {
    "duration": 3,
    "start_time": "2023-06-20T16:34:29.801Z"
   },
   {
    "duration": 5,
    "start_time": "2023-06-20T16:34:29.806Z"
   },
   {
    "duration": 36,
    "start_time": "2023-06-20T16:34:29.813Z"
   },
   {
    "duration": 4,
    "start_time": "2023-06-20T16:34:29.851Z"
   },
   {
    "duration": 2825,
    "start_time": "2023-06-20T16:34:29.857Z"
   },
   {
    "duration": 966,
    "start_time": "2023-06-20T16:34:37.341Z"
   },
   {
    "duration": 4,
    "start_time": "2023-06-20T16:37:19.624Z"
   },
   {
    "duration": 41,
    "start_time": "2023-06-20T16:37:34.211Z"
   },
   {
    "duration": 674,
    "start_time": "2023-06-20T16:38:03.262Z"
   },
   {
    "duration": 803,
    "start_time": "2023-06-20T16:38:21.216Z"
   },
   {
    "duration": 143,
    "start_time": "2023-06-20T16:40:59.021Z"
   },
   {
    "duration": 7,
    "start_time": "2023-06-20T16:41:49.787Z"
   },
   {
    "duration": 145,
    "start_time": "2023-06-20T16:41:51.235Z"
   },
   {
    "duration": 139,
    "start_time": "2023-06-20T16:42:07.393Z"
   },
   {
    "duration": 5,
    "start_time": "2023-06-20T16:42:29.447Z"
   },
   {
    "duration": 677,
    "start_time": "2023-06-20T16:42:31.297Z"
   },
   {
    "duration": 6,
    "start_time": "2023-06-20T16:42:37.996Z"
   },
   {
    "duration": 629,
    "start_time": "2023-06-20T16:42:39.557Z"
   },
   {
    "duration": 5,
    "start_time": "2023-06-20T16:42:59.601Z"
   },
   {
    "duration": 768,
    "start_time": "2023-06-20T16:43:01.712Z"
   },
   {
    "duration": 759,
    "start_time": "2023-06-20T16:46:13.898Z"
   },
   {
    "duration": 2268,
    "start_time": "2023-06-20T16:47:01.159Z"
   },
   {
    "duration": 4,
    "start_time": "2023-06-20T16:47:03.429Z"
   },
   {
    "duration": 52,
    "start_time": "2023-06-20T16:47:03.434Z"
   },
   {
    "duration": 6,
    "start_time": "2023-06-20T16:47:03.490Z"
   },
   {
    "duration": 6,
    "start_time": "2023-06-20T16:47:03.498Z"
   },
   {
    "duration": 3,
    "start_time": "2023-06-20T16:47:03.506Z"
   },
   {
    "duration": 5,
    "start_time": "2023-06-20T16:47:03.511Z"
   },
   {
    "duration": 16,
    "start_time": "2023-06-20T16:47:03.517Z"
   },
   {
    "duration": 46,
    "start_time": "2023-06-20T16:47:03.534Z"
   },
   {
    "duration": 838,
    "start_time": "2023-06-20T16:47:03.588Z"
   },
   {
    "duration": 182,
    "start_time": "2023-06-20T16:47:04.427Z"
   },
   {
    "duration": 17,
    "start_time": "2023-06-20T16:47:04.611Z"
   },
   {
    "duration": 14,
    "start_time": "2023-06-20T16:47:04.630Z"
   },
   {
    "duration": 7,
    "start_time": "2023-06-20T16:47:04.646Z"
   },
   {
    "duration": 18,
    "start_time": "2023-06-20T16:47:04.676Z"
   },
   {
    "duration": 4,
    "start_time": "2023-06-20T16:47:04.699Z"
   },
   {
    "duration": 5,
    "start_time": "2023-06-20T16:47:04.705Z"
   },
   {
    "duration": 12,
    "start_time": "2023-06-20T16:47:04.711Z"
   },
   {
    "duration": 171,
    "start_time": "2023-06-20T16:47:04.725Z"
   },
   {
    "duration": 5,
    "start_time": "2023-06-20T16:47:04.902Z"
   },
   {
    "duration": 3,
    "start_time": "2023-06-20T16:47:04.909Z"
   },
   {
    "duration": 5,
    "start_time": "2023-06-20T16:47:04.914Z"
   },
   {
    "duration": 4,
    "start_time": "2023-06-20T16:47:04.920Z"
   },
   {
    "duration": 1395,
    "start_time": "2023-06-20T16:47:04.925Z"
   },
   {
    "duration": 12,
    "start_time": "2023-06-20T16:47:06.368Z"
   },
   {
    "duration": 647,
    "start_time": "2023-06-20T16:47:06.382Z"
   },
   {
    "duration": 706,
    "start_time": "2023-06-20T16:47:07.030Z"
   },
   {
    "duration": 4,
    "start_time": "2023-06-20T16:47:07.740Z"
   },
   {
    "duration": 169,
    "start_time": "2023-06-20T16:47:07.746Z"
   },
   {
    "duration": 6,
    "start_time": "2023-06-20T16:49:23.685Z"
   },
   {
    "duration": 2138,
    "start_time": "2023-06-20T16:49:39.674Z"
   },
   {
    "duration": 4,
    "start_time": "2023-06-20T16:49:41.814Z"
   },
   {
    "duration": 47,
    "start_time": "2023-06-20T16:49:41.820Z"
   },
   {
    "duration": 23,
    "start_time": "2023-06-20T16:49:41.868Z"
   },
   {
    "duration": 9,
    "start_time": "2023-06-20T16:49:41.897Z"
   },
   {
    "duration": 7,
    "start_time": "2023-06-20T16:49:41.907Z"
   },
   {
    "duration": 7,
    "start_time": "2023-06-20T16:49:41.915Z"
   },
   {
    "duration": 14,
    "start_time": "2023-06-20T16:49:41.924Z"
   },
   {
    "duration": 16,
    "start_time": "2023-06-20T16:49:41.939Z"
   },
   {
    "duration": 777,
    "start_time": "2023-06-20T16:49:41.957Z"
   },
   {
    "duration": 332,
    "start_time": "2023-06-20T16:49:42.735Z"
   },
   {
    "duration": 24,
    "start_time": "2023-06-20T16:49:43.073Z"
   },
   {
    "duration": 12,
    "start_time": "2023-06-20T16:49:43.099Z"
   },
   {
    "duration": 6,
    "start_time": "2023-06-20T16:49:43.112Z"
   },
   {
    "duration": 25,
    "start_time": "2023-06-20T16:49:43.120Z"
   },
   {
    "duration": 8,
    "start_time": "2023-06-20T16:49:43.147Z"
   },
   {
    "duration": 18,
    "start_time": "2023-06-20T16:49:43.156Z"
   },
   {
    "duration": 23,
    "start_time": "2023-06-20T16:49:43.179Z"
   },
   {
    "duration": 36,
    "start_time": "2023-06-20T16:49:43.204Z"
   },
   {
    "duration": 4,
    "start_time": "2023-06-20T16:49:43.242Z"
   },
   {
    "duration": 5,
    "start_time": "2023-06-20T16:49:43.248Z"
   },
   {
    "duration": 16,
    "start_time": "2023-06-20T16:49:43.255Z"
   },
   {
    "duration": 3,
    "start_time": "2023-06-20T16:49:43.276Z"
   },
   {
    "duration": 1421,
    "start_time": "2023-06-20T16:49:43.280Z"
   },
   {
    "duration": 5,
    "start_time": "2023-06-20T16:49:44.705Z"
   },
   {
    "duration": 5,
    "start_time": "2023-06-20T16:49:44.712Z"
   },
   {
    "duration": 696,
    "start_time": "2023-06-20T16:49:44.718Z"
   },
   {
    "duration": 700,
    "start_time": "2023-06-20T16:49:45.417Z"
   },
   {
    "duration": 4,
    "start_time": "2023-06-20T16:49:46.119Z"
   },
   {
    "duration": 161,
    "start_time": "2023-06-20T16:49:46.124Z"
   },
   {
    "duration": 719,
    "start_time": "2023-06-20T16:53:52.589Z"
   },
   {
    "duration": 2173,
    "start_time": "2023-06-20T16:54:00.889Z"
   },
   {
    "duration": 6,
    "start_time": "2023-06-20T16:54:03.064Z"
   },
   {
    "duration": 62,
    "start_time": "2023-06-20T16:54:03.071Z"
   },
   {
    "duration": 6,
    "start_time": "2023-06-20T16:54:03.134Z"
   },
   {
    "duration": 20,
    "start_time": "2023-06-20T16:54:03.141Z"
   },
   {
    "duration": 30,
    "start_time": "2023-06-20T16:54:03.163Z"
   },
   {
    "duration": 17,
    "start_time": "2023-06-20T16:54:03.195Z"
   },
   {
    "duration": 11,
    "start_time": "2023-06-20T16:54:03.214Z"
   },
   {
    "duration": 25,
    "start_time": "2023-06-20T16:54:03.226Z"
   },
   {
    "duration": 792,
    "start_time": "2023-06-20T16:54:03.252Z"
   },
   {
    "duration": 330,
    "start_time": "2023-06-20T16:54:04.046Z"
   },
   {
    "duration": 24,
    "start_time": "2023-06-20T16:54:04.377Z"
   },
   {
    "duration": 22,
    "start_time": "2023-06-20T16:54:04.402Z"
   },
   {
    "duration": 12,
    "start_time": "2023-06-20T16:54:04.426Z"
   },
   {
    "duration": 10,
    "start_time": "2023-06-20T16:54:04.439Z"
   },
   {
    "duration": 5,
    "start_time": "2023-06-20T16:54:04.451Z"
   },
   {
    "duration": 13,
    "start_time": "2023-06-20T16:54:04.458Z"
   },
   {
    "duration": 16,
    "start_time": "2023-06-20T16:54:04.481Z"
   },
   {
    "duration": 25,
    "start_time": "2023-06-20T16:54:04.498Z"
   },
   {
    "duration": 4,
    "start_time": "2023-06-20T16:54:04.525Z"
   },
   {
    "duration": 8,
    "start_time": "2023-06-20T16:54:04.530Z"
   },
   {
    "duration": 15,
    "start_time": "2023-06-20T16:54:04.540Z"
   },
   {
    "duration": 9,
    "start_time": "2023-06-20T16:54:04.556Z"
   },
   {
    "duration": 939,
    "start_time": "2023-06-20T16:54:04.566Z"
   },
   {
    "duration": 80,
    "start_time": "2023-06-20T16:54:05.507Z"
   },
   {
    "duration": 6,
    "start_time": "2023-06-20T16:54:05.588Z"
   },
   {
    "duration": 619,
    "start_time": "2023-06-20T16:54:05.598Z"
   },
   {
    "duration": 664,
    "start_time": "2023-06-20T16:54:06.219Z"
   },
   {
    "duration": 4,
    "start_time": "2023-06-20T16:54:06.884Z"
   },
   {
    "duration": 134,
    "start_time": "2023-06-20T16:54:06.895Z"
   },
   {
    "duration": 6,
    "start_time": "2023-06-20T16:54:23.198Z"
   },
   {
    "duration": 5,
    "start_time": "2023-06-20T16:54:25.152Z"
   },
   {
    "duration": 578,
    "start_time": "2023-06-20T16:55:49.306Z"
   },
   {
    "duration": 4,
    "start_time": "2023-06-20T16:55:52.641Z"
   },
   {
    "duration": 2112,
    "start_time": "2023-06-20T16:55:55.539Z"
   },
   {
    "duration": 3,
    "start_time": "2023-06-20T16:55:57.653Z"
   },
   {
    "duration": 69,
    "start_time": "2023-06-20T16:55:57.658Z"
   },
   {
    "duration": 5,
    "start_time": "2023-06-20T16:55:57.729Z"
   },
   {
    "duration": 6,
    "start_time": "2023-06-20T16:55:57.736Z"
   },
   {
    "duration": 13,
    "start_time": "2023-06-20T16:55:57.744Z"
   },
   {
    "duration": 20,
    "start_time": "2023-06-20T16:55:57.759Z"
   },
   {
    "duration": 16,
    "start_time": "2023-06-20T16:55:57.780Z"
   },
   {
    "duration": 20,
    "start_time": "2023-06-20T16:55:57.798Z"
   },
   {
    "duration": 777,
    "start_time": "2023-06-20T16:55:57.820Z"
   },
   {
    "duration": 297,
    "start_time": "2023-06-20T16:55:58.599Z"
   },
   {
    "duration": 20,
    "start_time": "2023-06-20T16:55:58.898Z"
   },
   {
    "duration": 17,
    "start_time": "2023-06-20T16:55:58.920Z"
   },
   {
    "duration": 9,
    "start_time": "2023-06-20T16:55:58.940Z"
   },
   {
    "duration": 11,
    "start_time": "2023-06-20T16:55:58.950Z"
   },
   {
    "duration": 21,
    "start_time": "2023-06-20T16:55:58.969Z"
   },
   {
    "duration": 4,
    "start_time": "2023-06-20T16:55:58.994Z"
   },
   {
    "duration": 16,
    "start_time": "2023-06-20T16:55:59.000Z"
   },
   {
    "duration": 25,
    "start_time": "2023-06-20T16:55:59.018Z"
   },
   {
    "duration": 10,
    "start_time": "2023-06-20T16:55:59.044Z"
   },
   {
    "duration": 5,
    "start_time": "2023-06-20T16:55:59.056Z"
   },
   {
    "duration": 10,
    "start_time": "2023-06-20T16:55:59.062Z"
   },
   {
    "duration": 6,
    "start_time": "2023-06-20T16:55:59.075Z"
   },
   {
    "duration": 613,
    "start_time": "2023-06-20T16:55:59.082Z"
   },
   {
    "duration": 7,
    "start_time": "2023-06-20T16:55:59.696Z"
   },
   {
    "duration": 5,
    "start_time": "2023-06-20T16:55:59.704Z"
   },
   {
    "duration": 647,
    "start_time": "2023-06-20T16:55:59.711Z"
   },
   {
    "duration": 683,
    "start_time": "2023-06-20T16:56:00.359Z"
   },
   {
    "duration": 4,
    "start_time": "2023-06-20T16:56:01.044Z"
   },
   {
    "duration": 169,
    "start_time": "2023-06-20T16:56:01.049Z"
   },
   {
    "duration": 2190,
    "start_time": "2023-06-20T16:57:59.728Z"
   },
   {
    "duration": 2757,
    "start_time": "2023-06-20T16:58:01.921Z"
   },
   {
    "duration": 46,
    "start_time": "2023-06-20T16:58:04.685Z"
   },
   {
    "duration": 5,
    "start_time": "2023-06-20T16:58:04.733Z"
   },
   {
    "duration": 7,
    "start_time": "2023-06-20T16:58:04.740Z"
   },
   {
    "duration": 4,
    "start_time": "2023-06-20T16:58:04.748Z"
   },
   {
    "duration": 4,
    "start_time": "2023-06-20T16:58:04.754Z"
   },
   {
    "duration": 21,
    "start_time": "2023-06-20T16:58:04.760Z"
   },
   {
    "duration": 18,
    "start_time": "2023-06-20T16:58:04.782Z"
   },
   {
    "duration": 756,
    "start_time": "2023-06-20T16:58:04.803Z"
   },
   {
    "duration": 171,
    "start_time": "2023-06-20T16:58:05.560Z"
   },
   {
    "duration": 17,
    "start_time": "2023-06-20T16:58:05.732Z"
   },
   {
    "duration": 27,
    "start_time": "2023-06-20T16:58:05.751Z"
   },
   {
    "duration": 22,
    "start_time": "2023-06-20T16:58:05.780Z"
   },
   {
    "duration": 12,
    "start_time": "2023-06-20T16:58:05.804Z"
   },
   {
    "duration": 8,
    "start_time": "2023-06-20T16:58:05.817Z"
   },
   {
    "duration": 4,
    "start_time": "2023-06-20T16:58:05.827Z"
   },
   {
    "duration": 10,
    "start_time": "2023-06-20T16:58:05.832Z"
   },
   {
    "duration": 53,
    "start_time": "2023-06-20T16:58:05.843Z"
   },
   {
    "duration": 10,
    "start_time": "2023-06-20T16:58:05.901Z"
   },
   {
    "duration": 27,
    "start_time": "2023-06-20T16:58:05.913Z"
   },
   {
    "duration": 19,
    "start_time": "2023-06-20T16:58:05.942Z"
   },
   {
    "duration": 11,
    "start_time": "2023-06-20T16:58:05.963Z"
   },
   {
    "duration": 625,
    "start_time": "2023-06-20T16:58:05.982Z"
   },
   {
    "duration": 65,
    "start_time": "2023-06-20T16:58:06.609Z"
   },
   {
    "duration": 18,
    "start_time": "2023-06-20T16:58:06.675Z"
   },
   {
    "duration": 750,
    "start_time": "2023-06-20T16:58:06.695Z"
   },
   {
    "duration": 672,
    "start_time": "2023-06-20T16:58:07.448Z"
   },
   {
    "duration": 4,
    "start_time": "2023-06-20T16:58:08.121Z"
   },
   {
    "duration": 311,
    "start_time": "2023-06-20T16:58:08.126Z"
   },
   {
    "duration": 2151,
    "start_time": "2023-06-20T16:59:27.458Z"
   },
   {
    "duration": 3,
    "start_time": "2023-06-20T16:59:29.612Z"
   },
   {
    "duration": 57,
    "start_time": "2023-06-20T16:59:29.617Z"
   },
   {
    "duration": 7,
    "start_time": "2023-06-20T16:59:29.682Z"
   },
   {
    "duration": 13,
    "start_time": "2023-06-20T16:59:29.692Z"
   },
   {
    "duration": 6,
    "start_time": "2023-06-20T16:59:29.707Z"
   },
   {
    "duration": 4,
    "start_time": "2023-06-20T16:59:29.715Z"
   },
   {
    "duration": 21,
    "start_time": "2023-06-20T16:59:29.720Z"
   },
   {
    "duration": 12,
    "start_time": "2023-06-20T16:59:29.743Z"
   },
   {
    "duration": 807,
    "start_time": "2023-06-20T16:59:29.756Z"
   },
   {
    "duration": 223,
    "start_time": "2023-06-20T16:59:30.567Z"
   },
   {
    "duration": 19,
    "start_time": "2023-06-20T16:59:30.795Z"
   },
   {
    "duration": 48,
    "start_time": "2023-06-20T16:59:30.816Z"
   },
   {
    "duration": 36,
    "start_time": "2023-06-20T16:59:30.867Z"
   },
   {
    "duration": 33,
    "start_time": "2023-06-20T16:59:30.905Z"
   },
   {
    "duration": 60,
    "start_time": "2023-06-20T16:59:30.939Z"
   },
   {
    "duration": 40,
    "start_time": "2023-06-20T16:59:31.001Z"
   },
   {
    "duration": 74,
    "start_time": "2023-06-20T16:59:31.043Z"
   },
   {
    "duration": 85,
    "start_time": "2023-06-20T16:59:31.118Z"
   },
   {
    "duration": 8,
    "start_time": "2023-06-20T16:59:31.204Z"
   },
   {
    "duration": 46,
    "start_time": "2023-06-20T16:59:31.213Z"
   },
   {
    "duration": 44,
    "start_time": "2023-06-20T16:59:31.261Z"
   },
   {
    "duration": 73,
    "start_time": "2023-06-20T16:59:31.306Z"
   },
   {
    "duration": 1328,
    "start_time": "2023-06-20T16:59:31.382Z"
   },
   {
    "duration": 14,
    "start_time": "2023-06-20T16:59:32.768Z"
   },
   {
    "duration": 7,
    "start_time": "2023-06-20T16:59:32.789Z"
   },
   {
    "duration": 619,
    "start_time": "2023-06-20T16:59:32.800Z"
   },
   {
    "duration": 995,
    "start_time": "2023-06-20T16:59:33.421Z"
   },
   {
    "duration": 4,
    "start_time": "2023-06-20T16:59:34.417Z"
   },
   {
    "duration": 171,
    "start_time": "2023-06-20T16:59:34.422Z"
   },
   {
    "duration": 2408,
    "start_time": "2023-06-20T17:51:27.615Z"
   },
   {
    "duration": 2801,
    "start_time": "2023-06-20T17:51:30.025Z"
   },
   {
    "duration": 56,
    "start_time": "2023-06-20T17:51:32.829Z"
   },
   {
    "duration": 12,
    "start_time": "2023-06-20T17:51:32.887Z"
   },
   {
    "duration": 8,
    "start_time": "2023-06-20T17:51:32.901Z"
   },
   {
    "duration": 4,
    "start_time": "2023-06-20T17:51:32.911Z"
   },
   {
    "duration": 4,
    "start_time": "2023-06-20T17:51:32.917Z"
   },
   {
    "duration": 16,
    "start_time": "2023-06-20T17:51:32.923Z"
   },
   {
    "duration": 40,
    "start_time": "2023-06-20T17:51:32.940Z"
   },
   {
    "duration": 880,
    "start_time": "2023-06-20T17:51:32.985Z"
   },
   {
    "duration": 255,
    "start_time": "2023-06-20T17:51:33.867Z"
   },
   {
    "duration": 61,
    "start_time": "2023-06-20T17:51:34.124Z"
   },
   {
    "duration": 25,
    "start_time": "2023-06-20T17:51:34.190Z"
   },
   {
    "duration": 7,
    "start_time": "2023-06-20T17:51:34.218Z"
   },
   {
    "duration": 13,
    "start_time": "2023-06-20T17:51:34.226Z"
   },
   {
    "duration": 15,
    "start_time": "2023-06-20T17:51:34.241Z"
   },
   {
    "duration": 27,
    "start_time": "2023-06-20T17:51:34.257Z"
   },
   {
    "duration": 16,
    "start_time": "2023-06-20T17:51:34.288Z"
   },
   {
    "duration": 31,
    "start_time": "2023-06-20T17:51:34.306Z"
   },
   {
    "duration": 5,
    "start_time": "2023-06-20T17:51:34.339Z"
   },
   {
    "duration": 5,
    "start_time": "2023-06-20T17:51:34.346Z"
   },
   {
    "duration": 26,
    "start_time": "2023-06-20T17:51:34.369Z"
   },
   {
    "duration": 3,
    "start_time": "2023-06-20T17:51:34.399Z"
   },
   {
    "duration": 2166,
    "start_time": "2023-06-20T17:51:34.409Z"
   },
   {
    "duration": 11,
    "start_time": "2023-06-20T17:51:36.580Z"
   },
   {
    "duration": 9,
    "start_time": "2023-06-20T17:51:36.602Z"
   },
   {
    "duration": 844,
    "start_time": "2023-06-20T17:51:36.613Z"
   },
   {
    "duration": 716,
    "start_time": "2023-06-20T17:51:37.461Z"
   },
   {
    "duration": 11,
    "start_time": "2023-06-20T17:51:38.190Z"
   },
   {
    "duration": 344,
    "start_time": "2023-06-20T17:51:38.202Z"
   },
   {
    "duration": 19,
    "start_time": "2023-06-20T18:09:05.294Z"
   },
   {
    "duration": 682,
    "start_time": "2023-06-20T18:09:16.501Z"
   },
   {
    "duration": 7,
    "start_time": "2023-06-20T18:09:24.302Z"
   },
   {
    "duration": 13,
    "start_time": "2023-06-20T18:10:02.424Z"
   },
   {
    "duration": 1384,
    "start_time": "2023-06-20T18:12:18.194Z"
   },
   {
    "duration": 2219,
    "start_time": "2023-06-20T18:12:20.403Z"
   },
   {
    "duration": 4,
    "start_time": "2023-06-20T18:12:22.624Z"
   },
   {
    "duration": 75,
    "start_time": "2023-06-20T18:12:22.629Z"
   },
   {
    "duration": 7,
    "start_time": "2023-06-20T18:12:22.707Z"
   },
   {
    "duration": 9,
    "start_time": "2023-06-20T18:12:22.716Z"
   },
   {
    "duration": 8,
    "start_time": "2023-06-20T18:12:22.727Z"
   },
   {
    "duration": 10,
    "start_time": "2023-06-20T18:12:22.737Z"
   },
   {
    "duration": 53,
    "start_time": "2023-06-20T18:12:22.749Z"
   },
   {
    "duration": 29,
    "start_time": "2023-06-20T18:12:22.804Z"
   },
   {
    "duration": 895,
    "start_time": "2023-06-20T18:12:22.836Z"
   },
   {
    "duration": 184,
    "start_time": "2023-06-20T18:12:23.733Z"
   },
   {
    "duration": 21,
    "start_time": "2023-06-20T18:12:23.918Z"
   },
   {
    "duration": 41,
    "start_time": "2023-06-20T18:12:23.941Z"
   },
   {
    "duration": 15,
    "start_time": "2023-06-20T18:12:23.992Z"
   },
   {
    "duration": 18,
    "start_time": "2023-06-20T18:12:24.009Z"
   },
   {
    "duration": 9,
    "start_time": "2023-06-20T18:12:24.029Z"
   },
   {
    "duration": 9,
    "start_time": "2023-06-20T18:12:24.040Z"
   },
   {
    "duration": 24,
    "start_time": "2023-06-20T18:12:24.051Z"
   },
   {
    "duration": 41,
    "start_time": "2023-06-20T18:12:24.077Z"
   },
   {
    "duration": 4,
    "start_time": "2023-06-20T18:12:24.120Z"
   },
   {
    "duration": 4,
    "start_time": "2023-06-20T18:12:24.126Z"
   },
   {
    "duration": 212,
    "start_time": "2023-06-20T18:12:24.132Z"
   },
   {
    "duration": 3,
    "start_time": "2023-06-20T18:12:24.346Z"
   },
   {
    "duration": 1545,
    "start_time": "2023-06-20T18:12:24.351Z"
   },
   {
    "duration": 5,
    "start_time": "2023-06-20T18:12:25.898Z"
   },
   {
    "duration": 7,
    "start_time": "2023-06-20T18:12:25.905Z"
   },
   {
    "duration": 695,
    "start_time": "2023-06-20T18:12:25.914Z"
   },
   {
    "duration": 725,
    "start_time": "2023-06-20T18:12:26.611Z"
   },
   {
    "duration": 11,
    "start_time": "2023-06-20T18:12:27.337Z"
   },
   {
    "duration": 19,
    "start_time": "2023-06-20T18:12:27.350Z"
   },
   {
    "duration": 154,
    "start_time": "2023-06-20T18:12:27.377Z"
   },
   {
    "duration": 2273,
    "start_time": "2023-06-20T18:13:40.722Z"
   },
   {
    "duration": 4,
    "start_time": "2023-06-20T18:13:42.999Z"
   },
   {
    "duration": 50,
    "start_time": "2023-06-20T18:13:43.004Z"
   },
   {
    "duration": 5,
    "start_time": "2023-06-20T18:13:43.056Z"
   },
   {
    "duration": 12,
    "start_time": "2023-06-20T18:13:43.062Z"
   },
   {
    "duration": 14,
    "start_time": "2023-06-20T18:13:43.082Z"
   },
   {
    "duration": 6,
    "start_time": "2023-06-20T18:13:43.097Z"
   },
   {
    "duration": 12,
    "start_time": "2023-06-20T18:13:43.104Z"
   },
   {
    "duration": 13,
    "start_time": "2023-06-20T18:13:43.117Z"
   },
   {
    "duration": 803,
    "start_time": "2023-06-20T18:13:43.132Z"
   },
   {
    "duration": 238,
    "start_time": "2023-06-20T18:13:43.936Z"
   },
   {
    "duration": 31,
    "start_time": "2023-06-20T18:13:44.175Z"
   },
   {
    "duration": 20,
    "start_time": "2023-06-20T18:13:44.208Z"
   },
   {
    "duration": 9,
    "start_time": "2023-06-20T18:13:44.230Z"
   },
   {
    "duration": 58,
    "start_time": "2023-06-20T18:13:44.241Z"
   },
   {
    "duration": 11,
    "start_time": "2023-06-20T18:13:44.302Z"
   },
   {
    "duration": 13,
    "start_time": "2023-06-20T18:13:44.315Z"
   },
   {
    "duration": 15,
    "start_time": "2023-06-20T18:13:44.329Z"
   },
   {
    "duration": 35,
    "start_time": "2023-06-20T18:13:44.346Z"
   },
   {
    "duration": 6,
    "start_time": "2023-06-20T18:13:44.384Z"
   },
   {
    "duration": 15,
    "start_time": "2023-06-20T18:13:44.392Z"
   },
   {
    "duration": 188,
    "start_time": "2023-06-20T18:13:44.410Z"
   },
   {
    "duration": 3,
    "start_time": "2023-06-20T18:13:44.600Z"
   },
   {
    "duration": 1206,
    "start_time": "2023-06-20T18:13:44.604Z"
   },
   {
    "duration": 5,
    "start_time": "2023-06-20T18:13:45.812Z"
   },
   {
    "duration": 53,
    "start_time": "2023-06-20T18:13:45.819Z"
   },
   {
    "duration": 656,
    "start_time": "2023-06-20T18:13:45.882Z"
   },
   {
    "duration": 740,
    "start_time": "2023-06-20T18:13:46.541Z"
   },
   {
    "duration": 16,
    "start_time": "2023-06-20T18:13:47.293Z"
   },
   {
    "duration": 5,
    "start_time": "2023-06-20T18:13:47.311Z"
   },
   {
    "duration": 151,
    "start_time": "2023-06-20T18:13:47.318Z"
   },
   {
    "duration": 2295,
    "start_time": "2023-06-20T18:14:11.339Z"
   },
   {
    "duration": 3,
    "start_time": "2023-06-20T18:14:13.637Z"
   },
   {
    "duration": 67,
    "start_time": "2023-06-20T18:14:13.641Z"
   },
   {
    "duration": 5,
    "start_time": "2023-06-20T18:14:13.710Z"
   },
   {
    "duration": 6,
    "start_time": "2023-06-20T18:14:13.717Z"
   },
   {
    "duration": 5,
    "start_time": "2023-06-20T18:14:13.724Z"
   },
   {
    "duration": 7,
    "start_time": "2023-06-20T18:14:13.730Z"
   },
   {
    "duration": 12,
    "start_time": "2023-06-20T18:14:13.738Z"
   },
   {
    "duration": 15,
    "start_time": "2023-06-20T18:14:13.751Z"
   },
   {
    "duration": 894,
    "start_time": "2023-06-20T18:14:13.767Z"
   },
   {
    "duration": 188,
    "start_time": "2023-06-20T18:14:14.662Z"
   },
   {
    "duration": 32,
    "start_time": "2023-06-20T18:14:14.852Z"
   },
   {
    "duration": 18,
    "start_time": "2023-06-20T18:14:14.888Z"
   },
   {
    "duration": 14,
    "start_time": "2023-06-20T18:14:14.909Z"
   },
   {
    "duration": 31,
    "start_time": "2023-06-20T18:14:14.925Z"
   },
   {
    "duration": 133,
    "start_time": "2023-06-20T18:14:14.957Z"
   },
   {
    "duration": 30,
    "start_time": "2023-06-20T18:14:15.093Z"
   },
   {
    "duration": 32,
    "start_time": "2023-06-20T18:14:15.125Z"
   },
   {
    "duration": 236,
    "start_time": "2023-06-20T18:14:15.160Z"
   },
   {
    "duration": 14,
    "start_time": "2023-06-20T18:14:15.398Z"
   },
   {
    "duration": 10,
    "start_time": "2023-06-20T18:14:15.414Z"
   },
   {
    "duration": 5,
    "start_time": "2023-06-20T18:14:15.426Z"
   },
   {
    "duration": 4,
    "start_time": "2023-06-20T18:14:15.433Z"
   },
   {
    "duration": 1768,
    "start_time": "2023-06-20T18:14:15.439Z"
   },
   {
    "duration": 7,
    "start_time": "2023-06-20T18:14:17.275Z"
   },
   {
    "duration": 13,
    "start_time": "2023-06-20T18:14:17.285Z"
   },
   {
    "duration": 349,
    "start_time": "2023-06-20T18:14:17.301Z"
   },
   {
    "duration": 0,
    "start_time": "2023-06-20T18:14:17.652Z"
   },
   {
    "duration": 0,
    "start_time": "2023-06-20T18:14:17.653Z"
   },
   {
    "duration": 0,
    "start_time": "2023-06-20T18:14:17.655Z"
   },
   {
    "duration": 0,
    "start_time": "2023-06-20T18:14:17.656Z"
   },
   {
    "duration": 5,
    "start_time": "2023-06-20T18:15:21.291Z"
   },
   {
    "duration": 289,
    "start_time": "2023-06-20T18:15:22.719Z"
   },
   {
    "duration": 749,
    "start_time": "2023-06-20T18:15:56.909Z"
   },
   {
    "duration": 728,
    "start_time": "2023-06-20T18:16:07.996Z"
   },
   {
    "duration": 2398,
    "start_time": "2023-06-20T18:16:27.730Z"
   },
   {
    "duration": 3,
    "start_time": "2023-06-20T18:16:30.131Z"
   },
   {
    "duration": 191,
    "start_time": "2023-06-20T18:16:30.136Z"
   },
   {
    "duration": 7,
    "start_time": "2023-06-20T18:16:30.329Z"
   },
   {
    "duration": 42,
    "start_time": "2023-06-20T18:16:30.338Z"
   },
   {
    "duration": 24,
    "start_time": "2023-06-20T18:16:30.392Z"
   },
   {
    "duration": 25,
    "start_time": "2023-06-20T18:16:30.418Z"
   },
   {
    "duration": 73,
    "start_time": "2023-06-20T18:16:30.445Z"
   },
   {
    "duration": 46,
    "start_time": "2023-06-20T18:16:30.520Z"
   },
   {
    "duration": 1034,
    "start_time": "2023-06-20T18:16:30.567Z"
   },
   {
    "duration": 402,
    "start_time": "2023-06-20T18:16:31.603Z"
   },
   {
    "duration": 20,
    "start_time": "2023-06-20T18:16:32.007Z"
   },
   {
    "duration": 22,
    "start_time": "2023-06-20T18:16:32.029Z"
   },
   {
    "duration": 27,
    "start_time": "2023-06-20T18:16:32.053Z"
   },
   {
    "duration": 18,
    "start_time": "2023-06-20T18:16:32.081Z"
   },
   {
    "duration": 16,
    "start_time": "2023-06-20T18:16:32.101Z"
   },
   {
    "duration": 30,
    "start_time": "2023-06-20T18:16:32.118Z"
   },
   {
    "duration": 42,
    "start_time": "2023-06-20T18:16:32.150Z"
   },
   {
    "duration": 51,
    "start_time": "2023-06-20T18:16:32.194Z"
   },
   {
    "duration": 12,
    "start_time": "2023-06-20T18:16:32.247Z"
   },
   {
    "duration": 30,
    "start_time": "2023-06-20T18:16:32.260Z"
   },
   {
    "duration": 40,
    "start_time": "2023-06-20T18:16:32.292Z"
   },
   {
    "duration": 6,
    "start_time": "2023-06-20T18:16:32.333Z"
   },
   {
    "duration": 3768,
    "start_time": "2023-06-20T18:16:32.340Z"
   },
   {
    "duration": 72,
    "start_time": "2023-06-20T18:16:36.109Z"
   },
   {
    "duration": 6,
    "start_time": "2023-06-20T18:16:36.183Z"
   },
   {
    "duration": 253,
    "start_time": "2023-06-20T18:16:36.195Z"
   },
   {
    "duration": 0,
    "start_time": "2023-06-20T18:16:36.449Z"
   },
   {
    "duration": 0,
    "start_time": "2023-06-20T18:16:36.451Z"
   },
   {
    "duration": 0,
    "start_time": "2023-06-20T18:16:36.452Z"
   },
   {
    "duration": 0,
    "start_time": "2023-06-20T18:16:36.453Z"
   },
   {
    "duration": 771,
    "start_time": "2023-06-20T18:16:47.519Z"
   },
   {
    "duration": 13,
    "start_time": "2023-06-20T18:17:13.516Z"
   },
   {
    "duration": 4,
    "start_time": "2023-06-20T18:17:19.598Z"
   },
   {
    "duration": 2337,
    "start_time": "2023-06-20T18:17:34.696Z"
   },
   {
    "duration": 3,
    "start_time": "2023-06-20T18:17:37.036Z"
   },
   {
    "duration": 66,
    "start_time": "2023-06-20T18:17:37.041Z"
   },
   {
    "duration": 17,
    "start_time": "2023-06-20T18:17:37.109Z"
   },
   {
    "duration": 9,
    "start_time": "2023-06-20T18:17:37.129Z"
   },
   {
    "duration": 5,
    "start_time": "2023-06-20T18:17:37.140Z"
   },
   {
    "duration": 4,
    "start_time": "2023-06-20T18:17:37.147Z"
   },
   {
    "duration": 19,
    "start_time": "2023-06-20T18:17:37.152Z"
   },
   {
    "duration": 27,
    "start_time": "2023-06-20T18:17:37.173Z"
   },
   {
    "duration": 794,
    "start_time": "2023-06-20T18:17:37.203Z"
   },
   {
    "duration": 183,
    "start_time": "2023-06-20T18:17:37.999Z"
   },
   {
    "duration": 23,
    "start_time": "2023-06-20T18:17:38.183Z"
   },
   {
    "duration": 17,
    "start_time": "2023-06-20T18:17:38.208Z"
   },
   {
    "duration": 7,
    "start_time": "2023-06-20T18:17:38.227Z"
   },
   {
    "duration": 34,
    "start_time": "2023-06-20T18:17:38.236Z"
   },
   {
    "duration": 20,
    "start_time": "2023-06-20T18:17:38.277Z"
   },
   {
    "duration": 5,
    "start_time": "2023-06-20T18:17:38.300Z"
   },
   {
    "duration": 14,
    "start_time": "2023-06-20T18:17:38.307Z"
   },
   {
    "duration": 28,
    "start_time": "2023-06-20T18:17:38.323Z"
   },
   {
    "duration": 4,
    "start_time": "2023-06-20T18:17:38.353Z"
   },
   {
    "duration": 6,
    "start_time": "2023-06-20T18:17:38.358Z"
   },
   {
    "duration": 13,
    "start_time": "2023-06-20T18:17:38.370Z"
   },
   {
    "duration": 14,
    "start_time": "2023-06-20T18:17:38.385Z"
   },
   {
    "duration": 3473,
    "start_time": "2023-06-20T18:17:38.401Z"
   },
   {
    "duration": 9,
    "start_time": "2023-06-20T18:17:41.879Z"
   },
   {
    "duration": 6,
    "start_time": "2023-06-20T18:17:41.889Z"
   },
   {
    "duration": 836,
    "start_time": "2023-06-20T18:17:41.896Z"
   },
   {
    "duration": 716,
    "start_time": "2023-06-20T18:17:42.735Z"
   },
   {
    "duration": 24,
    "start_time": "2023-06-20T18:17:43.453Z"
   },
   {
    "duration": 9,
    "start_time": "2023-06-20T18:17:43.479Z"
   },
   {
    "duration": 148,
    "start_time": "2023-06-20T18:17:43.491Z"
   },
   {
    "duration": 4,
    "start_time": "2023-06-20T18:17:49.523Z"
   },
   {
    "duration": 2220,
    "start_time": "2023-06-20T18:17:51.901Z"
   },
   {
    "duration": 4,
    "start_time": "2023-06-20T18:17:54.128Z"
   },
   {
    "duration": 80,
    "start_time": "2023-06-20T18:17:54.134Z"
   },
   {
    "duration": 7,
    "start_time": "2023-06-20T18:17:54.216Z"
   },
   {
    "duration": 7,
    "start_time": "2023-06-20T18:17:54.226Z"
   },
   {
    "duration": 4,
    "start_time": "2023-06-20T18:17:54.235Z"
   },
   {
    "duration": 6,
    "start_time": "2023-06-20T18:17:54.241Z"
   },
   {
    "duration": 22,
    "start_time": "2023-06-20T18:17:54.249Z"
   },
   {
    "duration": 28,
    "start_time": "2023-06-20T18:17:54.273Z"
   },
   {
    "duration": 846,
    "start_time": "2023-06-20T18:17:54.303Z"
   },
   {
    "duration": 189,
    "start_time": "2023-06-20T18:17:55.151Z"
   },
   {
    "duration": 18,
    "start_time": "2023-06-20T18:17:55.342Z"
   },
   {
    "duration": 42,
    "start_time": "2023-06-20T18:17:55.361Z"
   },
   {
    "duration": 14,
    "start_time": "2023-06-20T18:17:55.405Z"
   },
   {
    "duration": 37,
    "start_time": "2023-06-20T18:17:55.421Z"
   },
   {
    "duration": 30,
    "start_time": "2023-06-20T18:17:55.460Z"
   },
   {
    "duration": 11,
    "start_time": "2023-06-20T18:17:55.493Z"
   },
   {
    "duration": 23,
    "start_time": "2023-06-20T18:17:55.505Z"
   },
   {
    "duration": 29,
    "start_time": "2023-06-20T18:17:55.529Z"
   },
   {
    "duration": 28,
    "start_time": "2023-06-20T18:17:55.559Z"
   },
   {
    "duration": 18,
    "start_time": "2023-06-20T18:17:55.590Z"
   },
   {
    "duration": 8,
    "start_time": "2023-06-20T18:17:55.610Z"
   },
   {
    "duration": 22,
    "start_time": "2023-06-20T18:17:55.620Z"
   },
   {
    "duration": 3360,
    "start_time": "2023-06-20T18:17:55.644Z"
   },
   {
    "duration": 5,
    "start_time": "2023-06-20T18:17:59.006Z"
   },
   {
    "duration": 5,
    "start_time": "2023-06-20T18:17:59.013Z"
   },
   {
    "duration": 699,
    "start_time": "2023-06-20T18:17:59.019Z"
   },
   {
    "duration": 974,
    "start_time": "2023-06-20T18:17:59.720Z"
   },
   {
    "duration": 12,
    "start_time": "2023-06-20T18:18:00.697Z"
   },
   {
    "duration": 30,
    "start_time": "2023-06-20T18:18:00.711Z"
   },
   {
    "duration": 177,
    "start_time": "2023-06-20T18:18:00.742Z"
   },
   {
    "duration": 2224,
    "start_time": "2023-06-20T18:20:48.296Z"
   },
   {
    "duration": 3,
    "start_time": "2023-06-20T18:20:50.523Z"
   },
   {
    "duration": 85,
    "start_time": "2023-06-20T18:20:50.528Z"
   },
   {
    "duration": 5,
    "start_time": "2023-06-20T18:20:50.614Z"
   },
   {
    "duration": 12,
    "start_time": "2023-06-20T18:20:50.621Z"
   },
   {
    "duration": 5,
    "start_time": "2023-06-20T18:20:50.634Z"
   },
   {
    "duration": 6,
    "start_time": "2023-06-20T18:20:50.640Z"
   },
   {
    "duration": 33,
    "start_time": "2023-06-20T18:20:50.647Z"
   },
   {
    "duration": 38,
    "start_time": "2023-06-20T18:20:50.682Z"
   },
   {
    "duration": 771,
    "start_time": "2023-06-20T18:20:50.721Z"
   },
   {
    "duration": 167,
    "start_time": "2023-06-20T18:20:51.497Z"
   },
   {
    "duration": 29,
    "start_time": "2023-06-20T18:20:51.668Z"
   },
   {
    "duration": 10,
    "start_time": "2023-06-20T18:20:51.700Z"
   },
   {
    "duration": 7,
    "start_time": "2023-06-20T18:20:51.714Z"
   },
   {
    "duration": 27,
    "start_time": "2023-06-20T18:20:51.722Z"
   },
   {
    "duration": 33,
    "start_time": "2023-06-20T18:20:51.751Z"
   },
   {
    "duration": 17,
    "start_time": "2023-06-20T18:20:51.785Z"
   },
   {
    "duration": 9,
    "start_time": "2023-06-20T18:20:51.805Z"
   },
   {
    "duration": 46,
    "start_time": "2023-06-20T18:20:51.815Z"
   },
   {
    "duration": 28,
    "start_time": "2023-06-20T18:20:51.862Z"
   },
   {
    "duration": 4,
    "start_time": "2023-06-20T18:20:51.892Z"
   },
   {
    "duration": 26,
    "start_time": "2023-06-20T18:20:51.897Z"
   },
   {
    "duration": 14,
    "start_time": "2023-06-20T18:20:51.925Z"
   },
   {
    "duration": 3153,
    "start_time": "2023-06-20T18:20:51.941Z"
   },
   {
    "duration": 5,
    "start_time": "2023-06-20T18:20:55.099Z"
   },
   {
    "duration": 18,
    "start_time": "2023-06-20T18:20:55.105Z"
   },
   {
    "duration": 654,
    "start_time": "2023-06-20T18:20:55.124Z"
   },
   {
    "duration": 944,
    "start_time": "2023-06-20T18:20:55.785Z"
   },
   {
    "duration": 2447,
    "start_time": "2023-06-20T18:21:14.139Z"
   },
   {
    "duration": 8,
    "start_time": "2023-06-20T18:21:16.589Z"
   },
   {
    "duration": 46,
    "start_time": "2023-06-20T18:21:16.599Z"
   },
   {
    "duration": 6,
    "start_time": "2023-06-20T18:21:16.647Z"
   },
   {
    "duration": 8,
    "start_time": "2023-06-20T18:21:16.654Z"
   },
   {
    "duration": 7,
    "start_time": "2023-06-20T18:21:16.663Z"
   },
   {
    "duration": 12,
    "start_time": "2023-06-20T18:21:16.679Z"
   },
   {
    "duration": 12,
    "start_time": "2023-06-20T18:21:16.693Z"
   },
   {
    "duration": 16,
    "start_time": "2023-06-20T18:21:16.707Z"
   },
   {
    "duration": 941,
    "start_time": "2023-06-20T18:21:16.727Z"
   },
   {
    "duration": 211,
    "start_time": "2023-06-20T18:21:17.677Z"
   },
   {
    "duration": 28,
    "start_time": "2023-06-20T18:21:17.890Z"
   },
   {
    "duration": 14,
    "start_time": "2023-06-20T18:21:17.920Z"
   },
   {
    "duration": 7,
    "start_time": "2023-06-20T18:21:17.936Z"
   },
   {
    "duration": 51,
    "start_time": "2023-06-20T18:21:17.944Z"
   },
   {
    "duration": 4,
    "start_time": "2023-06-20T18:21:17.997Z"
   },
   {
    "duration": 10,
    "start_time": "2023-06-20T18:21:18.003Z"
   },
   {
    "duration": 10,
    "start_time": "2023-06-20T18:21:18.015Z"
   },
   {
    "duration": 24,
    "start_time": "2023-06-20T18:21:18.027Z"
   },
   {
    "duration": 24,
    "start_time": "2023-06-20T18:21:18.053Z"
   },
   {
    "duration": 14,
    "start_time": "2023-06-20T18:21:18.079Z"
   },
   {
    "duration": 4,
    "start_time": "2023-06-20T18:21:18.095Z"
   },
   {
    "duration": 3,
    "start_time": "2023-06-20T18:21:18.101Z"
   },
   {
    "duration": 3292,
    "start_time": "2023-06-20T18:21:18.105Z"
   },
   {
    "duration": 5,
    "start_time": "2023-06-20T18:21:21.399Z"
   },
   {
    "duration": 12,
    "start_time": "2023-06-20T18:21:21.406Z"
   },
   {
    "duration": 712,
    "start_time": "2023-06-20T18:21:21.419Z"
   },
   {
    "duration": 901,
    "start_time": "2023-06-20T18:21:22.135Z"
   },
   {
    "duration": 2287,
    "start_time": "2023-06-20T18:29:21.230Z"
   },
   {
    "duration": 4,
    "start_time": "2023-06-20T18:29:23.519Z"
   },
   {
    "duration": 115,
    "start_time": "2023-06-20T18:29:23.524Z"
   },
   {
    "duration": 6,
    "start_time": "2023-06-20T18:29:23.641Z"
   },
   {
    "duration": 12,
    "start_time": "2023-06-20T18:29:23.648Z"
   },
   {
    "duration": 14,
    "start_time": "2023-06-20T18:29:23.662Z"
   },
   {
    "duration": 14,
    "start_time": "2023-06-20T18:29:23.677Z"
   },
   {
    "duration": 17,
    "start_time": "2023-06-20T18:29:23.692Z"
   },
   {
    "duration": 14,
    "start_time": "2023-06-20T18:29:23.711Z"
   },
   {
    "duration": 931,
    "start_time": "2023-06-20T18:29:23.728Z"
   },
   {
    "duration": 180,
    "start_time": "2023-06-20T18:29:24.660Z"
   },
   {
    "duration": 17,
    "start_time": "2023-06-20T18:29:24.842Z"
   },
   {
    "duration": 47,
    "start_time": "2023-06-20T18:29:24.871Z"
   },
   {
    "duration": 21,
    "start_time": "2023-06-20T18:29:24.920Z"
   },
   {
    "duration": 12,
    "start_time": "2023-06-20T18:29:24.943Z"
   },
   {
    "duration": 13,
    "start_time": "2023-06-20T18:29:24.956Z"
   },
   {
    "duration": 5,
    "start_time": "2023-06-20T18:29:24.975Z"
   },
   {
    "duration": 20,
    "start_time": "2023-06-20T18:29:24.981Z"
   },
   {
    "duration": 33,
    "start_time": "2023-06-20T18:29:25.003Z"
   },
   {
    "duration": 15,
    "start_time": "2023-06-20T18:29:25.038Z"
   },
   {
    "duration": 6,
    "start_time": "2023-06-20T18:29:25.055Z"
   },
   {
    "duration": 25,
    "start_time": "2023-06-20T18:29:25.063Z"
   },
   {
    "duration": 12,
    "start_time": "2023-06-20T18:29:25.091Z"
   },
   {
    "duration": 54107,
    "start_time": "2023-06-20T18:29:25.106Z"
   },
   {
    "duration": 67,
    "start_time": "2023-06-20T18:30:19.215Z"
   },
   {
    "duration": 8,
    "start_time": "2023-06-20T18:30:19.292Z"
   },
   {
    "duration": 733,
    "start_time": "2023-06-20T18:30:19.303Z"
   },
   {
    "duration": 995,
    "start_time": "2023-06-20T18:30:20.039Z"
   },
   {
    "duration": 2294,
    "start_time": "2023-06-20T18:31:08.055Z"
   },
   {
    "duration": 4,
    "start_time": "2023-06-20T18:31:10.352Z"
   },
   {
    "duration": 70,
    "start_time": "2023-06-20T18:31:10.357Z"
   },
   {
    "duration": 5,
    "start_time": "2023-06-20T18:31:10.429Z"
   },
   {
    "duration": 15,
    "start_time": "2023-06-20T18:31:10.435Z"
   },
   {
    "duration": 6,
    "start_time": "2023-06-20T18:31:10.452Z"
   },
   {
    "duration": 23,
    "start_time": "2023-06-20T18:31:10.459Z"
   },
   {
    "duration": 15,
    "start_time": "2023-06-20T18:31:10.484Z"
   },
   {
    "duration": 40,
    "start_time": "2023-06-20T18:31:10.500Z"
   },
   {
    "duration": 774,
    "start_time": "2023-06-20T18:31:10.543Z"
   },
   {
    "duration": 189,
    "start_time": "2023-06-20T18:31:11.319Z"
   },
   {
    "duration": 18,
    "start_time": "2023-06-20T18:31:11.510Z"
   },
   {
    "duration": 12,
    "start_time": "2023-06-20T18:31:11.529Z"
   },
   {
    "duration": 11,
    "start_time": "2023-06-20T18:31:11.543Z"
   },
   {
    "duration": 37,
    "start_time": "2023-06-20T18:31:11.555Z"
   },
   {
    "duration": 4,
    "start_time": "2023-06-20T18:31:11.596Z"
   },
   {
    "duration": 12,
    "start_time": "2023-06-20T18:31:11.601Z"
   },
   {
    "duration": 14,
    "start_time": "2023-06-20T18:31:11.614Z"
   },
   {
    "duration": 22,
    "start_time": "2023-06-20T18:31:11.630Z"
   },
   {
    "duration": 3,
    "start_time": "2023-06-20T18:31:11.654Z"
   },
   {
    "duration": 12,
    "start_time": "2023-06-20T18:31:11.659Z"
   },
   {
    "duration": 6,
    "start_time": "2023-06-20T18:31:11.675Z"
   },
   {
    "duration": 9,
    "start_time": "2023-06-20T18:31:11.684Z"
   },
   {
    "duration": 24695,
    "start_time": "2023-06-20T18:31:11.696Z"
   },
   {
    "duration": 8,
    "start_time": "2023-06-20T18:31:36.394Z"
   },
   {
    "duration": 5,
    "start_time": "2023-06-20T18:31:36.403Z"
   },
   {
    "duration": 689,
    "start_time": "2023-06-20T18:31:36.409Z"
   },
   {
    "duration": 861,
    "start_time": "2023-06-20T18:31:37.102Z"
   },
   {
    "duration": 2262,
    "start_time": "2023-06-20T18:31:55.955Z"
   },
   {
    "duration": 4,
    "start_time": "2023-06-20T18:31:58.219Z"
   },
   {
    "duration": 60,
    "start_time": "2023-06-20T18:31:58.225Z"
   },
   {
    "duration": 12,
    "start_time": "2023-06-20T18:31:58.288Z"
   },
   {
    "duration": 7,
    "start_time": "2023-06-20T18:31:58.302Z"
   },
   {
    "duration": 13,
    "start_time": "2023-06-20T18:31:58.311Z"
   },
   {
    "duration": 9,
    "start_time": "2023-06-20T18:31:58.325Z"
   },
   {
    "duration": 19,
    "start_time": "2023-06-20T18:31:58.335Z"
   },
   {
    "duration": 31,
    "start_time": "2023-06-20T18:31:58.355Z"
   },
   {
    "duration": 841,
    "start_time": "2023-06-20T18:31:58.390Z"
   },
   {
    "duration": 195,
    "start_time": "2023-06-20T18:31:59.232Z"
   },
   {
    "duration": 17,
    "start_time": "2023-06-20T18:31:59.429Z"
   },
   {
    "duration": 33,
    "start_time": "2023-06-20T18:31:59.447Z"
   },
   {
    "duration": 11,
    "start_time": "2023-06-20T18:31:59.487Z"
   },
   {
    "duration": 13,
    "start_time": "2023-06-20T18:31:59.499Z"
   },
   {
    "duration": 8,
    "start_time": "2023-06-20T18:31:59.514Z"
   },
   {
    "duration": 10,
    "start_time": "2023-06-20T18:31:59.523Z"
   },
   {
    "duration": 28,
    "start_time": "2023-06-20T18:31:59.534Z"
   },
   {
    "duration": 37,
    "start_time": "2023-06-20T18:31:59.563Z"
   },
   {
    "duration": 3,
    "start_time": "2023-06-20T18:31:59.602Z"
   },
   {
    "duration": 8,
    "start_time": "2023-06-20T18:31:59.606Z"
   },
   {
    "duration": 5,
    "start_time": "2023-06-20T18:31:59.615Z"
   },
   {
    "duration": 6,
    "start_time": "2023-06-20T18:31:59.621Z"
   },
   {
    "duration": 29082,
    "start_time": "2023-06-20T18:31:59.628Z"
   },
   {
    "duration": 5,
    "start_time": "2023-06-20T18:32:28.712Z"
   },
   {
    "duration": 55,
    "start_time": "2023-06-20T18:32:28.719Z"
   },
   {
    "duration": 684,
    "start_time": "2023-06-20T18:32:28.777Z"
   },
   {
    "duration": 958,
    "start_time": "2023-06-20T18:32:29.463Z"
   },
   {
    "duration": 2162,
    "start_time": "2023-06-20T18:32:40.350Z"
   },
   {
    "duration": 2741,
    "start_time": "2023-06-20T18:32:42.514Z"
   },
   {
    "duration": 63,
    "start_time": "2023-06-20T18:32:45.257Z"
   },
   {
    "duration": 5,
    "start_time": "2023-06-20T18:32:45.322Z"
   },
   {
    "duration": 21,
    "start_time": "2023-06-20T18:32:45.329Z"
   },
   {
    "duration": 6,
    "start_time": "2023-06-20T18:32:45.352Z"
   },
   {
    "duration": 13,
    "start_time": "2023-06-20T18:32:45.359Z"
   },
   {
    "duration": 18,
    "start_time": "2023-06-20T18:32:45.374Z"
   },
   {
    "duration": 21,
    "start_time": "2023-06-20T18:32:45.394Z"
   },
   {
    "duration": 860,
    "start_time": "2023-06-20T18:32:45.417Z"
   },
   {
    "duration": 180,
    "start_time": "2023-06-20T18:32:46.283Z"
   },
   {
    "duration": 31,
    "start_time": "2023-06-20T18:32:46.465Z"
   },
   {
    "duration": 14,
    "start_time": "2023-06-20T18:32:46.497Z"
   },
   {
    "duration": 7,
    "start_time": "2023-06-20T18:32:46.514Z"
   },
   {
    "duration": 12,
    "start_time": "2023-06-20T18:32:46.522Z"
   },
   {
    "duration": 37,
    "start_time": "2023-06-20T18:32:46.535Z"
   },
   {
    "duration": 17,
    "start_time": "2023-06-20T18:32:46.575Z"
   },
   {
    "duration": 13,
    "start_time": "2023-06-20T18:32:46.595Z"
   },
   {
    "duration": 25,
    "start_time": "2023-06-20T18:32:46.610Z"
   },
   {
    "duration": 15,
    "start_time": "2023-06-20T18:32:46.637Z"
   },
   {
    "duration": 10,
    "start_time": "2023-06-20T18:32:46.653Z"
   },
   {
    "duration": 31,
    "start_time": "2023-06-20T18:32:46.665Z"
   },
   {
    "duration": 5,
    "start_time": "2023-06-20T18:32:46.697Z"
   },
   {
    "duration": 19591,
    "start_time": "2023-06-20T18:32:46.704Z"
   },
   {
    "duration": 79,
    "start_time": "2023-06-20T18:33:06.296Z"
   },
   {
    "duration": 4,
    "start_time": "2023-06-20T18:33:06.381Z"
   },
   {
    "duration": 733,
    "start_time": "2023-06-20T18:33:06.386Z"
   },
   {
    "duration": 642,
    "start_time": "2023-06-20T18:33:07.120Z"
   },
   {
    "duration": 2091,
    "start_time": "2023-06-20T18:33:35.849Z"
   },
   {
    "duration": 3,
    "start_time": "2023-06-20T18:33:37.943Z"
   },
   {
    "duration": 51,
    "start_time": "2023-06-20T18:33:37.948Z"
   },
   {
    "duration": 6,
    "start_time": "2023-06-20T18:33:38.001Z"
   },
   {
    "duration": 6,
    "start_time": "2023-06-20T18:33:38.008Z"
   },
   {
    "duration": 7,
    "start_time": "2023-06-20T18:33:38.015Z"
   },
   {
    "duration": 6,
    "start_time": "2023-06-20T18:33:38.024Z"
   },
   {
    "duration": 13,
    "start_time": "2023-06-20T18:33:38.031Z"
   },
   {
    "duration": 33,
    "start_time": "2023-06-20T18:33:38.046Z"
   },
   {
    "duration": 738,
    "start_time": "2023-06-20T18:33:38.082Z"
   },
   {
    "duration": 168,
    "start_time": "2023-06-20T18:33:38.821Z"
   },
   {
    "duration": 16,
    "start_time": "2023-06-20T18:33:38.991Z"
   },
   {
    "duration": 15,
    "start_time": "2023-06-20T18:33:39.009Z"
   },
   {
    "duration": 10,
    "start_time": "2023-06-20T18:33:39.025Z"
   },
   {
    "duration": 12,
    "start_time": "2023-06-20T18:33:39.036Z"
   },
   {
    "duration": 20,
    "start_time": "2023-06-20T18:33:39.049Z"
   },
   {
    "duration": 8,
    "start_time": "2023-06-20T18:33:39.076Z"
   },
   {
    "duration": 11,
    "start_time": "2023-06-20T18:33:39.085Z"
   },
   {
    "duration": 21,
    "start_time": "2023-06-20T18:33:39.097Z"
   },
   {
    "duration": 19,
    "start_time": "2023-06-20T18:33:39.120Z"
   },
   {
    "duration": 4,
    "start_time": "2023-06-20T18:33:39.141Z"
   },
   {
    "duration": 5,
    "start_time": "2023-06-20T18:33:39.146Z"
   },
   {
    "duration": 4,
    "start_time": "2023-06-20T18:33:39.153Z"
   },
   {
    "duration": 8435,
    "start_time": "2023-06-20T18:33:39.168Z"
   },
   {
    "duration": 11,
    "start_time": "2023-06-20T18:33:47.671Z"
   },
   {
    "duration": 5,
    "start_time": "2023-06-20T18:33:47.684Z"
   },
   {
    "duration": 646,
    "start_time": "2023-06-20T18:33:47.690Z"
   },
   {
    "duration": 886,
    "start_time": "2023-06-20T18:33:48.339Z"
   },
   {
    "duration": 2091,
    "start_time": "2023-06-20T18:34:47.161Z"
   },
   {
    "duration": 2552,
    "start_time": "2023-06-20T18:34:49.254Z"
   },
   {
    "duration": 45,
    "start_time": "2023-06-20T18:34:51.807Z"
   },
   {
    "duration": 5,
    "start_time": "2023-06-20T18:34:51.854Z"
   },
   {
    "duration": 31,
    "start_time": "2023-06-20T18:34:51.860Z"
   },
   {
    "duration": 40,
    "start_time": "2023-06-20T18:34:51.892Z"
   },
   {
    "duration": 31,
    "start_time": "2023-06-20T18:34:51.934Z"
   },
   {
    "duration": 25,
    "start_time": "2023-06-20T18:34:51.967Z"
   },
   {
    "duration": 57,
    "start_time": "2023-06-20T18:34:51.994Z"
   },
   {
    "duration": 766,
    "start_time": "2023-06-20T18:34:52.054Z"
   },
   {
    "duration": 163,
    "start_time": "2023-06-20T18:34:52.821Z"
   },
   {
    "duration": 19,
    "start_time": "2023-06-20T18:34:52.986Z"
   },
   {
    "duration": 38,
    "start_time": "2023-06-20T18:34:53.007Z"
   },
   {
    "duration": 33,
    "start_time": "2023-06-20T18:34:53.047Z"
   },
   {
    "duration": 105,
    "start_time": "2023-06-20T18:34:53.081Z"
   },
   {
    "duration": 102,
    "start_time": "2023-06-20T18:34:53.187Z"
   },
   {
    "duration": 18,
    "start_time": "2023-06-20T18:34:53.291Z"
   },
   {
    "duration": 36,
    "start_time": "2023-06-20T18:34:53.311Z"
   },
   {
    "duration": 65,
    "start_time": "2023-06-20T18:34:53.349Z"
   },
   {
    "duration": 27,
    "start_time": "2023-06-20T18:34:53.416Z"
   },
   {
    "duration": 32,
    "start_time": "2023-06-20T18:34:53.444Z"
   },
   {
    "duration": 30,
    "start_time": "2023-06-20T18:34:53.478Z"
   },
   {
    "duration": 15,
    "start_time": "2023-06-20T18:34:53.510Z"
   },
   {
    "duration": 7469,
    "start_time": "2023-06-20T18:34:53.527Z"
   },
   {
    "duration": 75,
    "start_time": "2023-06-20T18:35:00.998Z"
   },
   {
    "duration": 30,
    "start_time": "2023-06-20T18:35:01.074Z"
   },
   {
    "duration": 805,
    "start_time": "2023-06-20T18:35:01.106Z"
   },
   {
    "duration": 683,
    "start_time": "2023-06-20T18:35:01.914Z"
   },
   {
    "duration": 196,
    "start_time": "2023-06-20T18:43:06.990Z"
   },
   {
    "duration": 6538,
    "start_time": "2023-06-20T18:43:18.052Z"
   },
   {
    "duration": 2108,
    "start_time": "2023-06-20T18:43:49.732Z"
   },
   {
    "duration": 2659,
    "start_time": "2023-06-20T18:43:51.842Z"
   },
   {
    "duration": 54,
    "start_time": "2023-06-20T18:43:54.503Z"
   },
   {
    "duration": 5,
    "start_time": "2023-06-20T18:43:54.559Z"
   },
   {
    "duration": 17,
    "start_time": "2023-06-20T18:43:54.566Z"
   },
   {
    "duration": 7,
    "start_time": "2023-06-20T18:43:54.584Z"
   },
   {
    "duration": 8,
    "start_time": "2023-06-20T18:43:54.593Z"
   },
   {
    "duration": 21,
    "start_time": "2023-06-20T18:43:54.602Z"
   },
   {
    "duration": 13,
    "start_time": "2023-06-20T18:43:54.625Z"
   },
   {
    "duration": 759,
    "start_time": "2023-06-20T18:43:54.641Z"
   },
   {
    "duration": 176,
    "start_time": "2023-06-20T18:43:55.402Z"
   },
   {
    "duration": 18,
    "start_time": "2023-06-20T18:43:55.582Z"
   },
   {
    "duration": 37,
    "start_time": "2023-06-20T18:43:55.601Z"
   },
   {
    "duration": 17,
    "start_time": "2023-06-20T18:43:55.639Z"
   },
   {
    "duration": 33,
    "start_time": "2023-06-20T18:43:55.657Z"
   },
   {
    "duration": 15,
    "start_time": "2023-06-20T18:43:55.692Z"
   },
   {
    "duration": 8,
    "start_time": "2023-06-20T18:43:55.709Z"
   },
   {
    "duration": 20,
    "start_time": "2023-06-20T18:43:55.719Z"
   },
   {
    "duration": 23,
    "start_time": "2023-06-20T18:43:55.740Z"
   },
   {
    "duration": 13,
    "start_time": "2023-06-20T18:43:55.765Z"
   },
   {
    "duration": 4,
    "start_time": "2023-06-20T18:43:55.780Z"
   },
   {
    "duration": 9,
    "start_time": "2023-06-20T18:43:55.785Z"
   },
   {
    "duration": 8,
    "start_time": "2023-06-20T18:43:55.795Z"
   },
   {
    "duration": 7776,
    "start_time": "2023-06-20T18:43:55.804Z"
   },
   {
    "duration": 5,
    "start_time": "2023-06-20T18:44:03.583Z"
   },
   {
    "duration": 22,
    "start_time": "2023-06-20T18:44:03.590Z"
   },
   {
    "duration": 819,
    "start_time": "2023-06-20T18:44:03.613Z"
   },
   {
    "duration": 652,
    "start_time": "2023-06-20T18:44:04.435Z"
   },
   {
    "duration": 5906,
    "start_time": "2023-06-20T18:44:05.090Z"
   },
   {
    "duration": 2122,
    "start_time": "2023-06-20T18:44:26.265Z"
   },
   {
    "duration": 4,
    "start_time": "2023-06-20T18:44:28.390Z"
   },
   {
    "duration": 56,
    "start_time": "2023-06-20T18:44:28.395Z"
   },
   {
    "duration": 5,
    "start_time": "2023-06-20T18:44:28.453Z"
   },
   {
    "duration": 13,
    "start_time": "2023-06-20T18:44:28.459Z"
   },
   {
    "duration": 11,
    "start_time": "2023-06-20T18:44:28.474Z"
   },
   {
    "duration": 4,
    "start_time": "2023-06-20T18:44:28.486Z"
   },
   {
    "duration": 16,
    "start_time": "2023-06-20T18:44:28.491Z"
   },
   {
    "duration": 16,
    "start_time": "2023-06-20T18:44:28.508Z"
   },
   {
    "duration": 764,
    "start_time": "2023-06-20T18:44:28.526Z"
   },
   {
    "duration": 193,
    "start_time": "2023-06-20T18:44:29.293Z"
   },
   {
    "duration": 18,
    "start_time": "2023-06-20T18:44:29.487Z"
   },
   {
    "duration": 13,
    "start_time": "2023-06-20T18:44:29.506Z"
   },
   {
    "duration": 8,
    "start_time": "2023-06-20T18:44:29.522Z"
   },
   {
    "duration": 24,
    "start_time": "2023-06-20T18:44:29.531Z"
   },
   {
    "duration": 7,
    "start_time": "2023-06-20T18:44:29.557Z"
   },
   {
    "duration": 15,
    "start_time": "2023-06-20T18:44:29.568Z"
   },
   {
    "duration": 9,
    "start_time": "2023-06-20T18:44:29.586Z"
   },
   {
    "duration": 22,
    "start_time": "2023-06-20T18:44:29.597Z"
   },
   {
    "duration": 4,
    "start_time": "2023-06-20T18:44:29.620Z"
   },
   {
    "duration": 6,
    "start_time": "2023-06-20T18:44:29.626Z"
   },
   {
    "duration": 5,
    "start_time": "2023-06-20T18:44:29.633Z"
   },
   {
    "duration": 4,
    "start_time": "2023-06-20T18:44:29.639Z"
   },
   {
    "duration": 6929,
    "start_time": "2023-06-20T18:44:29.645Z"
   },
   {
    "duration": 5,
    "start_time": "2023-06-20T18:44:36.587Z"
   },
   {
    "duration": 8,
    "start_time": "2023-06-20T18:44:36.593Z"
   },
   {
    "duration": 621,
    "start_time": "2023-06-20T18:44:36.602Z"
   },
   {
    "duration": 808,
    "start_time": "2023-06-20T18:44:37.225Z"
   },
   {
    "duration": 6045,
    "start_time": "2023-06-20T18:44:38.035Z"
   },
   {
    "duration": 10,
    "start_time": "2023-06-20T18:44:52.580Z"
   },
   {
    "duration": 6190,
    "start_time": "2023-06-20T18:47:28.096Z"
   },
   {
    "duration": 6451,
    "start_time": "2023-06-20T18:47:42.922Z"
   },
   {
    "duration": 5,
    "start_time": "2023-06-20T18:47:51.544Z"
   },
   {
    "duration": 5,
    "start_time": "2023-06-20T18:48:02.222Z"
   },
   {
    "duration": 657,
    "start_time": "2023-06-20T18:48:03.563Z"
   },
   {
    "duration": 629,
    "start_time": "2023-06-20T18:48:08.796Z"
   },
   {
    "duration": 5594,
    "start_time": "2023-06-20T18:49:55.294Z"
   },
   {
    "duration": 5,
    "start_time": "2023-06-20T18:50:05.219Z"
   },
   {
    "duration": 2253,
    "start_time": "2023-06-20T18:50:14.738Z"
   },
   {
    "duration": 2803,
    "start_time": "2023-06-20T18:50:16.993Z"
   },
   {
    "duration": 47,
    "start_time": "2023-06-20T18:50:19.797Z"
   },
   {
    "duration": 6,
    "start_time": "2023-06-20T18:50:19.846Z"
   },
   {
    "duration": 7,
    "start_time": "2023-06-20T18:50:19.853Z"
   },
   {
    "duration": 5,
    "start_time": "2023-06-20T18:50:19.862Z"
   },
   {
    "duration": 12,
    "start_time": "2023-06-20T18:50:19.870Z"
   },
   {
    "duration": 10,
    "start_time": "2023-06-20T18:50:19.883Z"
   },
   {
    "duration": 18,
    "start_time": "2023-06-20T18:50:19.894Z"
   },
   {
    "duration": 827,
    "start_time": "2023-06-20T18:50:19.914Z"
   },
   {
    "duration": 185,
    "start_time": "2023-06-20T18:50:20.743Z"
   },
   {
    "duration": 19,
    "start_time": "2023-06-20T18:50:20.929Z"
   },
   {
    "duration": 32,
    "start_time": "2023-06-20T18:50:20.950Z"
   },
   {
    "duration": 10,
    "start_time": "2023-06-20T18:50:20.983Z"
   },
   {
    "duration": 25,
    "start_time": "2023-06-20T18:50:20.994Z"
   },
   {
    "duration": 7,
    "start_time": "2023-06-20T18:50:21.020Z"
   },
   {
    "duration": 7,
    "start_time": "2023-06-20T18:50:21.028Z"
   },
   {
    "duration": 21,
    "start_time": "2023-06-20T18:50:21.036Z"
   },
   {
    "duration": 39,
    "start_time": "2023-06-20T18:50:21.059Z"
   },
   {
    "duration": 6,
    "start_time": "2023-06-20T18:50:21.100Z"
   },
   {
    "duration": 11,
    "start_time": "2023-06-20T18:50:21.107Z"
   },
   {
    "duration": 7,
    "start_time": "2023-06-20T18:50:21.120Z"
   },
   {
    "duration": 20,
    "start_time": "2023-06-20T18:50:21.129Z"
   },
   {
    "duration": 6237,
    "start_time": "2023-06-20T18:50:21.151Z"
   },
   {
    "duration": 5,
    "start_time": "2023-06-20T18:50:27.390Z"
   },
   {
    "duration": 75,
    "start_time": "2023-06-20T18:50:27.396Z"
   },
   {
    "duration": 730,
    "start_time": "2023-06-20T18:50:27.473Z"
   },
   {
    "duration": 627,
    "start_time": "2023-06-20T18:50:28.206Z"
   },
   {
    "duration": 5559,
    "start_time": "2023-06-20T18:50:28.835Z"
   },
   {
    "duration": 5,
    "start_time": "2023-06-20T18:50:34.396Z"
   },
   {
    "duration": 4873,
    "start_time": "2023-06-20T18:54:26.409Z"
   },
   {
    "duration": 4923,
    "start_time": "2023-06-20T18:54:42.064Z"
   },
   {
    "duration": 4,
    "start_time": "2023-06-20T18:54:53.880Z"
   },
   {
    "duration": 2053,
    "start_time": "2023-06-20T18:55:02.798Z"
   },
   {
    "duration": 4,
    "start_time": "2023-06-20T18:55:04.853Z"
   },
   {
    "duration": 51,
    "start_time": "2023-06-20T18:55:04.858Z"
   },
   {
    "duration": 6,
    "start_time": "2023-06-20T18:55:04.912Z"
   },
   {
    "duration": 5,
    "start_time": "2023-06-20T18:55:04.919Z"
   },
   {
    "duration": 4,
    "start_time": "2023-06-20T18:55:04.925Z"
   },
   {
    "duration": 4,
    "start_time": "2023-06-20T18:55:04.931Z"
   },
   {
    "duration": 10,
    "start_time": "2023-06-20T18:55:04.936Z"
   },
   {
    "duration": 15,
    "start_time": "2023-06-20T18:55:04.947Z"
   },
   {
    "duration": 715,
    "start_time": "2023-06-20T18:55:04.968Z"
   },
   {
    "duration": 163,
    "start_time": "2023-06-20T18:55:05.685Z"
   },
   {
    "duration": 29,
    "start_time": "2023-06-20T18:55:05.849Z"
   },
   {
    "duration": 13,
    "start_time": "2023-06-20T18:55:05.879Z"
   },
   {
    "duration": 23,
    "start_time": "2023-06-20T18:55:05.893Z"
   },
   {
    "duration": 14,
    "start_time": "2023-06-20T18:55:05.917Z"
   },
   {
    "duration": 4,
    "start_time": "2023-06-20T18:55:05.932Z"
   },
   {
    "duration": 4,
    "start_time": "2023-06-20T18:55:05.938Z"
   },
   {
    "duration": 9,
    "start_time": "2023-06-20T18:55:05.943Z"
   },
   {
    "duration": 35,
    "start_time": "2023-06-20T18:55:05.953Z"
   },
   {
    "duration": 4,
    "start_time": "2023-06-20T18:55:05.989Z"
   },
   {
    "duration": 16,
    "start_time": "2023-06-20T18:55:05.994Z"
   },
   {
    "duration": 13,
    "start_time": "2023-06-20T18:55:06.012Z"
   },
   {
    "duration": 3,
    "start_time": "2023-06-20T18:55:06.026Z"
   },
   {
    "duration": 6067,
    "start_time": "2023-06-20T18:55:06.030Z"
   },
   {
    "duration": 5,
    "start_time": "2023-06-20T18:55:12.099Z"
   },
   {
    "duration": 71,
    "start_time": "2023-06-20T18:55:12.105Z"
   },
   {
    "duration": 654,
    "start_time": "2023-06-20T18:55:12.178Z"
   },
   {
    "duration": 905,
    "start_time": "2023-06-20T18:55:12.835Z"
   },
   {
    "duration": 5841,
    "start_time": "2023-06-20T18:55:13.741Z"
   },
   {
    "duration": 5,
    "start_time": "2023-06-20T18:55:19.584Z"
   },
   {
    "duration": 5280,
    "start_time": "2023-06-20T18:55:19.590Z"
   },
   {
    "duration": 8,
    "start_time": "2023-06-20T18:55:24.876Z"
   },
   {
    "duration": 5034,
    "start_time": "2023-06-20T18:57:28.161Z"
   },
   {
    "duration": 5227,
    "start_time": "2023-06-20T18:58:21.043Z"
   },
   {
    "duration": 5,
    "start_time": "2023-06-20T18:58:28.926Z"
   },
   {
    "duration": 5472,
    "start_time": "2023-06-20T18:58:56.606Z"
   },
   {
    "duration": 1976,
    "start_time": "2023-06-20T18:59:11.036Z"
   },
   {
    "duration": 2700,
    "start_time": "2023-06-20T18:59:13.014Z"
   },
   {
    "duration": 47,
    "start_time": "2023-06-20T18:59:15.716Z"
   },
   {
    "duration": 13,
    "start_time": "2023-06-20T18:59:15.765Z"
   },
   {
    "duration": 6,
    "start_time": "2023-06-20T18:59:15.782Z"
   },
   {
    "duration": 7,
    "start_time": "2023-06-20T18:59:15.790Z"
   },
   {
    "duration": 5,
    "start_time": "2023-06-20T18:59:15.799Z"
   },
   {
    "duration": 11,
    "start_time": "2023-06-20T18:59:15.805Z"
   },
   {
    "duration": 15,
    "start_time": "2023-06-20T18:59:15.818Z"
   },
   {
    "duration": 853,
    "start_time": "2023-06-20T18:59:15.837Z"
   },
   {
    "duration": 192,
    "start_time": "2023-06-20T18:59:16.692Z"
   },
   {
    "duration": 18,
    "start_time": "2023-06-20T18:59:16.886Z"
   },
   {
    "duration": 13,
    "start_time": "2023-06-20T18:59:16.906Z"
   },
   {
    "duration": 8,
    "start_time": "2023-06-20T18:59:16.920Z"
   },
   {
    "duration": 14,
    "start_time": "2023-06-20T18:59:16.929Z"
   },
   {
    "duration": 32,
    "start_time": "2023-06-20T18:59:16.944Z"
   },
   {
    "duration": 4,
    "start_time": "2023-06-20T18:59:16.982Z"
   },
   {
    "duration": 20,
    "start_time": "2023-06-20T18:59:16.988Z"
   },
   {
    "duration": 23,
    "start_time": "2023-06-20T18:59:17.010Z"
   },
   {
    "duration": 4,
    "start_time": "2023-06-20T18:59:17.034Z"
   },
   {
    "duration": 5,
    "start_time": "2023-06-20T18:59:17.039Z"
   },
   {
    "duration": 27,
    "start_time": "2023-06-20T18:59:17.046Z"
   },
   {
    "duration": 2,
    "start_time": "2023-06-20T18:59:17.075Z"
   },
   {
    "duration": 6311,
    "start_time": "2023-06-20T18:59:17.078Z"
   },
   {
    "duration": 4,
    "start_time": "2023-06-20T18:59:23.391Z"
   },
   {
    "duration": 7,
    "start_time": "2023-06-20T18:59:23.396Z"
   },
   {
    "duration": 889,
    "start_time": "2023-06-20T18:59:23.404Z"
   },
   {
    "duration": 739,
    "start_time": "2023-06-20T18:59:24.299Z"
   },
   {
    "duration": 6231,
    "start_time": "2023-06-20T18:59:25.040Z"
   },
   {
    "duration": 8,
    "start_time": "2023-06-20T18:59:31.273Z"
   },
   {
    "duration": 5213,
    "start_time": "2023-06-20T18:59:31.282Z"
   },
   {
    "duration": 3,
    "start_time": "2023-06-20T18:59:36.497Z"
   },
   {
    "duration": 5081,
    "start_time": "2023-06-20T18:59:36.502Z"
   },
   {
    "duration": 5591,
    "start_time": "2023-06-20T19:01:03.297Z"
   },
   {
    "duration": 4941,
    "start_time": "2023-06-20T19:04:41.230Z"
   },
   {
    "duration": 4611,
    "start_time": "2023-06-20T19:05:22.490Z"
   },
   {
    "duration": 2062,
    "start_time": "2023-06-20T19:05:28.644Z"
   },
   {
    "duration": 3,
    "start_time": "2023-06-20T19:05:30.709Z"
   },
   {
    "duration": 85,
    "start_time": "2023-06-20T19:05:30.713Z"
   },
   {
    "duration": 53,
    "start_time": "2023-06-20T19:05:30.800Z"
   },
   {
    "duration": 79,
    "start_time": "2023-06-20T19:05:30.854Z"
   },
   {
    "duration": 57,
    "start_time": "2023-06-20T19:05:30.935Z"
   },
   {
    "duration": 35,
    "start_time": "2023-06-20T19:05:30.994Z"
   },
   {
    "duration": 20,
    "start_time": "2023-06-20T19:05:31.031Z"
   },
   {
    "duration": 38,
    "start_time": "2023-06-20T19:05:31.053Z"
   },
   {
    "duration": 749,
    "start_time": "2023-06-20T19:05:31.093Z"
   },
   {
    "duration": 164,
    "start_time": "2023-06-20T19:05:31.843Z"
   },
   {
    "duration": 17,
    "start_time": "2023-06-20T19:05:32.008Z"
   },
   {
    "duration": 28,
    "start_time": "2023-06-20T19:05:32.026Z"
   },
   {
    "duration": 29,
    "start_time": "2023-06-20T19:05:32.055Z"
   },
   {
    "duration": 21,
    "start_time": "2023-06-20T19:05:32.086Z"
   },
   {
    "duration": 10,
    "start_time": "2023-06-20T19:05:32.108Z"
   },
   {
    "duration": 19,
    "start_time": "2023-06-20T19:05:32.120Z"
   },
   {
    "duration": 20,
    "start_time": "2023-06-20T19:05:32.141Z"
   },
   {
    "duration": 31,
    "start_time": "2023-06-20T19:05:32.162Z"
   },
   {
    "duration": 8,
    "start_time": "2023-06-20T19:05:32.195Z"
   },
   {
    "duration": 6,
    "start_time": "2023-06-20T19:05:32.205Z"
   },
   {
    "duration": 11,
    "start_time": "2023-06-20T19:05:32.212Z"
   },
   {
    "duration": 15,
    "start_time": "2023-06-20T19:05:32.224Z"
   },
   {
    "duration": 6840,
    "start_time": "2023-06-20T19:05:32.242Z"
   },
   {
    "duration": 6,
    "start_time": "2023-06-20T19:05:39.083Z"
   },
   {
    "duration": 15,
    "start_time": "2023-06-20T19:05:39.091Z"
   },
   {
    "duration": 597,
    "start_time": "2023-06-20T19:05:39.107Z"
   },
   {
    "duration": 798,
    "start_time": "2023-06-20T19:05:39.707Z"
   },
   {
    "duration": 5482,
    "start_time": "2023-06-20T19:05:40.507Z"
   },
   {
    "duration": 4,
    "start_time": "2023-06-20T19:05:45.991Z"
   },
   {
    "duration": 4495,
    "start_time": "2023-06-20T19:05:45.997Z"
   },
   {
    "duration": 5,
    "start_time": "2023-06-20T19:05:50.494Z"
   },
   {
    "duration": 4303,
    "start_time": "2023-06-20T19:05:50.570Z"
   },
   {
    "duration": 2178,
    "start_time": "2023-06-20T19:06:26.124Z"
   },
   {
    "duration": 2740,
    "start_time": "2023-06-20T19:06:28.305Z"
   },
   {
    "duration": 55,
    "start_time": "2023-06-20T19:06:31.049Z"
   },
   {
    "duration": 6,
    "start_time": "2023-06-20T19:06:31.106Z"
   },
   {
    "duration": 29,
    "start_time": "2023-06-20T19:06:31.113Z"
   },
   {
    "duration": 20,
    "start_time": "2023-06-20T19:06:31.143Z"
   },
   {
    "duration": 58,
    "start_time": "2023-06-20T19:06:31.165Z"
   },
   {
    "duration": 32,
    "start_time": "2023-06-20T19:06:31.224Z"
   },
   {
    "duration": 31,
    "start_time": "2023-06-20T19:06:31.258Z"
   },
   {
    "duration": 819,
    "start_time": "2023-06-20T19:06:31.291Z"
   },
   {
    "duration": 183,
    "start_time": "2023-06-20T19:06:32.111Z"
   },
   {
    "duration": 26,
    "start_time": "2023-06-20T19:06:32.295Z"
   },
   {
    "duration": 12,
    "start_time": "2023-06-20T19:06:32.323Z"
   },
   {
    "duration": 9,
    "start_time": "2023-06-20T19:06:32.337Z"
   },
   {
    "duration": 26,
    "start_time": "2023-06-20T19:06:32.369Z"
   },
   {
    "duration": 5,
    "start_time": "2023-06-20T19:06:32.397Z"
   },
   {
    "duration": 4,
    "start_time": "2023-06-20T19:06:32.404Z"
   },
   {
    "duration": 10,
    "start_time": "2023-06-20T19:06:32.410Z"
   },
   {
    "duration": 24,
    "start_time": "2023-06-20T19:06:32.421Z"
   },
   {
    "duration": 25,
    "start_time": "2023-06-20T19:06:32.448Z"
   },
   {
    "duration": 6,
    "start_time": "2023-06-20T19:06:32.476Z"
   },
   {
    "duration": 6,
    "start_time": "2023-06-20T19:06:32.487Z"
   },
   {
    "duration": 3,
    "start_time": "2023-06-20T19:06:32.495Z"
   },
   {
    "duration": 7479,
    "start_time": "2023-06-20T19:06:32.500Z"
   },
   {
    "duration": 5,
    "start_time": "2023-06-20T19:06:39.982Z"
   },
   {
    "duration": 28,
    "start_time": "2023-06-20T19:06:39.988Z"
   },
   {
    "duration": 729,
    "start_time": "2023-06-20T19:06:40.017Z"
   },
   {
    "duration": 637,
    "start_time": "2023-06-20T19:06:40.749Z"
   },
   {
    "duration": 5189,
    "start_time": "2023-06-20T19:06:41.388Z"
   },
   {
    "duration": 4,
    "start_time": "2023-06-20T19:06:46.579Z"
   },
   {
    "duration": 4298,
    "start_time": "2023-06-20T19:06:46.585Z"
   },
   {
    "duration": 4,
    "start_time": "2023-06-20T19:06:50.885Z"
   },
   {
    "duration": 4506,
    "start_time": "2023-06-20T19:06:50.891Z"
   },
   {
    "duration": 7056,
    "start_time": "2023-06-20T19:07:40.441Z"
   },
   {
    "duration": 5,
    "start_time": "2023-06-20T19:07:49.083Z"
   },
   {
    "duration": 2041,
    "start_time": "2023-06-20T19:07:54.400Z"
   },
   {
    "duration": 4,
    "start_time": "2023-06-20T19:07:56.443Z"
   },
   {
    "duration": 54,
    "start_time": "2023-06-20T19:07:56.449Z"
   },
   {
    "duration": 5,
    "start_time": "2023-06-20T19:07:56.506Z"
   },
   {
    "duration": 6,
    "start_time": "2023-06-20T19:07:56.513Z"
   },
   {
    "duration": 6,
    "start_time": "2023-06-20T19:07:56.520Z"
   },
   {
    "duration": 5,
    "start_time": "2023-06-20T19:07:56.528Z"
   },
   {
    "duration": 11,
    "start_time": "2023-06-20T19:07:56.534Z"
   },
   {
    "duration": 35,
    "start_time": "2023-06-20T19:07:56.547Z"
   },
   {
    "duration": 892,
    "start_time": "2023-06-20T19:07:56.585Z"
   },
   {
    "duration": 180,
    "start_time": "2023-06-20T19:07:57.479Z"
   },
   {
    "duration": 33,
    "start_time": "2023-06-20T19:07:57.661Z"
   },
   {
    "duration": 13,
    "start_time": "2023-06-20T19:07:57.696Z"
   },
   {
    "duration": 28,
    "start_time": "2023-06-20T19:07:57.711Z"
   },
   {
    "duration": 16,
    "start_time": "2023-06-20T19:07:57.741Z"
   },
   {
    "duration": 15,
    "start_time": "2023-06-20T19:07:57.758Z"
   },
   {
    "duration": 6,
    "start_time": "2023-06-20T19:07:57.780Z"
   },
   {
    "duration": 13,
    "start_time": "2023-06-20T19:07:57.788Z"
   },
   {
    "duration": 22,
    "start_time": "2023-06-20T19:07:57.803Z"
   },
   {
    "duration": 6,
    "start_time": "2023-06-20T19:07:57.826Z"
   },
   {
    "duration": 4,
    "start_time": "2023-06-20T19:07:57.833Z"
   },
   {
    "duration": 6,
    "start_time": "2023-06-20T19:07:57.839Z"
   },
   {
    "duration": 6,
    "start_time": "2023-06-20T19:07:57.846Z"
   },
   {
    "duration": 6726,
    "start_time": "2023-06-20T19:07:57.868Z"
   },
   {
    "duration": 75,
    "start_time": "2023-06-20T19:08:04.595Z"
   },
   {
    "duration": 5,
    "start_time": "2023-06-20T19:08:07.345Z"
   },
   {
    "duration": 5,
    "start_time": "2023-06-20T19:08:10.135Z"
   },
   {
    "duration": 575,
    "start_time": "2023-06-20T19:08:11.933Z"
   },
   {
    "duration": 906,
    "start_time": "2023-06-20T19:08:23.634Z"
   },
   {
    "duration": 6938,
    "start_time": "2023-06-20T19:08:37.250Z"
   },
   {
    "duration": 5824,
    "start_time": "2023-06-20T19:08:45.548Z"
   },
   {
    "duration": 5935,
    "start_time": "2023-06-20T19:08:52.349Z"
   },
   {
    "duration": 4,
    "start_time": "2023-06-20T19:08:59.619Z"
   },
   {
    "duration": 6095,
    "start_time": "2023-06-20T19:09:09.502Z"
   },
   {
    "duration": 5928,
    "start_time": "2023-06-20T19:09:16.266Z"
   },
   {
    "duration": 4736,
    "start_time": "2023-06-20T19:09:27.352Z"
   },
   {
    "duration": 5580,
    "start_time": "2023-06-20T19:09:35.814Z"
   },
   {
    "duration": 2162,
    "start_time": "2023-06-20T19:09:46.493Z"
   },
   {
    "duration": 2555,
    "start_time": "2023-06-20T19:09:48.658Z"
   },
   {
    "duration": 47,
    "start_time": "2023-06-20T19:09:51.217Z"
   },
   {
    "duration": 13,
    "start_time": "2023-06-20T19:09:51.265Z"
   },
   {
    "duration": 13,
    "start_time": "2023-06-20T19:09:51.282Z"
   },
   {
    "duration": 34,
    "start_time": "2023-06-20T19:09:51.297Z"
   },
   {
    "duration": 26,
    "start_time": "2023-06-20T19:09:51.332Z"
   },
   {
    "duration": 28,
    "start_time": "2023-06-20T19:09:51.359Z"
   },
   {
    "duration": 14,
    "start_time": "2023-06-20T19:09:51.388Z"
   },
   {
    "duration": 756,
    "start_time": "2023-06-20T19:09:51.403Z"
   },
   {
    "duration": 169,
    "start_time": "2023-06-20T19:09:52.160Z"
   },
   {
    "duration": 16,
    "start_time": "2023-06-20T19:09:52.330Z"
   },
   {
    "duration": 43,
    "start_time": "2023-06-20T19:09:52.348Z"
   },
   {
    "duration": 20,
    "start_time": "2023-06-20T19:09:52.394Z"
   },
   {
    "duration": 32,
    "start_time": "2023-06-20T19:09:52.416Z"
   },
   {
    "duration": 33,
    "start_time": "2023-06-20T19:09:52.450Z"
   },
   {
    "duration": 21,
    "start_time": "2023-06-20T19:09:52.485Z"
   },
   {
    "duration": 41,
    "start_time": "2023-06-20T19:09:52.508Z"
   },
   {
    "duration": 34,
    "start_time": "2023-06-20T19:09:52.550Z"
   },
   {
    "duration": 46,
    "start_time": "2023-06-20T19:09:52.586Z"
   },
   {
    "duration": 15,
    "start_time": "2023-06-20T19:09:52.633Z"
   },
   {
    "duration": 48,
    "start_time": "2023-06-20T19:09:52.649Z"
   },
   {
    "duration": 29,
    "start_time": "2023-06-20T19:09:52.699Z"
   },
   {
    "duration": 6264,
    "start_time": "2023-06-20T19:09:52.730Z"
   },
   {
    "duration": 13,
    "start_time": "2023-06-20T19:09:59.069Z"
   },
   {
    "duration": 4,
    "start_time": "2023-06-20T19:09:59.084Z"
   },
   {
    "duration": 693,
    "start_time": "2023-06-20T19:09:59.089Z"
   },
   {
    "duration": 642,
    "start_time": "2023-06-20T19:09:59.784Z"
   },
   {
    "duration": 6266,
    "start_time": "2023-06-20T19:10:00.427Z"
   },
   {
    "duration": 5,
    "start_time": "2023-06-20T19:10:06.702Z"
   },
   {
    "duration": 5979,
    "start_time": "2023-06-20T19:10:06.709Z"
   },
   {
    "duration": 5,
    "start_time": "2023-06-20T19:10:12.690Z"
   },
   {
    "duration": 5985,
    "start_time": "2023-06-20T19:10:12.697Z"
   },
   {
    "duration": 74,
    "start_time": "2023-06-20T19:10:57.987Z"
   },
   {
    "duration": 5592,
    "start_time": "2023-06-20T19:11:02.687Z"
   },
   {
    "duration": 6566,
    "start_time": "2023-06-20T19:11:10.828Z"
   },
   {
    "duration": 5975,
    "start_time": "2023-06-20T19:11:18.520Z"
   },
   {
    "duration": 2058,
    "start_time": "2023-06-20T19:11:36.087Z"
   },
   {
    "duration": 2554,
    "start_time": "2023-06-20T19:11:38.147Z"
   },
   {
    "duration": 44,
    "start_time": "2023-06-20T19:11:40.702Z"
   },
   {
    "duration": 5,
    "start_time": "2023-06-20T19:11:40.748Z"
   },
   {
    "duration": 21,
    "start_time": "2023-06-20T19:11:40.756Z"
   },
   {
    "duration": 26,
    "start_time": "2023-06-20T19:11:40.781Z"
   },
   {
    "duration": 8,
    "start_time": "2023-06-20T19:11:40.809Z"
   },
   {
    "duration": 10,
    "start_time": "2023-06-20T19:11:40.819Z"
   },
   {
    "duration": 22,
    "start_time": "2023-06-20T19:11:40.831Z"
   },
   {
    "duration": 750,
    "start_time": "2023-06-20T19:11:40.855Z"
   },
   {
    "duration": 170,
    "start_time": "2023-06-20T19:11:41.606Z"
   },
   {
    "duration": 21,
    "start_time": "2023-06-20T19:11:41.779Z"
   },
   {
    "duration": 18,
    "start_time": "2023-06-20T19:11:41.802Z"
   },
   {
    "duration": 9,
    "start_time": "2023-06-20T19:11:41.823Z"
   },
   {
    "duration": 11,
    "start_time": "2023-06-20T19:11:41.833Z"
   },
   {
    "duration": 12,
    "start_time": "2023-06-20T19:11:41.846Z"
   },
   {
    "duration": 21,
    "start_time": "2023-06-20T19:11:41.860Z"
   },
   {
    "duration": 10,
    "start_time": "2023-06-20T19:11:41.882Z"
   },
   {
    "duration": 20,
    "start_time": "2023-06-20T19:11:41.893Z"
   },
   {
    "duration": 4,
    "start_time": "2023-06-20T19:11:41.915Z"
   },
   {
    "duration": 3,
    "start_time": "2023-06-20T19:11:41.921Z"
   },
   {
    "duration": 5,
    "start_time": "2023-06-20T19:11:41.926Z"
   },
   {
    "duration": 3,
    "start_time": "2023-06-20T19:11:41.932Z"
   },
   {
    "duration": 6260,
    "start_time": "2023-06-20T19:11:41.936Z"
   },
   {
    "duration": 4,
    "start_time": "2023-06-20T19:11:48.197Z"
   },
   {
    "duration": 76,
    "start_time": "2023-06-20T19:11:48.202Z"
   },
   {
    "duration": 715,
    "start_time": "2023-06-20T19:11:48.281Z"
   },
   {
    "duration": 668,
    "start_time": "2023-06-20T19:11:48.998Z"
   },
   {
    "duration": 6009,
    "start_time": "2023-06-20T19:11:49.670Z"
   },
   {
    "duration": 5,
    "start_time": "2023-06-20T19:11:55.682Z"
   },
   {
    "duration": 5093,
    "start_time": "2023-06-20T19:11:55.689Z"
   },
   {
    "duration": 5,
    "start_time": "2023-06-20T19:12:00.784Z"
   },
   {
    "duration": 5897,
    "start_time": "2023-06-20T19:12:00.791Z"
   },
   {
    "duration": 5783,
    "start_time": "2023-06-20T19:12:14.100Z"
   },
   {
    "duration": 5257,
    "start_time": "2023-06-20T19:12:24.027Z"
   },
   {
    "duration": 4986,
    "start_time": "2023-06-20T19:13:43.104Z"
   },
   {
    "duration": 5261,
    "start_time": "2023-06-20T19:13:49.139Z"
   },
   {
    "duration": 5606,
    "start_time": "2023-06-20T19:16:07.391Z"
   },
   {
    "duration": 5050,
    "start_time": "2023-06-20T19:16:31.639Z"
   },
   {
    "duration": 5091,
    "start_time": "2023-06-20T19:17:27.896Z"
   },
   {
    "duration": 5258,
    "start_time": "2023-06-20T19:17:37.632Z"
   },
   {
    "duration": 5492,
    "start_time": "2023-06-20T19:18:50.502Z"
   },
   {
    "duration": 7702,
    "start_time": "2023-06-20T19:19:14.791Z"
   },
   {
    "duration": 6931,
    "start_time": "2023-06-20T19:19:32.850Z"
   },
   {
    "duration": 8698,
    "start_time": "2023-06-20T19:19:47.896Z"
   },
   {
    "duration": 5,
    "start_time": "2023-06-20T19:19:58.424Z"
   },
   {
    "duration": 598,
    "start_time": "2023-06-20T19:20:30.733Z"
   },
   {
    "duration": 572,
    "start_time": "2023-06-20T19:20:41.241Z"
   },
   {
    "duration": 5,
    "start_time": "2023-06-20T19:21:03.561Z"
   },
   {
    "duration": 614,
    "start_time": "2023-06-20T19:21:18.828Z"
   },
   {
    "duration": 7073,
    "start_time": "2023-06-20T19:22:00.534Z"
   },
   {
    "duration": 7605,
    "start_time": "2023-06-20T19:22:18.894Z"
   },
   {
    "duration": 7606,
    "start_time": "2023-06-20T19:22:36.588Z"
   },
   {
    "duration": 4,
    "start_time": "2023-06-20T19:23:02.240Z"
   },
   {
    "duration": 675,
    "start_time": "2023-06-20T19:23:17.052Z"
   },
   {
    "duration": 7124,
    "start_time": "2023-06-20T19:23:52.363Z"
   },
   {
    "duration": 687,
    "start_time": "2023-06-20T19:24:24.094Z"
   },
   {
    "duration": 28983,
    "start_time": "2023-06-21T07:43:40.513Z"
   },
   {
    "duration": 1954,
    "start_time": "2023-06-21T07:44:09.499Z"
   },
   {
    "duration": 75,
    "start_time": "2023-06-21T07:44:11.454Z"
   },
   {
    "duration": 5,
    "start_time": "2023-06-21T07:44:11.530Z"
   },
   {
    "duration": 8,
    "start_time": "2023-06-21T07:44:11.537Z"
   },
   {
    "duration": 6,
    "start_time": "2023-06-21T07:44:11.546Z"
   },
   {
    "duration": 5,
    "start_time": "2023-06-21T07:44:11.554Z"
   },
   {
    "duration": 12,
    "start_time": "2023-06-21T07:44:32.100Z"
   },
   {
    "duration": 146,
    "start_time": "2023-06-21T07:45:16.616Z"
   },
   {
    "duration": 12,
    "start_time": "2023-06-21T07:45:28.399Z"
   },
   {
    "duration": 15,
    "start_time": "2023-06-21T07:45:46.753Z"
   },
   {
    "duration": 11,
    "start_time": "2023-06-21T07:45:49.955Z"
   },
   {
    "duration": 10,
    "start_time": "2023-06-21T07:45:59.107Z"
   },
   {
    "duration": 10,
    "start_time": "2023-06-21T07:46:02.176Z"
   },
   {
    "duration": 10,
    "start_time": "2023-06-21T07:46:10.057Z"
   },
   {
    "duration": 10,
    "start_time": "2023-06-21T07:46:25.032Z"
   },
   {
    "duration": 10,
    "start_time": "2023-06-21T07:46:27.256Z"
   },
   {
    "duration": 10,
    "start_time": "2023-06-21T07:46:30.079Z"
   },
   {
    "duration": 5,
    "start_time": "2023-06-21T07:47:45.594Z"
   },
   {
    "duration": 12,
    "start_time": "2023-06-21T07:49:11.662Z"
   },
   {
    "duration": 5,
    "start_time": "2023-06-21T07:49:14.020Z"
   },
   {
    "duration": 13,
    "start_time": "2023-06-21T07:49:44.481Z"
   },
   {
    "duration": 5,
    "start_time": "2023-06-21T07:49:46.360Z"
   },
   {
    "duration": 16,
    "start_time": "2023-06-21T07:50:58.561Z"
   },
   {
    "duration": 763,
    "start_time": "2023-06-21T07:51:00.778Z"
   },
   {
    "duration": 2048,
    "start_time": "2023-06-21T07:51:11.612Z"
   },
   {
    "duration": 4,
    "start_time": "2023-06-21T07:51:13.662Z"
   },
   {
    "duration": 62,
    "start_time": "2023-06-21T07:51:13.668Z"
   },
   {
    "duration": 7,
    "start_time": "2023-06-21T07:51:13.731Z"
   },
   {
    "duration": 19,
    "start_time": "2023-06-21T07:51:13.741Z"
   },
   {
    "duration": 25,
    "start_time": "2023-06-21T07:51:13.762Z"
   },
   {
    "duration": 14,
    "start_time": "2023-06-21T07:51:13.789Z"
   },
   {
    "duration": 21,
    "start_time": "2023-06-21T07:51:13.804Z"
   },
   {
    "duration": 24,
    "start_time": "2023-06-21T07:51:13.827Z"
   },
   {
    "duration": 25,
    "start_time": "2023-06-21T07:51:13.853Z"
   },
   {
    "duration": 766,
    "start_time": "2023-06-21T07:51:13.879Z"
   },
   {
    "duration": 185,
    "start_time": "2023-06-21T07:51:14.646Z"
   },
   {
    "duration": 36,
    "start_time": "2023-06-21T07:51:14.833Z"
   },
   {
    "duration": 15,
    "start_time": "2023-06-21T07:51:14.872Z"
   },
   {
    "duration": 29,
    "start_time": "2023-06-21T07:51:14.888Z"
   },
   {
    "duration": 32,
    "start_time": "2023-06-21T07:51:14.919Z"
   },
   {
    "duration": 29,
    "start_time": "2023-06-21T07:51:14.953Z"
   },
   {
    "duration": 46,
    "start_time": "2023-06-21T07:51:14.983Z"
   },
   {
    "duration": 31,
    "start_time": "2023-06-21T07:51:28.035Z"
   },
   {
    "duration": 18,
    "start_time": "2023-06-21T07:51:53.559Z"
   },
   {
    "duration": 11,
    "start_time": "2023-06-21T07:52:03.993Z"
   },
   {
    "duration": 13,
    "start_time": "2023-06-21T07:52:05.932Z"
   },
   {
    "duration": 9,
    "start_time": "2023-06-21T07:52:22.432Z"
   },
   {
    "duration": 11,
    "start_time": "2023-06-21T07:52:24.544Z"
   },
   {
    "duration": 2100,
    "start_time": "2023-06-21T07:52:28.764Z"
   },
   {
    "duration": 3,
    "start_time": "2023-06-21T07:52:30.867Z"
   },
   {
    "duration": 115,
    "start_time": "2023-06-21T07:52:30.872Z"
   },
   {
    "duration": 6,
    "start_time": "2023-06-21T07:52:30.989Z"
   },
   {
    "duration": 44,
    "start_time": "2023-06-21T07:52:30.997Z"
   },
   {
    "duration": 68,
    "start_time": "2023-06-21T07:52:31.043Z"
   },
   {
    "duration": 36,
    "start_time": "2023-06-21T07:52:31.112Z"
   },
   {
    "duration": 55,
    "start_time": "2023-06-21T07:52:31.150Z"
   },
   {
    "duration": 62,
    "start_time": "2023-06-21T07:52:31.206Z"
   },
   {
    "duration": 70,
    "start_time": "2023-06-21T07:52:31.271Z"
   },
   {
    "duration": 919,
    "start_time": "2023-06-21T07:52:31.343Z"
   },
   {
    "duration": 179,
    "start_time": "2023-06-21T07:52:32.263Z"
   },
   {
    "duration": 27,
    "start_time": "2023-06-21T07:52:32.443Z"
   },
   {
    "duration": 17,
    "start_time": "2023-06-21T07:52:32.472Z"
   },
   {
    "duration": 24,
    "start_time": "2023-06-21T07:52:32.490Z"
   },
   {
    "duration": 18,
    "start_time": "2023-06-21T07:52:32.515Z"
   },
   {
    "duration": 14,
    "start_time": "2023-06-21T07:52:32.535Z"
   },
   {
    "duration": 20,
    "start_time": "2023-06-21T07:52:32.551Z"
   },
   {
    "duration": 21,
    "start_time": "2023-06-21T07:52:32.572Z"
   },
   {
    "duration": 23,
    "start_time": "2023-06-21T07:54:46.056Z"
   },
   {
    "duration": 23,
    "start_time": "2023-06-21T07:57:54.054Z"
   },
   {
    "duration": 22,
    "start_time": "2023-06-21T07:58:06.269Z"
   },
   {
    "duration": 17,
    "start_time": "2023-06-21T07:59:23.221Z"
   },
   {
    "duration": 17,
    "start_time": "2023-06-21T07:59:35.151Z"
   },
   {
    "duration": 17,
    "start_time": "2023-06-21T07:59:47.305Z"
   },
   {
    "duration": 24,
    "start_time": "2023-06-21T07:59:49.603Z"
   },
   {
    "duration": 5,
    "start_time": "2023-06-21T08:00:48.943Z"
   },
   {
    "duration": 4,
    "start_time": "2023-06-21T08:00:51.857Z"
   },
   {
    "duration": 5,
    "start_time": "2023-06-21T08:02:29.152Z"
   },
   {
    "duration": 6,
    "start_time": "2023-06-21T08:02:31.237Z"
   },
   {
    "duration": 5,
    "start_time": "2023-06-21T08:02:32.751Z"
   },
   {
    "duration": 4723,
    "start_time": "2023-06-21T08:02:42.637Z"
   },
   {
    "duration": 4574,
    "start_time": "2023-06-21T08:02:56.192Z"
   },
   {
    "duration": 4,
    "start_time": "2023-06-21T08:03:40.866Z"
   },
   {
    "duration": 5,
    "start_time": "2023-06-21T08:03:43.764Z"
   },
   {
    "duration": 578,
    "start_time": "2023-06-21T08:03:45.806Z"
   },
   {
    "duration": 629,
    "start_time": "2023-06-21T08:04:03.456Z"
   },
   {
    "duration": 5600,
    "start_time": "2023-06-21T08:06:32.064Z"
   },
   {
    "duration": 10965,
    "start_time": "2023-06-21T08:06:54.513Z"
   },
   {
    "duration": 23331,
    "start_time": "2023-06-21T08:07:14.039Z"
   },
   {
    "duration": 4,
    "start_time": "2023-06-21T08:07:41.457Z"
   },
   {
    "duration": 752,
    "start_time": "2023-06-21T08:07:44.673Z"
   },
   {
    "duration": 75,
    "start_time": "2023-06-21T08:29:54.769Z"
   },
   {
    "duration": 13,
    "start_time": "2023-06-21T08:30:24.107Z"
   },
   {
    "duration": 3,
    "start_time": "2023-06-21T08:30:31.871Z"
   },
   {
    "duration": 44675,
    "start_time": "2023-06-21T08:30:33.502Z"
   },
   {
    "duration": 46046,
    "start_time": "2023-06-21T08:31:54.648Z"
   },
   {
    "duration": 10,
    "start_time": "2023-06-21T08:32:59.447Z"
   },
   {
    "duration": 689,
    "start_time": "2023-06-21T08:33:02.008Z"
   },
   {
    "duration": 39746,
    "start_time": "2023-06-21T08:33:31.736Z"
   },
   {
    "duration": 5,
    "start_time": "2023-06-21T08:34:14.898Z"
   },
   {
    "duration": 809,
    "start_time": "2023-06-21T08:34:17.338Z"
   },
   {
    "duration": 2109,
    "start_time": "2023-06-21T08:38:09.573Z"
   },
   {
    "duration": 2508,
    "start_time": "2023-06-21T08:38:11.684Z"
   },
   {
    "duration": 45,
    "start_time": "2023-06-21T08:38:14.193Z"
   },
   {
    "duration": 5,
    "start_time": "2023-06-21T08:38:14.240Z"
   },
   {
    "duration": 20,
    "start_time": "2023-06-21T08:38:14.246Z"
   },
   {
    "duration": 4,
    "start_time": "2023-06-21T08:38:14.270Z"
   },
   {
    "duration": 13,
    "start_time": "2023-06-21T08:38:14.276Z"
   },
   {
    "duration": 35,
    "start_time": "2023-06-21T08:38:14.291Z"
   },
   {
    "duration": 25,
    "start_time": "2023-06-21T08:38:14.328Z"
   },
   {
    "duration": 25,
    "start_time": "2023-06-21T08:38:14.356Z"
   },
   {
    "duration": 811,
    "start_time": "2023-06-21T08:38:14.383Z"
   },
   {
    "duration": 201,
    "start_time": "2023-06-21T08:38:15.196Z"
   },
   {
    "duration": 25,
    "start_time": "2023-06-21T08:38:15.399Z"
   },
   {
    "duration": 35,
    "start_time": "2023-06-21T08:38:15.426Z"
   },
   {
    "duration": 10,
    "start_time": "2023-06-21T08:38:15.471Z"
   },
   {
    "duration": 17,
    "start_time": "2023-06-21T08:38:15.482Z"
   },
   {
    "duration": 39,
    "start_time": "2023-06-21T08:38:15.500Z"
   },
   {
    "duration": 43,
    "start_time": "2023-06-21T08:38:15.541Z"
   },
   {
    "duration": 9,
    "start_time": "2023-06-21T08:38:15.586Z"
   },
   {
    "duration": 37,
    "start_time": "2023-06-21T08:38:15.597Z"
   },
   {
    "duration": 10,
    "start_time": "2023-06-21T08:38:15.636Z"
   },
   {
    "duration": 14,
    "start_time": "2023-06-21T08:38:15.648Z"
   },
   {
    "duration": 26,
    "start_time": "2023-06-21T08:38:15.663Z"
   },
   {
    "duration": 22,
    "start_time": "2023-06-21T08:38:15.691Z"
   },
   {
    "duration": 9456,
    "start_time": "2023-06-21T08:38:15.715Z"
   },
   {
    "duration": 6,
    "start_time": "2023-06-21T08:38:25.177Z"
   },
   {
    "duration": 9,
    "start_time": "2023-06-21T08:38:25.184Z"
   },
   {
    "duration": 751,
    "start_time": "2023-06-21T08:38:25.196Z"
   },
   {
    "duration": 19,
    "start_time": "2023-06-21T08:38:25.949Z"
   },
   {
    "duration": 40308,
    "start_time": "2023-06-21T08:38:25.969Z"
   },
   {
    "duration": 78,
    "start_time": "2023-06-21T08:39:06.279Z"
   },
   {
    "duration": 639,
    "start_time": "2023-06-21T08:39:06.365Z"
   },
   {
    "duration": 3,
    "start_time": "2023-06-21T08:39:07.006Z"
   },
   {
    "duration": 31260,
    "start_time": "2023-06-21T08:39:07.011Z"
   },
   {
    "duration": 5,
    "start_time": "2023-06-21T08:39:38.275Z"
   },
   {
    "duration": 667,
    "start_time": "2023-06-21T08:39:38.281Z"
   },
   {
    "duration": 36772,
    "start_time": "2023-06-21T08:40:17.801Z"
   },
   {
    "duration": 5,
    "start_time": "2023-06-21T08:40:58.429Z"
   },
   {
    "duration": 647,
    "start_time": "2023-06-21T08:41:00.702Z"
   },
   {
    "duration": 27149,
    "start_time": "2023-06-21T08:41:11.117Z"
   },
   {
    "duration": 21155,
    "start_time": "2023-06-21T08:41:49.617Z"
   },
   {
    "duration": 2240,
    "start_time": "2023-06-21T08:43:54.481Z"
   },
   {
    "duration": 2852,
    "start_time": "2023-06-21T08:43:56.724Z"
   },
   {
    "duration": 45,
    "start_time": "2023-06-21T08:43:59.578Z"
   },
   {
    "duration": 5,
    "start_time": "2023-06-21T08:43:59.625Z"
   },
   {
    "duration": 7,
    "start_time": "2023-06-21T08:43:59.632Z"
   },
   {
    "duration": 5,
    "start_time": "2023-06-21T08:43:59.640Z"
   },
   {
    "duration": 10,
    "start_time": "2023-06-21T08:43:59.656Z"
   },
   {
    "duration": 19,
    "start_time": "2023-06-21T08:43:59.668Z"
   },
   {
    "duration": 8,
    "start_time": "2023-06-21T08:43:59.689Z"
   },
   {
    "duration": 23,
    "start_time": "2023-06-21T08:43:59.699Z"
   },
   {
    "duration": 882,
    "start_time": "2023-06-21T08:43:59.724Z"
   },
   {
    "duration": 194,
    "start_time": "2023-06-21T08:44:00.608Z"
   },
   {
    "duration": 19,
    "start_time": "2023-06-21T08:44:00.804Z"
   },
   {
    "duration": 53,
    "start_time": "2023-06-21T08:44:00.827Z"
   },
   {
    "duration": 48,
    "start_time": "2023-06-21T08:44:00.881Z"
   },
   {
    "duration": 56,
    "start_time": "2023-06-21T08:44:00.931Z"
   },
   {
    "duration": 79,
    "start_time": "2023-06-21T08:44:00.989Z"
   },
   {
    "duration": 31,
    "start_time": "2023-06-21T08:44:01.070Z"
   },
   {
    "duration": 31,
    "start_time": "2023-06-21T08:44:01.102Z"
   },
   {
    "duration": 62,
    "start_time": "2023-06-21T08:44:01.135Z"
   },
   {
    "duration": 34,
    "start_time": "2023-06-21T08:44:01.199Z"
   },
   {
    "duration": 29,
    "start_time": "2023-06-21T08:44:01.235Z"
   },
   {
    "duration": 29,
    "start_time": "2023-06-21T08:44:01.269Z"
   },
   {
    "duration": 27,
    "start_time": "2023-06-21T08:44:01.299Z"
   },
   {
    "duration": 11636,
    "start_time": "2023-06-21T08:44:01.328Z"
   },
   {
    "duration": 4,
    "start_time": "2023-06-21T08:44:12.973Z"
   },
   {
    "duration": 10,
    "start_time": "2023-06-21T08:44:12.979Z"
   },
   {
    "duration": 745,
    "start_time": "2023-06-21T08:44:12.991Z"
   },
   {
    "duration": 4,
    "start_time": "2023-06-21T08:44:13.737Z"
   },
   {
    "duration": 52403,
    "start_time": "2023-06-21T08:44:13.756Z"
   },
   {
    "duration": 5,
    "start_time": "2023-06-21T08:45:06.165Z"
   },
   {
    "duration": 657,
    "start_time": "2023-06-21T08:45:06.172Z"
   },
   {
    "duration": 3,
    "start_time": "2023-06-21T08:45:06.831Z"
   },
   {
    "duration": 40547,
    "start_time": "2023-06-21T08:45:06.835Z"
   },
   {
    "duration": 7,
    "start_time": "2023-06-21T08:45:47.454Z"
   },
   {
    "duration": 743,
    "start_time": "2023-06-21T08:45:47.463Z"
   },
   {
    "duration": 2069,
    "start_time": "2023-06-21T08:46:06.322Z"
   },
   {
    "duration": 5,
    "start_time": "2023-06-21T08:46:08.394Z"
   },
   {
    "duration": 55,
    "start_time": "2023-06-21T08:46:08.401Z"
   },
   {
    "duration": 6,
    "start_time": "2023-06-21T08:46:08.459Z"
   },
   {
    "duration": 8,
    "start_time": "2023-06-21T08:46:08.467Z"
   },
   {
    "duration": 4,
    "start_time": "2023-06-21T08:46:08.477Z"
   },
   {
    "duration": 5,
    "start_time": "2023-06-21T08:46:08.483Z"
   },
   {
    "duration": 15,
    "start_time": "2023-06-21T08:46:08.490Z"
   },
   {
    "duration": 6,
    "start_time": "2023-06-21T08:46:08.507Z"
   },
   {
    "duration": 14,
    "start_time": "2023-06-21T08:46:08.553Z"
   },
   {
    "duration": 746,
    "start_time": "2023-06-21T08:46:08.569Z"
   },
   {
    "duration": 161,
    "start_time": "2023-06-21T08:46:09.317Z"
   },
   {
    "duration": 25,
    "start_time": "2023-06-21T08:46:09.480Z"
   },
   {
    "duration": 15,
    "start_time": "2023-06-21T08:46:09.507Z"
   },
   {
    "duration": 32,
    "start_time": "2023-06-21T08:46:09.523Z"
   },
   {
    "duration": 12,
    "start_time": "2023-06-21T08:46:09.558Z"
   },
   {
    "duration": 19,
    "start_time": "2023-06-21T08:46:09.572Z"
   },
   {
    "duration": 9,
    "start_time": "2023-06-21T08:46:09.593Z"
   },
   {
    "duration": 8,
    "start_time": "2023-06-21T08:46:09.603Z"
   },
   {
    "duration": 37,
    "start_time": "2023-06-21T08:46:09.612Z"
   },
   {
    "duration": 5,
    "start_time": "2023-06-21T08:46:09.651Z"
   },
   {
    "duration": 14,
    "start_time": "2023-06-21T08:46:09.658Z"
   },
   {
    "duration": 4,
    "start_time": "2023-06-21T08:46:09.674Z"
   },
   {
    "duration": 2,
    "start_time": "2023-06-21T08:46:09.680Z"
   },
   {
    "duration": 5373,
    "start_time": "2023-06-21T08:46:09.683Z"
   },
   {
    "duration": 6,
    "start_time": "2023-06-21T08:46:15.060Z"
   },
   {
    "duration": 35,
    "start_time": "2023-06-21T08:46:15.068Z"
   },
   {
    "duration": 749,
    "start_time": "2023-06-21T08:46:15.106Z"
   },
   {
    "duration": 5,
    "start_time": "2023-06-21T08:46:15.857Z"
   },
   {
    "duration": 28891,
    "start_time": "2023-06-21T08:46:15.863Z"
   },
   {
    "duration": 4,
    "start_time": "2023-06-21T08:46:44.756Z"
   },
   {
    "duration": 577,
    "start_time": "2023-06-21T08:46:44.762Z"
   },
   {
    "duration": 2,
    "start_time": "2023-06-21T08:46:45.341Z"
   },
   {
    "duration": 21919,
    "start_time": "2023-06-21T08:46:45.355Z"
   },
   {
    "duration": 17,
    "start_time": "2023-06-21T08:47:07.276Z"
   },
   {
    "duration": 675,
    "start_time": "2023-06-21T08:47:07.356Z"
   },
   {
    "duration": 28293,
    "start_time": "2023-06-21T08:47:24.463Z"
   },
   {
    "duration": 5201,
    "start_time": "2023-06-21T08:47:52.759Z"
   },
   {
    "duration": 5,
    "start_time": "2023-06-21T08:48:52.960Z"
   },
   {
    "duration": 2060,
    "start_time": "2023-06-21T08:48:55.529Z"
   },
   {
    "duration": 3,
    "start_time": "2023-06-21T08:48:57.592Z"
   },
   {
    "duration": 67,
    "start_time": "2023-06-21T08:48:57.597Z"
   },
   {
    "duration": 6,
    "start_time": "2023-06-21T08:48:57.666Z"
   },
   {
    "duration": 18,
    "start_time": "2023-06-21T08:48:57.674Z"
   },
   {
    "duration": 18,
    "start_time": "2023-06-21T08:48:57.694Z"
   },
   {
    "duration": 14,
    "start_time": "2023-06-21T08:48:57.714Z"
   },
   {
    "duration": 29,
    "start_time": "2023-06-21T08:48:57.730Z"
   },
   {
    "duration": 26,
    "start_time": "2023-06-21T08:48:57.760Z"
   },
   {
    "duration": 34,
    "start_time": "2023-06-21T08:48:57.787Z"
   },
   {
    "duration": 740,
    "start_time": "2023-06-21T08:48:57.823Z"
   },
   {
    "duration": 321,
    "start_time": "2023-06-21T08:48:58.565Z"
   },
   {
    "duration": 17,
    "start_time": "2023-06-21T08:48:58.888Z"
   },
   {
    "duration": 15,
    "start_time": "2023-06-21T08:48:58.908Z"
   },
   {
    "duration": 32,
    "start_time": "2023-06-21T08:48:58.925Z"
   },
   {
    "duration": 17,
    "start_time": "2023-06-21T08:48:58.958Z"
   },
   {
    "duration": 18,
    "start_time": "2023-06-21T08:48:58.977Z"
   },
   {
    "duration": 11,
    "start_time": "2023-06-21T08:48:58.997Z"
   },
   {
    "duration": 15,
    "start_time": "2023-06-21T08:48:59.009Z"
   },
   {
    "duration": 25,
    "start_time": "2023-06-21T08:48:59.027Z"
   },
   {
    "duration": 37,
    "start_time": "2023-06-21T08:48:59.055Z"
   },
   {
    "duration": 15,
    "start_time": "2023-06-21T08:48:59.094Z"
   },
   {
    "duration": 6,
    "start_time": "2023-06-21T08:48:59.111Z"
   },
   {
    "duration": 4,
    "start_time": "2023-06-21T08:48:59.118Z"
   },
   {
    "duration": 8,
    "start_time": "2023-06-21T08:48:59.123Z"
   },
   {
    "duration": 5130,
    "start_time": "2023-06-21T08:48:59.132Z"
   },
   {
    "duration": 5,
    "start_time": "2023-06-21T08:49:04.264Z"
   },
   {
    "duration": 6,
    "start_time": "2023-06-21T08:49:04.271Z"
   },
   {
    "duration": 654,
    "start_time": "2023-06-21T08:49:04.279Z"
   },
   {
    "duration": 4,
    "start_time": "2023-06-21T08:49:04.935Z"
   },
   {
    "duration": 27729,
    "start_time": "2023-06-21T08:49:04.940Z"
   },
   {
    "duration": 5,
    "start_time": "2023-06-21T08:49:32.671Z"
   },
   {
    "duration": 702,
    "start_time": "2023-06-21T08:49:32.678Z"
   },
   {
    "duration": 2,
    "start_time": "2023-06-21T08:49:33.382Z"
   },
   {
    "duration": 21672,
    "start_time": "2023-06-21T08:49:33.386Z"
   },
   {
    "duration": 4,
    "start_time": "2023-06-21T08:49:55.060Z"
   },
   {
    "duration": 590,
    "start_time": "2023-06-21T08:49:55.066Z"
   },
   {
    "duration": 2191,
    "start_time": "2023-06-21T08:51:51.796Z"
   },
   {
    "duration": 2680,
    "start_time": "2023-06-21T08:51:53.991Z"
   },
   {
    "duration": 56,
    "start_time": "2023-06-21T08:51:56.673Z"
   },
   {
    "duration": 9,
    "start_time": "2023-06-21T08:51:56.731Z"
   },
   {
    "duration": 8,
    "start_time": "2023-06-21T08:51:56.743Z"
   },
   {
    "duration": 6,
    "start_time": "2023-06-21T08:51:56.754Z"
   },
   {
    "duration": 14,
    "start_time": "2023-06-21T08:51:56.762Z"
   },
   {
    "duration": 16,
    "start_time": "2023-06-21T08:51:56.777Z"
   },
   {
    "duration": 14,
    "start_time": "2023-06-21T08:51:56.795Z"
   },
   {
    "duration": 18,
    "start_time": "2023-06-21T08:51:56.810Z"
   },
   {
    "duration": 901,
    "start_time": "2023-06-21T08:51:56.830Z"
   },
   {
    "duration": 180,
    "start_time": "2023-06-21T08:51:57.734Z"
   },
   {
    "duration": 25,
    "start_time": "2023-06-21T08:51:57.916Z"
   },
   {
    "duration": 16,
    "start_time": "2023-06-21T08:51:57.957Z"
   },
   {
    "duration": 6,
    "start_time": "2023-06-21T08:51:57.975Z"
   },
   {
    "duration": 15,
    "start_time": "2023-06-21T08:51:57.982Z"
   },
   {
    "duration": 14,
    "start_time": "2023-06-21T08:51:57.998Z"
   },
   {
    "duration": 7,
    "start_time": "2023-06-21T08:51:58.014Z"
   },
   {
    "duration": 31,
    "start_time": "2023-06-21T08:51:58.024Z"
   },
   {
    "duration": 38,
    "start_time": "2023-06-21T08:51:58.058Z"
   },
   {
    "duration": 6,
    "start_time": "2023-06-21T08:51:58.098Z"
   },
   {
    "duration": 4,
    "start_time": "2023-06-21T08:51:58.105Z"
   },
   {
    "duration": 8,
    "start_time": "2023-06-21T08:51:58.110Z"
   },
   {
    "duration": 2,
    "start_time": "2023-06-21T08:51:58.119Z"
   },
   {
    "duration": 14,
    "start_time": "2023-06-21T08:51:58.154Z"
   },
   {
    "duration": 5093,
    "start_time": "2023-06-21T08:51:58.173Z"
   },
   {
    "duration": 5,
    "start_time": "2023-06-21T08:52:03.268Z"
   },
   {
    "duration": 11,
    "start_time": "2023-06-21T08:52:03.275Z"
   },
   {
    "duration": 787,
    "start_time": "2023-06-21T08:52:03.288Z"
   },
   {
    "duration": 4,
    "start_time": "2023-06-21T08:52:04.077Z"
   },
   {
    "duration": 26180,
    "start_time": "2023-06-21T08:52:04.082Z"
   },
   {
    "duration": 6,
    "start_time": "2023-06-21T08:52:30.265Z"
   },
   {
    "duration": 657,
    "start_time": "2023-06-21T08:52:30.272Z"
   },
   {
    "duration": 3,
    "start_time": "2023-06-21T08:52:30.931Z"
   },
   {
    "duration": 20427,
    "start_time": "2023-06-21T08:52:30.936Z"
   },
   {
    "duration": 5,
    "start_time": "2023-06-21T08:52:51.365Z"
   },
   {
    "duration": 605,
    "start_time": "2023-06-21T08:52:51.372Z"
   },
   {
    "duration": 33597,
    "start_time": "2024-04-05T18:19:14.487Z"
   },
   {
    "duration": 1526,
    "start_time": "2024-04-05T18:19:49.845Z"
   },
   {
    "duration": 94,
    "start_time": "2024-04-05T18:19:56.385Z"
   },
   {
    "duration": 4,
    "start_time": "2024-04-05T18:19:59.509Z"
   },
   {
    "duration": 5,
    "start_time": "2024-04-05T18:19:59.871Z"
   },
   {
    "duration": 3,
    "start_time": "2024-04-05T18:20:05.801Z"
   },
   {
    "duration": 3,
    "start_time": "2024-04-05T18:20:07.484Z"
   },
   {
    "duration": 11,
    "start_time": "2024-04-05T18:20:10.639Z"
   },
   {
    "duration": 5,
    "start_time": "2024-04-05T18:20:13.110Z"
   },
   {
    "duration": 11,
    "start_time": "2024-04-05T18:20:19.263Z"
   },
   {
    "duration": 4,
    "start_time": "2024-04-05T18:20:19.893Z"
   },
   {
    "duration": 11,
    "start_time": "2024-04-05T18:20:31.287Z"
   },
   {
    "duration": 650,
    "start_time": "2024-04-05T18:21:24.314Z"
   },
   {
    "duration": 130,
    "start_time": "2024-04-05T18:21:39.664Z"
   },
   {
    "duration": 16,
    "start_time": "2024-04-05T18:21:42.111Z"
   },
   {
    "duration": 9,
    "start_time": "2024-04-05T18:21:53.325Z"
   },
   {
    "duration": 6,
    "start_time": "2024-04-05T18:21:58.154Z"
   },
   {
    "duration": 7,
    "start_time": "2024-04-05T18:21:59.877Z"
   },
   {
    "duration": 11,
    "start_time": "2024-04-05T18:22:00.565Z"
   },
   {
    "duration": 4,
    "start_time": "2024-04-05T18:22:02.347Z"
   },
   {
    "duration": 4,
    "start_time": "2024-04-05T18:22:02.729Z"
   },
   {
    "duration": 21,
    "start_time": "2024-04-05T18:22:03.287Z"
   },
   {
    "duration": 3,
    "start_time": "2024-04-05T18:24:03.168Z"
   },
   {
    "duration": 2,
    "start_time": "2024-04-05T18:24:03.674Z"
   },
   {
    "duration": 3,
    "start_time": "2024-04-05T18:24:04.171Z"
   },
   {
    "duration": 2831,
    "start_time": "2024-04-05T18:26:35.770Z"
   },
   {
    "duration": 4,
    "start_time": "2024-04-05T18:26:44.714Z"
   },
   {
    "duration": 4,
    "start_time": "2024-04-05T18:26:58.482Z"
   },
   {
    "duration": 481,
    "start_time": "2024-04-05T18:27:00.266Z"
   },
   {
    "duration": 4,
    "start_time": "2024-04-05T18:27:48.753Z"
   },
   {
    "duration": 467,
    "start_time": "2024-04-05T18:27:49.963Z"
   },
   {
    "duration": 17258,
    "start_time": "2024-04-05T18:28:09.940Z"
   },
   {
    "duration": 4,
    "start_time": "2024-04-05T18:28:32.329Z"
   },
   {
    "duration": 472,
    "start_time": "2024-04-05T18:28:34.690Z"
   },
   {
    "duration": 15634,
    "start_time": "2024-04-05T18:29:42.163Z"
   },
   {
    "duration": 3,
    "start_time": "2024-04-05T18:31:12.612Z"
   },
   {
    "duration": 15436,
    "start_time": "2024-04-05T18:31:13.370Z"
   },
   {
    "duration": 5,
    "start_time": "2024-04-05T18:31:33.264Z"
   },
   {
    "duration": 480,
    "start_time": "2024-04-05T18:31:34.618Z"
   }
  ],
  "kernelspec": {
   "display_name": "Python 3 (ipykernel)",
   "language": "python",
   "name": "python3"
  },
  "language_info": {
   "codemirror_mode": {
    "name": "ipython",
    "version": 3
   },
   "file_extension": ".py",
   "mimetype": "text/x-python",
   "name": "python",
   "nbconvert_exporter": "python",
   "pygments_lexer": "ipython3",
   "version": "3.9.5"
  },
  "toc": {
   "base_numbering": 1,
   "nav_menu": {},
   "number_sections": false,
   "sideBar": true,
   "skip_h1_title": false,
   "title_cell": "Table of Contents",
   "title_sidebar": "Contents",
   "toc_cell": false,
   "toc_position": {},
   "toc_section_display": true,
   "toc_window_display": false
  },
  "varInspector": {
   "cols": {
    "lenName": 16,
    "lenType": 16,
    "lenVar": 40
   },
   "kernels_config": {
    "python": {
     "delete_cmd_postfix": "",
     "delete_cmd_prefix": "del ",
     "library": "var_list.py",
     "varRefreshCmd": "print(var_dic_list())"
    },
    "r": {
     "delete_cmd_postfix": ") ",
     "delete_cmd_prefix": "rm(",
     "library": "var_list.r",
     "varRefreshCmd": "cat(var_dic_list()) "
    }
   },
   "types_to_exclude": [
    "module",
    "function",
    "builtin_function_or_method",
    "instance",
    "_Feature"
   ],
   "window_display": false
  }
 },
 "nbformat": 4,
 "nbformat_minor": 5
}
