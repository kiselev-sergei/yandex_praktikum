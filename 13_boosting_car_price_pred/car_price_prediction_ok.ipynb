{
 "cells": [
  {
   "cell_type": "markdown",
   "metadata": {},
   "source": [
    "# Определение стоимости автомобилей"
   ]
  },
  {
   "cell_type": "markdown",
   "metadata": {},
   "source": [
    "Сервис по продаже автомобилей с пробегом «Не бит, не крашен» разрабатывает приложение для привлечения новых клиентов. В нём можно быстро узнать рыночную стоимость своего автомобиля. В вашем распоряжении исторические данные: технические характеристики, комплектации и цены автомобилей. Вам нужно построить модель для определения стоимости. \n",
    "\n",
    "Заказчику важны:\n",
    "\n",
    "- качество предсказания;\n",
    "- скорость предсказания;\n",
    "- время обучения."
   ]
  },
  {
   "cell_type": "markdown",
   "metadata": {},
   "source": [
    "## Подготовка данных"
   ]
  },
  {
   "cell_type": "markdown",
   "metadata": {},
   "source": [
    "Импортируем все необходиые библиотеки, откроем данные, проверим дубликаты. Затем перейдем к обработке пропусков и выбросов."
   ]
  },
  {
   "cell_type": "code",
   "execution_count": 2,
   "metadata": {},
   "outputs": [],
   "source": [
    "import pandas as pd\n",
    "import numpy as np\n",
    "import matplotlib.pyplot as plt\n",
    "import seaborn as sns\n",
    "\n",
    "from sklearn.model_selection import train_test_split, cross_val_score, GridSearchCV\n",
    "from sklearn.preprocessing import OrdinalEncoder, StandardScaler, OneHotEncoder\n",
    "from sklearn.linear_model import LinearRegression\n",
    "from catboost import CatBoostRegressor\n",
    "from lightgbm import LGBMRegressor\n",
    "from sklearn.metrics import mean_squared_error, make_scorer"
   ]
  },
  {
   "cell_type": "code",
   "execution_count": 3,
   "metadata": {},
   "outputs": [
    {
     "name": "stdout",
     "output_type": "stream",
     "text": [
      "<class 'pandas.core.frame.DataFrame'>\n",
      "RangeIndex: 354369 entries, 0 to 354368\n",
      "Data columns (total 16 columns):\n",
      " #   Column             Non-Null Count   Dtype \n",
      "---  ------             --------------   ----- \n",
      " 0   DateCrawled        354369 non-null  object\n",
      " 1   Price              354369 non-null  int64 \n",
      " 2   VehicleType        316879 non-null  object\n",
      " 3   RegistrationYear   354369 non-null  int64 \n",
      " 4   Gearbox            334536 non-null  object\n",
      " 5   Power              354369 non-null  int64 \n",
      " 6   Model              334664 non-null  object\n",
      " 7   Kilometer          354369 non-null  int64 \n",
      " 8   RegistrationMonth  354369 non-null  int64 \n",
      " 9   FuelType           321474 non-null  object\n",
      " 10  Brand              354369 non-null  object\n",
      " 11  Repaired           283215 non-null  object\n",
      " 12  DateCreated        354369 non-null  object\n",
      " 13  NumberOfPictures   354369 non-null  int64 \n",
      " 14  PostalCode         354369 non-null  int64 \n",
      " 15  LastSeen           354369 non-null  object\n",
      "dtypes: int64(7), object(9)\n",
      "memory usage: 43.3+ MB\n"
     ]
    }
   ],
   "source": [
    "df = pd.read_csv('/datasets/autos.csv')\n",
    "df.info()"
   ]
  },
  {
   "cell_type": "code",
   "execution_count": 4,
   "metadata": {},
   "outputs": [],
   "source": [
    "df.duplicated().sum() # удаляем 4 дубликата\n",
    "df = df.drop_duplicates().reset_index(drop=True)"
   ]
  },
  {
   "cell_type": "code",
   "execution_count": 5,
   "metadata": {
    "scrolled": false
   },
   "outputs": [
    {
     "data": {
      "text/html": [
       "<div>\n",
       "<style scoped>\n",
       "    .dataframe tbody tr th:only-of-type {\n",
       "        vertical-align: middle;\n",
       "    }\n",
       "\n",
       "    .dataframe tbody tr th {\n",
       "        vertical-align: top;\n",
       "    }\n",
       "\n",
       "    .dataframe thead th {\n",
       "        text-align: right;\n",
       "    }\n",
       "</style>\n",
       "<table border=\"1\" class=\"dataframe\">\n",
       "  <thead>\n",
       "    <tr style=\"text-align: right;\">\n",
       "      <th></th>\n",
       "      <th>DateCrawled</th>\n",
       "      <th>Price</th>\n",
       "      <th>VehicleType</th>\n",
       "      <th>RegistrationYear</th>\n",
       "      <th>Gearbox</th>\n",
       "      <th>Power</th>\n",
       "      <th>Model</th>\n",
       "      <th>Kilometer</th>\n",
       "      <th>RegistrationMonth</th>\n",
       "      <th>FuelType</th>\n",
       "      <th>Brand</th>\n",
       "      <th>Repaired</th>\n",
       "      <th>DateCreated</th>\n",
       "      <th>NumberOfPictures</th>\n",
       "      <th>PostalCode</th>\n",
       "      <th>LastSeen</th>\n",
       "    </tr>\n",
       "  </thead>\n",
       "  <tbody>\n",
       "    <tr>\n",
       "      <th>7</th>\n",
       "      <td>2016-03-21 18:54:38</td>\n",
       "      <td>0</td>\n",
       "      <td>sedan</td>\n",
       "      <td>1980</td>\n",
       "      <td>manual</td>\n",
       "      <td>50</td>\n",
       "      <td>other</td>\n",
       "      <td>40000</td>\n",
       "      <td>7</td>\n",
       "      <td>petrol</td>\n",
       "      <td>volkswagen</td>\n",
       "      <td>no</td>\n",
       "      <td>2016-03-21 00:00:00</td>\n",
       "      <td>0</td>\n",
       "      <td>19348</td>\n",
       "      <td>2016-03-25 16:47:58</td>\n",
       "    </tr>\n",
       "    <tr>\n",
       "      <th>40</th>\n",
       "      <td>2016-03-26 22:06:17</td>\n",
       "      <td>0</td>\n",
       "      <td>NaN</td>\n",
       "      <td>1990</td>\n",
       "      <td>NaN</td>\n",
       "      <td>0</td>\n",
       "      <td>corsa</td>\n",
       "      <td>150000</td>\n",
       "      <td>1</td>\n",
       "      <td>petrol</td>\n",
       "      <td>opel</td>\n",
       "      <td>NaN</td>\n",
       "      <td>2016-03-26 00:00:00</td>\n",
       "      <td>0</td>\n",
       "      <td>56412</td>\n",
       "      <td>2016-03-27 17:43:34</td>\n",
       "    </tr>\n",
       "    <tr>\n",
       "      <th>111</th>\n",
       "      <td>2016-03-19 18:40:12</td>\n",
       "      <td>0</td>\n",
       "      <td>NaN</td>\n",
       "      <td>2017</td>\n",
       "      <td>manual</td>\n",
       "      <td>0</td>\n",
       "      <td>golf</td>\n",
       "      <td>5000</td>\n",
       "      <td>12</td>\n",
       "      <td>petrol</td>\n",
       "      <td>volkswagen</td>\n",
       "      <td>NaN</td>\n",
       "      <td>2016-03-19 00:00:00</td>\n",
       "      <td>0</td>\n",
       "      <td>21698</td>\n",
       "      <td>2016-04-01 08:47:05</td>\n",
       "    </tr>\n",
       "    <tr>\n",
       "      <th>115</th>\n",
       "      <td>2016-03-20 18:53:27</td>\n",
       "      <td>0</td>\n",
       "      <td>small</td>\n",
       "      <td>1999</td>\n",
       "      <td>NaN</td>\n",
       "      <td>0</td>\n",
       "      <td>NaN</td>\n",
       "      <td>5000</td>\n",
       "      <td>0</td>\n",
       "      <td>petrol</td>\n",
       "      <td>volkswagen</td>\n",
       "      <td>NaN</td>\n",
       "      <td>2016-03-20 00:00:00</td>\n",
       "      <td>0</td>\n",
       "      <td>37520</td>\n",
       "      <td>2016-04-07 02:45:22</td>\n",
       "    </tr>\n",
       "    <tr>\n",
       "      <th>152</th>\n",
       "      <td>2016-03-11 18:55:53</td>\n",
       "      <td>0</td>\n",
       "      <td>bus</td>\n",
       "      <td>2004</td>\n",
       "      <td>manual</td>\n",
       "      <td>101</td>\n",
       "      <td>meriva</td>\n",
       "      <td>150000</td>\n",
       "      <td>10</td>\n",
       "      <td>lpg</td>\n",
       "      <td>opel</td>\n",
       "      <td>yes</td>\n",
       "      <td>2016-03-11 00:00:00</td>\n",
       "      <td>0</td>\n",
       "      <td>27432</td>\n",
       "      <td>2016-03-12 23:47:10</td>\n",
       "    </tr>\n",
       "    <tr>\n",
       "      <th>...</th>\n",
       "      <td>...</td>\n",
       "      <td>...</td>\n",
       "      <td>...</td>\n",
       "      <td>...</td>\n",
       "      <td>...</td>\n",
       "      <td>...</td>\n",
       "      <td>...</td>\n",
       "      <td>...</td>\n",
       "      <td>...</td>\n",
       "      <td>...</td>\n",
       "      <td>...</td>\n",
       "      <td>...</td>\n",
       "      <td>...</td>\n",
       "      <td>...</td>\n",
       "      <td>...</td>\n",
       "      <td>...</td>\n",
       "    </tr>\n",
       "    <tr>\n",
       "      <th>354201</th>\n",
       "      <td>2016-03-09 15:56:30</td>\n",
       "      <td>0</td>\n",
       "      <td>NaN</td>\n",
       "      <td>2000</td>\n",
       "      <td>manual</td>\n",
       "      <td>65</td>\n",
       "      <td>corsa</td>\n",
       "      <td>150000</td>\n",
       "      <td>0</td>\n",
       "      <td>NaN</td>\n",
       "      <td>opel</td>\n",
       "      <td>yes</td>\n",
       "      <td>2016-03-09 00:00:00</td>\n",
       "      <td>0</td>\n",
       "      <td>23758</td>\n",
       "      <td>2016-03-30 11:16:08</td>\n",
       "    </tr>\n",
       "    <tr>\n",
       "      <th>354234</th>\n",
       "      <td>2016-03-20 14:55:07</td>\n",
       "      <td>0</td>\n",
       "      <td>small</td>\n",
       "      <td>2002</td>\n",
       "      <td>manual</td>\n",
       "      <td>60</td>\n",
       "      <td>fiesta</td>\n",
       "      <td>150000</td>\n",
       "      <td>3</td>\n",
       "      <td>petrol</td>\n",
       "      <td>ford</td>\n",
       "      <td>NaN</td>\n",
       "      <td>2016-03-20 00:00:00</td>\n",
       "      <td>0</td>\n",
       "      <td>33659</td>\n",
       "      <td>2016-04-06 18:45:23</td>\n",
       "    </tr>\n",
       "    <tr>\n",
       "      <th>354244</th>\n",
       "      <td>2016-03-24 13:48:05</td>\n",
       "      <td>0</td>\n",
       "      <td>small</td>\n",
       "      <td>1999</td>\n",
       "      <td>manual</td>\n",
       "      <td>53</td>\n",
       "      <td>swift</td>\n",
       "      <td>150000</td>\n",
       "      <td>3</td>\n",
       "      <td>petrol</td>\n",
       "      <td>suzuki</td>\n",
       "      <td>NaN</td>\n",
       "      <td>2016-03-24 00:00:00</td>\n",
       "      <td>0</td>\n",
       "      <td>42329</td>\n",
       "      <td>2016-04-07 05:17:24</td>\n",
       "    </tr>\n",
       "    <tr>\n",
       "      <th>354273</th>\n",
       "      <td>2016-03-10 22:55:50</td>\n",
       "      <td>0</td>\n",
       "      <td>small</td>\n",
       "      <td>1999</td>\n",
       "      <td>manual</td>\n",
       "      <td>37</td>\n",
       "      <td>arosa</td>\n",
       "      <td>150000</td>\n",
       "      <td>7</td>\n",
       "      <td>petrol</td>\n",
       "      <td>seat</td>\n",
       "      <td>yes</td>\n",
       "      <td>2016-03-10 00:00:00</td>\n",
       "      <td>0</td>\n",
       "      <td>22559</td>\n",
       "      <td>2016-03-12 23:46:32</td>\n",
       "    </tr>\n",
       "    <tr>\n",
       "      <th>354360</th>\n",
       "      <td>2016-03-21 09:50:58</td>\n",
       "      <td>0</td>\n",
       "      <td>NaN</td>\n",
       "      <td>2005</td>\n",
       "      <td>manual</td>\n",
       "      <td>0</td>\n",
       "      <td>colt</td>\n",
       "      <td>150000</td>\n",
       "      <td>7</td>\n",
       "      <td>petrol</td>\n",
       "      <td>mitsubishi</td>\n",
       "      <td>yes</td>\n",
       "      <td>2016-03-21 00:00:00</td>\n",
       "      <td>0</td>\n",
       "      <td>2694</td>\n",
       "      <td>2016-03-21 10:42:49</td>\n",
       "    </tr>\n",
       "  </tbody>\n",
       "</table>\n",
       "<p>10772 rows × 16 columns</p>\n",
       "</div>"
      ],
      "text/plain": [
       "                DateCrawled  Price VehicleType  RegistrationYear Gearbox  \\\n",
       "7       2016-03-21 18:54:38      0       sedan              1980  manual   \n",
       "40      2016-03-26 22:06:17      0         NaN              1990     NaN   \n",
       "111     2016-03-19 18:40:12      0         NaN              2017  manual   \n",
       "115     2016-03-20 18:53:27      0       small              1999     NaN   \n",
       "152     2016-03-11 18:55:53      0         bus              2004  manual   \n",
       "...                     ...    ...         ...               ...     ...   \n",
       "354201  2016-03-09 15:56:30      0         NaN              2000  manual   \n",
       "354234  2016-03-20 14:55:07      0       small              2002  manual   \n",
       "354244  2016-03-24 13:48:05      0       small              1999  manual   \n",
       "354273  2016-03-10 22:55:50      0       small              1999  manual   \n",
       "354360  2016-03-21 09:50:58      0         NaN              2005  manual   \n",
       "\n",
       "        Power   Model  Kilometer  RegistrationMonth FuelType       Brand  \\\n",
       "7          50   other      40000                  7   petrol  volkswagen   \n",
       "40          0   corsa     150000                  1   petrol        opel   \n",
       "111         0    golf       5000                 12   petrol  volkswagen   \n",
       "115         0     NaN       5000                  0   petrol  volkswagen   \n",
       "152       101  meriva     150000                 10      lpg        opel   \n",
       "...       ...     ...        ...                ...      ...         ...   \n",
       "354201     65   corsa     150000                  0      NaN        opel   \n",
       "354234     60  fiesta     150000                  3   petrol        ford   \n",
       "354244     53   swift     150000                  3   petrol      suzuki   \n",
       "354273     37   arosa     150000                  7   petrol        seat   \n",
       "354360      0    colt     150000                  7   petrol  mitsubishi   \n",
       "\n",
       "       Repaired          DateCreated  NumberOfPictures  PostalCode  \\\n",
       "7            no  2016-03-21 00:00:00                 0       19348   \n",
       "40          NaN  2016-03-26 00:00:00                 0       56412   \n",
       "111         NaN  2016-03-19 00:00:00                 0       21698   \n",
       "115         NaN  2016-03-20 00:00:00                 0       37520   \n",
       "152         yes  2016-03-11 00:00:00                 0       27432   \n",
       "...         ...                  ...               ...         ...   \n",
       "354201      yes  2016-03-09 00:00:00                 0       23758   \n",
       "354234      NaN  2016-03-20 00:00:00                 0       33659   \n",
       "354244      NaN  2016-03-24 00:00:00                 0       42329   \n",
       "354273      yes  2016-03-10 00:00:00                 0       22559   \n",
       "354360      yes  2016-03-21 00:00:00                 0        2694   \n",
       "\n",
       "                   LastSeen  \n",
       "7       2016-03-25 16:47:58  \n",
       "40      2016-03-27 17:43:34  \n",
       "111     2016-04-01 08:47:05  \n",
       "115     2016-04-07 02:45:22  \n",
       "152     2016-03-12 23:47:10  \n",
       "...                     ...  \n",
       "354201  2016-03-30 11:16:08  \n",
       "354234  2016-04-06 18:45:23  \n",
       "354244  2016-04-07 05:17:24  \n",
       "354273  2016-03-12 23:46:32  \n",
       "354360  2016-03-21 10:42:49  \n",
       "\n",
       "[10772 rows x 16 columns]"
      ]
     },
     "execution_count": 5,
     "metadata": {},
     "output_type": "execute_result"
    }
   ],
   "source": [
    "df.query('Price == 0')"
   ]
  },
  {
   "cell_type": "markdown",
   "metadata": {},
   "source": [
    "Поскольку Price это целевой признак, восстановить его по медиане или еще каким-то образом будет противоречить природе создания модели машинного обучения на этом же признаке. 10+ тысяч строк без указанной цены - меньше 3% датасета, удаляем."
   ]
  },
  {
   "cell_type": "code",
   "execution_count": 6,
   "metadata": {},
   "outputs": [],
   "source": [
    "df = df.query('Price > 0').reset_index(drop=True)"
   ]
  },
  {
   "cell_type": "markdown",
   "metadata": {},
   "source": [
    "Сузим поле работы: избавимся от неинформативных признаков-столбцов."
   ]
  },
  {
   "cell_type": "code",
   "execution_count": 7,
   "metadata": {
    "scrolled": true
   },
   "outputs": [
    {
     "name": "stdout",
     "output_type": "stream",
     "text": [
      "CPU times: user 257 ms, sys: 105 µs, total: 257 ms\n",
      "Wall time: 256 ms\n"
     ]
    },
    {
     "data": {
      "text/plain": [
       "2016-03-24 14:49:47    7\n",
       "2016-03-19 21:49:56    6\n",
       "2016-03-26 22:57:31    6\n",
       "2016-03-05 14:44:30    5\n",
       "2016-03-31 18:50:16    5\n",
       "                      ..\n",
       "2016-03-10 10:50:20    1\n",
       "2016-03-19 20:36:19    1\n",
       "2016-03-16 14:37:16    1\n",
       "2016-04-04 16:52:57    1\n",
       "2016-03-07 13:50:01    1\n",
       "Name: DateCrawled, Length: 265135, dtype: int64"
      ]
     },
     "execution_count": 7,
     "metadata": {},
     "output_type": "execute_result"
    }
   ],
   "source": [
    "%%time\n",
    "df['DateCrawled'].value_counts()"
   ]
  },
  {
   "cell_type": "markdown",
   "metadata": {},
   "source": [
    "Выглядит бесполезно. Уберем также два других столбца с датами, месяцем регистрации (он избыточен, года регистрации достаточно), количество картинок, почтовый индекс (вряд ли в Европе так отличается цена продажи в зависимости от столицы/провинции, да и выяснить что где предстает проблематичным). "
   ]
  },
  {
   "cell_type": "code",
   "execution_count": 8,
   "metadata": {},
   "outputs": [],
   "source": [
    "df = df[['VehicleType', \n",
    "         'Gearbox', \n",
    "         'Power',\n",
    "         'Kilometer',\n",
    "         'FuelType',\n",
    "         'Brand',\n",
    "         'Model',\n",
    "         'Repaired',\n",
    "         'RegistrationYear',\n",
    "         'Price']]"
   ]
  },
  {
   "cell_type": "code",
   "execution_count": 9,
   "metadata": {},
   "outputs": [
    {
     "name": "stdout",
     "output_type": "stream",
     "text": [
      "<class 'pandas.core.frame.DataFrame'>\n",
      "RangeIndex: 343593 entries, 0 to 343592\n",
      "Data columns (total 10 columns):\n",
      " #   Column            Non-Null Count   Dtype \n",
      "---  ------            --------------   ----- \n",
      " 0   VehicleType       309843 non-null  object\n",
      " 1   Gearbox           326238 non-null  object\n",
      " 2   Power             343593 non-null  int64 \n",
      " 3   Kilometer         343593 non-null  int64 \n",
      " 4   FuelType          314134 non-null  object\n",
      " 5   Brand             343593 non-null  object\n",
      " 6   Model             326072 non-null  object\n",
      " 7   Repaired          277727 non-null  object\n",
      " 8   RegistrationYear  343593 non-null  int64 \n",
      " 9   Price             343593 non-null  int64 \n",
      "dtypes: int64(4), object(6)\n",
      "memory usage: 26.2+ MB\n"
     ]
    }
   ],
   "source": [
    "df.info()"
   ]
  },
  {
   "cell_type": "markdown",
   "metadata": {},
   "source": [
    "Приступаем к предобработке, обработке пропусков и т.д."
   ]
  },
  {
   "cell_type": "code",
   "execution_count": 10,
   "metadata": {},
   "outputs": [
    {
     "data": {
      "image/png": "[encoded data removed]",
      "text/plain": [
       "<Figure size 432x288 with 1 Axes>"
      ]
     },
     "metadata": {
      "needs_background": "light"
     },
     "output_type": "display_data"
    },
    {
     "data": {
      "text/plain": [
       "count    343593.00000\n",
       "mean       2004.08983\n",
       "std          78.41368\n",
       "min        1000.00000\n",
       "25%        1999.00000\n",
       "50%        2003.00000\n",
       "75%        2008.00000\n",
       "max        9999.00000\n",
       "Name: RegistrationYear, dtype: float64"
      ]
     },
     "execution_count": 10,
     "metadata": {},
     "output_type": "execute_result"
    }
   ],
   "source": [
    "df.boxplot('RegistrationYear')\n",
    "plt.show()\n",
    "df['RegistrationYear'].describe()"
   ]
  },
  {
   "cell_type": "markdown",
   "metadata": {},
   "source": [
    "Видим огромное количество аномалий в годах регистрации автомобилей. Отрезаем всё будущее, чтобы удобнее было определить как лучше отрезать прошлое."
   ]
  },
  {
   "cell_type": "code",
   "execution_count": 11,
   "metadata": {},
   "outputs": [
    {
     "data": {
      "text/html": [
       "<div>\n",
       "<style scoped>\n",
       "    .dataframe tbody tr th:only-of-type {\n",
       "        vertical-align: middle;\n",
       "    }\n",
       "\n",
       "    .dataframe tbody tr th {\n",
       "        vertical-align: top;\n",
       "    }\n",
       "\n",
       "    .dataframe thead th {\n",
       "        text-align: right;\n",
       "    }\n",
       "</style>\n",
       "<table border=\"1\" class=\"dataframe\">\n",
       "  <thead>\n",
       "    <tr style=\"text-align: right;\">\n",
       "      <th></th>\n",
       "      <th>VehicleType</th>\n",
       "      <th>Gearbox</th>\n",
       "      <th>Power</th>\n",
       "      <th>Kilometer</th>\n",
       "      <th>FuelType</th>\n",
       "      <th>Brand</th>\n",
       "      <th>Model</th>\n",
       "      <th>Repaired</th>\n",
       "      <th>RegistrationYear</th>\n",
       "      <th>Price</th>\n",
       "    </tr>\n",
       "  </thead>\n",
       "  <tbody>\n",
       "    <tr>\n",
       "      <th>15</th>\n",
       "      <td>NaN</td>\n",
       "      <td>NaN</td>\n",
       "      <td>60</td>\n",
       "      <td>150000</td>\n",
       "      <td>petrol</td>\n",
       "      <td>volkswagen</td>\n",
       "      <td>polo</td>\n",
       "      <td>NaN</td>\n",
       "      <td>2016</td>\n",
       "      <td>300</td>\n",
       "    </tr>\n",
       "    <tr>\n",
       "      <th>30</th>\n",
       "      <td>NaN</td>\n",
       "      <td>manual</td>\n",
       "      <td>60</td>\n",
       "      <td>150000</td>\n",
       "      <td>petrol</td>\n",
       "      <td>renault</td>\n",
       "      <td>clio</td>\n",
       "      <td>NaN</td>\n",
       "      <td>2016</td>\n",
       "      <td>899</td>\n",
       "    </tr>\n",
       "    <tr>\n",
       "      <th>34</th>\n",
       "      <td>NaN</td>\n",
       "      <td>manual</td>\n",
       "      <td>75</td>\n",
       "      <td>150000</td>\n",
       "      <td>petrol</td>\n",
       "      <td>volkswagen</td>\n",
       "      <td>golf</td>\n",
       "      <td>no</td>\n",
       "      <td>2016</td>\n",
       "      <td>350</td>\n",
       "    </tr>\n",
       "    <tr>\n",
       "      <th>36</th>\n",
       "      <td>NaN</td>\n",
       "      <td>NaN</td>\n",
       "      <td>0</td>\n",
       "      <td>150000</td>\n",
       "      <td>gasoline</td>\n",
       "      <td>renault</td>\n",
       "      <td>kangoo</td>\n",
       "      <td>no</td>\n",
       "      <td>2016</td>\n",
       "      <td>1500</td>\n",
       "    </tr>\n",
       "    <tr>\n",
       "      <th>50</th>\n",
       "      <td>NaN</td>\n",
       "      <td>manual</td>\n",
       "      <td>55</td>\n",
       "      <td>5000</td>\n",
       "      <td>NaN</td>\n",
       "      <td>hyundai</td>\n",
       "      <td>other</td>\n",
       "      <td>NaN</td>\n",
       "      <td>2016</td>\n",
       "      <td>1400</td>\n",
       "    </tr>\n",
       "    <tr>\n",
       "      <th>...</th>\n",
       "      <td>...</td>\n",
       "      <td>...</td>\n",
       "      <td>...</td>\n",
       "      <td>...</td>\n",
       "      <td>...</td>\n",
       "      <td>...</td>\n",
       "      <td>...</td>\n",
       "      <td>...</td>\n",
       "      <td>...</td>\n",
       "      <td>...</td>\n",
       "    </tr>\n",
       "    <tr>\n",
       "      <th>343339</th>\n",
       "      <td>NaN</td>\n",
       "      <td>manual</td>\n",
       "      <td>60</td>\n",
       "      <td>150000</td>\n",
       "      <td>petrol</td>\n",
       "      <td>volkswagen</td>\n",
       "      <td>golf</td>\n",
       "      <td>NaN</td>\n",
       "      <td>2016</td>\n",
       "      <td>395</td>\n",
       "    </tr>\n",
       "    <tr>\n",
       "      <th>343347</th>\n",
       "      <td>NaN</td>\n",
       "      <td>manual</td>\n",
       "      <td>60</td>\n",
       "      <td>150000</td>\n",
       "      <td>petrol</td>\n",
       "      <td>opel</td>\n",
       "      <td>astra</td>\n",
       "      <td>yes</td>\n",
       "      <td>2016</td>\n",
       "      <td>299</td>\n",
       "    </tr>\n",
       "    <tr>\n",
       "      <th>343399</th>\n",
       "      <td>NaN</td>\n",
       "      <td>manual</td>\n",
       "      <td>0</td>\n",
       "      <td>150000</td>\n",
       "      <td>gasoline</td>\n",
       "      <td>mitsubishi</td>\n",
       "      <td>colt</td>\n",
       "      <td>no</td>\n",
       "      <td>2016</td>\n",
       "      <td>3000</td>\n",
       "    </tr>\n",
       "    <tr>\n",
       "      <th>343427</th>\n",
       "      <td>NaN</td>\n",
       "      <td>manual</td>\n",
       "      <td>0</td>\n",
       "      <td>150000</td>\n",
       "      <td>NaN</td>\n",
       "      <td>mercedes_benz</td>\n",
       "      <td>clk</td>\n",
       "      <td>yes</td>\n",
       "      <td>2016</td>\n",
       "      <td>1350</td>\n",
       "    </tr>\n",
       "    <tr>\n",
       "      <th>343586</th>\n",
       "      <td>NaN</td>\n",
       "      <td>auto</td>\n",
       "      <td>150</td>\n",
       "      <td>150000</td>\n",
       "      <td>NaN</td>\n",
       "      <td>alfa_romeo</td>\n",
       "      <td>159</td>\n",
       "      <td>no</td>\n",
       "      <td>2016</td>\n",
       "      <td>5250</td>\n",
       "    </tr>\n",
       "  </tbody>\n",
       "</table>\n",
       "<p>8968 rows × 10 columns</p>\n",
       "</div>"
      ],
      "text/plain": [
       "       VehicleType Gearbox  Power  Kilometer  FuelType          Brand   Model  \\\n",
       "15             NaN     NaN     60     150000    petrol     volkswagen    polo   \n",
       "30             NaN  manual     60     150000    petrol        renault    clio   \n",
       "34             NaN  manual     75     150000    petrol     volkswagen    golf   \n",
       "36             NaN     NaN      0     150000  gasoline        renault  kangoo   \n",
       "50             NaN  manual     55       5000       NaN        hyundai   other   \n",
       "...            ...     ...    ...        ...       ...            ...     ...   \n",
       "343339         NaN  manual     60     150000    petrol     volkswagen    golf   \n",
       "343347         NaN  manual     60     150000    petrol           opel   astra   \n",
       "343399         NaN  manual      0     150000  gasoline     mitsubishi    colt   \n",
       "343427         NaN  manual      0     150000       NaN  mercedes_benz     clk   \n",
       "343586         NaN    auto    150     150000       NaN     alfa_romeo     159   \n",
       "\n",
       "       Repaired  RegistrationYear  Price  \n",
       "15          NaN              2016    300  \n",
       "30          NaN              2016    899  \n",
       "34           no              2016    350  \n",
       "36           no              2016   1500  \n",
       "50          NaN              2016   1400  \n",
       "...         ...               ...    ...  \n",
       "343339      NaN              2016    395  \n",
       "343347      yes              2016    299  \n",
       "343399       no              2016   3000  \n",
       "343427      yes              2016   1350  \n",
       "343586       no              2016   5250  \n",
       "\n",
       "[8968 rows x 10 columns]"
      ]
     },
     "execution_count": 11,
     "metadata": {},
     "output_type": "execute_result"
    }
   ],
   "source": [
    "df.loc[df['RegistrationYear'] > 2016]\n",
    "df = df.loc[df['RegistrationYear'] <= 2016]\n",
    "df.loc[df['RegistrationYear'] == 2016]"
   ]
  },
  {
   "cell_type": "code",
   "execution_count": 12,
   "metadata": {},
   "outputs": [
    {
     "data": {
      "image/png": "[encoded data removed]",
      "text/plain": [
       "<Figure size 432x288 with 1 Axes>"
      ]
     },
     "metadata": {
      "needs_background": "light"
     },
     "output_type": "display_data"
    },
    {
     "data": {
      "text/plain": [
       "count    329814.000000\n",
       "mean       2002.461727\n",
       "std          12.963860\n",
       "min        1000.000000\n",
       "25%        1999.000000\n",
       "50%        2003.000000\n",
       "75%        2007.000000\n",
       "max        2016.000000\n",
       "Name: RegistrationYear, dtype: float64"
      ]
     },
     "execution_count": 12,
     "metadata": {},
     "output_type": "execute_result"
    }
   ],
   "source": [
    "df.boxplot('RegistrationYear')\n",
    "plt.show()\n",
    "df['RegistrationYear'].describe()"
   ]
  },
  {
   "cell_type": "markdown",
   "metadata": {},
   "source": [
    "Всё ещё много аномалий. Отрезать придется на глазок: выберем 1950 год, вряд ли в продаже есть реально существенное количество автомобилей, выпущенных ранее."
   ]
  },
  {
   "cell_type": "code",
   "execution_count": 13,
   "metadata": {},
   "outputs": [
    {
     "data": {
      "image/png": "[encoded data removed]",
      "text/plain": [
       "<Figure size 432x288 with 1 Axes>"
      ]
     },
     "metadata": {
      "needs_background": "light"
     },
     "output_type": "display_data"
    }
   ],
   "source": [
    "df = df.loc[df['RegistrationYear'] > 1950]\n",
    "df.boxplot('RegistrationYear')\n",
    "plt.show()"
   ]
  },
  {
   "cell_type": "code",
   "execution_count": 14,
   "metadata": {},
   "outputs": [
    {
     "data": {
      "text/plain": [
       "15578"
      ]
     },
     "execution_count": 14,
     "metadata": {},
     "output_type": "execute_result"
    }
   ],
   "source": [
    "df['Model'].isna().sum()"
   ]
  },
  {
   "cell_type": "markdown",
   "metadata": {},
   "source": [
    "Признак Model является одним из основных для предсказания цены. Пропущено 5% данных в этом признаке. Нет возможности восстановить корректно эти данные, удалим пропуски."
   ]
  },
  {
   "cell_type": "code",
   "execution_count": 15,
   "metadata": {},
   "outputs": [],
   "source": [
    "df = df.loc[~df['Model'].isna()]"
   ]
  },
  {
   "cell_type": "code",
   "execution_count": 16,
   "metadata": {},
   "outputs": [
    {
     "data": {
      "text/plain": [
       "sedan          86317\n",
       "small          74894\n",
       "wagon          61698\n",
       "bus            27424\n",
       "convertible    19028\n",
       "coupe          14764\n",
       "suv            11055\n",
       "other           2640\n",
       "Name: VehicleType, dtype: int64"
      ]
     },
     "execution_count": 16,
     "metadata": {},
     "output_type": "execute_result"
    }
   ],
   "source": [
    "df['VehicleType'].value_counts()"
   ]
  },
  {
   "cell_type": "markdown",
   "metadata": {},
   "source": [
    "Выглядит неплохо, но есть порядка 34000 пропусков. Возможно, получится их восстановить по марке/модели. "
   ]
  },
  {
   "cell_type": "code",
   "execution_count": 17,
   "metadata": {},
   "outputs": [
    {
     "data": {
      "text/html": [
       "<div>\n",
       "<style scoped>\n",
       "    .dataframe tbody tr th:only-of-type {\n",
       "        vertical-align: middle;\n",
       "    }\n",
       "\n",
       "    .dataframe tbody tr th {\n",
       "        vertical-align: top;\n",
       "    }\n",
       "\n",
       "    .dataframe thead th {\n",
       "        text-align: right;\n",
       "    }\n",
       "</style>\n",
       "<table border=\"1\" class=\"dataframe\">\n",
       "  <thead>\n",
       "    <tr style=\"text-align: right;\">\n",
       "      <th></th>\n",
       "      <th>VehicleType</th>\n",
       "      <th>Gearbox</th>\n",
       "      <th>Power</th>\n",
       "      <th>Kilometer</th>\n",
       "      <th>FuelType</th>\n",
       "      <th>Brand</th>\n",
       "      <th>Model</th>\n",
       "      <th>Repaired</th>\n",
       "      <th>RegistrationYear</th>\n",
       "      <th>Price</th>\n",
       "    </tr>\n",
       "  </thead>\n",
       "  <tbody>\n",
       "    <tr>\n",
       "      <th>0</th>\n",
       "      <td>NaN</td>\n",
       "      <td>manual</td>\n",
       "      <td>0</td>\n",
       "      <td>150000</td>\n",
       "      <td>petrol</td>\n",
       "      <td>volkswagen</td>\n",
       "      <td>golf</td>\n",
       "      <td>NaN</td>\n",
       "      <td>1993</td>\n",
       "      <td>480</td>\n",
       "    </tr>\n",
       "    <tr>\n",
       "      <th>15</th>\n",
       "      <td>NaN</td>\n",
       "      <td>NaN</td>\n",
       "      <td>60</td>\n",
       "      <td>150000</td>\n",
       "      <td>petrol</td>\n",
       "      <td>volkswagen</td>\n",
       "      <td>polo</td>\n",
       "      <td>NaN</td>\n",
       "      <td>2016</td>\n",
       "      <td>300</td>\n",
       "    </tr>\n",
       "    <tr>\n",
       "      <th>30</th>\n",
       "      <td>NaN</td>\n",
       "      <td>manual</td>\n",
       "      <td>60</td>\n",
       "      <td>150000</td>\n",
       "      <td>petrol</td>\n",
       "      <td>renault</td>\n",
       "      <td>clio</td>\n",
       "      <td>NaN</td>\n",
       "      <td>2016</td>\n",
       "      <td>899</td>\n",
       "    </tr>\n",
       "    <tr>\n",
       "      <th>34</th>\n",
       "      <td>NaN</td>\n",
       "      <td>manual</td>\n",
       "      <td>75</td>\n",
       "      <td>150000</td>\n",
       "      <td>petrol</td>\n",
       "      <td>volkswagen</td>\n",
       "      <td>golf</td>\n",
       "      <td>no</td>\n",
       "      <td>2016</td>\n",
       "      <td>350</td>\n",
       "    </tr>\n",
       "    <tr>\n",
       "      <th>36</th>\n",
       "      <td>NaN</td>\n",
       "      <td>NaN</td>\n",
       "      <td>0</td>\n",
       "      <td>150000</td>\n",
       "      <td>gasoline</td>\n",
       "      <td>renault</td>\n",
       "      <td>kangoo</td>\n",
       "      <td>no</td>\n",
       "      <td>2016</td>\n",
       "      <td>1500</td>\n",
       "    </tr>\n",
       "    <tr>\n",
       "      <th>50</th>\n",
       "      <td>NaN</td>\n",
       "      <td>manual</td>\n",
       "      <td>55</td>\n",
       "      <td>5000</td>\n",
       "      <td>NaN</td>\n",
       "      <td>hyundai</td>\n",
       "      <td>other</td>\n",
       "      <td>NaN</td>\n",
       "      <td>2016</td>\n",
       "      <td>1400</td>\n",
       "    </tr>\n",
       "    <tr>\n",
       "      <th>69</th>\n",
       "      <td>NaN</td>\n",
       "      <td>manual</td>\n",
       "      <td>150</td>\n",
       "      <td>150000</td>\n",
       "      <td>NaN</td>\n",
       "      <td>bmw</td>\n",
       "      <td>5er</td>\n",
       "      <td>no</td>\n",
       "      <td>1997</td>\n",
       "      <td>2300</td>\n",
       "    </tr>\n",
       "    <tr>\n",
       "      <th>75</th>\n",
       "      <td>NaN</td>\n",
       "      <td>manual</td>\n",
       "      <td>90</td>\n",
       "      <td>150000</td>\n",
       "      <td>gasoline</td>\n",
       "      <td>volkswagen</td>\n",
       "      <td>golf</td>\n",
       "      <td>NaN</td>\n",
       "      <td>2000</td>\n",
       "      <td>800</td>\n",
       "    </tr>\n",
       "    <tr>\n",
       "      <th>77</th>\n",
       "      <td>NaN</td>\n",
       "      <td>manual</td>\n",
       "      <td>75</td>\n",
       "      <td>150000</td>\n",
       "      <td>petrol</td>\n",
       "      <td>opel</td>\n",
       "      <td>astra</td>\n",
       "      <td>yes</td>\n",
       "      <td>2016</td>\n",
       "      <td>150</td>\n",
       "    </tr>\n",
       "    <tr>\n",
       "      <th>90</th>\n",
       "      <td>NaN</td>\n",
       "      <td>NaN</td>\n",
       "      <td>60</td>\n",
       "      <td>150000</td>\n",
       "      <td>NaN</td>\n",
       "      <td>ford</td>\n",
       "      <td>ka</td>\n",
       "      <td>NaN</td>\n",
       "      <td>2000</td>\n",
       "      <td>250</td>\n",
       "    </tr>\n",
       "    <tr>\n",
       "      <th>92</th>\n",
       "      <td>NaN</td>\n",
       "      <td>NaN</td>\n",
       "      <td>0</td>\n",
       "      <td>150000</td>\n",
       "      <td>NaN</td>\n",
       "      <td>opel</td>\n",
       "      <td>insignia</td>\n",
       "      <td>NaN</td>\n",
       "      <td>2009</td>\n",
       "      <td>8390</td>\n",
       "    </tr>\n",
       "    <tr>\n",
       "      <th>105</th>\n",
       "      <td>NaN</td>\n",
       "      <td>manual</td>\n",
       "      <td>90</td>\n",
       "      <td>150000</td>\n",
       "      <td>petrol</td>\n",
       "      <td>honda</td>\n",
       "      <td>civic</td>\n",
       "      <td>NaN</td>\n",
       "      <td>1995</td>\n",
       "      <td>900</td>\n",
       "    </tr>\n",
       "    <tr>\n",
       "      <th>122</th>\n",
       "      <td>NaN</td>\n",
       "      <td>manual</td>\n",
       "      <td>0</td>\n",
       "      <td>100000</td>\n",
       "      <td>petrol</td>\n",
       "      <td>volkswagen</td>\n",
       "      <td>golf</td>\n",
       "      <td>no</td>\n",
       "      <td>2009</td>\n",
       "      <td>8000</td>\n",
       "    </tr>\n",
       "    <tr>\n",
       "      <th>126</th>\n",
       "      <td>NaN</td>\n",
       "      <td>NaN</td>\n",
       "      <td>0</td>\n",
       "      <td>150000</td>\n",
       "      <td>NaN</td>\n",
       "      <td>bmw</td>\n",
       "      <td>3er</td>\n",
       "      <td>NaN</td>\n",
       "      <td>2000</td>\n",
       "      <td>3390</td>\n",
       "    </tr>\n",
       "    <tr>\n",
       "      <th>141</th>\n",
       "      <td>NaN</td>\n",
       "      <td>NaN</td>\n",
       "      <td>0</td>\n",
       "      <td>150000</td>\n",
       "      <td>petrol</td>\n",
       "      <td>audi</td>\n",
       "      <td>100</td>\n",
       "      <td>NaN</td>\n",
       "      <td>1985</td>\n",
       "      <td>150</td>\n",
       "    </tr>\n",
       "    <tr>\n",
       "      <th>143</th>\n",
       "      <td>NaN</td>\n",
       "      <td>manual</td>\n",
       "      <td>0</td>\n",
       "      <td>40000</td>\n",
       "      <td>NaN</td>\n",
       "      <td>fiat</td>\n",
       "      <td>punto</td>\n",
       "      <td>yes</td>\n",
       "      <td>2005</td>\n",
       "      <td>300</td>\n",
       "    </tr>\n",
       "    <tr>\n",
       "      <th>175</th>\n",
       "      <td>NaN</td>\n",
       "      <td>auto</td>\n",
       "      <td>75</td>\n",
       "      <td>150000</td>\n",
       "      <td>petrol</td>\n",
       "      <td>skoda</td>\n",
       "      <td>fabia</td>\n",
       "      <td>NaN</td>\n",
       "      <td>2016</td>\n",
       "      <td>3000</td>\n",
       "    </tr>\n",
       "    <tr>\n",
       "      <th>194</th>\n",
       "      <td>NaN</td>\n",
       "      <td>manual</td>\n",
       "      <td>110</td>\n",
       "      <td>150000</td>\n",
       "      <td>gasoline</td>\n",
       "      <td>nissan</td>\n",
       "      <td>almera</td>\n",
       "      <td>NaN</td>\n",
       "      <td>2016</td>\n",
       "      <td>1999</td>\n",
       "    </tr>\n",
       "    <tr>\n",
       "      <th>214</th>\n",
       "      <td>NaN</td>\n",
       "      <td>manual</td>\n",
       "      <td>54</td>\n",
       "      <td>150000</td>\n",
       "      <td>gasoline</td>\n",
       "      <td>volkswagen</td>\n",
       "      <td>caddy</td>\n",
       "      <td>NaN</td>\n",
       "      <td>1985</td>\n",
       "      <td>850</td>\n",
       "    </tr>\n",
       "    <tr>\n",
       "      <th>226</th>\n",
       "      <td>NaN</td>\n",
       "      <td>NaN</td>\n",
       "      <td>75</td>\n",
       "      <td>150000</td>\n",
       "      <td>NaN</td>\n",
       "      <td>volkswagen</td>\n",
       "      <td>golf</td>\n",
       "      <td>NaN</td>\n",
       "      <td>2005</td>\n",
       "      <td>3750</td>\n",
       "    </tr>\n",
       "  </tbody>\n",
       "</table>\n",
       "</div>"
      ],
      "text/plain": [
       "    VehicleType Gearbox  Power  Kilometer  FuelType       Brand     Model  \\\n",
       "0           NaN  manual      0     150000    petrol  volkswagen      golf   \n",
       "15          NaN     NaN     60     150000    petrol  volkswagen      polo   \n",
       "30          NaN  manual     60     150000    petrol     renault      clio   \n",
       "34          NaN  manual     75     150000    petrol  volkswagen      golf   \n",
       "36          NaN     NaN      0     150000  gasoline     renault    kangoo   \n",
       "50          NaN  manual     55       5000       NaN     hyundai     other   \n",
       "69          NaN  manual    150     150000       NaN         bmw       5er   \n",
       "75          NaN  manual     90     150000  gasoline  volkswagen      golf   \n",
       "77          NaN  manual     75     150000    petrol        opel     astra   \n",
       "90          NaN     NaN     60     150000       NaN        ford        ka   \n",
       "92          NaN     NaN      0     150000       NaN        opel  insignia   \n",
       "105         NaN  manual     90     150000    petrol       honda     civic   \n",
       "122         NaN  manual      0     100000    petrol  volkswagen      golf   \n",
       "126         NaN     NaN      0     150000       NaN         bmw       3er   \n",
       "141         NaN     NaN      0     150000    petrol        audi       100   \n",
       "143         NaN  manual      0      40000       NaN        fiat     punto   \n",
       "175         NaN    auto     75     150000    petrol       skoda     fabia   \n",
       "194         NaN  manual    110     150000  gasoline      nissan    almera   \n",
       "214         NaN  manual     54     150000  gasoline  volkswagen     caddy   \n",
       "226         NaN     NaN     75     150000       NaN  volkswagen      golf   \n",
       "\n",
       "    Repaired  RegistrationYear  Price  \n",
       "0        NaN              1993    480  \n",
       "15       NaN              2016    300  \n",
       "30       NaN              2016    899  \n",
       "34        no              2016    350  \n",
       "36        no              2016   1500  \n",
       "50       NaN              2016   1400  \n",
       "69        no              1997   2300  \n",
       "75       NaN              2000    800  \n",
       "77       yes              2016    150  \n",
       "90       NaN              2000    250  \n",
       "92       NaN              2009   8390  \n",
       "105      NaN              1995    900  \n",
       "122       no              2009   8000  \n",
       "126      NaN              2000   3390  \n",
       "141      NaN              1985    150  \n",
       "143      yes              2005    300  \n",
       "175      NaN              2016   3000  \n",
       "194      NaN              2016   1999  \n",
       "214      NaN              1985    850  \n",
       "226      NaN              2005   3750  "
      ]
     },
     "execution_count": 17,
     "metadata": {},
     "output_type": "execute_result"
    }
   ],
   "source": [
    "df.query('VehicleType.isna()' or 'Model.notna()').head(20)"
   ]
  },
  {
   "cell_type": "code",
   "execution_count": 18,
   "metadata": {},
   "outputs": [
    {
     "data": {
      "text/html": [
       "<div>\n",
       "<style scoped>\n",
       "    .dataframe tbody tr th:only-of-type {\n",
       "        vertical-align: middle;\n",
       "    }\n",
       "\n",
       "    .dataframe tbody tr th {\n",
       "        vertical-align: top;\n",
       "    }\n",
       "\n",
       "    .dataframe thead th {\n",
       "        text-align: right;\n",
       "    }\n",
       "</style>\n",
       "<table border=\"1\" class=\"dataframe\">\n",
       "  <thead>\n",
       "    <tr style=\"text-align: right;\">\n",
       "      <th></th>\n",
       "      <th>VehicleType</th>\n",
       "      <th>Gearbox</th>\n",
       "      <th>Power</th>\n",
       "      <th>Kilometer</th>\n",
       "      <th>FuelType</th>\n",
       "      <th>Brand</th>\n",
       "      <th>Model</th>\n",
       "      <th>Repaired</th>\n",
       "      <th>RegistrationYear</th>\n",
       "      <th>Price</th>\n",
       "    </tr>\n",
       "  </thead>\n",
       "  <tbody>\n",
       "    <tr>\n",
       "      <th>0</th>\n",
       "      <td>NaN</td>\n",
       "      <td>manual</td>\n",
       "      <td>0</td>\n",
       "      <td>150000</td>\n",
       "      <td>petrol</td>\n",
       "      <td>volkswagen</td>\n",
       "      <td>golf</td>\n",
       "      <td>NaN</td>\n",
       "      <td>1993</td>\n",
       "      <td>480</td>\n",
       "    </tr>\n",
       "    <tr>\n",
       "      <th>3</th>\n",
       "      <td>small</td>\n",
       "      <td>manual</td>\n",
       "      <td>75</td>\n",
       "      <td>150000</td>\n",
       "      <td>petrol</td>\n",
       "      <td>volkswagen</td>\n",
       "      <td>golf</td>\n",
       "      <td>no</td>\n",
       "      <td>2001</td>\n",
       "      <td>1500</td>\n",
       "    </tr>\n",
       "    <tr>\n",
       "      <th>8</th>\n",
       "      <td>small</td>\n",
       "      <td>manual</td>\n",
       "      <td>101</td>\n",
       "      <td>150000</td>\n",
       "      <td>NaN</td>\n",
       "      <td>volkswagen</td>\n",
       "      <td>golf</td>\n",
       "      <td>NaN</td>\n",
       "      <td>1998</td>\n",
       "      <td>999</td>\n",
       "    </tr>\n",
       "    <tr>\n",
       "      <th>31</th>\n",
       "      <td>sedan</td>\n",
       "      <td>NaN</td>\n",
       "      <td>0</td>\n",
       "      <td>150000</td>\n",
       "      <td>petrol</td>\n",
       "      <td>volkswagen</td>\n",
       "      <td>golf</td>\n",
       "      <td>no</td>\n",
       "      <td>1994</td>\n",
       "      <td>245</td>\n",
       "    </tr>\n",
       "    <tr>\n",
       "      <th>34</th>\n",
       "      <td>NaN</td>\n",
       "      <td>manual</td>\n",
       "      <td>75</td>\n",
       "      <td>150000</td>\n",
       "      <td>petrol</td>\n",
       "      <td>volkswagen</td>\n",
       "      <td>golf</td>\n",
       "      <td>no</td>\n",
       "      <td>2016</td>\n",
       "      <td>350</td>\n",
       "    </tr>\n",
       "    <tr>\n",
       "      <th>56</th>\n",
       "      <td>sedan</td>\n",
       "      <td>manual</td>\n",
       "      <td>101</td>\n",
       "      <td>150000</td>\n",
       "      <td>petrol</td>\n",
       "      <td>volkswagen</td>\n",
       "      <td>golf</td>\n",
       "      <td>no</td>\n",
       "      <td>1998</td>\n",
       "      <td>1000</td>\n",
       "    </tr>\n",
       "    <tr>\n",
       "      <th>72</th>\n",
       "      <td>sedan</td>\n",
       "      <td>manual</td>\n",
       "      <td>105</td>\n",
       "      <td>150000</td>\n",
       "      <td>gasoline</td>\n",
       "      <td>volkswagen</td>\n",
       "      <td>golf</td>\n",
       "      <td>no</td>\n",
       "      <td>2006</td>\n",
       "      <td>6600</td>\n",
       "    </tr>\n",
       "    <tr>\n",
       "      <th>75</th>\n",
       "      <td>NaN</td>\n",
       "      <td>manual</td>\n",
       "      <td>90</td>\n",
       "      <td>150000</td>\n",
       "      <td>gasoline</td>\n",
       "      <td>volkswagen</td>\n",
       "      <td>golf</td>\n",
       "      <td>NaN</td>\n",
       "      <td>2000</td>\n",
       "      <td>800</td>\n",
       "    </tr>\n",
       "    <tr>\n",
       "      <th>110</th>\n",
       "      <td>sedan</td>\n",
       "      <td>manual</td>\n",
       "      <td>265</td>\n",
       "      <td>150000</td>\n",
       "      <td>petrol</td>\n",
       "      <td>volkswagen</td>\n",
       "      <td>golf</td>\n",
       "      <td>no</td>\n",
       "      <td>2002</td>\n",
       "      <td>6300</td>\n",
       "    </tr>\n",
       "    <tr>\n",
       "      <th>120</th>\n",
       "      <td>sedan</td>\n",
       "      <td>manual</td>\n",
       "      <td>54</td>\n",
       "      <td>150000</td>\n",
       "      <td>petrol</td>\n",
       "      <td>volkswagen</td>\n",
       "      <td>golf</td>\n",
       "      <td>no</td>\n",
       "      <td>1990</td>\n",
       "      <td>1000</td>\n",
       "    </tr>\n",
       "    <tr>\n",
       "      <th>122</th>\n",
       "      <td>NaN</td>\n",
       "      <td>manual</td>\n",
       "      <td>0</td>\n",
       "      <td>100000</td>\n",
       "      <td>petrol</td>\n",
       "      <td>volkswagen</td>\n",
       "      <td>golf</td>\n",
       "      <td>no</td>\n",
       "      <td>2009</td>\n",
       "      <td>8000</td>\n",
       "    </tr>\n",
       "    <tr>\n",
       "      <th>132</th>\n",
       "      <td>sedan</td>\n",
       "      <td>manual</td>\n",
       "      <td>90</td>\n",
       "      <td>150000</td>\n",
       "      <td>gasoline</td>\n",
       "      <td>volkswagen</td>\n",
       "      <td>golf</td>\n",
       "      <td>NaN</td>\n",
       "      <td>2005</td>\n",
       "      <td>4300</td>\n",
       "    </tr>\n",
       "    <tr>\n",
       "      <th>142</th>\n",
       "      <td>small</td>\n",
       "      <td>manual</td>\n",
       "      <td>75</td>\n",
       "      <td>150000</td>\n",
       "      <td>petrol</td>\n",
       "      <td>volkswagen</td>\n",
       "      <td>golf</td>\n",
       "      <td>no</td>\n",
       "      <td>1996</td>\n",
       "      <td>1000</td>\n",
       "    </tr>\n",
       "    <tr>\n",
       "      <th>152</th>\n",
       "      <td>sedan</td>\n",
       "      <td>manual</td>\n",
       "      <td>0</td>\n",
       "      <td>10000</td>\n",
       "      <td>petrol</td>\n",
       "      <td>volkswagen</td>\n",
       "      <td>golf</td>\n",
       "      <td>yes</td>\n",
       "      <td>1993</td>\n",
       "      <td>800</td>\n",
       "    </tr>\n",
       "    <tr>\n",
       "      <th>158</th>\n",
       "      <td>sedan</td>\n",
       "      <td>manual</td>\n",
       "      <td>69</td>\n",
       "      <td>125000</td>\n",
       "      <td>petrol</td>\n",
       "      <td>volkswagen</td>\n",
       "      <td>golf</td>\n",
       "      <td>no</td>\n",
       "      <td>1989</td>\n",
       "      <td>850</td>\n",
       "    </tr>\n",
       "    <tr>\n",
       "      <th>183</th>\n",
       "      <td>bus</td>\n",
       "      <td>manual</td>\n",
       "      <td>102</td>\n",
       "      <td>150000</td>\n",
       "      <td>petrol</td>\n",
       "      <td>volkswagen</td>\n",
       "      <td>golf</td>\n",
       "      <td>yes</td>\n",
       "      <td>2006</td>\n",
       "      <td>4900</td>\n",
       "    </tr>\n",
       "    <tr>\n",
       "      <th>184</th>\n",
       "      <td>sedan</td>\n",
       "      <td>auto</td>\n",
       "      <td>250</td>\n",
       "      <td>150000</td>\n",
       "      <td>petrol</td>\n",
       "      <td>volkswagen</td>\n",
       "      <td>golf</td>\n",
       "      <td>no</td>\n",
       "      <td>2006</td>\n",
       "      <td>11299</td>\n",
       "    </tr>\n",
       "    <tr>\n",
       "      <th>185</th>\n",
       "      <td>other</td>\n",
       "      <td>manual</td>\n",
       "      <td>75</td>\n",
       "      <td>150000</td>\n",
       "      <td>petrol</td>\n",
       "      <td>volkswagen</td>\n",
       "      <td>golf</td>\n",
       "      <td>no</td>\n",
       "      <td>1997</td>\n",
       "      <td>550</td>\n",
       "    </tr>\n",
       "    <tr>\n",
       "      <th>189</th>\n",
       "      <td>wagon</td>\n",
       "      <td>manual</td>\n",
       "      <td>90</td>\n",
       "      <td>150000</td>\n",
       "      <td>gasoline</td>\n",
       "      <td>volkswagen</td>\n",
       "      <td>golf</td>\n",
       "      <td>no</td>\n",
       "      <td>1999</td>\n",
       "      <td>1800</td>\n",
       "    </tr>\n",
       "    <tr>\n",
       "      <th>203</th>\n",
       "      <td>sedan</td>\n",
       "      <td>manual</td>\n",
       "      <td>80</td>\n",
       "      <td>50000</td>\n",
       "      <td>petrol</td>\n",
       "      <td>volkswagen</td>\n",
       "      <td>golf</td>\n",
       "      <td>no</td>\n",
       "      <td>2010</td>\n",
       "      <td>8500</td>\n",
       "    </tr>\n",
       "  </tbody>\n",
       "</table>\n",
       "</div>"
      ],
      "text/plain": [
       "    VehicleType Gearbox  Power  Kilometer  FuelType       Brand Model  \\\n",
       "0           NaN  manual      0     150000    petrol  volkswagen  golf   \n",
       "3         small  manual     75     150000    petrol  volkswagen  golf   \n",
       "8         small  manual    101     150000       NaN  volkswagen  golf   \n",
       "31        sedan     NaN      0     150000    petrol  volkswagen  golf   \n",
       "34          NaN  manual     75     150000    petrol  volkswagen  golf   \n",
       "56        sedan  manual    101     150000    petrol  volkswagen  golf   \n",
       "72        sedan  manual    105     150000  gasoline  volkswagen  golf   \n",
       "75          NaN  manual     90     150000  gasoline  volkswagen  golf   \n",
       "110       sedan  manual    265     150000    petrol  volkswagen  golf   \n",
       "120       sedan  manual     54     150000    petrol  volkswagen  golf   \n",
       "122         NaN  manual      0     100000    petrol  volkswagen  golf   \n",
       "132       sedan  manual     90     150000  gasoline  volkswagen  golf   \n",
       "142       small  manual     75     150000    petrol  volkswagen  golf   \n",
       "152       sedan  manual      0      10000    petrol  volkswagen  golf   \n",
       "158       sedan  manual     69     125000    petrol  volkswagen  golf   \n",
       "183         bus  manual    102     150000    petrol  volkswagen  golf   \n",
       "184       sedan    auto    250     150000    petrol  volkswagen  golf   \n",
       "185       other  manual     75     150000    petrol  volkswagen  golf   \n",
       "189       wagon  manual     90     150000  gasoline  volkswagen  golf   \n",
       "203       sedan  manual     80      50000    petrol  volkswagen  golf   \n",
       "\n",
       "    Repaired  RegistrationYear  Price  \n",
       "0        NaN              1993    480  \n",
       "3         no              2001   1500  \n",
       "8        NaN              1998    999  \n",
       "31        no              1994    245  \n",
       "34        no              2016    350  \n",
       "56        no              1998   1000  \n",
       "72        no              2006   6600  \n",
       "75       NaN              2000    800  \n",
       "110       no              2002   6300  \n",
       "120       no              1990   1000  \n",
       "122       no              2009   8000  \n",
       "132      NaN              2005   4300  \n",
       "142       no              1996   1000  \n",
       "152      yes              1993    800  \n",
       "158       no              1989    850  \n",
       "183      yes              2006   4900  \n",
       "184       no              2006  11299  \n",
       "185       no              1997    550  \n",
       "189       no              1999   1800  \n",
       "203       no              2010   8500  "
      ]
     },
     "execution_count": 18,
     "metadata": {},
     "output_type": "execute_result"
    }
   ],
   "source": [
    "df.query('Model == \"golf\"').head(20)"
   ]
  },
  {
   "cell_type": "markdown",
   "metadata": {},
   "source": [
    "Странно: среди \"гольфов\" есть и седаны, и \"маленькие\" машины (хэтчбэки?..) и даже типы wagon & bus ! Вероятно, в данных есть ошибки, но реально ли избавиться от них всех? Самым простым решением представляется заполнить пропуски в данных признаках (отнесём сюда же Gearbox & FuelType) самым частым значением по той же модели. "
   ]
  },
  {
   "cell_type": "code",
   "execution_count": 19,
   "metadata": {},
   "outputs": [],
   "source": [
    "df['VehicleType'] = df['VehicleType'].fillna(df.groupby('Model')['VehicleType'].transform(lambda x: x.value_counts().idxmax()))"
   ]
  },
  {
   "cell_type": "code",
   "execution_count": 20,
   "metadata": {},
   "outputs": [],
   "source": [
    "df['FuelType'] = df['FuelType'].fillna(df.groupby('Model')['FuelType'].transform(lambda x: x.value_counts().idxmax()))"
   ]
  },
  {
   "cell_type": "code",
   "execution_count": 21,
   "metadata": {},
   "outputs": [],
   "source": [
    "df['Gearbox'] = df['Gearbox'].fillna(df.groupby('Model')['Gearbox'].transform(lambda x: x.value_counts().idxmax()))"
   ]
  },
  {
   "cell_type": "code",
   "execution_count": 22,
   "metadata": {},
   "outputs": [],
   "source": [
    "df['Repaired'] = df['Repaired'].fillna('unknown')"
   ]
  },
  {
   "cell_type": "code",
   "execution_count": 23,
   "metadata": {
    "scrolled": true
   },
   "outputs": [
    {
     "name": "stdout",
     "output_type": "stream",
     "text": [
      "<class 'pandas.core.frame.DataFrame'>\n",
      "Int64Index: 314040 entries, 0 to 343592\n",
      "Data columns (total 10 columns):\n",
      " #   Column            Non-Null Count   Dtype \n",
      "---  ------            --------------   ----- \n",
      " 0   VehicleType       314040 non-null  object\n",
      " 1   Gearbox           314040 non-null  object\n",
      " 2   Power             314040 non-null  int64 \n",
      " 3   Kilometer         314040 non-null  int64 \n",
      " 4   FuelType          314040 non-null  object\n",
      " 5   Brand             314040 non-null  object\n",
      " 6   Model             314040 non-null  object\n",
      " 7   Repaired          314040 non-null  object\n",
      " 8   RegistrationYear  314040 non-null  int64 \n",
      " 9   Price             314040 non-null  int64 \n",
      "dtypes: int64(4), object(6)\n",
      "memory usage: 26.4+ MB\n"
     ]
    }
   ],
   "source": [
    "df.info()"
   ]
  },
  {
   "cell_type": "markdown",
   "metadata": {},
   "source": [
    "Предобработка пропусков закончена. Осталось проверить другие аномалии."
   ]
  },
  {
   "cell_type": "code",
   "execution_count": 24,
   "metadata": {},
   "outputs": [
    {
     "data": {
      "text/plain": [
       "manual    252294\n",
       "auto       61746\n",
       "Name: Gearbox, dtype: int64"
      ]
     },
     "execution_count": 24,
     "metadata": {},
     "output_type": "execute_result"
    }
   ],
   "source": [
    "df['Gearbox'].value_counts() # всё в норме"
   ]
  },
  {
   "cell_type": "code",
   "execution_count": 25,
   "metadata": {
    "scrolled": false
   },
   "outputs": [
    {
     "data": {
      "image/png": "[encoded data removed]",
      "text/plain": [
       "<Figure size 432x288 with 1 Axes>"
      ]
     },
     "metadata": {
      "needs_background": "light"
     },
     "output_type": "display_data"
    },
    {
     "data": {
      "text/plain": [
       "count    314040.000000\n",
       "mean        112.857187\n",
       "std         179.479775\n",
       "min           0.000000\n",
       "25%          75.000000\n",
       "50%         105.000000\n",
       "75%         143.000000\n",
       "max       20000.000000\n",
       "Name: Power, dtype: float64"
      ]
     },
     "execution_count": 25,
     "metadata": {},
     "output_type": "execute_result"
    }
   ],
   "source": [
    "df['Power'].unique()\n",
    "df.boxplot('Power')\n",
    "plt.show()\n",
    "df['Power'].describe()"
   ]
  },
  {
   "cell_type": "markdown",
   "metadata": {},
   "source": [
    "Видим очень много автомобилей с мощностью свыше 1000 л/с, что неправдоподобно. Заполним все такие значения медианными среди автомобилей той же модели."
   ]
  },
  {
   "cell_type": "code",
   "execution_count": 26,
   "metadata": {},
   "outputs": [],
   "source": [
    "df.loc[(df['Power'] > 600) | (df['Power'] <= 0), 'Power'] = None\n",
    "df['Power'] = df['Power'].fillna(df.groupby('Model')['Power'].transform('median'))\n",
    "df = df.loc[~df['Power'].isna()]\n",
    "df['Power'] = df['Power'].astype('int64')"
   ]
  },
  {
   "cell_type": "code",
   "execution_count": 27,
   "metadata": {},
   "outputs": [
    {
     "data": {
      "text/plain": [
       "<AxesSubplot:xlabel='Power', ylabel='Count'>"
      ]
     },
     "execution_count": 27,
     "metadata": {},
     "output_type": "execute_result"
    },
    {
     "data": {
      "image/png": "[encoded data removed]",
      "text/plain": [
       "<Figure size 432x288 with 1 Axes>"
      ]
     },
     "metadata": {
      "needs_background": "light"
     },
     "output_type": "display_data"
    }
   ],
   "source": [
    "df['Power'].describe()\n",
    "sns.histplot(df['Power'], bins=20)"
   ]
  },
  {
   "cell_type": "code",
   "execution_count": 28,
   "metadata": {},
   "outputs": [
    {
     "data": {
      "text/html": [
       "<div>\n",
       "<style scoped>\n",
       "    .dataframe tbody tr th:only-of-type {\n",
       "        vertical-align: middle;\n",
       "    }\n",
       "\n",
       "    .dataframe tbody tr th {\n",
       "        vertical-align: top;\n",
       "    }\n",
       "\n",
       "    .dataframe thead th {\n",
       "        text-align: right;\n",
       "    }\n",
       "</style>\n",
       "<table border=\"1\" class=\"dataframe\">\n",
       "  <thead>\n",
       "    <tr style=\"text-align: right;\">\n",
       "      <th></th>\n",
       "      <th>VehicleType</th>\n",
       "      <th>Gearbox</th>\n",
       "      <th>Power</th>\n",
       "      <th>Kilometer</th>\n",
       "      <th>FuelType</th>\n",
       "      <th>Brand</th>\n",
       "      <th>Model</th>\n",
       "      <th>Repaired</th>\n",
       "      <th>RegistrationYear</th>\n",
       "      <th>Price</th>\n",
       "    </tr>\n",
       "  </thead>\n",
       "  <tbody>\n",
       "    <tr>\n",
       "      <th>27</th>\n",
       "      <td>bus</td>\n",
       "      <td>manual</td>\n",
       "      <td>50</td>\n",
       "      <td>5000</td>\n",
       "      <td>petrol</td>\n",
       "      <td>volkswagen</td>\n",
       "      <td>transporter</td>\n",
       "      <td>no</td>\n",
       "      <td>1981</td>\n",
       "      <td>1990</td>\n",
       "    </tr>\n",
       "    <tr>\n",
       "      <th>50</th>\n",
       "      <td>sedan</td>\n",
       "      <td>manual</td>\n",
       "      <td>55</td>\n",
       "      <td>5000</td>\n",
       "      <td>petrol</td>\n",
       "      <td>hyundai</td>\n",
       "      <td>other</td>\n",
       "      <td>unknown</td>\n",
       "      <td>2016</td>\n",
       "      <td>1400</td>\n",
       "    </tr>\n",
       "    <tr>\n",
       "      <th>151</th>\n",
       "      <td>suv</td>\n",
       "      <td>auto</td>\n",
       "      <td>194</td>\n",
       "      <td>5000</td>\n",
       "      <td>petrol</td>\n",
       "      <td>kia</td>\n",
       "      <td>sorento</td>\n",
       "      <td>unknown</td>\n",
       "      <td>2007</td>\n",
       "      <td>7500</td>\n",
       "    </tr>\n",
       "    <tr>\n",
       "      <th>152</th>\n",
       "      <td>sedan</td>\n",
       "      <td>manual</td>\n",
       "      <td>101</td>\n",
       "      <td>10000</td>\n",
       "      <td>petrol</td>\n",
       "      <td>volkswagen</td>\n",
       "      <td>golf</td>\n",
       "      <td>yes</td>\n",
       "      <td>1993</td>\n",
       "      <td>800</td>\n",
       "    </tr>\n",
       "    <tr>\n",
       "      <th>173</th>\n",
       "      <td>wagon</td>\n",
       "      <td>auto</td>\n",
       "      <td>110</td>\n",
       "      <td>10000</td>\n",
       "      <td>petrol</td>\n",
       "      <td>skoda</td>\n",
       "      <td>fabia</td>\n",
       "      <td>no</td>\n",
       "      <td>2015</td>\n",
       "      <td>16449</td>\n",
       "    </tr>\n",
       "    <tr>\n",
       "      <th>...</th>\n",
       "      <td>...</td>\n",
       "      <td>...</td>\n",
       "      <td>...</td>\n",
       "      <td>...</td>\n",
       "      <td>...</td>\n",
       "      <td>...</td>\n",
       "      <td>...</td>\n",
       "      <td>...</td>\n",
       "      <td>...</td>\n",
       "      <td>...</td>\n",
       "    </tr>\n",
       "    <tr>\n",
       "      <th>342910</th>\n",
       "      <td>sedan</td>\n",
       "      <td>manual</td>\n",
       "      <td>101</td>\n",
       "      <td>5000</td>\n",
       "      <td>petrol</td>\n",
       "      <td>audi</td>\n",
       "      <td>80</td>\n",
       "      <td>unknown</td>\n",
       "      <td>1990</td>\n",
       "      <td>550</td>\n",
       "    </tr>\n",
       "    <tr>\n",
       "      <th>343048</th>\n",
       "      <td>wagon</td>\n",
       "      <td>auto</td>\n",
       "      <td>150</td>\n",
       "      <td>5000</td>\n",
       "      <td>gasoline</td>\n",
       "      <td>audi</td>\n",
       "      <td>a6</td>\n",
       "      <td>yes</td>\n",
       "      <td>2002</td>\n",
       "      <td>2499</td>\n",
       "    </tr>\n",
       "    <tr>\n",
       "      <th>343105</th>\n",
       "      <td>coupe</td>\n",
       "      <td>manual</td>\n",
       "      <td>116</td>\n",
       "      <td>5000</td>\n",
       "      <td>petrol</td>\n",
       "      <td>ford</td>\n",
       "      <td>other</td>\n",
       "      <td>no</td>\n",
       "      <td>1973</td>\n",
       "      <td>15500</td>\n",
       "    </tr>\n",
       "    <tr>\n",
       "      <th>343312</th>\n",
       "      <td>small</td>\n",
       "      <td>manual</td>\n",
       "      <td>82</td>\n",
       "      <td>5000</td>\n",
       "      <td>petrol</td>\n",
       "      <td>peugeot</td>\n",
       "      <td>1_reihe</td>\n",
       "      <td>no</td>\n",
       "      <td>2015</td>\n",
       "      <td>10985</td>\n",
       "    </tr>\n",
       "    <tr>\n",
       "      <th>343407</th>\n",
       "      <td>small</td>\n",
       "      <td>auto</td>\n",
       "      <td>185</td>\n",
       "      <td>10000</td>\n",
       "      <td>petrol</td>\n",
       "      <td>audi</td>\n",
       "      <td>a1</td>\n",
       "      <td>no</td>\n",
       "      <td>2014</td>\n",
       "      <td>19990</td>\n",
       "    </tr>\n",
       "  </tbody>\n",
       "</table>\n",
       "<p>4929 rows × 10 columns</p>\n",
       "</div>"
      ],
      "text/plain": [
       "       VehicleType Gearbox  Power  Kilometer  FuelType       Brand  \\\n",
       "27             bus  manual     50       5000    petrol  volkswagen   \n",
       "50           sedan  manual     55       5000    petrol     hyundai   \n",
       "151            suv    auto    194       5000    petrol         kia   \n",
       "152          sedan  manual    101      10000    petrol  volkswagen   \n",
       "173          wagon    auto    110      10000    petrol       skoda   \n",
       "...            ...     ...    ...        ...       ...         ...   \n",
       "342910       sedan  manual    101       5000    petrol        audi   \n",
       "343048       wagon    auto    150       5000  gasoline        audi   \n",
       "343105       coupe  manual    116       5000    petrol        ford   \n",
       "343312       small  manual     82       5000    petrol     peugeot   \n",
       "343407       small    auto    185      10000    petrol        audi   \n",
       "\n",
       "              Model Repaired  RegistrationYear  Price  \n",
       "27      transporter       no              1981   1990  \n",
       "50            other  unknown              2016   1400  \n",
       "151         sorento  unknown              2007   7500  \n",
       "152            golf      yes              1993    800  \n",
       "173           fabia       no              2015  16449  \n",
       "...             ...      ...               ...    ...  \n",
       "342910           80  unknown              1990    550  \n",
       "343048           a6      yes              2002   2499  \n",
       "343105        other       no              1973  15500  \n",
       "343312      1_reihe       no              2015  10985  \n",
       "343407           a1       no              2014  19990  \n",
       "\n",
       "[4929 rows x 10 columns]"
      ]
     },
     "execution_count": 28,
     "metadata": {},
     "output_type": "execute_result"
    },
    {
     "data": {
      "image/png": "[encoded data removed]",
      "text/plain": [
       "<Figure size 432x288 with 1 Axes>"
      ]
     },
     "metadata": {
      "needs_background": "light"
     },
     "output_type": "display_data"
    }
   ],
   "source": [
    "sns.histplot(df['Kilometer'], bins=20)\n",
    "#df.boxplot('Kilometer')\n",
    "#plt.show()\n",
    "\n",
    "df.query('Kilometer < 20000')"
   ]
  },
  {
   "cell_type": "markdown",
   "metadata": {},
   "source": [
    "Выглядит вполне естественно для подержанных машин, наверное выбросов нет. Есть, конечно, подозрительно малый пробег местами, но достоверность его установить или опровергнуть невозможно, с машинами бывает всякое."
   ]
  },
  {
   "cell_type": "code",
   "execution_count": 29,
   "metadata": {},
   "outputs": [
    {
     "data": {
      "text/plain": [
       "array(['golf', 'grand', 'fabia', '3er', '2_reihe', 'c_max', '3_reihe',\n",
       "       'passat', 'navara', 'polo', 'twingo', 'a_klasse', 'scirocco',\n",
       "       '5er', 'arosa', 'other', 'civic', 'transporter', 'punto',\n",
       "       'e_klasse', 'clio', 'kadett', 'kangoo', 'one', 'fortwo', '1er',\n",
       "       'b_klasse', 'signum', 'astra', 'a8', 'jetta', 'fiesta', 'c_klasse',\n",
       "       'micra', 'vito', 'sprinter', '156', 'escort', 'forester',\n",
       "       'xc_reihe', 'scenic', 'a4', 'ka', 'a1', 'insignia', 'combo',\n",
       "       'focus', 'tt', 'corsa', 'a6', 'jazz', 'omega', 'slk', '7er', '80',\n",
       "       '147', '100', 'z_reihe', 'sorento', 'v40', 'ibiza', 'mustang',\n",
       "       'eos', 'touran', 'getz', 'a3', 'almera', 'megane', 'lupo', 'r19',\n",
       "       'caddy', 'mondeo', 'cordoba', 'colt', 'impreza', 'vectra',\n",
       "       'berlingo', 'tiguan', 'sharan', '6_reihe', 'c4', 'panda', 'up',\n",
       "       'i_reihe', 'ceed', '5_reihe', 'yeti', 'octavia', 'zafira', 'mii',\n",
       "       'rx_reihe', '6er', 'modus', 'fox', 'matiz', 'beetle', 'c1', 'rio',\n",
       "       'touareg', 'logan', 'spider', 'cuore', 's_max', 'a2', 'galaxy',\n",
       "       'c3', 'viano', 's_klasse', '1_reihe', 'avensis', 'roomster', 'sl',\n",
       "       'kaefer', 'santa', 'cooper', 'leon', '4_reihe', 'a5', 'sportage',\n",
       "       'laguna', 'ptcruiser', 'clk', 'primera', 'espace', 'x_reihe',\n",
       "       'exeo', '159', 'transit', 'juke', 'qashqai', 'carisma', 'accord',\n",
       "       'corolla', 'lanos', 'phaeton', 'verso', 'swift', 'rav', 'picanto',\n",
       "       'boxster', 'kalos', 'superb', 'stilo', 'alhambra', 'mx_reihe',\n",
       "       'roadster', 'ypsilon', 'cayenne', 'galant', 'justy', '90',\n",
       "       'sirion', 'crossfire', 'agila', 'duster', 'v50', '500', 'meriva',\n",
       "       'c_reihe', 'v_klasse', 'm_klasse', 'yaris', 'c5', 'aygo',\n",
       "       'seicento', 'cc', 'carnival', 'fusion', '911', 'bora', 'forfour',\n",
       "       'cl', 'tigra', '300c', 'cr_reihe', 'spark', 'v70', 'kuga',\n",
       "       'x_type', 'ducato', 's_type', 'x_trail', 'toledo', 'altea',\n",
       "       'voyager', 'calibra', 'bravo', 'antara', 'tucson', 'citigo',\n",
       "       'jimny', 'wrangler', 'lybra', 'q7', 'lancer', 'captiva',\n",
       "       'discovery', 'freelander', 'sandero', 'note', '900', 'cherokee',\n",
       "       'clubman', 'samara', 'defender', 'cx_reihe', 'legacy', 'pajero',\n",
       "       'auris', 'c2', 'niva', 's60', 'm_reihe', 'nubira', 'vivaro',\n",
       "       'g_klasse', 'lodgy', '850', 'range_rover', '601', 'q3', 'serie_2',\n",
       "       'glk', 'charade', 'croma', 'outlander', 'doblo', 'musa', 'move',\n",
       "       '9000', 'v60', '145', '200', 'b_max', 'range_rover_sport', 'aveo',\n",
       "       'terios', 'rangerover', 'q5', 'range_rover_evoque', 'materia',\n",
       "       'delta', 'gl', 'kalina', 'elefantino', 'i3', 'amarok', 'kappa',\n",
       "       'serie_3'], dtype=object)"
      ]
     },
     "execution_count": 29,
     "metadata": {},
     "output_type": "execute_result"
    }
   ],
   "source": [
    "df['Brand'].unique() \n",
    "df['Model'].unique() # опечаток и повторов нет, всё в норме"
   ]
  },
  {
   "cell_type": "code",
   "execution_count": 30,
   "metadata": {},
   "outputs": [
    {
     "data": {
      "text/plain": [
       "count    314039.000000\n",
       "mean       4671.516624\n",
       "std        4558.489958\n",
       "min           1.000000\n",
       "5%          378.900000\n",
       "25%        1250.000000\n",
       "50%        2990.000000\n",
       "75%        6790.000000\n",
       "max       20000.000000\n",
       "Name: Price, dtype: float64"
      ]
     },
     "execution_count": 30,
     "metadata": {},
     "output_type": "execute_result"
    }
   ],
   "source": [
    "df['Price'].describe(percentiles=[.05, .25, .5, .75])\n"
   ]
  },
  {
   "cell_type": "markdown",
   "metadata": {},
   "source": [
    "Среди цен есть подозрительно низкие даже для новых машин. Обрезаем пять процентов."
   ]
  },
  {
   "cell_type": "code",
   "execution_count": 31,
   "metadata": {},
   "outputs": [
    {
     "data": {
      "text/plain": [
       "count    297945.000000\n",
       "mean       4911.841417\n",
       "std        4557.928860\n",
       "min         393.000000\n",
       "5%          600.000000\n",
       "25%        1450.000000\n",
       "50%        3200.000000\n",
       "75%        6999.000000\n",
       "max       20000.000000\n",
       "Name: Price, dtype: float64"
      ]
     },
     "execution_count": 31,
     "metadata": {},
     "output_type": "execute_result"
    }
   ],
   "source": [
    "df = df.query('Price > 390').reset_index(drop=True)\n",
    "df['Price'].describe(percentiles=[.05, .25, .5, .75])"
   ]
  },
  {
   "cell_type": "code",
   "execution_count": 32,
   "metadata": {},
   "outputs": [
    {
     "name": "stdout",
     "output_type": "stream",
     "text": [
      "<class 'pandas.core.frame.DataFrame'>\n",
      "RangeIndex: 297945 entries, 0 to 297944\n",
      "Data columns (total 10 columns):\n",
      " #   Column            Non-Null Count   Dtype \n",
      "---  ------            --------------   ----- \n",
      " 0   VehicleType       297945 non-null  object\n",
      " 1   Gearbox           297945 non-null  object\n",
      " 2   Power             297945 non-null  int64 \n",
      " 3   Kilometer         297945 non-null  int64 \n",
      " 4   FuelType          297945 non-null  object\n",
      " 5   Brand             297945 non-null  object\n",
      " 6   Model             297945 non-null  object\n",
      " 7   Repaired          297945 non-null  object\n",
      " 8   RegistrationYear  297945 non-null  int64 \n",
      " 9   Price             297945 non-null  int64 \n",
      "dtypes: int64(4), object(6)\n",
      "memory usage: 22.7+ MB\n"
     ]
    }
   ],
   "source": [
    "df.info() "
   ]
  },
  {
   "cell_type": "markdown",
   "metadata": {},
   "source": [
    "У нас все еще почти 300 тысяч строк в таблице, хоть нам и пришлось расстаться с 14,6% исходного датасета. Предобработка данных окончена. Переходим к их кодированию, подготовке для обучения в моделях."
   ]
  },
  {
   "cell_type": "code",
   "execution_count": 33,
   "metadata": {},
   "outputs": [],
   "source": [
    "#    Выделим признаки, целевой признак. Разделим выборку на обучающую и тестовую в соотношении 1:4.\n",
    "dfc = df.copy()\n",
    "\n",
    "X = dfc.drop('Price', axis=1)\n",
    "y = dfc['Price']\n",
    "\n",
    "X_train, X_test, y_train, y_test = train_test_split(X, y, test_size=0.2, random_state=76767)"
   ]
  },
  {
   "cell_type": "code",
   "execution_count": 34,
   "metadata": {},
   "outputs": [
    {
     "name": "stderr",
     "output_type": "stream",
     "text": [
      "/tmp/ipykernel_48/2436030809.py:6: SettingWithCopyWarning: \n",
      "A value is trying to be set on a copy of a slice from a DataFrame.\n",
      "Try using .loc[row_indexer,col_indexer] = value instead\n",
      "\n",
      "See the caveats in the documentation: https://pandas.pydata.org/pandas-docs/stable/user_guide/indexing.html#returning-a-view-versus-a-copy\n",
      "  X_train['Model'] = encoder.transform(X_train[['Model']])\n",
      "/tmp/ipykernel_48/2436030809.py:7: SettingWithCopyWarning: \n",
      "A value is trying to be set on a copy of a slice from a DataFrame.\n",
      "Try using .loc[row_indexer,col_indexer] = value instead\n",
      "\n",
      "See the caveats in the documentation: https://pandas.pydata.org/pandas-docs/stable/user_guide/indexing.html#returning-a-view-versus-a-copy\n",
      "  X_test['Model'] = encoder.transform(X_test[['Model']])\n"
     ]
    }
   ],
   "source": [
    "# Так как в столбце model много значений, то преобразуем его методом ordinal, а остальные методом OHE\n",
    "\n",
    "#Преобразуем столбец model\n",
    "encoder = OrdinalEncoder(handle_unknown='use_encoded_value', unknown_value=np.nan)\n",
    "encoder.fit(X_train[['Model']])\n",
    "X_train['Model'] = encoder.transform(X_train[['Model']])\n",
    "X_test['Model'] = encoder.transform(X_test[['Model']])"
   ]
  },
  {
   "cell_type": "code",
   "execution_count": 36,
   "metadata": {},
   "outputs": [
    {
     "data": {
      "text/html": [
       "<div>\n",
       "<style scoped>\n",
       "    .dataframe tbody tr th:only-of-type {\n",
       "        vertical-align: middle;\n",
       "    }\n",
       "\n",
       "    .dataframe tbody tr th {\n",
       "        vertical-align: top;\n",
       "    }\n",
       "\n",
       "    .dataframe thead th {\n",
       "        text-align: right;\n",
       "    }\n",
       "</style>\n",
       "<table border=\"1\" class=\"dataframe\">\n",
       "  <thead>\n",
       "    <tr style=\"text-align: right;\">\n",
       "      <th></th>\n",
       "      <th>VehicleType</th>\n",
       "      <th>Gearbox</th>\n",
       "      <th>Power</th>\n",
       "      <th>Kilometer</th>\n",
       "      <th>FuelType</th>\n",
       "      <th>Brand</th>\n",
       "      <th>Model</th>\n",
       "      <th>Repaired</th>\n",
       "      <th>RegistrationYear</th>\n",
       "    </tr>\n",
       "  </thead>\n",
       "  <tbody>\n",
       "    <tr>\n",
       "      <th>282320</th>\n",
       "      <td>small</td>\n",
       "      <td>manual</td>\n",
       "      <td>90</td>\n",
       "      <td>125000</td>\n",
       "      <td>petrol</td>\n",
       "      <td>opel</td>\n",
       "      <td>83.0</td>\n",
       "      <td>no</td>\n",
       "      <td>2008</td>\n",
       "    </tr>\n",
       "    <tr>\n",
       "      <th>199547</th>\n",
       "      <td>sedan</td>\n",
       "      <td>manual</td>\n",
       "      <td>179</td>\n",
       "      <td>150000</td>\n",
       "      <td>petrol</td>\n",
       "      <td>skoda</td>\n",
       "      <td>163.0</td>\n",
       "      <td>no</td>\n",
       "      <td>2001</td>\n",
       "    </tr>\n",
       "    <tr>\n",
       "      <th>240986</th>\n",
       "      <td>wagon</td>\n",
       "      <td>manual</td>\n",
       "      <td>115</td>\n",
       "      <td>5000</td>\n",
       "      <td>petrol</td>\n",
       "      <td>volkswagen</td>\n",
       "      <td>170.0</td>\n",
       "      <td>no</td>\n",
       "      <td>1994</td>\n",
       "    </tr>\n",
       "    <tr>\n",
       "      <th>98338</th>\n",
       "      <td>small</td>\n",
       "      <td>manual</td>\n",
       "      <td>80</td>\n",
       "      <td>80000</td>\n",
       "      <td>petrol</td>\n",
       "      <td>mazda</td>\n",
       "      <td>166.0</td>\n",
       "      <td>no</td>\n",
       "      <td>2005</td>\n",
       "    </tr>\n",
       "    <tr>\n",
       "      <th>103569</th>\n",
       "      <td>wagon</td>\n",
       "      <td>manual</td>\n",
       "      <td>109</td>\n",
       "      <td>150000</td>\n",
       "      <td>gasoline</td>\n",
       "      <td>ford</td>\n",
       "      <td>103.0</td>\n",
       "      <td>no</td>\n",
       "      <td>2010</td>\n",
       "    </tr>\n",
       "  </tbody>\n",
       "</table>\n",
       "</div>"
      ],
      "text/plain": [
       "       VehicleType Gearbox  Power  Kilometer  FuelType       Brand  Model  \\\n",
       "282320       small  manual     90     125000    petrol        opel   83.0   \n",
       "199547       sedan  manual    179     150000    petrol       skoda  163.0   \n",
       "240986       wagon  manual    115       5000    petrol  volkswagen  170.0   \n",
       "98338        small  manual     80      80000    petrol       mazda  166.0   \n",
       "103569       wagon  manual    109     150000  gasoline        ford  103.0   \n",
       "\n",
       "       Repaired  RegistrationYear  \n",
       "282320       no              2008  \n",
       "199547       no              2001  \n",
       "240986       no              1994  \n",
       "98338        no              2005  \n",
       "103569       no              2010  "
      ]
     },
     "execution_count": 36,
     "metadata": {},
     "output_type": "execute_result"
    }
   ],
   "source": [
    "X_test.head()"
   ]
  },
  {
   "cell_type": "code",
   "execution_count": 37,
   "metadata": {},
   "outputs": [
    {
     "name": "stdout",
     "output_type": "stream",
     "text": [
      "CPU times: user 720 ms, sys: 171 ms, total: 891 ms\n",
      "Wall time: 892 ms\n"
     ]
    }
   ],
   "source": [
    "%%time\n",
    "enc = OneHotEncoder(handle_unknown='ignore')\n",
    "\n",
    "ohe_cat = ['VehicleType', 'Gearbox', 'FuelType', 'Brand', 'Repaired']\n",
    "num_col = ['Power', 'Kilometer', 'Model', 'RegistrationYear']\n",
    "\n",
    "enc.fit(X_train[ohe_cat])\n",
    "X_train_coded = pd.DataFrame(enc.transform(X_train[ohe_cat]).toarray(),\n",
    "                             columns=enc.get_feature_names(ohe_cat),\n",
    "                            index=X_train.index)\n",
    "\n",
    "X_train = pd.concat((X_train[num_col], X_train_coded), axis=1)\n",
    "\n",
    "X_test_coded = pd.DataFrame(enc.transform(X_test[ohe_cat]).toarray(),\n",
    "                             columns=enc.get_feature_names(ohe_cat),\n",
    "                            index=X_test.index)\n",
    "\n",
    "X_test = pd.concat((X_test[num_col], X_test_coded), axis=1)\n"
   ]
  },
  {
   "cell_type": "code",
   "execution_count": 38,
   "metadata": {},
   "outputs": [
    {
     "data": {
      "text/html": [
       "<div>\n",
       "<style scoped>\n",
       "    .dataframe tbody tr th:only-of-type {\n",
       "        vertical-align: middle;\n",
       "    }\n",
       "\n",
       "    .dataframe tbody tr th {\n",
       "        vertical-align: top;\n",
       "    }\n",
       "\n",
       "    .dataframe thead th {\n",
       "        text-align: right;\n",
       "    }\n",
       "</style>\n",
       "<table border=\"1\" class=\"dataframe\">\n",
       "  <thead>\n",
       "    <tr style=\"text-align: right;\">\n",
       "      <th></th>\n",
       "      <th>Power</th>\n",
       "      <th>Kilometer</th>\n",
       "      <th>Model</th>\n",
       "      <th>RegistrationYear</th>\n",
       "      <th>VehicleType_bus</th>\n",
       "      <th>VehicleType_convertible</th>\n",
       "      <th>VehicleType_coupe</th>\n",
       "      <th>VehicleType_other</th>\n",
       "      <th>VehicleType_sedan</th>\n",
       "      <th>VehicleType_small</th>\n",
       "      <th>...</th>\n",
       "      <th>Brand_smart</th>\n",
       "      <th>Brand_subaru</th>\n",
       "      <th>Brand_suzuki</th>\n",
       "      <th>Brand_toyota</th>\n",
       "      <th>Brand_trabant</th>\n",
       "      <th>Brand_volkswagen</th>\n",
       "      <th>Brand_volvo</th>\n",
       "      <th>Repaired_no</th>\n",
       "      <th>Repaired_unknown</th>\n",
       "      <th>Repaired_yes</th>\n",
       "    </tr>\n",
       "  </thead>\n",
       "  <tbody>\n",
       "    <tr>\n",
       "      <th>28475</th>\n",
       "      <td>92</td>\n",
       "      <td>150000</td>\n",
       "      <td>223.0</td>\n",
       "      <td>1990</td>\n",
       "      <td>1.0</td>\n",
       "      <td>0.0</td>\n",
       "      <td>0.0</td>\n",
       "      <td>0.0</td>\n",
       "      <td>0.0</td>\n",
       "      <td>0.0</td>\n",
       "      <td>...</td>\n",
       "      <td>0.0</td>\n",
       "      <td>0.0</td>\n",
       "      <td>0.0</td>\n",
       "      <td>0.0</td>\n",
       "      <td>0.0</td>\n",
       "      <td>1.0</td>\n",
       "      <td>0.0</td>\n",
       "      <td>1.0</td>\n",
       "      <td>0.0</td>\n",
       "      <td>0.0</td>\n",
       "    </tr>\n",
       "    <tr>\n",
       "      <th>70099</th>\n",
       "      <td>101</td>\n",
       "      <td>150000</td>\n",
       "      <td>233.0</td>\n",
       "      <td>2001</td>\n",
       "      <td>0.0</td>\n",
       "      <td>0.0</td>\n",
       "      <td>0.0</td>\n",
       "      <td>0.0</td>\n",
       "      <td>0.0</td>\n",
       "      <td>0.0</td>\n",
       "      <td>...</td>\n",
       "      <td>0.0</td>\n",
       "      <td>0.0</td>\n",
       "      <td>0.0</td>\n",
       "      <td>0.0</td>\n",
       "      <td>0.0</td>\n",
       "      <td>0.0</td>\n",
       "      <td>0.0</td>\n",
       "      <td>0.0</td>\n",
       "      <td>0.0</td>\n",
       "      <td>1.0</td>\n",
       "    </tr>\n",
       "    <tr>\n",
       "      <th>245365</th>\n",
       "      <td>143</td>\n",
       "      <td>100000</td>\n",
       "      <td>6.0</td>\n",
       "      <td>2008</td>\n",
       "      <td>0.0</td>\n",
       "      <td>0.0</td>\n",
       "      <td>0.0</td>\n",
       "      <td>0.0</td>\n",
       "      <td>1.0</td>\n",
       "      <td>0.0</td>\n",
       "      <td>...</td>\n",
       "      <td>0.0</td>\n",
       "      <td>0.0</td>\n",
       "      <td>0.0</td>\n",
       "      <td>0.0</td>\n",
       "      <td>0.0</td>\n",
       "      <td>0.0</td>\n",
       "      <td>0.0</td>\n",
       "      <td>1.0</td>\n",
       "      <td>0.0</td>\n",
       "      <td>0.0</td>\n",
       "    </tr>\n",
       "    <tr>\n",
       "      <th>50550</th>\n",
       "      <td>46</td>\n",
       "      <td>150000</td>\n",
       "      <td>83.0</td>\n",
       "      <td>1995</td>\n",
       "      <td>0.0</td>\n",
       "      <td>0.0</td>\n",
       "      <td>0.0</td>\n",
       "      <td>0.0</td>\n",
       "      <td>0.0</td>\n",
       "      <td>1.0</td>\n",
       "      <td>...</td>\n",
       "      <td>0.0</td>\n",
       "      <td>0.0</td>\n",
       "      <td>0.0</td>\n",
       "      <td>0.0</td>\n",
       "      <td>0.0</td>\n",
       "      <td>0.0</td>\n",
       "      <td>0.0</td>\n",
       "      <td>1.0</td>\n",
       "      <td>0.0</td>\n",
       "      <td>0.0</td>\n",
       "    </tr>\n",
       "    <tr>\n",
       "      <th>255448</th>\n",
       "      <td>125</td>\n",
       "      <td>150000</td>\n",
       "      <td>233.0</td>\n",
       "      <td>2004</td>\n",
       "      <td>0.0</td>\n",
       "      <td>0.0</td>\n",
       "      <td>0.0</td>\n",
       "      <td>0.0</td>\n",
       "      <td>0.0</td>\n",
       "      <td>0.0</td>\n",
       "      <td>...</td>\n",
       "      <td>0.0</td>\n",
       "      <td>0.0</td>\n",
       "      <td>0.0</td>\n",
       "      <td>0.0</td>\n",
       "      <td>0.0</td>\n",
       "      <td>0.0</td>\n",
       "      <td>0.0</td>\n",
       "      <td>1.0</td>\n",
       "      <td>0.0</td>\n",
       "      <td>0.0</td>\n",
       "    </tr>\n",
       "    <tr>\n",
       "      <th>263098</th>\n",
       "      <td>105</td>\n",
       "      <td>150000</td>\n",
       "      <td>116.0</td>\n",
       "      <td>2004</td>\n",
       "      <td>0.0</td>\n",
       "      <td>0.0</td>\n",
       "      <td>0.0</td>\n",
       "      <td>0.0</td>\n",
       "      <td>1.0</td>\n",
       "      <td>0.0</td>\n",
       "      <td>...</td>\n",
       "      <td>0.0</td>\n",
       "      <td>0.0</td>\n",
       "      <td>0.0</td>\n",
       "      <td>0.0</td>\n",
       "      <td>0.0</td>\n",
       "      <td>1.0</td>\n",
       "      <td>0.0</td>\n",
       "      <td>1.0</td>\n",
       "      <td>0.0</td>\n",
       "      <td>0.0</td>\n",
       "    </tr>\n",
       "    <tr>\n",
       "      <th>260735</th>\n",
       "      <td>80</td>\n",
       "      <td>90000</td>\n",
       "      <td>166.0</td>\n",
       "      <td>1998</td>\n",
       "      <td>0.0</td>\n",
       "      <td>0.0</td>\n",
       "      <td>0.0</td>\n",
       "      <td>0.0</td>\n",
       "      <td>1.0</td>\n",
       "      <td>0.0</td>\n",
       "      <td>...</td>\n",
       "      <td>0.0</td>\n",
       "      <td>0.0</td>\n",
       "      <td>0.0</td>\n",
       "      <td>0.0</td>\n",
       "      <td>0.0</td>\n",
       "      <td>0.0</td>\n",
       "      <td>0.0</td>\n",
       "      <td>1.0</td>\n",
       "      <td>0.0</td>\n",
       "      <td>0.0</td>\n",
       "    </tr>\n",
       "    <tr>\n",
       "      <th>295261</th>\n",
       "      <td>75</td>\n",
       "      <td>125000</td>\n",
       "      <td>173.0</td>\n",
       "      <td>2005</td>\n",
       "      <td>0.0</td>\n",
       "      <td>0.0</td>\n",
       "      <td>0.0</td>\n",
       "      <td>0.0</td>\n",
       "      <td>1.0</td>\n",
       "      <td>0.0</td>\n",
       "      <td>...</td>\n",
       "      <td>0.0</td>\n",
       "      <td>0.0</td>\n",
       "      <td>0.0</td>\n",
       "      <td>0.0</td>\n",
       "      <td>0.0</td>\n",
       "      <td>1.0</td>\n",
       "      <td>0.0</td>\n",
       "      <td>1.0</td>\n",
       "      <td>0.0</td>\n",
       "      <td>0.0</td>\n",
       "    </tr>\n",
       "    <tr>\n",
       "      <th>195150</th>\n",
       "      <td>65</td>\n",
       "      <td>100000</td>\n",
       "      <td>130.0</td>\n",
       "      <td>1968</td>\n",
       "      <td>0.0</td>\n",
       "      <td>0.0</td>\n",
       "      <td>0.0</td>\n",
       "      <td>0.0</td>\n",
       "      <td>1.0</td>\n",
       "      <td>0.0</td>\n",
       "      <td>...</td>\n",
       "      <td>0.0</td>\n",
       "      <td>0.0</td>\n",
       "      <td>0.0</td>\n",
       "      <td>0.0</td>\n",
       "      <td>0.0</td>\n",
       "      <td>1.0</td>\n",
       "      <td>0.0</td>\n",
       "      <td>1.0</td>\n",
       "      <td>0.0</td>\n",
       "      <td>0.0</td>\n",
       "    </tr>\n",
       "    <tr>\n",
       "      <th>212610</th>\n",
       "      <td>40</td>\n",
       "      <td>80000</td>\n",
       "      <td>83.0</td>\n",
       "      <td>1998</td>\n",
       "      <td>0.0</td>\n",
       "      <td>0.0</td>\n",
       "      <td>0.0</td>\n",
       "      <td>0.0</td>\n",
       "      <td>0.0</td>\n",
       "      <td>1.0</td>\n",
       "      <td>...</td>\n",
       "      <td>0.0</td>\n",
       "      <td>0.0</td>\n",
       "      <td>0.0</td>\n",
       "      <td>0.0</td>\n",
       "      <td>0.0</td>\n",
       "      <td>0.0</td>\n",
       "      <td>0.0</td>\n",
       "      <td>1.0</td>\n",
       "      <td>0.0</td>\n",
       "      <td>0.0</td>\n",
       "    </tr>\n",
       "  </tbody>\n",
       "</table>\n",
       "<p>10 rows × 63 columns</p>\n",
       "</div>"
      ],
      "text/plain": [
       "        Power  Kilometer  Model  RegistrationYear  VehicleType_bus  \\\n",
       "28475      92     150000  223.0              1990              1.0   \n",
       "70099     101     150000  233.0              2001              0.0   \n",
       "245365    143     100000    6.0              2008              0.0   \n",
       "50550      46     150000   83.0              1995              0.0   \n",
       "255448    125     150000  233.0              2004              0.0   \n",
       "263098    105     150000  116.0              2004              0.0   \n",
       "260735     80      90000  166.0              1998              0.0   \n",
       "295261     75     125000  173.0              2005              0.0   \n",
       "195150     65     100000  130.0              1968              0.0   \n",
       "212610     40      80000   83.0              1998              0.0   \n",
       "\n",
       "        VehicleType_convertible  VehicleType_coupe  VehicleType_other  \\\n",
       "28475                       0.0                0.0                0.0   \n",
       "70099                       0.0                0.0                0.0   \n",
       "245365                      0.0                0.0                0.0   \n",
       "50550                       0.0                0.0                0.0   \n",
       "255448                      0.0                0.0                0.0   \n",
       "263098                      0.0                0.0                0.0   \n",
       "260735                      0.0                0.0                0.0   \n",
       "295261                      0.0                0.0                0.0   \n",
       "195150                      0.0                0.0                0.0   \n",
       "212610                      0.0                0.0                0.0   \n",
       "\n",
       "        VehicleType_sedan  VehicleType_small  ...  Brand_smart  Brand_subaru  \\\n",
       "28475                 0.0                0.0  ...          0.0           0.0   \n",
       "70099                 0.0                0.0  ...          0.0           0.0   \n",
       "245365                1.0                0.0  ...          0.0           0.0   \n",
       "50550                 0.0                1.0  ...          0.0           0.0   \n",
       "255448                0.0                0.0  ...          0.0           0.0   \n",
       "263098                1.0                0.0  ...          0.0           0.0   \n",
       "260735                1.0                0.0  ...          0.0           0.0   \n",
       "295261                1.0                0.0  ...          0.0           0.0   \n",
       "195150                1.0                0.0  ...          0.0           0.0   \n",
       "212610                0.0                1.0  ...          0.0           0.0   \n",
       "\n",
       "        Brand_suzuki  Brand_toyota  Brand_trabant  Brand_volkswagen  \\\n",
       "28475            0.0           0.0            0.0               1.0   \n",
       "70099            0.0           0.0            0.0               0.0   \n",
       "245365           0.0           0.0            0.0               0.0   \n",
       "50550            0.0           0.0            0.0               0.0   \n",
       "255448           0.0           0.0            0.0               0.0   \n",
       "263098           0.0           0.0            0.0               1.0   \n",
       "260735           0.0           0.0            0.0               0.0   \n",
       "295261           0.0           0.0            0.0               1.0   \n",
       "195150           0.0           0.0            0.0               1.0   \n",
       "212610           0.0           0.0            0.0               0.0   \n",
       "\n",
       "        Brand_volvo  Repaired_no  Repaired_unknown  Repaired_yes  \n",
       "28475           0.0          1.0               0.0           0.0  \n",
       "70099           0.0          0.0               0.0           1.0  \n",
       "245365          0.0          1.0               0.0           0.0  \n",
       "50550           0.0          1.0               0.0           0.0  \n",
       "255448          0.0          1.0               0.0           0.0  \n",
       "263098          0.0          1.0               0.0           0.0  \n",
       "260735          0.0          1.0               0.0           0.0  \n",
       "295261          0.0          1.0               0.0           0.0  \n",
       "195150          0.0          1.0               0.0           0.0  \n",
       "212610          0.0          1.0               0.0           0.0  \n",
       "\n",
       "[10 rows x 63 columns]"
      ]
     },
     "execution_count": 38,
     "metadata": {},
     "output_type": "execute_result"
    }
   ],
   "source": [
    "X_train.head(10)"
   ]
  },
  {
   "cell_type": "code",
   "execution_count": 39,
   "metadata": {},
   "outputs": [
    {
     "data": {
      "text/plain": [
       "'Размер обучающей выборки: (238356, 63)'"
      ]
     },
     "execution_count": 39,
     "metadata": {},
     "output_type": "execute_result"
    }
   ],
   "source": [
    "f\"Размер обучающей выборки: {X_train.shape}\""
   ]
  },
  {
   "cell_type": "code",
   "execution_count": 40,
   "metadata": {
    "scrolled": true
   },
   "outputs": [
    {
     "data": {
      "text/plain": [
       "'Размер тестовой  выборки: (59589, 63)'"
      ]
     },
     "execution_count": 40,
     "metadata": {},
     "output_type": "execute_result"
    }
   ],
   "source": [
    "f\"Размер тестовой  выборки: {X_test.shape}\""
   ]
  },
  {
   "cell_type": "code",
   "execution_count": 41,
   "metadata": {},
   "outputs": [],
   "source": [
    "#Скалирование\n",
    "scaler = StandardScaler()\n",
    "scaler.fit(X_train)\n",
    "columns = X_train.columns\n",
    "X_train = pd.DataFrame(scaler.transform(X_train), columns = columns)\n",
    "X_test = pd.DataFrame(scaler.transform(X_test), columns = columns)"
   ]
  },
  {
   "cell_type": "code",
   "execution_count": 42,
   "metadata": {},
   "outputs": [
    {
     "data": {
      "text/html": [
       "<div>\n",
       "<style scoped>\n",
       "    .dataframe tbody tr th:only-of-type {\n",
       "        vertical-align: middle;\n",
       "    }\n",
       "\n",
       "    .dataframe tbody tr th {\n",
       "        vertical-align: top;\n",
       "    }\n",
       "\n",
       "    .dataframe thead th {\n",
       "        text-align: right;\n",
       "    }\n",
       "</style>\n",
       "<table border=\"1\" class=\"dataframe\">\n",
       "  <thead>\n",
       "    <tr style=\"text-align: right;\">\n",
       "      <th></th>\n",
       "      <th>Power</th>\n",
       "      <th>Kilometer</th>\n",
       "      <th>Model</th>\n",
       "      <th>RegistrationYear</th>\n",
       "      <th>VehicleType_bus</th>\n",
       "      <th>VehicleType_convertible</th>\n",
       "      <th>VehicleType_coupe</th>\n",
       "      <th>VehicleType_other</th>\n",
       "      <th>VehicleType_sedan</th>\n",
       "      <th>VehicleType_small</th>\n",
       "      <th>...</th>\n",
       "      <th>Brand_smart</th>\n",
       "      <th>Brand_subaru</th>\n",
       "      <th>Brand_suzuki</th>\n",
       "      <th>Brand_toyota</th>\n",
       "      <th>Brand_trabant</th>\n",
       "      <th>Brand_volkswagen</th>\n",
       "      <th>Brand_volvo</th>\n",
       "      <th>Repaired_no</th>\n",
       "      <th>Repaired_unknown</th>\n",
       "      <th>Repaired_yes</th>\n",
       "    </tr>\n",
       "  </thead>\n",
       "  <tbody>\n",
       "    <tr>\n",
       "      <th>0</th>\n",
       "      <td>-0.558682</td>\n",
       "      <td>0.591380</td>\n",
       "      <td>1.619963</td>\n",
       "      <td>-2.002334</td>\n",
       "      <td>3.072833</td>\n",
       "      <td>-0.260674</td>\n",
       "      <td>-0.22478</td>\n",
       "      <td>-0.091313</td>\n",
       "      <td>-0.658941</td>\n",
       "      <td>-0.559783</td>\n",
       "      <td>...</td>\n",
       "      <td>-0.126822</td>\n",
       "      <td>-0.045757</td>\n",
       "      <td>-0.081974</td>\n",
       "      <td>-0.119394</td>\n",
       "      <td>-0.035202</td>\n",
       "      <td>1.898573</td>\n",
       "      <td>-0.098013</td>\n",
       "      <td>0.564314</td>\n",
       "      <td>-0.427918</td>\n",
       "      <td>-0.308227</td>\n",
       "    </tr>\n",
       "    <tr>\n",
       "      <th>1</th>\n",
       "      <td>-0.387259</td>\n",
       "      <td>0.591380</td>\n",
       "      <td>1.761081</td>\n",
       "      <td>-0.302277</td>\n",
       "      <td>-0.325433</td>\n",
       "      <td>-0.260674</td>\n",
       "      <td>-0.22478</td>\n",
       "      <td>-0.091313</td>\n",
       "      <td>-0.658941</td>\n",
       "      <td>-0.559783</td>\n",
       "      <td>...</td>\n",
       "      <td>-0.126822</td>\n",
       "      <td>-0.045757</td>\n",
       "      <td>-0.081974</td>\n",
       "      <td>-0.119394</td>\n",
       "      <td>-0.035202</td>\n",
       "      <td>-0.526711</td>\n",
       "      <td>-0.098013</td>\n",
       "      <td>-1.772064</td>\n",
       "      <td>-0.427918</td>\n",
       "      <td>3.244367</td>\n",
       "    </tr>\n",
       "    <tr>\n",
       "      <th>2</th>\n",
       "      <td>0.412716</td>\n",
       "      <td>-0.766761</td>\n",
       "      <td>-1.442307</td>\n",
       "      <td>0.779577</td>\n",
       "      <td>-0.325433</td>\n",
       "      <td>-0.260674</td>\n",
       "      <td>-0.22478</td>\n",
       "      <td>-0.091313</td>\n",
       "      <td>1.517586</td>\n",
       "      <td>-0.559783</td>\n",
       "      <td>...</td>\n",
       "      <td>-0.126822</td>\n",
       "      <td>-0.045757</td>\n",
       "      <td>-0.081974</td>\n",
       "      <td>-0.119394</td>\n",
       "      <td>-0.035202</td>\n",
       "      <td>-0.526711</td>\n",
       "      <td>-0.098013</td>\n",
       "      <td>0.564314</td>\n",
       "      <td>-0.427918</td>\n",
       "      <td>-0.308227</td>\n",
       "    </tr>\n",
       "    <tr>\n",
       "      <th>3</th>\n",
       "      <td>-1.434844</td>\n",
       "      <td>0.591380</td>\n",
       "      <td>-0.355695</td>\n",
       "      <td>-1.229581</td>\n",
       "      <td>-0.325433</td>\n",
       "      <td>-0.260674</td>\n",
       "      <td>-0.22478</td>\n",
       "      <td>-0.091313</td>\n",
       "      <td>-0.658941</td>\n",
       "      <td>1.786405</td>\n",
       "      <td>...</td>\n",
       "      <td>-0.126822</td>\n",
       "      <td>-0.045757</td>\n",
       "      <td>-0.081974</td>\n",
       "      <td>-0.119394</td>\n",
       "      <td>-0.035202</td>\n",
       "      <td>-0.526711</td>\n",
       "      <td>-0.098013</td>\n",
       "      <td>0.564314</td>\n",
       "      <td>-0.427918</td>\n",
       "      <td>-0.308227</td>\n",
       "    </tr>\n",
       "    <tr>\n",
       "      <th>4</th>\n",
       "      <td>0.069870</td>\n",
       "      <td>0.591380</td>\n",
       "      <td>1.761081</td>\n",
       "      <td>0.161374</td>\n",
       "      <td>-0.325433</td>\n",
       "      <td>-0.260674</td>\n",
       "      <td>-0.22478</td>\n",
       "      <td>-0.091313</td>\n",
       "      <td>-0.658941</td>\n",
       "      <td>-0.559783</td>\n",
       "      <td>...</td>\n",
       "      <td>-0.126822</td>\n",
       "      <td>-0.045757</td>\n",
       "      <td>-0.081974</td>\n",
       "      <td>-0.119394</td>\n",
       "      <td>-0.035202</td>\n",
       "      <td>-0.526711</td>\n",
       "      <td>-0.098013</td>\n",
       "      <td>0.564314</td>\n",
       "      <td>-0.427918</td>\n",
       "      <td>-0.308227</td>\n",
       "    </tr>\n",
       "  </tbody>\n",
       "</table>\n",
       "<p>5 rows × 63 columns</p>\n",
       "</div>"
      ],
      "text/plain": [
       "      Power  Kilometer     Model  RegistrationYear  VehicleType_bus  \\\n",
       "0 -0.558682   0.591380  1.619963         -2.002334         3.072833   \n",
       "1 -0.387259   0.591380  1.761081         -0.302277        -0.325433   \n",
       "2  0.412716  -0.766761 -1.442307          0.779577        -0.325433   \n",
       "3 -1.434844   0.591380 -0.355695         -1.229581        -0.325433   \n",
       "4  0.069870   0.591380  1.761081          0.161374        -0.325433   \n",
       "\n",
       "   VehicleType_convertible  VehicleType_coupe  VehicleType_other  \\\n",
       "0                -0.260674           -0.22478          -0.091313   \n",
       "1                -0.260674           -0.22478          -0.091313   \n",
       "2                -0.260674           -0.22478          -0.091313   \n",
       "3                -0.260674           -0.22478          -0.091313   \n",
       "4                -0.260674           -0.22478          -0.091313   \n",
       "\n",
       "   VehicleType_sedan  VehicleType_small  ...  Brand_smart  Brand_subaru  \\\n",
       "0          -0.658941          -0.559783  ...    -0.126822     -0.045757   \n",
       "1          -0.658941          -0.559783  ...    -0.126822     -0.045757   \n",
       "2           1.517586          -0.559783  ...    -0.126822     -0.045757   \n",
       "3          -0.658941           1.786405  ...    -0.126822     -0.045757   \n",
       "4          -0.658941          -0.559783  ...    -0.126822     -0.045757   \n",
       "\n",
       "   Brand_suzuki  Brand_toyota  Brand_trabant  Brand_volkswagen  Brand_volvo  \\\n",
       "0     -0.081974     -0.119394      -0.035202          1.898573    -0.098013   \n",
       "1     -0.081974     -0.119394      -0.035202         -0.526711    -0.098013   \n",
       "2     -0.081974     -0.119394      -0.035202         -0.526711    -0.098013   \n",
       "3     -0.081974     -0.119394      -0.035202         -0.526711    -0.098013   \n",
       "4     -0.081974     -0.119394      -0.035202         -0.526711    -0.098013   \n",
       "\n",
       "   Repaired_no  Repaired_unknown  Repaired_yes  \n",
       "0     0.564314         -0.427918     -0.308227  \n",
       "1    -1.772064         -0.427918      3.244367  \n",
       "2     0.564314         -0.427918     -0.308227  \n",
       "3     0.564314         -0.427918     -0.308227  \n",
       "4     0.564314         -0.427918     -0.308227  \n",
       "\n",
       "[5 rows x 63 columns]"
      ]
     },
     "execution_count": 42,
     "metadata": {},
     "output_type": "execute_result"
    }
   ],
   "source": [
    "X_train.head()"
   ]
  },
  {
   "cell_type": "markdown",
   "metadata": {},
   "source": [
    "## Обучение моделей"
   ]
  },
  {
   "cell_type": "markdown",
   "metadata": {},
   "source": [
    "### Линейная регрессия"
   ]
  },
  {
   "cell_type": "code",
   "execution_count": 43,
   "metadata": {},
   "outputs": [],
   "source": [
    "def rmse(predict, actual):\n",
    "    predict = np.array(predict)\n",
    "    actual = np.array(actual)\n",
    "\n",
    "    distance = predict - actual\n",
    "\n",
    "    square_distance = distance ** 2\n",
    "\n",
    "    mean_square_distance = square_distance.mean()\n",
    "\n",
    "    score = np.sqrt(mean_square_distance)\n",
    "\n",
    "    return score\n",
    "\n",
    "rmse_score = make_scorer(rmse, greater_is_better = False)\n"
   ]
  },
  {
   "cell_type": "code",
   "execution_count": 44,
   "metadata": {},
   "outputs": [
    {
     "name": "stdout",
     "output_type": "stream",
     "text": [
      "CPU times: user 9.93 s, sys: 4.71 s, total: 14.6 s\n",
      "Wall time: 14.7 s\n"
     ]
    }
   ],
   "source": [
    "%%time\n",
    "lr = LinearRegression()\n",
    "mse = cross_val_score(lr, X_train, y_train, cv=5, scoring='neg_mean_squared_error')\n"
   ]
  },
  {
   "cell_type": "code",
   "execution_count": 45,
   "metadata": {
    "scrolled": true
   },
   "outputs": [
    {
     "data": {
      "text/plain": [
       "'RMSE для линейной модели на валидационной выборке: 2781.57'"
      ]
     },
     "execution_count": 45,
     "metadata": {},
     "output_type": "execute_result"
    }
   ],
   "source": [
    "f\"RMSE для линейной модели на валидационной выборке: {round((-mse.mean()) ** 0.5, 2)}\""
   ]
  },
  {
   "cell_type": "code",
   "execution_count": 46,
   "metadata": {},
   "outputs": [
    {
     "name": "stdout",
     "output_type": "stream",
     "text": [
      "CPU times: user 2.37 s, sys: 1.1 s, total: 3.47 s\n",
      "Wall time: 3.45 s\n"
     ]
    },
    {
     "data": {
      "text/plain": [
       "LinearRegression()"
      ]
     },
     "execution_count": 46,
     "metadata": {},
     "output_type": "execute_result"
    }
   ],
   "source": [
    "%%time\n",
    "lr = LinearRegression()\n",
    "lr.fit(X_train, y_train)"
   ]
  },
  {
   "cell_type": "code",
   "execution_count": 56,
   "metadata": {},
   "outputs": [
    {
     "name": "stdout",
     "output_type": "stream",
     "text": [
      "CPU times: user 36.1 ms, sys: 29.5 ms, total: 65.6 ms\n",
      "Wall time: 13.1 ms\n"
     ]
    }
   ],
   "source": [
    "%%time\n",
    "predictions_lr = lr.predict(X_test)"
   ]
  },
  {
   "cell_type": "code",
   "execution_count": 57,
   "metadata": {},
   "outputs": [
    {
     "data": {
      "text/plain": [
       "'RMSE для линейной модели на тестовой выборке: 2749.19'"
      ]
     },
     "execution_count": 57,
     "metadata": {},
     "output_type": "execute_result"
    }
   ],
   "source": [
    "mse_lr = mean_squared_error(y_test, predictions_lr)\n",
    "f\"RMSE для линейной модели на тестовой выборке: {round((mse_lr) ** 0.5, 2)}\"\n"
   ]
  },
  {
   "cell_type": "markdown",
   "metadata": {},
   "source": [
    "Теперь попробуем подобрать для линейной регрессии гиперпараметры с помощью GridSearchCV."
   ]
  },
  {
   "cell_type": "code",
   "execution_count": 49,
   "metadata": {},
   "outputs": [
    {
     "name": "stdout",
     "output_type": "stream",
     "text": [
      "CPU times: user 56.5 s, sys: 21.3 s, total: 1min 17s\n",
      "Wall time: 1min 17s\n"
     ]
    },
    {
     "data": {
      "text/plain": [
       "{'copy_X': True, 'fit_intercept': True, 'normalize': False}"
      ]
     },
     "execution_count": 49,
     "metadata": {},
     "output_type": "execute_result"
    }
   ],
   "source": [
    "%%time\n",
    "parameters = {'fit_intercept':[True,False], 'normalize':[True,False], 'copy_X':[True, False]}\n",
    "\n",
    "grid = GridSearchCV(lr, parameters, cv=4, scoring = rmse_score, verbose=False)\n",
    "grid.fit(X_train, y_train)\n",
    "grid.best_params_"
   ]
  },
  {
   "cell_type": "code",
   "execution_count": 50,
   "metadata": {},
   "outputs": [
    {
     "name": "stdout",
     "output_type": "stream",
     "text": [
      "CPU times: user 2.11 s, sys: 554 ms, total: 2.67 s\n",
      "Wall time: 2.63 s\n"
     ]
    }
   ],
   "source": [
    "%%time\n",
    "lr_tuned = LinearRegression(**grid.best_params_).fit(X_train, y_train)\n"
   ]
  },
  {
   "cell_type": "code",
   "execution_count": 58,
   "metadata": {},
   "outputs": [
    {
     "name": "stdout",
     "output_type": "stream",
     "text": [
      "CPU times: user 14.6 ms, sys: 0 ns, total: 14.6 ms\n",
      "Wall time: 5.66 ms\n"
     ]
    }
   ],
   "source": [
    "%%time\n",
    "lr_pred = lr_tuned.predict(X_test)"
   ]
  },
  {
   "cell_type": "code",
   "execution_count": 59,
   "metadata": {},
   "outputs": [
    {
     "data": {
      "text/plain": [
       "'RMSE для tuned линейной модели на тестовой выборке: 2749.19'"
      ]
     },
     "execution_count": 59,
     "metadata": {},
     "output_type": "execute_result"
    }
   ],
   "source": [
    "rmse_lr_tuned = mean_squared_error(y_test, lr_pred)\n",
    "f\"RMSE для tuned линейной модели на тестовой выборке: {round((rmse_lr_tuned) ** 0.5, 2)}\"\n"
   ]
  },
  {
   "cell_type": "markdown",
   "metadata": {},
   "source": [
    "После подбора гиперпараметров показания метрики практически не изменились и по-прежнему не дотягивают до бейзлайна (2750 против 2500)."
   ]
  },
  {
   "cell_type": "markdown",
   "metadata": {},
   "source": [
    "### LightGBM"
   ]
  },
  {
   "cell_type": "code",
   "execution_count": 60,
   "metadata": {},
   "outputs": [
    {
     "name": "stdout",
     "output_type": "stream",
     "text": [
      "CPU times: user 9.83 s, sys: 0 ns, total: 9.83 s\n",
      "Wall time: 9.86 s\n"
     ]
    }
   ],
   "source": [
    "%%time\n",
    "lgb_model = LGBMRegressor().fit(X_train, y_train)\n"
   ]
  },
  {
   "cell_type": "code",
   "execution_count": 61,
   "metadata": {},
   "outputs": [
    {
     "name": "stdout",
     "output_type": "stream",
     "text": [
      "CPU times: user 524 ms, sys: 0 ns, total: 524 ms\n",
      "Wall time: 469 ms\n"
     ]
    }
   ],
   "source": [
    "%%time\n",
    "y_pred = lgb_model.predict(X_test)"
   ]
  },
  {
   "cell_type": "code",
   "execution_count": 62,
   "metadata": {},
   "outputs": [
    {
     "name": "stdout",
     "output_type": "stream",
     "text": [
      "CPU times: user 2.7 ms, sys: 0 ns, total: 2.7 ms\n",
      "Wall time: 1.73 ms\n"
     ]
    },
    {
     "data": {
      "text/plain": [
       "'RMSE для LightGBM на тестовой выборке: 1679.28'"
      ]
     },
     "execution_count": 62,
     "metadata": {},
     "output_type": "execute_result"
    }
   ],
   "source": [
    "%%time\n",
    "\n",
    "rmse_lgbm = mean_squared_error(y_test, y_pred)\n",
    "f\"RMSE для LightGBM на тестовой выборке: {round((rmse_lgbm) ** 0.5, 2)}\""
   ]
  },
  {
   "cell_type": "markdown",
   "metadata": {},
   "source": [
    "Неплохой результат! Получится ли его улучшить с помощью подбора гиперпараметров?"
   ]
  },
  {
   "cell_type": "code",
   "execution_count": 63,
   "metadata": {},
   "outputs": [
    {
     "name": "stdout",
     "output_type": "stream",
     "text": [
      "Fitting 3 folds for each of 4 candidates, totalling 12 fits\n",
      "CPU times: user 1min 17s, sys: 1.7 s, total: 1min 19s\n",
      "Wall time: 1min 19s\n"
     ]
    },
    {
     "data": {
      "text/plain": [
       "{'max_depth': 10, 'n_estimators': 25}"
      ]
     },
     "execution_count": 63,
     "metadata": {},
     "output_type": "execute_result"
    }
   ],
   "source": [
    "%%time\n",
    "lgbm_params = {\"n_estimators\": [15, 25],\n",
    "               \"max_depth\": [8, 10]\n",
    "              }\n",
    "\n",
    "lgbm_cv_model = GridSearchCV(lgb_model,\n",
    "                             lgbm_params,\n",
    "                             cv=3,\n",
    "                             scoring = 'neg_mean_squared_error',\n",
    "                             n_jobs=-1,\n",
    "                             verbose=True).fit(X_train, y_train)\n",
    "\n",
    "lgbm_cv_model.best_params_\n"
   ]
  },
  {
   "cell_type": "code",
   "execution_count": 64,
   "metadata": {},
   "outputs": [
    {
     "name": "stdout",
     "output_type": "stream",
     "text": [
      "CPU times: user 3.92 s, sys: 92.4 ms, total: 4.01 s\n",
      "Wall time: 4.02 s\n"
     ]
    }
   ],
   "source": [
    "%%time\n",
    "lgbm_tuned = LGBMRegressor(**lgbm_cv_model.best_params_).fit(X_train, y_train)"
   ]
  },
  {
   "cell_type": "code",
   "execution_count": 65,
   "metadata": {},
   "outputs": [
    {
     "name": "stdout",
     "output_type": "stream",
     "text": [
      "CPU times: user 144 ms, sys: 22.4 ms, total: 166 ms\n",
      "Wall time: 109 ms\n"
     ]
    }
   ],
   "source": [
    "%%time\n",
    "lgbm_tuned_pred = lgbm_tuned.predict(X_test)"
   ]
  },
  {
   "cell_type": "code",
   "execution_count": 66,
   "metadata": {},
   "outputs": [
    {
     "name": "stdout",
     "output_type": "stream",
     "text": [
      "CPU times: user 2.13 ms, sys: 388 µs, total: 2.51 ms\n",
      "Wall time: 1.46 ms\n"
     ]
    },
    {
     "data": {
      "text/plain": [
       "'RMSE для LightGBM на тестовой выборке: 1960.0'"
      ]
     },
     "execution_count": 66,
     "metadata": {},
     "output_type": "execute_result"
    }
   ],
   "source": [
    "%%time\n",
    "\n",
    "rmse_lgbm_tuned = mean_squared_error(y_test, lgbm_tuned_pred)\n",
    "f\"RMSE для LightGBM на тестовой выборке: {round((rmse_lgbm_tuned) ** 0.5, 2)}\""
   ]
  },
  {
   "cell_type": "markdown",
   "metadata": {},
   "source": [
    "## Анализ моделей"
   ]
  },
  {
   "cell_type": "markdown",
   "metadata": {},
   "source": [
    "Необходимо проанализировать время обучения, время предсказания и качество моделей.\n",
    "\n",
    "- Наша дефолтная линейная регрессия обучалась (Wall time): 2.69 s\n",
    "- Готовила предсказания: 6.35 ms\n",
    "- RMSE для линейной регрессии на тестовой выборке: 2749.19\n",
    "\n",
    "\n",
    "- Подбор гиперпараметров для линейной регрессии длился: 1min 20s\n",
    "- Обучение с подобранными гиперпараметрами: 2.85 s\n",
    "- Готовила предсказания: 7.08 ms\n",
    "- RMSE для оттюнингованной линейной регрессии на тестовой выборке: 2749.16 (показатель почти не изменился)\n",
    "\n",
    "\n",
    "- LightGBM с дефолтными параметрами обучалась: 6.39 s\n",
    "- Готовила предсказания: 406 ms\n",
    "- RMSE для LightGBM на тестовой выборке: 1679.76\n",
    "\n",
    "\n",
    "- Подбор гиперпараметров для LightGBM длился: 1 m 40s\n",
    "- Обучение с подобранными гиперпараметрами: 16.8 s\n",
    "- RMSE для LightGBM на тестовой выборке: 1960 (хуже, чем с базовыми гиперпараметрами).\n",
    "\n",
    "Вывод: LightGBM неплохо работает \"из коробки\" :)) (или надо было дольше обучать и копаться с гиперпараметрами)."
   ]
  },
  {
   "cell_type": "markdown",
   "metadata": {},
   "source": [
    "## Общий вывод\n",
    "- мы провели анализ исходного датасета, обработали дубликаты, пропуски и выбросы\n",
    "- провели кодирование и масштабирование признаков для ML\n",
    "- протестировали по 2 модели линейной регрессии и градиентного бустинга (библиотека LightGBM): с дефолтными гиперпараметрами и с подобранными с помощью GridSearchCV\n",
    "- сделали вывод о том, что лучший результат по RMSE достигается моделью, которая дольше всего обучалась (дефолтный LightGBM). "
   ]
  }
 ],
 "metadata": {
  "ExecuteTimeLog": [
   {
    "duration": 460,
    "start_time": "2023-05-20T17:40:48.113Z"
   },
   {
    "duration": 3645,
    "start_time": "2023-05-20T17:41:16.098Z"
   },
   {
    "duration": 910,
    "start_time": "2023-05-20T17:44:26.670Z"
   },
   {
    "duration": 20,
    "start_time": "2023-05-20T17:44:40.602Z"
   },
   {
    "duration": 115,
    "start_time": "2023-05-20T17:46:32.951Z"
   },
   {
    "duration": 56417,
    "start_time": "2023-05-20T17:46:40.202Z"
   },
   {
    "duration": 325,
    "start_time": "2023-05-20T17:49:32.787Z"
   },
   {
    "duration": 336,
    "start_time": "2023-05-20T17:52:28.975Z"
   },
   {
    "duration": 25,
    "start_time": "2023-05-20T17:57:54.621Z"
   },
   {
    "duration": 83,
    "start_time": "2023-05-20T17:57:59.803Z"
   },
   {
    "duration": 752,
    "start_time": "2023-05-20T18:00:32.107Z"
   },
   {
    "duration": 25,
    "start_time": "2023-05-20T18:00:49.315Z"
   },
   {
    "duration": 34,
    "start_time": "2023-05-20T18:01:47.025Z"
   },
   {
    "duration": 7,
    "start_time": "2023-05-20T18:03:22.166Z"
   },
   {
    "duration": 7,
    "start_time": "2023-05-20T18:03:45.303Z"
   },
   {
    "duration": 7,
    "start_time": "2023-05-20T18:16:38.333Z"
   },
   {
    "duration": 60,
    "start_time": "2023-05-20T18:16:45.061Z"
   },
   {
    "duration": 35,
    "start_time": "2023-05-20T18:17:34.790Z"
   },
   {
    "duration": 84,
    "start_time": "2023-05-20T18:17:36.578Z"
   },
   {
    "duration": 31,
    "start_time": "2023-05-20T18:17:39.759Z"
   },
   {
    "duration": 52,
    "start_time": "2023-05-20T18:17:42.791Z"
   },
   {
    "duration": 35,
    "start_time": "2023-05-20T18:17:52.458Z"
   },
   {
    "duration": 70,
    "start_time": "2023-05-20T18:38:04.750Z"
   },
   {
    "duration": 36,
    "start_time": "2023-05-20T18:38:09.920Z"
   },
   {
    "duration": 40,
    "start_time": "2023-05-20T18:38:21.354Z"
   },
   {
    "duration": 28,
    "start_time": "2023-05-20T18:39:19.952Z"
   },
   {
    "duration": 46,
    "start_time": "2023-05-20T18:39:45.847Z"
   },
   {
    "duration": 27,
    "start_time": "2023-05-20T18:39:59.802Z"
   },
   {
    "duration": 3,
    "start_time": "2023-05-20T18:41:27.966Z"
   },
   {
    "duration": 1074,
    "start_time": "2023-05-20T18:41:27.971Z"
   },
   {
    "duration": 477,
    "start_time": "2023-05-20T18:41:37.554Z"
   },
   {
    "duration": 1019,
    "start_time": "2023-05-20T18:42:19.006Z"
   },
   {
    "duration": 352,
    "start_time": "2023-05-20T18:42:22.716Z"
   },
   {
    "duration": 45,
    "start_time": "2023-05-20T18:42:25.501Z"
   },
   {
    "duration": 117,
    "start_time": "2023-05-20T18:42:28.680Z"
   },
   {
    "duration": 35,
    "start_time": "2023-05-20T18:42:45.377Z"
   },
   {
    "duration": 24,
    "start_time": "2023-05-20T18:42:51.697Z"
   },
   {
    "duration": 13,
    "start_time": "2023-05-20T18:45:13.367Z"
   },
   {
    "duration": 63,
    "start_time": "2023-05-20T18:45:16.999Z"
   },
   {
    "duration": 3,
    "start_time": "2023-05-20T18:45:28.112Z"
   },
   {
    "duration": 976,
    "start_time": "2023-05-20T18:45:28.117Z"
   },
   {
    "duration": 958,
    "start_time": "2023-05-20T18:45:29.095Z"
   },
   {
    "duration": 42,
    "start_time": "2023-05-20T18:45:30.055Z"
   },
   {
    "duration": 100,
    "start_time": "2023-05-20T18:45:30.100Z"
   },
   {
    "duration": 394,
    "start_time": "2023-05-20T18:45:30.202Z"
   },
   {
    "duration": 49,
    "start_time": "2023-05-20T18:45:30.599Z"
   },
   {
    "duration": 175,
    "start_time": "2023-05-20T18:45:30.650Z"
   },
   {
    "duration": 84,
    "start_time": "2023-05-20T18:45:30.829Z"
   },
   {
    "duration": 66,
    "start_time": "2023-05-20T18:45:30.915Z"
   },
   {
    "duration": 35,
    "start_time": "2023-05-20T18:46:01.670Z"
   },
   {
    "duration": 48,
    "start_time": "2023-05-20T18:52:03.906Z"
   },
   {
    "duration": 55,
    "start_time": "2023-05-20T18:52:09.039Z"
   },
   {
    "duration": 52,
    "start_time": "2023-05-20T18:52:15.448Z"
   },
   {
    "duration": 42,
    "start_time": "2023-05-20T18:52:23.629Z"
   },
   {
    "duration": 22,
    "start_time": "2023-05-20T18:52:34.292Z"
   },
   {
    "duration": 41,
    "start_time": "2023-05-20T18:52:57.813Z"
   },
   {
    "duration": 50,
    "start_time": "2023-05-20T18:53:02.893Z"
   },
   {
    "duration": 548,
    "start_time": "2023-05-20T19:05:59.274Z"
   },
   {
    "duration": 3,
    "start_time": "2023-05-20T19:06:40.370Z"
   },
   {
    "duration": 969,
    "start_time": "2023-05-20T19:06:40.375Z"
   },
   {
    "duration": 1009,
    "start_time": "2023-05-20T19:06:41.346Z"
   },
   {
    "duration": 33,
    "start_time": "2023-05-20T19:06:42.357Z"
   },
   {
    "duration": 94,
    "start_time": "2023-05-20T19:06:42.392Z"
   },
   {
    "duration": 317,
    "start_time": "2023-05-20T19:06:42.488Z"
   },
   {
    "duration": 34,
    "start_time": "2023-05-20T19:06:42.807Z"
   },
   {
    "duration": 100,
    "start_time": "2023-05-20T19:06:42.843Z"
   },
   {
    "duration": 44,
    "start_time": "2023-05-20T19:06:42.945Z"
   },
   {
    "duration": 45,
    "start_time": "2023-05-20T19:06:42.990Z"
   },
   {
    "duration": 53,
    "start_time": "2023-05-20T19:06:43.037Z"
   },
   {
    "duration": 438,
    "start_time": "2023-05-20T19:06:43.091Z"
   },
   {
    "duration": 450,
    "start_time": "2023-05-20T19:07:00.954Z"
   },
   {
    "duration": 18,
    "start_time": "2023-05-20T19:08:13.917Z"
   },
   {
    "duration": 27,
    "start_time": "2023-05-20T19:09:08.703Z"
   },
   {
    "duration": 75,
    "start_time": "2023-05-20T19:09:21.475Z"
   },
   {
    "duration": 54,
    "start_time": "2023-05-20T19:09:29.597Z"
   },
   {
    "duration": 41,
    "start_time": "2023-05-20T19:09:35.887Z"
   },
   {
    "duration": 8,
    "start_time": "2023-05-20T19:09:50.410Z"
   },
   {
    "duration": 871,
    "start_time": "2023-05-20T19:10:25.665Z"
   },
   {
    "duration": 3,
    "start_time": "2023-05-20T19:10:46.610Z"
   },
   {
    "duration": 448,
    "start_time": "2023-05-20T19:10:54.002Z"
   },
   {
    "duration": 501,
    "start_time": "2023-05-20T19:11:15.699Z"
   },
   {
    "duration": 396,
    "start_time": "2023-05-20T19:12:31.054Z"
   },
   {
    "duration": 3,
    "start_time": "2023-05-20T19:12:34.559Z"
   },
   {
    "duration": 934,
    "start_time": "2023-05-20T19:12:34.564Z"
   },
   {
    "duration": 995,
    "start_time": "2023-05-20T19:12:35.500Z"
   },
   {
    "duration": 28,
    "start_time": "2023-05-20T19:12:36.497Z"
   },
   {
    "duration": 90,
    "start_time": "2023-05-20T19:12:36.527Z"
   },
   {
    "duration": 358,
    "start_time": "2023-05-20T19:12:36.619Z"
   },
   {
    "duration": 32,
    "start_time": "2023-05-20T19:12:36.979Z"
   },
   {
    "duration": 92,
    "start_time": "2023-05-20T19:12:37.013Z"
   },
   {
    "duration": 430,
    "start_time": "2023-05-20T19:12:40.051Z"
   },
   {
    "duration": 25,
    "start_time": "2023-05-20T19:13:28.386Z"
   },
   {
    "duration": 382,
    "start_time": "2023-05-20T19:13:42.132Z"
   },
   {
    "duration": 413,
    "start_time": "2023-05-20T19:14:26.452Z"
   },
   {
    "duration": 427,
    "start_time": "2023-05-20T19:14:39.587Z"
   },
   {
    "duration": 34,
    "start_time": "2023-05-20T19:15:17.413Z"
   },
   {
    "duration": 436,
    "start_time": "2023-05-20T19:15:40.452Z"
   },
   {
    "duration": 10,
    "start_time": "2023-05-20T19:18:03.271Z"
   },
   {
    "duration": 413,
    "start_time": "2023-05-20T19:19:40.808Z"
   },
   {
    "duration": 53,
    "start_time": "2023-05-20T19:20:37.466Z"
   },
   {
    "duration": 3,
    "start_time": "2023-05-20T19:20:40.465Z"
   },
   {
    "duration": 46,
    "start_time": "2023-05-20T19:20:50.554Z"
   },
   {
    "duration": 7,
    "start_time": "2023-05-20T19:20:52.695Z"
   },
   {
    "duration": 23,
    "start_time": "2023-05-20T19:21:01.559Z"
   },
   {
    "duration": 16,
    "start_time": "2023-05-20T19:21:11.954Z"
   },
   {
    "duration": 7,
    "start_time": "2023-05-20T19:21:22.958Z"
   },
   {
    "duration": 30,
    "start_time": "2023-05-20T19:21:35.680Z"
   },
   {
    "duration": 30,
    "start_time": "2023-05-20T19:21:38.278Z"
   },
   {
    "duration": 49,
    "start_time": "2023-05-20T19:21:40.983Z"
   },
   {
    "duration": 24,
    "start_time": "2023-05-20T19:21:43.754Z"
   },
   {
    "duration": 235,
    "start_time": "2023-05-20T19:21:50.362Z"
   },
   {
    "duration": 234,
    "start_time": "2023-05-20T19:22:50.117Z"
   },
   {
    "duration": 256,
    "start_time": "2023-05-20T19:23:12.577Z"
   },
   {
    "duration": 76,
    "start_time": "2023-05-20T19:23:17.646Z"
   },
   {
    "duration": 23,
    "start_time": "2023-05-20T19:23:46.473Z"
   },
   {
    "duration": 75,
    "start_time": "2023-05-20T19:23:48.458Z"
   },
   {
    "duration": 823,
    "start_time": "2023-05-21T18:22:54.828Z"
   },
   {
    "duration": 3051,
    "start_time": "2023-05-21T18:22:55.656Z"
   },
   {
    "duration": 985,
    "start_time": "2023-05-21T18:22:58.709Z"
   },
   {
    "duration": 36,
    "start_time": "2023-05-21T18:22:59.696Z"
   },
   {
    "duration": 123,
    "start_time": "2023-05-21T18:22:59.733Z"
   },
   {
    "duration": 318,
    "start_time": "2023-05-21T18:22:59.862Z"
   },
   {
    "duration": 40,
    "start_time": "2023-05-21T18:23:00.182Z"
   },
   {
    "duration": 79,
    "start_time": "2023-05-21T18:23:00.224Z"
   },
   {
    "duration": 460,
    "start_time": "2023-05-21T18:23:00.305Z"
   },
   {
    "duration": 31,
    "start_time": "2023-05-21T18:23:00.768Z"
   },
   {
    "duration": 433,
    "start_time": "2023-05-21T18:23:00.801Z"
   },
   {
    "duration": 456,
    "start_time": "2023-05-21T18:23:01.236Z"
   },
   {
    "duration": 16,
    "start_time": "2023-05-21T18:23:01.694Z"
   },
   {
    "duration": 57,
    "start_time": "2023-05-21T18:23:01.712Z"
   },
   {
    "duration": 30,
    "start_time": "2023-05-21T18:23:01.775Z"
   },
   {
    "duration": 61,
    "start_time": "2023-05-21T18:23:01.807Z"
   },
   {
    "duration": 28,
    "start_time": "2023-05-21T18:23:01.870Z"
   },
   {
    "duration": 282,
    "start_time": "2023-05-21T18:23:01.900Z"
   },
   {
    "duration": 278,
    "start_time": "2023-05-21T18:23:02.184Z"
   },
   {
    "duration": 315,
    "start_time": "2023-05-21T18:23:02.466Z"
   },
   {
    "duration": 17,
    "start_time": "2023-05-21T18:23:02.783Z"
   },
   {
    "duration": 81,
    "start_time": "2023-05-21T18:23:02.802Z"
   },
   {
    "duration": 17,
    "start_time": "2023-05-21T18:23:22.608Z"
   },
   {
    "duration": 28,
    "start_time": "2023-05-21T18:23:31.765Z"
   },
   {
    "duration": 256,
    "start_time": "2023-05-21T18:23:56.795Z"
   },
   {
    "duration": 70,
    "start_time": "2023-05-21T18:23:59.821Z"
   },
   {
    "duration": 26,
    "start_time": "2023-05-21T18:24:02.401Z"
   },
   {
    "duration": 45,
    "start_time": "2023-05-21T18:24:04.073Z"
   },
   {
    "duration": 2,
    "start_time": "2023-05-21T18:24:11.373Z"
   },
   {
    "duration": 836,
    "start_time": "2023-05-21T18:24:11.377Z"
   },
   {
    "duration": 909,
    "start_time": "2023-05-21T18:24:12.215Z"
   },
   {
    "duration": 38,
    "start_time": "2023-05-21T18:24:13.126Z"
   },
   {
    "duration": 69,
    "start_time": "2023-05-21T18:24:13.166Z"
   },
   {
    "duration": 342,
    "start_time": "2023-05-21T18:24:13.236Z"
   },
   {
    "duration": 33,
    "start_time": "2023-05-21T18:24:13.580Z"
   },
   {
    "duration": 86,
    "start_time": "2023-05-21T18:24:13.615Z"
   },
   {
    "duration": 420,
    "start_time": "2023-05-21T18:24:13.702Z"
   },
   {
    "duration": 49,
    "start_time": "2023-05-21T18:24:14.123Z"
   },
   {
    "duration": 431,
    "start_time": "2023-05-21T18:24:14.174Z"
   },
   {
    "duration": 404,
    "start_time": "2023-05-21T18:24:14.606Z"
   },
   {
    "duration": 14,
    "start_time": "2023-05-21T18:24:15.013Z"
   },
   {
    "duration": 52,
    "start_time": "2023-05-21T18:24:15.028Z"
   },
   {
    "duration": 30,
    "start_time": "2023-05-21T18:24:15.081Z"
   },
   {
    "duration": 51,
    "start_time": "2023-05-21T18:24:15.113Z"
   },
   {
    "duration": 26,
    "start_time": "2023-05-21T18:24:15.168Z"
   },
   {
    "duration": 259,
    "start_time": "2023-05-21T18:24:15.196Z"
   },
   {
    "duration": 249,
    "start_time": "2023-05-21T18:24:15.460Z"
   },
   {
    "duration": 263,
    "start_time": "2023-05-21T18:24:15.710Z"
   },
   {
    "duration": 17,
    "start_time": "2023-05-21T18:24:15.975Z"
   },
   {
    "duration": 81,
    "start_time": "2023-05-21T18:24:15.994Z"
   },
   {
    "duration": 27,
    "start_time": "2023-05-21T18:24:16.076Z"
   },
   {
    "duration": 8,
    "start_time": "2023-05-21T18:24:48.732Z"
   },
   {
    "duration": 7,
    "start_time": "2023-05-21T18:24:54.271Z"
   },
   {
    "duration": 272,
    "start_time": "2023-05-21T18:25:12.904Z"
   },
   {
    "duration": 299,
    "start_time": "2023-05-21T18:25:57.097Z"
   },
   {
    "duration": 289,
    "start_time": "2023-05-21T18:26:13.107Z"
   },
   {
    "duration": 310,
    "start_time": "2023-05-21T18:27:48.695Z"
   },
   {
    "duration": 288,
    "start_time": "2023-05-21T18:27:58.066Z"
   },
   {
    "duration": 284,
    "start_time": "2023-05-21T18:28:07.322Z"
   },
   {
    "duration": 507,
    "start_time": "2023-05-21T18:29:17.677Z"
   },
   {
    "duration": 558,
    "start_time": "2023-05-21T18:29:28.718Z"
   },
   {
    "duration": 134,
    "start_time": "2023-05-21T18:32:19.313Z"
   },
   {
    "duration": 64,
    "start_time": "2023-05-21T18:32:24.259Z"
   },
   {
    "duration": 70,
    "start_time": "2023-05-21T18:32:42.373Z"
   },
   {
    "duration": 20,
    "start_time": "2023-05-21T18:33:04.306Z"
   },
   {
    "duration": 37,
    "start_time": "2023-05-21T18:33:24.898Z"
   },
   {
    "duration": 33,
    "start_time": "2023-05-21T18:33:29.580Z"
   },
   {
    "duration": 37,
    "start_time": "2023-05-21T18:34:12.516Z"
   },
   {
    "duration": 56,
    "start_time": "2023-05-21T18:35:06.940Z"
   },
   {
    "duration": 24,
    "start_time": "2023-05-21T18:35:10.408Z"
   },
   {
    "duration": 29,
    "start_time": "2023-05-21T18:35:13.334Z"
   },
   {
    "duration": 19,
    "start_time": "2023-05-21T18:35:25.074Z"
   },
   {
    "duration": 291,
    "start_time": "2023-05-21T18:35:46.791Z"
   },
   {
    "duration": 246,
    "start_time": "2023-05-21T18:36:03.470Z"
   },
   {
    "duration": 543,
    "start_time": "2023-05-21T18:36:26.592Z"
   },
   {
    "duration": 358,
    "start_time": "2023-05-21T18:36:32.864Z"
   },
   {
    "duration": 477,
    "start_time": "2023-05-21T18:36:40.960Z"
   },
   {
    "duration": 464,
    "start_time": "2023-05-21T18:36:47.259Z"
   },
   {
    "duration": 470,
    "start_time": "2023-05-21T18:37:22.808Z"
   },
   {
    "duration": 56,
    "start_time": "2023-05-21T18:37:28.963Z"
   },
   {
    "duration": 474,
    "start_time": "2023-05-21T18:37:31.915Z"
   },
   {
    "duration": 249,
    "start_time": "2023-05-21T18:37:35.762Z"
   },
   {
    "duration": 265,
    "start_time": "2023-05-21T18:37:47.906Z"
   },
   {
    "duration": 20,
    "start_time": "2023-05-21T18:40:00.560Z"
   },
   {
    "duration": 26,
    "start_time": "2023-05-21T18:40:53.585Z"
   },
   {
    "duration": 42,
    "start_time": "2023-05-21T18:43:49.259Z"
   },
   {
    "duration": 16,
    "start_time": "2023-05-21T18:43:58.790Z"
   },
   {
    "duration": 22,
    "start_time": "2023-05-21T18:48:34.908Z"
   },
   {
    "duration": 647,
    "start_time": "2023-05-21T18:49:02.570Z"
   },
   {
    "duration": 128,
    "start_time": "2023-05-21T18:50:05.129Z"
   },
   {
    "duration": 589,
    "start_time": "2023-05-21T18:50:16.852Z"
   },
   {
    "duration": 887,
    "start_time": "2023-05-21T18:50:23.664Z"
   },
   {
    "duration": 655,
    "start_time": "2023-05-21T18:50:35.911Z"
   },
   {
    "duration": 590,
    "start_time": "2023-05-21T18:51:46.869Z"
   },
   {
    "duration": 603,
    "start_time": "2023-05-21T18:52:45.176Z"
   },
   {
    "duration": 18,
    "start_time": "2023-05-21T18:52:48.484Z"
   },
   {
    "duration": 63,
    "start_time": "2023-05-21T18:53:53.515Z"
   },
   {
    "duration": 62,
    "start_time": "2023-05-21T18:54:00.952Z"
   },
   {
    "duration": 69,
    "start_time": "2023-05-21T18:54:29.343Z"
   },
   {
    "duration": 54,
    "start_time": "2023-05-21T18:55:40.904Z"
   },
   {
    "duration": 61,
    "start_time": "2023-05-21T18:55:45.681Z"
   },
   {
    "duration": 63,
    "start_time": "2023-05-21T18:55:51.066Z"
   },
   {
    "duration": 1341,
    "start_time": "2023-05-22T15:40:25.774Z"
   },
   {
    "duration": 1210,
    "start_time": "2023-05-22T15:40:27.118Z"
   },
   {
    "duration": 925,
    "start_time": "2023-05-22T15:40:28.330Z"
   },
   {
    "duration": 31,
    "start_time": "2023-05-22T15:40:29.257Z"
   },
   {
    "duration": 112,
    "start_time": "2023-05-22T15:40:29.290Z"
   },
   {
    "duration": 274,
    "start_time": "2023-05-22T15:40:29.404Z"
   },
   {
    "duration": 42,
    "start_time": "2023-05-22T15:40:29.680Z"
   },
   {
    "duration": 86,
    "start_time": "2023-05-22T15:40:29.724Z"
   },
   {
    "duration": 439,
    "start_time": "2023-05-22T15:40:29.817Z"
   },
   {
    "duration": 30,
    "start_time": "2023-05-22T15:40:30.258Z"
   },
   {
    "duration": 404,
    "start_time": "2023-05-22T15:40:30.289Z"
   },
   {
    "duration": 503,
    "start_time": "2023-05-22T15:40:30.694Z"
   },
   {
    "duration": 21,
    "start_time": "2023-05-22T15:40:31.199Z"
   },
   {
    "duration": 66,
    "start_time": "2023-05-22T15:40:31.222Z"
   },
   {
    "duration": 63,
    "start_time": "2023-05-22T15:40:31.290Z"
   },
   {
    "duration": 57,
    "start_time": "2023-05-22T15:40:31.354Z"
   },
   {
    "duration": 40,
    "start_time": "2023-05-22T15:40:31.413Z"
   },
   {
    "duration": 258,
    "start_time": "2023-05-22T15:40:31.455Z"
   },
   {
    "duration": 262,
    "start_time": "2023-05-22T15:40:31.715Z"
   },
   {
    "duration": 258,
    "start_time": "2023-05-22T15:40:31.979Z"
   },
   {
    "duration": 27,
    "start_time": "2023-05-22T15:40:32.239Z"
   },
   {
    "duration": 109,
    "start_time": "2023-05-22T15:40:32.268Z"
   },
   {
    "duration": 32,
    "start_time": "2023-05-22T15:40:32.379Z"
   },
   {
    "duration": 619,
    "start_time": "2023-05-22T15:40:32.413Z"
   },
   {
    "duration": 66,
    "start_time": "2023-05-22T15:40:33.034Z"
   },
   {
    "duration": 295,
    "start_time": "2023-05-22T15:40:33.102Z"
   },
   {
    "duration": 293,
    "start_time": "2023-05-22T15:40:33.398Z"
   },
   {
    "duration": 55,
    "start_time": "2023-05-22T15:40:33.694Z"
   },
   {
    "duration": 17,
    "start_time": "2023-05-22T15:40:33.750Z"
   },
   {
    "duration": 88,
    "start_time": "2023-05-22T15:40:33.768Z"
   },
   {
    "duration": 71,
    "start_time": "2023-05-22T15:40:33.857Z"
   },
   {
    "duration": 2,
    "start_time": "2023-05-22T17:51:19.295Z"
   },
   {
    "duration": 1371,
    "start_time": "2023-05-22T17:51:19.299Z"
   },
   {
    "duration": 921,
    "start_time": "2023-05-22T17:51:20.671Z"
   },
   {
    "duration": 40,
    "start_time": "2023-05-22T17:51:21.594Z"
   },
   {
    "duration": 67,
    "start_time": "2023-05-22T17:51:21.637Z"
   },
   {
    "duration": 305,
    "start_time": "2023-05-22T17:51:21.706Z"
   },
   {
    "duration": 42,
    "start_time": "2023-05-22T17:51:22.017Z"
   },
   {
    "duration": 97,
    "start_time": "2023-05-22T17:51:22.061Z"
   },
   {
    "duration": 454,
    "start_time": "2023-05-22T17:51:22.160Z"
   },
   {
    "duration": 47,
    "start_time": "2023-05-22T17:51:22.616Z"
   },
   {
    "duration": 437,
    "start_time": "2023-05-22T17:51:22.665Z"
   },
   {
    "duration": 439,
    "start_time": "2023-05-22T17:51:23.104Z"
   },
   {
    "duration": 18,
    "start_time": "2023-05-22T17:51:23.544Z"
   },
   {
    "duration": 38,
    "start_time": "2023-05-22T17:51:23.564Z"
   },
   {
    "duration": 48,
    "start_time": "2023-05-22T17:51:23.603Z"
   },
   {
    "duration": 34,
    "start_time": "2023-05-22T17:51:23.654Z"
   },
   {
    "duration": 60,
    "start_time": "2023-05-22T17:51:23.690Z"
   },
   {
    "duration": 257,
    "start_time": "2023-05-22T17:51:23.752Z"
   },
   {
    "duration": 283,
    "start_time": "2023-05-22T17:51:24.010Z"
   },
   {
    "duration": 287,
    "start_time": "2023-05-22T17:51:24.294Z"
   },
   {
    "duration": 21,
    "start_time": "2023-05-22T17:51:24.582Z"
   },
   {
    "duration": 107,
    "start_time": "2023-05-22T17:51:24.605Z"
   },
   {
    "duration": 53,
    "start_time": "2023-05-22T17:51:24.717Z"
   },
   {
    "duration": 703,
    "start_time": "2023-05-22T17:51:24.772Z"
   },
   {
    "duration": 75,
    "start_time": "2023-05-22T17:51:25.476Z"
   },
   {
    "duration": 313,
    "start_time": "2023-05-22T17:51:25.553Z"
   },
   {
    "duration": 296,
    "start_time": "2023-05-22T17:51:25.868Z"
   },
   {
    "duration": 54,
    "start_time": "2023-05-22T17:51:26.165Z"
   },
   {
    "duration": 25,
    "start_time": "2023-05-22T17:51:26.222Z"
   },
   {
    "duration": 77,
    "start_time": "2023-05-22T17:51:26.249Z"
   },
   {
    "duration": 77,
    "start_time": "2023-05-22T17:51:26.328Z"
   },
   {
    "duration": 505,
    "start_time": "2023-05-22T18:05:15.858Z"
   },
   {
    "duration": 173,
    "start_time": "2023-05-22T18:08:03.403Z"
   },
   {
    "duration": 74,
    "start_time": "2023-05-22T18:08:20.641Z"
   },
   {
    "duration": 11,
    "start_time": "2023-05-22T18:08:35.412Z"
   },
   {
    "duration": 6,
    "start_time": "2023-05-22T18:08:42.778Z"
   },
   {
    "duration": 18,
    "start_time": "2023-05-22T18:08:48.315Z"
   },
   {
    "duration": 5,
    "start_time": "2023-05-22T18:09:39.401Z"
   },
   {
    "duration": 1151,
    "start_time": "2023-05-22T18:09:39.408Z"
   },
   {
    "duration": 1092,
    "start_time": "2023-05-22T18:09:40.563Z"
   },
   {
    "duration": 35,
    "start_time": "2023-05-22T18:09:41.657Z"
   },
   {
    "duration": 73,
    "start_time": "2023-05-22T18:09:41.694Z"
   },
   {
    "duration": 332,
    "start_time": "2023-05-22T18:09:41.769Z"
   },
   {
    "duration": 39,
    "start_time": "2023-05-22T18:09:42.103Z"
   },
   {
    "duration": 130,
    "start_time": "2023-05-22T18:09:42.144Z"
   },
   {
    "duration": 493,
    "start_time": "2023-05-22T18:09:42.276Z"
   },
   {
    "duration": 35,
    "start_time": "2023-05-22T18:09:42.770Z"
   },
   {
    "duration": 530,
    "start_time": "2023-05-22T18:09:42.806Z"
   },
   {
    "duration": 477,
    "start_time": "2023-05-22T18:09:43.344Z"
   },
   {
    "duration": 25,
    "start_time": "2023-05-22T18:09:43.823Z"
   },
   {
    "duration": 60,
    "start_time": "2023-05-22T18:09:43.851Z"
   },
   {
    "duration": 52,
    "start_time": "2023-05-22T18:09:43.913Z"
   },
   {
    "duration": 44,
    "start_time": "2023-05-22T18:09:43.967Z"
   },
   {
    "duration": 30,
    "start_time": "2023-05-22T18:09:44.013Z"
   },
   {
    "duration": 324,
    "start_time": "2023-05-22T18:09:44.044Z"
   },
   {
    "duration": 358,
    "start_time": "2023-05-22T18:09:44.370Z"
   },
   {
    "duration": 350,
    "start_time": "2023-05-22T18:09:44.730Z"
   },
   {
    "duration": 24,
    "start_time": "2023-05-22T18:09:45.082Z"
   },
   {
    "duration": 185,
    "start_time": "2023-05-22T18:09:45.108Z"
   },
   {
    "duration": 57,
    "start_time": "2023-05-22T18:09:45.294Z"
   },
   {
    "duration": 875,
    "start_time": "2023-05-22T18:09:45.353Z"
   },
   {
    "duration": 98,
    "start_time": "2023-05-22T18:09:46.232Z"
   },
   {
    "duration": 364,
    "start_time": "2023-05-22T18:09:46.331Z"
   },
   {
    "duration": 366,
    "start_time": "2023-05-22T18:09:46.697Z"
   },
   {
    "duration": 68,
    "start_time": "2023-05-22T18:09:47.077Z"
   },
   {
    "duration": 24,
    "start_time": "2023-05-22T18:09:47.146Z"
   },
   {
    "duration": 90,
    "start_time": "2023-05-22T18:09:47.174Z"
   },
   {
    "duration": 105,
    "start_time": "2023-05-22T18:09:47.270Z"
   },
   {
    "duration": 21,
    "start_time": "2023-05-22T18:12:57.867Z"
   },
   {
    "duration": 46,
    "start_time": "2023-05-22T18:13:18.506Z"
   },
   {
    "duration": 161,
    "start_time": "2023-05-22T18:13:22.810Z"
   },
   {
    "duration": 6,
    "start_time": "2023-05-22T18:13:46.290Z"
   },
   {
    "duration": 148,
    "start_time": "2023-05-22T18:19:04.868Z"
   },
   {
    "duration": 595,
    "start_time": "2023-05-22T18:19:13.385Z"
   },
   {
    "duration": 17,
    "start_time": "2023-05-22T18:19:21.666Z"
   },
   {
    "duration": 24,
    "start_time": "2023-05-22T18:19:30.476Z"
   },
   {
    "duration": 5,
    "start_time": "2023-05-22T18:19:32.274Z"
   },
   {
    "duration": 5,
    "start_time": "2023-05-22T18:20:33.663Z"
   },
   {
    "duration": 1240,
    "start_time": "2023-05-22T18:20:33.671Z"
   },
   {
    "duration": 1275,
    "start_time": "2023-05-22T18:20:34.914Z"
   },
   {
    "duration": 37,
    "start_time": "2023-05-22T18:20:36.190Z"
   },
   {
    "duration": 79,
    "start_time": "2023-05-22T18:20:36.235Z"
   },
   {
    "duration": 383,
    "start_time": "2023-05-22T18:20:36.316Z"
   },
   {
    "duration": 66,
    "start_time": "2023-05-22T18:20:36.701Z"
   },
   {
    "duration": 101,
    "start_time": "2023-05-22T18:20:36.769Z"
   },
   {
    "duration": 525,
    "start_time": "2023-05-22T18:20:36.872Z"
   },
   {
    "duration": 62,
    "start_time": "2023-05-22T18:20:37.399Z"
   },
   {
    "duration": 595,
    "start_time": "2023-05-22T18:20:37.466Z"
   },
   {
    "duration": 539,
    "start_time": "2023-05-22T18:20:38.066Z"
   },
   {
    "duration": 54,
    "start_time": "2023-05-22T18:20:38.607Z"
   },
   {
    "duration": 68,
    "start_time": "2023-05-22T18:20:38.664Z"
   },
   {
    "duration": 76,
    "start_time": "2023-05-22T18:20:38.735Z"
   },
   {
    "duration": 67,
    "start_time": "2023-05-22T18:20:38.813Z"
   },
   {
    "duration": 102,
    "start_time": "2023-05-22T18:20:38.885Z"
   },
   {
    "duration": 332,
    "start_time": "2023-05-22T18:20:38.997Z"
   },
   {
    "duration": 329,
    "start_time": "2023-05-22T18:20:39.331Z"
   },
   {
    "duration": 341,
    "start_time": "2023-05-22T18:20:39.662Z"
   },
   {
    "duration": 38,
    "start_time": "2023-05-22T18:20:40.005Z"
   },
   {
    "duration": 157,
    "start_time": "2023-05-22T18:20:40.055Z"
   },
   {
    "duration": 99,
    "start_time": "2023-05-22T18:20:40.214Z"
   },
   {
    "duration": 850,
    "start_time": "2023-05-22T18:20:40.315Z"
   },
   {
    "duration": 80,
    "start_time": "2023-05-22T18:20:41.169Z"
   },
   {
    "duration": 332,
    "start_time": "2023-05-22T18:20:41.250Z"
   },
   {
    "duration": 363,
    "start_time": "2023-05-22T18:20:41.584Z"
   },
   {
    "duration": 54,
    "start_time": "2023-05-22T18:20:41.954Z"
   },
   {
    "duration": 30,
    "start_time": "2023-05-22T18:20:42.009Z"
   },
   {
    "duration": 116,
    "start_time": "2023-05-22T18:20:42.055Z"
   },
   {
    "duration": 113,
    "start_time": "2023-05-22T18:20:42.173Z"
   },
   {
    "duration": 109,
    "start_time": "2023-05-22T18:20:42.288Z"
   },
   {
    "duration": 498,
    "start_time": "2023-05-22T18:21:43.469Z"
   },
   {
    "duration": 523,
    "start_time": "2023-05-22T18:21:49.603Z"
   },
   {
    "duration": 15058,
    "start_time": "2023-05-22T18:22:00.098Z"
   },
   {
    "duration": 14650,
    "start_time": "2023-05-22T18:22:30.402Z"
   },
   {
    "duration": 4,
    "start_time": "2023-05-22T18:36:20.608Z"
   },
   {
    "duration": 1238,
    "start_time": "2023-05-22T18:36:20.614Z"
   },
   {
    "duration": 1136,
    "start_time": "2023-05-22T18:36:21.853Z"
   },
   {
    "duration": 41,
    "start_time": "2023-05-22T18:36:22.990Z"
   },
   {
    "duration": 92,
    "start_time": "2023-05-22T18:36:23.034Z"
   },
   {
    "duration": 372,
    "start_time": "2023-05-22T18:36:23.132Z"
   },
   {
    "duration": 56,
    "start_time": "2023-05-22T18:36:23.506Z"
   },
   {
    "duration": 150,
    "start_time": "2023-05-22T18:36:23.564Z"
   },
   {
    "duration": 493,
    "start_time": "2023-05-22T18:36:23.715Z"
   },
   {
    "duration": 42,
    "start_time": "2023-05-22T18:36:24.210Z"
   },
   {
    "duration": 496,
    "start_time": "2023-05-22T18:36:24.254Z"
   },
   {
    "duration": 631,
    "start_time": "2023-05-22T18:36:24.752Z"
   },
   {
    "duration": 25,
    "start_time": "2023-05-22T18:36:25.386Z"
   },
   {
    "duration": 79,
    "start_time": "2023-05-22T18:36:25.415Z"
   },
   {
    "duration": 55,
    "start_time": "2023-05-22T18:36:25.496Z"
   },
   {
    "duration": 82,
    "start_time": "2023-05-22T18:36:25.553Z"
   },
   {
    "duration": 33,
    "start_time": "2023-05-22T18:36:25.643Z"
   },
   {
    "duration": 308,
    "start_time": "2023-05-22T18:36:25.681Z"
   },
   {
    "duration": 346,
    "start_time": "2023-05-22T18:36:25.990Z"
   },
   {
    "duration": 335,
    "start_time": "2023-05-22T18:36:26.338Z"
   },
   {
    "duration": 20,
    "start_time": "2023-05-22T18:36:26.677Z"
   },
   {
    "duration": 175,
    "start_time": "2023-05-22T18:36:26.699Z"
   },
   {
    "duration": 100,
    "start_time": "2023-05-22T18:36:26.880Z"
   },
   {
    "duration": 832,
    "start_time": "2023-05-22T18:36:26.982Z"
   },
   {
    "duration": 93,
    "start_time": "2023-05-22T18:36:27.815Z"
   },
   {
    "duration": 357,
    "start_time": "2023-05-22T18:36:27.910Z"
   },
   {
    "duration": 354,
    "start_time": "2023-05-22T18:36:28.269Z"
   },
   {
    "duration": 59,
    "start_time": "2023-05-22T18:36:28.638Z"
   },
   {
    "duration": 36,
    "start_time": "2023-05-22T18:36:28.699Z"
   },
   {
    "duration": 142,
    "start_time": "2023-05-22T18:36:28.737Z"
   },
   {
    "duration": 101,
    "start_time": "2023-05-22T18:36:28.881Z"
   },
   {
    "duration": 126,
    "start_time": "2023-05-22T18:36:28.984Z"
   },
   {
    "duration": 336,
    "start_time": "2023-05-22T18:37:26.141Z"
   },
   {
    "duration": 83,
    "start_time": "2023-05-22T18:37:40.548Z"
   },
   {
    "duration": 9,
    "start_time": "2023-05-22T18:37:42.445Z"
   },
   {
    "duration": 122,
    "start_time": "2023-05-22T18:37:51.460Z"
   },
   {
    "duration": 5,
    "start_time": "2023-05-22T18:37:53.173Z"
   },
   {
    "duration": 9,
    "start_time": "2023-05-22T18:37:55.952Z"
   },
   {
    "duration": 371,
    "start_time": "2023-05-22T18:44:22.450Z"
   },
   {
    "duration": 45,
    "start_time": "2023-05-22T18:44:31.407Z"
   },
   {
    "duration": 5,
    "start_time": "2023-05-22T18:45:48.363Z"
   },
   {
    "duration": 14969,
    "start_time": "2023-05-22T18:46:51.162Z"
   },
   {
    "duration": 8,
    "start_time": "2023-05-22T18:47:10.436Z"
   },
   {
    "duration": 2990,
    "start_time": "2023-05-22T18:47:35.441Z"
   },
   {
    "duration": 2732,
    "start_time": "2023-05-22T18:47:53.314Z"
   },
   {
    "duration": 15,
    "start_time": "2023-05-22T18:48:05.657Z"
   },
   {
    "duration": 186,
    "start_time": "2023-05-22T18:48:28.056Z"
   },
   {
    "duration": 8,
    "start_time": "2023-05-22T18:48:51.468Z"
   },
   {
    "duration": 15,
    "start_time": "2023-05-22T18:48:59.113Z"
   },
   {
    "duration": 4,
    "start_time": "2023-05-22T18:52:23.782Z"
   },
   {
    "duration": 6,
    "start_time": "2023-05-22T18:52:41.643Z"
   },
   {
    "duration": 1833,
    "start_time": "2023-05-23T15:06:38.113Z"
   },
   {
    "duration": 1496,
    "start_time": "2023-05-23T15:06:39.948Z"
   },
   {
    "duration": 1192,
    "start_time": "2023-05-23T15:06:41.446Z"
   },
   {
    "duration": 47,
    "start_time": "2023-05-23T15:06:42.640Z"
   },
   {
    "duration": 156,
    "start_time": "2023-05-23T15:06:42.689Z"
   },
   {
    "duration": 385,
    "start_time": "2023-05-23T15:06:42.847Z"
   },
   {
    "duration": 33,
    "start_time": "2023-05-23T15:06:43.233Z"
   },
   {
    "duration": 144,
    "start_time": "2023-05-23T15:06:43.267Z"
   },
   {
    "duration": 575,
    "start_time": "2023-05-23T15:06:43.413Z"
   },
   {
    "duration": 50,
    "start_time": "2023-05-23T15:06:43.990Z"
   },
   {
    "duration": 483,
    "start_time": "2023-05-23T15:06:44.043Z"
   },
   {
    "duration": 542,
    "start_time": "2023-05-23T15:06:44.527Z"
   },
   {
    "duration": 30,
    "start_time": "2023-05-23T15:06:45.072Z"
   },
   {
    "duration": 82,
    "start_time": "2023-05-23T15:06:45.104Z"
   },
   {
    "duration": 87,
    "start_time": "2023-05-23T15:06:45.188Z"
   },
   {
    "duration": 93,
    "start_time": "2023-05-23T15:06:45.276Z"
   },
   {
    "duration": 33,
    "start_time": "2023-05-23T15:06:45.370Z"
   },
   {
    "duration": 402,
    "start_time": "2023-05-23T15:06:45.404Z"
   },
   {
    "duration": 306,
    "start_time": "2023-05-23T15:06:45.807Z"
   },
   {
    "duration": 290,
    "start_time": "2023-05-23T15:06:46.115Z"
   },
   {
    "duration": 22,
    "start_time": "2023-05-23T15:06:46.407Z"
   },
   {
    "duration": 117,
    "start_time": "2023-05-23T15:06:46.435Z"
   },
   {
    "duration": 62,
    "start_time": "2023-05-23T15:06:46.554Z"
   },
   {
    "duration": 735,
    "start_time": "2023-05-23T15:06:46.617Z"
   },
   {
    "duration": 75,
    "start_time": "2023-05-23T15:06:47.353Z"
   },
   {
    "duration": 351,
    "start_time": "2023-05-23T15:06:47.430Z"
   },
   {
    "duration": 324,
    "start_time": "2023-05-23T15:06:47.783Z"
   },
   {
    "duration": 51,
    "start_time": "2023-05-23T15:06:48.111Z"
   },
   {
    "duration": 34,
    "start_time": "2023-05-23T15:06:48.163Z"
   },
   {
    "duration": 67,
    "start_time": "2023-05-23T15:06:48.198Z"
   },
   {
    "duration": 95,
    "start_time": "2023-05-23T15:06:48.267Z"
   },
   {
    "duration": 124,
    "start_time": "2023-05-23T15:06:48.364Z"
   },
   {
    "duration": 258,
    "start_time": "2023-05-23T15:06:48.490Z"
   },
   {
    "duration": 111,
    "start_time": "2023-05-23T15:06:48.752Z"
   },
   {
    "duration": 3,
    "start_time": "2023-05-23T15:06:48.865Z"
   },
   {
    "duration": 84,
    "start_time": "2023-05-23T15:06:48.870Z"
   },
   {
    "duration": 485,
    "start_time": "2023-05-23T15:06:48.956Z"
   },
   {
    "duration": 20,
    "start_time": "2023-05-23T15:06:49.443Z"
   },
   {
    "duration": 15592,
    "start_time": "2023-05-23T15:06:49.465Z"
   },
   {
    "duration": 10,
    "start_time": "2023-05-23T15:07:05.129Z"
   },
   {
    "duration": 3311,
    "start_time": "2023-05-23T15:07:05.224Z"
   },
   {
    "duration": 112,
    "start_time": "2023-05-23T15:07:08.537Z"
   },
   {
    "duration": 188,
    "start_time": "2023-05-23T15:07:08.651Z"
   },
   {
    "duration": 366273,
    "start_time": "2023-05-23T15:09:51.868Z"
   },
   {
    "duration": 123,
    "start_time": "2023-05-23T15:17:50.043Z"
   },
   {
    "duration": 528,
    "start_time": "2023-05-23T15:23:40.911Z"
   },
   {
    "duration": 530,
    "start_time": "2023-05-23T15:23:47.622Z"
   },
   {
    "duration": 135,
    "start_time": "2023-05-23T15:23:55.254Z"
   },
   {
    "duration": 90,
    "start_time": "2023-05-23T15:24:17.671Z"
   },
   {
    "duration": 5,
    "start_time": "2023-05-23T15:25:11.804Z"
   },
   {
    "duration": 6,
    "start_time": "2023-05-23T15:25:57.592Z"
   },
   {
    "duration": 6,
    "start_time": "2023-05-23T15:26:07.345Z"
   },
   {
    "duration": 115,
    "start_time": "2023-05-23T15:34:17.342Z"
   },
   {
    "duration": 93,
    "start_time": "2023-05-23T15:34:34.059Z"
   },
   {
    "duration": 176,
    "start_time": "2023-05-23T15:35:03.094Z"
   },
   {
    "duration": 4,
    "start_time": "2023-05-23T15:35:16.161Z"
   },
   {
    "duration": 111,
    "start_time": "2023-05-23T15:35:20.152Z"
   },
   {
    "duration": 5,
    "start_time": "2023-05-23T15:36:11.547Z"
   },
   {
    "duration": 107057,
    "start_time": "2023-05-23T15:36:14.677Z"
   },
   {
    "duration": 3791,
    "start_time": "2023-05-23T15:38:07.642Z"
   },
   {
    "duration": 63,
    "start_time": "2023-05-23T15:38:13.280Z"
   },
   {
    "duration": 16,
    "start_time": "2023-05-23T15:38:29.269Z"
   },
   {
    "duration": 9,
    "start_time": "2023-05-23T15:38:47.191Z"
   },
   {
    "duration": 7,
    "start_time": "2023-05-23T15:39:35.068Z"
   },
   {
    "duration": 9926613,
    "start_time": "2023-05-23T15:41:24.601Z"
   },
   {
    "duration": 7448,
    "start_time": "2023-05-23T18:28:24.432Z"
   },
   {
    "duration": 128759,
    "start_time": "2023-05-23T18:28:33.384Z"
   },
   {
    "duration": 31535,
    "start_time": "2023-05-23T18:31:26.797Z"
   },
   {
    "duration": 98,
    "start_time": "2023-05-23T18:32:10.458Z"
   },
   {
    "duration": 72,
    "start_time": "2023-05-23T18:32:25.856Z"
   },
   {
    "duration": 9,
    "start_time": "2023-05-23T18:32:28.376Z"
   },
   {
    "duration": 365233,
    "start_time": "2023-05-23T18:33:54.720Z"
   },
   {
    "duration": 81210,
    "start_time": "2023-05-23T18:40:58.342Z"
   },
   {
    "duration": 75,
    "start_time": "2023-05-23T18:42:19.557Z"
   },
   {
    "duration": 142,
    "start_time": "2023-05-23T18:43:53.906Z"
   },
   {
    "duration": 7,
    "start_time": "2023-05-23T18:43:55.957Z"
   },
   {
    "duration": 365,
    "start_time": "2023-05-23T18:53:00.588Z"
   },
   {
    "duration": 3064,
    "start_time": "2023-05-24T07:03:44.273Z"
   },
   {
    "duration": 1366,
    "start_time": "2023-05-24T07:03:47.340Z"
   },
   {
    "duration": 1144,
    "start_time": "2023-05-24T07:03:48.708Z"
   },
   {
    "duration": 39,
    "start_time": "2023-05-24T07:03:49.854Z"
   },
   {
    "duration": 138,
    "start_time": "2023-05-24T07:03:49.896Z"
   },
   {
    "duration": 357,
    "start_time": "2023-05-24T07:03:50.036Z"
   },
   {
    "duration": 29,
    "start_time": "2023-05-24T07:03:50.395Z"
   },
   {
    "duration": 129,
    "start_time": "2023-05-24T07:03:50.426Z"
   },
   {
    "duration": 610,
    "start_time": "2023-05-24T07:03:50.556Z"
   },
   {
    "duration": 34,
    "start_time": "2023-05-24T07:03:51.168Z"
   },
   {
    "duration": 523,
    "start_time": "2023-05-24T07:03:51.204Z"
   },
   {
    "duration": 587,
    "start_time": "2023-05-24T07:03:51.729Z"
   },
   {
    "duration": 33,
    "start_time": "2023-05-24T07:03:52.318Z"
   },
   {
    "duration": 98,
    "start_time": "2023-05-24T07:03:52.355Z"
   },
   {
    "duration": 70,
    "start_time": "2023-05-24T07:03:52.456Z"
   },
   {
    "duration": 100,
    "start_time": "2023-05-24T07:03:52.529Z"
   },
   {
    "duration": 35,
    "start_time": "2023-05-24T07:03:52.632Z"
   },
   {
    "duration": 322,
    "start_time": "2023-05-24T07:03:52.669Z"
   },
   {
    "duration": 326,
    "start_time": "2023-05-24T07:03:52.993Z"
   },
   {
    "duration": 300,
    "start_time": "2023-05-24T07:03:53.321Z"
   },
   {
    "duration": 26,
    "start_time": "2023-05-24T07:03:53.623Z"
   },
   {
    "duration": 127,
    "start_time": "2023-05-24T07:03:53.651Z"
   },
   {
    "duration": 57,
    "start_time": "2023-05-24T07:03:53.780Z"
   },
   {
    "duration": 449,
    "start_time": "2023-05-24T07:03:53.839Z"
   },
   {
    "duration": 87,
    "start_time": "2023-05-24T07:03:54.291Z"
   },
   {
    "duration": 333,
    "start_time": "2023-05-24T07:03:54.380Z"
   },
   {
    "duration": 307,
    "start_time": "2023-05-24T07:03:54.714Z"
   },
   {
    "duration": 53,
    "start_time": "2023-05-24T07:03:55.023Z"
   },
   {
    "duration": 26,
    "start_time": "2023-05-24T07:03:55.078Z"
   },
   {
    "duration": 140,
    "start_time": "2023-05-24T07:03:55.106Z"
   },
   {
    "duration": 84,
    "start_time": "2023-05-24T07:03:55.248Z"
   },
   {
    "duration": 133,
    "start_time": "2023-05-24T07:03:55.334Z"
   },
   {
    "duration": 232,
    "start_time": "2023-05-24T07:03:55.469Z"
   },
   {
    "duration": 127,
    "start_time": "2023-05-24T07:03:55.703Z"
   },
   {
    "duration": 3,
    "start_time": "2023-05-24T07:03:55.832Z"
   },
   {
    "duration": 53,
    "start_time": "2023-05-24T07:03:55.837Z"
   },
   {
    "duration": 439,
    "start_time": "2023-05-24T07:03:55.892Z"
   },
   {
    "duration": 23,
    "start_time": "2023-05-24T07:03:56.333Z"
   },
   {
    "duration": 66,
    "start_time": "2023-05-24T07:03:56.358Z"
   },
   {
    "duration": 15222,
    "start_time": "2023-05-24T07:03:56.425Z"
   },
   {
    "duration": 93,
    "start_time": "2023-05-24T07:04:11.653Z"
   },
   {
    "duration": 4101,
    "start_time": "2023-05-24T07:04:11.748Z"
   },
   {
    "duration": 106,
    "start_time": "2023-05-24T07:04:15.851Z"
   },
   {
    "duration": 100,
    "start_time": "2023-05-24T07:04:15.959Z"
   },
   {
    "duration": 80706,
    "start_time": "2023-05-24T07:04:16.146Z"
   },
   {
    "duration": 2792,
    "start_time": "2023-05-24T07:05:36.856Z"
   },
   {
    "duration": 99,
    "start_time": "2023-05-24T07:05:39.650Z"
   },
   {
    "duration": 97,
    "start_time": "2023-05-24T07:05:39.751Z"
   },
   {
    "duration": 11304,
    "start_time": "2023-05-24T07:05:39.850Z"
   },
   {
    "duration": 604,
    "start_time": "2023-05-24T07:05:51.156Z"
   },
   {
    "duration": 51,
    "start_time": "2023-05-24T07:05:51.761Z"
   },
   {
    "duration": 0,
    "start_time": "2023-05-24T07:05:51.814Z"
   },
   {
    "duration": 0,
    "start_time": "2023-05-24T07:05:51.815Z"
   },
   {
    "duration": 0,
    "start_time": "2023-05-24T07:05:51.816Z"
   },
   {
    "duration": 0,
    "start_time": "2023-05-24T07:05:51.818Z"
   },
   {
    "duration": 7,
    "start_time": "2023-05-24T07:51:15.748Z"
   },
   {
    "duration": 56468,
    "start_time": "2023-05-24T07:51:20.087Z"
   },
   {
    "duration": 4004,
    "start_time": "2023-05-24T07:52:16.557Z"
   },
   {
    "duration": 284,
    "start_time": "2023-05-24T07:52:20.563Z"
   },
   {
    "duration": 6,
    "start_time": "2023-05-24T07:52:20.850Z"
   },
   {
    "duration": 56,
    "start_time": "2023-05-24T13:43:39.275Z"
   },
   {
    "duration": 1648,
    "start_time": "2023-05-24T13:43:42.571Z"
   },
   {
    "duration": 3080,
    "start_time": "2023-05-24T13:43:44.221Z"
   },
   {
    "duration": 1024,
    "start_time": "2023-05-24T13:43:47.303Z"
   },
   {
    "duration": 38,
    "start_time": "2023-05-24T13:43:48.329Z"
   },
   {
    "duration": 125,
    "start_time": "2023-05-24T13:43:48.369Z"
   },
   {
    "duration": 356,
    "start_time": "2023-05-24T13:43:48.496Z"
   },
   {
    "duration": 42,
    "start_time": "2023-05-24T13:43:48.854Z"
   },
   {
    "duration": 75,
    "start_time": "2023-05-24T13:43:48.898Z"
   },
   {
    "duration": 427,
    "start_time": "2023-05-24T13:43:48.988Z"
   },
   {
    "duration": 51,
    "start_time": "2023-05-24T13:44:03.673Z"
   },
   {
    "duration": 422,
    "start_time": "2023-05-24T13:44:20.087Z"
   },
   {
    "duration": 383,
    "start_time": "2023-05-24T13:44:52.263Z"
   },
   {
    "duration": 14,
    "start_time": "2023-05-24T13:44:55.055Z"
   },
   {
    "duration": 32,
    "start_time": "2023-05-24T13:45:01.889Z"
   },
   {
    "duration": 29,
    "start_time": "2023-05-24T13:45:03.416Z"
   },
   {
    "duration": 31,
    "start_time": "2023-05-24T13:45:21.563Z"
   },
   {
    "duration": 28,
    "start_time": "2023-05-24T13:45:30.499Z"
   },
   {
    "duration": 333,
    "start_time": "2023-05-24T13:45:33.581Z"
   },
   {
    "duration": 251,
    "start_time": "2023-05-24T13:45:38.287Z"
   },
   {
    "duration": 255,
    "start_time": "2023-05-24T13:45:40.023Z"
   },
   {
    "duration": 18,
    "start_time": "2023-05-24T13:45:42.375Z"
   },
   {
    "duration": 67,
    "start_time": "2023-05-24T13:49:46.559Z"
   },
   {
    "duration": 4,
    "start_time": "2023-05-24T13:49:52.678Z"
   },
   {
    "duration": 927,
    "start_time": "2023-05-24T13:49:52.684Z"
   },
   {
    "duration": 914,
    "start_time": "2023-05-24T13:49:53.614Z"
   },
   {
    "duration": 33,
    "start_time": "2023-05-24T13:49:54.529Z"
   },
   {
    "duration": 88,
    "start_time": "2023-05-24T13:49:54.565Z"
   },
   {
    "duration": 336,
    "start_time": "2023-05-24T13:49:54.655Z"
   },
   {
    "duration": 38,
    "start_time": "2023-05-24T13:49:54.993Z"
   },
   {
    "duration": 92,
    "start_time": "2023-05-24T13:49:55.033Z"
   },
   {
    "duration": 397,
    "start_time": "2023-05-24T13:49:55.127Z"
   },
   {
    "duration": 65,
    "start_time": "2023-05-24T13:49:55.526Z"
   },
   {
    "duration": 359,
    "start_time": "2023-05-24T13:49:55.594Z"
   },
   {
    "duration": 379,
    "start_time": "2023-05-24T13:49:55.955Z"
   },
   {
    "duration": 15,
    "start_time": "2023-05-24T13:49:56.336Z"
   },
   {
    "duration": 44,
    "start_time": "2023-05-24T13:49:56.353Z"
   },
   {
    "duration": 29,
    "start_time": "2023-05-24T13:49:56.399Z"
   },
   {
    "duration": 50,
    "start_time": "2023-05-24T13:49:56.429Z"
   },
   {
    "duration": 30,
    "start_time": "2023-05-24T13:49:56.482Z"
   },
   {
    "duration": 260,
    "start_time": "2023-05-24T13:49:56.515Z"
   },
   {
    "duration": 244,
    "start_time": "2023-05-24T13:49:56.777Z"
   },
   {
    "duration": 249,
    "start_time": "2023-05-24T13:49:57.023Z"
   },
   {
    "duration": 17,
    "start_time": "2023-05-24T13:49:57.274Z"
   },
   {
    "duration": 69,
    "start_time": "2023-05-24T13:50:25.255Z"
   },
   {
    "duration": 27,
    "start_time": "2023-05-24T13:50:31.007Z"
   },
   {
    "duration": 306,
    "start_time": "2023-05-24T13:50:33.055Z"
   },
   {
    "duration": 65,
    "start_time": "2023-05-24T13:50:38.111Z"
   },
   {
    "duration": 278,
    "start_time": "2023-05-24T13:50:51.971Z"
   },
   {
    "duration": 286,
    "start_time": "2023-05-24T13:50:55.665Z"
   },
   {
    "duration": 39,
    "start_time": "2023-05-24T13:51:00.689Z"
   },
   {
    "duration": 18,
    "start_time": "2023-05-24T13:51:04.195Z"
   },
   {
    "duration": 64,
    "start_time": "2023-05-24T13:51:06.751Z"
   },
   {
    "duration": 67,
    "start_time": "2023-05-24T13:51:19.607Z"
   },
   {
    "duration": 84,
    "start_time": "2023-05-24T14:00:44.751Z"
   },
   {
    "duration": 96,
    "start_time": "2023-05-24T14:05:43.363Z"
   },
   {
    "duration": 16,
    "start_time": "2023-05-24T14:06:31.153Z"
   },
   {
    "duration": 17,
    "start_time": "2023-05-24T14:06:46.206Z"
   },
   {
    "duration": 25,
    "start_time": "2023-05-24T14:07:58.302Z"
   },
   {
    "duration": 27,
    "start_time": "2023-05-24T14:08:15.018Z"
   },
   {
    "duration": 36,
    "start_time": "2023-05-24T14:08:21.971Z"
   },
   {
    "duration": 56,
    "start_time": "2023-05-24T14:08:32.371Z"
   },
   {
    "duration": 80,
    "start_time": "2023-05-24T14:09:47.359Z"
   },
   {
    "duration": 29,
    "start_time": "2023-05-24T14:10:04.782Z"
   },
   {
    "duration": 95,
    "start_time": "2023-05-24T14:10:23.019Z"
   },
   {
    "duration": 4,
    "start_time": "2023-05-24T14:13:55.324Z"
   },
   {
    "duration": 15,
    "start_time": "2023-05-24T14:14:09.259Z"
   },
   {
    "duration": 83,
    "start_time": "2023-05-24T14:14:34.795Z"
   },
   {
    "duration": 19,
    "start_time": "2023-05-24T14:14:43.748Z"
   },
   {
    "duration": 11,
    "start_time": "2023-05-24T14:14:53.959Z"
   },
   {
    "duration": 15,
    "start_time": "2023-05-24T14:15:10.463Z"
   },
   {
    "duration": 7,
    "start_time": "2023-05-24T14:15:32.191Z"
   },
   {
    "duration": 1083,
    "start_time": "2023-05-24T14:15:32.201Z"
   },
   {
    "duration": 1013,
    "start_time": "2023-05-24T14:15:33.287Z"
   },
   {
    "duration": 34,
    "start_time": "2023-05-24T14:15:34.302Z"
   },
   {
    "duration": 102,
    "start_time": "2023-05-24T14:15:34.337Z"
   },
   {
    "duration": 384,
    "start_time": "2023-05-24T14:15:34.440Z"
   },
   {
    "duration": 37,
    "start_time": "2023-05-24T14:15:34.826Z"
   },
   {
    "duration": 86,
    "start_time": "2023-05-24T14:15:34.865Z"
   },
   {
    "duration": 436,
    "start_time": "2023-05-24T14:15:34.954Z"
   },
   {
    "duration": 61,
    "start_time": "2023-05-24T14:15:35.392Z"
   },
   {
    "duration": 476,
    "start_time": "2023-05-24T14:15:35.455Z"
   },
   {
    "duration": 472,
    "start_time": "2023-05-24T14:15:35.933Z"
   },
   {
    "duration": 15,
    "start_time": "2023-05-24T14:15:36.407Z"
   },
   {
    "duration": 38,
    "start_time": "2023-05-24T14:15:36.424Z"
   },
   {
    "duration": 60,
    "start_time": "2023-05-24T14:15:36.464Z"
   },
   {
    "duration": 32,
    "start_time": "2023-05-24T14:15:36.526Z"
   },
   {
    "duration": 58,
    "start_time": "2023-05-24T14:15:36.560Z"
   },
   {
    "duration": 300,
    "start_time": "2023-05-24T14:15:36.620Z"
   },
   {
    "duration": 298,
    "start_time": "2023-05-24T14:15:36.921Z"
   },
   {
    "duration": 272,
    "start_time": "2023-05-24T14:15:37.221Z"
   },
   {
    "duration": 20,
    "start_time": "2023-05-24T14:15:37.495Z"
   },
   {
    "duration": 79,
    "start_time": "2023-05-24T14:15:37.516Z"
   },
   {
    "duration": 27,
    "start_time": "2023-05-24T14:15:37.597Z"
   },
   {
    "duration": 327,
    "start_time": "2023-05-24T14:15:37.627Z"
   },
   {
    "duration": 75,
    "start_time": "2023-05-24T14:15:37.956Z"
   },
   {
    "duration": 397,
    "start_time": "2023-05-24T14:15:38.033Z"
   },
   {
    "duration": 328,
    "start_time": "2023-05-24T14:15:38.432Z"
   },
   {
    "duration": 50,
    "start_time": "2023-05-24T14:15:38.762Z"
   },
   {
    "duration": 17,
    "start_time": "2023-05-24T14:15:38.815Z"
   },
   {
    "duration": 93,
    "start_time": "2023-05-24T14:15:38.834Z"
   },
   {
    "duration": 85,
    "start_time": "2023-05-24T14:15:38.929Z"
   },
   {
    "duration": 106,
    "start_time": "2023-05-24T14:15:39.016Z"
   },
   {
    "duration": 104,
    "start_time": "2023-05-24T14:15:42.696Z"
   },
   {
    "duration": 16,
    "start_time": "2023-05-24T14:15:50.774Z"
   },
   {
    "duration": 68,
    "start_time": "2023-05-24T14:20:45.051Z"
   },
   {
    "duration": 42,
    "start_time": "2023-05-24T14:21:02.702Z"
   },
   {
    "duration": 273,
    "start_time": "2023-05-24T14:21:26.513Z"
   },
   {
    "duration": 4,
    "start_time": "2023-05-24T14:21:35.811Z"
   },
   {
    "duration": 62,
    "start_time": "2023-05-24T14:21:56.006Z"
   },
   {
    "duration": 4,
    "start_time": "2023-05-24T14:22:31.081Z"
   },
   {
    "duration": 907,
    "start_time": "2023-05-24T14:22:31.087Z"
   },
   {
    "duration": 973,
    "start_time": "2023-05-24T14:22:31.996Z"
   },
   {
    "duration": 41,
    "start_time": "2023-05-24T14:22:32.971Z"
   },
   {
    "duration": 89,
    "start_time": "2023-05-24T14:22:33.014Z"
   },
   {
    "duration": 387,
    "start_time": "2023-05-24T14:22:33.104Z"
   },
   {
    "duration": 32,
    "start_time": "2023-05-24T14:22:33.493Z"
   },
   {
    "duration": 84,
    "start_time": "2023-05-24T14:22:33.526Z"
   },
   {
    "duration": 392,
    "start_time": "2023-05-24T14:22:33.612Z"
   },
   {
    "duration": 43,
    "start_time": "2023-05-24T14:22:34.005Z"
   },
   {
    "duration": 415,
    "start_time": "2023-05-24T14:22:34.051Z"
   },
   {
    "duration": 381,
    "start_time": "2023-05-24T14:22:34.468Z"
   },
   {
    "duration": 16,
    "start_time": "2023-05-24T14:22:34.851Z"
   },
   {
    "duration": 46,
    "start_time": "2023-05-24T14:22:34.868Z"
   },
   {
    "duration": 27,
    "start_time": "2023-05-24T14:22:34.918Z"
   },
   {
    "duration": 48,
    "start_time": "2023-05-24T14:22:34.947Z"
   },
   {
    "duration": 29,
    "start_time": "2023-05-24T14:22:34.996Z"
   },
   {
    "duration": 264,
    "start_time": "2023-05-24T14:22:35.026Z"
   },
   {
    "duration": 261,
    "start_time": "2023-05-24T14:22:35.292Z"
   },
   {
    "duration": 256,
    "start_time": "2023-05-24T14:22:35.554Z"
   },
   {
    "duration": 20,
    "start_time": "2023-05-24T14:22:35.812Z"
   },
   {
    "duration": 87,
    "start_time": "2023-05-24T14:22:35.834Z"
   },
   {
    "duration": 39,
    "start_time": "2023-05-24T14:22:35.923Z"
   },
   {
    "duration": 384,
    "start_time": "2023-05-24T14:22:35.964Z"
   },
   {
    "duration": 72,
    "start_time": "2023-05-24T14:22:36.350Z"
   },
   {
    "duration": 297,
    "start_time": "2023-05-24T14:22:36.424Z"
   },
   {
    "duration": 315,
    "start_time": "2023-05-24T14:22:36.722Z"
   },
   {
    "duration": 51,
    "start_time": "2023-05-24T14:22:37.038Z"
   },
   {
    "duration": 21,
    "start_time": "2023-05-24T14:22:37.092Z"
   },
   {
    "duration": 49,
    "start_time": "2023-05-24T14:22:37.115Z"
   },
   {
    "duration": 84,
    "start_time": "2023-05-24T14:22:37.165Z"
   },
   {
    "duration": 92,
    "start_time": "2023-05-24T14:22:37.251Z"
   },
   {
    "duration": 94,
    "start_time": "2023-05-24T14:22:37.345Z"
   },
   {
    "duration": 16,
    "start_time": "2023-05-24T14:22:37.441Z"
   },
   {
    "duration": 115,
    "start_time": "2023-05-24T14:29:08.794Z"
   },
   {
    "duration": 1495,
    "start_time": "2023-05-24T14:29:22.401Z"
   },
   {
    "duration": 70,
    "start_time": "2023-05-24T14:29:54.193Z"
   },
   {
    "duration": 5,
    "start_time": "2023-05-24T14:30:19.873Z"
   },
   {
    "duration": 907,
    "start_time": "2023-05-24T14:30:19.879Z"
   },
   {
    "duration": 961,
    "start_time": "2023-05-24T14:30:20.788Z"
   },
   {
    "duration": 38,
    "start_time": "2023-05-24T14:30:21.750Z"
   },
   {
    "duration": 81,
    "start_time": "2023-05-24T14:30:21.790Z"
   },
   {
    "duration": 401,
    "start_time": "2023-05-24T14:30:21.873Z"
   },
   {
    "duration": 36,
    "start_time": "2023-05-24T14:30:22.275Z"
   },
   {
    "duration": 88,
    "start_time": "2023-05-24T14:30:22.313Z"
   },
   {
    "duration": 442,
    "start_time": "2023-05-24T14:30:22.402Z"
   },
   {
    "duration": 71,
    "start_time": "2023-05-24T14:30:22.846Z"
   },
   {
    "duration": 416,
    "start_time": "2023-05-24T14:30:22.920Z"
   },
   {
    "duration": 392,
    "start_time": "2023-05-24T14:30:23.337Z"
   },
   {
    "duration": 15,
    "start_time": "2023-05-24T14:30:23.730Z"
   },
   {
    "duration": 45,
    "start_time": "2023-05-24T14:30:23.747Z"
   },
   {
    "duration": 28,
    "start_time": "2023-05-24T14:30:23.794Z"
   },
   {
    "duration": 31,
    "start_time": "2023-05-24T14:30:23.824Z"
   },
   {
    "duration": 42,
    "start_time": "2023-05-24T14:30:23.857Z"
   },
   {
    "duration": 352,
    "start_time": "2023-05-24T14:30:23.901Z"
   },
   {
    "duration": 262,
    "start_time": "2023-05-24T14:30:24.255Z"
   },
   {
    "duration": 248,
    "start_time": "2023-05-24T14:30:24.519Z"
   },
   {
    "duration": 23,
    "start_time": "2023-05-24T14:30:24.768Z"
   },
   {
    "duration": 67,
    "start_time": "2023-05-24T14:30:24.793Z"
   },
   {
    "duration": 39,
    "start_time": "2023-05-24T14:30:24.862Z"
   },
   {
    "duration": 333,
    "start_time": "2023-05-24T14:30:24.903Z"
   },
   {
    "duration": 71,
    "start_time": "2023-05-24T14:30:25.237Z"
   },
   {
    "duration": 306,
    "start_time": "2023-05-24T14:30:25.310Z"
   },
   {
    "duration": 316,
    "start_time": "2023-05-24T14:30:25.618Z"
   },
   {
    "duration": 39,
    "start_time": "2023-05-24T14:30:25.936Z"
   },
   {
    "duration": 18,
    "start_time": "2023-05-24T14:30:25.990Z"
   },
   {
    "duration": 80,
    "start_time": "2023-05-24T14:30:26.009Z"
   },
   {
    "duration": 63,
    "start_time": "2023-05-24T14:30:26.091Z"
   },
   {
    "duration": 95,
    "start_time": "2023-05-24T14:30:26.156Z"
   },
   {
    "duration": 97,
    "start_time": "2023-05-24T14:30:26.253Z"
   },
   {
    "duration": 16,
    "start_time": "2023-05-24T14:30:26.351Z"
   },
   {
    "duration": 1443,
    "start_time": "2023-05-24T14:30:40.063Z"
   },
   {
    "duration": 30,
    "start_time": "2023-05-24T14:30:50.722Z"
   },
   {
    "duration": 2,
    "start_time": "2023-05-24T14:31:19.282Z"
   },
   {
    "duration": 5,
    "start_time": "2023-05-24T14:33:06.450Z"
   },
   {
    "duration": 4,
    "start_time": "2023-05-24T14:33:08.466Z"
   },
   {
    "duration": 1235,
    "start_time": "2023-05-24T14:34:27.850Z"
   },
   {
    "duration": 21,
    "start_time": "2023-05-24T14:36:17.354Z"
   },
   {
    "duration": 4,
    "start_time": "2023-05-24T14:36:26.415Z"
   },
   {
    "duration": 41927,
    "start_time": "2023-05-24T14:36:29.067Z"
   },
   {
    "duration": 4,
    "start_time": "2023-05-24T14:37:17.165Z"
   },
   {
    "duration": 10390,
    "start_time": "2023-05-24T14:37:20.307Z"
   },
   {
    "duration": 15,
    "start_time": "2023-05-24T14:39:30.193Z"
   },
   {
    "duration": 6,
    "start_time": "2023-05-24T14:39:32.342Z"
   },
   {
    "duration": 280737,
    "start_time": "2023-05-24T14:39:38.759Z"
   },
   {
    "duration": 10097,
    "start_time": "2023-05-24T14:44:56.092Z"
   },
   {
    "duration": 14,
    "start_time": "2023-05-24T14:45:11.287Z"
   },
   {
    "duration": 6,
    "start_time": "2023-05-24T14:45:14.299Z"
   },
   {
    "duration": 9749,
    "start_time": "2023-05-24T14:46:27.843Z"
   },
   {
    "duration": 699,
    "start_time": "2023-05-24T14:46:37.594Z"
   },
   {
    "duration": 7,
    "start_time": "2023-05-24T14:46:38.294Z"
   },
   {
    "duration": 57887,
    "start_time": "2023-05-24T14:46:38.303Z"
   },
   {
    "duration": 5604,
    "start_time": "2023-05-24T14:47:36.192Z"
   },
   {
    "duration": 294,
    "start_time": "2023-05-24T14:47:41.797Z"
   },
   {
    "duration": 7,
    "start_time": "2023-05-24T14:47:42.093Z"
   },
   {
    "duration": 2765,
    "start_time": "2023-05-24T17:02:42.843Z"
   },
   {
    "duration": 973,
    "start_time": "2023-05-24T17:02:45.609Z"
   },
   {
    "duration": 1006,
    "start_time": "2023-05-24T17:02:46.584Z"
   },
   {
    "duration": 34,
    "start_time": "2023-05-24T17:02:47.592Z"
   },
   {
    "duration": 119,
    "start_time": "2023-05-24T17:02:47.628Z"
   },
   {
    "duration": 250,
    "start_time": "2023-05-24T17:02:47.749Z"
   },
   {
    "duration": 43,
    "start_time": "2023-05-24T17:02:48.001Z"
   },
   {
    "duration": 87,
    "start_time": "2023-05-24T17:02:48.045Z"
   },
   {
    "duration": 409,
    "start_time": "2023-05-24T17:02:48.134Z"
   },
   {
    "duration": 51,
    "start_time": "2023-05-24T17:02:48.546Z"
   },
   {
    "duration": 389,
    "start_time": "2023-05-24T17:02:48.599Z"
   },
   {
    "duration": 405,
    "start_time": "2023-05-24T17:02:48.990Z"
   },
   {
    "duration": 20,
    "start_time": "2023-05-24T17:02:49.397Z"
   },
   {
    "duration": 34,
    "start_time": "2023-05-24T17:02:49.418Z"
   },
   {
    "duration": 29,
    "start_time": "2023-05-24T17:02:49.454Z"
   },
   {
    "duration": 59,
    "start_time": "2023-05-24T17:02:49.485Z"
   },
   {
    "duration": 29,
    "start_time": "2023-05-24T17:02:49.546Z"
   },
   {
    "duration": 320,
    "start_time": "2023-05-24T17:02:49.577Z"
   },
   {
    "duration": 256,
    "start_time": "2023-05-24T17:02:49.899Z"
   },
   {
    "duration": 269,
    "start_time": "2023-05-24T17:02:50.156Z"
   },
   {
    "duration": 31,
    "start_time": "2023-05-24T17:02:50.427Z"
   },
   {
    "duration": 87,
    "start_time": "2023-05-24T17:02:50.460Z"
   },
   {
    "duration": 54,
    "start_time": "2023-05-24T17:02:50.549Z"
   },
   {
    "duration": 392,
    "start_time": "2023-05-24T17:02:50.618Z"
   },
   {
    "duration": 63,
    "start_time": "2023-05-24T17:02:51.012Z"
   },
   {
    "duration": 292,
    "start_time": "2023-05-24T17:02:51.077Z"
   },
   {
    "duration": 296,
    "start_time": "2023-05-24T17:02:51.370Z"
   },
   {
    "duration": 57,
    "start_time": "2023-05-24T17:02:51.669Z"
   },
   {
    "duration": 16,
    "start_time": "2023-05-24T17:02:51.727Z"
   },
   {
    "duration": 75,
    "start_time": "2023-05-24T17:02:51.745Z"
   },
   {
    "duration": 82,
    "start_time": "2023-05-24T17:02:51.821Z"
   },
   {
    "duration": 59,
    "start_time": "2023-05-24T17:02:51.918Z"
   },
   {
    "duration": 114,
    "start_time": "2023-05-24T17:02:51.979Z"
   },
   {
    "duration": 28,
    "start_time": "2023-05-24T17:02:52.095Z"
   },
   {
    "duration": 1528,
    "start_time": "2023-05-24T17:02:52.125Z"
   },
   {
    "duration": 42,
    "start_time": "2023-05-24T17:02:53.655Z"
   },
   {
    "duration": 11,
    "start_time": "2023-05-24T17:02:53.699Z"
   },
   {
    "duration": 8,
    "start_time": "2023-05-24T17:02:53.712Z"
   },
   {
    "duration": 7,
    "start_time": "2023-05-24T17:02:53.721Z"
   },
   {
    "duration": 3003,
    "start_time": "2023-05-24T17:02:53.730Z"
   },
   {
    "duration": 19,
    "start_time": "2023-05-24T17:02:56.735Z"
   },
   {
    "duration": 7,
    "start_time": "2023-05-24T17:02:56.755Z"
   },
   {
    "duration": 40664,
    "start_time": "2023-05-24T17:02:56.764Z"
   },
   {
    "duration": 80,
    "start_time": "2023-05-24T17:03:37.438Z"
   },
   {
    "duration": 8608,
    "start_time": "2023-05-24T17:03:37.519Z"
   },
   {
    "duration": 91,
    "start_time": "2023-05-24T17:03:46.130Z"
   },
   {
    "duration": 5,
    "start_time": "2023-05-24T17:03:46.223Z"
   },
   {
    "duration": 264394,
    "start_time": "2023-05-24T17:03:46.230Z"
   },
   {
    "duration": 8598,
    "start_time": "2023-05-24T17:08:10.627Z"
   },
   {
    "duration": 95,
    "start_time": "2023-05-24T17:08:19.227Z"
   },
   {
    "duration": 108,
    "start_time": "2023-05-24T17:08:19.324Z"
   },
   {
    "duration": 1607,
    "start_time": "2023-05-24T17:45:15.437Z"
   },
   {
    "duration": 1130,
    "start_time": "2023-05-24T17:45:17.046Z"
   },
   {
    "duration": 967,
    "start_time": "2023-05-24T17:45:18.178Z"
   },
   {
    "duration": 33,
    "start_time": "2023-05-24T17:45:19.147Z"
   },
   {
    "duration": 120,
    "start_time": "2023-05-24T17:45:19.181Z"
   },
   {
    "duration": 290,
    "start_time": "2023-05-24T17:45:19.302Z"
   },
   {
    "duration": 29,
    "start_time": "2023-05-24T17:45:19.597Z"
   },
   {
    "duration": 87,
    "start_time": "2023-05-24T17:45:19.627Z"
   },
   {
    "duration": 392,
    "start_time": "2023-05-24T17:45:19.716Z"
   },
   {
    "duration": 45,
    "start_time": "2023-05-24T17:45:20.111Z"
   },
   {
    "duration": 360,
    "start_time": "2023-05-24T17:45:20.158Z"
   },
   {
    "duration": 379,
    "start_time": "2023-05-24T17:45:20.519Z"
   },
   {
    "duration": 16,
    "start_time": "2023-05-24T17:45:20.899Z"
   },
   {
    "duration": 34,
    "start_time": "2023-05-24T17:45:20.916Z"
   },
   {
    "duration": 28,
    "start_time": "2023-05-24T17:45:20.952Z"
   },
   {
    "duration": 28,
    "start_time": "2023-05-24T17:45:20.996Z"
   },
   {
    "duration": 23,
    "start_time": "2023-05-24T17:45:21.026Z"
   },
   {
    "duration": 310,
    "start_time": "2023-05-24T17:45:21.051Z"
   },
   {
    "duration": 242,
    "start_time": "2023-05-24T17:45:21.363Z"
   },
   {
    "duration": 231,
    "start_time": "2023-05-24T17:45:21.606Z"
   },
   {
    "duration": 17,
    "start_time": "2023-05-24T17:45:21.838Z"
   },
   {
    "duration": 80,
    "start_time": "2023-05-24T17:45:21.856Z"
   },
   {
    "duration": 27,
    "start_time": "2023-05-24T17:45:21.937Z"
   },
   {
    "duration": 348,
    "start_time": "2023-05-24T17:45:21.965Z"
   },
   {
    "duration": 56,
    "start_time": "2023-05-24T17:45:22.314Z"
   },
   {
    "duration": 257,
    "start_time": "2023-05-24T17:45:22.371Z"
   },
   {
    "duration": 285,
    "start_time": "2023-05-24T17:45:22.630Z"
   },
   {
    "duration": 35,
    "start_time": "2023-05-24T17:45:22.918Z"
   },
   {
    "duration": 14,
    "start_time": "2023-05-24T17:45:22.955Z"
   },
   {
    "duration": 75,
    "start_time": "2023-05-24T17:45:22.971Z"
   },
   {
    "duration": 75,
    "start_time": "2023-05-24T17:45:23.048Z"
   },
   {
    "duration": 77,
    "start_time": "2023-05-24T17:45:37.111Z"
   },
   {
    "duration": 93,
    "start_time": "2023-05-24T17:45:52.908Z"
   },
   {
    "duration": 71,
    "start_time": "2023-05-24T17:45:58.519Z"
   },
   {
    "duration": 12,
    "start_time": "2023-05-24T17:46:03.466Z"
   },
   {
    "duration": 12,
    "start_time": "2023-05-24T17:46:12.151Z"
   },
   {
    "duration": 13,
    "start_time": "2023-05-24T17:46:18.379Z"
   },
   {
    "duration": 14,
    "start_time": "2023-05-24T17:46:26.102Z"
   },
   {
    "duration": 106,
    "start_time": "2023-05-24T17:46:32.066Z"
   },
   {
    "duration": 13,
    "start_time": "2023-05-24T17:46:35.979Z"
   },
   {
    "duration": 18,
    "start_time": "2023-05-24T17:46:47.132Z"
   },
   {
    "duration": 11,
    "start_time": "2023-05-24T17:48:26.860Z"
   },
   {
    "duration": 8,
    "start_time": "2023-05-24T17:48:32.861Z"
   },
   {
    "duration": 8,
    "start_time": "2023-05-24T17:48:37.419Z"
   },
   {
    "duration": 8,
    "start_time": "2023-05-24T17:48:44.031Z"
   },
   {
    "duration": 3,
    "start_time": "2023-05-24T17:49:00.513Z"
   },
   {
    "duration": 933,
    "start_time": "2023-05-24T17:49:00.518Z"
   },
   {
    "duration": 894,
    "start_time": "2023-05-24T17:49:01.453Z"
   },
   {
    "duration": 29,
    "start_time": "2023-05-24T17:49:02.349Z"
   },
   {
    "duration": 82,
    "start_time": "2023-05-24T17:49:02.380Z"
   },
   {
    "duration": 291,
    "start_time": "2023-05-24T17:49:02.464Z"
   },
   {
    "duration": 52,
    "start_time": "2023-05-24T17:49:02.757Z"
   },
   {
    "duration": 94,
    "start_time": "2023-05-24T17:49:02.811Z"
   },
   {
    "duration": 434,
    "start_time": "2023-05-24T17:49:02.907Z"
   },
   {
    "duration": 60,
    "start_time": "2023-05-24T17:49:03.342Z"
   },
   {
    "duration": 409,
    "start_time": "2023-05-24T17:49:03.405Z"
   },
   {
    "duration": 401,
    "start_time": "2023-05-24T17:49:03.816Z"
   },
   {
    "duration": 17,
    "start_time": "2023-05-24T17:49:04.218Z"
   },
   {
    "duration": 48,
    "start_time": "2023-05-24T17:49:04.237Z"
   },
   {
    "duration": 37,
    "start_time": "2023-05-24T17:49:04.287Z"
   },
   {
    "duration": 34,
    "start_time": "2023-05-24T17:49:04.326Z"
   },
   {
    "duration": 43,
    "start_time": "2023-05-24T17:49:04.361Z"
   },
   {
    "duration": 267,
    "start_time": "2023-05-24T17:49:04.406Z"
   },
   {
    "duration": 252,
    "start_time": "2023-05-24T17:49:04.675Z"
   },
   {
    "duration": 245,
    "start_time": "2023-05-24T17:49:04.929Z"
   },
   {
    "duration": 25,
    "start_time": "2023-05-24T17:49:05.177Z"
   },
   {
    "duration": 78,
    "start_time": "2023-05-24T17:49:05.204Z"
   },
   {
    "duration": 39,
    "start_time": "2023-05-24T17:49:05.284Z"
   },
   {
    "duration": 342,
    "start_time": "2023-05-24T17:49:05.324Z"
   },
   {
    "duration": 59,
    "start_time": "2023-05-24T17:49:05.668Z"
   },
   {
    "duration": 249,
    "start_time": "2023-05-24T17:49:05.728Z"
   },
   {
    "duration": 274,
    "start_time": "2023-05-24T17:49:05.979Z"
   },
   {
    "duration": 45,
    "start_time": "2023-05-24T17:49:06.254Z"
   },
   {
    "duration": 15,
    "start_time": "2023-05-24T17:49:06.302Z"
   },
   {
    "duration": 78,
    "start_time": "2023-05-24T17:49:06.319Z"
   },
   {
    "duration": 66,
    "start_time": "2023-05-24T17:49:06.399Z"
   },
   {
    "duration": 84,
    "start_time": "2023-05-24T17:49:06.467Z"
   },
   {
    "duration": 77,
    "start_time": "2023-05-24T17:49:08.538Z"
   },
   {
    "duration": 8,
    "start_time": "2023-05-24T17:49:11.079Z"
   },
   {
    "duration": 6,
    "start_time": "2023-05-24T17:49:23.710Z"
   },
   {
    "duration": 4,
    "start_time": "2023-05-24T17:49:32.953Z"
   },
   {
    "duration": 850,
    "start_time": "2023-05-24T17:49:32.958Z"
   },
   {
    "duration": 898,
    "start_time": "2023-05-24T17:49:33.810Z"
   },
   {
    "duration": 30,
    "start_time": "2023-05-24T17:49:34.709Z"
   },
   {
    "duration": 91,
    "start_time": "2023-05-24T17:49:34.742Z"
   },
   {
    "duration": 348,
    "start_time": "2023-05-24T17:49:34.835Z"
   },
   {
    "duration": 37,
    "start_time": "2023-05-24T17:49:35.185Z"
   },
   {
    "duration": 92,
    "start_time": "2023-05-24T17:49:35.223Z"
   },
   {
    "duration": 386,
    "start_time": "2023-05-24T17:49:35.317Z"
   },
   {
    "duration": 48,
    "start_time": "2023-05-24T17:49:35.704Z"
   },
   {
    "duration": 457,
    "start_time": "2023-05-24T17:49:35.755Z"
   },
   {
    "duration": 369,
    "start_time": "2023-05-24T17:49:36.214Z"
   },
   {
    "duration": 25,
    "start_time": "2023-05-24T17:49:36.585Z"
   },
   {
    "duration": 141,
    "start_time": "2023-05-24T17:49:36.612Z"
   },
   {
    "duration": 40,
    "start_time": "2023-05-24T17:49:36.755Z"
   },
   {
    "duration": 47,
    "start_time": "2023-05-24T17:49:36.797Z"
   },
   {
    "duration": 30,
    "start_time": "2023-05-24T17:49:36.845Z"
   },
   {
    "duration": 260,
    "start_time": "2023-05-24T17:49:36.876Z"
   },
   {
    "duration": 234,
    "start_time": "2023-05-24T17:49:37.138Z"
   },
   {
    "duration": 224,
    "start_time": "2023-05-24T17:49:37.373Z"
   },
   {
    "duration": 17,
    "start_time": "2023-05-24T17:49:37.598Z"
   },
   {
    "duration": 77,
    "start_time": "2023-05-24T17:49:37.616Z"
   },
   {
    "duration": 37,
    "start_time": "2023-05-24T17:49:37.694Z"
   },
   {
    "duration": 304,
    "start_time": "2023-05-24T17:49:37.732Z"
   },
   {
    "duration": 64,
    "start_time": "2023-05-24T17:49:38.038Z"
   },
   {
    "duration": 247,
    "start_time": "2023-05-24T17:49:38.103Z"
   },
   {
    "duration": 274,
    "start_time": "2023-05-24T17:49:38.352Z"
   },
   {
    "duration": 35,
    "start_time": "2023-05-24T17:49:38.628Z"
   },
   {
    "duration": 14,
    "start_time": "2023-05-24T17:49:38.666Z"
   },
   {
    "duration": 72,
    "start_time": "2023-05-24T17:49:38.681Z"
   },
   {
    "duration": 76,
    "start_time": "2023-05-24T17:49:38.755Z"
   },
   {
    "duration": 83,
    "start_time": "2023-05-24T17:49:38.832Z"
   },
   {
    "duration": 90,
    "start_time": "2023-05-24T17:49:38.916Z"
   },
   {
    "duration": 6,
    "start_time": "2023-05-24T17:49:47.629Z"
   },
   {
    "duration": 11,
    "start_time": "2023-05-24T17:49:59.340Z"
   },
   {
    "duration": 92,
    "start_time": "2023-05-24T17:55:39.959Z"
   },
   {
    "duration": 699,
    "start_time": "2023-05-24T17:55:54.181Z"
   },
   {
    "duration": 31,
    "start_time": "2023-05-24T17:55:57.366Z"
   },
   {
    "duration": 3,
    "start_time": "2023-05-24T17:56:30.140Z"
   },
   {
    "duration": 5,
    "start_time": "2023-05-24T17:56:31.590Z"
   },
   {
    "duration": 545,
    "start_time": "2023-05-24T17:58:24.358Z"
   },
   {
    "duration": 18,
    "start_time": "2023-05-24T17:58:31.214Z"
   },
   {
    "duration": 3,
    "start_time": "2023-05-24T17:58:36.122Z"
   },
   {
    "duration": 12561,
    "start_time": "2023-05-24T17:58:38.541Z"
   },
   {
    "duration": 4,
    "start_time": "2023-05-24T17:59:17.261Z"
   },
   {
    "duration": 2781,
    "start_time": "2023-05-24T17:59:19.918Z"
   },
   {
    "duration": 11,
    "start_time": "2023-05-24T17:59:24.497Z"
   },
   {
    "duration": 5,
    "start_time": "2023-05-24T17:59:27.114Z"
   },
   {
    "duration": 80687,
    "start_time": "2023-05-24T17:59:31.918Z"
   },
   {
    "duration": 2856,
    "start_time": "2023-05-24T18:01:12.946Z"
   },
   {
    "duration": 11,
    "start_time": "2023-05-24T18:01:17.950Z"
   },
   {
    "duration": 5,
    "start_time": "2023-05-24T18:01:20.383Z"
   },
   {
    "duration": 6397,
    "start_time": "2023-05-24T18:01:47.506Z"
   },
   {
    "duration": 496,
    "start_time": "2023-05-24T18:01:58.802Z"
   },
   {
    "duration": 6,
    "start_time": "2023-05-24T18:02:01.151Z"
   },
   {
    "duration": 64490,
    "start_time": "2023-05-24T18:02:58.509Z"
   },
   {
    "duration": 16804,
    "start_time": "2023-05-24T18:04:03.001Z"
   },
   {
    "duration": 204,
    "start_time": "2023-05-24T18:04:19.807Z"
   },
   {
    "duration": 6,
    "start_time": "2023-05-24T18:04:20.013Z"
   },
   {
    "duration": 1689,
    "start_time": "2024-04-04T16:52:38.453Z"
   },
   {
    "duration": 1325,
    "start_time": "2024-04-04T16:52:45.139Z"
   },
   {
    "duration": 1112,
    "start_time": "2024-04-04T16:52:53.476Z"
   },
   {
    "duration": 38,
    "start_time": "2024-04-04T16:53:10.873Z"
   },
   {
    "duration": 124,
    "start_time": "2024-04-04T16:53:21.629Z"
   },
   {
    "duration": 325,
    "start_time": "2024-04-04T16:53:26.177Z"
   },
   {
    "duration": 27,
    "start_time": "2024-04-04T16:54:12.430Z"
   },
   {
    "duration": 113,
    "start_time": "2024-04-04T16:54:15.223Z"
   },
   {
    "duration": 477,
    "start_time": "2024-04-04T16:54:22.062Z"
   },
   {
    "duration": 49,
    "start_time": "2024-04-04T16:54:28.644Z"
   },
   {
    "duration": 443,
    "start_time": "2024-04-04T16:54:38.556Z"
   },
   {
    "duration": 469,
    "start_time": "2024-04-04T16:54:44.240Z"
   },
   {
    "duration": 603,
    "start_time": "2024-04-04T16:54:47.241Z"
   },
   {
    "duration": 19,
    "start_time": "2024-04-04T16:55:02.821Z"
   },
   {
    "duration": 33,
    "start_time": "2024-04-04T16:55:10.056Z"
   },
   {
    "duration": 36,
    "start_time": "2024-04-04T16:55:11.613Z"
   },
   {
    "duration": 33,
    "start_time": "2024-04-04T16:55:19.432Z"
   },
   {
    "duration": 27,
    "start_time": "2024-04-04T16:55:22.651Z"
   },
   {
    "duration": 277,
    "start_time": "2024-04-04T16:55:46.473Z"
   },
   {
    "duration": 268,
    "start_time": "2024-04-04T16:55:52.701Z"
   },
   {
    "duration": 259,
    "start_time": "2024-04-04T16:55:53.936Z"
   },
   {
    "duration": 24,
    "start_time": "2024-04-04T16:55:54.463Z"
   },
   {
    "duration": 91,
    "start_time": "2024-04-04T16:58:52.219Z"
   },
   {
    "duration": 37,
    "start_time": "2024-04-04T16:58:56.113Z"
   },
   {
    "duration": 382,
    "start_time": "2024-04-04T16:58:58.065Z"
   },
   {
    "duration": 65,
    "start_time": "2024-04-04T16:59:15.431Z"
   },
   {
    "duration": 287,
    "start_time": "2024-04-04T16:59:26.549Z"
   },
   {
    "duration": 306,
    "start_time": "2024-04-04T16:59:32.722Z"
   },
   {
    "duration": 42,
    "start_time": "2024-04-04T16:59:49.976Z"
   },
   {
    "duration": 16,
    "start_time": "2024-04-04T16:59:54.653Z"
   },
   {
    "duration": 67,
    "start_time": "2024-04-04T17:00:02.690Z"
   },
   {
    "duration": 89,
    "start_time": "2024-04-04T17:00:20.914Z"
   },
   {
    "duration": 74,
    "start_time": "2024-04-04T17:02:12.233Z"
   },
   {
    "duration": 113,
    "start_time": "2024-04-04T17:02:15.096Z"
   },
   {
    "duration": 11,
    "start_time": "2024-04-04T17:02:18.243Z"
   },
   {
    "duration": 125,
    "start_time": "2024-04-04T19:05:49.508Z"
   },
   {
    "duration": 1589,
    "start_time": "2024-04-04T19:05:54.283Z"
   },
   {
    "duration": 3074,
    "start_time": "2024-04-04T19:05:55.874Z"
   },
   {
    "duration": 1031,
    "start_time": "2024-04-04T19:05:58.950Z"
   },
   {
    "duration": 33,
    "start_time": "2024-04-04T19:05:59.983Z"
   },
   {
    "duration": 128,
    "start_time": "2024-04-04T19:06:00.018Z"
   },
   {
    "duration": 320,
    "start_time": "2024-04-04T19:06:00.148Z"
   },
   {
    "duration": 26,
    "start_time": "2024-04-04T19:06:00.470Z"
   },
   {
    "duration": 130,
    "start_time": "2024-04-04T19:06:00.498Z"
   },
   {
    "duration": 551,
    "start_time": "2024-04-04T19:06:00.630Z"
   },
   {
    "duration": 52,
    "start_time": "2024-04-04T19:06:01.184Z"
   },
   {
    "duration": 461,
    "start_time": "2024-04-04T19:06:01.237Z"
   },
   {
    "duration": 424,
    "start_time": "2024-04-04T19:06:01.700Z"
   },
   {
    "duration": 17,
    "start_time": "2024-04-04T19:06:02.126Z"
   },
   {
    "duration": 73,
    "start_time": "2024-04-04T19:06:02.144Z"
   },
   {
    "duration": 50,
    "start_time": "2024-04-04T19:06:02.218Z"
   },
   {
    "duration": 75,
    "start_time": "2024-04-04T19:06:02.269Z"
   },
   {
    "duration": 58,
    "start_time": "2024-04-04T19:06:02.346Z"
   },
   {
    "duration": 385,
    "start_time": "2024-04-04T19:06:02.405Z"
   },
   {
    "duration": 263,
    "start_time": "2024-04-04T19:06:02.792Z"
   },
   {
    "duration": 248,
    "start_time": "2024-04-04T19:06:03.057Z"
   },
   {
    "duration": 19,
    "start_time": "2024-04-04T19:06:03.306Z"
   },
   {
    "duration": 118,
    "start_time": "2024-04-04T19:06:03.327Z"
   },
   {
    "duration": 61,
    "start_time": "2024-04-04T19:06:03.446Z"
   },
   {
    "duration": 372,
    "start_time": "2024-04-04T19:06:03.508Z"
   },
   {
    "duration": 60,
    "start_time": "2024-04-04T19:06:03.881Z"
   },
   {
    "duration": 284,
    "start_time": "2024-04-04T19:06:03.942Z"
   },
   {
    "duration": 308,
    "start_time": "2024-04-04T19:06:04.229Z"
   },
   {
    "duration": 45,
    "start_time": "2024-04-04T19:06:04.540Z"
   },
   {
    "duration": 15,
    "start_time": "2024-04-04T19:06:04.587Z"
   },
   {
    "duration": 69,
    "start_time": "2024-04-04T19:06:04.603Z"
   },
   {
    "duration": 96,
    "start_time": "2024-04-04T19:06:04.674Z"
   },
   {
    "duration": 80,
    "start_time": "2024-04-04T19:06:04.772Z"
   },
   {
    "duration": 96,
    "start_time": "2024-04-04T19:06:04.854Z"
   },
   {
    "duration": 18,
    "start_time": "2024-04-04T19:06:04.952Z"
   },
   {
    "duration": 15,
    "start_time": "2024-04-04T19:10:56.814Z"
   },
   {
    "duration": 896,
    "start_time": "2024-04-04T19:10:58.223Z"
   },
   {
    "duration": 28,
    "start_time": "2024-04-04T19:11:08.348Z"
   },
   {
    "duration": 4,
    "start_time": "2024-04-04T19:13:46.657Z"
   },
   {
    "duration": 4,
    "start_time": "2024-04-04T19:13:47.590Z"
   },
   {
    "duration": 570,
    "start_time": "2024-04-04T19:14:41.348Z"
   },
   {
    "duration": 21,
    "start_time": "2024-04-04T19:16:11.444Z"
   },
   {
    "duration": 4,
    "start_time": "2024-04-04T19:16:38.738Z"
   },
   {
    "duration": 14662,
    "start_time": "2024-04-04T19:16:59.105Z"
   },
   {
    "duration": 3,
    "start_time": "2024-04-04T19:17:16.147Z"
   },
   {
    "duration": 3546,
    "start_time": "2024-04-04T19:17:18.619Z"
   },
   {
    "duration": 17,
    "start_time": "2024-04-04T19:17:23.614Z"
   },
   {
    "duration": 5,
    "start_time": "2024-04-04T19:17:26.219Z"
   },
   {
    "duration": 77829,
    "start_time": "2024-04-04T19:17:30.338Z"
   },
   {
    "duration": 2639,
    "start_time": "2024-04-04T19:19:06.134Z"
   },
   {
    "duration": 10,
    "start_time": "2024-04-04T19:19:10.120Z"
   },
   {
    "duration": 5,
    "start_time": "2024-04-04T19:19:12.202Z"
   },
   {
    "duration": 7,
    "start_time": "2024-04-04T19:20:40.876Z"
   },
   {
    "duration": 5,
    "start_time": "2024-04-04T19:20:54.536Z"
   },
   {
    "duration": 4,
    "start_time": "2024-04-04T19:22:15.017Z"
   },
   {
    "duration": 41,
    "start_time": "2024-04-04T19:22:19.423Z"
   },
   {
    "duration": 5,
    "start_time": "2024-04-04T19:22:22.645Z"
   },
   {
    "duration": 9,
    "start_time": "2024-04-04T19:22:29.327Z"
   },
   {
    "duration": 6,
    "start_time": "2024-04-04T19:22:31.247Z"
   },
   {
    "duration": 9859,
    "start_time": "2024-04-04T19:22:38.514Z"
   },
   {
    "duration": 472,
    "start_time": "2024-04-04T19:22:49.701Z"
   },
   {
    "duration": 6,
    "start_time": "2024-04-04T19:22:52.296Z"
   },
   {
    "duration": 79541,
    "start_time": "2024-04-04T19:22:58.440Z"
   },
   {
    "duration": 4021,
    "start_time": "2024-04-04T19:24:28.646Z"
   },
   {
    "duration": 114,
    "start_time": "2024-04-04T19:24:34.459Z"
   },
   {
    "duration": 6,
    "start_time": "2024-04-04T19:24:36.614Z"
   }
  ],
  "kernelspec": {
   "display_name": "Python 3 (ipykernel)",
   "language": "python",
   "name": "python3"
  },
  "language_info": {
   "codemirror_mode": {
    "name": "ipython",
    "version": 3
   },
   "file_extension": ".py",
   "mimetype": "text/x-python",
   "name": "python",
   "nbconvert_exporter": "python",
   "pygments_lexer": "ipython3",
   "version": "3.9.5"
  },
  "toc": {
   "base_numbering": 1,
   "nav_menu": {},
   "number_sections": true,
   "sideBar": true,
   "skip_h1_title": true,
   "title_cell": "Table of Contents",
   "title_sidebar": "Contents",
   "toc_cell": false,
   "toc_position": {},
   "toc_section_display": true,
   "toc_window_display": true
  }
 },
 "nbformat": 4,
 "nbformat_minor": 2
}
