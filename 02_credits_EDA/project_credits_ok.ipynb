{
 "cells": [
  {
   "cell_type": "markdown",
   "id": "c81daeeb",
   "metadata": {
    "deletable": false,
    "id": "c81daeeb"
   },
   "source": [
    "# Исследование надежности заемщиков\n"
   ]
  },
  {
   "cell_type": "markdown",
   "id": "827c20bf",
   "metadata": {
    "id": "827c20bf"
   },
   "source": [
    "Задача проекта: на основе статистики о платёжеспособности клиентов исследовать, влияет ли семейное положение и количество детей клиента на факт возврата кредита в срок."
   ]
  },
  {
   "cell_type": "markdown",
   "id": "744d7639",
   "metadata": {
    "deletable": false,
    "id": "744d7639"
   },
   "source": [
    "### Изучим общую информацию о данных"
   ]
  },
  {
   "cell_type": "code",
   "execution_count": 2,
   "id": "7bcf75c9",
   "metadata": {
    "deletable": false,
    "id": "7bcf75c9"
   },
   "outputs": [],
   "source": [
    "import pandas as pd\n",
    "\n",
    "try:\n",
    "    data = pd.read_csv('/datasets/data.csv')\n",
    "except:\n",
    "    data = pd.read_csv('https://code.s3.yandex.net/datasets/data.csv')"
   ]
  },
  {
   "cell_type": "code",
   "execution_count": 3,
   "id": "2a7cab99",
   "metadata": {
    "deletable": false,
    "id": "2a7cab99",
    "outputId": "1a8f3ef2-d323-4ec2-ddf7-89670b5944c4"
   },
   "outputs": [
    {
     "data": {
      "text/html": [
       "<div>\n",
       "<style scoped>\n",
       "    .dataframe tbody tr th:only-of-type {\n",
       "        vertical-align: middle;\n",
       "    }\n",
       "\n",
       "    .dataframe tbody tr th {\n",
       "        vertical-align: top;\n",
       "    }\n",
       "\n",
       "    .dataframe thead th {\n",
       "        text-align: right;\n",
       "    }\n",
       "</style>\n",
       "<table border=\"1\" class=\"dataframe\">\n",
       "  <thead>\n",
       "    <tr style=\"text-align: right;\">\n",
       "      <th></th>\n",
       "      <th>children</th>\n",
       "      <th>days_employed</th>\n",
       "      <th>dob_years</th>\n",
       "      <th>education</th>\n",
       "      <th>education_id</th>\n",
       "      <th>family_status</th>\n",
       "      <th>family_status_id</th>\n",
       "      <th>gender</th>\n",
       "      <th>income_type</th>\n",
       "      <th>debt</th>\n",
       "      <th>total_income</th>\n",
       "      <th>purpose</th>\n",
       "    </tr>\n",
       "  </thead>\n",
       "  <tbody>\n",
       "    <tr>\n",
       "      <th>0</th>\n",
       "      <td>1</td>\n",
       "      <td>-8437.673028</td>\n",
       "      <td>42</td>\n",
       "      <td>высшее</td>\n",
       "      <td>0</td>\n",
       "      <td>женат / замужем</td>\n",
       "      <td>0</td>\n",
       "      <td>F</td>\n",
       "      <td>сотрудник</td>\n",
       "      <td>0</td>\n",
       "      <td>253875.639453</td>\n",
       "      <td>покупка жилья</td>\n",
       "    </tr>\n",
       "    <tr>\n",
       "      <th>1</th>\n",
       "      <td>1</td>\n",
       "      <td>-4024.803754</td>\n",
       "      <td>36</td>\n",
       "      <td>среднее</td>\n",
       "      <td>1</td>\n",
       "      <td>женат / замужем</td>\n",
       "      <td>0</td>\n",
       "      <td>F</td>\n",
       "      <td>сотрудник</td>\n",
       "      <td>0</td>\n",
       "      <td>112080.014102</td>\n",
       "      <td>приобретение автомобиля</td>\n",
       "    </tr>\n",
       "    <tr>\n",
       "      <th>2</th>\n",
       "      <td>0</td>\n",
       "      <td>-5623.422610</td>\n",
       "      <td>33</td>\n",
       "      <td>Среднее</td>\n",
       "      <td>1</td>\n",
       "      <td>женат / замужем</td>\n",
       "      <td>0</td>\n",
       "      <td>M</td>\n",
       "      <td>сотрудник</td>\n",
       "      <td>0</td>\n",
       "      <td>145885.952297</td>\n",
       "      <td>покупка жилья</td>\n",
       "    </tr>\n",
       "    <tr>\n",
       "      <th>3</th>\n",
       "      <td>3</td>\n",
       "      <td>-4124.747207</td>\n",
       "      <td>32</td>\n",
       "      <td>среднее</td>\n",
       "      <td>1</td>\n",
       "      <td>женат / замужем</td>\n",
       "      <td>0</td>\n",
       "      <td>M</td>\n",
       "      <td>сотрудник</td>\n",
       "      <td>0</td>\n",
       "      <td>267628.550329</td>\n",
       "      <td>дополнительное образование</td>\n",
       "    </tr>\n",
       "    <tr>\n",
       "      <th>4</th>\n",
       "      <td>0</td>\n",
       "      <td>340266.072047</td>\n",
       "      <td>53</td>\n",
       "      <td>среднее</td>\n",
       "      <td>1</td>\n",
       "      <td>гражданский брак</td>\n",
       "      <td>1</td>\n",
       "      <td>F</td>\n",
       "      <td>пенсионер</td>\n",
       "      <td>0</td>\n",
       "      <td>158616.077870</td>\n",
       "      <td>сыграть свадьбу</td>\n",
       "    </tr>\n",
       "    <tr>\n",
       "      <th>5</th>\n",
       "      <td>0</td>\n",
       "      <td>-926.185831</td>\n",
       "      <td>27</td>\n",
       "      <td>высшее</td>\n",
       "      <td>0</td>\n",
       "      <td>гражданский брак</td>\n",
       "      <td>1</td>\n",
       "      <td>M</td>\n",
       "      <td>компаньон</td>\n",
       "      <td>0</td>\n",
       "      <td>255763.565419</td>\n",
       "      <td>покупка жилья</td>\n",
       "    </tr>\n",
       "    <tr>\n",
       "      <th>6</th>\n",
       "      <td>0</td>\n",
       "      <td>-2879.202052</td>\n",
       "      <td>43</td>\n",
       "      <td>высшее</td>\n",
       "      <td>0</td>\n",
       "      <td>женат / замужем</td>\n",
       "      <td>0</td>\n",
       "      <td>F</td>\n",
       "      <td>компаньон</td>\n",
       "      <td>0</td>\n",
       "      <td>240525.971920</td>\n",
       "      <td>операции с жильем</td>\n",
       "    </tr>\n",
       "    <tr>\n",
       "      <th>7</th>\n",
       "      <td>0</td>\n",
       "      <td>-152.779569</td>\n",
       "      <td>50</td>\n",
       "      <td>СРЕДНЕЕ</td>\n",
       "      <td>1</td>\n",
       "      <td>женат / замужем</td>\n",
       "      <td>0</td>\n",
       "      <td>M</td>\n",
       "      <td>сотрудник</td>\n",
       "      <td>0</td>\n",
       "      <td>135823.934197</td>\n",
       "      <td>образование</td>\n",
       "    </tr>\n",
       "    <tr>\n",
       "      <th>8</th>\n",
       "      <td>2</td>\n",
       "      <td>-6929.865299</td>\n",
       "      <td>35</td>\n",
       "      <td>ВЫСШЕЕ</td>\n",
       "      <td>0</td>\n",
       "      <td>гражданский брак</td>\n",
       "      <td>1</td>\n",
       "      <td>F</td>\n",
       "      <td>сотрудник</td>\n",
       "      <td>0</td>\n",
       "      <td>95856.832424</td>\n",
       "      <td>на проведение свадьбы</td>\n",
       "    </tr>\n",
       "    <tr>\n",
       "      <th>9</th>\n",
       "      <td>0</td>\n",
       "      <td>-2188.756445</td>\n",
       "      <td>41</td>\n",
       "      <td>среднее</td>\n",
       "      <td>1</td>\n",
       "      <td>женат / замужем</td>\n",
       "      <td>0</td>\n",
       "      <td>M</td>\n",
       "      <td>сотрудник</td>\n",
       "      <td>0</td>\n",
       "      <td>144425.938277</td>\n",
       "      <td>покупка жилья для семьи</td>\n",
       "    </tr>\n",
       "    <tr>\n",
       "      <th>10</th>\n",
       "      <td>2</td>\n",
       "      <td>-4171.483647</td>\n",
       "      <td>36</td>\n",
       "      <td>высшее</td>\n",
       "      <td>0</td>\n",
       "      <td>женат / замужем</td>\n",
       "      <td>0</td>\n",
       "      <td>M</td>\n",
       "      <td>компаньон</td>\n",
       "      <td>0</td>\n",
       "      <td>113943.491460</td>\n",
       "      <td>покупка недвижимости</td>\n",
       "    </tr>\n",
       "    <tr>\n",
       "      <th>11</th>\n",
       "      <td>0</td>\n",
       "      <td>-792.701887</td>\n",
       "      <td>40</td>\n",
       "      <td>среднее</td>\n",
       "      <td>1</td>\n",
       "      <td>женат / замужем</td>\n",
       "      <td>0</td>\n",
       "      <td>F</td>\n",
       "      <td>сотрудник</td>\n",
       "      <td>0</td>\n",
       "      <td>77069.234271</td>\n",
       "      <td>покупка коммерческой недвижимости</td>\n",
       "    </tr>\n",
       "    <tr>\n",
       "      <th>12</th>\n",
       "      <td>0</td>\n",
       "      <td>NaN</td>\n",
       "      <td>65</td>\n",
       "      <td>среднее</td>\n",
       "      <td>1</td>\n",
       "      <td>гражданский брак</td>\n",
       "      <td>1</td>\n",
       "      <td>M</td>\n",
       "      <td>пенсионер</td>\n",
       "      <td>0</td>\n",
       "      <td>NaN</td>\n",
       "      <td>сыграть свадьбу</td>\n",
       "    </tr>\n",
       "    <tr>\n",
       "      <th>13</th>\n",
       "      <td>0</td>\n",
       "      <td>-1846.641941</td>\n",
       "      <td>54</td>\n",
       "      <td>неоконченное высшее</td>\n",
       "      <td>2</td>\n",
       "      <td>женат / замужем</td>\n",
       "      <td>0</td>\n",
       "      <td>F</td>\n",
       "      <td>сотрудник</td>\n",
       "      <td>0</td>\n",
       "      <td>130458.228857</td>\n",
       "      <td>приобретение автомобиля</td>\n",
       "    </tr>\n",
       "    <tr>\n",
       "      <th>14</th>\n",
       "      <td>0</td>\n",
       "      <td>-1844.956182</td>\n",
       "      <td>56</td>\n",
       "      <td>высшее</td>\n",
       "      <td>0</td>\n",
       "      <td>гражданский брак</td>\n",
       "      <td>1</td>\n",
       "      <td>F</td>\n",
       "      <td>компаньон</td>\n",
       "      <td>1</td>\n",
       "      <td>165127.911772</td>\n",
       "      <td>покупка жилой недвижимости</td>\n",
       "    </tr>\n",
       "    <tr>\n",
       "      <th>15</th>\n",
       "      <td>1</td>\n",
       "      <td>-972.364419</td>\n",
       "      <td>26</td>\n",
       "      <td>среднее</td>\n",
       "      <td>1</td>\n",
       "      <td>женат / замужем</td>\n",
       "      <td>0</td>\n",
       "      <td>F</td>\n",
       "      <td>сотрудник</td>\n",
       "      <td>0</td>\n",
       "      <td>116820.904450</td>\n",
       "      <td>строительство собственной недвижимости</td>\n",
       "    </tr>\n",
       "    <tr>\n",
       "      <th>16</th>\n",
       "      <td>0</td>\n",
       "      <td>-1719.934226</td>\n",
       "      <td>35</td>\n",
       "      <td>среднее</td>\n",
       "      <td>1</td>\n",
       "      <td>женат / замужем</td>\n",
       "      <td>0</td>\n",
       "      <td>F</td>\n",
       "      <td>сотрудник</td>\n",
       "      <td>0</td>\n",
       "      <td>289202.704229</td>\n",
       "      <td>недвижимость</td>\n",
       "    </tr>\n",
       "    <tr>\n",
       "      <th>17</th>\n",
       "      <td>0</td>\n",
       "      <td>-2369.999720</td>\n",
       "      <td>33</td>\n",
       "      <td>высшее</td>\n",
       "      <td>0</td>\n",
       "      <td>гражданский брак</td>\n",
       "      <td>1</td>\n",
       "      <td>M</td>\n",
       "      <td>сотрудник</td>\n",
       "      <td>0</td>\n",
       "      <td>90410.586745</td>\n",
       "      <td>строительство недвижимости</td>\n",
       "    </tr>\n",
       "    <tr>\n",
       "      <th>18</th>\n",
       "      <td>0</td>\n",
       "      <td>400281.136913</td>\n",
       "      <td>53</td>\n",
       "      <td>среднее</td>\n",
       "      <td>1</td>\n",
       "      <td>вдовец / вдова</td>\n",
       "      <td>2</td>\n",
       "      <td>F</td>\n",
       "      <td>пенсионер</td>\n",
       "      <td>0</td>\n",
       "      <td>56823.777243</td>\n",
       "      <td>на покупку подержанного автомобиля</td>\n",
       "    </tr>\n",
       "    <tr>\n",
       "      <th>19</th>\n",
       "      <td>0</td>\n",
       "      <td>-10038.818549</td>\n",
       "      <td>48</td>\n",
       "      <td>СРЕДНЕЕ</td>\n",
       "      <td>1</td>\n",
       "      <td>в разводе</td>\n",
       "      <td>3</td>\n",
       "      <td>F</td>\n",
       "      <td>сотрудник</td>\n",
       "      <td>0</td>\n",
       "      <td>242831.107982</td>\n",
       "      <td>на покупку своего автомобиля</td>\n",
       "    </tr>\n",
       "  </tbody>\n",
       "</table>\n",
       "</div>"
      ],
      "text/plain": [
       "    children  days_employed  dob_years            education  education_id  \\\n",
       "0          1   -8437.673028         42               высшее             0   \n",
       "1          1   -4024.803754         36              среднее             1   \n",
       "2          0   -5623.422610         33              Среднее             1   \n",
       "3          3   -4124.747207         32              среднее             1   \n",
       "4          0  340266.072047         53              среднее             1   \n",
       "5          0    -926.185831         27               высшее             0   \n",
       "6          0   -2879.202052         43               высшее             0   \n",
       "7          0    -152.779569         50              СРЕДНЕЕ             1   \n",
       "8          2   -6929.865299         35               ВЫСШЕЕ             0   \n",
       "9          0   -2188.756445         41              среднее             1   \n",
       "10         2   -4171.483647         36               высшее             0   \n",
       "11         0    -792.701887         40              среднее             1   \n",
       "12         0            NaN         65              среднее             1   \n",
       "13         0   -1846.641941         54  неоконченное высшее             2   \n",
       "14         0   -1844.956182         56               высшее             0   \n",
       "15         1    -972.364419         26              среднее             1   \n",
       "16         0   -1719.934226         35              среднее             1   \n",
       "17         0   -2369.999720         33               высшее             0   \n",
       "18         0  400281.136913         53              среднее             1   \n",
       "19         0  -10038.818549         48              СРЕДНЕЕ             1   \n",
       "\n",
       "       family_status  family_status_id gender income_type  debt  \\\n",
       "0    женат / замужем                 0      F   сотрудник     0   \n",
       "1    женат / замужем                 0      F   сотрудник     0   \n",
       "2    женат / замужем                 0      M   сотрудник     0   \n",
       "3    женат / замужем                 0      M   сотрудник     0   \n",
       "4   гражданский брак                 1      F   пенсионер     0   \n",
       "5   гражданский брак                 1      M   компаньон     0   \n",
       "6    женат / замужем                 0      F   компаньон     0   \n",
       "7    женат / замужем                 0      M   сотрудник     0   \n",
       "8   гражданский брак                 1      F   сотрудник     0   \n",
       "9    женат / замужем                 0      M   сотрудник     0   \n",
       "10   женат / замужем                 0      M   компаньон     0   \n",
       "11   женат / замужем                 0      F   сотрудник     0   \n",
       "12  гражданский брак                 1      M   пенсионер     0   \n",
       "13   женат / замужем                 0      F   сотрудник     0   \n",
       "14  гражданский брак                 1      F   компаньон     1   \n",
       "15   женат / замужем                 0      F   сотрудник     0   \n",
       "16   женат / замужем                 0      F   сотрудник     0   \n",
       "17  гражданский брак                 1      M   сотрудник     0   \n",
       "18    вдовец / вдова                 2      F   пенсионер     0   \n",
       "19         в разводе                 3      F   сотрудник     0   \n",
       "\n",
       "     total_income                                 purpose  \n",
       "0   253875.639453                           покупка жилья  \n",
       "1   112080.014102                 приобретение автомобиля  \n",
       "2   145885.952297                           покупка жилья  \n",
       "3   267628.550329              дополнительное образование  \n",
       "4   158616.077870                         сыграть свадьбу  \n",
       "5   255763.565419                           покупка жилья  \n",
       "6   240525.971920                       операции с жильем  \n",
       "7   135823.934197                             образование  \n",
       "8    95856.832424                   на проведение свадьбы  \n",
       "9   144425.938277                 покупка жилья для семьи  \n",
       "10  113943.491460                    покупка недвижимости  \n",
       "11   77069.234271       покупка коммерческой недвижимости  \n",
       "12            NaN                         сыграть свадьбу  \n",
       "13  130458.228857                 приобретение автомобиля  \n",
       "14  165127.911772              покупка жилой недвижимости  \n",
       "15  116820.904450  строительство собственной недвижимости  \n",
       "16  289202.704229                            недвижимость  \n",
       "17   90410.586745              строительство недвижимости  \n",
       "18   56823.777243      на покупку подержанного автомобиля  \n",
       "19  242831.107982            на покупку своего автомобиля  "
      ]
     },
     "execution_count": 3,
     "metadata": {},
     "output_type": "execute_result"
    }
   ],
   "source": [
    "data.head(20)"
   ]
  },
  {
   "cell_type": "code",
   "execution_count": 4,
   "id": "2b757bca",
   "metadata": {
    "deletable": false,
    "id": "2b757bca",
    "outputId": "15376089-8dad-46c9-b520-c05248d43158"
   },
   "outputs": [
    {
     "name": "stdout",
     "output_type": "stream",
     "text": [
      "<class 'pandas.core.frame.DataFrame'>\n",
      "RangeIndex: 21525 entries, 0 to 21524\n",
      "Data columns (total 12 columns):\n",
      " #   Column            Non-Null Count  Dtype  \n",
      "---  ------            --------------  -----  \n",
      " 0   children          21525 non-null  int64  \n",
      " 1   days_employed     19351 non-null  float64\n",
      " 2   dob_years         21525 non-null  int64  \n",
      " 3   education         21525 non-null  object \n",
      " 4   education_id      21525 non-null  int64  \n",
      " 5   family_status     21525 non-null  object \n",
      " 6   family_status_id  21525 non-null  int64  \n",
      " 7   gender            21525 non-null  object \n",
      " 8   income_type       21525 non-null  object \n",
      " 9   debt              21525 non-null  int64  \n",
      " 10  total_income      19351 non-null  float64\n",
      " 11  purpose           21525 non-null  object \n",
      "dtypes: float64(2), int64(5), object(5)\n",
      "memory usage: 2.0+ MB\n"
     ]
    }
   ],
   "source": [
    "data.info()"
   ]
  },
  {
   "cell_type": "markdown",
   "id": "333ec665",
   "metadata": {
    "deletable": false,
    "id": "333ec665"
   },
   "source": [
    "## Предобработка данных"
   ]
  },
  {
   "cell_type": "markdown",
   "id": "02d92d53",
   "metadata": {
    "deletable": false,
    "id": "02d92d53"
   },
   "source": [
    "### Удаление пропусков"
   ]
  },
  {
   "cell_type": "code",
   "execution_count": 5,
   "id": "7f9b2309",
   "metadata": {
    "deletable": false,
    "id": "7f9b2309",
    "outputId": "81f4d817-781c-465c-ed15-91ce4446810d"
   },
   "outputs": [
    {
     "data": {
      "text/plain": [
       "children               0\n",
       "days_employed       2174\n",
       "dob_years              0\n",
       "education              0\n",
       "education_id           0\n",
       "family_status          0\n",
       "family_status_id       0\n",
       "gender                 0\n",
       "income_type            0\n",
       "debt                   0\n",
       "total_income        2174\n",
       "purpose                0\n",
       "dtype: int64"
      ]
     },
     "execution_count": 5,
     "metadata": {},
     "output_type": "execute_result"
    }
   ],
   "source": [
    "data.isna().sum()"
   ]
  },
  {
   "cell_type": "markdown",
   "id": "db86e27b",
   "metadata": {
    "deletable": false,
    "id": "db86e27b"
   },
   "source": [
    "В двух столбцах есть пропущенные значения. Один из них — `total_income` — хранит данные о доходах. На сумму дохода сильнее всего влияет тип занятости, поэтому заполнить пропуски в этом столбце нужно медианным значением по каждому типу из столбца `income_type`. Так, у человека с типом занятости `сотрудник` пропуск в столбце `total_income` должен быть заполнен медианным доходом среди всех записей с тем же типом."
   ]
  },
  {
   "cell_type": "code",
   "execution_count": 6,
   "id": "42006a93",
   "metadata": {
    "deletable": false,
    "id": "42006a93"
   },
   "outputs": [],
   "source": [
    "for t in data['income_type'].unique():\n",
    "    data.loc[(data['income_type'] == t) & (data['total_income'].isna()), 'total_income'] = \\\n",
    "    data.loc[(data['income_type'] == t), 'total_income'].median()"
   ]
  },
  {
   "cell_type": "markdown",
   "id": "89da5ece",
   "metadata": {
    "deletable": false,
    "id": "89da5ece"
   },
   "source": [
    "### Обработка аномальных значений"
   ]
  },
  {
   "cell_type": "markdown",
   "id": "57964554",
   "metadata": {
    "deletable": false,
    "id": "57964554"
   },
   "source": [
    "В данных встречаются артефакты (аномалии) — значения, которые не отражают действительность и появились по какой-то ошибке. Таким артефактом является отрицательное количество дней трудового стажа в столбце `days_employed`. Обработаем значения в этом столбце: заменим все отрицательные значения положительными с помощью метода `abs()`."
   ]
  },
  {
   "cell_type": "code",
   "execution_count": 7,
   "id": "f6f055bf",
   "metadata": {
    "deletable": false,
    "id": "f6f055bf"
   },
   "outputs": [],
   "source": [
    "data['days_employed'] = data['days_employed'].abs()"
   ]
  },
  {
   "cell_type": "markdown",
   "id": "6107dd2f",
   "metadata": {
    "deletable": false,
    "id": "6107dd2f"
   },
   "source": [
    "Для каждого типа занятости выведем медианное значение трудового стажа `days_employed` в днях."
   ]
  },
  {
   "cell_type": "code",
   "execution_count": 8,
   "id": "85a5faf6",
   "metadata": {
    "deletable": false,
    "id": "85a5faf6",
    "outputId": "801ef80e-522b-4668-f34e-565af7432bcf"
   },
   "outputs": [
    {
     "data": {
      "text/plain": [
       "income_type\n",
       "безработный        366413.652744\n",
       "в декрете            3296.759962\n",
       "госслужащий          2689.368353\n",
       "компаньон            1547.382223\n",
       "пенсионер          365213.306266\n",
       "предприниматель       520.848083\n",
       "сотрудник            1574.202821\n",
       "студент               578.751554\n",
       "Name: days_employed, dtype: float64"
      ]
     },
     "execution_count": 8,
     "metadata": {},
     "output_type": "execute_result"
    }
   ],
   "source": [
    "data.groupby('income_type')['days_employed'].agg('median')"
   ]
  },
  {
   "cell_type": "markdown",
   "id": "38d1a030",
   "metadata": {
    "deletable": false,
    "id": "38d1a030"
   },
   "source": [
    "У двух типов (безработные и пенсионеры) получаются аномально большие значения. Исправить такие значения сложно, поэтому оставим их как есть. Тем более этот столбец не понадобится нам для исследования."
   ]
  },
  {
   "cell_type": "markdown",
   "id": "d8a9f147",
   "metadata": {
    "deletable": false,
    "id": "d8a9f147"
   },
   "source": [
    "Выведем перечень уникальных значений столбца `children`."
   ]
  },
  {
   "cell_type": "code",
   "execution_count": 9,
   "id": "ef5056eb",
   "metadata": {
    "deletable": false,
    "id": "ef5056eb",
    "outputId": "6975b15c-7f95-4697-d16d-a0c79b657b03"
   },
   "outputs": [
    {
     "data": {
      "text/plain": [
       "array([ 1,  0,  3,  2, -1,  4, 20,  5])"
      ]
     },
     "execution_count": 9,
     "metadata": {},
     "output_type": "execute_result"
    }
   ],
   "source": [
    "data['children'].unique()"
   ]
  },
  {
   "cell_type": "markdown",
   "id": "40b9ebf2",
   "metadata": {
    "deletable": false,
    "id": "40b9ebf2"
   },
   "source": [
    "В столбце `children` есть два аномальных значения. Удалим строки, в которых встречаются значения -1 и 20."
   ]
  },
  {
   "cell_type": "code",
   "execution_count": 10,
   "id": "3ff9801d",
   "metadata": {
    "deletable": false,
    "id": "3ff9801d"
   },
   "outputs": [],
   "source": [
    "data = data[(data['children'] != -1) & (data['children'] != 20)]"
   ]
  },
  {
   "cell_type": "markdown",
   "id": "bbc4d0ce",
   "metadata": {
    "deletable": false,
    "id": "bbc4d0ce"
   },
   "source": [
    "Ещё раз выведем перечень уникальных значений столбца `children`, чтобы убедиться, что артефакты удалены."
   ]
  },
  {
   "cell_type": "code",
   "execution_count": 11,
   "id": "ad4fa8b7",
   "metadata": {
    "deletable": false,
    "id": "ad4fa8b7",
    "outputId": "b2097101-d49d-44d9-901b-32a65c9463d1"
   },
   "outputs": [
    {
     "data": {
      "text/plain": [
       "array([1, 0, 3, 2, 4, 5])"
      ]
     },
     "execution_count": 11,
     "metadata": {},
     "output_type": "execute_result"
    }
   ],
   "source": [
    "data['children'].unique()"
   ]
  },
  {
   "cell_type": "markdown",
   "id": "f4ea573f",
   "metadata": {
    "deletable": false,
    "id": "f4ea573f"
   },
   "source": [
    "Заполним пропуски в столбце `days_employed` медианными значениями по каждому типу занятости `income_type`."
   ]
  },
  {
   "cell_type": "code",
   "execution_count": 12,
   "id": "af6b1a7e",
   "metadata": {
    "deletable": false,
    "id": "af6b1a7e"
   },
   "outputs": [],
   "source": [
    "for t in data['income_type'].unique():\n",
    "    data.loc[(data['income_type'] == t) & (data['days_employed'].isna()), 'days_employed'] = \\\n",
    "    data.loc[(data['income_type'] == t), 'days_employed'].median()"
   ]
  },
  {
   "cell_type": "markdown",
   "id": "2753f40d",
   "metadata": {
    "deletable": false,
    "id": "2753f40d"
   },
   "source": [
    "Убедимся, что все пропуски заполнены."
   ]
  },
  {
   "cell_type": "code",
   "execution_count": 13,
   "id": "55f78bc2",
   "metadata": {
    "deletable": false,
    "id": "55f78bc2",
    "outputId": "8da1e4e1-358e-4e87-98c9-f261bce0a7b2"
   },
   "outputs": [
    {
     "data": {
      "text/plain": [
       "children            0\n",
       "days_employed       0\n",
       "dob_years           0\n",
       "education           0\n",
       "education_id        0\n",
       "family_status       0\n",
       "family_status_id    0\n",
       "gender              0\n",
       "income_type         0\n",
       "debt                0\n",
       "total_income        0\n",
       "purpose             0\n",
       "dtype: int64"
      ]
     },
     "execution_count": 13,
     "metadata": {},
     "output_type": "execute_result"
    }
   ],
   "source": [
    "data.isna().sum()"
   ]
  },
  {
   "cell_type": "markdown",
   "id": "42d19d24",
   "metadata": {
    "deletable": false,
    "id": "42d19d24"
   },
   "source": [
    "Заменим вещественный тип данных в столбце `total_income` на целочисленный с помощью метода `astype()`."
   ]
  },
  {
   "cell_type": "code",
   "execution_count": 14,
   "id": "920b65ad",
   "metadata": {
    "deletable": false,
    "id": "920b65ad"
   },
   "outputs": [],
   "source": [
    "data['total_income'] = data['total_income'].astype(int)"
   ]
  },
  {
   "cell_type": "markdown",
   "id": "dc587695",
   "metadata": {
    "deletable": false,
    "id": "dc587695"
   },
   "source": [
    "Выведем на экран количество строк-дубликатов в данных и удалим их."
   ]
  },
  {
   "cell_type": "code",
   "execution_count": 15,
   "id": "3ee445e4",
   "metadata": {
    "deletable": false,
    "id": "3ee445e4",
    "outputId": "9684deba-1934-42d1-99e1-cda61740f822"
   },
   "outputs": [
    {
     "data": {
      "text/plain": [
       "54"
      ]
     },
     "execution_count": 15,
     "metadata": {},
     "output_type": "execute_result"
    }
   ],
   "source": [
    "data.duplicated().sum()"
   ]
  },
  {
   "cell_type": "code",
   "execution_count": 16,
   "id": "8575fe05",
   "metadata": {
    "deletable": false,
    "id": "8575fe05"
   },
   "outputs": [],
   "source": [
    "data = data.drop_duplicates()"
   ]
  },
  {
   "cell_type": "markdown",
   "id": "9771a76c",
   "metadata": {
    "deletable": false,
    "id": "9771a76c"
   },
   "source": [
    "Обработаем неявные дубликаты в столбце `education`. В этом столбце есть одни и те же значения, но записанные по-разному: с использованием заглавных и строчных букв. Приведём их к нижнему регистру. "
   ]
  },
  {
   "cell_type": "code",
   "execution_count": 17,
   "id": "a9f8e2bf",
   "metadata": {
    "deletable": false,
    "id": "a9f8e2bf"
   },
   "outputs": [],
   "source": [
    "data['education'] = data['education'].str.lower()"
   ]
  },
  {
   "cell_type": "markdown",
   "id": "9904cf55",
   "metadata": {
    "deletable": false,
    "id": "9904cf55"
   },
   "source": [
    "### Категоризация данных"
   ]
  },
  {
   "cell_type": "markdown",
   "id": "72fcc8a2",
   "metadata": {
    "deletable": false,
    "id": "72fcc8a2"
   },
   "source": [
    "На основании диапазонов, указанных ниже, создадим в датафрейме `data` столбец `total_income_category` с категориями:\n",
    "\n",
    "- 0–30000 — `'E'`;\n",
    "- 30001–50000 — `'D'`;\n",
    "- 50001–200000 — `'C'`;\n",
    "- 200001–1000000 — `'B'`;\n",
    "- 1000001 и выше — `'A'`.\n",
    "\n",
    "Используем собственную функцию с именем `categorize_income()` и метод `apply()`."
   ]
  },
  {
   "cell_type": "code",
   "execution_count": 18,
   "id": "e1771346",
   "metadata": {
    "deletable": false,
    "id": "e1771346"
   },
   "outputs": [],
   "source": [
    "def categorize_income(income):\n",
    "    try:\n",
    "        if 0 <= income <= 30000:\n",
    "            return 'E'\n",
    "        elif 30001 <= income <= 50000:\n",
    "            return 'D'\n",
    "        elif 50001 <= income <= 200000:\n",
    "            return 'C'\n",
    "        elif 200001 <= income <= 1000000:\n",
    "            return 'B'\n",
    "        elif income >= 1000001:\n",
    "            return 'A'\n",
    "    except:\n",
    "        pass"
   ]
  },
  {
   "cell_type": "code",
   "execution_count": 19,
   "id": "d5f3586d",
   "metadata": {
    "deletable": false,
    "id": "d5f3586d"
   },
   "outputs": [],
   "source": [
    "data['total_income_category'] = data['total_income'].apply(categorize_income)"
   ]
  },
  {
   "cell_type": "markdown",
   "id": "dde49b5c",
   "metadata": {
    "deletable": false,
    "id": "dde49b5c"
   },
   "source": [
    "Выведем на экран перечень уникальных целей взятия кредита из столбца `purpose`."
   ]
  },
  {
   "cell_type": "code",
   "execution_count": 20,
   "id": "f67ce9b3",
   "metadata": {
    "deletable": false,
    "id": "f67ce9b3",
    "outputId": "673c12d9-7d7e-4ae0-9812-c622c89dd244"
   },
   "outputs": [
    {
     "data": {
      "text/plain": [
       "array(['покупка жилья', 'приобретение автомобиля',\n",
       "       'дополнительное образование', 'сыграть свадьбу',\n",
       "       'операции с жильем', 'образование', 'на проведение свадьбы',\n",
       "       'покупка жилья для семьи', 'покупка недвижимости',\n",
       "       'покупка коммерческой недвижимости', 'покупка жилой недвижимости',\n",
       "       'строительство собственной недвижимости', 'недвижимость',\n",
       "       'строительство недвижимости', 'на покупку подержанного автомобиля',\n",
       "       'на покупку своего автомобиля',\n",
       "       'операции с коммерческой недвижимостью',\n",
       "       'строительство жилой недвижимости', 'жилье',\n",
       "       'операции со своей недвижимостью', 'автомобили',\n",
       "       'заняться образованием', 'сделка с подержанным автомобилем',\n",
       "       'получение образования', 'автомобиль', 'свадьба',\n",
       "       'получение дополнительного образования', 'покупка своего жилья',\n",
       "       'операции с недвижимостью', 'получение высшего образования',\n",
       "       'свой автомобиль', 'сделка с автомобилем',\n",
       "       'профильное образование', 'высшее образование',\n",
       "       'покупка жилья для сдачи', 'на покупку автомобиля', 'ремонт жилью',\n",
       "       'заняться высшим образованием'], dtype=object)"
      ]
     },
     "execution_count": 20,
     "metadata": {},
     "output_type": "execute_result"
    }
   ],
   "source": [
    "data['purpose'].unique()"
   ]
  },
  {
   "cell_type": "markdown",
   "id": "85d0aef0",
   "metadata": {
    "deletable": false,
    "id": "85d0aef0"
   },
   "source": [
    "Создадим функцию, которая на основании данных из столбца `purpose` сформирует новый столбец `purpose_category`, в который войдут следующие категории:\n",
    "\n",
    "- `'операции с автомобилем'`,\n",
    "- `'операции с недвижимостью'`,\n",
    "- `'проведение свадьбы'`,\n",
    "- `'получение образования'`.\n",
    "\n",
    "Например, если в столбце `purpose` находится подстрока `'на покупку автомобиля'`, то в столбце `purpose_category` должна появиться строка `'операции с автомобилем'`.\n",
    "\n",
    "Используем функцию `categorize_purpose()` и метод `apply()`. Для этого изучим данные в столбце `purpose` и определим, какие подстроки помогут вам правильно определить категорию."
   ]
  },
  {
   "cell_type": "code",
   "execution_count": 21,
   "id": "e149fab4",
   "metadata": {
    "deletable": false,
    "id": "e149fab4"
   },
   "outputs": [],
   "source": [
    "def categorize_purpose(row):\n",
    "    try:\n",
    "        if 'автом' in row:\n",
    "            return 'операции с автомобилем'\n",
    "        elif 'жил' in row or 'недвиж' in row:\n",
    "            return 'операции с недвижимостью'\n",
    "        elif 'свад' in row:\n",
    "            return 'проведение свадьбы'\n",
    "        elif 'образов' in row:\n",
    "            return 'получение образования'\n",
    "    except:\n",
    "        return 'нет категории'"
   ]
  },
  {
   "cell_type": "code",
   "execution_count": 30,
   "id": "36c2c9ce",
   "metadata": {},
   "outputs": [],
   "source": [
    "data['purpose_category'] = data['purpose'].apply(categorize_purpose)"
   ]
  },
  {
   "cell_type": "markdown",
   "id": "09b242bf",
   "metadata": {
    "deletable": false,
    "editable": false,
    "id": "09b242bf"
   },
   "source": [
    "### Исследуем данные."
   ]
  },
  {
   "cell_type": "markdown",
   "id": "c5d66278",
   "metadata": {
    "deletable": false,
    "editable": false,
    "id": "c5d66278"
   },
   "source": [
    "Есть ли зависимость между количеством детей и возвратом кредита в срок?"
   ]
  },
  {
   "cell_type": "code",
   "execution_count": 23,
   "id": "2cacfc4a",
   "metadata": {
    "id": "2cacfc4a"
   },
   "outputs": [
    {
     "data": {
      "text/html": [
       "<div>\n",
       "<style scoped>\n",
       "    .dataframe tbody tr th:only-of-type {\n",
       "        vertical-align: middle;\n",
       "    }\n",
       "\n",
       "    .dataframe tbody tr th {\n",
       "        vertical-align: top;\n",
       "    }\n",
       "\n",
       "    .dataframe thead th {\n",
       "        text-align: right;\n",
       "    }\n",
       "</style>\n",
       "<table border=\"1\" class=\"dataframe\">\n",
       "  <thead>\n",
       "    <tr style=\"text-align: right;\">\n",
       "      <th></th>\n",
       "      <th>Всего кредитополучателей</th>\n",
       "      <th>Всего должников</th>\n",
       "      <th>Доля должников</th>\n",
       "    </tr>\n",
       "    <tr>\n",
       "      <th>children</th>\n",
       "      <th></th>\n",
       "      <th></th>\n",
       "      <th></th>\n",
       "    </tr>\n",
       "  </thead>\n",
       "  <tbody>\n",
       "    <tr>\n",
       "      <th>0</th>\n",
       "      <td>14107</td>\n",
       "      <td>1063</td>\n",
       "      <td>0.075353</td>\n",
       "    </tr>\n",
       "    <tr>\n",
       "      <th>1</th>\n",
       "      <td>4809</td>\n",
       "      <td>444</td>\n",
       "      <td>0.092327</td>\n",
       "    </tr>\n",
       "    <tr>\n",
       "      <th>2</th>\n",
       "      <td>2052</td>\n",
       "      <td>194</td>\n",
       "      <td>0.094542</td>\n",
       "    </tr>\n",
       "    <tr>\n",
       "      <th>3</th>\n",
       "      <td>330</td>\n",
       "      <td>27</td>\n",
       "      <td>0.081818</td>\n",
       "    </tr>\n",
       "    <tr>\n",
       "      <th>4</th>\n",
       "      <td>41</td>\n",
       "      <td>4</td>\n",
       "      <td>0.097561</td>\n",
       "    </tr>\n",
       "    <tr>\n",
       "      <th>5</th>\n",
       "      <td>9</td>\n",
       "      <td>0</td>\n",
       "      <td>0.000000</td>\n",
       "    </tr>\n",
       "  </tbody>\n",
       "</table>\n",
       "</div>"
      ],
      "text/plain": [
       "          Всего кредитополучателей  Всего должников  Доля должников\n",
       "children                                                           \n",
       "0                            14107             1063        0.075353\n",
       "1                             4809              444        0.092327\n",
       "2                             2052              194        0.094542\n",
       "3                              330               27        0.081818\n",
       "4                               41                4        0.097561\n",
       "5                                9                0        0.000000"
      ]
     },
     "metadata": {},
     "output_type": "display_data"
    },
    {
     "data": {
      "text/html": [
       "<div>\n",
       "<style scoped>\n",
       "    .dataframe tbody tr th:only-of-type {\n",
       "        vertical-align: middle;\n",
       "    }\n",
       "\n",
       "    .dataframe tbody tr th {\n",
       "        vertical-align: top;\n",
       "    }\n",
       "\n",
       "    .dataframe thead th {\n",
       "        text-align: right;\n",
       "    }\n",
       "</style>\n",
       "<table border=\"1\" class=\"dataframe\">\n",
       "  <thead>\n",
       "    <tr style=\"text-align: right;\">\n",
       "      <th></th>\n",
       "      <th>Всего кредитополучателей</th>\n",
       "      <th>Всего должников</th>\n",
       "      <th>Доля должников</th>\n",
       "    </tr>\n",
       "    <tr>\n",
       "      <th>family_status</th>\n",
       "      <th></th>\n",
       "      <th></th>\n",
       "      <th></th>\n",
       "    </tr>\n",
       "  </thead>\n",
       "  <tbody>\n",
       "    <tr>\n",
       "      <th>Не женат / не замужем</th>\n",
       "      <td>2796</td>\n",
       "      <td>273</td>\n",
       "      <td>0.097639</td>\n",
       "    </tr>\n",
       "    <tr>\n",
       "      <th>в разводе</th>\n",
       "      <td>1189</td>\n",
       "      <td>84</td>\n",
       "      <td>0.070648</td>\n",
       "    </tr>\n",
       "    <tr>\n",
       "      <th>вдовец / вдова</th>\n",
       "      <td>951</td>\n",
       "      <td>63</td>\n",
       "      <td>0.066246</td>\n",
       "    </tr>\n",
       "    <tr>\n",
       "      <th>гражданский брак</th>\n",
       "      <td>4146</td>\n",
       "      <td>385</td>\n",
       "      <td>0.092861</td>\n",
       "    </tr>\n",
       "    <tr>\n",
       "      <th>женат / замужем</th>\n",
       "      <td>12266</td>\n",
       "      <td>927</td>\n",
       "      <td>0.075575</td>\n",
       "    </tr>\n",
       "  </tbody>\n",
       "</table>\n",
       "</div>"
      ],
      "text/plain": [
       "                       Всего кредитополучателей  Всего должников  \\\n",
       "family_status                                                      \n",
       "Не женат / не замужем                      2796              273   \n",
       "в разводе                                  1189               84   \n",
       "вдовец / вдова                              951               63   \n",
       "гражданский брак                           4146              385   \n",
       "женат / замужем                           12266              927   \n",
       "\n",
       "                       Доля должников  \n",
       "family_status                          \n",
       "Не женат / не замужем        0.097639  \n",
       "в разводе                    0.070648  \n",
       "вдовец / вдова               0.066246  \n",
       "гражданский брак             0.092861  \n",
       "женат / замужем              0.075575  "
      ]
     },
     "metadata": {},
     "output_type": "display_data"
    }
   ],
   "source": [
    "def que(category):\n",
    "    data_temp = data.pivot_table(index=category, values='debt', aggfunc=['count', 'sum', 'mean'])\n",
    "    data_temp.columns = ['Всего кредитополучателей', 'Всего должников', 'Доля должников']\n",
    "    return data_temp\n",
    "display(que('children'))\n"
   ]
  },
  {
   "cell_type": "markdown",
   "id": "3a6b99ec",
   "metadata": {
    "deletable": false,
    "id": "3a6b99ec"
   },
   "source": [
    "**Вывод:** \n",
    "Распределение заемщиков-должников показывает, что лишь 7,5% бездетных заемщиков становится должниками, тогда как у клиентов кредитных организаций, имеющих детей, этот процент варьируется от 8,2% до 9,76%. В то же время, количество заемщиков с 3-4 детьми составляет крайне незначительную часть от общего числа заемщиков (около 1,8%), посему для выводов больше подходят данные по заемщикам с 1-2 детьми. Среди таких клиентов банков доля должников составляет 9,2-9,5%, что почти на 2% выше процента бездетных должников.\n",
    "**Таким образом**, можно утверждать, что зависимость между количеством детей и возвратом кредита в срок существует: заемщики с детьми чаще становятся должниками по кредитам. Тем не менее, эта зависимость не выглядит очень значительной (7,5% против 9,5%)."
   ]
  },
  {
   "cell_type": "markdown",
   "id": "97be82ca",
   "metadata": {
    "deletable": false,
    "editable": false,
    "id": "97be82ca"
   },
   "source": [
    "Есть ли зависимость между семейным положением и возвратом кредита в срок?"
   ]
  },
  {
   "cell_type": "code",
   "execution_count": 24,
   "id": "ada4bafc",
   "metadata": {},
   "outputs": [
    {
     "data": {
      "text/html": [
       "<div>\n",
       "<style scoped>\n",
       "    .dataframe tbody tr th:only-of-type {\n",
       "        vertical-align: middle;\n",
       "    }\n",
       "\n",
       "    .dataframe tbody tr th {\n",
       "        vertical-align: top;\n",
       "    }\n",
       "\n",
       "    .dataframe thead th {\n",
       "        text-align: right;\n",
       "    }\n",
       "</style>\n",
       "<table border=\"1\" class=\"dataframe\">\n",
       "  <thead>\n",
       "    <tr style=\"text-align: right;\">\n",
       "      <th></th>\n",
       "      <th>Всего кредитополучателей</th>\n",
       "      <th>Всего должников</th>\n",
       "      <th>Доля должников</th>\n",
       "    </tr>\n",
       "    <tr>\n",
       "      <th>family_status</th>\n",
       "      <th></th>\n",
       "      <th></th>\n",
       "      <th></th>\n",
       "    </tr>\n",
       "  </thead>\n",
       "  <tbody>\n",
       "    <tr>\n",
       "      <th>Не женат / не замужем</th>\n",
       "      <td>2796</td>\n",
       "      <td>273</td>\n",
       "      <td>0.097639</td>\n",
       "    </tr>\n",
       "    <tr>\n",
       "      <th>в разводе</th>\n",
       "      <td>1189</td>\n",
       "      <td>84</td>\n",
       "      <td>0.070648</td>\n",
       "    </tr>\n",
       "    <tr>\n",
       "      <th>вдовец / вдова</th>\n",
       "      <td>951</td>\n",
       "      <td>63</td>\n",
       "      <td>0.066246</td>\n",
       "    </tr>\n",
       "    <tr>\n",
       "      <th>гражданский брак</th>\n",
       "      <td>4146</td>\n",
       "      <td>385</td>\n",
       "      <td>0.092861</td>\n",
       "    </tr>\n",
       "    <tr>\n",
       "      <th>женат / замужем</th>\n",
       "      <td>12266</td>\n",
       "      <td>927</td>\n",
       "      <td>0.075575</td>\n",
       "    </tr>\n",
       "  </tbody>\n",
       "</table>\n",
       "</div>"
      ],
      "text/plain": [
       "                       Всего кредитополучателей  Всего должников  \\\n",
       "family_status                                                      \n",
       "Не женат / не замужем                      2796              273   \n",
       "в разводе                                  1189               84   \n",
       "вдовец / вдова                              951               63   \n",
       "гражданский брак                           4146              385   \n",
       "женат / замужем                           12266              927   \n",
       "\n",
       "                       Доля должников  \n",
       "family_status                          \n",
       "Не женат / не замужем        0.097639  \n",
       "в разводе                    0.070648  \n",
       "вдовец / вдова               0.066246  \n",
       "гражданский брак             0.092861  \n",
       "женат / замужем              0.075575  "
      ]
     },
     "metadata": {},
     "output_type": "display_data"
    }
   ],
   "source": [
    "display(que('family_status'))"
   ]
  },
  {
   "cell_type": "markdown",
   "id": "1cef7837",
   "metadata": {
    "deletable": false,
    "id": "1cef7837"
   },
   "source": [
    "**Вывод:** \n",
    "Мы видим, что процент должников от общего процента заемщиков колеблется от 6,6% (вдовцы) до 9,8% (неженатые и незамужние). Можно отметить, что процент должников выше в категориях, не познавших официального оформления семейных отношений (неженатые - 9,8% и живущие в гражданском браке - 9,3%), тогда как даже у разведенных или потерявших супруга процент значительно ниже (7,1% - в разводе, 6,6% вдовцы). Самая многочисленная категория заемщиков - люди, живущие в браке, показывают тоже довольно низкий процент просрочек - 7,6%. **Таким образом**, можно утверждать, что зависимость между семейным положением и возвратом кредита в срок есть и банкам было бы надежнее отдавать предпочтение тем заявителям, кто состоит или состоял в семейных отношениях."
   ]
  },
  {
   "cell_type": "markdown",
   "id": "1e8b2fca",
   "metadata": {
    "deletable": false,
    "editable": false,
    "id": "1e8b2fca"
   },
   "source": [
    "Есть ли зависимость между уровнем дохода и возвратом кредита в срок?"
   ]
  },
  {
   "cell_type": "code",
   "execution_count": 28,
   "id": "cd7e3720",
   "metadata": {
    "id": "cd7e3720"
   },
   "outputs": [
    {
     "data": {
      "text/html": [
       "<div>\n",
       "<style scoped>\n",
       "    .dataframe tbody tr th:only-of-type {\n",
       "        vertical-align: middle;\n",
       "    }\n",
       "\n",
       "    .dataframe tbody tr th {\n",
       "        vertical-align: top;\n",
       "    }\n",
       "\n",
       "    .dataframe thead th {\n",
       "        text-align: right;\n",
       "    }\n",
       "</style>\n",
       "<table border=\"1\" class=\"dataframe\">\n",
       "  <thead>\n",
       "    <tr style=\"text-align: right;\">\n",
       "      <th></th>\n",
       "      <th>Всего кредитополучателей</th>\n",
       "      <th>Всего должников</th>\n",
       "      <th>Доля должников</th>\n",
       "    </tr>\n",
       "    <tr>\n",
       "      <th>total_income_category</th>\n",
       "      <th></th>\n",
       "      <th></th>\n",
       "      <th></th>\n",
       "    </tr>\n",
       "  </thead>\n",
       "  <tbody>\n",
       "    <tr>\n",
       "      <th>A</th>\n",
       "      <td>25</td>\n",
       "      <td>2</td>\n",
       "      <td>0.080000</td>\n",
       "    </tr>\n",
       "    <tr>\n",
       "      <th>B</th>\n",
       "      <td>5014</td>\n",
       "      <td>354</td>\n",
       "      <td>0.070602</td>\n",
       "    </tr>\n",
       "    <tr>\n",
       "      <th>C</th>\n",
       "      <td>15938</td>\n",
       "      <td>1353</td>\n",
       "      <td>0.084891</td>\n",
       "    </tr>\n",
       "    <tr>\n",
       "      <th>D</th>\n",
       "      <td>349</td>\n",
       "      <td>21</td>\n",
       "      <td>0.060172</td>\n",
       "    </tr>\n",
       "    <tr>\n",
       "      <th>E</th>\n",
       "      <td>22</td>\n",
       "      <td>2</td>\n",
       "      <td>0.090909</td>\n",
       "    </tr>\n",
       "  </tbody>\n",
       "</table>\n",
       "</div>"
      ],
      "text/plain": [
       "                       Всего кредитополучателей  Всего должников  \\\n",
       "total_income_category                                              \n",
       "A                                            25                2   \n",
       "B                                          5014              354   \n",
       "C                                         15938             1353   \n",
       "D                                           349               21   \n",
       "E                                            22                2   \n",
       "\n",
       "                       Доля должников  \n",
       "total_income_category                  \n",
       "A                            0.080000  \n",
       "B                            0.070602  \n",
       "C                            0.084891  \n",
       "D                            0.060172  \n",
       "E                            0.090909  "
      ]
     },
     "metadata": {},
     "output_type": "display_data"
    }
   ],
   "source": [
    "income_pivot = data.pivot_table(index = ['total_income_category'], values = 'debt', aggfunc = ['count', 'sum', 'mean'])\n",
    "income_pivot.columns = ['Всего кредитополучателей', 'Всего должников', 'Доля должников']\n",
    "display(income_pivot)\n",
    "\n",
    "# display(que('total_income_category'))"
   ]
  },
  {
   "cell_type": "markdown",
   "id": "e8593def",
   "metadata": {
    "deletable": false,
    "id": "e8593def"
   },
   "source": [
    "**Вывод:** Как мы помним, чем ближе к началу алфавита категория дохода, тем выше доход заемщика: наивысший уровень дохода - у категории А, низший уровень - у категории Е. Тем не менее, прямой корреляции процента задолженностей с ростом или снижением уровня дохода заемщиков не наблюдается: самый низкий процент просрочек - у категории D (6%), при этом она соседствует с самыми высокими процентами долгов в соседних категориях C и E (8,5% и 9,1%). **Таким образом**, можно утверждать, что зависимости между уровнем дохода и возвратом кредита в срок нет."
   ]
  },
  {
   "cell_type": "markdown",
   "id": "99ecbd1f",
   "metadata": {
    "deletable": false,
    "editable": false,
    "id": "99ecbd1f"
   },
   "source": [
    "Как разные цели кредита влияют на его возврат в срок?"
   ]
  },
  {
   "cell_type": "code",
   "execution_count": 31,
   "id": "2b687290",
   "metadata": {
    "id": "2b687290"
   },
   "outputs": [
    {
     "data": {
      "text/html": [
       "<div>\n",
       "<style scoped>\n",
       "    .dataframe tbody tr th:only-of-type {\n",
       "        vertical-align: middle;\n",
       "    }\n",
       "\n",
       "    .dataframe tbody tr th {\n",
       "        vertical-align: top;\n",
       "    }\n",
       "\n",
       "    .dataframe thead th {\n",
       "        text-align: right;\n",
       "    }\n",
       "</style>\n",
       "<table border=\"1\" class=\"dataframe\">\n",
       "  <thead>\n",
       "    <tr style=\"text-align: right;\">\n",
       "      <th></th>\n",
       "      <th>Всего кредитополучателей</th>\n",
       "      <th>Всего должников</th>\n",
       "      <th>Доля должников</th>\n",
       "    </tr>\n",
       "    <tr>\n",
       "      <th>purpose_category</th>\n",
       "      <th></th>\n",
       "      <th></th>\n",
       "      <th></th>\n",
       "    </tr>\n",
       "  </thead>\n",
       "  <tbody>\n",
       "    <tr>\n",
       "      <th>операции с автомобилем</th>\n",
       "      <td>4281</td>\n",
       "      <td>400</td>\n",
       "      <td>0.093436</td>\n",
       "    </tr>\n",
       "    <tr>\n",
       "      <th>операции с недвижимостью</th>\n",
       "      <td>10754</td>\n",
       "      <td>780</td>\n",
       "      <td>0.072531</td>\n",
       "    </tr>\n",
       "    <tr>\n",
       "      <th>получение образования</th>\n",
       "      <td>3989</td>\n",
       "      <td>369</td>\n",
       "      <td>0.092504</td>\n",
       "    </tr>\n",
       "    <tr>\n",
       "      <th>проведение свадьбы</th>\n",
       "      <td>2324</td>\n",
       "      <td>183</td>\n",
       "      <td>0.078744</td>\n",
       "    </tr>\n",
       "  </tbody>\n",
       "</table>\n",
       "</div>"
      ],
      "text/plain": [
       "                          Всего кредитополучателей  Всего должников  \\\n",
       "purpose_category                                                      \n",
       "операции с автомобилем                        4281              400   \n",
       "операции с недвижимостью                     10754              780   \n",
       "получение образования                         3989              369   \n",
       "проведение свадьбы                            2324              183   \n",
       "\n",
       "                          Доля должников  \n",
       "purpose_category                          \n",
       "операции с автомобилем          0.093436  \n",
       "операции с недвижимостью        0.072531  \n",
       "получение образования           0.092504  \n",
       "проведение свадьбы              0.078744  "
      ]
     },
     "execution_count": 31,
     "metadata": {},
     "output_type": "execute_result"
    }
   ],
   "source": [
    "purpose_pivot = data.pivot_table(index = ['purpose_category'], values = 'debt', aggfunc = ['count', 'sum', 'mean'])\n",
    "purpose_pivot.columns = ['Всего кредитополучателей', 'Всего должников', 'Доля должников']\n",
    "purpose_pivot"
   ]
  },
  {
   "cell_type": "markdown",
   "id": "b4bb2ce6",
   "metadata": {
    "deletable": false,
    "id": "b4bb2ce6"
   },
   "source": [
    "**Вывод:** Исходя из вычислений выше, видим, что среди заемщиков, бравших кредит на операции с автомобилем или получение образования, процент задолженностей или просрочек выше (9,3% в обоих случаях, если округлять). Самые надежные заемщики - клиенты-\"ипотечники\" (7,3%). Немногим хуже и заемщики, планировавшие дополнительные расходы на свадьбу - 7,9%."
   ]
  },
  {
   "cell_type": "markdown",
   "id": "9da2ceda",
   "metadata": {
    "deletable": false,
    "id": "9da2ceda"
   },
   "source": [
    "*Каковы возможные причины появления пропусков в исходных данных?* Если рассматривать данный датасет, где пропуски встречаются в столбцах \"трудовой стаж\" и \"ежемесячный доход\", можно предположить, что либо заемщики не предоставили часть данных о себе, что маловероятно, учитывая, что они уже получили кредит от банка, либо автоматизированная система сбора информации дала сбой. Нельзя исключать и человеческий фактор при переносе или обработке данных."
   ]
  },
  {
   "cell_type": "markdown",
   "id": "7ecf2b8e",
   "metadata": {
    "deletable": false,
    "id": "7ecf2b8e"
   },
   "source": [
    "*Почему заполнить пропуски медианным значением — лучшее решение для количественных переменных?* В изучаемом датасете пропуски были в двух столбцах: трудовой стаж и ежемесячный доход. Поскольку в таких данных, как доход, некоторые значения могут сильно выделяться среди большинства, это бы исказило данные при подсчете среднего значения. Использование медианы позволяет этого избежать, так как медианное значение - это такое значение, слева и справа от которого (больше и меньше которого) равное количество других значений. Таким образом, использование медианных значений для заполнения пропусков позволяет получить более взвешенные данные, что меньше исказит датасет."
   ]
  },
  {
   "cell_type": "markdown",
   "id": "6db5255a",
   "metadata": {
    "deletable": false,
    "editable": false,
    "id": "6db5255a"
   },
   "source": [
    "## Общий вывод"
   ]
  },
  {
   "cell_type": "markdown",
   "id": "bad65432",
   "metadata": {
    "id": "bad65432"
   },
   "source": [
    "Поскольку главная задача проекта - построение скоринговой модели для оценки платежеспособности потенциальных клиентов, анализ представленных данных позволяет сделать следующий вывод. Для оценки платежеспособности потенциальных заемщиков целесообразно оценивать наличие у заявителя детей, его семейное положение и предполагаемую цель кредита. Уровень дохода надо рассматривать категориально, так как чёткой корреляции между уровнем дохода и количеством просрочек выявлено не было.\n",
    "\n",
    "Идеальным клиентом, таким образом, будет бездетный человек, состоящий или ранее состоявший в браке, и берущий кредит на недвижимость или (новую?!) свадьбу. \n",
    "Наиболее рискованным клиентом представляется холостой или сожительствующий с партнером человек с 1-2 детьми, который хочет приобрести автомобиль или получить образование."
   ]
  }
 ],
 "metadata": {
  "ExecuteTimeLog": [
   {
    "duration": 475,
    "start_time": "2022-08-01T19:14:55.189Z"
   },
   {
    "duration": 22,
    "start_time": "2022-08-01T19:14:57.266Z"
   },
   {
    "duration": 76,
    "start_time": "2022-08-01T19:15:05.640Z"
   },
   {
    "duration": 35,
    "start_time": "2022-08-01T19:15:15.532Z"
   },
   {
    "duration": 580,
    "start_time": "2022-08-02T14:09:50.802Z"
   },
   {
    "duration": 28,
    "start_time": "2022-08-02T14:09:54.146Z"
   },
   {
    "duration": 18,
    "start_time": "2022-08-02T14:10:06.647Z"
   },
   {
    "duration": 12,
    "start_time": "2022-08-02T14:10:10.747Z"
   },
   {
    "duration": 36,
    "start_time": "2022-08-02T14:10:27.197Z"
   },
   {
    "duration": 4,
    "start_time": "2022-08-02T14:10:34.743Z"
   },
   {
    "duration": 8,
    "start_time": "2022-08-02T14:11:05.941Z"
   },
   {
    "duration": 6,
    "start_time": "2022-08-02T14:11:12.201Z"
   },
   {
    "duration": 9,
    "start_time": "2022-08-02T14:11:16.746Z"
   },
   {
    "duration": 5,
    "start_time": "2022-08-02T14:11:40.247Z"
   },
   {
    "duration": 37,
    "start_time": "2022-08-02T14:11:46.508Z"
   },
   {
    "duration": 11,
    "start_time": "2022-08-02T14:11:49.997Z"
   },
   {
    "duration": 4,
    "start_time": "2022-08-02T14:11:54.072Z"
   },
   {
    "duration": 19,
    "start_time": "2022-08-02T14:11:57.649Z"
   },
   {
    "duration": 20,
    "start_time": "2022-08-02T14:12:05.465Z"
   },
   {
    "duration": 14,
    "start_time": "2022-08-02T14:12:07.904Z"
   },
   {
    "duration": 4,
    "start_time": "2022-08-02T14:12:15.762Z"
   },
   {
    "duration": 12,
    "start_time": "2022-08-02T14:12:19.152Z"
   },
   {
    "duration": 7,
    "start_time": "2022-08-02T14:12:22.248Z"
   },
   {
    "duration": 3,
    "start_time": "2022-08-02T14:12:27.348Z"
   },
   {
    "duration": 9,
    "start_time": "2022-08-02T14:12:29.193Z"
   },
   {
    "duration": 3,
    "start_time": "2022-08-02T14:12:38.448Z"
   },
   {
    "duration": 3,
    "start_time": "2022-08-02T14:12:40.160Z"
   },
   {
    "duration": 37,
    "start_time": "2022-08-02T14:12:48.147Z"
   },
   {
    "duration": 23,
    "start_time": "2022-08-02T14:13:16.075Z"
   },
   {
    "duration": 23,
    "start_time": "2022-08-02T14:15:03.939Z"
   },
   {
    "duration": 5,
    "start_time": "2022-08-02T14:15:22.643Z"
   },
   {
    "duration": 5,
    "start_time": "2022-08-02T14:15:29.892Z"
   },
   {
    "duration": 8,
    "start_time": "2022-08-02T14:15:38.251Z"
   },
   {
    "duration": 4,
    "start_time": "2022-08-02T14:17:59.949Z"
   },
   {
    "duration": 7,
    "start_time": "2022-08-02T14:18:18.944Z"
   },
   {
    "duration": 6,
    "start_time": "2022-08-02T14:18:22.295Z"
   },
   {
    "duration": 7,
    "start_time": "2022-08-02T14:18:32.664Z"
   },
   {
    "duration": 8,
    "start_time": "2022-08-02T14:18:58.642Z"
   },
   {
    "duration": 6,
    "start_time": "2022-08-02T14:19:51.837Z"
   },
   {
    "duration": 4,
    "start_time": "2022-08-02T14:19:59.457Z"
   },
   {
    "duration": 4,
    "start_time": "2022-08-02T14:21:06.345Z"
   },
   {
    "duration": 4,
    "start_time": "2022-08-02T14:21:14.448Z"
   },
   {
    "duration": 5,
    "start_time": "2022-08-02T14:21:54.960Z"
   },
   {
    "duration": 13,
    "start_time": "2022-08-02T14:22:05.583Z"
   },
   {
    "duration": 3,
    "start_time": "2022-08-02T14:22:31.784Z"
   },
   {
    "duration": 4,
    "start_time": "2022-08-02T14:23:36.650Z"
   },
   {
    "duration": 5,
    "start_time": "2022-08-02T14:23:38.560Z"
   },
   {
    "duration": 6,
    "start_time": "2022-08-02T14:23:50.545Z"
   },
   {
    "duration": 6,
    "start_time": "2022-08-02T14:24:20.948Z"
   },
   {
    "duration": 8,
    "start_time": "2022-08-02T14:30:06.251Z"
   },
   {
    "duration": 9,
    "start_time": "2022-08-02T14:30:13.053Z"
   },
   {
    "duration": 9,
    "start_time": "2022-08-02T14:30:35.853Z"
   },
   {
    "duration": 11,
    "start_time": "2022-08-02T14:31:36.490Z"
   },
   {
    "duration": 9,
    "start_time": "2022-08-02T14:31:46.651Z"
   },
   {
    "duration": 5,
    "start_time": "2022-08-02T14:45:30.546Z"
   },
   {
    "duration": 78,
    "start_time": "2022-08-02T14:45:53.764Z"
   },
   {
    "duration": 8,
    "start_time": "2022-08-02T14:49:56.551Z"
   },
   {
    "duration": 11,
    "start_time": "2022-08-02T14:50:04.254Z"
   },
   {
    "duration": 10,
    "start_time": "2022-08-02T14:50:30.480Z"
   },
   {
    "duration": 19,
    "start_time": "2022-08-02T14:50:36.988Z"
   },
   {
    "duration": 18,
    "start_time": "2022-08-02T14:52:31.397Z"
   },
   {
    "duration": 11,
    "start_time": "2022-08-02T18:36:28.829Z"
   },
   {
    "duration": 15,
    "start_time": "2022-08-02T18:36:35.439Z"
   },
   {
    "duration": 16,
    "start_time": "2022-08-02T18:37:06.161Z"
   },
   {
    "duration": 9,
    "start_time": "2022-08-02T18:38:07.063Z"
   },
   {
    "duration": 10,
    "start_time": "2022-08-02T18:38:20.641Z"
   },
   {
    "duration": 9,
    "start_time": "2022-08-02T18:38:32.879Z"
   },
   {
    "duration": 14,
    "start_time": "2022-08-02T18:38:39.285Z"
   },
   {
    "duration": 13,
    "start_time": "2022-08-02T18:38:44.293Z"
   },
   {
    "duration": 10,
    "start_time": "2022-08-02T18:41:37.541Z"
   },
   {
    "duration": 13,
    "start_time": "2022-08-02T18:41:45.901Z"
   },
   {
    "duration": 16,
    "start_time": "2022-08-02T18:42:58.291Z"
   },
   {
    "duration": 13,
    "start_time": "2022-08-02T18:43:07.342Z"
   },
   {
    "duration": 19,
    "start_time": "2022-08-02T18:44:05.653Z"
   },
   {
    "duration": 20,
    "start_time": "2022-08-02T18:46:47.346Z"
   },
   {
    "duration": 20,
    "start_time": "2022-08-02T18:46:55.529Z"
   },
   {
    "duration": 22,
    "start_time": "2022-08-02T18:48:06.732Z"
   },
   {
    "duration": 29,
    "start_time": "2022-08-02T18:48:51.261Z"
   },
   {
    "duration": 24,
    "start_time": "2022-08-02T18:49:04.471Z"
   },
   {
    "duration": 41,
    "start_time": "2022-08-02T18:54:17.859Z"
   },
   {
    "duration": 32,
    "start_time": "2022-08-02T18:54:49.874Z"
   },
   {
    "duration": 23,
    "start_time": "2022-08-02T18:56:29.719Z"
   },
   {
    "duration": 41,
    "start_time": "2022-08-02T18:56:43.001Z"
   },
   {
    "duration": 34,
    "start_time": "2022-08-02T18:57:44.599Z"
   },
   {
    "duration": 40,
    "start_time": "2022-08-02T18:57:59.091Z"
   },
   {
    "duration": 28,
    "start_time": "2022-08-02T19:04:04.651Z"
   },
   {
    "duration": 32,
    "start_time": "2022-08-02T19:04:17.764Z"
   },
   {
    "duration": 29,
    "start_time": "2022-08-02T19:10:24.682Z"
   },
   {
    "duration": 41,
    "start_time": "2022-08-02T19:10:39.577Z"
   },
   {
    "duration": 38,
    "start_time": "2022-08-02T19:17:01.318Z"
   },
   {
    "duration": 48,
    "start_time": "2022-08-03T19:05:47.332Z"
   },
   {
    "duration": 620,
    "start_time": "2022-08-03T19:05:56.288Z"
   },
   {
    "duration": 21,
    "start_time": "2022-08-03T19:05:56.910Z"
   },
   {
    "duration": 14,
    "start_time": "2022-08-03T19:05:56.932Z"
   },
   {
    "duration": 9,
    "start_time": "2022-08-03T19:05:56.948Z"
   },
   {
    "duration": 32,
    "start_time": "2022-08-03T19:05:56.958Z"
   },
   {
    "duration": 3,
    "start_time": "2022-08-03T19:05:56.992Z"
   },
   {
    "duration": 12,
    "start_time": "2022-08-03T19:05:56.996Z"
   },
   {
    "duration": 3,
    "start_time": "2022-08-03T19:05:57.010Z"
   },
   {
    "duration": 31,
    "start_time": "2022-08-03T19:05:57.014Z"
   },
   {
    "duration": 10,
    "start_time": "2022-08-03T19:05:57.047Z"
   },
   {
    "duration": 40,
    "start_time": "2022-08-03T19:05:57.058Z"
   },
   {
    "duration": 9,
    "start_time": "2022-08-03T19:05:57.099Z"
   },
   {
    "duration": 3,
    "start_time": "2022-08-03T19:05:57.110Z"
   },
   {
    "duration": 31,
    "start_time": "2022-08-03T19:05:57.114Z"
   },
   {
    "duration": 15,
    "start_time": "2022-08-03T19:05:57.147Z"
   },
   {
    "duration": 12,
    "start_time": "2022-08-03T19:05:57.163Z"
   },
   {
    "duration": 11,
    "start_time": "2022-08-03T19:05:57.177Z"
   },
   {
    "duration": 15,
    "start_time": "2022-08-03T19:05:57.190Z"
   },
   {
    "duration": 6,
    "start_time": "2022-08-03T19:05:57.206Z"
   },
   {
    "duration": 4,
    "start_time": "2022-08-03T19:05:57.213Z"
   },
   {
    "duration": 8,
    "start_time": "2022-08-03T19:05:57.239Z"
   },
   {
    "duration": 11,
    "start_time": "2022-08-03T19:05:57.249Z"
   },
   {
    "duration": 14,
    "start_time": "2022-08-03T19:05:57.262Z"
   },
   {
    "duration": 28,
    "start_time": "2022-08-03T19:05:57.277Z"
   },
   {
    "duration": 25,
    "start_time": "2022-08-03T19:06:31.871Z"
   },
   {
    "duration": 25,
    "start_time": "2022-08-03T19:06:47.841Z"
   },
   {
    "duration": 36,
    "start_time": "2022-08-03T19:07:59.028Z"
   },
   {
    "duration": 47,
    "start_time": "2022-08-03T19:10:17.893Z"
   },
   {
    "duration": 22,
    "start_time": "2022-08-03T19:10:56.444Z"
   },
   {
    "duration": 22,
    "start_time": "2022-08-03T19:11:19.689Z"
   },
   {
    "duration": 19,
    "start_time": "2022-08-03T19:12:08.039Z"
   },
   {
    "duration": 22,
    "start_time": "2022-08-03T19:12:44.035Z"
   },
   {
    "duration": 20,
    "start_time": "2022-08-03T19:13:33.835Z"
   },
   {
    "duration": 7,
    "start_time": "2022-08-03T19:14:56.558Z"
   },
   {
    "duration": 10,
    "start_time": "2022-08-03T19:23:01.977Z"
   },
   {
    "duration": 8,
    "start_time": "2022-08-03T19:25:25.645Z"
   },
   {
    "duration": 7,
    "start_time": "2022-08-03T19:31:12.416Z"
   },
   {
    "duration": 50,
    "start_time": "2022-08-04T09:26:49.126Z"
   },
   {
    "duration": 661,
    "start_time": "2022-08-04T09:26:51.927Z"
   },
   {
    "duration": 21,
    "start_time": "2022-08-04T09:26:52.590Z"
   },
   {
    "duration": 14,
    "start_time": "2022-08-04T09:26:52.613Z"
   },
   {
    "duration": 10,
    "start_time": "2022-08-04T09:26:52.629Z"
   },
   {
    "duration": 34,
    "start_time": "2022-08-04T09:26:52.641Z"
   },
   {
    "duration": 4,
    "start_time": "2022-08-04T09:26:52.676Z"
   },
   {
    "duration": 35,
    "start_time": "2022-08-04T09:26:52.681Z"
   },
   {
    "duration": 5,
    "start_time": "2022-08-04T09:26:52.718Z"
   },
   {
    "duration": 11,
    "start_time": "2022-08-04T09:26:52.724Z"
   },
   {
    "duration": 4,
    "start_time": "2022-08-04T09:26:52.738Z"
   },
   {
    "duration": 71,
    "start_time": "2022-08-04T09:26:52.744Z"
   },
   {
    "duration": 9,
    "start_time": "2022-08-04T09:26:52.817Z"
   },
   {
    "duration": 3,
    "start_time": "2022-08-04T09:26:52.828Z"
   },
   {
    "duration": 20,
    "start_time": "2022-08-04T09:26:52.833Z"
   },
   {
    "duration": 16,
    "start_time": "2022-08-04T09:26:52.855Z"
   },
   {
    "duration": 46,
    "start_time": "2022-08-04T09:26:52.872Z"
   },
   {
    "duration": 5,
    "start_time": "2022-08-04T09:26:52.920Z"
   },
   {
    "duration": 14,
    "start_time": "2022-08-04T09:26:52.926Z"
   },
   {
    "duration": 7,
    "start_time": "2022-08-04T09:26:52.942Z"
   },
   {
    "duration": 4,
    "start_time": "2022-08-04T09:26:52.951Z"
   },
   {
    "duration": 19,
    "start_time": "2022-08-04T09:26:52.957Z"
   },
   {
    "duration": 8,
    "start_time": "2022-08-04T09:26:53.009Z"
   },
   {
    "duration": 16,
    "start_time": "2022-08-04T09:26:53.018Z"
   },
   {
    "duration": 23,
    "start_time": "2022-08-04T09:26:53.035Z"
   },
   {
    "duration": 51,
    "start_time": "2022-08-04T09:26:53.059Z"
   },
   {
    "duration": 8,
    "start_time": "2022-08-04T09:26:53.112Z"
   },
   {
    "duration": 24,
    "start_time": "2022-08-04T10:22:50.753Z"
   },
   {
    "duration": 75,
    "start_time": "2022-08-04T10:23:26.854Z"
   },
   {
    "duration": 21,
    "start_time": "2022-08-04T10:23:28.850Z"
   },
   {
    "duration": 19,
    "start_time": "2022-08-04T10:25:30.383Z"
   },
   {
    "duration": 12,
    "start_time": "2022-08-04T10:25:37.863Z"
   },
   {
    "duration": 9,
    "start_time": "2022-08-04T10:25:42.800Z"
   },
   {
    "duration": 71,
    "start_time": "2022-08-04T10:31:51.425Z"
   },
   {
    "duration": 24,
    "start_time": "2022-08-04T10:31:51.498Z"
   },
   {
    "duration": 19,
    "start_time": "2022-08-04T10:31:51.524Z"
   },
   {
    "duration": 11,
    "start_time": "2022-08-04T10:31:51.546Z"
   },
   {
    "duration": 75,
    "start_time": "2022-08-04T10:31:51.558Z"
   },
   {
    "duration": 3,
    "start_time": "2022-08-04T10:31:51.635Z"
   },
   {
    "duration": 11,
    "start_time": "2022-08-04T10:31:51.640Z"
   },
   {
    "duration": 11,
    "start_time": "2022-08-04T10:31:51.653Z"
   },
   {
    "duration": 9,
    "start_time": "2022-08-04T10:31:51.665Z"
   },
   {
    "duration": 13,
    "start_time": "2022-08-04T10:31:51.677Z"
   },
   {
    "duration": 48,
    "start_time": "2022-08-04T10:31:51.692Z"
   },
   {
    "duration": 9,
    "start_time": "2022-08-04T10:31:51.742Z"
   },
   {
    "duration": 4,
    "start_time": "2022-08-04T10:31:51.753Z"
   },
   {
    "duration": 21,
    "start_time": "2022-08-04T10:31:51.759Z"
   },
   {
    "duration": 42,
    "start_time": "2022-08-04T10:31:51.781Z"
   },
   {
    "duration": 10,
    "start_time": "2022-08-04T10:31:51.825Z"
   },
   {
    "duration": 6,
    "start_time": "2022-08-04T10:31:51.837Z"
   },
   {
    "duration": 17,
    "start_time": "2022-08-04T10:31:51.844Z"
   },
   {
    "duration": 8,
    "start_time": "2022-08-04T10:31:51.863Z"
   },
   {
    "duration": 3,
    "start_time": "2022-08-04T10:31:51.873Z"
   },
   {
    "duration": 36,
    "start_time": "2022-08-04T10:31:51.878Z"
   },
   {
    "duration": 7,
    "start_time": "2022-08-04T10:31:51.916Z"
   },
   {
    "duration": 14,
    "start_time": "2022-08-04T10:31:51.925Z"
   },
   {
    "duration": 22,
    "start_time": "2022-08-04T10:31:51.940Z"
   },
   {
    "duration": 46,
    "start_time": "2022-08-04T10:31:51.963Z"
   },
   {
    "duration": 9,
    "start_time": "2022-08-04T10:31:52.011Z"
   },
   {
    "duration": 75,
    "start_time": "2022-08-05T12:56:39.794Z"
   },
   {
    "duration": 20,
    "start_time": "2022-08-05T12:56:39.871Z"
   },
   {
    "duration": 24,
    "start_time": "2022-08-05T12:56:39.893Z"
   },
   {
    "duration": 13,
    "start_time": "2022-08-05T12:56:39.923Z"
   },
   {
    "duration": 31,
    "start_time": "2022-08-05T12:56:39.937Z"
   },
   {
    "duration": 3,
    "start_time": "2022-08-05T12:56:39.970Z"
   },
   {
    "duration": 16,
    "start_time": "2022-08-05T12:56:39.975Z"
   },
   {
    "duration": 24,
    "start_time": "2022-08-05T12:56:39.993Z"
   },
   {
    "duration": 7,
    "start_time": "2022-08-05T12:56:40.019Z"
   },
   {
    "duration": 12,
    "start_time": "2022-08-05T12:56:40.029Z"
   },
   {
    "duration": 40,
    "start_time": "2022-08-05T12:56:40.042Z"
   },
   {
    "duration": 9,
    "start_time": "2022-08-05T12:56:40.084Z"
   },
   {
    "duration": 4,
    "start_time": "2022-08-05T12:56:40.094Z"
   },
   {
    "duration": 31,
    "start_time": "2022-08-05T12:56:40.099Z"
   },
   {
    "duration": 18,
    "start_time": "2022-08-05T12:56:40.132Z"
   },
   {
    "duration": 11,
    "start_time": "2022-08-05T12:56:40.151Z"
   },
   {
    "duration": 6,
    "start_time": "2022-08-05T12:56:40.163Z"
   },
   {
    "duration": 13,
    "start_time": "2022-08-05T12:56:40.170Z"
   },
   {
    "duration": 46,
    "start_time": "2022-08-05T12:56:40.185Z"
   },
   {
    "duration": 4,
    "start_time": "2022-08-05T12:56:40.233Z"
   },
   {
    "duration": 11,
    "start_time": "2022-08-05T12:56:40.238Z"
   },
   {
    "duration": 12,
    "start_time": "2022-08-05T12:56:40.250Z"
   },
   {
    "duration": 15,
    "start_time": "2022-08-05T12:56:40.264Z"
   },
   {
    "duration": 39,
    "start_time": "2022-08-05T12:56:40.281Z"
   },
   {
    "duration": 10,
    "start_time": "2022-08-05T12:56:40.321Z"
   },
   {
    "duration": 12,
    "start_time": "2022-08-05T12:56:40.333Z"
   },
   {
    "duration": 100,
    "start_time": "2022-08-05T12:58:42.595Z"
   },
   {
    "duration": 16,
    "start_time": "2022-08-05T12:58:59.834Z"
   },
   {
    "duration": 25,
    "start_time": "2022-08-05T13:02:59.475Z"
   },
   {
    "duration": 11,
    "start_time": "2022-08-05T13:15:29.760Z"
   },
   {
    "duration": 15,
    "start_time": "2022-08-05T13:15:34.801Z"
   },
   {
    "duration": 15,
    "start_time": "2022-08-05T13:15:54.926Z"
   },
   {
    "duration": 42,
    "start_time": "2022-08-05T13:23:18.765Z"
   },
   {
    "duration": 40,
    "start_time": "2022-08-05T13:24:46.937Z"
   },
   {
    "duration": 37,
    "start_time": "2022-08-05T13:24:57.736Z"
   },
   {
    "duration": 31,
    "start_time": "2022-08-05T13:25:47.292Z"
   },
   {
    "duration": 33,
    "start_time": "2022-08-05T13:30:41.646Z"
   },
   {
    "duration": 60,
    "start_time": "2022-08-05T13:36:00.523Z"
   },
   {
    "duration": 61,
    "start_time": "2022-08-05T13:36:34.230Z"
   },
   {
    "duration": 67,
    "start_time": "2022-08-05T13:37:03.894Z"
   },
   {
    "duration": 54,
    "start_time": "2022-08-05T13:38:05.030Z"
   },
   {
    "duration": 79,
    "start_time": "2022-08-05T13:38:29.069Z"
   },
   {
    "duration": 21,
    "start_time": "2022-08-05T13:38:29.150Z"
   },
   {
    "duration": 49,
    "start_time": "2022-08-05T13:38:29.173Z"
   },
   {
    "duration": 12,
    "start_time": "2022-08-05T13:38:29.224Z"
   },
   {
    "duration": 31,
    "start_time": "2022-08-05T13:38:29.237Z"
   },
   {
    "duration": 3,
    "start_time": "2022-08-05T13:38:29.270Z"
   },
   {
    "duration": 10,
    "start_time": "2022-08-05T13:38:29.274Z"
   },
   {
    "duration": 4,
    "start_time": "2022-08-05T13:38:29.285Z"
   },
   {
    "duration": 18,
    "start_time": "2022-08-05T13:38:29.311Z"
   },
   {
    "duration": 8,
    "start_time": "2022-08-05T13:38:29.333Z"
   },
   {
    "duration": 47,
    "start_time": "2022-08-05T13:38:29.343Z"
   },
   {
    "duration": 38,
    "start_time": "2022-08-05T13:38:29.391Z"
   },
   {
    "duration": 4,
    "start_time": "2022-08-05T13:38:29.432Z"
   },
   {
    "duration": 31,
    "start_time": "2022-08-05T13:38:29.438Z"
   },
   {
    "duration": 17,
    "start_time": "2022-08-05T13:38:29.471Z"
   },
   {
    "duration": 11,
    "start_time": "2022-08-05T13:38:29.490Z"
   },
   {
    "duration": 14,
    "start_time": "2022-08-05T13:38:29.503Z"
   },
   {
    "duration": 23,
    "start_time": "2022-08-05T13:38:29.518Z"
   },
   {
    "duration": 9,
    "start_time": "2022-08-05T13:38:29.543Z"
   },
   {
    "duration": 7,
    "start_time": "2022-08-05T13:38:29.554Z"
   },
   {
    "duration": 13,
    "start_time": "2022-08-05T13:38:29.564Z"
   },
   {
    "duration": 66,
    "start_time": "2022-08-05T13:38:29.580Z"
   },
   {
    "duration": 0,
    "start_time": "2022-08-05T13:38:29.648Z"
   },
   {
    "duration": 0,
    "start_time": "2022-08-05T13:38:29.649Z"
   },
   {
    "duration": 0,
    "start_time": "2022-08-05T13:38:29.650Z"
   },
   {
    "duration": 1,
    "start_time": "2022-08-05T13:38:29.652Z"
   },
   {
    "duration": 33,
    "start_time": "2022-08-05T13:38:39.270Z"
   },
   {
    "duration": 61,
    "start_time": "2022-08-05T13:38:48.674Z"
   },
   {
    "duration": 90,
    "start_time": "2022-08-05T13:41:54.042Z"
   },
   {
    "duration": 46,
    "start_time": "2022-08-05T13:42:39.406Z"
   },
   {
    "duration": 29,
    "start_time": "2022-08-05T13:42:49.748Z"
   },
   {
    "duration": 29,
    "start_time": "2022-08-05T13:43:47.128Z"
   },
   {
    "duration": 49,
    "start_time": "2022-08-05T13:47:11.794Z"
   },
   {
    "duration": 37,
    "start_time": "2022-08-05T13:47:30.839Z"
   },
   {
    "duration": 32,
    "start_time": "2022-08-05T13:48:29.480Z"
   },
   {
    "duration": 45,
    "start_time": "2022-08-05T13:49:09.079Z"
   },
   {
    "duration": 43,
    "start_time": "2022-08-05T13:49:55.028Z"
   },
   {
    "duration": 49,
    "start_time": "2022-08-05T13:50:11.428Z"
   },
   {
    "duration": 37,
    "start_time": "2022-08-05T13:50:52.813Z"
   },
   {
    "duration": 72,
    "start_time": "2022-08-05T13:53:08.286Z"
   },
   {
    "duration": 22,
    "start_time": "2022-08-05T13:54:15.538Z"
   },
   {
    "duration": 23,
    "start_time": "2022-08-05T13:56:20.371Z"
   },
   {
    "duration": 30,
    "start_time": "2022-08-05T13:56:25.444Z"
   },
   {
    "duration": 48,
    "start_time": "2022-08-05T13:56:28.294Z"
   },
   {
    "duration": 27,
    "start_time": "2022-08-05T13:56:37.539Z"
   },
   {
    "duration": 78,
    "start_time": "2022-08-05T18:37:52.960Z"
   },
   {
    "duration": 1134,
    "start_time": "2022-08-05T18:38:03.823Z"
   },
   {
    "duration": 48,
    "start_time": "2022-08-05T18:38:04.959Z"
   },
   {
    "duration": 24,
    "start_time": "2022-08-05T18:38:05.009Z"
   },
   {
    "duration": 15,
    "start_time": "2022-08-05T18:38:05.036Z"
   },
   {
    "duration": 62,
    "start_time": "2022-08-05T18:38:05.053Z"
   },
   {
    "duration": 4,
    "start_time": "2022-08-05T18:38:05.116Z"
   },
   {
    "duration": 10,
    "start_time": "2022-08-05T18:38:05.122Z"
   },
   {
    "duration": 5,
    "start_time": "2022-08-05T18:38:05.134Z"
   },
   {
    "duration": 11,
    "start_time": "2022-08-05T18:38:05.141Z"
   },
   {
    "duration": 6,
    "start_time": "2022-08-05T18:38:05.156Z"
   },
   {
    "duration": 86,
    "start_time": "2022-08-05T18:38:05.165Z"
   },
   {
    "duration": 14,
    "start_time": "2022-08-05T18:38:05.253Z"
   },
   {
    "duration": 19,
    "start_time": "2022-08-05T18:38:05.269Z"
   },
   {
    "duration": 27,
    "start_time": "2022-08-05T18:38:05.291Z"
   },
   {
    "duration": 19,
    "start_time": "2022-08-05T18:38:05.319Z"
   },
   {
    "duration": 18,
    "start_time": "2022-08-05T18:38:05.340Z"
   },
   {
    "duration": 38,
    "start_time": "2022-08-05T18:38:05.361Z"
   },
   {
    "duration": 12,
    "start_time": "2022-08-05T18:38:05.401Z"
   },
   {
    "duration": 12,
    "start_time": "2022-08-05T18:38:05.415Z"
   },
   {
    "duration": 6,
    "start_time": "2022-08-05T18:38:05.429Z"
   },
   {
    "duration": 21,
    "start_time": "2022-08-05T18:38:05.437Z"
   },
   {
    "duration": 38,
    "start_time": "2022-08-05T18:38:05.820Z"
   },
   {
    "duration": 13,
    "start_time": "2022-08-05T19:00:34.726Z"
   },
   {
    "duration": 11,
    "start_time": "2022-08-05T19:02:44.022Z"
   },
   {
    "duration": 11,
    "start_time": "2022-08-05T19:02:59.063Z"
   },
   {
    "duration": 6,
    "start_time": "2022-08-05T19:03:16.570Z"
   },
   {
    "duration": 12,
    "start_time": "2022-08-05T19:03:49.607Z"
   },
   {
    "duration": 10,
    "start_time": "2022-08-05T19:04:04.895Z"
   },
   {
    "duration": 5,
    "start_time": "2022-08-05T19:04:23.715Z"
   },
   {
    "duration": 501,
    "start_time": "2022-08-05T19:05:10.680Z"
   },
   {
    "duration": 28,
    "start_time": "2022-08-05T19:05:11.183Z"
   },
   {
    "duration": 14,
    "start_time": "2022-08-05T19:05:11.212Z"
   },
   {
    "duration": 10,
    "start_time": "2022-08-05T19:05:11.229Z"
   },
   {
    "duration": 31,
    "start_time": "2022-08-05T19:05:11.241Z"
   },
   {
    "duration": 26,
    "start_time": "2022-08-05T19:05:11.273Z"
   },
   {
    "duration": 12,
    "start_time": "2022-08-05T19:05:11.301Z"
   },
   {
    "duration": 5,
    "start_time": "2022-08-05T19:05:11.315Z"
   },
   {
    "duration": 7,
    "start_time": "2022-08-05T19:05:11.321Z"
   },
   {
    "duration": 4,
    "start_time": "2022-08-05T19:05:11.332Z"
   },
   {
    "duration": 60,
    "start_time": "2022-08-05T19:05:11.338Z"
   },
   {
    "duration": 10,
    "start_time": "2022-08-05T19:05:11.400Z"
   },
   {
    "duration": 4,
    "start_time": "2022-08-05T19:05:11.411Z"
   },
   {
    "duration": 20,
    "start_time": "2022-08-05T19:05:11.416Z"
   },
   {
    "duration": 16,
    "start_time": "2022-08-05T19:05:11.438Z"
   },
   {
    "duration": 11,
    "start_time": "2022-08-05T19:05:11.455Z"
   },
   {
    "duration": 31,
    "start_time": "2022-08-05T19:05:11.467Z"
   },
   {
    "duration": 12,
    "start_time": "2022-08-05T19:05:11.500Z"
   },
   {
    "duration": 8,
    "start_time": "2022-08-05T19:05:11.513Z"
   },
   {
    "duration": 4,
    "start_time": "2022-08-05T19:05:11.523Z"
   },
   {
    "duration": 14,
    "start_time": "2022-08-05T19:05:11.529Z"
   },
   {
    "duration": 55,
    "start_time": "2022-08-05T19:05:11.544Z"
   },
   {
    "duration": 2,
    "start_time": "2022-08-05T19:05:11.601Z"
   },
   {
    "duration": 38,
    "start_time": "2022-08-05T19:05:11.604Z"
   },
   {
    "duration": 25,
    "start_time": "2022-08-05T19:05:11.644Z"
   },
   {
    "duration": 55,
    "start_time": "2022-08-05T19:05:11.670Z"
   },
   {
    "duration": 3,
    "start_time": "2022-08-05T19:12:39.973Z"
   },
   {
    "duration": 20,
    "start_time": "2022-08-05T19:13:02.352Z"
   },
   {
    "duration": 447,
    "start_time": "2022-08-05T19:19:06.439Z"
   },
   {
    "duration": 30,
    "start_time": "2022-08-05T19:19:06.889Z"
   },
   {
    "duration": 17,
    "start_time": "2022-08-05T19:19:06.921Z"
   },
   {
    "duration": 14,
    "start_time": "2022-08-05T19:19:06.940Z"
   },
   {
    "duration": 60,
    "start_time": "2022-08-05T19:19:06.955Z"
   },
   {
    "duration": 3,
    "start_time": "2022-08-05T19:19:07.017Z"
   },
   {
    "duration": 13,
    "start_time": "2022-08-05T19:19:07.022Z"
   },
   {
    "duration": 5,
    "start_time": "2022-08-05T19:19:07.036Z"
   },
   {
    "duration": 10,
    "start_time": "2022-08-05T19:19:07.044Z"
   },
   {
    "duration": 4,
    "start_time": "2022-08-05T19:19:07.059Z"
   },
   {
    "duration": 59,
    "start_time": "2022-08-05T19:19:07.064Z"
   },
   {
    "duration": 9,
    "start_time": "2022-08-05T19:19:07.125Z"
   },
   {
    "duration": 7,
    "start_time": "2022-08-05T19:19:07.136Z"
   },
   {
    "duration": 23,
    "start_time": "2022-08-05T19:19:07.145Z"
   },
   {
    "duration": 35,
    "start_time": "2022-08-05T19:19:07.170Z"
   },
   {
    "duration": 12,
    "start_time": "2022-08-05T19:19:07.206Z"
   },
   {
    "duration": 6,
    "start_time": "2022-08-05T19:19:07.219Z"
   },
   {
    "duration": 14,
    "start_time": "2022-08-05T19:19:07.227Z"
   },
   {
    "duration": 7,
    "start_time": "2022-08-05T19:19:07.243Z"
   },
   {
    "duration": 8,
    "start_time": "2022-08-05T19:19:07.252Z"
   },
   {
    "duration": 19,
    "start_time": "2022-08-05T19:19:07.262Z"
   },
   {
    "duration": 36,
    "start_time": "2022-08-05T19:19:07.282Z"
   },
   {
    "duration": 3,
    "start_time": "2022-08-05T19:19:07.320Z"
   },
   {
    "duration": 35,
    "start_time": "2022-08-05T19:19:07.325Z"
   },
   {
    "duration": 61,
    "start_time": "2022-08-05T19:19:07.361Z"
   },
   {
    "duration": 46,
    "start_time": "2022-08-05T19:19:07.425Z"
   },
   {
    "duration": 70,
    "start_time": "2022-08-05T19:52:43.734Z"
   },
   {
    "duration": 555,
    "start_time": "2022-08-05T19:52:52.148Z"
   },
   {
    "duration": 47,
    "start_time": "2022-08-05T19:52:52.705Z"
   },
   {
    "duration": 28,
    "start_time": "2022-08-05T19:52:52.754Z"
   },
   {
    "duration": 27,
    "start_time": "2022-08-05T19:52:52.786Z"
   },
   {
    "duration": 37,
    "start_time": "2022-08-05T19:52:52.815Z"
   },
   {
    "duration": 4,
    "start_time": "2022-08-05T19:52:52.854Z"
   },
   {
    "duration": 12,
    "start_time": "2022-08-05T19:52:52.869Z"
   },
   {
    "duration": 25,
    "start_time": "2022-08-05T19:52:52.883Z"
   },
   {
    "duration": 10,
    "start_time": "2022-08-05T19:52:52.910Z"
   },
   {
    "duration": 6,
    "start_time": "2022-08-05T19:52:52.924Z"
   },
   {
    "duration": 53,
    "start_time": "2022-08-05T19:52:52.931Z"
   },
   {
    "duration": 18,
    "start_time": "2022-08-05T19:52:52.986Z"
   },
   {
    "duration": 5,
    "start_time": "2022-08-05T19:52:53.006Z"
   },
   {
    "duration": 20,
    "start_time": "2022-08-05T19:52:53.013Z"
   },
   {
    "duration": 40,
    "start_time": "2022-08-05T19:52:53.035Z"
   },
   {
    "duration": 27,
    "start_time": "2022-08-05T19:52:53.077Z"
   },
   {
    "duration": 5,
    "start_time": "2022-08-05T19:52:53.105Z"
   },
   {
    "duration": 14,
    "start_time": "2022-08-05T19:52:53.111Z"
   },
   {
    "duration": 9,
    "start_time": "2022-08-05T19:52:53.126Z"
   },
   {
    "duration": 5,
    "start_time": "2022-08-05T19:52:53.137Z"
   },
   {
    "duration": 31,
    "start_time": "2022-08-05T19:52:53.145Z"
   },
   {
    "duration": 76,
    "start_time": "2022-08-05T19:52:53.179Z"
   },
   {
    "duration": 3,
    "start_time": "2022-08-05T19:52:53.258Z"
   },
   {
    "duration": 69,
    "start_time": "2022-08-05T19:52:53.263Z"
   },
   {
    "duration": 29,
    "start_time": "2022-08-05T19:52:53.334Z"
   },
   {
    "duration": 54,
    "start_time": "2022-08-05T19:52:53.365Z"
   },
   {
    "duration": 27,
    "start_time": "2022-08-05T19:53:03.536Z"
   },
   {
    "duration": 48,
    "start_time": "2022-08-05T19:53:18.418Z"
   },
   {
    "duration": 102,
    "start_time": "2022-08-05T19:54:14.608Z"
   }
  ],
  "celltoolbar": "Edit Metadata",
  "colab": {
   "name": "dpp_template_part2.ipynb",
   "provenance": []
  },
  "kernelspec": {
   "display_name": "Python 3 (ipykernel)",
   "language": "python",
   "name": "python3"
  },
  "language_info": {
   "codemirror_mode": {
    "name": "ipython",
    "version": 3
   },
   "file_extension": ".py",
   "mimetype": "text/x-python",
   "name": "python",
   "nbconvert_exporter": "python",
   "pygments_lexer": "ipython3",
   "version": "3.9.16"
  },
  "toc": {
   "base_numbering": 1,
   "nav_menu": {},
   "number_sections": true,
   "sideBar": true,
   "skip_h1_title": true,
   "title_cell": "Table of Contents",
   "title_sidebar": "Contents",
   "toc_cell": false,
   "toc_position": {},
   "toc_section_display": true,
   "toc_window_display": false
  }
 },
 "nbformat": 4,
 "nbformat_minor": 5
}
