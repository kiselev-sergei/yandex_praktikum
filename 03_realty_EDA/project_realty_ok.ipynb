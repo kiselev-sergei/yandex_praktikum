{
 "cells": [
  {
   "cell_type": "markdown",
   "metadata": {},
   "source": [
    "# Исследование объявлений о продаже квартир\n",
    "\n",
    "Исследуем данные сервиса Яндекс.Недвижимость — архив объявлений о продаже квартир в Санкт-Петербурге и соседних населённых пунктах за несколько лет. \n",
    "Задача — научиться определять рыночную стоимость объектов недвижимости. Необходимо установить параметры, что позволит построить автоматизированную систему: она отследит аномалии и мошенническую деятельность. \n",
    "\n",
    "По каждой квартире на продажу доступны два вида данных. Первые вписаны пользователем, вторые — получены автоматически на основе картографических данных. Например, расстояние до центра, аэропорта, ближайшего парка и водоёма. "
   ]
  },
  {
   "cell_type": "markdown",
   "metadata": {},
   "source": [
    "### Откроем файл с данными и изучим датасет. "
   ]
  },
  {
   "cell_type": "code",
   "execution_count": 47,
   "metadata": {
    "scrolled": false
   },
   "outputs": [
    {
     "name": "stdout",
     "output_type": "stream",
     "text": [
      "<class 'pandas.core.frame.DataFrame'>\n",
      "RangeIndex: 23699 entries, 0 to 23698\n",
      "Data columns (total 22 columns):\n",
      " #   Column                Non-Null Count  Dtype  \n",
      "---  ------                --------------  -----  \n",
      " 0   total_images          23699 non-null  int64  \n",
      " 1   last_price            23699 non-null  float64\n",
      " 2   total_area            23699 non-null  float64\n",
      " 3   first_day_exposition  23699 non-null  object \n",
      " 4   rooms                 23699 non-null  int64  \n",
      " 5   ceiling_height        14504 non-null  float64\n",
      " 6   floors_total          23613 non-null  float64\n",
      " 7   living_area           21796 non-null  float64\n",
      " 8   floor                 23699 non-null  int64  \n",
      " 9   is_apartment          2775 non-null   object \n",
      " 10  studio                23699 non-null  bool   \n",
      " 11  open_plan             23699 non-null  bool   \n",
      " 12  kitchen_area          21421 non-null  float64\n",
      " 13  balcony               12180 non-null  float64\n",
      " 14  locality_name         23650 non-null  object \n",
      " 15  airports_nearest      18157 non-null  float64\n",
      " 16  cityCenters_nearest   18180 non-null  float64\n",
      " 17  parks_around3000      18181 non-null  float64\n",
      " 18  parks_nearest         8079 non-null   float64\n",
      " 19  ponds_around3000      18181 non-null  float64\n",
      " 20  ponds_nearest         9110 non-null   float64\n",
      " 21  days_exposition       20518 non-null  float64\n",
      "dtypes: bool(2), float64(14), int64(3), object(3)\n",
      "memory usage: 3.7+ MB\n"
     ]
    },
    {
     "data": {
      "text/plain": [
       "None"
      ]
     },
     "metadata": {},
     "output_type": "display_data"
    },
    {
     "data": {
      "text/html": [
       "<div>\n",
       "<style scoped>\n",
       "    .dataframe tbody tr th:only-of-type {\n",
       "        vertical-align: middle;\n",
       "    }\n",
       "\n",
       "    .dataframe tbody tr th {\n",
       "        vertical-align: top;\n",
       "    }\n",
       "\n",
       "    .dataframe thead th {\n",
       "        text-align: right;\n",
       "    }\n",
       "</style>\n",
       "<table border=\"1\" class=\"dataframe\">\n",
       "  <thead>\n",
       "    <tr style=\"text-align: right;\">\n",
       "      <th></th>\n",
       "      <th>total_images</th>\n",
       "      <th>last_price</th>\n",
       "      <th>total_area</th>\n",
       "      <th>first_day_exposition</th>\n",
       "      <th>rooms</th>\n",
       "      <th>ceiling_height</th>\n",
       "      <th>floors_total</th>\n",
       "      <th>living_area</th>\n",
       "      <th>floor</th>\n",
       "      <th>is_apartment</th>\n",
       "      <th>...</th>\n",
       "      <th>kitchen_area</th>\n",
       "      <th>balcony</th>\n",
       "      <th>locality_name</th>\n",
       "      <th>airports_nearest</th>\n",
       "      <th>cityCenters_nearest</th>\n",
       "      <th>parks_around3000</th>\n",
       "      <th>parks_nearest</th>\n",
       "      <th>ponds_around3000</th>\n",
       "      <th>ponds_nearest</th>\n",
       "      <th>days_exposition</th>\n",
       "    </tr>\n",
       "  </thead>\n",
       "  <tbody>\n",
       "    <tr>\n",
       "      <th>0</th>\n",
       "      <td>20</td>\n",
       "      <td>13000000.0</td>\n",
       "      <td>108.00</td>\n",
       "      <td>2019-03-07T00:00:00</td>\n",
       "      <td>3</td>\n",
       "      <td>2.70</td>\n",
       "      <td>16.0</td>\n",
       "      <td>51.00</td>\n",
       "      <td>8</td>\n",
       "      <td>NaN</td>\n",
       "      <td>...</td>\n",
       "      <td>25.00</td>\n",
       "      <td>NaN</td>\n",
       "      <td>Санкт-Петербург</td>\n",
       "      <td>18863.0</td>\n",
       "      <td>16028.0</td>\n",
       "      <td>1.0</td>\n",
       "      <td>482.0</td>\n",
       "      <td>2.0</td>\n",
       "      <td>755.0</td>\n",
       "      <td>NaN</td>\n",
       "    </tr>\n",
       "    <tr>\n",
       "      <th>1</th>\n",
       "      <td>7</td>\n",
       "      <td>3350000.0</td>\n",
       "      <td>40.40</td>\n",
       "      <td>2018-12-04T00:00:00</td>\n",
       "      <td>1</td>\n",
       "      <td>NaN</td>\n",
       "      <td>11.0</td>\n",
       "      <td>18.60</td>\n",
       "      <td>1</td>\n",
       "      <td>NaN</td>\n",
       "      <td>...</td>\n",
       "      <td>11.00</td>\n",
       "      <td>2.0</td>\n",
       "      <td>посёлок Шушары</td>\n",
       "      <td>12817.0</td>\n",
       "      <td>18603.0</td>\n",
       "      <td>0.0</td>\n",
       "      <td>NaN</td>\n",
       "      <td>0.0</td>\n",
       "      <td>NaN</td>\n",
       "      <td>81.0</td>\n",
       "    </tr>\n",
       "    <tr>\n",
       "      <th>2</th>\n",
       "      <td>10</td>\n",
       "      <td>5196000.0</td>\n",
       "      <td>56.00</td>\n",
       "      <td>2015-08-20T00:00:00</td>\n",
       "      <td>2</td>\n",
       "      <td>NaN</td>\n",
       "      <td>5.0</td>\n",
       "      <td>34.30</td>\n",
       "      <td>4</td>\n",
       "      <td>NaN</td>\n",
       "      <td>...</td>\n",
       "      <td>8.30</td>\n",
       "      <td>0.0</td>\n",
       "      <td>Санкт-Петербург</td>\n",
       "      <td>21741.0</td>\n",
       "      <td>13933.0</td>\n",
       "      <td>1.0</td>\n",
       "      <td>90.0</td>\n",
       "      <td>2.0</td>\n",
       "      <td>574.0</td>\n",
       "      <td>558.0</td>\n",
       "    </tr>\n",
       "    <tr>\n",
       "      <th>3</th>\n",
       "      <td>0</td>\n",
       "      <td>64900000.0</td>\n",
       "      <td>159.00</td>\n",
       "      <td>2015-07-24T00:00:00</td>\n",
       "      <td>3</td>\n",
       "      <td>NaN</td>\n",
       "      <td>14.0</td>\n",
       "      <td>NaN</td>\n",
       "      <td>9</td>\n",
       "      <td>NaN</td>\n",
       "      <td>...</td>\n",
       "      <td>NaN</td>\n",
       "      <td>0.0</td>\n",
       "      <td>Санкт-Петербург</td>\n",
       "      <td>28098.0</td>\n",
       "      <td>6800.0</td>\n",
       "      <td>2.0</td>\n",
       "      <td>84.0</td>\n",
       "      <td>3.0</td>\n",
       "      <td>234.0</td>\n",
       "      <td>424.0</td>\n",
       "    </tr>\n",
       "    <tr>\n",
       "      <th>4</th>\n",
       "      <td>2</td>\n",
       "      <td>10000000.0</td>\n",
       "      <td>100.00</td>\n",
       "      <td>2018-06-19T00:00:00</td>\n",
       "      <td>2</td>\n",
       "      <td>3.03</td>\n",
       "      <td>14.0</td>\n",
       "      <td>32.00</td>\n",
       "      <td>13</td>\n",
       "      <td>NaN</td>\n",
       "      <td>...</td>\n",
       "      <td>41.00</td>\n",
       "      <td>NaN</td>\n",
       "      <td>Санкт-Петербург</td>\n",
       "      <td>31856.0</td>\n",
       "      <td>8098.0</td>\n",
       "      <td>2.0</td>\n",
       "      <td>112.0</td>\n",
       "      <td>1.0</td>\n",
       "      <td>48.0</td>\n",
       "      <td>121.0</td>\n",
       "    </tr>\n",
       "    <tr>\n",
       "      <th>5</th>\n",
       "      <td>10</td>\n",
       "      <td>2890000.0</td>\n",
       "      <td>30.40</td>\n",
       "      <td>2018-09-10T00:00:00</td>\n",
       "      <td>1</td>\n",
       "      <td>NaN</td>\n",
       "      <td>12.0</td>\n",
       "      <td>14.40</td>\n",
       "      <td>5</td>\n",
       "      <td>NaN</td>\n",
       "      <td>...</td>\n",
       "      <td>9.10</td>\n",
       "      <td>NaN</td>\n",
       "      <td>городской посёлок Янино-1</td>\n",
       "      <td>NaN</td>\n",
       "      <td>NaN</td>\n",
       "      <td>NaN</td>\n",
       "      <td>NaN</td>\n",
       "      <td>NaN</td>\n",
       "      <td>NaN</td>\n",
       "      <td>55.0</td>\n",
       "    </tr>\n",
       "    <tr>\n",
       "      <th>6</th>\n",
       "      <td>6</td>\n",
       "      <td>3700000.0</td>\n",
       "      <td>37.30</td>\n",
       "      <td>2017-11-02T00:00:00</td>\n",
       "      <td>1</td>\n",
       "      <td>NaN</td>\n",
       "      <td>26.0</td>\n",
       "      <td>10.60</td>\n",
       "      <td>6</td>\n",
       "      <td>NaN</td>\n",
       "      <td>...</td>\n",
       "      <td>14.40</td>\n",
       "      <td>1.0</td>\n",
       "      <td>посёлок Парголово</td>\n",
       "      <td>52996.0</td>\n",
       "      <td>19143.0</td>\n",
       "      <td>0.0</td>\n",
       "      <td>NaN</td>\n",
       "      <td>0.0</td>\n",
       "      <td>NaN</td>\n",
       "      <td>155.0</td>\n",
       "    </tr>\n",
       "    <tr>\n",
       "      <th>7</th>\n",
       "      <td>5</td>\n",
       "      <td>7915000.0</td>\n",
       "      <td>71.60</td>\n",
       "      <td>2019-04-18T00:00:00</td>\n",
       "      <td>2</td>\n",
       "      <td>NaN</td>\n",
       "      <td>24.0</td>\n",
       "      <td>NaN</td>\n",
       "      <td>22</td>\n",
       "      <td>NaN</td>\n",
       "      <td>...</td>\n",
       "      <td>18.90</td>\n",
       "      <td>2.0</td>\n",
       "      <td>Санкт-Петербург</td>\n",
       "      <td>23982.0</td>\n",
       "      <td>11634.0</td>\n",
       "      <td>0.0</td>\n",
       "      <td>NaN</td>\n",
       "      <td>0.0</td>\n",
       "      <td>NaN</td>\n",
       "      <td>NaN</td>\n",
       "    </tr>\n",
       "    <tr>\n",
       "      <th>8</th>\n",
       "      <td>20</td>\n",
       "      <td>2900000.0</td>\n",
       "      <td>33.16</td>\n",
       "      <td>2018-05-23T00:00:00</td>\n",
       "      <td>1</td>\n",
       "      <td>NaN</td>\n",
       "      <td>27.0</td>\n",
       "      <td>15.43</td>\n",
       "      <td>26</td>\n",
       "      <td>NaN</td>\n",
       "      <td>...</td>\n",
       "      <td>8.81</td>\n",
       "      <td>NaN</td>\n",
       "      <td>посёлок Мурино</td>\n",
       "      <td>NaN</td>\n",
       "      <td>NaN</td>\n",
       "      <td>NaN</td>\n",
       "      <td>NaN</td>\n",
       "      <td>NaN</td>\n",
       "      <td>NaN</td>\n",
       "      <td>189.0</td>\n",
       "    </tr>\n",
       "    <tr>\n",
       "      <th>9</th>\n",
       "      <td>18</td>\n",
       "      <td>5400000.0</td>\n",
       "      <td>61.00</td>\n",
       "      <td>2017-02-26T00:00:00</td>\n",
       "      <td>3</td>\n",
       "      <td>2.50</td>\n",
       "      <td>9.0</td>\n",
       "      <td>43.60</td>\n",
       "      <td>7</td>\n",
       "      <td>NaN</td>\n",
       "      <td>...</td>\n",
       "      <td>6.50</td>\n",
       "      <td>2.0</td>\n",
       "      <td>Санкт-Петербург</td>\n",
       "      <td>50898.0</td>\n",
       "      <td>15008.0</td>\n",
       "      <td>0.0</td>\n",
       "      <td>NaN</td>\n",
       "      <td>0.0</td>\n",
       "      <td>NaN</td>\n",
       "      <td>289.0</td>\n",
       "    </tr>\n",
       "  </tbody>\n",
       "</table>\n",
       "<p>10 rows × 22 columns</p>\n",
       "</div>"
      ],
      "text/plain": [
       "   total_images  last_price  total_area first_day_exposition  rooms  \\\n",
       "0            20  13000000.0      108.00  2019-03-07T00:00:00      3   \n",
       "1             7   3350000.0       40.40  2018-12-04T00:00:00      1   \n",
       "2            10   5196000.0       56.00  2015-08-20T00:00:00      2   \n",
       "3             0  64900000.0      159.00  2015-07-24T00:00:00      3   \n",
       "4             2  10000000.0      100.00  2018-06-19T00:00:00      2   \n",
       "5            10   2890000.0       30.40  2018-09-10T00:00:00      1   \n",
       "6             6   3700000.0       37.30  2017-11-02T00:00:00      1   \n",
       "7             5   7915000.0       71.60  2019-04-18T00:00:00      2   \n",
       "8            20   2900000.0       33.16  2018-05-23T00:00:00      1   \n",
       "9            18   5400000.0       61.00  2017-02-26T00:00:00      3   \n",
       "\n",
       "   ceiling_height  floors_total  living_area  floor is_apartment  ...  \\\n",
       "0            2.70          16.0        51.00      8          NaN  ...   \n",
       "1             NaN          11.0        18.60      1          NaN  ...   \n",
       "2             NaN           5.0        34.30      4          NaN  ...   \n",
       "3             NaN          14.0          NaN      9          NaN  ...   \n",
       "4            3.03          14.0        32.00     13          NaN  ...   \n",
       "5             NaN          12.0        14.40      5          NaN  ...   \n",
       "6             NaN          26.0        10.60      6          NaN  ...   \n",
       "7             NaN          24.0          NaN     22          NaN  ...   \n",
       "8             NaN          27.0        15.43     26          NaN  ...   \n",
       "9            2.50           9.0        43.60      7          NaN  ...   \n",
       "\n",
       "   kitchen_area  balcony              locality_name  airports_nearest  \\\n",
       "0         25.00      NaN            Санкт-Петербург           18863.0   \n",
       "1         11.00      2.0             посёлок Шушары           12817.0   \n",
       "2          8.30      0.0            Санкт-Петербург           21741.0   \n",
       "3           NaN      0.0            Санкт-Петербург           28098.0   \n",
       "4         41.00      NaN            Санкт-Петербург           31856.0   \n",
       "5          9.10      NaN  городской посёлок Янино-1               NaN   \n",
       "6         14.40      1.0          посёлок Парголово           52996.0   \n",
       "7         18.90      2.0            Санкт-Петербург           23982.0   \n",
       "8          8.81      NaN             посёлок Мурино               NaN   \n",
       "9          6.50      2.0            Санкт-Петербург           50898.0   \n",
       "\n",
       "  cityCenters_nearest  parks_around3000  parks_nearest  ponds_around3000  \\\n",
       "0             16028.0               1.0          482.0               2.0   \n",
       "1             18603.0               0.0            NaN               0.0   \n",
       "2             13933.0               1.0           90.0               2.0   \n",
       "3              6800.0               2.0           84.0               3.0   \n",
       "4              8098.0               2.0          112.0               1.0   \n",
       "5                 NaN               NaN            NaN               NaN   \n",
       "6             19143.0               0.0            NaN               0.0   \n",
       "7             11634.0               0.0            NaN               0.0   \n",
       "8                 NaN               NaN            NaN               NaN   \n",
       "9             15008.0               0.0            NaN               0.0   \n",
       "\n",
       "   ponds_nearest  days_exposition  \n",
       "0          755.0              NaN  \n",
       "1            NaN             81.0  \n",
       "2          574.0            558.0  \n",
       "3          234.0            424.0  \n",
       "4           48.0            121.0  \n",
       "5            NaN             55.0  \n",
       "6            NaN            155.0  \n",
       "7            NaN              NaN  \n",
       "8            NaN            189.0  \n",
       "9            NaN            289.0  \n",
       "\n",
       "[10 rows x 22 columns]"
      ]
     },
     "metadata": {},
     "output_type": "display_data"
    },
    {
     "data": {
      "image/png": "[encoded data removed]",
      "text/plain": [
       "<Figure size 720x1080 with 20 Axes>"
      ]
     },
     "metadata": {
      "needs_background": "light"
     },
     "output_type": "display_data"
    }
   ],
   "source": [
    "import pandas as pd\n",
    "import matplotlib.pyplot as plt\n",
    "\n",
    "#data = pd.read_csv('/datasets/real_estate_data.csv', sep='\\t')\n",
    "\n",
    "try:\n",
    "    data = pd.read_csv('/datasets/real_estate_data.csv', sep='\\t')\n",
    "except:\n",
    "    data = pd.read_csv('https://code.s3.yandex.net/datasets/real_estate_data.csv', sep='\\t')\n",
    "\n",
    "display(data.info())\n",
    "display(data.head(10))\n",
    "data.hist(figsize=(10, 15))\n",
    "plt.show()"
   ]
  },
  {
   "cell_type": "markdown",
   "metadata": {},
   "source": [
    "### Предобработка данных"
   ]
  },
  {
   "cell_type": "markdown",
   "metadata": {},
   "source": [
    "#### Обработка пропусков"
   ]
  },
  {
   "cell_type": "markdown",
   "metadata": {},
   "source": [
    "На первый взгляд (по info) пропусков довольно много. Отобразим их количество в процетах, подсветим их градиентом для облегчения восприятия."
   ]
  },
  {
   "cell_type": "code",
   "execution_count": 48,
   "metadata": {},
   "outputs": [
    {
     "data": {
      "text/html": [
       "<style  type=\"text/css\" >\n",
       "#T_fdc96_row0_col0,#T_fdc96_row1_col0,#T_fdc96_row2_col0,#T_fdc96_row3_col0,#T_fdc96_row4_col0,#T_fdc96_row6_col0,#T_fdc96_row8_col0,#T_fdc96_row10_col0,#T_fdc96_row11_col0,#T_fdc96_row14_col0{\n",
       "            background-color:  #3b4cc0;\n",
       "            color:  #f1f1f1;\n",
       "        }#T_fdc96_row5_col0{\n",
       "            background-color:  #cdd9ec;\n",
       "            color:  #000000;\n",
       "        }#T_fdc96_row7_col0{\n",
       "            background-color:  #5673e0;\n",
       "            color:  #000000;\n",
       "        }#T_fdc96_row9_col0{\n",
       "            background-color:  #b40426;\n",
       "            color:  #f1f1f1;\n",
       "        }#T_fdc96_row12_col0{\n",
       "            background-color:  #5e7de7;\n",
       "            color:  #000000;\n",
       "        }#T_fdc96_row13_col0{\n",
       "            background-color:  #ead4c8;\n",
       "            color:  #000000;\n",
       "        }#T_fdc96_row15_col0,#T_fdc96_row16_col0,#T_fdc96_row17_col0,#T_fdc96_row19_col0{\n",
       "            background-color:  #90b2fe;\n",
       "            color:  #000000;\n",
       "        }#T_fdc96_row18_col0{\n",
       "            background-color:  #f4987a;\n",
       "            color:  #000000;\n",
       "        }#T_fdc96_row20_col0{\n",
       "            background-color:  #f7aa8c;\n",
       "            color:  #000000;\n",
       "        }#T_fdc96_row21_col0{\n",
       "            background-color:  #688aef;\n",
       "            color:  #000000;\n",
       "        }</style><table id=\"T_fdc96_\" ><thead>    <tr>        <th class=\"blank level0\" ></th>        <th class=\"col_heading level0 col0\" >0</th>    </tr></thead><tbody>\n",
       "                <tr>\n",
       "                        <th id=\"T_fdc96_level0_row0\" class=\"row_heading level0 row0\" >total_images</th>\n",
       "                        <td id=\"T_fdc96_row0_col0\" class=\"data row0 col0\" >0.000000</td>\n",
       "            </tr>\n",
       "            <tr>\n",
       "                        <th id=\"T_fdc96_level0_row1\" class=\"row_heading level0 row1\" >last_price</th>\n",
       "                        <td id=\"T_fdc96_row1_col0\" class=\"data row1 col0\" >0.000000</td>\n",
       "            </tr>\n",
       "            <tr>\n",
       "                        <th id=\"T_fdc96_level0_row2\" class=\"row_heading level0 row2\" >total_area</th>\n",
       "                        <td id=\"T_fdc96_row2_col0\" class=\"data row2 col0\" >0.000000</td>\n",
       "            </tr>\n",
       "            <tr>\n",
       "                        <th id=\"T_fdc96_level0_row3\" class=\"row_heading level0 row3\" >first_day_exposition</th>\n",
       "                        <td id=\"T_fdc96_row3_col0\" class=\"data row3 col0\" >0.000000</td>\n",
       "            </tr>\n",
       "            <tr>\n",
       "                        <th id=\"T_fdc96_level0_row4\" class=\"row_heading level0 row4\" >rooms</th>\n",
       "                        <td id=\"T_fdc96_row4_col0\" class=\"data row4 col0\" >0.000000</td>\n",
       "            </tr>\n",
       "            <tr>\n",
       "                        <th id=\"T_fdc96_level0_row5\" class=\"row_heading level0 row5\" >ceiling_height</th>\n",
       "                        <td id=\"T_fdc96_row5_col0\" class=\"data row5 col0\" >39.000000</td>\n",
       "            </tr>\n",
       "            <tr>\n",
       "                        <th id=\"T_fdc96_level0_row6\" class=\"row_heading level0 row6\" >floors_total</th>\n",
       "                        <td id=\"T_fdc96_row6_col0\" class=\"data row6 col0\" >0.000000</td>\n",
       "            </tr>\n",
       "            <tr>\n",
       "                        <th id=\"T_fdc96_level0_row7\" class=\"row_heading level0 row7\" >living_area</th>\n",
       "                        <td id=\"T_fdc96_row7_col0\" class=\"data row7 col0\" >8.000000</td>\n",
       "            </tr>\n",
       "            <tr>\n",
       "                        <th id=\"T_fdc96_level0_row8\" class=\"row_heading level0 row8\" >floor</th>\n",
       "                        <td id=\"T_fdc96_row8_col0\" class=\"data row8 col0\" >0.000000</td>\n",
       "            </tr>\n",
       "            <tr>\n",
       "                        <th id=\"T_fdc96_level0_row9\" class=\"row_heading level0 row9\" >is_apartment</th>\n",
       "                        <td id=\"T_fdc96_row9_col0\" class=\"data row9 col0\" >88.000000</td>\n",
       "            </tr>\n",
       "            <tr>\n",
       "                        <th id=\"T_fdc96_level0_row10\" class=\"row_heading level0 row10\" >studio</th>\n",
       "                        <td id=\"T_fdc96_row10_col0\" class=\"data row10 col0\" >0.000000</td>\n",
       "            </tr>\n",
       "            <tr>\n",
       "                        <th id=\"T_fdc96_level0_row11\" class=\"row_heading level0 row11\" >open_plan</th>\n",
       "                        <td id=\"T_fdc96_row11_col0\" class=\"data row11 col0\" >0.000000</td>\n",
       "            </tr>\n",
       "            <tr>\n",
       "                        <th id=\"T_fdc96_level0_row12\" class=\"row_heading level0 row12\" >kitchen_area</th>\n",
       "                        <td id=\"T_fdc96_row12_col0\" class=\"data row12 col0\" >10.000000</td>\n",
       "            </tr>\n",
       "            <tr>\n",
       "                        <th id=\"T_fdc96_level0_row13\" class=\"row_heading level0 row13\" >balcony</th>\n",
       "                        <td id=\"T_fdc96_row13_col0\" class=\"data row13 col0\" >49.000000</td>\n",
       "            </tr>\n",
       "            <tr>\n",
       "                        <th id=\"T_fdc96_level0_row14\" class=\"row_heading level0 row14\" >locality_name</th>\n",
       "                        <td id=\"T_fdc96_row14_col0\" class=\"data row14 col0\" >0.000000</td>\n",
       "            </tr>\n",
       "            <tr>\n",
       "                        <th id=\"T_fdc96_level0_row15\" class=\"row_heading level0 row15\" >airports_nearest</th>\n",
       "                        <td id=\"T_fdc96_row15_col0\" class=\"data row15 col0\" >23.000000</td>\n",
       "            </tr>\n",
       "            <tr>\n",
       "                        <th id=\"T_fdc96_level0_row16\" class=\"row_heading level0 row16\" >cityCenters_nearest</th>\n",
       "                        <td id=\"T_fdc96_row16_col0\" class=\"data row16 col0\" >23.000000</td>\n",
       "            </tr>\n",
       "            <tr>\n",
       "                        <th id=\"T_fdc96_level0_row17\" class=\"row_heading level0 row17\" >parks_around3000</th>\n",
       "                        <td id=\"T_fdc96_row17_col0\" class=\"data row17 col0\" >23.000000</td>\n",
       "            </tr>\n",
       "            <tr>\n",
       "                        <th id=\"T_fdc96_level0_row18\" class=\"row_heading level0 row18\" >parks_nearest</th>\n",
       "                        <td id=\"T_fdc96_row18_col0\" class=\"data row18 col0\" >66.000000</td>\n",
       "            </tr>\n",
       "            <tr>\n",
       "                        <th id=\"T_fdc96_level0_row19\" class=\"row_heading level0 row19\" >ponds_around3000</th>\n",
       "                        <td id=\"T_fdc96_row19_col0\" class=\"data row19 col0\" >23.000000</td>\n",
       "            </tr>\n",
       "            <tr>\n",
       "                        <th id=\"T_fdc96_level0_row20\" class=\"row_heading level0 row20\" >ponds_nearest</th>\n",
       "                        <td id=\"T_fdc96_row20_col0\" class=\"data row20 col0\" >62.000000</td>\n",
       "            </tr>\n",
       "            <tr>\n",
       "                        <th id=\"T_fdc96_level0_row21\" class=\"row_heading level0 row21\" >days_exposition</th>\n",
       "                        <td id=\"T_fdc96_row21_col0\" class=\"data row21 col0\" >13.000000</td>\n",
       "            </tr>\n",
       "    </tbody></table>"
      ],
      "text/plain": [
       "<pandas.io.formats.style.Styler at 0x7f3af2afd340>"
      ]
     },
     "execution_count": 48,
     "metadata": {},
     "output_type": "execute_result"
    }
   ],
   "source": [
    "pd.DataFrame(round(data.isna().mean()*100,)).style.background_gradient('coolwarm')"
   ]
  },
  {
   "cell_type": "markdown",
   "metadata": {},
   "source": [
    "1) Первый столбец, в котором есть пропуски, причем почти 10000, это высота потолков. Поскольку у нас нет данных о годах постройки или моделях домов, тяжело определить, на какие типичные значения можно было бы заменить пропуски,  высота потолка зависит от типа дома, его архитектуры, а не от статистики. Тем не менее, поскольку мы рискуем потерять треть данных, лучше заполнить пропуски хотя бы медианой по населенному пункту."
   ]
  },
  {
   "cell_type": "code",
   "execution_count": 49,
   "metadata": {},
   "outputs": [
    {
     "name": "stderr",
     "output_type": "stream",
     "text": [
      "/opt/conda/lib/python3.9/site-packages/numpy/lib/nanfunctions.py:1117: RuntimeWarning: Mean of empty slice\n",
      "  return np.nanmean(a, axis, out=out, keepdims=keepdims)\n",
      "/opt/conda/lib/python3.9/site-packages/numpy/lib/nanfunctions.py:1117: RuntimeWarning: Mean of empty slice\n",
      "  return np.nanmean(a, axis, out=out, keepdims=keepdims)\n",
      "/opt/conda/lib/python3.9/site-packages/numpy/lib/nanfunctions.py:1117: RuntimeWarning: Mean of empty slice\n",
      "  return np.nanmean(a, axis, out=out, keepdims=keepdims)\n",
      "/opt/conda/lib/python3.9/site-packages/numpy/lib/nanfunctions.py:1117: RuntimeWarning: Mean of empty slice\n",
      "  return np.nanmean(a, axis, out=out, keepdims=keepdims)\n",
      "/opt/conda/lib/python3.9/site-packages/numpy/lib/nanfunctions.py:1117: RuntimeWarning: Mean of empty slice\n",
      "  return np.nanmean(a, axis, out=out, keepdims=keepdims)\n",
      "/opt/conda/lib/python3.9/site-packages/numpy/lib/nanfunctions.py:1117: RuntimeWarning: Mean of empty slice\n",
      "  return np.nanmean(a, axis, out=out, keepdims=keepdims)\n",
      "/opt/conda/lib/python3.9/site-packages/numpy/lib/nanfunctions.py:1117: RuntimeWarning: Mean of empty slice\n",
      "  return np.nanmean(a, axis, out=out, keepdims=keepdims)\n",
      "/opt/conda/lib/python3.9/site-packages/numpy/lib/nanfunctions.py:1117: RuntimeWarning: Mean of empty slice\n",
      "  return np.nanmean(a, axis, out=out, keepdims=keepdims)\n",
      "/opt/conda/lib/python3.9/site-packages/numpy/lib/nanfunctions.py:1117: RuntimeWarning: Mean of empty slice\n",
      "  return np.nanmean(a, axis, out=out, keepdims=keepdims)\n",
      "/opt/conda/lib/python3.9/site-packages/numpy/lib/nanfunctions.py:1117: RuntimeWarning: Mean of empty slice\n",
      "  return np.nanmean(a, axis, out=out, keepdims=keepdims)\n",
      "/opt/conda/lib/python3.9/site-packages/numpy/lib/nanfunctions.py:1117: RuntimeWarning: Mean of empty slice\n",
      "  return np.nanmean(a, axis, out=out, keepdims=keepdims)\n",
      "/opt/conda/lib/python3.9/site-packages/numpy/lib/nanfunctions.py:1117: RuntimeWarning: Mean of empty slice\n",
      "  return np.nanmean(a, axis, out=out, keepdims=keepdims)\n",
      "/opt/conda/lib/python3.9/site-packages/numpy/lib/nanfunctions.py:1117: RuntimeWarning: Mean of empty slice\n",
      "  return np.nanmean(a, axis, out=out, keepdims=keepdims)\n",
      "/opt/conda/lib/python3.9/site-packages/numpy/lib/nanfunctions.py:1117: RuntimeWarning: Mean of empty slice\n",
      "  return np.nanmean(a, axis, out=out, keepdims=keepdims)\n",
      "/opt/conda/lib/python3.9/site-packages/numpy/lib/nanfunctions.py:1117: RuntimeWarning: Mean of empty slice\n",
      "  return np.nanmean(a, axis, out=out, keepdims=keepdims)\n",
      "/opt/conda/lib/python3.9/site-packages/numpy/lib/nanfunctions.py:1117: RuntimeWarning: Mean of empty slice\n",
      "  return np.nanmean(a, axis, out=out, keepdims=keepdims)\n",
      "/opt/conda/lib/python3.9/site-packages/numpy/lib/nanfunctions.py:1117: RuntimeWarning: Mean of empty slice\n",
      "  return np.nanmean(a, axis, out=out, keepdims=keepdims)\n",
      "/opt/conda/lib/python3.9/site-packages/numpy/lib/nanfunctions.py:1117: RuntimeWarning: Mean of empty slice\n",
      "  return np.nanmean(a, axis, out=out, keepdims=keepdims)\n",
      "/opt/conda/lib/python3.9/site-packages/numpy/lib/nanfunctions.py:1117: RuntimeWarning: Mean of empty slice\n",
      "  return np.nanmean(a, axis, out=out, keepdims=keepdims)\n",
      "/opt/conda/lib/python3.9/site-packages/numpy/lib/nanfunctions.py:1117: RuntimeWarning: Mean of empty slice\n",
      "  return np.nanmean(a, axis, out=out, keepdims=keepdims)\n",
      "/opt/conda/lib/python3.9/site-packages/numpy/lib/nanfunctions.py:1117: RuntimeWarning: Mean of empty slice\n",
      "  return np.nanmean(a, axis, out=out, keepdims=keepdims)\n",
      "/opt/conda/lib/python3.9/site-packages/numpy/lib/nanfunctions.py:1117: RuntimeWarning: Mean of empty slice\n",
      "  return np.nanmean(a, axis, out=out, keepdims=keepdims)\n",
      "/opt/conda/lib/python3.9/site-packages/numpy/lib/nanfunctions.py:1117: RuntimeWarning: Mean of empty slice\n",
      "  return np.nanmean(a, axis, out=out, keepdims=keepdims)\n",
      "/opt/conda/lib/python3.9/site-packages/numpy/lib/nanfunctions.py:1117: RuntimeWarning: Mean of empty slice\n",
      "  return np.nanmean(a, axis, out=out, keepdims=keepdims)\n",
      "/opt/conda/lib/python3.9/site-packages/numpy/lib/nanfunctions.py:1117: RuntimeWarning: Mean of empty slice\n",
      "  return np.nanmean(a, axis, out=out, keepdims=keepdims)\n",
      "/opt/conda/lib/python3.9/site-packages/numpy/lib/nanfunctions.py:1117: RuntimeWarning: Mean of empty slice\n",
      "  return np.nanmean(a, axis, out=out, keepdims=keepdims)\n",
      "/opt/conda/lib/python3.9/site-packages/numpy/lib/nanfunctions.py:1117: RuntimeWarning: Mean of empty slice\n",
      "  return np.nanmean(a, axis, out=out, keepdims=keepdims)\n",
      "/opt/conda/lib/python3.9/site-packages/numpy/lib/nanfunctions.py:1117: RuntimeWarning: Mean of empty slice\n",
      "  return np.nanmean(a, axis, out=out, keepdims=keepdims)\n",
      "/opt/conda/lib/python3.9/site-packages/numpy/lib/nanfunctions.py:1117: RuntimeWarning: Mean of empty slice\n",
      "  return np.nanmean(a, axis, out=out, keepdims=keepdims)\n",
      "/opt/conda/lib/python3.9/site-packages/numpy/lib/nanfunctions.py:1117: RuntimeWarning: Mean of empty slice\n",
      "  return np.nanmean(a, axis, out=out, keepdims=keepdims)\n",
      "/opt/conda/lib/python3.9/site-packages/numpy/lib/nanfunctions.py:1117: RuntimeWarning: Mean of empty slice\n",
      "  return np.nanmean(a, axis, out=out, keepdims=keepdims)\n",
      "/opt/conda/lib/python3.9/site-packages/numpy/lib/nanfunctions.py:1117: RuntimeWarning: Mean of empty slice\n",
      "  return np.nanmean(a, axis, out=out, keepdims=keepdims)\n",
      "/opt/conda/lib/python3.9/site-packages/numpy/lib/nanfunctions.py:1117: RuntimeWarning: Mean of empty slice\n",
      "  return np.nanmean(a, axis, out=out, keepdims=keepdims)\n",
      "/opt/conda/lib/python3.9/site-packages/numpy/lib/nanfunctions.py:1117: RuntimeWarning: Mean of empty slice\n",
      "  return np.nanmean(a, axis, out=out, keepdims=keepdims)\n",
      "/opt/conda/lib/python3.9/site-packages/numpy/lib/nanfunctions.py:1117: RuntimeWarning: Mean of empty slice\n",
      "  return np.nanmean(a, axis, out=out, keepdims=keepdims)\n",
      "/opt/conda/lib/python3.9/site-packages/numpy/lib/nanfunctions.py:1117: RuntimeWarning: Mean of empty slice\n",
      "  return np.nanmean(a, axis, out=out, keepdims=keepdims)\n",
      "/opt/conda/lib/python3.9/site-packages/numpy/lib/nanfunctions.py:1117: RuntimeWarning: Mean of empty slice\n",
      "  return np.nanmean(a, axis, out=out, keepdims=keepdims)\n",
      "/opt/conda/lib/python3.9/site-packages/numpy/lib/nanfunctions.py:1117: RuntimeWarning: Mean of empty slice\n",
      "  return np.nanmean(a, axis, out=out, keepdims=keepdims)\n",
      "/opt/conda/lib/python3.9/site-packages/numpy/lib/nanfunctions.py:1117: RuntimeWarning: Mean of empty slice\n",
      "  return np.nanmean(a, axis, out=out, keepdims=keepdims)\n",
      "/opt/conda/lib/python3.9/site-packages/numpy/lib/nanfunctions.py:1117: RuntimeWarning: Mean of empty slice\n",
      "  return np.nanmean(a, axis, out=out, keepdims=keepdims)\n",
      "/opt/conda/lib/python3.9/site-packages/numpy/lib/nanfunctions.py:1117: RuntimeWarning: Mean of empty slice\n",
      "  return np.nanmean(a, axis, out=out, keepdims=keepdims)\n",
      "/opt/conda/lib/python3.9/site-packages/numpy/lib/nanfunctions.py:1117: RuntimeWarning: Mean of empty slice\n",
      "  return np.nanmean(a, axis, out=out, keepdims=keepdims)\n",
      "/opt/conda/lib/python3.9/site-packages/numpy/lib/nanfunctions.py:1117: RuntimeWarning: Mean of empty slice\n",
      "  return np.nanmean(a, axis, out=out, keepdims=keepdims)\n",
      "/opt/conda/lib/python3.9/site-packages/numpy/lib/nanfunctions.py:1117: RuntimeWarning: Mean of empty slice\n",
      "  return np.nanmean(a, axis, out=out, keepdims=keepdims)\n",
      "/opt/conda/lib/python3.9/site-packages/numpy/lib/nanfunctions.py:1117: RuntimeWarning: Mean of empty slice\n",
      "  return np.nanmean(a, axis, out=out, keepdims=keepdims)\n",
      "/opt/conda/lib/python3.9/site-packages/numpy/lib/nanfunctions.py:1117: RuntimeWarning: Mean of empty slice\n",
      "  return np.nanmean(a, axis, out=out, keepdims=keepdims)\n",
      "/opt/conda/lib/python3.9/site-packages/numpy/lib/nanfunctions.py:1117: RuntimeWarning: Mean of empty slice\n",
      "  return np.nanmean(a, axis, out=out, keepdims=keepdims)\n",
      "/opt/conda/lib/python3.9/site-packages/numpy/lib/nanfunctions.py:1117: RuntimeWarning: Mean of empty slice\n",
      "  return np.nanmean(a, axis, out=out, keepdims=keepdims)\n",
      "/opt/conda/lib/python3.9/site-packages/numpy/lib/nanfunctions.py:1117: RuntimeWarning: Mean of empty slice\n",
      "  return np.nanmean(a, axis, out=out, keepdims=keepdims)\n",
      "/opt/conda/lib/python3.9/site-packages/numpy/lib/nanfunctions.py:1117: RuntimeWarning: Mean of empty slice\n",
      "  return np.nanmean(a, axis, out=out, keepdims=keepdims)\n",
      "/opt/conda/lib/python3.9/site-packages/numpy/lib/nanfunctions.py:1117: RuntimeWarning: Mean of empty slice\n",
      "  return np.nanmean(a, axis, out=out, keepdims=keepdims)\n",
      "/opt/conda/lib/python3.9/site-packages/numpy/lib/nanfunctions.py:1117: RuntimeWarning: Mean of empty slice\n",
      "  return np.nanmean(a, axis, out=out, keepdims=keepdims)\n",
      "/opt/conda/lib/python3.9/site-packages/numpy/lib/nanfunctions.py:1117: RuntimeWarning: Mean of empty slice\n",
      "  return np.nanmean(a, axis, out=out, keepdims=keepdims)\n",
      "/opt/conda/lib/python3.9/site-packages/numpy/lib/nanfunctions.py:1117: RuntimeWarning: Mean of empty slice\n",
      "  return np.nanmean(a, axis, out=out, keepdims=keepdims)\n",
      "/opt/conda/lib/python3.9/site-packages/numpy/lib/nanfunctions.py:1117: RuntimeWarning: Mean of empty slice\n",
      "  return np.nanmean(a, axis, out=out, keepdims=keepdims)\n",
      "/opt/conda/lib/python3.9/site-packages/numpy/lib/nanfunctions.py:1117: RuntimeWarning: Mean of empty slice\n",
      "  return np.nanmean(a, axis, out=out, keepdims=keepdims)\n",
      "/opt/conda/lib/python3.9/site-packages/numpy/lib/nanfunctions.py:1117: RuntimeWarning: Mean of empty slice\n",
      "  return np.nanmean(a, axis, out=out, keepdims=keepdims)\n",
      "/opt/conda/lib/python3.9/site-packages/numpy/lib/nanfunctions.py:1117: RuntimeWarning: Mean of empty slice\n",
      "  return np.nanmean(a, axis, out=out, keepdims=keepdims)\n",
      "/opt/conda/lib/python3.9/site-packages/numpy/lib/nanfunctions.py:1117: RuntimeWarning: Mean of empty slice\n",
      "  return np.nanmean(a, axis, out=out, keepdims=keepdims)\n",
      "/opt/conda/lib/python3.9/site-packages/numpy/lib/nanfunctions.py:1117: RuntimeWarning: Mean of empty slice\n",
      "  return np.nanmean(a, axis, out=out, keepdims=keepdims)\n",
      "/opt/conda/lib/python3.9/site-packages/numpy/lib/nanfunctions.py:1117: RuntimeWarning: Mean of empty slice\n",
      "  return np.nanmean(a, axis, out=out, keepdims=keepdims)\n",
      "/opt/conda/lib/python3.9/site-packages/numpy/lib/nanfunctions.py:1117: RuntimeWarning: Mean of empty slice\n",
      "  return np.nanmean(a, axis, out=out, keepdims=keepdims)\n",
      "/opt/conda/lib/python3.9/site-packages/numpy/lib/nanfunctions.py:1117: RuntimeWarning: Mean of empty slice\n",
      "  return np.nanmean(a, axis, out=out, keepdims=keepdims)\n",
      "/opt/conda/lib/python3.9/site-packages/numpy/lib/nanfunctions.py:1117: RuntimeWarning: Mean of empty slice\n",
      "  return np.nanmean(a, axis, out=out, keepdims=keepdims)\n",
      "/opt/conda/lib/python3.9/site-packages/numpy/lib/nanfunctions.py:1117: RuntimeWarning: Mean of empty slice\n",
      "  return np.nanmean(a, axis, out=out, keepdims=keepdims)\n",
      "/opt/conda/lib/python3.9/site-packages/numpy/lib/nanfunctions.py:1117: RuntimeWarning: Mean of empty slice\n",
      "  return np.nanmean(a, axis, out=out, keepdims=keepdims)\n",
      "/opt/conda/lib/python3.9/site-packages/numpy/lib/nanfunctions.py:1117: RuntimeWarning: Mean of empty slice\n",
      "  return np.nanmean(a, axis, out=out, keepdims=keepdims)\n",
      "/opt/conda/lib/python3.9/site-packages/numpy/lib/nanfunctions.py:1117: RuntimeWarning: Mean of empty slice\n",
      "  return np.nanmean(a, axis, out=out, keepdims=keepdims)\n",
      "/opt/conda/lib/python3.9/site-packages/numpy/lib/nanfunctions.py:1117: RuntimeWarning: Mean of empty slice\n",
      "  return np.nanmean(a, axis, out=out, keepdims=keepdims)\n",
      "/opt/conda/lib/python3.9/site-packages/numpy/lib/nanfunctions.py:1117: RuntimeWarning: Mean of empty slice\n",
      "  return np.nanmean(a, axis, out=out, keepdims=keepdims)\n",
      "/opt/conda/lib/python3.9/site-packages/numpy/lib/nanfunctions.py:1117: RuntimeWarning: Mean of empty slice\n",
      "  return np.nanmean(a, axis, out=out, keepdims=keepdims)\n",
      "/opt/conda/lib/python3.9/site-packages/numpy/lib/nanfunctions.py:1117: RuntimeWarning: Mean of empty slice\n",
      "  return np.nanmean(a, axis, out=out, keepdims=keepdims)\n",
      "/opt/conda/lib/python3.9/site-packages/numpy/lib/nanfunctions.py:1117: RuntimeWarning: Mean of empty slice\n",
      "  return np.nanmean(a, axis, out=out, keepdims=keepdims)\n",
      "/opt/conda/lib/python3.9/site-packages/numpy/lib/nanfunctions.py:1117: RuntimeWarning: Mean of empty slice\n",
      "  return np.nanmean(a, axis, out=out, keepdims=keepdims)\n",
      "/opt/conda/lib/python3.9/site-packages/numpy/lib/nanfunctions.py:1117: RuntimeWarning: Mean of empty slice\n",
      "  return np.nanmean(a, axis, out=out, keepdims=keepdims)\n",
      "/opt/conda/lib/python3.9/site-packages/numpy/lib/nanfunctions.py:1117: RuntimeWarning: Mean of empty slice\n",
      "  return np.nanmean(a, axis, out=out, keepdims=keepdims)\n",
      "/opt/conda/lib/python3.9/site-packages/numpy/lib/nanfunctions.py:1117: RuntimeWarning: Mean of empty slice\n",
      "  return np.nanmean(a, axis, out=out, keepdims=keepdims)\n",
      "/opt/conda/lib/python3.9/site-packages/numpy/lib/nanfunctions.py:1117: RuntimeWarning: Mean of empty slice\n",
      "  return np.nanmean(a, axis, out=out, keepdims=keepdims)\n",
      "/opt/conda/lib/python3.9/site-packages/numpy/lib/nanfunctions.py:1117: RuntimeWarning: Mean of empty slice\n",
      "  return np.nanmean(a, axis, out=out, keepdims=keepdims)\n",
      "/opt/conda/lib/python3.9/site-packages/numpy/lib/nanfunctions.py:1117: RuntimeWarning: Mean of empty slice\n",
      "  return np.nanmean(a, axis, out=out, keepdims=keepdims)\n",
      "/opt/conda/lib/python3.9/site-packages/numpy/lib/nanfunctions.py:1117: RuntimeWarning: Mean of empty slice\n",
      "  return np.nanmean(a, axis, out=out, keepdims=keepdims)\n"
     ]
    },
    {
     "data": {
      "text/plain": [
       "156"
      ]
     },
     "execution_count": 49,
     "metadata": {},
     "output_type": "execute_result"
    }
   ],
   "source": [
    "for l in data['locality_name'].unique():\n",
    "    data.loc[(data['locality_name'] == l) & (data['ceiling_height'].isna()), 'ceiling_height'] = \\\n",
    "    data.loc[(data['locality_name'] == l), 'ceiling_height'].median()    \n",
    "data['ceiling_height'].isna().sum()\n",
    "#data['ceiling_height']"
   ]
  },
  {
   "cell_type": "markdown",
   "metadata": {},
   "source": [
    "Предупреждения сввязаны с тем, что заполнение медианой не избавило нас от всех пропусков из-за некоторого количества пропусков в locality_name. Но эти 156 оставшихся можно и удалить, это очень малая часть от датасета."
   ]
  },
  {
   "cell_type": "code",
   "execution_count": 50,
   "metadata": {},
   "outputs": [
    {
     "name": "stdout",
     "output_type": "stream",
     "text": [
      "<class 'pandas.core.frame.DataFrame'>\n",
      "Int64Index: 23543 entries, 0 to 23698\n",
      "Data columns (total 22 columns):\n",
      " #   Column                Non-Null Count  Dtype  \n",
      "---  ------                --------------  -----  \n",
      " 0   total_images          23543 non-null  int64  \n",
      " 1   last_price            23543 non-null  float64\n",
      " 2   total_area            23543 non-null  float64\n",
      " 3   first_day_exposition  23543 non-null  object \n",
      " 4   rooms                 23543 non-null  int64  \n",
      " 5   ceiling_height        23543 non-null  float64\n",
      " 6   floors_total          23459 non-null  float64\n",
      " 7   living_area           21669 non-null  float64\n",
      " 8   floor                 23543 non-null  int64  \n",
      " 9   is_apartment          2754 non-null   object \n",
      " 10  studio                23543 non-null  bool   \n",
      " 11  open_plan             23543 non-null  bool   \n",
      " 12  kitchen_area          21302 non-null  float64\n",
      " 13  balcony               12090 non-null  float64\n",
      " 14  locality_name         23529 non-null  object \n",
      " 15  airports_nearest      18123 non-null  float64\n",
      " 16  cityCenters_nearest   18146 non-null  float64\n",
      " 17  parks_around3000      18147 non-null  float64\n",
      " 18  parks_nearest         8071 non-null   float64\n",
      " 19  ponds_around3000      18147 non-null  float64\n",
      " 20  ponds_nearest         9093 non-null   float64\n",
      " 21  days_exposition       20389 non-null  float64\n",
      "dtypes: bool(2), float64(14), int64(3), object(3)\n",
      "memory usage: 3.8+ MB\n"
     ]
    }
   ],
   "source": [
    "data = data.dropna(subset=['ceiling_height'])\n",
    "# data['ceiling_height'].isna().sum()\n",
    "data.info()"
   ]
  },
  {
   "cell_type": "markdown",
   "metadata": {},
   "source": [
    "2) Выглядит логичным предположить, что пропуски в столбце про число балконов эквивалентны отсутствию балконов. \n",
    "Поэтому заменим пропуски на 0 и проверим, что операция произведена корректно."
   ]
  },
  {
   "cell_type": "code",
   "execution_count": 51,
   "metadata": {},
   "outputs": [
    {
     "data": {
      "text/plain": [
       "0"
      ]
     },
     "execution_count": 51,
     "metadata": {},
     "output_type": "execute_result"
    }
   ],
   "source": [
    "data['balcony'].isna().sum()\n",
    "data['balcony'] = data['balcony'].fillna(0)\n",
    "data['balcony'].isna().sum()"
   ]
  },
  {
   "cell_type": "markdown",
   "metadata": {},
   "source": [
    "3) Следующий столбец с пропусками - общее количество этажей. \n",
    "На первый взгляд кажется, что здесь тоже придется оставить пропуски, но сначала взглянем на строки с пропусками в этом столбце."
   ]
  },
  {
   "cell_type": "code",
   "execution_count": 52,
   "metadata": {},
   "outputs": [
    {
     "data": {
      "text/html": [
       "<div>\n",
       "<style scoped>\n",
       "    .dataframe tbody tr th:only-of-type {\n",
       "        vertical-align: middle;\n",
       "    }\n",
       "\n",
       "    .dataframe tbody tr th {\n",
       "        vertical-align: top;\n",
       "    }\n",
       "\n",
       "    .dataframe thead th {\n",
       "        text-align: right;\n",
       "    }\n",
       "</style>\n",
       "<table border=\"1\" class=\"dataframe\">\n",
       "  <thead>\n",
       "    <tr style=\"text-align: right;\">\n",
       "      <th></th>\n",
       "      <th>total_images</th>\n",
       "      <th>last_price</th>\n",
       "      <th>total_area</th>\n",
       "      <th>first_day_exposition</th>\n",
       "      <th>rooms</th>\n",
       "      <th>ceiling_height</th>\n",
       "      <th>floors_total</th>\n",
       "      <th>living_area</th>\n",
       "      <th>floor</th>\n",
       "      <th>is_apartment</th>\n",
       "      <th>...</th>\n",
       "      <th>kitchen_area</th>\n",
       "      <th>balcony</th>\n",
       "      <th>locality_name</th>\n",
       "      <th>airports_nearest</th>\n",
       "      <th>cityCenters_nearest</th>\n",
       "      <th>parks_around3000</th>\n",
       "      <th>parks_nearest</th>\n",
       "      <th>ponds_around3000</th>\n",
       "      <th>ponds_nearest</th>\n",
       "      <th>days_exposition</th>\n",
       "    </tr>\n",
       "  </thead>\n",
       "  <tbody>\n",
       "    <tr>\n",
       "      <th>186</th>\n",
       "      <td>12</td>\n",
       "      <td>11640000.0</td>\n",
       "      <td>65.2</td>\n",
       "      <td>2018-10-02T00:00:00</td>\n",
       "      <td>2</td>\n",
       "      <td>2.7</td>\n",
       "      <td>NaN</td>\n",
       "      <td>30.80</td>\n",
       "      <td>4</td>\n",
       "      <td>NaN</td>\n",
       "      <td>...</td>\n",
       "      <td>12.00</td>\n",
       "      <td>0.0</td>\n",
       "      <td>Санкт-Петербург</td>\n",
       "      <td>39197.0</td>\n",
       "      <td>12373.0</td>\n",
       "      <td>1.0</td>\n",
       "      <td>123.0</td>\n",
       "      <td>0.0</td>\n",
       "      <td>NaN</td>\n",
       "      <td>49.0</td>\n",
       "    </tr>\n",
       "    <tr>\n",
       "      <th>237</th>\n",
       "      <td>4</td>\n",
       "      <td>2438033.0</td>\n",
       "      <td>28.1</td>\n",
       "      <td>2016-11-23T00:00:00</td>\n",
       "      <td>1</td>\n",
       "      <td>2.7</td>\n",
       "      <td>NaN</td>\n",
       "      <td>20.75</td>\n",
       "      <td>1</td>\n",
       "      <td>NaN</td>\n",
       "      <td>...</td>\n",
       "      <td>NaN</td>\n",
       "      <td>0.0</td>\n",
       "      <td>Санкт-Петербург</td>\n",
       "      <td>22041.0</td>\n",
       "      <td>17369.0</td>\n",
       "      <td>0.0</td>\n",
       "      <td>NaN</td>\n",
       "      <td>1.0</td>\n",
       "      <td>374.0</td>\n",
       "      <td>251.0</td>\n",
       "    </tr>\n",
       "    <tr>\n",
       "      <th>457</th>\n",
       "      <td>4</td>\n",
       "      <td>9788348.0</td>\n",
       "      <td>70.8</td>\n",
       "      <td>2015-08-01T00:00:00</td>\n",
       "      <td>2</td>\n",
       "      <td>2.7</td>\n",
       "      <td>NaN</td>\n",
       "      <td>38.40</td>\n",
       "      <td>12</td>\n",
       "      <td>NaN</td>\n",
       "      <td>...</td>\n",
       "      <td>10.63</td>\n",
       "      <td>0.0</td>\n",
       "      <td>Санкт-Петербург</td>\n",
       "      <td>37364.0</td>\n",
       "      <td>8322.0</td>\n",
       "      <td>2.0</td>\n",
       "      <td>309.0</td>\n",
       "      <td>2.0</td>\n",
       "      <td>706.0</td>\n",
       "      <td>727.0</td>\n",
       "    </tr>\n",
       "    <tr>\n",
       "      <th>671</th>\n",
       "      <td>4</td>\n",
       "      <td>6051191.0</td>\n",
       "      <td>93.6</td>\n",
       "      <td>2017-04-06T00:00:00</td>\n",
       "      <td>3</td>\n",
       "      <td>2.7</td>\n",
       "      <td>NaN</td>\n",
       "      <td>47.10</td>\n",
       "      <td>8</td>\n",
       "      <td>NaN</td>\n",
       "      <td>...</td>\n",
       "      <td>16.80</td>\n",
       "      <td>0.0</td>\n",
       "      <td>Санкт-Петербург</td>\n",
       "      <td>22041.0</td>\n",
       "      <td>17369.0</td>\n",
       "      <td>0.0</td>\n",
       "      <td>NaN</td>\n",
       "      <td>1.0</td>\n",
       "      <td>374.0</td>\n",
       "      <td>123.0</td>\n",
       "    </tr>\n",
       "    <tr>\n",
       "      <th>1757</th>\n",
       "      <td>5</td>\n",
       "      <td>3600000.0</td>\n",
       "      <td>39.0</td>\n",
       "      <td>2017-04-22T00:00:00</td>\n",
       "      <td>1</td>\n",
       "      <td>2.7</td>\n",
       "      <td>NaN</td>\n",
       "      <td>NaN</td>\n",
       "      <td>9</td>\n",
       "      <td>NaN</td>\n",
       "      <td>...</td>\n",
       "      <td>NaN</td>\n",
       "      <td>0.0</td>\n",
       "      <td>Санкт-Петербург</td>\n",
       "      <td>22735.0</td>\n",
       "      <td>11618.0</td>\n",
       "      <td>1.0</td>\n",
       "      <td>835.0</td>\n",
       "      <td>1.0</td>\n",
       "      <td>652.0</td>\n",
       "      <td>77.0</td>\n",
       "    </tr>\n",
       "    <tr>\n",
       "      <th>...</th>\n",
       "      <td>...</td>\n",
       "      <td>...</td>\n",
       "      <td>...</td>\n",
       "      <td>...</td>\n",
       "      <td>...</td>\n",
       "      <td>...</td>\n",
       "      <td>...</td>\n",
       "      <td>...</td>\n",
       "      <td>...</td>\n",
       "      <td>...</td>\n",
       "      <td>...</td>\n",
       "      <td>...</td>\n",
       "      <td>...</td>\n",
       "      <td>...</td>\n",
       "      <td>...</td>\n",
       "      <td>...</td>\n",
       "      <td>...</td>\n",
       "      <td>...</td>\n",
       "      <td>...</td>\n",
       "      <td>...</td>\n",
       "      <td>...</td>\n",
       "    </tr>\n",
       "    <tr>\n",
       "      <th>22542</th>\n",
       "      <td>5</td>\n",
       "      <td>8500000.0</td>\n",
       "      <td>63.5</td>\n",
       "      <td>2017-05-24T00:00:00</td>\n",
       "      <td>2</td>\n",
       "      <td>2.8</td>\n",
       "      <td>NaN</td>\n",
       "      <td>NaN</td>\n",
       "      <td>3</td>\n",
       "      <td>NaN</td>\n",
       "      <td>...</td>\n",
       "      <td>NaN</td>\n",
       "      <td>0.0</td>\n",
       "      <td>Санкт-Петербург</td>\n",
       "      <td>51340.0</td>\n",
       "      <td>15363.0</td>\n",
       "      <td>0.0</td>\n",
       "      <td>NaN</td>\n",
       "      <td>1.0</td>\n",
       "      <td>853.0</td>\n",
       "      <td>512.0</td>\n",
       "    </tr>\n",
       "    <tr>\n",
       "      <th>22656</th>\n",
       "      <td>4</td>\n",
       "      <td>4574160.0</td>\n",
       "      <td>64.5</td>\n",
       "      <td>2017-04-02T00:00:00</td>\n",
       "      <td>2</td>\n",
       "      <td>2.7</td>\n",
       "      <td>NaN</td>\n",
       "      <td>31.70</td>\n",
       "      <td>20</td>\n",
       "      <td>NaN</td>\n",
       "      <td>...</td>\n",
       "      <td>14.40</td>\n",
       "      <td>0.0</td>\n",
       "      <td>Санкт-Петербург</td>\n",
       "      <td>22041.0</td>\n",
       "      <td>17369.0</td>\n",
       "      <td>0.0</td>\n",
       "      <td>NaN</td>\n",
       "      <td>1.0</td>\n",
       "      <td>374.0</td>\n",
       "      <td>127.0</td>\n",
       "    </tr>\n",
       "    <tr>\n",
       "      <th>22808</th>\n",
       "      <td>0</td>\n",
       "      <td>14569263.0</td>\n",
       "      <td>110.4</td>\n",
       "      <td>2016-11-20T00:00:00</td>\n",
       "      <td>3</td>\n",
       "      <td>2.7</td>\n",
       "      <td>NaN</td>\n",
       "      <td>45.38</td>\n",
       "      <td>6</td>\n",
       "      <td>NaN</td>\n",
       "      <td>...</td>\n",
       "      <td>23.42</td>\n",
       "      <td>0.0</td>\n",
       "      <td>Санкт-Петербург</td>\n",
       "      <td>19095.0</td>\n",
       "      <td>4529.0</td>\n",
       "      <td>0.0</td>\n",
       "      <td>NaN</td>\n",
       "      <td>0.0</td>\n",
       "      <td>NaN</td>\n",
       "      <td>260.0</td>\n",
       "    </tr>\n",
       "    <tr>\n",
       "      <th>23590</th>\n",
       "      <td>0</td>\n",
       "      <td>21187872.0</td>\n",
       "      <td>123.3</td>\n",
       "      <td>2017-04-25T00:00:00</td>\n",
       "      <td>3</td>\n",
       "      <td>2.7</td>\n",
       "      <td>NaN</td>\n",
       "      <td>50.40</td>\n",
       "      <td>18</td>\n",
       "      <td>NaN</td>\n",
       "      <td>...</td>\n",
       "      <td>23.60</td>\n",
       "      <td>0.0</td>\n",
       "      <td>Санкт-Петербург</td>\n",
       "      <td>19095.0</td>\n",
       "      <td>4529.0</td>\n",
       "      <td>0.0</td>\n",
       "      <td>NaN</td>\n",
       "      <td>0.0</td>\n",
       "      <td>NaN</td>\n",
       "      <td>104.0</td>\n",
       "    </tr>\n",
       "    <tr>\n",
       "      <th>23658</th>\n",
       "      <td>6</td>\n",
       "      <td>3063600.0</td>\n",
       "      <td>43.8</td>\n",
       "      <td>2016-11-28T00:00:00</td>\n",
       "      <td>1</td>\n",
       "      <td>2.7</td>\n",
       "      <td>NaN</td>\n",
       "      <td>14.00</td>\n",
       "      <td>8</td>\n",
       "      <td>NaN</td>\n",
       "      <td>...</td>\n",
       "      <td>15.50</td>\n",
       "      <td>2.0</td>\n",
       "      <td>Санкт-Петербург</td>\n",
       "      <td>8426.0</td>\n",
       "      <td>12082.0</td>\n",
       "      <td>2.0</td>\n",
       "      <td>24.0</td>\n",
       "      <td>1.0</td>\n",
       "      <td>271.0</td>\n",
       "      <td>246.0</td>\n",
       "    </tr>\n",
       "  </tbody>\n",
       "</table>\n",
       "<p>84 rows × 22 columns</p>\n",
       "</div>"
      ],
      "text/plain": [
       "       total_images  last_price  total_area first_day_exposition  rooms  \\\n",
       "186              12  11640000.0        65.2  2018-10-02T00:00:00      2   \n",
       "237               4   2438033.0        28.1  2016-11-23T00:00:00      1   \n",
       "457               4   9788348.0        70.8  2015-08-01T00:00:00      2   \n",
       "671               4   6051191.0        93.6  2017-04-06T00:00:00      3   \n",
       "1757              5   3600000.0        39.0  2017-04-22T00:00:00      1   \n",
       "...             ...         ...         ...                  ...    ...   \n",
       "22542             5   8500000.0        63.5  2017-05-24T00:00:00      2   \n",
       "22656             4   4574160.0        64.5  2017-04-02T00:00:00      2   \n",
       "22808             0  14569263.0       110.4  2016-11-20T00:00:00      3   \n",
       "23590             0  21187872.0       123.3  2017-04-25T00:00:00      3   \n",
       "23658             6   3063600.0        43.8  2016-11-28T00:00:00      1   \n",
       "\n",
       "       ceiling_height  floors_total  living_area  floor is_apartment  ...  \\\n",
       "186               2.7           NaN        30.80      4          NaN  ...   \n",
       "237               2.7           NaN        20.75      1          NaN  ...   \n",
       "457               2.7           NaN        38.40     12          NaN  ...   \n",
       "671               2.7           NaN        47.10      8          NaN  ...   \n",
       "1757              2.7           NaN          NaN      9          NaN  ...   \n",
       "...               ...           ...          ...    ...          ...  ...   \n",
       "22542             2.8           NaN          NaN      3          NaN  ...   \n",
       "22656             2.7           NaN        31.70     20          NaN  ...   \n",
       "22808             2.7           NaN        45.38      6          NaN  ...   \n",
       "23590             2.7           NaN        50.40     18          NaN  ...   \n",
       "23658             2.7           NaN        14.00      8          NaN  ...   \n",
       "\n",
       "       kitchen_area  balcony    locality_name  airports_nearest  \\\n",
       "186           12.00      0.0  Санкт-Петербург           39197.0   \n",
       "237             NaN      0.0  Санкт-Петербург           22041.0   \n",
       "457           10.63      0.0  Санкт-Петербург           37364.0   \n",
       "671           16.80      0.0  Санкт-Петербург           22041.0   \n",
       "1757            NaN      0.0  Санкт-Петербург           22735.0   \n",
       "...             ...      ...              ...               ...   \n",
       "22542           NaN      0.0  Санкт-Петербург           51340.0   \n",
       "22656         14.40      0.0  Санкт-Петербург           22041.0   \n",
       "22808         23.42      0.0  Санкт-Петербург           19095.0   \n",
       "23590         23.60      0.0  Санкт-Петербург           19095.0   \n",
       "23658         15.50      2.0  Санкт-Петербург            8426.0   \n",
       "\n",
       "      cityCenters_nearest  parks_around3000  parks_nearest  ponds_around3000  \\\n",
       "186               12373.0               1.0          123.0               0.0   \n",
       "237               17369.0               0.0            NaN               1.0   \n",
       "457                8322.0               2.0          309.0               2.0   \n",
       "671               17369.0               0.0            NaN               1.0   \n",
       "1757              11618.0               1.0          835.0               1.0   \n",
       "...                   ...               ...            ...               ...   \n",
       "22542             15363.0               0.0            NaN               1.0   \n",
       "22656             17369.0               0.0            NaN               1.0   \n",
       "22808              4529.0               0.0            NaN               0.0   \n",
       "23590              4529.0               0.0            NaN               0.0   \n",
       "23658             12082.0               2.0           24.0               1.0   \n",
       "\n",
       "       ponds_nearest  days_exposition  \n",
       "186              NaN             49.0  \n",
       "237            374.0            251.0  \n",
       "457            706.0            727.0  \n",
       "671            374.0            123.0  \n",
       "1757           652.0             77.0  \n",
       "...              ...              ...  \n",
       "22542          853.0            512.0  \n",
       "22656          374.0            127.0  \n",
       "22808            NaN            260.0  \n",
       "23590            NaN            104.0  \n",
       "23658          271.0            246.0  \n",
       "\n",
       "[84 rows x 22 columns]"
      ]
     },
     "execution_count": 52,
     "metadata": {},
     "output_type": "execute_result"
    }
   ],
   "source": [
    "data.query('floors_total.isna()')"
   ]
  },
  {
   "cell_type": "markdown",
   "metadata": {},
   "source": [
    "Гипотеза не подтвердилась: если бы в выдаче присутствовали только помещения на 1 этаже, можно было бы предположить, что речь идет о частных одноэтажных домах.\n",
    "Заполним пропуски медианным значением этажей для домов в том или ином населенном пункте.\n",
    "Однако, для случаев, когда медианное значение окажется ниже, чем высокий этаж в отдельном доме, будем считать, что квартира находится на последнем этаже (лучше так, чем квартира выше общего количества этажей)."
   ]
  },
  {
   "cell_type": "code",
   "execution_count": 53,
   "metadata": {},
   "outputs": [
    {
     "data": {
      "text/plain": [
       "0"
      ]
     },
     "execution_count": 53,
     "metadata": {},
     "output_type": "execute_result"
    }
   ],
   "source": [
    "median_floors = data.groupby('locality_name')['floors_total'].transform('median')\n",
    "for line in data['floor']:\n",
    "    if data['floor'][line] <= median_floors[line]:\n",
    "        data['floors_total'] = data['floors_total'].fillna(median_floors[line])\n",
    "    else:\n",
    "        data['floors_total'] = data['floors_total'].fillna(data['floor'][line])\n",
    "data['floors_total'].isna().sum()"
   ]
  },
  {
   "cell_type": "markdown",
   "metadata": {},
   "source": [
    "4) Пропуски в living_area : проверяем гипотезу, что значение не указано у студий, где жилая площадь и МОП соединены."
   ]
  },
  {
   "cell_type": "code",
   "execution_count": 54,
   "metadata": {
    "scrolled": true
   },
   "outputs": [
    {
     "data": {
      "text/html": [
       "<div>\n",
       "<style scoped>\n",
       "    .dataframe tbody tr th:only-of-type {\n",
       "        vertical-align: middle;\n",
       "    }\n",
       "\n",
       "    .dataframe tbody tr th {\n",
       "        vertical-align: top;\n",
       "    }\n",
       "\n",
       "    .dataframe thead th {\n",
       "        text-align: right;\n",
       "    }\n",
       "</style>\n",
       "<table border=\"1\" class=\"dataframe\">\n",
       "  <thead>\n",
       "    <tr style=\"text-align: right;\">\n",
       "      <th></th>\n",
       "      <th>total_area</th>\n",
       "      <th>living_area</th>\n",
       "    </tr>\n",
       "  </thead>\n",
       "  <tbody>\n",
       "    <tr>\n",
       "      <th>0</th>\n",
       "      <td>108.00</td>\n",
       "      <td>51.0</td>\n",
       "    </tr>\n",
       "    <tr>\n",
       "      <th>1</th>\n",
       "      <td>40.40</td>\n",
       "      <td>18.6</td>\n",
       "    </tr>\n",
       "    <tr>\n",
       "      <th>2</th>\n",
       "      <td>56.00</td>\n",
       "      <td>34.3</td>\n",
       "    </tr>\n",
       "    <tr>\n",
       "      <th>3</th>\n",
       "      <td>159.00</td>\n",
       "      <td>NaN</td>\n",
       "    </tr>\n",
       "    <tr>\n",
       "      <th>4</th>\n",
       "      <td>100.00</td>\n",
       "      <td>32.0</td>\n",
       "    </tr>\n",
       "    <tr>\n",
       "      <th>...</th>\n",
       "      <td>...</td>\n",
       "      <td>...</td>\n",
       "    </tr>\n",
       "    <tr>\n",
       "      <th>23693</th>\n",
       "      <td>62.40</td>\n",
       "      <td>40.0</td>\n",
       "    </tr>\n",
       "    <tr>\n",
       "      <th>23694</th>\n",
       "      <td>133.81</td>\n",
       "      <td>73.3</td>\n",
       "    </tr>\n",
       "    <tr>\n",
       "      <th>23695</th>\n",
       "      <td>59.00</td>\n",
       "      <td>38.0</td>\n",
       "    </tr>\n",
       "    <tr>\n",
       "      <th>23697</th>\n",
       "      <td>76.75</td>\n",
       "      <td>NaN</td>\n",
       "    </tr>\n",
       "    <tr>\n",
       "      <th>23698</th>\n",
       "      <td>32.30</td>\n",
       "      <td>12.3</td>\n",
       "    </tr>\n",
       "  </tbody>\n",
       "</table>\n",
       "<p>23543 rows × 2 columns</p>\n",
       "</div>"
      ],
      "text/plain": [
       "       total_area  living_area\n",
       "0          108.00         51.0\n",
       "1           40.40         18.6\n",
       "2           56.00         34.3\n",
       "3          159.00          NaN\n",
       "4          100.00         32.0\n",
       "...           ...          ...\n",
       "23693       62.40         40.0\n",
       "23694      133.81         73.3\n",
       "23695       59.00         38.0\n",
       "23697       76.75          NaN\n",
       "23698       32.30         12.3\n",
       "\n",
       "[23543 rows x 2 columns]"
      ]
     },
     "metadata": {},
     "output_type": "display_data"
    }
   ],
   "source": [
    "display(data[['total_area', 'living_area']])"
   ]
  },
  {
   "cell_type": "markdown",
   "metadata": {},
   "source": [
    "Гипотеза не подтвердилась: видим в т.ч. квартиры с большой площадью, явно многокомнатные.\n",
    "Оставляем эти пропуски, так как не определить принцип, по которому их заполнять."
   ]
  },
  {
   "cell_type": "markdown",
   "metadata": {},
   "source": [
    "5) столбец is_apartment. Зная, что тип данных в столбце - строки (object), проверим, какие значения в нем встречаются."
   ]
  },
  {
   "cell_type": "code",
   "execution_count": 55,
   "metadata": {},
   "outputs": [
    {
     "data": {
      "text/plain": [
       "array([nan, False, True], dtype=object)"
      ]
     },
     "metadata": {},
     "output_type": "display_data"
    },
    {
     "data": {
      "text/plain": [
       "array([False,  True])"
      ]
     },
     "metadata": {},
     "output_type": "display_data"
    },
    {
     "data": {
      "text/plain": [
       "0"
      ]
     },
     "metadata": {},
     "output_type": "display_data"
    },
    {
     "name": "stdout",
     "output_type": "stream",
     "text": [
      "<class 'pandas.core.frame.DataFrame'>\n",
      "Int64Index: 23543 entries, 0 to 23698\n",
      "Data columns (total 22 columns):\n",
      " #   Column                Non-Null Count  Dtype  \n",
      "---  ------                --------------  -----  \n",
      " 0   total_images          23543 non-null  int64  \n",
      " 1   last_price            23543 non-null  float64\n",
      " 2   total_area            23543 non-null  float64\n",
      " 3   first_day_exposition  23543 non-null  object \n",
      " 4   rooms                 23543 non-null  int64  \n",
      " 5   ceiling_height        23543 non-null  float64\n",
      " 6   floors_total          23543 non-null  float64\n",
      " 7   living_area           21669 non-null  float64\n",
      " 8   floor                 23543 non-null  int64  \n",
      " 9   is_apartment          23543 non-null  bool   \n",
      " 10  studio                23543 non-null  bool   \n",
      " 11  open_plan             23543 non-null  bool   \n",
      " 12  kitchen_area          21302 non-null  float64\n",
      " 13  balcony               23543 non-null  float64\n",
      " 14  locality_name         23529 non-null  object \n",
      " 15  airports_nearest      18123 non-null  float64\n",
      " 16  cityCenters_nearest   18146 non-null  float64\n",
      " 17  parks_around3000      18147 non-null  float64\n",
      " 18  parks_nearest         8071 non-null   float64\n",
      " 19  ponds_around3000      18147 non-null  float64\n",
      " 20  ponds_nearest         9093 non-null   float64\n",
      " 21  days_exposition       20389 non-null  float64\n",
      "dtypes: bool(3), float64(14), int64(3), object(2)\n",
      "memory usage: 4.2+ MB\n"
     ]
    }
   ],
   "source": [
    "display(data['is_apartment'].unique()) # помимо True и False встречаем 'nan'. \n",
    "\n",
    "# Если специально не ввели значение, значит точно не апартаменты. \n",
    "# Избавимся от nan: превратим их в False, а тип данных в столбце - в булев.\n",
    "data['is_apartment'].value_counts()\n",
    "data['is_apartment'] = data['is_apartment'].fillna(False)\n",
    "display(data['is_apartment'].unique())\n",
    "display(data['is_apartment'].isna().sum())\n",
    "\n",
    "data.info() # видим, что столбец is_apartment превратился в булев"
   ]
  },
  {
   "cell_type": "markdown",
   "metadata": {},
   "source": [
    "6) Подобно жилой площади, сверим пропуски в графе \"площадь кухни\" на совпадение со студиями."
   ]
  },
  {
   "cell_type": "code",
   "execution_count": 56,
   "metadata": {},
   "outputs": [
    {
     "data": {
      "text/html": [
       "<div>\n",
       "<style scoped>\n",
       "    .dataframe tbody tr th:only-of-type {\n",
       "        vertical-align: middle;\n",
       "    }\n",
       "\n",
       "    .dataframe tbody tr th {\n",
       "        vertical-align: top;\n",
       "    }\n",
       "\n",
       "    .dataframe thead th {\n",
       "        text-align: right;\n",
       "    }\n",
       "</style>\n",
       "<table border=\"1\" class=\"dataframe\">\n",
       "  <thead>\n",
       "    <tr style=\"text-align: right;\">\n",
       "      <th></th>\n",
       "      <th>total_area</th>\n",
       "      <th>kitchen_area</th>\n",
       "      <th>studio</th>\n",
       "    </tr>\n",
       "  </thead>\n",
       "  <tbody>\n",
       "    <tr>\n",
       "      <th>3</th>\n",
       "      <td>159.0</td>\n",
       "      <td>NaN</td>\n",
       "      <td>False</td>\n",
       "    </tr>\n",
       "    <tr>\n",
       "      <th>30</th>\n",
       "      <td>32.8</td>\n",
       "      <td>NaN</td>\n",
       "      <td>False</td>\n",
       "    </tr>\n",
       "    <tr>\n",
       "      <th>37</th>\n",
       "      <td>45.8</td>\n",
       "      <td>NaN</td>\n",
       "      <td>False</td>\n",
       "    </tr>\n",
       "    <tr>\n",
       "      <th>44</th>\n",
       "      <td>40.0</td>\n",
       "      <td>NaN</td>\n",
       "      <td>False</td>\n",
       "    </tr>\n",
       "    <tr>\n",
       "      <th>59</th>\n",
       "      <td>46.5</td>\n",
       "      <td>NaN</td>\n",
       "      <td>False</td>\n",
       "    </tr>\n",
       "    <tr>\n",
       "      <th>...</th>\n",
       "      <td>...</td>\n",
       "      <td>...</td>\n",
       "      <td>...</td>\n",
       "    </tr>\n",
       "    <tr>\n",
       "      <th>23642</th>\n",
       "      <td>80.3</td>\n",
       "      <td>NaN</td>\n",
       "      <td>False</td>\n",
       "    </tr>\n",
       "    <tr>\n",
       "      <th>23655</th>\n",
       "      <td>40.5</td>\n",
       "      <td>NaN</td>\n",
       "      <td>False</td>\n",
       "    </tr>\n",
       "    <tr>\n",
       "      <th>23663</th>\n",
       "      <td>88.0</td>\n",
       "      <td>NaN</td>\n",
       "      <td>False</td>\n",
       "    </tr>\n",
       "    <tr>\n",
       "      <th>23670</th>\n",
       "      <td>45.6</td>\n",
       "      <td>NaN</td>\n",
       "      <td>False</td>\n",
       "    </tr>\n",
       "    <tr>\n",
       "      <th>23679</th>\n",
       "      <td>35.0</td>\n",
       "      <td>NaN</td>\n",
       "      <td>False</td>\n",
       "    </tr>\n",
       "  </tbody>\n",
       "</table>\n",
       "<p>2241 rows × 3 columns</p>\n",
       "</div>"
      ],
      "text/plain": [
       "       total_area  kitchen_area  studio\n",
       "3           159.0           NaN   False\n",
       "30           32.8           NaN   False\n",
       "37           45.8           NaN   False\n",
       "44           40.0           NaN   False\n",
       "59           46.5           NaN   False\n",
       "...           ...           ...     ...\n",
       "23642        80.3           NaN   False\n",
       "23655        40.5           NaN   False\n",
       "23663        88.0           NaN   False\n",
       "23670        45.6           NaN   False\n",
       "23679        35.0           NaN   False\n",
       "\n",
       "[2241 rows x 3 columns]"
      ]
     },
     "metadata": {},
     "output_type": "display_data"
    }
   ],
   "source": [
    "display(data[['total_area', 'kitchen_area', 'studio']].query('kitchen_area.isna()'))\n",
    "# гипотеза вновь не подтвердилась, чем можно было бы заполнить значения - непонятно, так как площадь кухни тоже не зависит от \"средней по больнице\""
   ]
  },
  {
   "cell_type": "markdown",
   "metadata": {},
   "source": [
    "7. Столбец locality_name. \n",
    "Даже если в глаза бросаются несколько совпадений в строках без locality_name и на расстоянии 22041.0 от аэропорта, а остальные строки с этим расстоянием - в Санкт-Петербурге, их количество ничтожно мало (как и общее количество пропусков по locality_name - 49), так что можно не выдумывать сложную функцию для их заполнения. Просто удалим эти строки."
   ]
  },
  {
   "cell_type": "code",
   "execution_count": 57,
   "metadata": {
    "scrolled": true
   },
   "outputs": [
    {
     "data": {
      "text/html": [
       "<div>\n",
       "<style scoped>\n",
       "    .dataframe tbody tr th:only-of-type {\n",
       "        vertical-align: middle;\n",
       "    }\n",
       "\n",
       "    .dataframe tbody tr th {\n",
       "        vertical-align: top;\n",
       "    }\n",
       "\n",
       "    .dataframe thead th {\n",
       "        text-align: right;\n",
       "    }\n",
       "</style>\n",
       "<table border=\"1\" class=\"dataframe\">\n",
       "  <thead>\n",
       "    <tr style=\"text-align: right;\">\n",
       "      <th></th>\n",
       "      <th>total_images</th>\n",
       "      <th>last_price</th>\n",
       "      <th>total_area</th>\n",
       "      <th>first_day_exposition</th>\n",
       "      <th>rooms</th>\n",
       "      <th>ceiling_height</th>\n",
       "      <th>floors_total</th>\n",
       "      <th>living_area</th>\n",
       "      <th>floor</th>\n",
       "      <th>is_apartment</th>\n",
       "      <th>...</th>\n",
       "      <th>kitchen_area</th>\n",
       "      <th>balcony</th>\n",
       "      <th>locality_name</th>\n",
       "      <th>airports_nearest</th>\n",
       "      <th>cityCenters_nearest</th>\n",
       "      <th>parks_around3000</th>\n",
       "      <th>parks_nearest</th>\n",
       "      <th>ponds_around3000</th>\n",
       "      <th>ponds_nearest</th>\n",
       "      <th>days_exposition</th>\n",
       "    </tr>\n",
       "  </thead>\n",
       "  <tbody>\n",
       "    <tr>\n",
       "      <th>1097</th>\n",
       "      <td>3</td>\n",
       "      <td>8600000.0</td>\n",
       "      <td>81.7</td>\n",
       "      <td>2016-04-15T00:00:00</td>\n",
       "      <td>3</td>\n",
       "      <td>3.55</td>\n",
       "      <td>5.0</td>\n",
       "      <td>50.80</td>\n",
       "      <td>2</td>\n",
       "      <td>False</td>\n",
       "      <td>...</td>\n",
       "      <td>8.80</td>\n",
       "      <td>0.0</td>\n",
       "      <td>NaN</td>\n",
       "      <td>23478.0</td>\n",
       "      <td>4258.0</td>\n",
       "      <td>0.0</td>\n",
       "      <td>NaN</td>\n",
       "      <td>0.0</td>\n",
       "      <td>NaN</td>\n",
       "      <td>147.0</td>\n",
       "    </tr>\n",
       "    <tr>\n",
       "      <th>4151</th>\n",
       "      <td>17</td>\n",
       "      <td>17600000.0</td>\n",
       "      <td>89.5</td>\n",
       "      <td>2014-12-09T00:00:00</td>\n",
       "      <td>2</td>\n",
       "      <td>3.00</td>\n",
       "      <td>8.0</td>\n",
       "      <td>39.62</td>\n",
       "      <td>7</td>\n",
       "      <td>False</td>\n",
       "      <td>...</td>\n",
       "      <td>13.38</td>\n",
       "      <td>0.0</td>\n",
       "      <td>NaN</td>\n",
       "      <td>25054.0</td>\n",
       "      <td>3902.0</td>\n",
       "      <td>1.0</td>\n",
       "      <td>485.0</td>\n",
       "      <td>3.0</td>\n",
       "      <td>722.0</td>\n",
       "      <td>869.0</td>\n",
       "    </tr>\n",
       "    <tr>\n",
       "      <th>4189</th>\n",
       "      <td>7</td>\n",
       "      <td>9200000.0</td>\n",
       "      <td>80.0</td>\n",
       "      <td>2015-12-10T00:00:00</td>\n",
       "      <td>3</td>\n",
       "      <td>4.00</td>\n",
       "      <td>4.0</td>\n",
       "      <td>52.30</td>\n",
       "      <td>3</td>\n",
       "      <td>False</td>\n",
       "      <td>...</td>\n",
       "      <td>10.40</td>\n",
       "      <td>0.0</td>\n",
       "      <td>NaN</td>\n",
       "      <td>21774.0</td>\n",
       "      <td>3039.0</td>\n",
       "      <td>1.0</td>\n",
       "      <td>690.0</td>\n",
       "      <td>1.0</td>\n",
       "      <td>953.0</td>\n",
       "      <td>223.0</td>\n",
       "    </tr>\n",
       "    <tr>\n",
       "      <th>9821</th>\n",
       "      <td>13</td>\n",
       "      <td>8000000.0</td>\n",
       "      <td>94.5</td>\n",
       "      <td>2015-01-21T00:00:00</td>\n",
       "      <td>4</td>\n",
       "      <td>3.00</td>\n",
       "      <td>2.0</td>\n",
       "      <td>57.80</td>\n",
       "      <td>2</td>\n",
       "      <td>False</td>\n",
       "      <td>...</td>\n",
       "      <td>11.30</td>\n",
       "      <td>0.0</td>\n",
       "      <td>NaN</td>\n",
       "      <td>24953.0</td>\n",
       "      <td>3801.0</td>\n",
       "      <td>1.0</td>\n",
       "      <td>375.0</td>\n",
       "      <td>2.0</td>\n",
       "      <td>532.0</td>\n",
       "      <td>531.0</td>\n",
       "    </tr>\n",
       "    <tr>\n",
       "      <th>13223</th>\n",
       "      <td>1</td>\n",
       "      <td>2919911.0</td>\n",
       "      <td>29.4</td>\n",
       "      <td>2015-03-12T00:00:00</td>\n",
       "      <td>1</td>\n",
       "      <td>2.75</td>\n",
       "      <td>24.0</td>\n",
       "      <td>21.10</td>\n",
       "      <td>2</td>\n",
       "      <td>False</td>\n",
       "      <td>...</td>\n",
       "      <td>NaN</td>\n",
       "      <td>0.0</td>\n",
       "      <td>NaN</td>\n",
       "      <td>22041.0</td>\n",
       "      <td>17369.0</td>\n",
       "      <td>0.0</td>\n",
       "      <td>NaN</td>\n",
       "      <td>1.0</td>\n",
       "      <td>374.0</td>\n",
       "      <td>470.0</td>\n",
       "    </tr>\n",
       "    <tr>\n",
       "      <th>13690</th>\n",
       "      <td>7</td>\n",
       "      <td>3500000.0</td>\n",
       "      <td>71.0</td>\n",
       "      <td>2016-06-23T00:00:00</td>\n",
       "      <td>3</td>\n",
       "      <td>2.75</td>\n",
       "      <td>2.0</td>\n",
       "      <td>45.60</td>\n",
       "      <td>1</td>\n",
       "      <td>False</td>\n",
       "      <td>...</td>\n",
       "      <td>8.00</td>\n",
       "      <td>2.0</td>\n",
       "      <td>NaN</td>\n",
       "      <td>20234.0</td>\n",
       "      <td>23659.0</td>\n",
       "      <td>0.0</td>\n",
       "      <td>NaN</td>\n",
       "      <td>2.0</td>\n",
       "      <td>296.0</td>\n",
       "      <td>92.0</td>\n",
       "    </tr>\n",
       "    <tr>\n",
       "      <th>14273</th>\n",
       "      <td>2</td>\n",
       "      <td>4422000.0</td>\n",
       "      <td>60.0</td>\n",
       "      <td>2016-03-23T00:00:00</td>\n",
       "      <td>2</td>\n",
       "      <td>2.75</td>\n",
       "      <td>23.0</td>\n",
       "      <td>32.00</td>\n",
       "      <td>14</td>\n",
       "      <td>False</td>\n",
       "      <td>...</td>\n",
       "      <td>11.90</td>\n",
       "      <td>0.0</td>\n",
       "      <td>NaN</td>\n",
       "      <td>22041.0</td>\n",
       "      <td>17369.0</td>\n",
       "      <td>0.0</td>\n",
       "      <td>NaN</td>\n",
       "      <td>1.0</td>\n",
       "      <td>374.0</td>\n",
       "      <td>90.0</td>\n",
       "    </tr>\n",
       "    <tr>\n",
       "      <th>15866</th>\n",
       "      <td>10</td>\n",
       "      <td>3950000.0</td>\n",
       "      <td>44.0</td>\n",
       "      <td>2016-04-16T00:00:00</td>\n",
       "      <td>2</td>\n",
       "      <td>2.70</td>\n",
       "      <td>5.0</td>\n",
       "      <td>28.50</td>\n",
       "      <td>5</td>\n",
       "      <td>False</td>\n",
       "      <td>...</td>\n",
       "      <td>5.50</td>\n",
       "      <td>1.0</td>\n",
       "      <td>NaN</td>\n",
       "      <td>36380.0</td>\n",
       "      <td>9497.0</td>\n",
       "      <td>1.0</td>\n",
       "      <td>634.0</td>\n",
       "      <td>3.0</td>\n",
       "      <td>513.0</td>\n",
       "      <td>85.0</td>\n",
       "    </tr>\n",
       "    <tr>\n",
       "      <th>16610</th>\n",
       "      <td>11</td>\n",
       "      <td>11940000.0</td>\n",
       "      <td>112.0</td>\n",
       "      <td>2015-11-19T00:00:00</td>\n",
       "      <td>3</td>\n",
       "      <td>3.00</td>\n",
       "      <td>5.0</td>\n",
       "      <td>64.00</td>\n",
       "      <td>2</td>\n",
       "      <td>False</td>\n",
       "      <td>...</td>\n",
       "      <td>23.00</td>\n",
       "      <td>0.0</td>\n",
       "      <td>NaN</td>\n",
       "      <td>21219.0</td>\n",
       "      <td>1322.0</td>\n",
       "      <td>1.0</td>\n",
       "      <td>740.0</td>\n",
       "      <td>3.0</td>\n",
       "      <td>365.0</td>\n",
       "      <td>319.0</td>\n",
       "    </tr>\n",
       "    <tr>\n",
       "      <th>18526</th>\n",
       "      <td>3</td>\n",
       "      <td>10800000.0</td>\n",
       "      <td>86.0</td>\n",
       "      <td>2016-06-24T00:00:00</td>\n",
       "      <td>4</td>\n",
       "      <td>3.20</td>\n",
       "      <td>7.0</td>\n",
       "      <td>48.00</td>\n",
       "      <td>2</td>\n",
       "      <td>False</td>\n",
       "      <td>...</td>\n",
       "      <td>12.00</td>\n",
       "      <td>0.0</td>\n",
       "      <td>NaN</td>\n",
       "      <td>11206.0</td>\n",
       "      <td>8943.0</td>\n",
       "      <td>0.0</td>\n",
       "      <td>NaN</td>\n",
       "      <td>0.0</td>\n",
       "      <td>NaN</td>\n",
       "      <td>65.0</td>\n",
       "    </tr>\n",
       "    <tr>\n",
       "      <th>19045</th>\n",
       "      <td>6</td>\n",
       "      <td>4650000.0</td>\n",
       "      <td>48.0</td>\n",
       "      <td>2016-01-25T00:00:00</td>\n",
       "      <td>2</td>\n",
       "      <td>3.12</td>\n",
       "      <td>5.0</td>\n",
       "      <td>26.20</td>\n",
       "      <td>1</td>\n",
       "      <td>False</td>\n",
       "      <td>...</td>\n",
       "      <td>8.00</td>\n",
       "      <td>0.0</td>\n",
       "      <td>NaN</td>\n",
       "      <td>21654.0</td>\n",
       "      <td>3312.0</td>\n",
       "      <td>1.0</td>\n",
       "      <td>549.0</td>\n",
       "      <td>1.0</td>\n",
       "      <td>858.0</td>\n",
       "      <td>254.0</td>\n",
       "    </tr>\n",
       "    <tr>\n",
       "      <th>20590</th>\n",
       "      <td>7</td>\n",
       "      <td>3380000.0</td>\n",
       "      <td>56.0</td>\n",
       "      <td>2017-11-06T00:00:00</td>\n",
       "      <td>2</td>\n",
       "      <td>2.70</td>\n",
       "      <td>4.0</td>\n",
       "      <td>29.00</td>\n",
       "      <td>3</td>\n",
       "      <td>False</td>\n",
       "      <td>...</td>\n",
       "      <td>10.00</td>\n",
       "      <td>1.0</td>\n",
       "      <td>NaN</td>\n",
       "      <td>NaN</td>\n",
       "      <td>NaN</td>\n",
       "      <td>NaN</td>\n",
       "      <td>NaN</td>\n",
       "      <td>NaN</td>\n",
       "      <td>NaN</td>\n",
       "      <td>78.0</td>\n",
       "    </tr>\n",
       "    <tr>\n",
       "      <th>22474</th>\n",
       "      <td>7</td>\n",
       "      <td>24000000.0</td>\n",
       "      <td>128.0</td>\n",
       "      <td>2015-07-24T00:00:00</td>\n",
       "      <td>4</td>\n",
       "      <td>2.75</td>\n",
       "      <td>6.0</td>\n",
       "      <td>68.40</td>\n",
       "      <td>6</td>\n",
       "      <td>False</td>\n",
       "      <td>...</td>\n",
       "      <td>16.50</td>\n",
       "      <td>0.0</td>\n",
       "      <td>NaN</td>\n",
       "      <td>23297.0</td>\n",
       "      <td>1780.0</td>\n",
       "      <td>3.0</td>\n",
       "      <td>277.0</td>\n",
       "      <td>3.0</td>\n",
       "      <td>561.0</td>\n",
       "      <td>436.0</td>\n",
       "    </tr>\n",
       "    <tr>\n",
       "      <th>22717</th>\n",
       "      <td>9</td>\n",
       "      <td>3000000.0</td>\n",
       "      <td>35.0</td>\n",
       "      <td>2018-01-02T00:00:00</td>\n",
       "      <td>1</td>\n",
       "      <td>2.60</td>\n",
       "      <td>16.0</td>\n",
       "      <td>16.00</td>\n",
       "      <td>7</td>\n",
       "      <td>False</td>\n",
       "      <td>...</td>\n",
       "      <td>10.00</td>\n",
       "      <td>1.0</td>\n",
       "      <td>NaN</td>\n",
       "      <td>NaN</td>\n",
       "      <td>NaN</td>\n",
       "      <td>NaN</td>\n",
       "      <td>NaN</td>\n",
       "      <td>NaN</td>\n",
       "      <td>NaN</td>\n",
       "      <td>75.0</td>\n",
       "    </tr>\n",
       "  </tbody>\n",
       "</table>\n",
       "<p>14 rows × 22 columns</p>\n",
       "</div>"
      ],
      "text/plain": [
       "       total_images  last_price  total_area first_day_exposition  rooms  \\\n",
       "1097              3   8600000.0        81.7  2016-04-15T00:00:00      3   \n",
       "4151             17  17600000.0        89.5  2014-12-09T00:00:00      2   \n",
       "4189              7   9200000.0        80.0  2015-12-10T00:00:00      3   \n",
       "9821             13   8000000.0        94.5  2015-01-21T00:00:00      4   \n",
       "13223             1   2919911.0        29.4  2015-03-12T00:00:00      1   \n",
       "13690             7   3500000.0        71.0  2016-06-23T00:00:00      3   \n",
       "14273             2   4422000.0        60.0  2016-03-23T00:00:00      2   \n",
       "15866            10   3950000.0        44.0  2016-04-16T00:00:00      2   \n",
       "16610            11  11940000.0       112.0  2015-11-19T00:00:00      3   \n",
       "18526             3  10800000.0        86.0  2016-06-24T00:00:00      4   \n",
       "19045             6   4650000.0        48.0  2016-01-25T00:00:00      2   \n",
       "20590             7   3380000.0        56.0  2017-11-06T00:00:00      2   \n",
       "22474             7  24000000.0       128.0  2015-07-24T00:00:00      4   \n",
       "22717             9   3000000.0        35.0  2018-01-02T00:00:00      1   \n",
       "\n",
       "       ceiling_height  floors_total  living_area  floor  is_apartment  ...  \\\n",
       "1097             3.55           5.0        50.80      2         False  ...   \n",
       "4151             3.00           8.0        39.62      7         False  ...   \n",
       "4189             4.00           4.0        52.30      3         False  ...   \n",
       "9821             3.00           2.0        57.80      2         False  ...   \n",
       "13223            2.75          24.0        21.10      2         False  ...   \n",
       "13690            2.75           2.0        45.60      1         False  ...   \n",
       "14273            2.75          23.0        32.00     14         False  ...   \n",
       "15866            2.70           5.0        28.50      5         False  ...   \n",
       "16610            3.00           5.0        64.00      2         False  ...   \n",
       "18526            3.20           7.0        48.00      2         False  ...   \n",
       "19045            3.12           5.0        26.20      1         False  ...   \n",
       "20590            2.70           4.0        29.00      3         False  ...   \n",
       "22474            2.75           6.0        68.40      6         False  ...   \n",
       "22717            2.60          16.0        16.00      7         False  ...   \n",
       "\n",
       "       kitchen_area  balcony  locality_name  airports_nearest  \\\n",
       "1097           8.80      0.0            NaN           23478.0   \n",
       "4151          13.38      0.0            NaN           25054.0   \n",
       "4189          10.40      0.0            NaN           21774.0   \n",
       "9821          11.30      0.0            NaN           24953.0   \n",
       "13223           NaN      0.0            NaN           22041.0   \n",
       "13690          8.00      2.0            NaN           20234.0   \n",
       "14273         11.90      0.0            NaN           22041.0   \n",
       "15866          5.50      1.0            NaN           36380.0   \n",
       "16610         23.00      0.0            NaN           21219.0   \n",
       "18526         12.00      0.0            NaN           11206.0   \n",
       "19045          8.00      0.0            NaN           21654.0   \n",
       "20590         10.00      1.0            NaN               NaN   \n",
       "22474         16.50      0.0            NaN           23297.0   \n",
       "22717         10.00      1.0            NaN               NaN   \n",
       "\n",
       "      cityCenters_nearest  parks_around3000  parks_nearest  ponds_around3000  \\\n",
       "1097               4258.0               0.0            NaN               0.0   \n",
       "4151               3902.0               1.0          485.0               3.0   \n",
       "4189               3039.0               1.0          690.0               1.0   \n",
       "9821               3801.0               1.0          375.0               2.0   \n",
       "13223             17369.0               0.0            NaN               1.0   \n",
       "13690             23659.0               0.0            NaN               2.0   \n",
       "14273             17369.0               0.0            NaN               1.0   \n",
       "15866              9497.0               1.0          634.0               3.0   \n",
       "16610              1322.0               1.0          740.0               3.0   \n",
       "18526              8943.0               0.0            NaN               0.0   \n",
       "19045              3312.0               1.0          549.0               1.0   \n",
       "20590                 NaN               NaN            NaN               NaN   \n",
       "22474              1780.0               3.0          277.0               3.0   \n",
       "22717                 NaN               NaN            NaN               NaN   \n",
       "\n",
       "       ponds_nearest  days_exposition  \n",
       "1097             NaN            147.0  \n",
       "4151           722.0            869.0  \n",
       "4189           953.0            223.0  \n",
       "9821           532.0            531.0  \n",
       "13223          374.0            470.0  \n",
       "13690          296.0             92.0  \n",
       "14273          374.0             90.0  \n",
       "15866          513.0             85.0  \n",
       "16610          365.0            319.0  \n",
       "18526            NaN             65.0  \n",
       "19045          858.0            254.0  \n",
       "20590            NaN             78.0  \n",
       "22474          561.0            436.0  \n",
       "22717            NaN             75.0  \n",
       "\n",
       "[14 rows x 22 columns]"
      ]
     },
     "metadata": {},
     "output_type": "display_data"
    }
   ],
   "source": [
    "\n",
    "display(data.query('locality_name.isna()'))\n",
    "data.query('airports_nearest == 22041.0')\n",
    "\n",
    "data = data.dropna(subset=['locality_name'])"
   ]
  },
  {
   "cell_type": "markdown",
   "metadata": {},
   "source": [
    "С другими \"географическими\" столбцами ситуация похожая: совершенно непонятно, как их заполнять, кроме как считать по карте расстояния. При этом, количество пропусков везде примерно одинаковое (в районе 5500).\n",
    "\n",
    "Что касается parks_nearest и ponds_nearest, пропуски в них обусловлены отсутствием парков/водоемов поблизости (то есть 0 в предыдущем столбце), а заполнить их нельзя, так как 0 в метрах будет значить, что квартира находится прямо в озере/парке, что невозможно."
   ]
  },
  {
   "cell_type": "code",
   "execution_count": 58,
   "metadata": {
    "scrolled": true
   },
   "outputs": [
    {
     "data": {
      "text/html": [
       "<div>\n",
       "<style scoped>\n",
       "    .dataframe tbody tr th:only-of-type {\n",
       "        vertical-align: middle;\n",
       "    }\n",
       "\n",
       "    .dataframe tbody tr th {\n",
       "        vertical-align: top;\n",
       "    }\n",
       "\n",
       "    .dataframe thead th {\n",
       "        text-align: right;\n",
       "    }\n",
       "</style>\n",
       "<table border=\"1\" class=\"dataframe\">\n",
       "  <thead>\n",
       "    <tr style=\"text-align: right;\">\n",
       "      <th></th>\n",
       "      <th>total_images</th>\n",
       "      <th>last_price</th>\n",
       "      <th>total_area</th>\n",
       "      <th>first_day_exposition</th>\n",
       "      <th>rooms</th>\n",
       "      <th>ceiling_height</th>\n",
       "      <th>floors_total</th>\n",
       "      <th>living_area</th>\n",
       "      <th>floor</th>\n",
       "      <th>is_apartment</th>\n",
       "      <th>...</th>\n",
       "      <th>kitchen_area</th>\n",
       "      <th>balcony</th>\n",
       "      <th>locality_name</th>\n",
       "      <th>airports_nearest</th>\n",
       "      <th>cityCenters_nearest</th>\n",
       "      <th>parks_around3000</th>\n",
       "      <th>parks_nearest</th>\n",
       "      <th>ponds_around3000</th>\n",
       "      <th>ponds_nearest</th>\n",
       "      <th>days_exposition</th>\n",
       "    </tr>\n",
       "  </thead>\n",
       "  <tbody>\n",
       "    <tr>\n",
       "      <th>5</th>\n",
       "      <td>10</td>\n",
       "      <td>2890000.0</td>\n",
       "      <td>30.40</td>\n",
       "      <td>2018-09-10T00:00:00</td>\n",
       "      <td>1</td>\n",
       "      <td>2.60</td>\n",
       "      <td>12.0</td>\n",
       "      <td>14.40</td>\n",
       "      <td>5</td>\n",
       "      <td>False</td>\n",
       "      <td>...</td>\n",
       "      <td>9.10</td>\n",
       "      <td>0.0</td>\n",
       "      <td>городской посёлок Янино-1</td>\n",
       "      <td>NaN</td>\n",
       "      <td>NaN</td>\n",
       "      <td>NaN</td>\n",
       "      <td>NaN</td>\n",
       "      <td>NaN</td>\n",
       "      <td>NaN</td>\n",
       "      <td>55.0</td>\n",
       "    </tr>\n",
       "    <tr>\n",
       "      <th>8</th>\n",
       "      <td>20</td>\n",
       "      <td>2900000.0</td>\n",
       "      <td>33.16</td>\n",
       "      <td>2018-05-23T00:00:00</td>\n",
       "      <td>1</td>\n",
       "      <td>2.70</td>\n",
       "      <td>27.0</td>\n",
       "      <td>15.43</td>\n",
       "      <td>26</td>\n",
       "      <td>False</td>\n",
       "      <td>...</td>\n",
       "      <td>8.81</td>\n",
       "      <td>0.0</td>\n",
       "      <td>посёлок Мурино</td>\n",
       "      <td>NaN</td>\n",
       "      <td>NaN</td>\n",
       "      <td>NaN</td>\n",
       "      <td>NaN</td>\n",
       "      <td>NaN</td>\n",
       "      <td>NaN</td>\n",
       "      <td>189.0</td>\n",
       "    </tr>\n",
       "    <tr>\n",
       "      <th>12</th>\n",
       "      <td>10</td>\n",
       "      <td>3890000.0</td>\n",
       "      <td>54.00</td>\n",
       "      <td>2016-06-30T00:00:00</td>\n",
       "      <td>2</td>\n",
       "      <td>2.60</td>\n",
       "      <td>5.0</td>\n",
       "      <td>30.00</td>\n",
       "      <td>5</td>\n",
       "      <td>False</td>\n",
       "      <td>...</td>\n",
       "      <td>9.00</td>\n",
       "      <td>0.0</td>\n",
       "      <td>Сертолово</td>\n",
       "      <td>NaN</td>\n",
       "      <td>NaN</td>\n",
       "      <td>NaN</td>\n",
       "      <td>NaN</td>\n",
       "      <td>NaN</td>\n",
       "      <td>NaN</td>\n",
       "      <td>90.0</td>\n",
       "    </tr>\n",
       "    <tr>\n",
       "      <th>22</th>\n",
       "      <td>20</td>\n",
       "      <td>5000000.0</td>\n",
       "      <td>58.00</td>\n",
       "      <td>2017-04-24T00:00:00</td>\n",
       "      <td>2</td>\n",
       "      <td>2.75</td>\n",
       "      <td>25.0</td>\n",
       "      <td>30.00</td>\n",
       "      <td>15</td>\n",
       "      <td>False</td>\n",
       "      <td>...</td>\n",
       "      <td>11.00</td>\n",
       "      <td>2.0</td>\n",
       "      <td>деревня Кудрово</td>\n",
       "      <td>NaN</td>\n",
       "      <td>NaN</td>\n",
       "      <td>NaN</td>\n",
       "      <td>NaN</td>\n",
       "      <td>NaN</td>\n",
       "      <td>NaN</td>\n",
       "      <td>60.0</td>\n",
       "    </tr>\n",
       "    <tr>\n",
       "      <th>30</th>\n",
       "      <td>12</td>\n",
       "      <td>2200000.0</td>\n",
       "      <td>32.80</td>\n",
       "      <td>2018-02-19T00:00:00</td>\n",
       "      <td>1</td>\n",
       "      <td>2.56</td>\n",
       "      <td>9.0</td>\n",
       "      <td>NaN</td>\n",
       "      <td>2</td>\n",
       "      <td>False</td>\n",
       "      <td>...</td>\n",
       "      <td>NaN</td>\n",
       "      <td>0.0</td>\n",
       "      <td>Коммунар</td>\n",
       "      <td>NaN</td>\n",
       "      <td>NaN</td>\n",
       "      <td>NaN</td>\n",
       "      <td>NaN</td>\n",
       "      <td>NaN</td>\n",
       "      <td>NaN</td>\n",
       "      <td>63.0</td>\n",
       "    </tr>\n",
       "    <tr>\n",
       "      <th>...</th>\n",
       "      <td>...</td>\n",
       "      <td>...</td>\n",
       "      <td>...</td>\n",
       "      <td>...</td>\n",
       "      <td>...</td>\n",
       "      <td>...</td>\n",
       "      <td>...</td>\n",
       "      <td>...</td>\n",
       "      <td>...</td>\n",
       "      <td>...</td>\n",
       "      <td>...</td>\n",
       "      <td>...</td>\n",
       "      <td>...</td>\n",
       "      <td>...</td>\n",
       "      <td>...</td>\n",
       "      <td>...</td>\n",
       "      <td>...</td>\n",
       "      <td>...</td>\n",
       "      <td>...</td>\n",
       "      <td>...</td>\n",
       "      <td>...</td>\n",
       "    </tr>\n",
       "    <tr>\n",
       "      <th>23682</th>\n",
       "      <td>11</td>\n",
       "      <td>2350000.0</td>\n",
       "      <td>35.60</td>\n",
       "      <td>2016-06-23T00:00:00</td>\n",
       "      <td>1</td>\n",
       "      <td>2.50</td>\n",
       "      <td>5.0</td>\n",
       "      <td>17.00</td>\n",
       "      <td>4</td>\n",
       "      <td>False</td>\n",
       "      <td>...</td>\n",
       "      <td>8.30</td>\n",
       "      <td>2.0</td>\n",
       "      <td>Выборг</td>\n",
       "      <td>NaN</td>\n",
       "      <td>NaN</td>\n",
       "      <td>NaN</td>\n",
       "      <td>NaN</td>\n",
       "      <td>NaN</td>\n",
       "      <td>NaN</td>\n",
       "      <td>40.0</td>\n",
       "    </tr>\n",
       "    <tr>\n",
       "      <th>23683</th>\n",
       "      <td>16</td>\n",
       "      <td>2100000.0</td>\n",
       "      <td>62.80</td>\n",
       "      <td>2018-09-18T00:00:00</td>\n",
       "      <td>4</td>\n",
       "      <td>2.50</td>\n",
       "      <td>5.0</td>\n",
       "      <td>45.50</td>\n",
       "      <td>3</td>\n",
       "      <td>False</td>\n",
       "      <td>...</td>\n",
       "      <td>5.50</td>\n",
       "      <td>0.0</td>\n",
       "      <td>посёлок Дзержинского</td>\n",
       "      <td>NaN</td>\n",
       "      <td>NaN</td>\n",
       "      <td>NaN</td>\n",
       "      <td>NaN</td>\n",
       "      <td>NaN</td>\n",
       "      <td>NaN</td>\n",
       "      <td>NaN</td>\n",
       "    </tr>\n",
       "    <tr>\n",
       "      <th>23692</th>\n",
       "      <td>2</td>\n",
       "      <td>1350000.0</td>\n",
       "      <td>30.00</td>\n",
       "      <td>2017-07-07T00:00:00</td>\n",
       "      <td>1</td>\n",
       "      <td>2.60</td>\n",
       "      <td>5.0</td>\n",
       "      <td>17.50</td>\n",
       "      <td>4</td>\n",
       "      <td>False</td>\n",
       "      <td>...</td>\n",
       "      <td>6.00</td>\n",
       "      <td>0.0</td>\n",
       "      <td>Тихвин</td>\n",
       "      <td>NaN</td>\n",
       "      <td>NaN</td>\n",
       "      <td>NaN</td>\n",
       "      <td>NaN</td>\n",
       "      <td>NaN</td>\n",
       "      <td>NaN</td>\n",
       "      <td>413.0</td>\n",
       "    </tr>\n",
       "    <tr>\n",
       "      <th>23695</th>\n",
       "      <td>14</td>\n",
       "      <td>3100000.0</td>\n",
       "      <td>59.00</td>\n",
       "      <td>2018-01-15T00:00:00</td>\n",
       "      <td>3</td>\n",
       "      <td>2.50</td>\n",
       "      <td>5.0</td>\n",
       "      <td>38.00</td>\n",
       "      <td>4</td>\n",
       "      <td>False</td>\n",
       "      <td>...</td>\n",
       "      <td>8.50</td>\n",
       "      <td>0.0</td>\n",
       "      <td>Тосно</td>\n",
       "      <td>NaN</td>\n",
       "      <td>NaN</td>\n",
       "      <td>NaN</td>\n",
       "      <td>NaN</td>\n",
       "      <td>NaN</td>\n",
       "      <td>NaN</td>\n",
       "      <td>45.0</td>\n",
       "    </tr>\n",
       "    <tr>\n",
       "      <th>23698</th>\n",
       "      <td>4</td>\n",
       "      <td>1350000.0</td>\n",
       "      <td>32.30</td>\n",
       "      <td>2017-07-21T00:00:00</td>\n",
       "      <td>1</td>\n",
       "      <td>2.50</td>\n",
       "      <td>5.0</td>\n",
       "      <td>12.30</td>\n",
       "      <td>1</td>\n",
       "      <td>False</td>\n",
       "      <td>...</td>\n",
       "      <td>9.00</td>\n",
       "      <td>0.0</td>\n",
       "      <td>поселок Новый Учхоз</td>\n",
       "      <td>NaN</td>\n",
       "      <td>NaN</td>\n",
       "      <td>NaN</td>\n",
       "      <td>NaN</td>\n",
       "      <td>NaN</td>\n",
       "      <td>NaN</td>\n",
       "      <td>NaN</td>\n",
       "    </tr>\n",
       "  </tbody>\n",
       "</table>\n",
       "<p>5418 rows × 22 columns</p>\n",
       "</div>"
      ],
      "text/plain": [
       "       total_images  last_price  total_area first_day_exposition  rooms  \\\n",
       "5                10   2890000.0       30.40  2018-09-10T00:00:00      1   \n",
       "8                20   2900000.0       33.16  2018-05-23T00:00:00      1   \n",
       "12               10   3890000.0       54.00  2016-06-30T00:00:00      2   \n",
       "22               20   5000000.0       58.00  2017-04-24T00:00:00      2   \n",
       "30               12   2200000.0       32.80  2018-02-19T00:00:00      1   \n",
       "...             ...         ...         ...                  ...    ...   \n",
       "23682            11   2350000.0       35.60  2016-06-23T00:00:00      1   \n",
       "23683            16   2100000.0       62.80  2018-09-18T00:00:00      4   \n",
       "23692             2   1350000.0       30.00  2017-07-07T00:00:00      1   \n",
       "23695            14   3100000.0       59.00  2018-01-15T00:00:00      3   \n",
       "23698             4   1350000.0       32.30  2017-07-21T00:00:00      1   \n",
       "\n",
       "       ceiling_height  floors_total  living_area  floor  is_apartment  ...  \\\n",
       "5                2.60          12.0        14.40      5         False  ...   \n",
       "8                2.70          27.0        15.43     26         False  ...   \n",
       "12               2.60           5.0        30.00      5         False  ...   \n",
       "22               2.75          25.0        30.00     15         False  ...   \n",
       "30               2.56           9.0          NaN      2         False  ...   \n",
       "...               ...           ...          ...    ...           ...  ...   \n",
       "23682            2.50           5.0        17.00      4         False  ...   \n",
       "23683            2.50           5.0        45.50      3         False  ...   \n",
       "23692            2.60           5.0        17.50      4         False  ...   \n",
       "23695            2.50           5.0        38.00      4         False  ...   \n",
       "23698            2.50           5.0        12.30      1         False  ...   \n",
       "\n",
       "       kitchen_area  balcony              locality_name  airports_nearest  \\\n",
       "5              9.10      0.0  городской посёлок Янино-1               NaN   \n",
       "8              8.81      0.0             посёлок Мурино               NaN   \n",
       "12             9.00      0.0                  Сертолово               NaN   \n",
       "22            11.00      2.0            деревня Кудрово               NaN   \n",
       "30              NaN      0.0                   Коммунар               NaN   \n",
       "...             ...      ...                        ...               ...   \n",
       "23682          8.30      2.0                     Выборг               NaN   \n",
       "23683          5.50      0.0       посёлок Дзержинского               NaN   \n",
       "23692          6.00      0.0                     Тихвин               NaN   \n",
       "23695          8.50      0.0                      Тосно               NaN   \n",
       "23698          9.00      0.0        поселок Новый Учхоз               NaN   \n",
       "\n",
       "      cityCenters_nearest  parks_around3000  parks_nearest  ponds_around3000  \\\n",
       "5                     NaN               NaN            NaN               NaN   \n",
       "8                     NaN               NaN            NaN               NaN   \n",
       "12                    NaN               NaN            NaN               NaN   \n",
       "22                    NaN               NaN            NaN               NaN   \n",
       "30                    NaN               NaN            NaN               NaN   \n",
       "...                   ...               ...            ...               ...   \n",
       "23682                 NaN               NaN            NaN               NaN   \n",
       "23683                 NaN               NaN            NaN               NaN   \n",
       "23692                 NaN               NaN            NaN               NaN   \n",
       "23695                 NaN               NaN            NaN               NaN   \n",
       "23698                 NaN               NaN            NaN               NaN   \n",
       "\n",
       "       ponds_nearest  days_exposition  \n",
       "5                NaN             55.0  \n",
       "8                NaN            189.0  \n",
       "12               NaN             90.0  \n",
       "22               NaN             60.0  \n",
       "30               NaN             63.0  \n",
       "...              ...              ...  \n",
       "23682            NaN             40.0  \n",
       "23683            NaN              NaN  \n",
       "23692            NaN            413.0  \n",
       "23695            NaN             45.0  \n",
       "23698            NaN              NaN  \n",
       "\n",
       "[5418 rows x 22 columns]"
      ]
     },
     "metadata": {},
     "output_type": "display_data"
    },
    {
     "data": {
      "text/html": [
       "<div>\n",
       "<style scoped>\n",
       "    .dataframe tbody tr th:only-of-type {\n",
       "        vertical-align: middle;\n",
       "    }\n",
       "\n",
       "    .dataframe tbody tr th {\n",
       "        vertical-align: top;\n",
       "    }\n",
       "\n",
       "    .dataframe thead th {\n",
       "        text-align: right;\n",
       "    }\n",
       "</style>\n",
       "<table border=\"1\" class=\"dataframe\">\n",
       "  <thead>\n",
       "    <tr style=\"text-align: right;\">\n",
       "      <th></th>\n",
       "      <th>total_images</th>\n",
       "      <th>last_price</th>\n",
       "      <th>total_area</th>\n",
       "      <th>first_day_exposition</th>\n",
       "      <th>rooms</th>\n",
       "      <th>ceiling_height</th>\n",
       "      <th>floors_total</th>\n",
       "      <th>living_area</th>\n",
       "      <th>floor</th>\n",
       "      <th>is_apartment</th>\n",
       "      <th>...</th>\n",
       "      <th>kitchen_area</th>\n",
       "      <th>balcony</th>\n",
       "      <th>locality_name</th>\n",
       "      <th>airports_nearest</th>\n",
       "      <th>cityCenters_nearest</th>\n",
       "      <th>parks_around3000</th>\n",
       "      <th>parks_nearest</th>\n",
       "      <th>ponds_around3000</th>\n",
       "      <th>ponds_nearest</th>\n",
       "      <th>days_exposition</th>\n",
       "    </tr>\n",
       "  </thead>\n",
       "  <tbody>\n",
       "    <tr>\n",
       "      <th>5</th>\n",
       "      <td>10</td>\n",
       "      <td>2890000.0</td>\n",
       "      <td>30.40</td>\n",
       "      <td>2018-09-10T00:00:00</td>\n",
       "      <td>1</td>\n",
       "      <td>2.60</td>\n",
       "      <td>12.0</td>\n",
       "      <td>14.40</td>\n",
       "      <td>5</td>\n",
       "      <td>False</td>\n",
       "      <td>...</td>\n",
       "      <td>9.10</td>\n",
       "      <td>0.0</td>\n",
       "      <td>городской посёлок Янино-1</td>\n",
       "      <td>NaN</td>\n",
       "      <td>NaN</td>\n",
       "      <td>NaN</td>\n",
       "      <td>NaN</td>\n",
       "      <td>NaN</td>\n",
       "      <td>NaN</td>\n",
       "      <td>55.0</td>\n",
       "    </tr>\n",
       "    <tr>\n",
       "      <th>8</th>\n",
       "      <td>20</td>\n",
       "      <td>2900000.0</td>\n",
       "      <td>33.16</td>\n",
       "      <td>2018-05-23T00:00:00</td>\n",
       "      <td>1</td>\n",
       "      <td>2.70</td>\n",
       "      <td>27.0</td>\n",
       "      <td>15.43</td>\n",
       "      <td>26</td>\n",
       "      <td>False</td>\n",
       "      <td>...</td>\n",
       "      <td>8.81</td>\n",
       "      <td>0.0</td>\n",
       "      <td>посёлок Мурино</td>\n",
       "      <td>NaN</td>\n",
       "      <td>NaN</td>\n",
       "      <td>NaN</td>\n",
       "      <td>NaN</td>\n",
       "      <td>NaN</td>\n",
       "      <td>NaN</td>\n",
       "      <td>189.0</td>\n",
       "    </tr>\n",
       "    <tr>\n",
       "      <th>12</th>\n",
       "      <td>10</td>\n",
       "      <td>3890000.0</td>\n",
       "      <td>54.00</td>\n",
       "      <td>2016-06-30T00:00:00</td>\n",
       "      <td>2</td>\n",
       "      <td>2.60</td>\n",
       "      <td>5.0</td>\n",
       "      <td>30.00</td>\n",
       "      <td>5</td>\n",
       "      <td>False</td>\n",
       "      <td>...</td>\n",
       "      <td>9.00</td>\n",
       "      <td>0.0</td>\n",
       "      <td>Сертолово</td>\n",
       "      <td>NaN</td>\n",
       "      <td>NaN</td>\n",
       "      <td>NaN</td>\n",
       "      <td>NaN</td>\n",
       "      <td>NaN</td>\n",
       "      <td>NaN</td>\n",
       "      <td>90.0</td>\n",
       "    </tr>\n",
       "    <tr>\n",
       "      <th>22</th>\n",
       "      <td>20</td>\n",
       "      <td>5000000.0</td>\n",
       "      <td>58.00</td>\n",
       "      <td>2017-04-24T00:00:00</td>\n",
       "      <td>2</td>\n",
       "      <td>2.75</td>\n",
       "      <td>25.0</td>\n",
       "      <td>30.00</td>\n",
       "      <td>15</td>\n",
       "      <td>False</td>\n",
       "      <td>...</td>\n",
       "      <td>11.00</td>\n",
       "      <td>2.0</td>\n",
       "      <td>деревня Кудрово</td>\n",
       "      <td>NaN</td>\n",
       "      <td>NaN</td>\n",
       "      <td>NaN</td>\n",
       "      <td>NaN</td>\n",
       "      <td>NaN</td>\n",
       "      <td>NaN</td>\n",
       "      <td>60.0</td>\n",
       "    </tr>\n",
       "    <tr>\n",
       "      <th>30</th>\n",
       "      <td>12</td>\n",
       "      <td>2200000.0</td>\n",
       "      <td>32.80</td>\n",
       "      <td>2018-02-19T00:00:00</td>\n",
       "      <td>1</td>\n",
       "      <td>2.56</td>\n",
       "      <td>9.0</td>\n",
       "      <td>NaN</td>\n",
       "      <td>2</td>\n",
       "      <td>False</td>\n",
       "      <td>...</td>\n",
       "      <td>NaN</td>\n",
       "      <td>0.0</td>\n",
       "      <td>Коммунар</td>\n",
       "      <td>NaN</td>\n",
       "      <td>NaN</td>\n",
       "      <td>NaN</td>\n",
       "      <td>NaN</td>\n",
       "      <td>NaN</td>\n",
       "      <td>NaN</td>\n",
       "      <td>63.0</td>\n",
       "    </tr>\n",
       "    <tr>\n",
       "      <th>...</th>\n",
       "      <td>...</td>\n",
       "      <td>...</td>\n",
       "      <td>...</td>\n",
       "      <td>...</td>\n",
       "      <td>...</td>\n",
       "      <td>...</td>\n",
       "      <td>...</td>\n",
       "      <td>...</td>\n",
       "      <td>...</td>\n",
       "      <td>...</td>\n",
       "      <td>...</td>\n",
       "      <td>...</td>\n",
       "      <td>...</td>\n",
       "      <td>...</td>\n",
       "      <td>...</td>\n",
       "      <td>...</td>\n",
       "      <td>...</td>\n",
       "      <td>...</td>\n",
       "      <td>...</td>\n",
       "      <td>...</td>\n",
       "      <td>...</td>\n",
       "    </tr>\n",
       "    <tr>\n",
       "      <th>23682</th>\n",
       "      <td>11</td>\n",
       "      <td>2350000.0</td>\n",
       "      <td>35.60</td>\n",
       "      <td>2016-06-23T00:00:00</td>\n",
       "      <td>1</td>\n",
       "      <td>2.50</td>\n",
       "      <td>5.0</td>\n",
       "      <td>17.00</td>\n",
       "      <td>4</td>\n",
       "      <td>False</td>\n",
       "      <td>...</td>\n",
       "      <td>8.30</td>\n",
       "      <td>2.0</td>\n",
       "      <td>Выборг</td>\n",
       "      <td>NaN</td>\n",
       "      <td>NaN</td>\n",
       "      <td>NaN</td>\n",
       "      <td>NaN</td>\n",
       "      <td>NaN</td>\n",
       "      <td>NaN</td>\n",
       "      <td>40.0</td>\n",
       "    </tr>\n",
       "    <tr>\n",
       "      <th>23683</th>\n",
       "      <td>16</td>\n",
       "      <td>2100000.0</td>\n",
       "      <td>62.80</td>\n",
       "      <td>2018-09-18T00:00:00</td>\n",
       "      <td>4</td>\n",
       "      <td>2.50</td>\n",
       "      <td>5.0</td>\n",
       "      <td>45.50</td>\n",
       "      <td>3</td>\n",
       "      <td>False</td>\n",
       "      <td>...</td>\n",
       "      <td>5.50</td>\n",
       "      <td>0.0</td>\n",
       "      <td>посёлок Дзержинского</td>\n",
       "      <td>NaN</td>\n",
       "      <td>NaN</td>\n",
       "      <td>NaN</td>\n",
       "      <td>NaN</td>\n",
       "      <td>NaN</td>\n",
       "      <td>NaN</td>\n",
       "      <td>NaN</td>\n",
       "    </tr>\n",
       "    <tr>\n",
       "      <th>23692</th>\n",
       "      <td>2</td>\n",
       "      <td>1350000.0</td>\n",
       "      <td>30.00</td>\n",
       "      <td>2017-07-07T00:00:00</td>\n",
       "      <td>1</td>\n",
       "      <td>2.60</td>\n",
       "      <td>5.0</td>\n",
       "      <td>17.50</td>\n",
       "      <td>4</td>\n",
       "      <td>False</td>\n",
       "      <td>...</td>\n",
       "      <td>6.00</td>\n",
       "      <td>0.0</td>\n",
       "      <td>Тихвин</td>\n",
       "      <td>NaN</td>\n",
       "      <td>NaN</td>\n",
       "      <td>NaN</td>\n",
       "      <td>NaN</td>\n",
       "      <td>NaN</td>\n",
       "      <td>NaN</td>\n",
       "      <td>413.0</td>\n",
       "    </tr>\n",
       "    <tr>\n",
       "      <th>23695</th>\n",
       "      <td>14</td>\n",
       "      <td>3100000.0</td>\n",
       "      <td>59.00</td>\n",
       "      <td>2018-01-15T00:00:00</td>\n",
       "      <td>3</td>\n",
       "      <td>2.50</td>\n",
       "      <td>5.0</td>\n",
       "      <td>38.00</td>\n",
       "      <td>4</td>\n",
       "      <td>False</td>\n",
       "      <td>...</td>\n",
       "      <td>8.50</td>\n",
       "      <td>0.0</td>\n",
       "      <td>Тосно</td>\n",
       "      <td>NaN</td>\n",
       "      <td>NaN</td>\n",
       "      <td>NaN</td>\n",
       "      <td>NaN</td>\n",
       "      <td>NaN</td>\n",
       "      <td>NaN</td>\n",
       "      <td>45.0</td>\n",
       "    </tr>\n",
       "    <tr>\n",
       "      <th>23698</th>\n",
       "      <td>4</td>\n",
       "      <td>1350000.0</td>\n",
       "      <td>32.30</td>\n",
       "      <td>2017-07-21T00:00:00</td>\n",
       "      <td>1</td>\n",
       "      <td>2.50</td>\n",
       "      <td>5.0</td>\n",
       "      <td>12.30</td>\n",
       "      <td>1</td>\n",
       "      <td>False</td>\n",
       "      <td>...</td>\n",
       "      <td>9.00</td>\n",
       "      <td>0.0</td>\n",
       "      <td>поселок Новый Учхоз</td>\n",
       "      <td>NaN</td>\n",
       "      <td>NaN</td>\n",
       "      <td>NaN</td>\n",
       "      <td>NaN</td>\n",
       "      <td>NaN</td>\n",
       "      <td>NaN</td>\n",
       "      <td>NaN</td>\n",
       "    </tr>\n",
       "  </tbody>\n",
       "</table>\n",
       "<p>5395 rows × 22 columns</p>\n",
       "</div>"
      ],
      "text/plain": [
       "       total_images  last_price  total_area first_day_exposition  rooms  \\\n",
       "5                10   2890000.0       30.40  2018-09-10T00:00:00      1   \n",
       "8                20   2900000.0       33.16  2018-05-23T00:00:00      1   \n",
       "12               10   3890000.0       54.00  2016-06-30T00:00:00      2   \n",
       "22               20   5000000.0       58.00  2017-04-24T00:00:00      2   \n",
       "30               12   2200000.0       32.80  2018-02-19T00:00:00      1   \n",
       "...             ...         ...         ...                  ...    ...   \n",
       "23682            11   2350000.0       35.60  2016-06-23T00:00:00      1   \n",
       "23683            16   2100000.0       62.80  2018-09-18T00:00:00      4   \n",
       "23692             2   1350000.0       30.00  2017-07-07T00:00:00      1   \n",
       "23695            14   3100000.0       59.00  2018-01-15T00:00:00      3   \n",
       "23698             4   1350000.0       32.30  2017-07-21T00:00:00      1   \n",
       "\n",
       "       ceiling_height  floors_total  living_area  floor  is_apartment  ...  \\\n",
       "5                2.60          12.0        14.40      5         False  ...   \n",
       "8                2.70          27.0        15.43     26         False  ...   \n",
       "12               2.60           5.0        30.00      5         False  ...   \n",
       "22               2.75          25.0        30.00     15         False  ...   \n",
       "30               2.56           9.0          NaN      2         False  ...   \n",
       "...               ...           ...          ...    ...           ...  ...   \n",
       "23682            2.50           5.0        17.00      4         False  ...   \n",
       "23683            2.50           5.0        45.50      3         False  ...   \n",
       "23692            2.60           5.0        17.50      4         False  ...   \n",
       "23695            2.50           5.0        38.00      4         False  ...   \n",
       "23698            2.50           5.0        12.30      1         False  ...   \n",
       "\n",
       "       kitchen_area  balcony              locality_name  airports_nearest  \\\n",
       "5              9.10      0.0  городской посёлок Янино-1               NaN   \n",
       "8              8.81      0.0             посёлок Мурино               NaN   \n",
       "12             9.00      0.0                  Сертолово               NaN   \n",
       "22            11.00      2.0            деревня Кудрово               NaN   \n",
       "30              NaN      0.0                   Коммунар               NaN   \n",
       "...             ...      ...                        ...               ...   \n",
       "23682          8.30      2.0                     Выборг               NaN   \n",
       "23683          5.50      0.0       посёлок Дзержинского               NaN   \n",
       "23692          6.00      0.0                     Тихвин               NaN   \n",
       "23695          8.50      0.0                      Тосно               NaN   \n",
       "23698          9.00      0.0        поселок Новый Учхоз               NaN   \n",
       "\n",
       "      cityCenters_nearest  parks_around3000  parks_nearest  ponds_around3000  \\\n",
       "5                     NaN               NaN            NaN               NaN   \n",
       "8                     NaN               NaN            NaN               NaN   \n",
       "12                    NaN               NaN            NaN               NaN   \n",
       "22                    NaN               NaN            NaN               NaN   \n",
       "30                    NaN               NaN            NaN               NaN   \n",
       "...                   ...               ...            ...               ...   \n",
       "23682                 NaN               NaN            NaN               NaN   \n",
       "23683                 NaN               NaN            NaN               NaN   \n",
       "23692                 NaN               NaN            NaN               NaN   \n",
       "23695                 NaN               NaN            NaN               NaN   \n",
       "23698                 NaN               NaN            NaN               NaN   \n",
       "\n",
       "       ponds_nearest  days_exposition  \n",
       "5                NaN             55.0  \n",
       "8                NaN            189.0  \n",
       "12               NaN             90.0  \n",
       "22               NaN             60.0  \n",
       "30               NaN             63.0  \n",
       "...              ...              ...  \n",
       "23682            NaN             40.0  \n",
       "23683            NaN              NaN  \n",
       "23692            NaN            413.0  \n",
       "23695            NaN             45.0  \n",
       "23698            NaN              NaN  \n",
       "\n",
       "[5395 rows x 22 columns]"
      ]
     },
     "metadata": {},
     "output_type": "display_data"
    },
    {
     "data": {
      "text/html": [
       "<div>\n",
       "<style scoped>\n",
       "    .dataframe tbody tr th:only-of-type {\n",
       "        vertical-align: middle;\n",
       "    }\n",
       "\n",
       "    .dataframe tbody tr th {\n",
       "        vertical-align: top;\n",
       "    }\n",
       "\n",
       "    .dataframe thead th {\n",
       "        text-align: right;\n",
       "    }\n",
       "</style>\n",
       "<table border=\"1\" class=\"dataframe\">\n",
       "  <thead>\n",
       "    <tr style=\"text-align: right;\">\n",
       "      <th></th>\n",
       "      <th>total_images</th>\n",
       "      <th>last_price</th>\n",
       "      <th>total_area</th>\n",
       "      <th>first_day_exposition</th>\n",
       "      <th>rooms</th>\n",
       "      <th>ceiling_height</th>\n",
       "      <th>floors_total</th>\n",
       "      <th>living_area</th>\n",
       "      <th>floor</th>\n",
       "      <th>is_apartment</th>\n",
       "      <th>...</th>\n",
       "      <th>kitchen_area</th>\n",
       "      <th>balcony</th>\n",
       "      <th>locality_name</th>\n",
       "      <th>airports_nearest</th>\n",
       "      <th>cityCenters_nearest</th>\n",
       "      <th>parks_around3000</th>\n",
       "      <th>parks_nearest</th>\n",
       "      <th>ponds_around3000</th>\n",
       "      <th>ponds_nearest</th>\n",
       "      <th>days_exposition</th>\n",
       "    </tr>\n",
       "  </thead>\n",
       "  <tbody>\n",
       "    <tr>\n",
       "      <th>5</th>\n",
       "      <td>10</td>\n",
       "      <td>2890000.0</td>\n",
       "      <td>30.40</td>\n",
       "      <td>2018-09-10T00:00:00</td>\n",
       "      <td>1</td>\n",
       "      <td>2.60</td>\n",
       "      <td>12.0</td>\n",
       "      <td>14.40</td>\n",
       "      <td>5</td>\n",
       "      <td>False</td>\n",
       "      <td>...</td>\n",
       "      <td>9.10</td>\n",
       "      <td>0.0</td>\n",
       "      <td>городской посёлок Янино-1</td>\n",
       "      <td>NaN</td>\n",
       "      <td>NaN</td>\n",
       "      <td>NaN</td>\n",
       "      <td>NaN</td>\n",
       "      <td>NaN</td>\n",
       "      <td>NaN</td>\n",
       "      <td>55.0</td>\n",
       "    </tr>\n",
       "    <tr>\n",
       "      <th>8</th>\n",
       "      <td>20</td>\n",
       "      <td>2900000.0</td>\n",
       "      <td>33.16</td>\n",
       "      <td>2018-05-23T00:00:00</td>\n",
       "      <td>1</td>\n",
       "      <td>2.70</td>\n",
       "      <td>27.0</td>\n",
       "      <td>15.43</td>\n",
       "      <td>26</td>\n",
       "      <td>False</td>\n",
       "      <td>...</td>\n",
       "      <td>8.81</td>\n",
       "      <td>0.0</td>\n",
       "      <td>посёлок Мурино</td>\n",
       "      <td>NaN</td>\n",
       "      <td>NaN</td>\n",
       "      <td>NaN</td>\n",
       "      <td>NaN</td>\n",
       "      <td>NaN</td>\n",
       "      <td>NaN</td>\n",
       "      <td>189.0</td>\n",
       "    </tr>\n",
       "    <tr>\n",
       "      <th>12</th>\n",
       "      <td>10</td>\n",
       "      <td>3890000.0</td>\n",
       "      <td>54.00</td>\n",
       "      <td>2016-06-30T00:00:00</td>\n",
       "      <td>2</td>\n",
       "      <td>2.60</td>\n",
       "      <td>5.0</td>\n",
       "      <td>30.00</td>\n",
       "      <td>5</td>\n",
       "      <td>False</td>\n",
       "      <td>...</td>\n",
       "      <td>9.00</td>\n",
       "      <td>0.0</td>\n",
       "      <td>Сертолово</td>\n",
       "      <td>NaN</td>\n",
       "      <td>NaN</td>\n",
       "      <td>NaN</td>\n",
       "      <td>NaN</td>\n",
       "      <td>NaN</td>\n",
       "      <td>NaN</td>\n",
       "      <td>90.0</td>\n",
       "    </tr>\n",
       "    <tr>\n",
       "      <th>22</th>\n",
       "      <td>20</td>\n",
       "      <td>5000000.0</td>\n",
       "      <td>58.00</td>\n",
       "      <td>2017-04-24T00:00:00</td>\n",
       "      <td>2</td>\n",
       "      <td>2.75</td>\n",
       "      <td>25.0</td>\n",
       "      <td>30.00</td>\n",
       "      <td>15</td>\n",
       "      <td>False</td>\n",
       "      <td>...</td>\n",
       "      <td>11.00</td>\n",
       "      <td>2.0</td>\n",
       "      <td>деревня Кудрово</td>\n",
       "      <td>NaN</td>\n",
       "      <td>NaN</td>\n",
       "      <td>NaN</td>\n",
       "      <td>NaN</td>\n",
       "      <td>NaN</td>\n",
       "      <td>NaN</td>\n",
       "      <td>60.0</td>\n",
       "    </tr>\n",
       "    <tr>\n",
       "      <th>30</th>\n",
       "      <td>12</td>\n",
       "      <td>2200000.0</td>\n",
       "      <td>32.80</td>\n",
       "      <td>2018-02-19T00:00:00</td>\n",
       "      <td>1</td>\n",
       "      <td>2.56</td>\n",
       "      <td>9.0</td>\n",
       "      <td>NaN</td>\n",
       "      <td>2</td>\n",
       "      <td>False</td>\n",
       "      <td>...</td>\n",
       "      <td>NaN</td>\n",
       "      <td>0.0</td>\n",
       "      <td>Коммунар</td>\n",
       "      <td>NaN</td>\n",
       "      <td>NaN</td>\n",
       "      <td>NaN</td>\n",
       "      <td>NaN</td>\n",
       "      <td>NaN</td>\n",
       "      <td>NaN</td>\n",
       "      <td>63.0</td>\n",
       "    </tr>\n",
       "    <tr>\n",
       "      <th>...</th>\n",
       "      <td>...</td>\n",
       "      <td>...</td>\n",
       "      <td>...</td>\n",
       "      <td>...</td>\n",
       "      <td>...</td>\n",
       "      <td>...</td>\n",
       "      <td>...</td>\n",
       "      <td>...</td>\n",
       "      <td>...</td>\n",
       "      <td>...</td>\n",
       "      <td>...</td>\n",
       "      <td>...</td>\n",
       "      <td>...</td>\n",
       "      <td>...</td>\n",
       "      <td>...</td>\n",
       "      <td>...</td>\n",
       "      <td>...</td>\n",
       "      <td>...</td>\n",
       "      <td>...</td>\n",
       "      <td>...</td>\n",
       "      <td>...</td>\n",
       "    </tr>\n",
       "    <tr>\n",
       "      <th>23682</th>\n",
       "      <td>11</td>\n",
       "      <td>2350000.0</td>\n",
       "      <td>35.60</td>\n",
       "      <td>2016-06-23T00:00:00</td>\n",
       "      <td>1</td>\n",
       "      <td>2.50</td>\n",
       "      <td>5.0</td>\n",
       "      <td>17.00</td>\n",
       "      <td>4</td>\n",
       "      <td>False</td>\n",
       "      <td>...</td>\n",
       "      <td>8.30</td>\n",
       "      <td>2.0</td>\n",
       "      <td>Выборг</td>\n",
       "      <td>NaN</td>\n",
       "      <td>NaN</td>\n",
       "      <td>NaN</td>\n",
       "      <td>NaN</td>\n",
       "      <td>NaN</td>\n",
       "      <td>NaN</td>\n",
       "      <td>40.0</td>\n",
       "    </tr>\n",
       "    <tr>\n",
       "      <th>23683</th>\n",
       "      <td>16</td>\n",
       "      <td>2100000.0</td>\n",
       "      <td>62.80</td>\n",
       "      <td>2018-09-18T00:00:00</td>\n",
       "      <td>4</td>\n",
       "      <td>2.50</td>\n",
       "      <td>5.0</td>\n",
       "      <td>45.50</td>\n",
       "      <td>3</td>\n",
       "      <td>False</td>\n",
       "      <td>...</td>\n",
       "      <td>5.50</td>\n",
       "      <td>0.0</td>\n",
       "      <td>посёлок Дзержинского</td>\n",
       "      <td>NaN</td>\n",
       "      <td>NaN</td>\n",
       "      <td>NaN</td>\n",
       "      <td>NaN</td>\n",
       "      <td>NaN</td>\n",
       "      <td>NaN</td>\n",
       "      <td>NaN</td>\n",
       "    </tr>\n",
       "    <tr>\n",
       "      <th>23692</th>\n",
       "      <td>2</td>\n",
       "      <td>1350000.0</td>\n",
       "      <td>30.00</td>\n",
       "      <td>2017-07-07T00:00:00</td>\n",
       "      <td>1</td>\n",
       "      <td>2.60</td>\n",
       "      <td>5.0</td>\n",
       "      <td>17.50</td>\n",
       "      <td>4</td>\n",
       "      <td>False</td>\n",
       "      <td>...</td>\n",
       "      <td>6.00</td>\n",
       "      <td>0.0</td>\n",
       "      <td>Тихвин</td>\n",
       "      <td>NaN</td>\n",
       "      <td>NaN</td>\n",
       "      <td>NaN</td>\n",
       "      <td>NaN</td>\n",
       "      <td>NaN</td>\n",
       "      <td>NaN</td>\n",
       "      <td>413.0</td>\n",
       "    </tr>\n",
       "    <tr>\n",
       "      <th>23695</th>\n",
       "      <td>14</td>\n",
       "      <td>3100000.0</td>\n",
       "      <td>59.00</td>\n",
       "      <td>2018-01-15T00:00:00</td>\n",
       "      <td>3</td>\n",
       "      <td>2.50</td>\n",
       "      <td>5.0</td>\n",
       "      <td>38.00</td>\n",
       "      <td>4</td>\n",
       "      <td>False</td>\n",
       "      <td>...</td>\n",
       "      <td>8.50</td>\n",
       "      <td>0.0</td>\n",
       "      <td>Тосно</td>\n",
       "      <td>NaN</td>\n",
       "      <td>NaN</td>\n",
       "      <td>NaN</td>\n",
       "      <td>NaN</td>\n",
       "      <td>NaN</td>\n",
       "      <td>NaN</td>\n",
       "      <td>45.0</td>\n",
       "    </tr>\n",
       "    <tr>\n",
       "      <th>23698</th>\n",
       "      <td>4</td>\n",
       "      <td>1350000.0</td>\n",
       "      <td>32.30</td>\n",
       "      <td>2017-07-21T00:00:00</td>\n",
       "      <td>1</td>\n",
       "      <td>2.50</td>\n",
       "      <td>5.0</td>\n",
       "      <td>12.30</td>\n",
       "      <td>1</td>\n",
       "      <td>False</td>\n",
       "      <td>...</td>\n",
       "      <td>9.00</td>\n",
       "      <td>0.0</td>\n",
       "      <td>поселок Новый Учхоз</td>\n",
       "      <td>NaN</td>\n",
       "      <td>NaN</td>\n",
       "      <td>NaN</td>\n",
       "      <td>NaN</td>\n",
       "      <td>NaN</td>\n",
       "      <td>NaN</td>\n",
       "      <td>NaN</td>\n",
       "    </tr>\n",
       "  </tbody>\n",
       "</table>\n",
       "<p>5394 rows × 22 columns</p>\n",
       "</div>"
      ],
      "text/plain": [
       "       total_images  last_price  total_area first_day_exposition  rooms  \\\n",
       "5                10   2890000.0       30.40  2018-09-10T00:00:00      1   \n",
       "8                20   2900000.0       33.16  2018-05-23T00:00:00      1   \n",
       "12               10   3890000.0       54.00  2016-06-30T00:00:00      2   \n",
       "22               20   5000000.0       58.00  2017-04-24T00:00:00      2   \n",
       "30               12   2200000.0       32.80  2018-02-19T00:00:00      1   \n",
       "...             ...         ...         ...                  ...    ...   \n",
       "23682            11   2350000.0       35.60  2016-06-23T00:00:00      1   \n",
       "23683            16   2100000.0       62.80  2018-09-18T00:00:00      4   \n",
       "23692             2   1350000.0       30.00  2017-07-07T00:00:00      1   \n",
       "23695            14   3100000.0       59.00  2018-01-15T00:00:00      3   \n",
       "23698             4   1350000.0       32.30  2017-07-21T00:00:00      1   \n",
       "\n",
       "       ceiling_height  floors_total  living_area  floor  is_apartment  ...  \\\n",
       "5                2.60          12.0        14.40      5         False  ...   \n",
       "8                2.70          27.0        15.43     26         False  ...   \n",
       "12               2.60           5.0        30.00      5         False  ...   \n",
       "22               2.75          25.0        30.00     15         False  ...   \n",
       "30               2.56           9.0          NaN      2         False  ...   \n",
       "...               ...           ...          ...    ...           ...  ...   \n",
       "23682            2.50           5.0        17.00      4         False  ...   \n",
       "23683            2.50           5.0        45.50      3         False  ...   \n",
       "23692            2.60           5.0        17.50      4         False  ...   \n",
       "23695            2.50           5.0        38.00      4         False  ...   \n",
       "23698            2.50           5.0        12.30      1         False  ...   \n",
       "\n",
       "       kitchen_area  balcony              locality_name  airports_nearest  \\\n",
       "5              9.10      0.0  городской посёлок Янино-1               NaN   \n",
       "8              8.81      0.0             посёлок Мурино               NaN   \n",
       "12             9.00      0.0                  Сертолово               NaN   \n",
       "22            11.00      2.0            деревня Кудрово               NaN   \n",
       "30              NaN      0.0                   Коммунар               NaN   \n",
       "...             ...      ...                        ...               ...   \n",
       "23682          8.30      2.0                     Выборг               NaN   \n",
       "23683          5.50      0.0       посёлок Дзержинского               NaN   \n",
       "23692          6.00      0.0                     Тихвин               NaN   \n",
       "23695          8.50      0.0                      Тосно               NaN   \n",
       "23698          9.00      0.0        поселок Новый Учхоз               NaN   \n",
       "\n",
       "      cityCenters_nearest  parks_around3000  parks_nearest  ponds_around3000  \\\n",
       "5                     NaN               NaN            NaN               NaN   \n",
       "8                     NaN               NaN            NaN               NaN   \n",
       "12                    NaN               NaN            NaN               NaN   \n",
       "22                    NaN               NaN            NaN               NaN   \n",
       "30                    NaN               NaN            NaN               NaN   \n",
       "...                   ...               ...            ...               ...   \n",
       "23682                 NaN               NaN            NaN               NaN   \n",
       "23683                 NaN               NaN            NaN               NaN   \n",
       "23692                 NaN               NaN            NaN               NaN   \n",
       "23695                 NaN               NaN            NaN               NaN   \n",
       "23698                 NaN               NaN            NaN               NaN   \n",
       "\n",
       "       ponds_nearest  days_exposition  \n",
       "5                NaN             55.0  \n",
       "8                NaN            189.0  \n",
       "12               NaN             90.0  \n",
       "22               NaN             60.0  \n",
       "30               NaN             63.0  \n",
       "...              ...              ...  \n",
       "23682            NaN             40.0  \n",
       "23683            NaN              NaN  \n",
       "23692            NaN            413.0  \n",
       "23695            NaN             45.0  \n",
       "23698            NaN              NaN  \n",
       "\n",
       "[5394 rows x 22 columns]"
      ]
     },
     "metadata": {},
     "output_type": "display_data"
    },
    {
     "data": {
      "text/html": [
       "<div>\n",
       "<style scoped>\n",
       "    .dataframe tbody tr th:only-of-type {\n",
       "        vertical-align: middle;\n",
       "    }\n",
       "\n",
       "    .dataframe tbody tr th {\n",
       "        vertical-align: top;\n",
       "    }\n",
       "\n",
       "    .dataframe thead th {\n",
       "        text-align: right;\n",
       "    }\n",
       "</style>\n",
       "<table border=\"1\" class=\"dataframe\">\n",
       "  <thead>\n",
       "    <tr style=\"text-align: right;\">\n",
       "      <th></th>\n",
       "      <th>total_images</th>\n",
       "      <th>last_price</th>\n",
       "      <th>total_area</th>\n",
       "      <th>first_day_exposition</th>\n",
       "      <th>rooms</th>\n",
       "      <th>ceiling_height</th>\n",
       "      <th>floors_total</th>\n",
       "      <th>living_area</th>\n",
       "      <th>floor</th>\n",
       "      <th>is_apartment</th>\n",
       "      <th>...</th>\n",
       "      <th>kitchen_area</th>\n",
       "      <th>balcony</th>\n",
       "      <th>locality_name</th>\n",
       "      <th>airports_nearest</th>\n",
       "      <th>cityCenters_nearest</th>\n",
       "      <th>parks_around3000</th>\n",
       "      <th>parks_nearest</th>\n",
       "      <th>ponds_around3000</th>\n",
       "      <th>ponds_nearest</th>\n",
       "      <th>days_exposition</th>\n",
       "    </tr>\n",
       "  </thead>\n",
       "  <tbody>\n",
       "    <tr>\n",
       "      <th>5</th>\n",
       "      <td>10</td>\n",
       "      <td>2890000.0</td>\n",
       "      <td>30.40</td>\n",
       "      <td>2018-09-10T00:00:00</td>\n",
       "      <td>1</td>\n",
       "      <td>2.60</td>\n",
       "      <td>12.0</td>\n",
       "      <td>14.40</td>\n",
       "      <td>5</td>\n",
       "      <td>False</td>\n",
       "      <td>...</td>\n",
       "      <td>9.10</td>\n",
       "      <td>0.0</td>\n",
       "      <td>городской посёлок Янино-1</td>\n",
       "      <td>NaN</td>\n",
       "      <td>NaN</td>\n",
       "      <td>NaN</td>\n",
       "      <td>NaN</td>\n",
       "      <td>NaN</td>\n",
       "      <td>NaN</td>\n",
       "      <td>55.0</td>\n",
       "    </tr>\n",
       "    <tr>\n",
       "      <th>8</th>\n",
       "      <td>20</td>\n",
       "      <td>2900000.0</td>\n",
       "      <td>33.16</td>\n",
       "      <td>2018-05-23T00:00:00</td>\n",
       "      <td>1</td>\n",
       "      <td>2.70</td>\n",
       "      <td>27.0</td>\n",
       "      <td>15.43</td>\n",
       "      <td>26</td>\n",
       "      <td>False</td>\n",
       "      <td>...</td>\n",
       "      <td>8.81</td>\n",
       "      <td>0.0</td>\n",
       "      <td>посёлок Мурино</td>\n",
       "      <td>NaN</td>\n",
       "      <td>NaN</td>\n",
       "      <td>NaN</td>\n",
       "      <td>NaN</td>\n",
       "      <td>NaN</td>\n",
       "      <td>NaN</td>\n",
       "      <td>189.0</td>\n",
       "    </tr>\n",
       "    <tr>\n",
       "      <th>12</th>\n",
       "      <td>10</td>\n",
       "      <td>3890000.0</td>\n",
       "      <td>54.00</td>\n",
       "      <td>2016-06-30T00:00:00</td>\n",
       "      <td>2</td>\n",
       "      <td>2.60</td>\n",
       "      <td>5.0</td>\n",
       "      <td>30.00</td>\n",
       "      <td>5</td>\n",
       "      <td>False</td>\n",
       "      <td>...</td>\n",
       "      <td>9.00</td>\n",
       "      <td>0.0</td>\n",
       "      <td>Сертолово</td>\n",
       "      <td>NaN</td>\n",
       "      <td>NaN</td>\n",
       "      <td>NaN</td>\n",
       "      <td>NaN</td>\n",
       "      <td>NaN</td>\n",
       "      <td>NaN</td>\n",
       "      <td>90.0</td>\n",
       "    </tr>\n",
       "    <tr>\n",
       "      <th>22</th>\n",
       "      <td>20</td>\n",
       "      <td>5000000.0</td>\n",
       "      <td>58.00</td>\n",
       "      <td>2017-04-24T00:00:00</td>\n",
       "      <td>2</td>\n",
       "      <td>2.75</td>\n",
       "      <td>25.0</td>\n",
       "      <td>30.00</td>\n",
       "      <td>15</td>\n",
       "      <td>False</td>\n",
       "      <td>...</td>\n",
       "      <td>11.00</td>\n",
       "      <td>2.0</td>\n",
       "      <td>деревня Кудрово</td>\n",
       "      <td>NaN</td>\n",
       "      <td>NaN</td>\n",
       "      <td>NaN</td>\n",
       "      <td>NaN</td>\n",
       "      <td>NaN</td>\n",
       "      <td>NaN</td>\n",
       "      <td>60.0</td>\n",
       "    </tr>\n",
       "    <tr>\n",
       "      <th>30</th>\n",
       "      <td>12</td>\n",
       "      <td>2200000.0</td>\n",
       "      <td>32.80</td>\n",
       "      <td>2018-02-19T00:00:00</td>\n",
       "      <td>1</td>\n",
       "      <td>2.56</td>\n",
       "      <td>9.0</td>\n",
       "      <td>NaN</td>\n",
       "      <td>2</td>\n",
       "      <td>False</td>\n",
       "      <td>...</td>\n",
       "      <td>NaN</td>\n",
       "      <td>0.0</td>\n",
       "      <td>Коммунар</td>\n",
       "      <td>NaN</td>\n",
       "      <td>NaN</td>\n",
       "      <td>NaN</td>\n",
       "      <td>NaN</td>\n",
       "      <td>NaN</td>\n",
       "      <td>NaN</td>\n",
       "      <td>63.0</td>\n",
       "    </tr>\n",
       "    <tr>\n",
       "      <th>...</th>\n",
       "      <td>...</td>\n",
       "      <td>...</td>\n",
       "      <td>...</td>\n",
       "      <td>...</td>\n",
       "      <td>...</td>\n",
       "      <td>...</td>\n",
       "      <td>...</td>\n",
       "      <td>...</td>\n",
       "      <td>...</td>\n",
       "      <td>...</td>\n",
       "      <td>...</td>\n",
       "      <td>...</td>\n",
       "      <td>...</td>\n",
       "      <td>...</td>\n",
       "      <td>...</td>\n",
       "      <td>...</td>\n",
       "      <td>...</td>\n",
       "      <td>...</td>\n",
       "      <td>...</td>\n",
       "      <td>...</td>\n",
       "      <td>...</td>\n",
       "    </tr>\n",
       "    <tr>\n",
       "      <th>23682</th>\n",
       "      <td>11</td>\n",
       "      <td>2350000.0</td>\n",
       "      <td>35.60</td>\n",
       "      <td>2016-06-23T00:00:00</td>\n",
       "      <td>1</td>\n",
       "      <td>2.50</td>\n",
       "      <td>5.0</td>\n",
       "      <td>17.00</td>\n",
       "      <td>4</td>\n",
       "      <td>False</td>\n",
       "      <td>...</td>\n",
       "      <td>8.30</td>\n",
       "      <td>2.0</td>\n",
       "      <td>Выборг</td>\n",
       "      <td>NaN</td>\n",
       "      <td>NaN</td>\n",
       "      <td>NaN</td>\n",
       "      <td>NaN</td>\n",
       "      <td>NaN</td>\n",
       "      <td>NaN</td>\n",
       "      <td>40.0</td>\n",
       "    </tr>\n",
       "    <tr>\n",
       "      <th>23683</th>\n",
       "      <td>16</td>\n",
       "      <td>2100000.0</td>\n",
       "      <td>62.80</td>\n",
       "      <td>2018-09-18T00:00:00</td>\n",
       "      <td>4</td>\n",
       "      <td>2.50</td>\n",
       "      <td>5.0</td>\n",
       "      <td>45.50</td>\n",
       "      <td>3</td>\n",
       "      <td>False</td>\n",
       "      <td>...</td>\n",
       "      <td>5.50</td>\n",
       "      <td>0.0</td>\n",
       "      <td>посёлок Дзержинского</td>\n",
       "      <td>NaN</td>\n",
       "      <td>NaN</td>\n",
       "      <td>NaN</td>\n",
       "      <td>NaN</td>\n",
       "      <td>NaN</td>\n",
       "      <td>NaN</td>\n",
       "      <td>NaN</td>\n",
       "    </tr>\n",
       "    <tr>\n",
       "      <th>23692</th>\n",
       "      <td>2</td>\n",
       "      <td>1350000.0</td>\n",
       "      <td>30.00</td>\n",
       "      <td>2017-07-07T00:00:00</td>\n",
       "      <td>1</td>\n",
       "      <td>2.60</td>\n",
       "      <td>5.0</td>\n",
       "      <td>17.50</td>\n",
       "      <td>4</td>\n",
       "      <td>False</td>\n",
       "      <td>...</td>\n",
       "      <td>6.00</td>\n",
       "      <td>0.0</td>\n",
       "      <td>Тихвин</td>\n",
       "      <td>NaN</td>\n",
       "      <td>NaN</td>\n",
       "      <td>NaN</td>\n",
       "      <td>NaN</td>\n",
       "      <td>NaN</td>\n",
       "      <td>NaN</td>\n",
       "      <td>413.0</td>\n",
       "    </tr>\n",
       "    <tr>\n",
       "      <th>23695</th>\n",
       "      <td>14</td>\n",
       "      <td>3100000.0</td>\n",
       "      <td>59.00</td>\n",
       "      <td>2018-01-15T00:00:00</td>\n",
       "      <td>3</td>\n",
       "      <td>2.50</td>\n",
       "      <td>5.0</td>\n",
       "      <td>38.00</td>\n",
       "      <td>4</td>\n",
       "      <td>False</td>\n",
       "      <td>...</td>\n",
       "      <td>8.50</td>\n",
       "      <td>0.0</td>\n",
       "      <td>Тосно</td>\n",
       "      <td>NaN</td>\n",
       "      <td>NaN</td>\n",
       "      <td>NaN</td>\n",
       "      <td>NaN</td>\n",
       "      <td>NaN</td>\n",
       "      <td>NaN</td>\n",
       "      <td>45.0</td>\n",
       "    </tr>\n",
       "    <tr>\n",
       "      <th>23698</th>\n",
       "      <td>4</td>\n",
       "      <td>1350000.0</td>\n",
       "      <td>32.30</td>\n",
       "      <td>2017-07-21T00:00:00</td>\n",
       "      <td>1</td>\n",
       "      <td>2.50</td>\n",
       "      <td>5.0</td>\n",
       "      <td>12.30</td>\n",
       "      <td>1</td>\n",
       "      <td>False</td>\n",
       "      <td>...</td>\n",
       "      <td>9.00</td>\n",
       "      <td>0.0</td>\n",
       "      <td>поселок Новый Учхоз</td>\n",
       "      <td>NaN</td>\n",
       "      <td>NaN</td>\n",
       "      <td>NaN</td>\n",
       "      <td>NaN</td>\n",
       "      <td>NaN</td>\n",
       "      <td>NaN</td>\n",
       "      <td>NaN</td>\n",
       "    </tr>\n",
       "  </tbody>\n",
       "</table>\n",
       "<p>5394 rows × 22 columns</p>\n",
       "</div>"
      ],
      "text/plain": [
       "       total_images  last_price  total_area first_day_exposition  rooms  \\\n",
       "5                10   2890000.0       30.40  2018-09-10T00:00:00      1   \n",
       "8                20   2900000.0       33.16  2018-05-23T00:00:00      1   \n",
       "12               10   3890000.0       54.00  2016-06-30T00:00:00      2   \n",
       "22               20   5000000.0       58.00  2017-04-24T00:00:00      2   \n",
       "30               12   2200000.0       32.80  2018-02-19T00:00:00      1   \n",
       "...             ...         ...         ...                  ...    ...   \n",
       "23682            11   2350000.0       35.60  2016-06-23T00:00:00      1   \n",
       "23683            16   2100000.0       62.80  2018-09-18T00:00:00      4   \n",
       "23692             2   1350000.0       30.00  2017-07-07T00:00:00      1   \n",
       "23695            14   3100000.0       59.00  2018-01-15T00:00:00      3   \n",
       "23698             4   1350000.0       32.30  2017-07-21T00:00:00      1   \n",
       "\n",
       "       ceiling_height  floors_total  living_area  floor  is_apartment  ...  \\\n",
       "5                2.60          12.0        14.40      5         False  ...   \n",
       "8                2.70          27.0        15.43     26         False  ...   \n",
       "12               2.60           5.0        30.00      5         False  ...   \n",
       "22               2.75          25.0        30.00     15         False  ...   \n",
       "30               2.56           9.0          NaN      2         False  ...   \n",
       "...               ...           ...          ...    ...           ...  ...   \n",
       "23682            2.50           5.0        17.00      4         False  ...   \n",
       "23683            2.50           5.0        45.50      3         False  ...   \n",
       "23692            2.60           5.0        17.50      4         False  ...   \n",
       "23695            2.50           5.0        38.00      4         False  ...   \n",
       "23698            2.50           5.0        12.30      1         False  ...   \n",
       "\n",
       "       kitchen_area  balcony              locality_name  airports_nearest  \\\n",
       "5              9.10      0.0  городской посёлок Янино-1               NaN   \n",
       "8              8.81      0.0             посёлок Мурино               NaN   \n",
       "12             9.00      0.0                  Сертолово               NaN   \n",
       "22            11.00      2.0            деревня Кудрово               NaN   \n",
       "30              NaN      0.0                   Коммунар               NaN   \n",
       "...             ...      ...                        ...               ...   \n",
       "23682          8.30      2.0                     Выборг               NaN   \n",
       "23683          5.50      0.0       посёлок Дзержинского               NaN   \n",
       "23692          6.00      0.0                     Тихвин               NaN   \n",
       "23695          8.50      0.0                      Тосно               NaN   \n",
       "23698          9.00      0.0        поселок Новый Учхоз               NaN   \n",
       "\n",
       "      cityCenters_nearest  parks_around3000  parks_nearest  ponds_around3000  \\\n",
       "5                     NaN               NaN            NaN               NaN   \n",
       "8                     NaN               NaN            NaN               NaN   \n",
       "12                    NaN               NaN            NaN               NaN   \n",
       "22                    NaN               NaN            NaN               NaN   \n",
       "30                    NaN               NaN            NaN               NaN   \n",
       "...                   ...               ...            ...               ...   \n",
       "23682                 NaN               NaN            NaN               NaN   \n",
       "23683                 NaN               NaN            NaN               NaN   \n",
       "23692                 NaN               NaN            NaN               NaN   \n",
       "23695                 NaN               NaN            NaN               NaN   \n",
       "23698                 NaN               NaN            NaN               NaN   \n",
       "\n",
       "       ponds_nearest  days_exposition  \n",
       "5                NaN             55.0  \n",
       "8                NaN            189.0  \n",
       "12               NaN             90.0  \n",
       "22               NaN             60.0  \n",
       "30               NaN             63.0  \n",
       "...              ...              ...  \n",
       "23682            NaN             40.0  \n",
       "23683            NaN              NaN  \n",
       "23692            NaN            413.0  \n",
       "23695            NaN             45.0  \n",
       "23698            NaN              NaN  \n",
       "\n",
       "[5394 rows x 22 columns]"
      ]
     },
     "metadata": {},
     "output_type": "display_data"
    }
   ],
   "source": [
    "display(data.loc[data['airports_nearest'].isna()])\n",
    "display(data.query('cityCenters_nearest.isna()'))\n",
    "display(data.query('parks_around3000.isna()'))\n",
    "display(data.query('ponds_around3000.isna()'))"
   ]
  },
  {
   "cell_type": "markdown",
   "metadata": {},
   "source": [
    "Наконец, столбец days_exposition. Разумно выглядит предположить, что пропуски в нем можно заполнить медианным значением по населенному пункту."
   ]
  },
  {
   "cell_type": "code",
   "execution_count": 59,
   "metadata": {},
   "outputs": [
    {
     "data": {
      "text/plain": [
       "45.0      859\n",
       "60.0      537\n",
       "7.0       233\n",
       "30.0      208\n",
       "90.0      203\n",
       "         ... \n",
       "1.0         1\n",
       "1147.0      1\n",
       "1148.0      1\n",
       "1345.0      1\n",
       "1174.0      1\n",
       "Name: days_exposition, Length: 1141, dtype: int64"
      ]
     },
     "execution_count": 59,
     "metadata": {},
     "output_type": "execute_result"
    }
   ],
   "source": [
    "data['days_exposition'].value_counts()"
   ]
  },
  {
   "cell_type": "code",
   "execution_count": 60,
   "metadata": {},
   "outputs": [
    {
     "data": {
      "text/html": [
       "<div>\n",
       "<style scoped>\n",
       "    .dataframe tbody tr th:only-of-type {\n",
       "        vertical-align: middle;\n",
       "    }\n",
       "\n",
       "    .dataframe tbody tr th {\n",
       "        vertical-align: top;\n",
       "    }\n",
       "\n",
       "    .dataframe thead th {\n",
       "        text-align: right;\n",
       "    }\n",
       "</style>\n",
       "<table border=\"1\" class=\"dataframe\">\n",
       "  <thead>\n",
       "    <tr style=\"text-align: right;\">\n",
       "      <th></th>\n",
       "      <th>total_images</th>\n",
       "      <th>last_price</th>\n",
       "      <th>total_area</th>\n",
       "      <th>first_day_exposition</th>\n",
       "      <th>rooms</th>\n",
       "      <th>ceiling_height</th>\n",
       "      <th>floors_total</th>\n",
       "      <th>living_area</th>\n",
       "      <th>floor</th>\n",
       "      <th>is_apartment</th>\n",
       "      <th>...</th>\n",
       "      <th>kitchen_area</th>\n",
       "      <th>balcony</th>\n",
       "      <th>locality_name</th>\n",
       "      <th>airports_nearest</th>\n",
       "      <th>cityCenters_nearest</th>\n",
       "      <th>parks_around3000</th>\n",
       "      <th>parks_nearest</th>\n",
       "      <th>ponds_around3000</th>\n",
       "      <th>ponds_nearest</th>\n",
       "      <th>days_exposition</th>\n",
       "    </tr>\n",
       "  </thead>\n",
       "  <tbody>\n",
       "  </tbody>\n",
       "</table>\n",
       "<p>0 rows × 22 columns</p>\n",
       "</div>"
      ],
      "text/plain": [
       "Empty DataFrame\n",
       "Columns: [total_images, last_price, total_area, first_day_exposition, rooms, ceiling_height, floors_total, living_area, floor, is_apartment, studio, open_plan, kitchen_area, balcony, locality_name, airports_nearest, cityCenters_nearest, parks_around3000, parks_nearest, ponds_around3000, ponds_nearest, days_exposition]\n",
       "Index: []\n",
       "\n",
       "[0 rows x 22 columns]"
      ]
     },
     "metadata": {},
     "output_type": "display_data"
    }
   ],
   "source": [
    "data.query('days_exposition.isna()')\n",
    "data['days_exposition'] = data['days_exposition'].fillna(data.groupby('locality_name')['days_exposition'].transform('median'))\n",
    "data.query('days_exposition.isna()')\n",
    "# после заполнения пропусков у нас остались еще несколько\n",
    "data.query('locality_name == \"Мурино\"')\n",
    "# проверка одного из населенных пунктов с незаполненным days_exposition показывает, что второй строке кода из этой\n",
    "# ячейки просто неоткуда было взять медианное значение: для всех квартир в Мурино эти данные отсутствуют. \n",
    "# Логично предположить, что для остальных оставшихся пропусков тоже.\n",
    "# Заполним их медианным значением по всему датасету.\n",
    "data['days_exposition'] = data['days_exposition'].fillna(data['days_exposition'].median())\n",
    "display(data.query('days_exposition.isna()'))"
   ]
  },
  {
   "cell_type": "code",
   "execution_count": 61,
   "metadata": {
    "scrolled": true
   },
   "outputs": [
    {
     "data": {
      "text/plain": [
       "total_images                0\n",
       "last_price                  0\n",
       "total_area                  0\n",
       "first_day_exposition        0\n",
       "rooms                       0\n",
       "ceiling_height              0\n",
       "floors_total                0\n",
       "living_area              1874\n",
       "floor                       0\n",
       "is_apartment                0\n",
       "studio                      0\n",
       "open_plan                   0\n",
       "kitchen_area             2240\n",
       "balcony                     0\n",
       "locality_name               0\n",
       "airports_nearest         5418\n",
       "cityCenters_nearest      5395\n",
       "parks_around3000         5394\n",
       "parks_nearest           15465\n",
       "ponds_around3000         5394\n",
       "ponds_nearest           14446\n",
       "days_exposition             0\n",
       "dtype: int64"
      ]
     },
     "execution_count": 61,
     "metadata": {},
     "output_type": "execute_result"
    }
   ],
   "source": [
    "data.isna().sum()"
   ]
  },
  {
   "cell_type": "markdown",
   "metadata": {},
   "source": [
    "С заполнением пропусков покончено. Но откуда они могли появиться?\n",
    "Полагаю, отчасти - из-за невнимательности или спешки риэлторов и продавцов, размещавших объявления: не успели проверить высоту потолков, площадь кухни или жилую (другие мои гипотезы про эти столбцы не подтвердились), поленились указать число балконов (хотя могли при этом разместить соответствующие фото).\n",
    "Пропуски в графе is_apartment могут объясняться тем, что в объявлениях \"галочкой\" отмечали только те объекты на продажу, которые имеют статус апартаментов, а при переносе в датасет остальным не прописали параметр \"False\", поэтому столбец изначально не булева типа.  \n",
    "\n",
    "С картографическими данными сложнее: последовательности в их отсутствии на первый взгляд выявить не удалось (цифр по расстояниям в метрах нет, например, не только вне Петербурга). Возможно, риэлторам надо было указать точку на карте, а они с пренебрежением относились к этому этапу публикации объявления. \n",
    "Что касается parks_nearest и ponds_nearest, пропуски в них обусловлены отсутствием парков/водоемов поблизости (то есть 0 в предыдущем столбце), а заполнить их нельзя, так как 0 в метрах будет значить, что квартира находится прямо в озере/парке, что невозможно."
   ]
  },
  {
   "cell_type": "markdown",
   "metadata": {},
   "source": [
    "#### Изменение типов данных\n",
    "Преобразуем вещественные числа в целые там, где это возможно (по естественным причинам невозможно в столбцах с площадью/высотой потолков, в силу несовершенства датасета - пропуски - в столбцах с картографическими данными).\n",
    "Дату публикации объявления переведем из строкового формата в datetime."
   ]
  },
  {
   "cell_type": "markdown",
   "metadata": {},
   "source": [
    "#### Поиск неявных дубликатов"
   ]
  },
  {
   "cell_type": "markdown",
   "metadata": {},
   "source": [
    "Некоторые названия населённых пунктов схожи. Заменим все «ё» на «е» и удалим служебные слова, чтобы больше вариантов наименований населённого пункта совпали между собой."
   ]
  },
  {
   "cell_type": "code",
   "execution_count": 63,
   "metadata": {},
   "outputs": [
    {
     "data": {
      "text/plain": [
       "array(['Санкт-Петербург', 'посёлок Шушары', 'городской посёлок Янино-1',\n",
       "       'посёлок Парголово', 'посёлок Мурино', 'Ломоносов', 'Сертолово',\n",
       "       'Петергоф', 'Пушкин', 'деревня Кудрово', 'Коммунар', 'Колпино',\n",
       "       'поселок городского типа Красный Бор', 'Гатчина', 'поселок Мурино',\n",
       "       'деревня Фёдоровское', 'Выборг', 'Кронштадт', 'Кировск',\n",
       "       'деревня Новое Девяткино', 'посёлок Металлострой',\n",
       "       'посёлок городского типа Лебяжье',\n",
       "       'посёлок городского типа Сиверский', 'поселок Молодцово',\n",
       "       'поселок городского типа Кузьмоловский',\n",
       "       'садовое товарищество Новая Ропша', 'Павловск', 'Всеволожск',\n",
       "       'Волхов', 'Кингисепп', 'Приозерск', 'Сестрорецк',\n",
       "       'деревня Куттузи', 'посёлок Аннино',\n",
       "       'поселок городского типа Ефимовский', 'посёлок Плодовое',\n",
       "       'поселок Торковичи', 'поселок Первомайское', 'Красное Село',\n",
       "       'посёлок Понтонный', 'Сясьстрой', 'деревня Старая',\n",
       "       'деревня Лесколово', 'посёлок Новый Свет', 'Сланцы',\n",
       "       'село Путилово', 'Ивангород', 'Мурино', 'Шлиссельбург',\n",
       "       'Никольское', 'Зеленогорск', 'Сосновый Бор', 'поселок Новый Свет',\n",
       "       'деревня Оржицы', 'деревня Кальтино', 'Кудрово',\n",
       "       'поселок Романовка', 'посёлок Бугры', 'поселок Бугры',\n",
       "       'поселок городского типа Рощино', 'Кириши', 'Луга', 'Волосово',\n",
       "       'Отрадное', 'село Павлово', 'поселок Оредеж', 'село Копорье',\n",
       "       'посёлок городского типа Красный Бор', 'посёлок Молодёжное',\n",
       "       'Тихвин', 'посёлок Победа', 'деревня Нурма',\n",
       "       'поселок городского типа Синявино', 'Тосно',\n",
       "       'посёлок городского типа Кузьмоловский', 'посёлок Стрельна',\n",
       "       'Бокситогорск', 'посёлок Александровская', 'деревня Лопухинка',\n",
       "       'Пикалёво', 'поселок Терволово',\n",
       "       'поселок городского типа Советский', 'Подпорожье',\n",
       "       'посёлок Петровское', 'посёлок городского типа Токсово',\n",
       "       'поселок Сельцо', 'посёлок городского типа Вырица',\n",
       "       'деревня Кипень', 'деревня Келози', 'деревня Вартемяги',\n",
       "       'посёлок Тельмана', 'городской поселок Большая Ижора',\n",
       "       'городской посёлок Павлово', 'деревня Агалатово',\n",
       "       'посёлок Новогорелово', 'городской посёлок Лесогорский',\n",
       "       'деревня Лаголово', 'поселок Цвелодубово',\n",
       "       'поселок городского типа Рахья', 'поселок городского типа Вырица',\n",
       "       'деревня Белогорка', 'поселок Заводской',\n",
       "       'городской посёлок Новоселье', 'деревня Большие Колпаны',\n",
       "       'деревня Горбунки', 'деревня Батово', 'деревня Заневка',\n",
       "       'Приморск', 'городской посёлок Фёдоровское', 'деревня Мистолово',\n",
       "       'Новая Ладога', 'поселок Зимитицы', 'поселок Барышево',\n",
       "       'деревня Разметелево', 'поселок городского типа имени Свердлова',\n",
       "       'деревня Пеники', 'поселок Рябово', 'деревня Пудомяги',\n",
       "       'деревня Низино', 'деревня Бегуницы', 'посёлок Поляны',\n",
       "       'городской посёлок Мга', 'поселок Елизаветино',\n",
       "       'посёлок городского типа Кузнечное', 'деревня Колтуши',\n",
       "       'поселок Запорожское', 'посёлок городского типа Рощино',\n",
       "       'деревня Гостилицы', 'деревня Малое Карлино',\n",
       "       'посёлок Мичуринское', 'посёлок городского типа имени Морозова',\n",
       "       'посёлок Песочный', 'посёлок Сосново', 'поселок Ильичёво',\n",
       "       'посёлок городского типа Тайцы', 'деревня Малое Верево',\n",
       "       'деревня Извара', 'поселок станции Вещево', 'деревня Калитино',\n",
       "       'посёлок городского типа Ульяновка',\n",
       "       'поселок городского типа Дубровка', 'деревня Мины',\n",
       "       'поселок Войсковицы', 'посёлок городского типа имени Свердлова',\n",
       "       'деревня Коркино', 'посёлок Ропша',\n",
       "       'поселок городского типа Приладожский', 'посёлок Щеглово',\n",
       "       'посёлок Гаврилово', 'Лодейное Поле', 'деревня Рабитицы',\n",
       "       'поселок городского типа Никольский', 'деревня Кузьмолово',\n",
       "       'деревня Малые Колпаны', 'поселок Тельмана',\n",
       "       'городской посёлок Назия', 'посёлок Репино', 'посёлок Ильичёво',\n",
       "       'поселок Углово', 'садовое товарищество Рахья', 'поселок Аннино',\n",
       "       'поселок Победа', 'деревня Меньково', 'посёлок Сапёрный',\n",
       "       'поселок Семрино', 'поселок Глажево', 'деревня Гарболово',\n",
       "       'деревня Юкки', 'поселок станции Приветнинское', 'поселок Поляны',\n",
       "       'поселок Мельниково', 'посёлок Пудость', 'Светогорск', 'Любань',\n",
       "       'Каменногорск', 'деревня Кривко', 'поселок Глебычево',\n",
       "       'деревня Парицы', 'поселок Жилпосёлок',\n",
       "       'посёлок городского типа Мга', 'городской поселок Янино-1',\n",
       "       'посёлок Войскорово', 'посёлок Терволово', 'поселок Стеклянный',\n",
       "       'посёлок городского типа Важины', 'село Русско-Высоцкое',\n",
       "       'поселок городского типа Лебяжье', 'поселок Житково',\n",
       "       'городской посёлок Виллози', 'деревня Лампово',\n",
       "       'деревня Шпаньково', 'посёлок Сумино', 'посёлок Возрождение',\n",
       "       'деревня Старосиверская', 'посёлок Кикерино',\n",
       "       'поселок Возрождение', 'посёлок Пригородный', 'посёлок Торфяное',\n",
       "       'городской посёлок Будогощь', 'поселок Суходолье',\n",
       "       'поселок Красная Долина', 'деревня Хапо-Ое',\n",
       "       'поселок городского типа Дружная Горка', 'поселок Лисий Нос',\n",
       "       'деревня Яльгелево', 'посёлок Стеклянный', 'деревня Сяськелево',\n",
       "       'деревня Камышовка', 'деревня Хязельки',\n",
       "       'посёлок городского типа Павлово', 'деревня Ялгино',\n",
       "       'поселок Новый Учхоз', 'городской посёлок Рощино',\n",
       "       'поселок Гончарово', 'поселок Почап', 'посёлок Сапёрное',\n",
       "       'посёлок Платформа 69-й километр', 'деревня Фалилеево',\n",
       "       'поселок Серебрянский', 'поселок Лукаши', 'поселок Петровское',\n",
       "       'поселок Мичуринское', 'деревня Тарасово', 'поселок Кингисеппский',\n",
       "       'посёлок при железнодорожной станции Вещево', 'поселок Ушаки',\n",
       "       'деревня Котлы', 'деревня Торосово', 'деревня Новолисино',\n",
       "       'посёлок станции Громово', 'деревня Глинка', 'посёлок Мельниково',\n",
       "       'деревня Старая Пустошь', 'поселок Коммунары', 'поселок Починок',\n",
       "       'деревня Разбегаево', 'посёлок городского типа Рябово',\n",
       "       'поселок Гладкое',\n",
       "       'посёлок при железнодорожной станции Приветнинское',\n",
       "       'посёлок Жилгородок', 'деревня Бор', 'посёлок Коробицыно',\n",
       "       'деревня Большая Вруда', 'посёлок Лисий Нос',\n",
       "       'городской посёлок Советский', 'посёлок Кобралово',\n",
       "       'деревня Суоранда', 'поселок Кобралово',\n",
       "       'поселок городского типа Кондратьево',\n",
       "       'коттеджный поселок Счастье', 'поселок Любань', 'деревня Зимитицы',\n",
       "       'деревня Тойворово', 'поселок Лесное', 'поселок Совхозный',\n",
       "       'посёлок Ленинское', 'посёлок Суйда',\n",
       "       'посёлок городского типа Форносово', 'поселок Перово', 'Высоцк',\n",
       "       'поселок Гарболово', 'поселок Котельский',\n",
       "       'деревня Большая Пустомержа', 'деревня Вахнова Кара',\n",
       "       'коттеджный поселок Кивеннапа Север', 'поселок Коробицыно',\n",
       "       'поселок Ромашки', 'деревня Каськово', 'поселок Сумино',\n",
       "       'деревня Ваганово', 'поселок Пушное',\n",
       "       'городской посёлок Свирьстрой', 'поселок Громово',\n",
       "       'деревня Кисельня', 'посёлок Старая Малукса', 'деревня Ненимяки',\n",
       "       'поселок Пансионат Зелёный Бор', 'деревня Рапполово',\n",
       "       'поселок Рабитицы', 'поселок Дружноселье', 'деревня Нижняя',\n",
       "       'деревня Борисова Грива', 'посёлок Дзержинского'], dtype=object)"
      ]
     },
     "execution_count": 63,
     "metadata": {},
     "output_type": "execute_result"
    }
   ],
   "source": [
    "data['locality_name'].unique()"
   ]
  },
  {
   "cell_type": "code",
   "execution_count": 64,
   "metadata": {},
   "outputs": [
    {
     "data": {
      "text/plain": [
       "241"
      ]
     },
     "execution_count": 64,
     "metadata": {},
     "output_type": "execute_result"
    }
   ],
   "source": [
    "data.duplicated().sum() # совсем идентичных строк в датасете нет\n",
    "\n",
    "data['locality_name'] = data['locality_name'].str.replace(\"ё\", \"е\")\n",
    "data['locality_name'] = data['locality_name'].str.replace(\"поселок \", \"\")\n",
    "data['locality_name'] = data['locality_name'].str.replace(\"городской \", \"\")\n",
    "data['locality_name'] = data['locality_name'].str.replace(\"деревня \", \"\")\n",
    "data['locality_name'] = data['locality_name'].str.replace(\"городского типа \", \"\")\n",
    "data['locality_name'] = data['locality_name'].str.replace(\"при железнодорожной станции \", \"\")\n",
    "data['locality_name'] = data['locality_name'].str.replace(\"станции \", \"\")\n",
    "data['locality_name'] = data['locality_name'].str.replace(\"село \", \"\")\n",
    "data['locality_name'] = data['locality_name'].str.replace(\"садовое товарищество \", \"\")\n",
    "data['locality_name'] = data['locality_name'].str.replace(\"садоводческое некоммерческое товарищество \", \"\")\n",
    "data['locality_name'] = data['locality_name'].str.replace(\"коттеджный \", \"\")\n",
    "\n",
    "data['locality_name'].unique()\n",
    "data['locality_name'].nunique() # сократили около 40 неявных дубликатов"
   ]
  },
  {
   "cell_type": "markdown",
   "metadata": {},
   "source": [
    "#### Поиск аномальных значений"
   ]
  },
  {
   "cell_type": "markdown",
   "metadata": {},
   "source": [
    "Начнём с высоты потолков. Законодательные нормы (СНИП) составляют от 2.5 метров (допустим отклонения на 10 см вниз), верхняя граница, кажется, не установлена.\n",
    "Допустим, значения от 24 и выше можно поделить на 10 и получить адекватные данные. \n",
    "Но что делать с высотой 100, 14, 10.3, 8, 1 и т.п.? проверим строки с этими аномальными значениями.\n",
    "\n",
    "Детальное изучение строк датасета с такими значениями приводит нас к следующей тактике: от 24 м - поделить на 10, после чего строки с значениями ниже 2 - удалить, выше 6 - удалить как аномальные.."
   ]
  },
  {
   "cell_type": "code",
   "execution_count": 65,
   "metadata": {
    "scrolled": false
   },
   "outputs": [
    {
     "name": "stdout",
     "output_type": "stream",
     "text": [
      "<class 'pandas.core.frame.DataFrame'>\n",
      "RangeIndex: 23514 entries, 0 to 23513\n",
      "Data columns (total 22 columns):\n",
      " #   Column                Non-Null Count  Dtype         \n",
      "---  ------                --------------  -----         \n",
      " 0   total_images          23514 non-null  int64         \n",
      " 1   last_price            23514 non-null  int64         \n",
      " 2   total_area            23514 non-null  float64       \n",
      " 3   first_day_exposition  23514 non-null  datetime64[ns]\n",
      " 4   rooms                 23514 non-null  int64         \n",
      " 5   ceiling_height        23514 non-null  float64       \n",
      " 6   floors_total          23514 non-null  int64         \n",
      " 7   living_area           21640 non-null  float64       \n",
      " 8   floor                 23514 non-null  int64         \n",
      " 9   is_apartment          23514 non-null  bool          \n",
      " 10  studio                23514 non-null  bool          \n",
      " 11  open_plan             23514 non-null  bool          \n",
      " 12  kitchen_area          21276 non-null  float64       \n",
      " 13  balcony               23514 non-null  int64         \n",
      " 14  locality_name         23514 non-null  object        \n",
      " 15  airports_nearest      18101 non-null  float64       \n",
      " 16  cityCenters_nearest   18124 non-null  float64       \n",
      " 17  parks_around3000      18125 non-null  float64       \n",
      " 18  parks_nearest         8059 non-null   float64       \n",
      " 19  ponds_around3000      18125 non-null  float64       \n",
      " 20  ponds_nearest         9078 non-null   float64       \n",
      " 21  days_exposition       23514 non-null  int64         \n",
      "dtypes: bool(3), datetime64[ns](1), float64(10), int64(7), object(1)\n",
      "memory usage: 3.5+ MB\n"
     ]
    },
    {
     "data": {
      "text/plain": [
       "array([2.7  , 2.63 , 3.03 , 2.6  , 2.64 , 2.5  , 2.67 , 2.55 , 2.56 ,\n",
       "       3.05 , 2.75 , 2.9  , 2.56 , 2.8  , 3.   , 2.65 , 3.2  , 2.61 ,\n",
       "       3.25 , 3.45 , 2.77 , 2.85 , 2.525, 2.57 , 4.15 , 3.5  , 3.3  ,\n",
       "       2.71 , 4.   , 2.47 , 2.73 , 2.84 , 3.1  , 2.34 , 3.4  , 2.52 ,\n",
       "       3.06 , 2.72 , 2.54 , 2.51 , 2.78 , 2.76 , 2.58 , 3.7  , 5.2  ,\n",
       "       2.87 , 2.66 , 2.59 , 2.   , 2.45 , 3.6  , 3.9  , 2.92 , 3.11 ,\n",
       "       3.13 , 3.8  , 3.15 , 3.55 , 3.16 , 3.62 , 3.12 , 2.53 , 2.74 ,\n",
       "       2.96 , 2.46 , 5.3  , 5.   , 2.79 , 2.95 , 4.06 , 2.94 , 3.82 ,\n",
       "       3.54 , 3.53 , 2.83 , 4.7  , 2.4  , 3.38 , 3.01 , 5.6  , 3.65 ,\n",
       "       3.18 , 3.35 , 2.3  , 3.57 , 2.48 , 2.515, 2.62 , 2.82 , 2.65 ,\n",
       "       3.98 , 3.83 , 3.52 , 3.95 , 3.75 , 2.88 , 3.67 , 3.87 , 3.66 ,\n",
       "       3.85 , 3.86 , 4.19 , 3.24 , 4.8  , 4.5  , 4.2  , 3.36 , 3.08 ,\n",
       "       3.68 , 3.07 , 3.37 , 3.09 , 3.26 , 3.34 , 2.81 , 3.44 , 2.97 ,\n",
       "       3.14 , 2.725, 4.37 , 2.68 , 2.6  , 3.22 , 3.27 , 2.675, 4.1  ,\n",
       "       2.93 , 3.46 , 3.47 , 3.33 , 3.63 , 2.625, 3.32 , 2.615, 2.98 ,\n",
       "       2.86 , 3.17 , 4.4  , 3.28 , 3.04 , 4.45 , 5.5  , 3.84 , 3.23 ,\n",
       "       3.02 , 3.21 , 3.43 , 2.575, 2.555, 3.78 , 4.3  , 3.39 , 2.69 ,\n",
       "       3.31 , 4.65 , 3.56 , 2.2  , 3.51 , 3.93 , 3.42 , 2.99 , 3.49 ,\n",
       "       4.14 , 2.91 , 3.88 , 4.25 , 3.29 , 2.25 , 3.76 , 3.69 , 6.   ,\n",
       "       2.89 , 3.58 , 5.8  , 2.49 , 4.9  , 3.48 , 3.59 ])"
      ]
     },
     "execution_count": 65,
     "metadata": {},
     "output_type": "execute_result"
    }
   ],
   "source": [
    "data['ceiling_height'].unique()\n",
    "data.query('ceiling_height == 100.') # малюсенькие апартаменты за 15 млн недалеко от центра СПб на последнем (5 этаже). Допустим, это особый дизайнерский проект, оставляем, поделив на 10\n",
    "data.query('ceiling_height == 20') # потолки 20 метров в 17-этажном доме? явно ошибка\n",
    "data.query('ceiling_height == 10.3') # потолки 10.3 метров в 16-этажном доме? явно ошибка\n",
    "data.query('ceiling_height == 14') # высота потолка совпадает с количеством этажей (14), вероятно, опечатка\n",
    "data.query('ceiling_height == 8') # 3 значения, ни одно не кажется адекватным для 5 или 16-этажного дома. В объекте в СПб \"8\" совпадает с площадью кухни\n",
    "data.query('ceiling_height == 8.3') # странное значение совпадает с площадью кухни\n",
    "data.query('ceiling_height == 6') #последний этаж огромной квартиры за 119 млн, значение возможно (мансардные окна, например)\n",
    "data.query('ceiling_height == 1')# высота в 1 метр невозможна по всем нормам здравого смысла и выглядит ошибкой\n",
    "data.query('ceiling_height == 1.2') #даже для двухэтажного дома в сельской местности выглядит ошибкой/опечаткой из-за похожих соседних цифр\n",
    "data.query('ceiling_height == 1.75') #37-этажный дом - явно новостройка, а значит объяснимых отклонений от норм закона быть не может\n",
    "data.query('ceiling_height == 2') # в основном дешевые предложения в маленьких городах Ленобласти. Странно, но возможно\n",
    "data.query('ceiling_height == 2.3') # в основном дешевые предложения в маленьких городах Ленобласти. Странно, но возможно\n",
    "data.query('ceiling_height == 2.34') # сельская местность, там встречается всякое, значение выглядит аутентичным\n",
    "data.query('ceiling_height == 2.4') # целых 23 значения, выглядит как допустимое отклонение от современных СНИП, если дома ранней застройки\n",
    "\n",
    "# Резюме: от 24 м - поделить на 10, после чего строки с значениями ниже 2 - удалить, выше 6 - удалить как аномальные.\n",
    "\n",
    "data.loc[data['ceiling_height'] >= 24.0, 'ceiling_height'] = data.loc[(data['ceiling_height'] >= 24.0), 'ceiling_height'] / 10\n",
    "data['ceiling_height'].unique()\n",
    "\n",
    "df = data.query('6.0 >= ceiling_height >= 2.0').reset_index(drop=True)\n",
    "\n",
    "df.info()\n",
    "df['ceiling_height'].unique()\n"
   ]
  },
  {
   "cell_type": "markdown",
   "metadata": {},
   "source": [
    "Теперь проверим количество этажей, зная, что самое высокое жилое здание в СПб - 37 этажей. Убедились, что строки со значениями 52 и 60 суть исключения, удаляем их."
   ]
  },
  {
   "cell_type": "code",
   "execution_count": 66,
   "metadata": {},
   "outputs": [
    {
     "name": "stdout",
     "output_type": "stream",
     "text": [
      "<class 'pandas.core.frame.DataFrame'>\n",
      "RangeIndex: 23512 entries, 0 to 23511\n",
      "Data columns (total 22 columns):\n",
      " #   Column                Non-Null Count  Dtype         \n",
      "---  ------                --------------  -----         \n",
      " 0   total_images          23512 non-null  int64         \n",
      " 1   last_price            23512 non-null  int64         \n",
      " 2   total_area            23512 non-null  float64       \n",
      " 3   first_day_exposition  23512 non-null  datetime64[ns]\n",
      " 4   rooms                 23512 non-null  int64         \n",
      " 5   ceiling_height        23512 non-null  float64       \n",
      " 6   floors_total          23512 non-null  int64         \n",
      " 7   living_area           21638 non-null  float64       \n",
      " 8   floor                 23512 non-null  int64         \n",
      " 9   is_apartment          23512 non-null  bool          \n",
      " 10  studio                23512 non-null  bool          \n",
      " 11  open_plan             23512 non-null  bool          \n",
      " 12  kitchen_area          21274 non-null  float64       \n",
      " 13  balcony               23512 non-null  int64         \n",
      " 14  locality_name         23512 non-null  object        \n",
      " 15  airports_nearest      18099 non-null  float64       \n",
      " 16  cityCenters_nearest   18122 non-null  float64       \n",
      " 17  parks_around3000      18123 non-null  float64       \n",
      " 18  parks_nearest         8057 non-null   float64       \n",
      " 19  ponds_around3000      18123 non-null  float64       \n",
      " 20  ponds_nearest         9077 non-null   float64       \n",
      " 21  days_exposition       23512 non-null  int64         \n",
      "dtypes: bool(3), datetime64[ns](1), float64(10), int64(7), object(1)\n",
      "memory usage: 3.5+ MB\n"
     ]
    }
   ],
   "source": [
    "df['floors_total'].unique()\n",
    "df.query('floors_total == 60')\n",
    "df['floors_total'].unique()\n",
    "df.query('floors_total == 52')\n",
    "\n",
    "df = df.query('floors_total <= 37').reset_index(drop=True)\n",
    "df.info()"
   ]
  },
  {
   "cell_type": "markdown",
   "metadata": {},
   "source": [
    "Проверим количество комнат. "
   ]
  },
  {
   "cell_type": "code",
   "execution_count": 67,
   "metadata": {},
   "outputs": [
    {
     "name": "stdout",
     "output_type": "stream",
     "text": [
      "<class 'pandas.core.frame.DataFrame'>\n",
      "RangeIndex: 23507 entries, 0 to 23506\n",
      "Data columns (total 22 columns):\n",
      " #   Column                Non-Null Count  Dtype         \n",
      "---  ------                --------------  -----         \n",
      " 0   total_images          23507 non-null  int64         \n",
      " 1   last_price            23507 non-null  int64         \n",
      " 2   total_area            23507 non-null  float64       \n",
      " 3   first_day_exposition  23507 non-null  datetime64[ns]\n",
      " 4   rooms                 23507 non-null  int64         \n",
      " 5   ceiling_height        23507 non-null  float64       \n",
      " 6   floors_total          23507 non-null  int64         \n",
      " 7   living_area           21634 non-null  float64       \n",
      " 8   floor                 23507 non-null  int64         \n",
      " 9   is_apartment          23507 non-null  bool          \n",
      " 10  studio                23507 non-null  bool          \n",
      " 11  open_plan             23507 non-null  bool          \n",
      " 12  kitchen_area          21274 non-null  float64       \n",
      " 13  balcony               23507 non-null  int64         \n",
      " 14  locality_name         23507 non-null  object        \n",
      " 15  airports_nearest      18094 non-null  float64       \n",
      " 16  cityCenters_nearest   18117 non-null  float64       \n",
      " 17  parks_around3000      18118 non-null  float64       \n",
      " 18  parks_nearest         8055 non-null   float64       \n",
      " 19  ponds_around3000      18118 non-null  float64       \n",
      " 20  ponds_nearest         9073 non-null   float64       \n",
      " 21  days_exposition       23507 non-null  int64         \n",
      "dtypes: bool(3), datetime64[ns](1), float64(10), int64(7), object(1)\n",
      "memory usage: 3.5+ MB\n"
     ]
    }
   ],
   "source": [
    "df['rooms'].unique() # смущают значения 0 и от 10\n",
    "df.query('rooms > 10') # значения удивляют, но в целом пропорциональны площади квартир\n",
    "no_rooms = (df.loc[(df['rooms'] == 0) & (df['studio'] == False)]) # проверим нули, которые не студии\n",
    "no_rooms['total_area'].unique() #по площади выглядят как однокомнатные, кроме тех, что больше 40 метров\n",
    "no_rooms.query('total_area > 40.0') #в квартире на 371 кв.м. пропуски по living_area & kitchen_area : вероятно, все значения были не заполнены\n",
    "df.loc[(df['total_area'] < 45) & (df['rooms'] == 0), 'rooms'] = 1 # остальным присвоим значение однокомнатных\n",
    "df.loc[(df['rooms'] == 0) & (df['studio'] == False)]\n",
    "\n",
    "df = df.loc[(df['rooms'] != 0) & (df['total_area'] != 371.0)].reset_index(drop=True)\n",
    "df.info()"
   ]
  },
  {
   "cell_type": "markdown",
   "metadata": {},
   "source": [
    "И общую площадь квартиры."
   ]
  },
  {
   "cell_type": "code",
   "execution_count": 68,
   "metadata": {},
   "outputs": [
    {
     "data": {
      "text/html": [
       "<div>\n",
       "<style scoped>\n",
       "    .dataframe tbody tr th:only-of-type {\n",
       "        vertical-align: middle;\n",
       "    }\n",
       "\n",
       "    .dataframe tbody tr th {\n",
       "        vertical-align: top;\n",
       "    }\n",
       "\n",
       "    .dataframe thead th {\n",
       "        text-align: right;\n",
       "    }\n",
       "</style>\n",
       "<table border=\"1\" class=\"dataframe\">\n",
       "  <thead>\n",
       "    <tr style=\"text-align: right;\">\n",
       "      <th></th>\n",
       "      <th>total_images</th>\n",
       "      <th>last_price</th>\n",
       "      <th>total_area</th>\n",
       "      <th>first_day_exposition</th>\n",
       "      <th>rooms</th>\n",
       "      <th>ceiling_height</th>\n",
       "      <th>floors_total</th>\n",
       "      <th>living_area</th>\n",
       "      <th>floor</th>\n",
       "      <th>is_apartment</th>\n",
       "      <th>...</th>\n",
       "      <th>kitchen_area</th>\n",
       "      <th>balcony</th>\n",
       "      <th>locality_name</th>\n",
       "      <th>airports_nearest</th>\n",
       "      <th>cityCenters_nearest</th>\n",
       "      <th>parks_around3000</th>\n",
       "      <th>parks_nearest</th>\n",
       "      <th>ponds_around3000</th>\n",
       "      <th>ponds_nearest</th>\n",
       "      <th>days_exposition</th>\n",
       "    </tr>\n",
       "  </thead>\n",
       "  <tbody>\n",
       "    <tr>\n",
       "      <th>3099</th>\n",
       "      <td>19</td>\n",
       "      <td>140000000</td>\n",
       "      <td>631.0</td>\n",
       "      <td>2019-03-30</td>\n",
       "      <td>7</td>\n",
       "      <td>2.70</td>\n",
       "      <td>5</td>\n",
       "      <td>NaN</td>\n",
       "      <td>5</td>\n",
       "      <td>False</td>\n",
       "      <td>...</td>\n",
       "      <td>60.0</td>\n",
       "      <td>0</td>\n",
       "      <td>Санкт-Петербург</td>\n",
       "      <td>25707.0</td>\n",
       "      <td>4972.0</td>\n",
       "      <td>0.0</td>\n",
       "      <td>NaN</td>\n",
       "      <td>2.0</td>\n",
       "      <td>210.0</td>\n",
       "      <td>95</td>\n",
       "    </tr>\n",
       "    <tr>\n",
       "      <th>4206</th>\n",
       "      <td>1</td>\n",
       "      <td>50000000</td>\n",
       "      <td>517.0</td>\n",
       "      <td>2017-10-14</td>\n",
       "      <td>7</td>\n",
       "      <td>2.70</td>\n",
       "      <td>4</td>\n",
       "      <td>332.0</td>\n",
       "      <td>3</td>\n",
       "      <td>False</td>\n",
       "      <td>...</td>\n",
       "      <td>22.0</td>\n",
       "      <td>0</td>\n",
       "      <td>Санкт-Петербург</td>\n",
       "      <td>22835.0</td>\n",
       "      <td>1847.0</td>\n",
       "      <td>2.0</td>\n",
       "      <td>477.0</td>\n",
       "      <td>2.0</td>\n",
       "      <td>540.0</td>\n",
       "      <td>95</td>\n",
       "    </tr>\n",
       "    <tr>\n",
       "      <th>5318</th>\n",
       "      <td>20</td>\n",
       "      <td>65000000</td>\n",
       "      <td>590.0</td>\n",
       "      <td>2019-02-14</td>\n",
       "      <td>15</td>\n",
       "      <td>3.50</td>\n",
       "      <td>6</td>\n",
       "      <td>409.0</td>\n",
       "      <td>3</td>\n",
       "      <td>False</td>\n",
       "      <td>...</td>\n",
       "      <td>100.0</td>\n",
       "      <td>0</td>\n",
       "      <td>Санкт-Петербург</td>\n",
       "      <td>24447.0</td>\n",
       "      <td>4666.0</td>\n",
       "      <td>1.0</td>\n",
       "      <td>767.0</td>\n",
       "      <td>0.0</td>\n",
       "      <td>NaN</td>\n",
       "      <td>14</td>\n",
       "    </tr>\n",
       "    <tr>\n",
       "      <th>7959</th>\n",
       "      <td>20</td>\n",
       "      <td>84000000</td>\n",
       "      <td>507.0</td>\n",
       "      <td>2015-12-17</td>\n",
       "      <td>5</td>\n",
       "      <td>4.45</td>\n",
       "      <td>7</td>\n",
       "      <td>301.5</td>\n",
       "      <td>7</td>\n",
       "      <td>True</td>\n",
       "      <td>...</td>\n",
       "      <td>45.5</td>\n",
       "      <td>1</td>\n",
       "      <td>Санкт-Петербург</td>\n",
       "      <td>NaN</td>\n",
       "      <td>5735.0</td>\n",
       "      <td>2.0</td>\n",
       "      <td>110.0</td>\n",
       "      <td>0.0</td>\n",
       "      <td>NaN</td>\n",
       "      <td>1078</td>\n",
       "    </tr>\n",
       "    <tr>\n",
       "      <th>12774</th>\n",
       "      <td>20</td>\n",
       "      <td>140000000</td>\n",
       "      <td>631.2</td>\n",
       "      <td>2019-04-09</td>\n",
       "      <td>7</td>\n",
       "      <td>3.90</td>\n",
       "      <td>4</td>\n",
       "      <td>322.3</td>\n",
       "      <td>4</td>\n",
       "      <td>False</td>\n",
       "      <td>...</td>\n",
       "      <td>19.5</td>\n",
       "      <td>1</td>\n",
       "      <td>Санкт-Петербург</td>\n",
       "      <td>25707.0</td>\n",
       "      <td>4972.0</td>\n",
       "      <td>0.0</td>\n",
       "      <td>NaN</td>\n",
       "      <td>2.0</td>\n",
       "      <td>210.0</td>\n",
       "      <td>95</td>\n",
       "    </tr>\n",
       "    <tr>\n",
       "      <th>15548</th>\n",
       "      <td>20</td>\n",
       "      <td>300000000</td>\n",
       "      <td>618.0</td>\n",
       "      <td>2017-12-18</td>\n",
       "      <td>7</td>\n",
       "      <td>3.40</td>\n",
       "      <td>7</td>\n",
       "      <td>258.0</td>\n",
       "      <td>5</td>\n",
       "      <td>False</td>\n",
       "      <td>...</td>\n",
       "      <td>70.0</td>\n",
       "      <td>0</td>\n",
       "      <td>Санкт-Петербург</td>\n",
       "      <td>32440.0</td>\n",
       "      <td>5297.0</td>\n",
       "      <td>0.0</td>\n",
       "      <td>NaN</td>\n",
       "      <td>2.0</td>\n",
       "      <td>198.0</td>\n",
       "      <td>111</td>\n",
       "    </tr>\n",
       "    <tr>\n",
       "      <th>19393</th>\n",
       "      <td>8</td>\n",
       "      <td>420000000</td>\n",
       "      <td>900.0</td>\n",
       "      <td>2017-12-06</td>\n",
       "      <td>12</td>\n",
       "      <td>2.80</td>\n",
       "      <td>25</td>\n",
       "      <td>409.7</td>\n",
       "      <td>25</td>\n",
       "      <td>False</td>\n",
       "      <td>...</td>\n",
       "      <td>112.0</td>\n",
       "      <td>0</td>\n",
       "      <td>Санкт-Петербург</td>\n",
       "      <td>30706.0</td>\n",
       "      <td>7877.0</td>\n",
       "      <td>0.0</td>\n",
       "      <td>NaN</td>\n",
       "      <td>2.0</td>\n",
       "      <td>318.0</td>\n",
       "      <td>106</td>\n",
       "    </tr>\n",
       "  </tbody>\n",
       "</table>\n",
       "<p>7 rows × 22 columns</p>\n",
       "</div>"
      ],
      "text/plain": [
       "       total_images  last_price  total_area first_day_exposition  rooms  \\\n",
       "3099             19   140000000       631.0           2019-03-30      7   \n",
       "4206              1    50000000       517.0           2017-10-14      7   \n",
       "5318             20    65000000       590.0           2019-02-14     15   \n",
       "7959             20    84000000       507.0           2015-12-17      5   \n",
       "12774            20   140000000       631.2           2019-04-09      7   \n",
       "15548            20   300000000       618.0           2017-12-18      7   \n",
       "19393             8   420000000       900.0           2017-12-06     12   \n",
       "\n",
       "       ceiling_height  floors_total  living_area  floor  is_apartment  ...  \\\n",
       "3099             2.70             5          NaN      5         False  ...   \n",
       "4206             2.70             4        332.0      3         False  ...   \n",
       "5318             3.50             6        409.0      3         False  ...   \n",
       "7959             4.45             7        301.5      7          True  ...   \n",
       "12774            3.90             4        322.3      4         False  ...   \n",
       "15548            3.40             7        258.0      5         False  ...   \n",
       "19393            2.80            25        409.7     25         False  ...   \n",
       "\n",
       "       kitchen_area  balcony    locality_name  airports_nearest  \\\n",
       "3099           60.0        0  Санкт-Петербург           25707.0   \n",
       "4206           22.0        0  Санкт-Петербург           22835.0   \n",
       "5318          100.0        0  Санкт-Петербург           24447.0   \n",
       "7959           45.5        1  Санкт-Петербург               NaN   \n",
       "12774          19.5        1  Санкт-Петербург           25707.0   \n",
       "15548          70.0        0  Санкт-Петербург           32440.0   \n",
       "19393         112.0        0  Санкт-Петербург           30706.0   \n",
       "\n",
       "      cityCenters_nearest  parks_around3000  parks_nearest  ponds_around3000  \\\n",
       "3099               4972.0               0.0            NaN               2.0   \n",
       "4206               1847.0               2.0          477.0               2.0   \n",
       "5318               4666.0               1.0          767.0               0.0   \n",
       "7959               5735.0               2.0          110.0               0.0   \n",
       "12774              4972.0               0.0            NaN               2.0   \n",
       "15548              5297.0               0.0            NaN               2.0   \n",
       "19393              7877.0               0.0            NaN               2.0   \n",
       "\n",
       "       ponds_nearest  days_exposition  \n",
       "3099           210.0               95  \n",
       "4206           540.0               95  \n",
       "5318             NaN               14  \n",
       "7959             NaN             1078  \n",
       "12774          210.0               95  \n",
       "15548          198.0              111  \n",
       "19393          318.0              106  \n",
       "\n",
       "[7 rows x 22 columns]"
      ]
     },
     "execution_count": 68,
     "metadata": {},
     "output_type": "execute_result"
    }
   ],
   "source": [
    "df['total_area'].sort_values()\n",
    "df.query('total_area > 500') # красиво жить не запретишь"
   ]
  },
  {
   "cell_type": "markdown",
   "metadata": {},
   "source": [
    "Посмотрим и на цены квартир. Меньше полумиллиона стоят маленькие квартиры в сельской местности — нормально. И одна явная аномалия за 13000 т.р."
   ]
  },
  {
   "cell_type": "code",
   "execution_count": 69,
   "metadata": {
    "scrolled": true
   },
   "outputs": [
    {
     "name": "stdout",
     "output_type": "stream",
     "text": [
      "<class 'pandas.core.frame.DataFrame'>\n",
      "Int64Index: 23506 entries, 0 to 23506\n",
      "Data columns (total 22 columns):\n",
      " #   Column                Non-Null Count  Dtype         \n",
      "---  ------                --------------  -----         \n",
      " 0   total_images          23506 non-null  int64         \n",
      " 1   last_price            23506 non-null  int64         \n",
      " 2   total_area            23506 non-null  float64       \n",
      " 3   first_day_exposition  23506 non-null  datetime64[ns]\n",
      " 4   rooms                 23506 non-null  int64         \n",
      " 5   ceiling_height        23506 non-null  float64       \n",
      " 6   floors_total          23506 non-null  int64         \n",
      " 7   living_area           21633 non-null  float64       \n",
      " 8   floor                 23506 non-null  int64         \n",
      " 9   is_apartment          23506 non-null  bool          \n",
      " 10  studio                23506 non-null  bool          \n",
      " 11  open_plan             23506 non-null  bool          \n",
      " 12  kitchen_area          21273 non-null  float64       \n",
      " 13  balcony               23506 non-null  int64         \n",
      " 14  locality_name         23506 non-null  object        \n",
      " 15  airports_nearest      18093 non-null  float64       \n",
      " 16  cityCenters_nearest   18116 non-null  float64       \n",
      " 17  parks_around3000      18117 non-null  float64       \n",
      " 18  parks_nearest         8054 non-null   float64       \n",
      " 19  ponds_around3000      18117 non-null  float64       \n",
      " 20  ponds_nearest         9073 non-null   float64       \n",
      " 21  days_exposition       23506 non-null  int64         \n",
      "dtypes: bool(3), datetime64[ns](1), float64(10), int64(7), object(1)\n",
      "memory usage: 3.7+ MB\n"
     ]
    }
   ],
   "source": [
    "df['last_price'].sort_values()\n",
    "df.query('last_price < 500000') # квартира за 12900 - явно аномалия\n",
    "df = df.query('last_price > 13000')\n",
    "df.info()"
   ]
  },
  {
   "cell_type": "markdown",
   "metadata": {},
   "source": [
    "Анализируем жилую площадь."
   ]
  },
  {
   "cell_type": "code",
   "execution_count": 70,
   "metadata": {},
   "outputs": [
    {
     "name": "stdout",
     "output_type": "stream",
     "text": [
      "<class 'pandas.core.frame.DataFrame'>\n",
      "RangeIndex: 23498 entries, 0 to 23497\n",
      "Data columns (total 22 columns):\n",
      " #   Column                Non-Null Count  Dtype         \n",
      "---  ------                --------------  -----         \n",
      " 0   total_images          23498 non-null  int64         \n",
      " 1   last_price            23498 non-null  int64         \n",
      " 2   total_area            23498 non-null  float64       \n",
      " 3   first_day_exposition  23498 non-null  datetime64[ns]\n",
      " 4   rooms                 23498 non-null  int64         \n",
      " 5   ceiling_height        23498 non-null  float64       \n",
      " 6   floors_total          23498 non-null  int64         \n",
      " 7   living_area           21625 non-null  float64       \n",
      " 8   floor                 23498 non-null  int64         \n",
      " 9   is_apartment          23498 non-null  bool          \n",
      " 10  studio                23498 non-null  bool          \n",
      " 11  open_plan             23498 non-null  bool          \n",
      " 12  kitchen_area          21267 non-null  float64       \n",
      " 13  balcony               23498 non-null  int64         \n",
      " 14  locality_name         23498 non-null  object        \n",
      " 15  airports_nearest      18086 non-null  float64       \n",
      " 16  cityCenters_nearest   18109 non-null  float64       \n",
      " 17  parks_around3000      18110 non-null  float64       \n",
      " 18  parks_nearest         8049 non-null   float64       \n",
      " 19  ponds_around3000      18110 non-null  float64       \n",
      " 20  ponds_nearest         9070 non-null   float64       \n",
      " 21  days_exposition       23498 non-null  int64         \n",
      "dtypes: bool(3), datetime64[ns](1), float64(10), int64(7), object(1)\n",
      "memory usage: 3.5+ MB\n"
     ]
    }
   ],
   "source": [
    "df['living_area'].sort_values()\n",
    "df.query('living_area < 9') # неадекватно выглядят значения меньше 8 (даже если те, которые чуть больше, возможно, были перепутаны с площадью кухни)\n",
    "\n",
    "df = df.loc[(df['living_area'] >= 8) | (df['living_area'].isna())].reset_index(drop=True)\n",
    "df.info()"
   ]
  },
  {
   "cell_type": "markdown",
   "metadata": {},
   "source": [
    "В остальным столбцах явных аномалий не выявлено. \n",
    "\n",
    "Отдельно отметим, что гистограмма по столбцу с количеством дней, прошедших с публикации объявления, похожа на распределение Пуассона, что адекватно для этих данных."
   ]
  },
  {
   "cell_type": "code",
   "execution_count": 99,
   "metadata": {
    "scrolled": true
   },
   "outputs": [
    {
     "data": {
      "image/png": "[encoded data removed]",
      "text/plain": [
       "<Figure size 432x288 with 1 Axes>"
      ]
     },
     "metadata": {
      "needs_background": "light"
     },
     "output_type": "display_data"
    }
   ],
   "source": [
    "df['total_images'].unique() # всё ок\n",
    "df.query('floor > floors_total') # аномалий в этажах нет\n",
    "df['kitchen_area'].sort_values()\n",
    "df.query('kitchen_area < 4.5')\n",
    "df.loc[(df['studio']) & (df['kitchen_area'] != 0), 'kitchen_area'] = 0 \n",
    "df.query('studio & kitchen_area != 0')\n",
    "df['studio'].value_counts()\n",
    "df.query('0 < kitchen_area < 4.5') # маленькие кухни пугают, но в целом коррелируют с общей и жилой площадью в объектах среза\n",
    "df['balcony'].unique() \n",
    "df.query('balcony > 3') # не могу представить себе квартиры с 4 и более балконами, особенно когда речь о 2-хкомнатных в многоэтажках\n",
    "# есть предположение, что в ячейке может быть указано не число, а площадь балкона, но как отсеять внесенные площади вместо чисел - не очень понятно \n",
    "\n",
    "df['days_exposition'].describe()\n",
    "df['days_exposition'].hist(bins=50) #вполне похоже на распределение Пуассона, аномалии вычищать не будем\n",
    "plt.show()"
   ]
  },
  {
   "cell_type": "markdown",
   "metadata": {},
   "source": [
    "#### Выводы по шагу 2.4\n",
    "Во многих столбцах встречаются явно аномальные, странные или просто удивительные значения. Некоторые из них можно списать на неоднородность рынка недвижимости (особенно когда речь идет о площади кухонь). Некоторые, вероятно, случайно скопированы из соседних столбцов (значения совпадают). Пришлось устранить явные аномалии в количестве этажей (таких жилых зданий в реальности в данном регионе нет) и высоте потолков (как слишком высокой, так и слишком низкой). "
   ]
  },
  {
   "cell_type": "markdown",
   "metadata": {},
   "source": [
    "### Добавим в таблицу новые столбцы"
   ]
  },
  {
   "cell_type": "markdown",
   "metadata": {},
   "source": [
    "Добавим такие столбцы, как:\n",
    "* цена за квадратный метр;\n",
    "* день недели публикации объявления (0 — понедельник, 1 — вторник и так далее);\n",
    "* месяц публикации объявления;\n",
    "* год публикации объявления;\n",
    "* тип этажа квартиры (значения — «первый», «последний», «другой»);\n",
    "* расстояние до центра города в километрах."
   ]
  },
  {
   "cell_type": "code",
   "execution_count": 72,
   "metadata": {},
   "outputs": [
    {
     "name": "stdout",
     "output_type": "stream",
     "text": [
      "<class 'pandas.core.frame.DataFrame'>\n",
      "RangeIndex: 23498 entries, 0 to 23497\n",
      "Data columns (total 28 columns):\n",
      " #   Column                Non-Null Count  Dtype         \n",
      "---  ------                --------------  -----         \n",
      " 0   total_images          23498 non-null  int64         \n",
      " 1   last_price            23498 non-null  int64         \n",
      " 2   total_area            23498 non-null  float64       \n",
      " 3   first_day_exposition  23498 non-null  datetime64[ns]\n",
      " 4   rooms                 23498 non-null  int64         \n",
      " 5   ceiling_height        23498 non-null  float64       \n",
      " 6   floors_total          23498 non-null  int64         \n",
      " 7   living_area           21625 non-null  float64       \n",
      " 8   floor                 23498 non-null  int64         \n",
      " 9   is_apartment          23498 non-null  bool          \n",
      " 10  studio                23498 non-null  bool          \n",
      " 11  open_plan             23498 non-null  bool          \n",
      " 12  kitchen_area          21409 non-null  float64       \n",
      " 13  balcony               23498 non-null  int64         \n",
      " 14  locality_name         23498 non-null  object        \n",
      " 15  airports_nearest      18086 non-null  float64       \n",
      " 16  cityCenters_nearest   18109 non-null  float64       \n",
      " 17  parks_around3000      18110 non-null  float64       \n",
      " 18  parks_nearest         8049 non-null   float64       \n",
      " 19  ponds_around3000      18110 non-null  float64       \n",
      " 20  ponds_nearest         9070 non-null   float64       \n",
      " 21  days_exposition       23498 non-null  int64         \n",
      " 22  sq_m_price            23498 non-null  float64       \n",
      " 23  month                 23498 non-null  int64         \n",
      " 24  year                  23498 non-null  int64         \n",
      " 25  weekday               23498 non-null  int64         \n",
      " 26  cat_floor             23498 non-null  object        \n",
      " 27  center_km             18109 non-null  float64       \n",
      "dtypes: bool(3), datetime64[ns](1), float64(12), int64(10), object(2)\n",
      "memory usage: 4.5+ MB\n"
     ]
    }
   ],
   "source": [
    "df['sq_m_price'] = df['last_price'] / df['total_area']\n",
    "df['sq_m_price']\n",
    "df['month'] = pd.DatetimeIndex(df['first_day_exposition']).month\n",
    "df['month']\n",
    "df['year'] = pd.DatetimeIndex(df['first_day_exposition']).year\n",
    "df['year']\n",
    "df['weekday'] = df['first_day_exposition'].dt.weekday\n",
    "df['weekday']\n",
    "\n",
    "def cat_floor(row):\n",
    "    if row['floor'] == 1:\n",
    "        return 'первый'\n",
    "    elif row['floor'] == row['floors_total']:\n",
    "        return 'последний'\n",
    "    else:\n",
    "        return 'другой'\n",
    "df['cat_floor'] = df.apply(cat_floor, axis=1)\n",
    "\n",
    "df['center_km'] = df['cityCenters_nearest'] / 1000\n",
    "df['center_km'] = df['center_km'].round()\n",
    "df.info()"
   ]
  },
  {
   "cell_type": "markdown",
   "metadata": {},
   "source": [
    "### Исследовательский анализ данных"
   ]
  },
  {
   "cell_type": "markdown",
   "metadata": {},
   "source": [
    "#### Построим графики, отображающие распределение данных в разных столбцах. "
   ]
  },
  {
   "cell_type": "code",
   "execution_count": 73,
   "metadata": {
    "scrolled": false
   },
   "outputs": [
    {
     "data": {
      "image/png": "[encoded data removed]",
      "text/plain": [
       "<Figure size 432x288 with 1 Axes>"
      ]
     },
     "metadata": {
      "needs_background": "light"
     },
     "output_type": "display_data"
    },
    {
     "data": {
      "text/plain": [
       "19745     12.0\n",
       "19393     13.0\n",
       "19650     13.0\n",
       "17825     13.0\n",
       "19405     13.2\n",
       "         ...  \n",
       "5317     590.0\n",
       "15545    618.0\n",
       "3099     631.0\n",
       "12772    631.2\n",
       "19387    900.0\n",
       "Name: total_area, Length: 23498, dtype: float64"
      ]
     },
     "execution_count": 73,
     "metadata": {},
     "output_type": "execute_result"
    }
   ],
   "source": [
    "df['total_area'].hist(bins=200, range=(0, 100))\n",
    "plt.show()\n",
    "df['total_area'].sort_values()"
   ]
  },
  {
   "cell_type": "markdown",
   "metadata": {},
   "source": [
    "1) total_area: Большинство продаваемых объектов недвижимости - от 27 до 80 кв.метров, хотя отдельные значения доходят до 400, 600 и даже 900 кв.м. График похож на нормальное распределение. Видны пиковые (типичные) значения для однокомнатных квартир в районе 32 кв.м, для двухкомнатных в районе 42-45 кв.м."
   ]
  },
  {
   "cell_type": "code",
   "execution_count": 74,
   "metadata": {
    "scrolled": true
   },
   "outputs": [
    {
     "data": {
      "image/png": "[encoded data removed]",
      "text/plain": [
       "<Figure size 432x288 with 1 Axes>"
      ]
     },
     "metadata": {
      "needs_background": "light"
     },
     "output_type": "display_data"
    }
   ],
   "source": [
    "df['living_area'].hist(bins=200, range=(0,100))\n",
    "plt.show()"
   ]
  },
  {
   "cell_type": "markdown",
   "metadata": {},
   "source": [
    "2) living_area: странный провал в районе 24 кв.м между пиками в районе 18-20 и 26-27 кв.м. Вероятно, объясняется разницей между 1- и 2-хкомнатными квартирами. Отдельный небольшой пик в районе 45 кв.м. - вероятно, для типовых трехкомнатных квартир."
   ]
  },
  {
   "cell_type": "code",
   "execution_count": 75,
   "metadata": {
    "scrolled": true
   },
   "outputs": [
    {
     "data": {
      "image/png": "[encoded data removed]",
      "text/plain": [
       "<Figure size 432x288 with 1 Axes>"
      ]
     },
     "metadata": {
      "needs_background": "light"
     },
     "output_type": "display_data"
    }
   ],
   "source": [
    "df['kitchen_area'].hist(bins=200, range=(0,50))\n",
    "plt.show()"
   ]
  },
  {
   "cell_type": "markdown",
   "metadata": {},
   "source": [
    "3) kitchen_area: график похож на нормальное распределение, большинство значений собраны в диапазоне 7-13 кв.м., что соответствует общепринятым представлениям о действительности."
   ]
  },
  {
   "cell_type": "code",
   "execution_count": 76,
   "metadata": {},
   "outputs": [
    {
     "data": {
      "image/png": "[encoded data removed]",
      "text/plain": [
       "<Figure size 432x288 with 1 Axes>"
      ]
     },
     "metadata": {
      "needs_background": "light"
     },
     "output_type": "display_data"
    }
   ],
   "source": [
    "df['last_price'].hist(bins=100, range=(0,25000000))\n",
    "plt.show()"
   ]
  },
  {
   "cell_type": "markdown",
   "metadata": {},
   "source": [
    "4) last_price: график без range описывать невозможно, на range до 10 млн за квартиру практически идеальное нормальное распределение с вершиной в 4 млн рублей. Выглядит логично."
   ]
  },
  {
   "cell_type": "code",
   "execution_count": 77,
   "metadata": {},
   "outputs": [
    {
     "data": {
      "image/png": "[encoded data removed]",
      "text/plain": [
       "<Figure size 432x288 with 1 Axes>"
      ]
     },
     "metadata": {
      "needs_background": "light"
     },
     "output_type": "display_data"
    },
    {
     "data": {
      "text/plain": [
       "19"
      ]
     },
     "execution_count": 77,
     "metadata": {},
     "output_type": "execute_result"
    }
   ],
   "source": [
    "df['rooms'].hist(bins=10, range=(0,10))\n",
    "plt.show()\n",
    "df['rooms'].max()"
   ]
  },
  {
   "cell_type": "markdown",
   "metadata": {},
   "source": [
    "5) rooms: манипуляции с параметрами гистограммы позволили получить чёткую картину по количеству комнат. Больше всего в продаже однокомнатных, совсем чуть-чуть уступают двухкомнатные, трёхкомнатных примерно на четверть меньше, от 4 комнат и больше начинаются редкие значения."
   ]
  },
  {
   "cell_type": "code",
   "execution_count": 78,
   "metadata": {
    "scrolled": true
   },
   "outputs": [
    {
     "data": {
      "image/png": "[encoded data removed]",
      "text/plain": [
       "<Figure size 432x288 with 1 Axes>"
      ]
     },
     "metadata": {
      "needs_background": "light"
     },
     "output_type": "display_data"
    }
   ],
   "source": [
    "df['ceiling_height'].hist(bins=50, range=(2,6))\n",
    "plt.show()"
   ]
  },
  {
   "cell_type": "markdown",
   "metadata": {},
   "source": [
    "6) ceiling_height: график соответствует представлениям о реальности: потолков высотой 2.5 м много, но больше - более комфортных значений в районе 2.7 м. До 3.5 м наблюдается существенное количество значений (Петербург, как-никак), дальше - единицы, которых на гистограмме не видно."
   ]
  },
  {
   "cell_type": "code",
   "execution_count": 79,
   "metadata": {},
   "outputs": [
    {
     "data": {
      "image/png": "[encoded data removed]",
      "text/plain": [
       "<Figure size 432x288 with 1 Axes>"
      ]
     },
     "metadata": {
      "needs_background": "light"
     },
     "output_type": "display_data"
    }
   ],
   "source": [
    "df['floor'].hist(bins=37, range=(1,37))\n",
    "plt.show()"
   ]
  },
  {
   "cell_type": "markdown",
   "metadata": {},
   "source": [
    "7) floor: крайне логичный график: чем выше этаж, тем меньше домов с такой этажностью и, соответственно, предложений на рынке. Любопытно, что первый этаж уступает второму и третьему, возможно, это объясняется тем, что первый этаж часто занят магазинами и другими нежилыми помещениями. Большинство зданий в датасете, вероятно, пятиэтажки."
   ]
  },
  {
   "cell_type": "code",
   "execution_count": 80,
   "metadata": {
    "scrolled": true
   },
   "outputs": [
    {
     "data": {
      "image/png": "[encoded data removed]",
      "text/plain": [
       "<Figure size 432x288 with 1 Axes>"
      ]
     },
     "metadata": {
      "needs_background": "light"
     },
     "output_type": "display_data"
    },
    {
     "data": {
      "text/plain": [
       "другой       17344\n",
       "последний     3285\n",
       "первый        2869\n",
       "Name: cat_floor, dtype: int64"
      ]
     },
     "execution_count": 80,
     "metadata": {},
     "output_type": "execute_result"
    }
   ],
   "source": [
    "df['cat_floor'].hist(bins=3)\n",
    "plt.show()\n",
    "df['cat_floor'].value_counts()"
   ]
  },
  {
   "cell_type": "markdown",
   "metadata": {},
   "source": [
    "8) cat_floor: предсказуемо больше этажей категории \"другой\", превосходство последних этажей над первыми можно также объяснять тем, что первый этаж часто занят магазинами и другими нежилыми помещениями. Большинство зданий в датасете, вероятно, пятиэтажки."
   ]
  },
  {
   "cell_type": "code",
   "execution_count": 81,
   "metadata": {
    "scrolled": false
   },
   "outputs": [
    {
     "data": {
      "image/png": "[encoded data removed]",
      "text/plain": [
       "<Figure size 432x288 with 1 Axes>"
      ]
     },
     "metadata": {
      "needs_background": "light"
     },
     "output_type": "display_data"
    }
   ],
   "source": [
    "df['floors_total'].hist(bins=36, range=(1,36))\n",
    "plt.show()"
   ]
  },
  {
   "cell_type": "markdown",
   "metadata": {},
   "source": [
    "9) floors_total: гипотеза подтвердилась: большинство зданий в датасете - пятиэтажные. Другие пики (вполне предсказуемые) - девятиэтажки, шестнадцатиэтажки и здания в 12 и 25 этажей."
   ]
  },
  {
   "cell_type": "code",
   "execution_count": 82,
   "metadata": {},
   "outputs": [
    {
     "data": {
      "image/png": "[encoded data removed]",
      "text/plain": [
       "<Figure size 432x288 with 1 Axes>"
      ]
     },
     "metadata": {
      "needs_background": "light"
     },
     "output_type": "display_data"
    }
   ],
   "source": [
    "df['cityCenters_nearest'].hist(bins=50)\n",
    "plt.show()"
   ]
  },
  {
   "cell_type": "markdown",
   "metadata": {},
   "source": [
    "10) расстояние до центра города: интересен пик в районе 7500 м от центра, а также небольшой пик чуть за 30 км. Вероятно, там расположены какие-то густонаселенные микрорайоны."
   ]
  },
  {
   "cell_type": "code",
   "execution_count": 83,
   "metadata": {
    "scrolled": true
   },
   "outputs": [
    {
     "data": {
      "image/png": "[encoded data removed]",
      "text/plain": [
       "<Figure size 432x288 with 1 Axes>"
      ]
     },
     "metadata": {
      "needs_background": "light"
     },
     "output_type": "display_data"
    }
   ],
   "source": [
    "df['airports_nearest'].hist(bins=50)\n",
    "plt.show()"
   ]
  },
  {
   "cell_type": "markdown",
   "metadata": {},
   "source": [
    "11) расстояние до аэропорта: ближе чем в 7-8 км от аэропорта домов нет (что коррелирует с моими представлениями о географии Петербурга)."
   ]
  },
  {
   "cell_type": "code",
   "execution_count": 84,
   "metadata": {
    "scrolled": true
   },
   "outputs": [
    {
     "data": {
      "image/png": "[encoded data removed]",
      "text/plain": [
       "<Figure size 432x288 with 1 Axes>"
      ]
     },
     "metadata": {
      "needs_background": "light"
     },
     "output_type": "display_data"
    }
   ],
   "source": [
    "df['parks_nearest'].hist(bins=50)\n",
    "plt.show()"
   ]
  },
  {
   "cell_type": "markdown",
   "metadata": {},
   "source": [
    "12) расстояние до парков: выглядит так, словно Петербург - зелёный город: подавляющее большинство квартир имеют парковые зоны не далее, чем в километре от дома."
   ]
  },
  {
   "cell_type": "code",
   "execution_count": 85,
   "metadata": {},
   "outputs": [
    {
     "data": {
      "image/png": "[encoded data removed]",
      "text/plain": [
       "<Figure size 432x288 with 1 Axes>"
      ]
     },
     "metadata": {
      "needs_background": "light"
     },
     "output_type": "display_data"
    }
   ],
   "source": [
    "df['weekday'].hist(bins=7)\n",
    "plt.show()"
   ]
  },
  {
   "cell_type": "markdown",
   "metadata": {},
   "source": [
    "13) день недели: в выходные публикуется примерно в 2 раза меньше объявлений (логично, все хотят отдыхать), пик активности приходится на четверг."
   ]
  },
  {
   "cell_type": "code",
   "execution_count": 86,
   "metadata": {},
   "outputs": [
    {
     "data": {
      "image/png": "[encoded data removed]",
      "text/plain": [
       "<Figure size 432x288 with 1 Axes>"
      ]
     },
     "metadata": {
      "needs_background": "light"
     },
     "output_type": "display_data"
    }
   ],
   "source": [
    "df['month'].hist(bins=12)\n",
    "plt.show()"
   ]
  },
  {
   "cell_type": "markdown",
   "metadata": {},
   "source": [
    "14) месяц: меньше всего объявлений появляется до и после нового года, наибольшая активность - с февраля по апрель и в ноябре. Сильно проседает май, вероятно, из-за длинных праздников и начала дачного сезона."
   ]
  },
  {
   "cell_type": "markdown",
   "metadata": {},
   "source": [
    "#### Отдельно рассмотрим столбец days_exposition."
   ]
  },
  {
   "cell_type": "code",
   "execution_count": 87,
   "metadata": {},
   "outputs": [
    {
     "data": {
      "image/png": "[encoded data removed]",
      "text/plain": [
       "<Figure size 432x288 with 1 Axes>"
      ]
     },
     "metadata": {
      "needs_background": "light"
     },
     "output_type": "display_data"
    },
    {
     "data": {
      "text/plain": [
       "count    23498.000000\n",
       "mean       170.216657\n",
       "std        207.289831\n",
       "min          1.000000\n",
       "25%         45.000000\n",
       "50%         95.000000\n",
       "75%        200.000000\n",
       "max       1580.000000\n",
       "Name: days_exposition, dtype: float64"
      ]
     },
     "execution_count": 87,
     "metadata": {},
     "output_type": "execute_result"
    }
   ],
   "source": [
    "df['days_exposition'].hist(bins=150, range=(0, 150))\n",
    "plt.show()\n",
    "df['days_exposition'].describe()"
   ]
  },
  {
   "cell_type": "markdown",
   "metadata": {},
   "source": [
    "Сколько времени требуется, чтобы продать квартиру?\n",
    "На графике по столбцу days_exposition видим пик в районе 100 дней, что примерно совпадает с медианой, составляющей 95 дней. Отметим, что это то медианное значение, которым мы заполняли пропуски в этом столбце.  \n",
    "Тем не менее, быстрыми продажами можно считать те, которые составляют первый квартиль данных столбца - до 45 дней. Аномально долгими - все, превышающие 200 дней.\n",
    "\n",
    "Любопытно, что на графике видим явные пики на значениях 45, 60 и 95 дней. Вероятно, это техническая особенность самой платформы: возможно, в эти дни платформа автоматически убирает объявления, если пользователь его не продлил.\n"
   ]
  },
  {
   "cell_type": "markdown",
   "metadata": {},
   "source": [
    "#### Определим факторы, влияющие на стоимость объекта"
   ]
  },
  {
   "cell_type": "code",
   "execution_count": 88,
   "metadata": {},
   "outputs": [
    {
     "data": {
      "text/plain": [
       "0.6531234300439166"
      ]
     },
     "metadata": {},
     "output_type": "display_data"
    },
    {
     "data": {
      "image/png": "[encoded data removed]",
      "text/plain": [
       "<Figure size 432x288 with 1 Axes>"
      ]
     },
     "metadata": {
      "needs_background": "light"
     },
     "output_type": "display_data"
    }
   ],
   "source": [
    "display(df['last_price'].corr(df['total_area']))\n",
    "df.plot(x='total_area', y='last_price', kind='scatter', alpha=0.3)\n",
    "plt.show()"
   ]
  },
  {
   "cell_type": "code",
   "execution_count": 89,
   "metadata": {},
   "outputs": [
    {
     "data": {
      "text/plain": [
       "0.5675309427225121"
      ]
     },
     "metadata": {},
     "output_type": "display_data"
    },
    {
     "data": {
      "image/png": "[encoded data removed]",
      "text/plain": [
       "<Figure size 432x288 with 1 Axes>"
      ]
     },
     "metadata": {
      "needs_background": "light"
     },
     "output_type": "display_data"
    }
   ],
   "source": [
    "display(df['last_price'].corr(df['living_area']))\n",
    "df.plot(x='living_area', y='last_price', kind='scatter', alpha=0.3)\n",
    "plt.show()"
   ]
  },
  {
   "cell_type": "code",
   "execution_count": 90,
   "metadata": {},
   "outputs": [
    {
     "data": {
      "text/plain": [
       "0.519409380171857"
      ]
     },
     "metadata": {},
     "output_type": "display_data"
    },
    {
     "data": {
      "image/png": "[encoded data removed]",
      "text/plain": [
       "<Figure size 432x288 with 1 Axes>"
      ]
     },
     "metadata": {
      "needs_background": "light"
     },
     "output_type": "display_data"
    }
   ],
   "source": [
    "display(df['last_price'].corr(df['kitchen_area']))\n",
    "df.plot(x='kitchen_area', y='last_price', kind='scatter', alpha=0.3)\n",
    "plt.show()"
   ]
  },
  {
   "cell_type": "code",
   "execution_count": 91,
   "metadata": {},
   "outputs": [
    {
     "data": {
      "text/plain": [
       "0.3662742720089214"
      ]
     },
     "metadata": {},
     "output_type": "display_data"
    },
    {
     "data": {
      "image/png": "[encoded data removed]",
      "text/plain": [
       "<Figure size 720x360 with 1 Axes>"
      ]
     },
     "metadata": {
      "needs_background": "light"
     },
     "output_type": "display_data"
    }
   ],
   "source": [
    "display(df['last_price'].corr(df['rooms']))\n",
    "df.pivot_table(index='rooms', values='last_price').plot(grid=True, figsize=(10,5))\n",
    "plt.show()"
   ]
  },
  {
   "cell_type": "code",
   "execution_count": 92,
   "metadata": {},
   "outputs": [
    {
     "data": {
      "image/png": "[encoded data removed]",
      "text/plain": [
       "<Figure size 720x360 with 1 Axes>"
      ]
     },
     "metadata": {
      "needs_background": "light"
     },
     "output_type": "display_data"
    }
   ],
   "source": [
    "df.pivot_table(index='cat_floor', values='last_price', aggfunc='median').plot(grid=True, figsize=(10,5))\n",
    "plt.show()"
   ]
  },
  {
   "cell_type": "code",
   "execution_count": 93,
   "metadata": {
    "scrolled": false
   },
   "outputs": [
    {
     "data": {
      "text/plain": [
       "0.002048090055384704"
      ]
     },
     "metadata": {},
     "output_type": "display_data"
    },
    {
     "data": {
      "image/png": "[encoded data removed]",
      "text/plain": [
       "<Figure size 720x360 with 1 Axes>"
      ]
     },
     "metadata": {
      "needs_background": "light"
     },
     "output_type": "display_data"
    }
   ],
   "source": [
    "display(df['last_price'].corr(df['weekday']))\n",
    "df.pivot_table(index='weekday', values='last_price').plot(grid=True, figsize=(10,5))\n",
    "plt.show()"
   ]
  },
  {
   "cell_type": "code",
   "execution_count": 94,
   "metadata": {
    "scrolled": true
   },
   "outputs": [
    {
     "data": {
      "text/plain": [
       "0.0023120980137588416"
      ]
     },
     "metadata": {},
     "output_type": "display_data"
    },
    {
     "data": {
      "image/png": "[encoded data removed]",
      "text/plain": [
       "<Figure size 720x360 with 1 Axes>"
      ]
     },
     "metadata": {
      "needs_background": "light"
     },
     "output_type": "display_data"
    },
    {
     "data": {
      "image/png": "[encoded data removed]",
      "text/plain": [
       "<Figure size 720x360 with 1 Axes>"
      ]
     },
     "metadata": {
      "needs_background": "light"
     },
     "output_type": "display_data"
    }
   ],
   "source": [
    "display(df['last_price'].corr(df['month']))\n",
    "df.pivot_table(index='month', values='last_price', aggfunc='mean').plot(grid=True, figsize=(10,5))\n",
    "df.pivot_table(index='month', values='last_price', aggfunc='median').plot(grid=True, figsize=(10,5))\n",
    "plt.show()"
   ]
  },
  {
   "cell_type": "code",
   "execution_count": 95,
   "metadata": {},
   "outputs": [
    {
     "data": {
      "text/plain": [
       "-0.04243244803162441"
      ]
     },
     "metadata": {},
     "output_type": "display_data"
    },
    {
     "data": {
      "image/png": "[encoded data removed]",
      "text/plain": [
       "<Figure size 720x360 with 1 Axes>"
      ]
     },
     "metadata": {
      "needs_background": "light"
     },
     "output_type": "display_data"
    }
   ],
   "source": [
    "display(df['last_price'].corr(df['year']))\n",
    "df.pivot_table(index='year', values='last_price', aggfunc='median').plot(grid=True, figsize=(10,5))\n",
    "plt.show()"
   ]
  },
  {
   "cell_type": "code",
   "execution_count": 96,
   "metadata": {
    "scrolled": true
   },
   "outputs": [
    {
     "data": {
      "image/png": "[encoded data removed]",
      "text/plain": [
       "<Figure size 720x360 with 1 Axes>"
      ]
     },
     "metadata": {
      "needs_background": "light"
     },
     "output_type": "display_data"
    }
   ],
   "source": [
    "df.pivot_table(index='year', values='total_area', aggfunc='median').plot(grid=True, figsize=(10,5))\n",
    "plt.show()"
   ]
  },
  {
   "cell_type": "markdown",
   "metadata": {},
   "source": [
    "__Выводы по графикам__  \n",
    "Больше всего цена зависит от общей площади квартиры, что подтверждают как график, так и коэффициент корреляции Пирсона. Сильна зависимость и от жилой площади (0,57) и растущая тенденция на графика, и от площади кухни (0,52).  Наличествует слабая корреляция цены с количеством комнат (причем самое дорогое жилье резко \"пикует\" в 12-комнатных квартирах).  \n",
    "\n",
    "Предсказуемо дешевле квартиры на последнем и особенно первом этажах.\n",
    "\n",
    "Не наблюдается корреляции между ценой и днём недели или месяцем публикации объявления (хотя есть любопытные закономерности: чаще всего дорогие квартиры выставляются на продажу в субботу, хотя, как мы видели выше, общее количество объявлений в субботу в два раза меньше, чем в будни).\n",
    "\n",
    "Разные картины дают графики по средней и медианной ценам продажи по месяцам, но в обоих случаях можно говорить о пиках в апреле, сентябре и конце года и летнем спаде.  \n",
    "\n",
    "Наконец, нет корреляции между годом публикации объявления и ценой продажи, но график легко объясняется, с одной стороны, геополитическими причинами (санкционные риски и рост курса валют в 2014 году и постепенная стабилизация ситуации, затем рост цен на фоне роста доступности ипотеки с 2018-19 гг.), с другой, очень похожей линией графика зависимости площади продаваемых квартир от года выставления их на продажу. Получается, что после 2014 медианная площадь выставляемых на продажу квартир резко упала. Однако начало роста цен в 2018-2019 всё ещё наблюдается."
   ]
  },
  {
   "cell_type": "markdown",
   "metadata": {},
   "source": [
    "#### Посчитаем среднюю цену одного квадратного метра в 10 населённых пунктах с наибольшим числом объявлений\n"
   ]
  },
  {
   "cell_type": "code",
   "execution_count": 97,
   "metadata": {},
   "outputs": [
    {
     "data": {
      "text/html": [
       "<div>\n",
       "<style scoped>\n",
       "    .dataframe tbody tr th:only-of-type {\n",
       "        vertical-align: middle;\n",
       "    }\n",
       "\n",
       "    .dataframe tbody tr th {\n",
       "        vertical-align: top;\n",
       "    }\n",
       "\n",
       "    .dataframe thead th {\n",
       "        text-align: right;\n",
       "    }\n",
       "</style>\n",
       "<table border=\"1\" class=\"dataframe\">\n",
       "  <thead>\n",
       "    <tr style=\"text-align: right;\">\n",
       "      <th></th>\n",
       "      <th>locality_name</th>\n",
       "      <th>sq_m_price</th>\n",
       "    </tr>\n",
       "  </thead>\n",
       "  <tbody>\n",
       "    <tr>\n",
       "      <th>8</th>\n",
       "      <td>Санкт-Петербург</td>\n",
       "      <td>114802.981069</td>\n",
       "    </tr>\n",
       "    <tr>\n",
       "      <th>7</th>\n",
       "      <td>Пушкин</td>\n",
       "      <td>103125.819291</td>\n",
       "    </tr>\n",
       "    <tr>\n",
       "      <th>4</th>\n",
       "      <td>Кудрово</td>\n",
       "      <td>95324.930544</td>\n",
       "    </tr>\n",
       "    <tr>\n",
       "      <th>6</th>\n",
       "      <td>Парголово</td>\n",
       "      <td>90175.913458</td>\n",
       "    </tr>\n",
       "    <tr>\n",
       "      <th>5</th>\n",
       "      <td>Мурино</td>\n",
       "      <td>86061.677014</td>\n",
       "    </tr>\n",
       "    <tr>\n",
       "      <th>9</th>\n",
       "      <td>Шушары</td>\n",
       "      <td>78677.364217</td>\n",
       "    </tr>\n",
       "    <tr>\n",
       "      <th>3</th>\n",
       "      <td>Колпино</td>\n",
       "      <td>75424.579098</td>\n",
       "    </tr>\n",
       "    <tr>\n",
       "      <th>2</th>\n",
       "      <td>Гатчина</td>\n",
       "      <td>68746.146763</td>\n",
       "    </tr>\n",
       "    <tr>\n",
       "      <th>0</th>\n",
       "      <td>Всеволожск</td>\n",
       "      <td>68654.473986</td>\n",
       "    </tr>\n",
       "    <tr>\n",
       "      <th>1</th>\n",
       "      <td>Выборг</td>\n",
       "      <td>58141.909153</td>\n",
       "    </tr>\n",
       "  </tbody>\n",
       "</table>\n",
       "</div>"
      ],
      "text/plain": [
       "     locality_name     sq_m_price\n",
       "8  Санкт-Петербург  114802.981069\n",
       "7           Пушкин  103125.819291\n",
       "4          Кудрово   95324.930544\n",
       "6        Парголово   90175.913458\n",
       "5           Мурино   86061.677014\n",
       "9           Шушары   78677.364217\n",
       "3          Колпино   75424.579098\n",
       "2          Гатчина   68746.146763\n",
       "0       Всеволожск   68654.473986\n",
       "1           Выборг   58141.909153"
      ]
     },
     "execution_count": 97,
     "metadata": {},
     "output_type": "execute_result"
    }
   ],
   "source": [
    "df['locality_name'].value_counts().head(10)\n",
    "top_ten = df.query('locality_name in (\"Санкт-Петербург\", \"Мурино\", \"Кудрово\", \"Шушары\", \"Всеволожск\", \"Пушкин\", \"Колпино\", \"Парголово\", \"Гатчина\", \"Выборг\")')\n",
    "top_ten = top_ten.pivot_table(index='locality_name', values='sq_m_price', aggfunc='mean').reset_index()\n",
    "top_ten = top_ten.sort_values(by='sq_m_price', ascending=False)\n",
    "top_ten"
   ]
  },
  {
   "cell_type": "markdown",
   "metadata": {},
   "source": [
    "Видим, что самый дорогой квадратный метр - в Санкт-Петербурге, самый дешевый - в Выборге, который, в отличие от остальных наименований из топ-10, не пригород СПб, а город в 150 км."
   ]
  },
  {
   "cell_type": "code",
   "execution_count": 98,
   "metadata": {},
   "outputs": [
    {
     "data": {
      "text/html": [
       "<div>\n",
       "<style scoped>\n",
       "    .dataframe tbody tr th:only-of-type {\n",
       "        vertical-align: middle;\n",
       "    }\n",
       "\n",
       "    .dataframe tbody tr th {\n",
       "        vertical-align: top;\n",
       "    }\n",
       "\n",
       "    .dataframe thead th {\n",
       "        text-align: right;\n",
       "    }\n",
       "</style>\n",
       "<table border=\"1\" class=\"dataframe\">\n",
       "  <thead>\n",
       "    <tr style=\"text-align: right;\">\n",
       "      <th></th>\n",
       "      <th>center_km</th>\n",
       "      <th>last_price</th>\n",
       "    </tr>\n",
       "  </thead>\n",
       "  <tbody>\n",
       "    <tr>\n",
       "      <th>center_km</th>\n",
       "      <td>1.000000</td>\n",
       "      <td>-0.761284</td>\n",
       "    </tr>\n",
       "    <tr>\n",
       "      <th>last_price</th>\n",
       "      <td>-0.761284</td>\n",
       "      <td>1.000000</td>\n",
       "    </tr>\n",
       "  </tbody>\n",
       "</table>\n",
       "</div>"
      ],
      "text/plain": [
       "            center_km  last_price\n",
       "center_km    1.000000   -0.761284\n",
       "last_price  -0.761284    1.000000"
      ]
     },
     "execution_count": 98,
     "metadata": {},
     "output_type": "execute_result"
    },
    {
     "data": {
      "image/png": "[encoded data removed]",
      "text/plain": [
       "<Figure size 720x360 with 1 Axes>"
      ]
     },
     "metadata": {
      "needs_background": "light"
     },
     "output_type": "display_data"
    }
   ],
   "source": [
    "spb = df.query('locality_name == \"Санкт-Петербург\"')\n",
    "spb = spb.pivot_table(index='center_km', values='last_price', aggfunc='mean').reset_index()\n",
    "spb.plot(grid=True, figsize=(10,5), title = 'Средняя стоимость квартир в СПб на разном удалении от центра')\n",
    "spb.corr()"
   ]
  },
  {
   "cell_type": "markdown",
   "metadata": {},
   "source": [
    "**ВЫВОД** И коэффициент корреляции, и визуализация на графике указывают на сильную тенденцию: чем дальше квартира от центра, тем дешевле. Временами график перерастает в рост, что может быть связано с дорогими кварталами (новостроек?) на некоторых расстояниях."
   ]
  },
  {
   "cell_type": "markdown",
   "metadata": {},
   "source": [
    "### Общий вывод"
   ]
  },
  {
   "cell_type": "markdown",
   "metadata": {},
   "source": [
    "Данное исследование рынка недвижимости в Санкт-Петербурге и Ленинградской области потребовало довольно масштабной предобработки данных. Я обработал пропуски в различных столбцах (особенно много в столбцах про высоту потолков, балконы и статус апартаментов), подкорректировал тип данных в числовых и булевых столбцах, устранил неявные дубликаты (больше всего - в названиях населённых пунктов) и аномальные значения (прежде всего, в потолках и площадях).\n",
    "\n",
    "Помимо представленных данных, подсчитал новые, которые помогли мне в анализе: средняя цена за квадратный метр по населённым пунктам, разбивку по дням недели, месяцам и годам публикации объявлений, категоризацию по типу этажа и отдаленности от центра.\n",
    "\n",
    "Наконец, были составлены и проанализированы графики для визуализации тенденций и пиковых значений по разным параметрам.\n",
    "\n",
    "На мой взгляд, исследование не дало каких-то удивительных выводов: цены квартир зависят прежде всего от общей площади и близости к центру. Любопытные выводы можно сделать касательно самых частотных дней для публикации объявлений (в целом четверг, но для элитного жилья - суббота) и месяцев с наибольшей активностью продавцов и сезонным ростом цен (апрель, сентябрь, предновогодний период). \n",
    "\n",
    "В дальнейшем, возможно, стоило бы предложить разработчикам введение таких функций, как выбор населенного пункта из выпадающего списка (для избежания появления неявных дубликатов), аналогичный выбор количества балконов, возможно, проверку заполнения графы \"высота потолков\" и минимальные и максимальные в ней значения, соответствующие законодательным нормам."
   ]
  }
 ],
 "metadata": {
  "ExecuteTimeLog": [
   {
    "duration": 500,
    "start_time": "2022-08-27T15:13:32.188Z"
   },
   {
    "duration": 158,
    "start_time": "2022-08-27T15:13:46.416Z"
   },
   {
    "duration": 97,
    "start_time": "2022-08-27T15:16:59.259Z"
   },
   {
    "duration": 176,
    "start_time": "2022-08-27T15:17:06.437Z"
   },
   {
    "duration": 157,
    "start_time": "2022-08-27T15:17:22.937Z"
   },
   {
    "duration": 178,
    "start_time": "2022-08-27T15:19:16.769Z"
   },
   {
    "duration": 130,
    "start_time": "2022-08-27T15:19:48.217Z"
   },
   {
    "duration": 102,
    "start_time": "2022-08-27T15:22:28.418Z"
   },
   {
    "duration": 2747,
    "start_time": "2022-08-27T15:24:38.997Z"
   },
   {
    "duration": 2395,
    "start_time": "2022-08-27T15:25:28.219Z"
   },
   {
    "duration": 76,
    "start_time": "2022-08-27T15:29:46.205Z"
   },
   {
    "duration": 6,
    "start_time": "2022-08-27T15:29:48.437Z"
   },
   {
    "duration": 8,
    "start_time": "2022-08-27T15:30:26.897Z"
   },
   {
    "duration": 6,
    "start_time": "2022-08-27T15:30:52.465Z"
   },
   {
    "duration": 7,
    "start_time": "2022-08-27T15:30:58.077Z"
   },
   {
    "duration": 6,
    "start_time": "2022-08-27T15:31:05.719Z"
   },
   {
    "duration": 7,
    "start_time": "2022-08-27T15:31:39.938Z"
   },
   {
    "duration": 5,
    "start_time": "2022-08-27T15:31:48.318Z"
   },
   {
    "duration": 5,
    "start_time": "2022-08-27T15:32:24.098Z"
   },
   {
    "duration": 7,
    "start_time": "2022-08-27T15:32:36.939Z"
   },
   {
    "duration": 8,
    "start_time": "2022-08-27T15:32:48.226Z"
   },
   {
    "duration": 10,
    "start_time": "2022-08-27T15:34:31.417Z"
   },
   {
    "duration": 40,
    "start_time": "2022-08-27T15:41:55.598Z"
   },
   {
    "duration": 41,
    "start_time": "2022-08-27T15:42:02.346Z"
   },
   {
    "duration": 66,
    "start_time": "2022-08-27T18:36:04.732Z"
   },
   {
    "duration": 3721,
    "start_time": "2022-08-27T18:36:12.916Z"
   },
   {
    "duration": 8,
    "start_time": "2022-08-27T18:36:16.639Z"
   },
   {
    "duration": 63,
    "start_time": "2022-08-27T18:36:16.649Z"
   },
   {
    "duration": 55,
    "start_time": "2022-08-27T18:36:16.714Z"
   },
   {
    "duration": 15,
    "start_time": "2022-08-27T18:36:17.366Z"
   },
   {
    "duration": 45,
    "start_time": "2022-08-27T18:36:24.075Z"
   },
   {
    "duration": 23,
    "start_time": "2022-08-27T18:39:28.468Z"
   },
   {
    "duration": 17,
    "start_time": "2022-08-27T18:39:53.512Z"
   },
   {
    "duration": 28,
    "start_time": "2022-08-27T18:39:58.992Z"
   },
   {
    "duration": 73,
    "start_time": "2022-08-27T18:41:20.517Z"
   },
   {
    "duration": 22,
    "start_time": "2022-08-27T18:41:29.563Z"
   },
   {
    "duration": 9,
    "start_time": "2022-08-27T18:42:59.518Z"
   },
   {
    "duration": 19,
    "start_time": "2022-08-27T18:43:11.676Z"
   },
   {
    "duration": 21,
    "start_time": "2022-08-27T18:43:55.929Z"
   },
   {
    "duration": 9,
    "start_time": "2022-08-27T18:46:25.087Z"
   },
   {
    "duration": 14,
    "start_time": "2022-08-27T18:46:27.909Z"
   },
   {
    "duration": 4,
    "start_time": "2022-08-27T18:46:50.566Z"
   },
   {
    "duration": 6,
    "start_time": "2022-08-27T18:47:12.294Z"
   },
   {
    "duration": 13,
    "start_time": "2022-08-27T18:50:06.234Z"
   },
   {
    "duration": 9,
    "start_time": "2022-08-27T18:50:29.545Z"
   },
   {
    "duration": 8,
    "start_time": "2022-08-27T18:50:35.526Z"
   },
   {
    "duration": 10,
    "start_time": "2022-08-27T18:50:39.074Z"
   },
   {
    "duration": 9,
    "start_time": "2022-08-27T18:51:03.317Z"
   },
   {
    "duration": 10,
    "start_time": "2022-08-27T18:51:29.793Z"
   },
   {
    "duration": 14,
    "start_time": "2022-08-27T18:51:45.547Z"
   },
   {
    "duration": 10,
    "start_time": "2022-08-27T18:52:20.926Z"
   },
   {
    "duration": 11,
    "start_time": "2022-08-27T18:52:44.827Z"
   },
   {
    "duration": 12,
    "start_time": "2022-08-27T18:53:11.455Z"
   },
   {
    "duration": 14,
    "start_time": "2022-08-27T18:53:25.198Z"
   },
   {
    "duration": 11,
    "start_time": "2022-08-27T18:53:33.463Z"
   },
   {
    "duration": 10,
    "start_time": "2022-08-27T18:53:39.486Z"
   },
   {
    "duration": 19,
    "start_time": "2022-08-27T18:53:54.840Z"
   },
   {
    "duration": 23,
    "start_time": "2022-08-27T18:55:56.010Z"
   },
   {
    "duration": 14,
    "start_time": "2022-08-27T18:55:59.011Z"
   },
   {
    "duration": 16,
    "start_time": "2022-08-27T18:56:28.860Z"
   },
   {
    "duration": 15,
    "start_time": "2022-08-27T18:56:35.895Z"
   },
   {
    "duration": 17,
    "start_time": "2022-08-27T18:56:43.096Z"
   },
   {
    "duration": 15,
    "start_time": "2022-08-27T18:56:45.500Z"
   },
   {
    "duration": 2209,
    "start_time": "2022-08-27T18:56:49.186Z"
   },
   {
    "duration": 7,
    "start_time": "2022-08-27T18:56:51.407Z"
   },
   {
    "duration": 65,
    "start_time": "2022-08-27T18:56:51.416Z"
   },
   {
    "duration": 15,
    "start_time": "2022-08-27T18:56:51.483Z"
   },
   {
    "duration": 14,
    "start_time": "2022-08-27T18:56:51.500Z"
   },
   {
    "duration": 10,
    "start_time": "2022-08-27T18:57:05.266Z"
   },
   {
    "duration": 6,
    "start_time": "2022-08-27T18:57:27.044Z"
   },
   {
    "duration": 11,
    "start_time": "2022-08-27T19:01:07.670Z"
   },
   {
    "duration": 19,
    "start_time": "2022-08-27T19:02:21.033Z"
   },
   {
    "duration": 36,
    "start_time": "2022-08-27T19:08:23.893Z"
   },
   {
    "duration": 14,
    "start_time": "2022-08-27T19:08:28.249Z"
   },
   {
    "duration": 2962,
    "start_time": "2022-08-28T07:51:50.757Z"
   },
   {
    "duration": 7,
    "start_time": "2022-08-28T07:51:53.722Z"
   },
   {
    "duration": 38,
    "start_time": "2022-08-28T07:51:53.731Z"
   },
   {
    "duration": 13,
    "start_time": "2022-08-28T07:51:53.771Z"
   },
   {
    "duration": 42,
    "start_time": "2022-08-28T07:51:53.786Z"
   },
   {
    "duration": 12,
    "start_time": "2022-08-28T07:51:53.830Z"
   },
   {
    "duration": 6,
    "start_time": "2022-08-28T07:52:37.070Z"
   },
   {
    "duration": 6,
    "start_time": "2022-08-28T07:52:46.975Z"
   },
   {
    "duration": 7,
    "start_time": "2022-08-28T07:52:52.544Z"
   },
   {
    "duration": 5,
    "start_time": "2022-08-28T07:52:58.127Z"
   },
   {
    "duration": 39,
    "start_time": "2022-08-28T07:53:54.214Z"
   },
   {
    "duration": 59,
    "start_time": "2022-08-28T07:54:01.833Z"
   },
   {
    "duration": 62,
    "start_time": "2022-08-28T07:56:13.908Z"
   },
   {
    "duration": 81,
    "start_time": "2022-08-28T08:03:21.056Z"
   },
   {
    "duration": 9,
    "start_time": "2022-08-28T08:03:59.428Z"
   },
   {
    "duration": 63,
    "start_time": "2022-08-28T08:04:04.204Z"
   },
   {
    "duration": 83,
    "start_time": "2022-08-28T08:05:24.195Z"
   },
   {
    "duration": 38,
    "start_time": "2022-08-28T08:05:36.760Z"
   },
   {
    "duration": 45,
    "start_time": "2022-08-28T08:12:19.244Z"
   },
   {
    "duration": 86,
    "start_time": "2022-08-28T08:12:31.657Z"
   },
   {
    "duration": 94,
    "start_time": "2022-08-28T08:13:20.406Z"
   },
   {
    "duration": 69,
    "start_time": "2022-08-28T08:14:51.328Z"
   },
   {
    "duration": 54,
    "start_time": "2022-08-28T08:15:32.105Z"
   },
   {
    "duration": 43,
    "start_time": "2022-08-28T08:15:37.917Z"
   },
   {
    "duration": 99,
    "start_time": "2022-08-28T08:15:51.233Z"
   },
   {
    "duration": 3148,
    "start_time": "2022-08-28T16:12:02.461Z"
   },
   {
    "duration": 7,
    "start_time": "2022-08-28T16:12:05.611Z"
   },
   {
    "duration": 41,
    "start_time": "2022-08-28T16:12:05.620Z"
   },
   {
    "duration": 14,
    "start_time": "2022-08-28T16:12:05.663Z"
   },
   {
    "duration": 27,
    "start_time": "2022-08-28T16:12:05.679Z"
   },
   {
    "duration": 39,
    "start_time": "2022-08-28T16:12:05.708Z"
   },
   {
    "duration": 111,
    "start_time": "2022-08-28T16:12:05.749Z"
   },
   {
    "duration": 7,
    "start_time": "2022-08-29T18:19:51.433Z"
   },
   {
    "duration": 45,
    "start_time": "2022-08-29T18:19:51.441Z"
   },
   {
    "duration": 20,
    "start_time": "2022-08-29T18:19:51.488Z"
   },
   {
    "duration": 32,
    "start_time": "2022-08-29T18:19:51.510Z"
   },
   {
    "duration": 13,
    "start_time": "2022-08-29T18:19:51.544Z"
   },
   {
    "duration": 113,
    "start_time": "2022-08-29T18:19:51.558Z"
   },
   {
    "duration": 1928,
    "start_time": "2022-08-29T18:19:51.672Z"
   },
   {
    "duration": 1730,
    "start_time": "2022-08-29T18:22:50.561Z"
   },
   {
    "duration": 6,
    "start_time": "2022-08-29T18:22:52.297Z"
   },
   {
    "duration": 41,
    "start_time": "2022-08-29T18:22:52.305Z"
   },
   {
    "duration": 13,
    "start_time": "2022-08-29T18:22:52.347Z"
   },
   {
    "duration": 39,
    "start_time": "2022-08-29T18:22:52.361Z"
   },
   {
    "duration": 12,
    "start_time": "2022-08-29T18:22:52.401Z"
   },
   {
    "duration": 104,
    "start_time": "2022-08-29T18:22:52.414Z"
   },
   {
    "duration": 41,
    "start_time": "2022-08-29T18:23:15.862Z"
   },
   {
    "duration": 14,
    "start_time": "2022-08-29T18:23:18.318Z"
   },
   {
    "duration": 3693,
    "start_time": "2022-08-30T17:52:17.775Z"
   },
   {
    "duration": 7,
    "start_time": "2022-08-30T17:52:21.470Z"
   },
   {
    "duration": 67,
    "start_time": "2022-08-30T17:52:21.478Z"
   },
   {
    "duration": 14,
    "start_time": "2022-08-30T17:52:21.546Z"
   },
   {
    "duration": 35,
    "start_time": "2022-08-30T17:52:21.562Z"
   },
   {
    "duration": 20,
    "start_time": "2022-08-30T17:52:21.599Z"
   },
   {
    "duration": 118,
    "start_time": "2022-08-30T17:52:21.621Z"
   },
   {
    "duration": 2319,
    "start_time": "2022-08-30T17:52:29.565Z"
   },
   {
    "duration": 9,
    "start_time": "2022-08-30T17:52:31.888Z"
   },
   {
    "duration": 46,
    "start_time": "2022-08-30T17:52:31.899Z"
   },
   {
    "duration": 39,
    "start_time": "2022-08-30T17:52:31.948Z"
   },
   {
    "duration": 27,
    "start_time": "2022-08-30T17:52:31.989Z"
   },
   {
    "duration": 16,
    "start_time": "2022-08-30T17:52:32.018Z"
   },
   {
    "duration": 152,
    "start_time": "2022-08-30T17:52:32.036Z"
   },
   {
    "duration": 102,
    "start_time": "2022-08-30T17:54:15.712Z"
   },
   {
    "duration": 8,
    "start_time": "2022-08-30T17:59:28.793Z"
   },
   {
    "duration": 7,
    "start_time": "2022-08-30T17:59:51.787Z"
   },
   {
    "duration": 3,
    "start_time": "2022-08-30T18:01:57.584Z"
   },
   {
    "duration": 50,
    "start_time": "2022-08-30T18:02:02.410Z"
   },
   {
    "duration": 4,
    "start_time": "2022-08-30T18:02:06.137Z"
   },
   {
    "duration": 7,
    "start_time": "2022-08-30T18:02:15.636Z"
   },
   {
    "duration": 34,
    "start_time": "2022-08-30T18:02:21.107Z"
   },
   {
    "duration": 36,
    "start_time": "2022-08-30T18:03:05.302Z"
   },
   {
    "duration": 77,
    "start_time": "2022-08-30T18:03:15.154Z"
   },
   {
    "duration": 97,
    "start_time": "2022-08-30T18:03:53.677Z"
   },
   {
    "duration": 123,
    "start_time": "2022-08-30T18:04:11.977Z"
   },
   {
    "duration": 37,
    "start_time": "2022-08-30T18:09:36.829Z"
   },
   {
    "duration": 14,
    "start_time": "2022-08-30T18:16:42.294Z"
   },
   {
    "duration": 51,
    "start_time": "2022-08-30T18:16:53.187Z"
   },
   {
    "duration": 1935,
    "start_time": "2022-08-30T18:17:11.543Z"
   },
   {
    "duration": 9,
    "start_time": "2022-08-30T18:17:13.480Z"
   },
   {
    "duration": 54,
    "start_time": "2022-08-30T18:17:13.491Z"
   },
   {
    "duration": 14,
    "start_time": "2022-08-30T18:17:13.547Z"
   },
   {
    "duration": 40,
    "start_time": "2022-08-30T18:17:13.563Z"
   },
   {
    "duration": 19,
    "start_time": "2022-08-30T18:17:13.604Z"
   },
   {
    "duration": 118,
    "start_time": "2022-08-30T18:17:13.625Z"
   },
   {
    "duration": 154,
    "start_time": "2022-08-30T18:17:13.745Z"
   },
   {
    "duration": 44,
    "start_time": "2022-08-30T18:17:13.901Z"
   },
   {
    "duration": 45,
    "start_time": "2022-08-30T18:18:30.059Z"
   },
   {
    "duration": 42,
    "start_time": "2022-08-30T18:18:46.137Z"
   },
   {
    "duration": 128,
    "start_time": "2022-08-30T18:19:24.585Z"
   },
   {
    "duration": 77,
    "start_time": "2022-08-30T18:19:36.159Z"
   },
   {
    "duration": 71,
    "start_time": "2022-08-30T18:20:18.694Z"
   },
   {
    "duration": 8,
    "start_time": "2022-08-30T18:21:29.328Z"
   },
   {
    "duration": 59,
    "start_time": "2022-08-30T18:24:23.686Z"
   },
   {
    "duration": 46,
    "start_time": "2022-08-30T18:24:36.078Z"
   },
   {
    "duration": 34,
    "start_time": "2022-08-30T18:25:00.120Z"
   },
   {
    "duration": 60,
    "start_time": "2022-08-30T18:25:07.420Z"
   },
   {
    "duration": 65,
    "start_time": "2022-08-30T18:25:38.035Z"
   },
   {
    "duration": 8,
    "start_time": "2022-08-30T18:25:47.738Z"
   },
   {
    "duration": 52,
    "start_time": "2022-08-30T18:27:06.547Z"
   },
   {
    "duration": 49,
    "start_time": "2022-08-30T18:27:19.139Z"
   },
   {
    "duration": 32,
    "start_time": "2022-08-30T18:28:14.874Z"
   },
   {
    "duration": 55,
    "start_time": "2022-08-30T18:28:26.334Z"
   },
   {
    "duration": 58,
    "start_time": "2022-08-30T18:28:44.701Z"
   },
   {
    "duration": 52,
    "start_time": "2022-08-30T18:29:40.633Z"
   },
   {
    "duration": 71,
    "start_time": "2022-08-30T18:29:47.208Z"
   },
   {
    "duration": 54,
    "start_time": "2022-08-30T18:31:52.204Z"
   },
   {
    "duration": 18,
    "start_time": "2022-08-30T18:32:48.508Z"
   },
   {
    "duration": 332,
    "start_time": "2022-08-30T18:46:58.086Z"
   },
   {
    "duration": 77,
    "start_time": "2022-08-30T18:47:22.819Z"
   },
   {
    "duration": 73,
    "start_time": "2022-08-30T18:47:32.028Z"
   },
   {
    "duration": 290,
    "start_time": "2022-08-30T18:47:42.120Z"
   },
   {
    "duration": 299,
    "start_time": "2022-08-30T18:47:49.929Z"
   },
   {
    "duration": 351,
    "start_time": "2022-08-30T18:47:54.424Z"
   },
   {
    "duration": 84,
    "start_time": "2022-08-30T18:48:06.847Z"
   },
   {
    "duration": 95,
    "start_time": "2022-08-30T18:48:15.443Z"
   },
   {
    "duration": 9,
    "start_time": "2022-08-30T18:48:20.923Z"
   },
   {
    "duration": 8,
    "start_time": "2022-08-30T18:52:51.754Z"
   },
   {
    "duration": 53,
    "start_time": "2022-08-30T18:53:15.497Z"
   },
   {
    "duration": 2288,
    "start_time": "2022-08-30T19:01:17.881Z"
   },
   {
    "duration": 15,
    "start_time": "2022-08-30T19:01:20.171Z"
   },
   {
    "duration": 17,
    "start_time": "2022-08-30T19:01:23.128Z"
   },
   {
    "duration": 8088,
    "start_time": "2022-08-30T19:01:41.736Z"
   },
   {
    "duration": 7397,
    "start_time": "2022-08-30T19:02:03.009Z"
   },
   {
    "duration": 7195,
    "start_time": "2022-08-30T19:02:24.977Z"
   },
   {
    "duration": 23,
    "start_time": "2022-08-30T19:02:48.618Z"
   },
   {
    "duration": 10,
    "start_time": "2022-08-30T19:02:53.460Z"
   },
   {
    "duration": 7352,
    "start_time": "2022-08-30T19:05:02.199Z"
   },
   {
    "duration": 7170,
    "start_time": "2022-08-30T19:05:33.340Z"
   },
   {
    "duration": 7267,
    "start_time": "2022-08-30T19:05:47.625Z"
   },
   {
    "duration": 26,
    "start_time": "2022-08-30T19:06:31.218Z"
   },
   {
    "duration": 13,
    "start_time": "2022-08-30T19:06:47.713Z"
   },
   {
    "duration": 2140,
    "start_time": "2022-08-30T19:08:51.755Z"
   },
   {
    "duration": 7,
    "start_time": "2022-08-30T19:08:53.897Z"
   },
   {
    "duration": 7091,
    "start_time": "2022-08-30T19:08:53.907Z"
   },
   {
    "duration": 17,
    "start_time": "2022-08-30T19:09:01.001Z"
   },
   {
    "duration": 66,
    "start_time": "2022-08-30T19:09:01.020Z"
   },
   {
    "duration": 23,
    "start_time": "2022-08-30T19:09:01.088Z"
   },
   {
    "duration": 127,
    "start_time": "2022-08-30T19:09:01.113Z"
   },
   {
    "duration": 147,
    "start_time": "2022-08-30T19:09:01.241Z"
   },
   {
    "duration": 32,
    "start_time": "2022-08-30T19:09:01.390Z"
   },
   {
    "duration": 9,
    "start_time": "2022-08-30T19:09:01.424Z"
   },
   {
    "duration": 3087,
    "start_time": "2022-08-31T07:23:48.311Z"
   },
   {
    "duration": 9,
    "start_time": "2022-08-31T07:23:51.401Z"
   },
   {
    "duration": 6667,
    "start_time": "2022-08-31T07:23:51.411Z"
   },
   {
    "duration": 16,
    "start_time": "2022-08-31T07:23:58.080Z"
   },
   {
    "duration": 24,
    "start_time": "2022-08-31T07:23:58.099Z"
   },
   {
    "duration": 15,
    "start_time": "2022-08-31T07:23:58.125Z"
   },
   {
    "duration": 123,
    "start_time": "2022-08-31T07:23:58.141Z"
   },
   {
    "duration": 148,
    "start_time": "2022-08-31T07:23:58.265Z"
   },
   {
    "duration": 28,
    "start_time": "2022-08-31T07:23:58.414Z"
   },
   {
    "duration": 8,
    "start_time": "2022-08-31T07:23:58.443Z"
   },
   {
    "duration": 13,
    "start_time": "2022-08-31T07:24:36.993Z"
   },
   {
    "duration": 16,
    "start_time": "2022-08-31T07:27:47.345Z"
   },
   {
    "duration": 20,
    "start_time": "2022-08-31T07:27:53.932Z"
   },
   {
    "duration": 16,
    "start_time": "2022-08-31T07:28:44.115Z"
   },
   {
    "duration": 16,
    "start_time": "2022-08-31T07:29:09.598Z"
   },
   {
    "duration": 16,
    "start_time": "2022-08-31T07:29:27.867Z"
   },
   {
    "duration": 94,
    "start_time": "2022-08-31T07:30:07.628Z"
   },
   {
    "duration": 15,
    "start_time": "2022-08-31T07:32:41.527Z"
   },
   {
    "duration": 17,
    "start_time": "2022-08-31T07:52:42.676Z"
   },
   {
    "duration": 64,
    "start_time": "2022-08-31T07:55:10.766Z"
   },
   {
    "duration": 635,
    "start_time": "2022-08-31T07:56:19.969Z"
   },
   {
    "duration": 46,
    "start_time": "2022-08-31T07:56:50.041Z"
   },
   {
    "duration": 715,
    "start_time": "2022-08-31T07:57:04.695Z"
   },
   {
    "duration": 43,
    "start_time": "2022-08-31T07:57:26.143Z"
   },
   {
    "duration": 49,
    "start_time": "2022-08-31T07:58:11.398Z"
   },
   {
    "duration": 24,
    "start_time": "2022-08-31T08:01:04.708Z"
   },
   {
    "duration": 3103,
    "start_time": "2022-08-31T18:21:58.930Z"
   },
   {
    "duration": 9,
    "start_time": "2022-08-31T18:22:02.036Z"
   },
   {
    "duration": 7348,
    "start_time": "2022-08-31T18:22:02.046Z"
   },
   {
    "duration": 14,
    "start_time": "2022-08-31T18:22:09.396Z"
   },
   {
    "duration": 26,
    "start_time": "2022-08-31T18:22:09.411Z"
   },
   {
    "duration": 14,
    "start_time": "2022-08-31T18:22:09.439Z"
   },
   {
    "duration": 121,
    "start_time": "2022-08-31T18:22:09.454Z"
   },
   {
    "duration": 141,
    "start_time": "2022-08-31T18:22:09.586Z"
   },
   {
    "duration": 30,
    "start_time": "2022-08-31T18:22:09.728Z"
   },
   {
    "duration": 26,
    "start_time": "2022-08-31T18:22:09.761Z"
   },
   {
    "duration": 25,
    "start_time": "2022-08-31T18:22:09.789Z"
   },
   {
    "duration": 21,
    "start_time": "2022-08-31T18:22:52.361Z"
   },
   {
    "duration": 19,
    "start_time": "2022-08-31T18:22:56.870Z"
   },
   {
    "duration": 26,
    "start_time": "2022-08-31T18:23:41.466Z"
   },
   {
    "duration": 86,
    "start_time": "2022-08-31T18:27:19.534Z"
   },
   {
    "duration": 28,
    "start_time": "2022-08-31T18:27:35.507Z"
   },
   {
    "duration": 25,
    "start_time": "2022-08-31T18:27:52.925Z"
   },
   {
    "duration": 28,
    "start_time": "2022-08-31T18:28:05.302Z"
   },
   {
    "duration": 32,
    "start_time": "2022-08-31T18:28:12.201Z"
   },
   {
    "duration": 32,
    "start_time": "2022-08-31T18:28:17.181Z"
   },
   {
    "duration": 29,
    "start_time": "2022-08-31T18:28:30.222Z"
   },
   {
    "duration": 30,
    "start_time": "2022-08-31T18:28:45.831Z"
   },
   {
    "duration": 42,
    "start_time": "2022-08-31T18:29:12.311Z"
   },
   {
    "duration": 51,
    "start_time": "2022-08-31T18:29:37.409Z"
   },
   {
    "duration": 60,
    "start_time": "2022-08-31T18:29:53.012Z"
   },
   {
    "duration": 91,
    "start_time": "2022-08-31T18:30:04.439Z"
   },
   {
    "duration": 82,
    "start_time": "2022-08-31T18:31:47.928Z"
   },
   {
    "duration": 97,
    "start_time": "2022-08-31T18:31:59.364Z"
   },
   {
    "duration": 101,
    "start_time": "2022-08-31T18:33:51.763Z"
   },
   {
    "duration": 112,
    "start_time": "2022-08-31T18:34:05.171Z"
   },
   {
    "duration": 134,
    "start_time": "2022-08-31T18:34:47.136Z"
   },
   {
    "duration": 152,
    "start_time": "2022-08-31T18:36:26.337Z"
   },
   {
    "duration": 144,
    "start_time": "2022-08-31T18:38:21.399Z"
   },
   {
    "duration": 133,
    "start_time": "2022-08-31T18:38:49.530Z"
   },
   {
    "duration": 130,
    "start_time": "2022-08-31T18:39:02.537Z"
   },
   {
    "duration": 6,
    "start_time": "2022-08-31T18:40:10.768Z"
   },
   {
    "duration": 2634,
    "start_time": "2022-09-02T07:17:32.821Z"
   },
   {
    "duration": 6,
    "start_time": "2022-09-02T07:17:35.457Z"
   },
   {
    "duration": 6273,
    "start_time": "2022-09-02T07:17:35.465Z"
   },
   {
    "duration": 13,
    "start_time": "2022-09-02T07:17:41.740Z"
   },
   {
    "duration": 46,
    "start_time": "2022-09-02T07:17:41.756Z"
   },
   {
    "duration": 15,
    "start_time": "2022-09-02T07:17:41.804Z"
   },
   {
    "duration": 110,
    "start_time": "2022-09-02T07:17:41.820Z"
   },
   {
    "duration": 143,
    "start_time": "2022-09-02T07:17:41.932Z"
   },
   {
    "duration": 45,
    "start_time": "2022-09-02T07:17:42.076Z"
   },
   {
    "duration": 9,
    "start_time": "2022-09-02T07:17:42.122Z"
   },
   {
    "duration": 25,
    "start_time": "2022-09-02T07:17:42.133Z"
   },
   {
    "duration": 164,
    "start_time": "2022-09-02T07:17:42.160Z"
   },
   {
    "duration": 7,
    "start_time": "2022-09-02T07:17:42.325Z"
   },
   {
    "duration": 5,
    "start_time": "2022-09-02T07:18:48.071Z"
   },
   {
    "duration": 12,
    "start_time": "2022-09-02T07:19:04.376Z"
   },
   {
    "duration": 10,
    "start_time": "2022-09-02T07:19:12.263Z"
   },
   {
    "duration": 25,
    "start_time": "2022-09-02T07:19:18.612Z"
   },
   {
    "duration": 28,
    "start_time": "2022-09-02T07:20:29.219Z"
   },
   {
    "duration": 24,
    "start_time": "2022-09-02T07:25:26.587Z"
   },
   {
    "duration": 24,
    "start_time": "2022-09-02T07:25:53.716Z"
   },
   {
    "duration": 27,
    "start_time": "2022-09-02T07:26:57.405Z"
   },
   {
    "duration": 31,
    "start_time": "2022-09-02T07:27:42.545Z"
   },
   {
    "duration": 30,
    "start_time": "2022-09-02T07:28:32.095Z"
   },
   {
    "duration": 16,
    "start_time": "2022-09-02T07:31:10.819Z"
   },
   {
    "duration": 29,
    "start_time": "2022-09-02T07:32:07.927Z"
   },
   {
    "duration": 31,
    "start_time": "2022-09-02T07:32:47.380Z"
   },
   {
    "duration": 18,
    "start_time": "2022-09-02T07:33:37.046Z"
   },
   {
    "duration": 36,
    "start_time": "2022-09-02T07:33:51.685Z"
   },
   {
    "duration": 30,
    "start_time": "2022-09-02T07:33:54.483Z"
   },
   {
    "duration": 20,
    "start_time": "2022-09-02T07:35:28.381Z"
   },
   {
    "duration": 36,
    "start_time": "2022-09-02T07:37:46.401Z"
   },
   {
    "duration": 49,
    "start_time": "2022-09-02T07:38:40.572Z"
   },
   {
    "duration": 42,
    "start_time": "2022-09-02T07:40:07.840Z"
   },
   {
    "duration": 45,
    "start_time": "2022-09-02T07:40:38.713Z"
   },
   {
    "duration": 53,
    "start_time": "2022-09-02T07:41:24.887Z"
   },
   {
    "duration": 28,
    "start_time": "2022-09-02T07:42:39.853Z"
   },
   {
    "duration": 3176,
    "start_time": "2022-09-02T17:51:35.265Z"
   },
   {
    "duration": 7,
    "start_time": "2022-09-02T17:51:38.444Z"
   },
   {
    "duration": 5229,
    "start_time": "2022-09-02T17:51:38.453Z"
   },
   {
    "duration": 18,
    "start_time": "2022-09-02T17:51:43.683Z"
   },
   {
    "duration": 28,
    "start_time": "2022-09-02T17:51:43.702Z"
   },
   {
    "duration": 13,
    "start_time": "2022-09-02T17:51:43.731Z"
   },
   {
    "duration": 110,
    "start_time": "2022-09-02T17:51:43.745Z"
   },
   {
    "duration": 129,
    "start_time": "2022-09-02T17:51:43.856Z"
   },
   {
    "duration": 35,
    "start_time": "2022-09-02T17:51:43.986Z"
   },
   {
    "duration": 7,
    "start_time": "2022-09-02T17:51:44.023Z"
   },
   {
    "duration": 25,
    "start_time": "2022-09-02T17:51:44.031Z"
   },
   {
    "duration": 164,
    "start_time": "2022-09-02T17:51:44.057Z"
   },
   {
    "duration": 104,
    "start_time": "2022-09-02T17:51:44.222Z"
   },
   {
    "duration": 30,
    "start_time": "2022-09-02T17:53:01.097Z"
   },
   {
    "duration": 31,
    "start_time": "2022-09-02T17:53:08.729Z"
   },
   {
    "duration": 45,
    "start_time": "2022-09-02T17:53:14.744Z"
   },
   {
    "duration": 30,
    "start_time": "2022-09-02T17:53:17.187Z"
   },
   {
    "duration": 31,
    "start_time": "2022-09-02T17:53:32.262Z"
   },
   {
    "duration": 32,
    "start_time": "2022-09-02T17:53:54.201Z"
   },
   {
    "duration": 30,
    "start_time": "2022-09-02T17:55:35.306Z"
   },
   {
    "duration": 30,
    "start_time": "2022-09-02T17:55:45.121Z"
   },
   {
    "duration": 30,
    "start_time": "2022-09-02T17:55:48.569Z"
   },
   {
    "duration": 31,
    "start_time": "2022-09-02T17:55:51.833Z"
   },
   {
    "duration": 30,
    "start_time": "2022-09-02T17:58:05.417Z"
   },
   {
    "duration": 36,
    "start_time": "2022-09-02T17:59:00.198Z"
   },
   {
    "duration": 31,
    "start_time": "2022-09-02T17:59:07.231Z"
   },
   {
    "duration": 43,
    "start_time": "2022-09-02T17:59:42.750Z"
   },
   {
    "duration": 40,
    "start_time": "2022-09-02T18:00:36.268Z"
   },
   {
    "duration": 33,
    "start_time": "2022-09-02T18:15:45.443Z"
   },
   {
    "duration": 791,
    "start_time": "2022-09-02T18:15:55.809Z"
   },
   {
    "duration": 740,
    "start_time": "2022-09-02T18:16:20.618Z"
   },
   {
    "duration": 13,
    "start_time": "2022-09-02T18:16:36.633Z"
   },
   {
    "duration": 736,
    "start_time": "2022-09-02T18:16:48.078Z"
   },
   {
    "duration": 15,
    "start_time": "2022-09-02T18:17:15.627Z"
   },
   {
    "duration": 784,
    "start_time": "2022-09-02T18:17:33.887Z"
   },
   {
    "duration": 1830,
    "start_time": "2022-09-02T18:17:42.637Z"
   },
   {
    "duration": 7,
    "start_time": "2022-09-02T18:17:44.468Z"
   },
   {
    "duration": 5598,
    "start_time": "2022-09-02T18:17:44.477Z"
   },
   {
    "duration": 23,
    "start_time": "2022-09-02T18:17:50.078Z"
   },
   {
    "duration": 40,
    "start_time": "2022-09-02T18:17:50.103Z"
   },
   {
    "duration": 13,
    "start_time": "2022-09-02T18:17:50.145Z"
   },
   {
    "duration": 115,
    "start_time": "2022-09-02T18:17:50.159Z"
   },
   {
    "duration": 143,
    "start_time": "2022-09-02T18:17:50.276Z"
   },
   {
    "duration": 27,
    "start_time": "2022-09-02T18:17:50.421Z"
   },
   {
    "duration": 8,
    "start_time": "2022-09-02T18:17:50.450Z"
   },
   {
    "duration": 48,
    "start_time": "2022-09-02T18:17:50.459Z"
   },
   {
    "duration": 168,
    "start_time": "2022-09-02T18:17:50.508Z"
   },
   {
    "duration": 61,
    "start_time": "2022-09-02T18:17:59.568Z"
   },
   {
    "duration": 62,
    "start_time": "2022-09-02T18:18:19.638Z"
   },
   {
    "duration": 1920,
    "start_time": "2022-09-02T18:18:29.403Z"
   },
   {
    "duration": 7,
    "start_time": "2022-09-02T18:18:31.325Z"
   },
   {
    "duration": 5645,
    "start_time": "2022-09-02T18:18:31.334Z"
   },
   {
    "duration": 22,
    "start_time": "2022-09-02T18:18:36.981Z"
   },
   {
    "duration": 21,
    "start_time": "2022-09-02T18:18:37.005Z"
   },
   {
    "duration": 13,
    "start_time": "2022-09-02T18:18:37.027Z"
   },
   {
    "duration": 123,
    "start_time": "2022-09-02T18:18:37.041Z"
   },
   {
    "duration": 140,
    "start_time": "2022-09-02T18:18:37.166Z"
   },
   {
    "duration": 27,
    "start_time": "2022-09-02T18:18:37.307Z"
   },
   {
    "duration": 7,
    "start_time": "2022-09-02T18:18:37.336Z"
   },
   {
    "duration": 21,
    "start_time": "2022-09-02T18:18:37.345Z"
   },
   {
    "duration": 169,
    "start_time": "2022-09-02T18:18:37.367Z"
   },
   {
    "duration": 76,
    "start_time": "2022-09-02T18:18:37.538Z"
   },
   {
    "duration": 84,
    "start_time": "2022-09-02T18:18:39.047Z"
   },
   {
    "duration": 73,
    "start_time": "2022-09-02T18:18:42.050Z"
   },
   {
    "duration": 35,
    "start_time": "2022-09-02T18:19:03.178Z"
   },
   {
    "duration": 2016,
    "start_time": "2022-09-02T18:19:09.215Z"
   },
   {
    "duration": 7,
    "start_time": "2022-09-02T18:19:11.233Z"
   },
   {
    "duration": 5560,
    "start_time": "2022-09-02T18:19:11.242Z"
   },
   {
    "duration": 13,
    "start_time": "2022-09-02T18:19:16.804Z"
   },
   {
    "duration": 23,
    "start_time": "2022-09-02T18:19:16.819Z"
   },
   {
    "duration": 14,
    "start_time": "2022-09-02T18:19:16.844Z"
   },
   {
    "duration": 142,
    "start_time": "2022-09-02T18:19:16.860Z"
   },
   {
    "duration": 133,
    "start_time": "2022-09-02T18:19:17.004Z"
   },
   {
    "duration": 27,
    "start_time": "2022-09-02T18:19:17.139Z"
   },
   {
    "duration": 30,
    "start_time": "2022-09-02T18:19:17.169Z"
   },
   {
    "duration": 21,
    "start_time": "2022-09-02T18:19:17.200Z"
   },
   {
    "duration": 149,
    "start_time": "2022-09-02T18:19:17.222Z"
   },
   {
    "duration": 50,
    "start_time": "2022-09-02T18:19:17.373Z"
   },
   {
    "duration": 47,
    "start_time": "2022-09-02T18:20:09.864Z"
   },
   {
    "duration": 38,
    "start_time": "2022-09-02T18:20:13.603Z"
   },
   {
    "duration": 42,
    "start_time": "2022-09-02T18:28:24.231Z"
   },
   {
    "duration": 39,
    "start_time": "2022-09-02T18:28:42.695Z"
   },
   {
    "duration": 43,
    "start_time": "2022-09-02T18:29:12.560Z"
   },
   {
    "duration": 41,
    "start_time": "2022-09-02T18:29:22.589Z"
   },
   {
    "duration": 37,
    "start_time": "2022-09-02T18:31:31.594Z"
   },
   {
    "duration": 99,
    "start_time": "2022-09-02T18:33:58.679Z"
   },
   {
    "duration": 143,
    "start_time": "2022-09-02T18:34:04.519Z"
   },
   {
    "duration": 129,
    "start_time": "2022-09-02T18:34:19.462Z"
   },
   {
    "duration": 1848,
    "start_time": "2022-09-02T18:34:55.360Z"
   },
   {
    "duration": 6,
    "start_time": "2022-09-02T18:34:57.210Z"
   },
   {
    "duration": 5467,
    "start_time": "2022-09-02T18:34:57.217Z"
   },
   {
    "duration": 14,
    "start_time": "2022-09-02T18:35:02.687Z"
   },
   {
    "duration": 78,
    "start_time": "2022-09-02T18:35:02.703Z"
   },
   {
    "duration": 18,
    "start_time": "2022-09-02T18:35:02.782Z"
   },
   {
    "duration": 88,
    "start_time": "2022-09-02T18:35:02.801Z"
   },
   {
    "duration": 119,
    "start_time": "2022-09-02T18:35:02.898Z"
   },
   {
    "duration": 26,
    "start_time": "2022-09-02T18:35:03.019Z"
   },
   {
    "duration": 24,
    "start_time": "2022-09-02T18:35:03.047Z"
   },
   {
    "duration": 24,
    "start_time": "2022-09-02T18:35:03.073Z"
   },
   {
    "duration": 139,
    "start_time": "2022-09-02T18:35:03.099Z"
   },
   {
    "duration": 35,
    "start_time": "2022-09-02T18:35:03.240Z"
   },
   {
    "duration": 42,
    "start_time": "2022-09-02T18:35:18.585Z"
   },
   {
    "duration": 115,
    "start_time": "2022-09-02T18:35:35.091Z"
   },
   {
    "duration": 130,
    "start_time": "2022-09-02T18:35:41.525Z"
   },
   {
    "duration": 127,
    "start_time": "2022-09-02T18:35:53.857Z"
   },
   {
    "duration": 112,
    "start_time": "2022-09-02T18:35:57.575Z"
   },
   {
    "duration": 111,
    "start_time": "2022-09-02T18:35:59.145Z"
   },
   {
    "duration": 62,
    "start_time": "2022-09-02T18:36:04.008Z"
   },
   {
    "duration": 58,
    "start_time": "2022-09-02T18:36:12.555Z"
   },
   {
    "duration": 50,
    "start_time": "2022-09-02T18:36:17.835Z"
   },
   {
    "duration": 1762,
    "start_time": "2022-09-02T18:36:30.331Z"
   },
   {
    "duration": 7,
    "start_time": "2022-09-02T18:36:32.095Z"
   },
   {
    "duration": 5381,
    "start_time": "2022-09-02T18:36:32.103Z"
   },
   {
    "duration": 19,
    "start_time": "2022-09-02T18:36:37.486Z"
   },
   {
    "duration": 25,
    "start_time": "2022-09-02T18:36:37.507Z"
   },
   {
    "duration": 12,
    "start_time": "2022-09-02T18:36:37.534Z"
   },
   {
    "duration": 112,
    "start_time": "2022-09-02T18:36:37.547Z"
   },
   {
    "duration": 122,
    "start_time": "2022-09-02T18:36:37.661Z"
   },
   {
    "duration": 37,
    "start_time": "2022-09-02T18:36:37.785Z"
   },
   {
    "duration": 7,
    "start_time": "2022-09-02T18:36:37.824Z"
   },
   {
    "duration": 24,
    "start_time": "2022-09-02T18:36:37.833Z"
   },
   {
    "duration": 162,
    "start_time": "2022-09-02T18:36:37.858Z"
   },
   {
    "duration": 43,
    "start_time": "2022-09-02T18:36:38.022Z"
   },
   {
    "duration": 38,
    "start_time": "2022-09-02T18:36:47.703Z"
   },
   {
    "duration": 45,
    "start_time": "2022-09-02T18:37:02.060Z"
   },
   {
    "duration": 3102,
    "start_time": "2022-09-03T14:02:00.352Z"
   },
   {
    "duration": 7,
    "start_time": "2022-09-03T14:02:03.456Z"
   },
   {
    "duration": 6755,
    "start_time": "2022-09-03T14:02:03.465Z"
   },
   {
    "duration": 16,
    "start_time": "2022-09-03T14:02:10.222Z"
   },
   {
    "duration": 47,
    "start_time": "2022-09-03T14:02:10.240Z"
   },
   {
    "duration": 17,
    "start_time": "2022-09-03T14:02:10.288Z"
   },
   {
    "duration": 116,
    "start_time": "2022-09-03T14:02:10.307Z"
   },
   {
    "duration": 133,
    "start_time": "2022-09-03T14:02:10.424Z"
   },
   {
    "duration": 42,
    "start_time": "2022-09-03T14:02:10.558Z"
   },
   {
    "duration": 9,
    "start_time": "2022-09-03T14:02:10.602Z"
   },
   {
    "duration": 61,
    "start_time": "2022-09-03T14:02:10.613Z"
   },
   {
    "duration": 145,
    "start_time": "2022-09-03T14:02:10.677Z"
   },
   {
    "duration": 43,
    "start_time": "2022-09-03T14:02:19.728Z"
   },
   {
    "duration": 6,
    "start_time": "2022-09-03T14:10:05.639Z"
   },
   {
    "duration": 119,
    "start_time": "2022-09-03T14:10:14.736Z"
   },
   {
    "duration": 132,
    "start_time": "2022-09-03T14:10:21.549Z"
   },
   {
    "duration": 2026,
    "start_time": "2022-09-03T14:12:00.375Z"
   },
   {
    "duration": 6,
    "start_time": "2022-09-03T14:12:02.403Z"
   },
   {
    "duration": 6938,
    "start_time": "2022-09-03T14:12:02.411Z"
   },
   {
    "duration": 15,
    "start_time": "2022-09-03T14:12:09.351Z"
   },
   {
    "duration": 36,
    "start_time": "2022-09-03T14:12:09.367Z"
   },
   {
    "duration": 15,
    "start_time": "2022-09-03T14:12:09.405Z"
   },
   {
    "duration": 120,
    "start_time": "2022-09-03T14:12:09.422Z"
   },
   {
    "duration": 151,
    "start_time": "2022-09-03T14:12:09.544Z"
   },
   {
    "duration": 31,
    "start_time": "2022-09-03T14:12:09.697Z"
   },
   {
    "duration": 9,
    "start_time": "2022-09-03T14:12:09.731Z"
   },
   {
    "duration": 49,
    "start_time": "2022-09-03T14:12:09.742Z"
   },
   {
    "duration": 149,
    "start_time": "2022-09-03T14:12:09.793Z"
   },
   {
    "duration": 229,
    "start_time": "2022-09-03T14:12:09.944Z"
   },
   {
    "duration": 144,
    "start_time": "2022-09-03T14:19:06.502Z"
   },
   {
    "duration": 165,
    "start_time": "2022-09-03T14:19:10.207Z"
   },
   {
    "duration": 133,
    "start_time": "2022-09-03T14:19:12.805Z"
   },
   {
    "duration": 148,
    "start_time": "2022-09-03T14:19:15.293Z"
   },
   {
    "duration": 137,
    "start_time": "2022-09-03T14:19:17.398Z"
   },
   {
    "duration": 143,
    "start_time": "2022-09-03T14:19:19.775Z"
   },
   {
    "duration": 259,
    "start_time": "2022-09-03T14:19:23.496Z"
   },
   {
    "duration": 176,
    "start_time": "2022-09-03T14:19:26.965Z"
   },
   {
    "duration": 166,
    "start_time": "2022-09-03T14:19:47.246Z"
   },
   {
    "duration": 205,
    "start_time": "2022-09-03T14:19:58.607Z"
   },
   {
    "duration": 200,
    "start_time": "2022-09-03T14:20:04.199Z"
   },
   {
    "duration": 188,
    "start_time": "2022-09-03T14:20:11.143Z"
   },
   {
    "duration": 142,
    "start_time": "2022-09-03T14:20:16.599Z"
   },
   {
    "duration": 226,
    "start_time": "2022-09-03T14:20:54.903Z"
   },
   {
    "duration": 139,
    "start_time": "2022-09-03T14:21:36.044Z"
   },
   {
    "duration": 2175,
    "start_time": "2022-09-03T14:22:05.268Z"
   },
   {
    "duration": 7,
    "start_time": "2022-09-03T14:22:07.445Z"
   },
   {
    "duration": 7095,
    "start_time": "2022-09-03T14:22:07.454Z"
   },
   {
    "duration": 15,
    "start_time": "2022-09-03T14:22:14.551Z"
   },
   {
    "duration": 33,
    "start_time": "2022-09-03T14:22:14.567Z"
   },
   {
    "duration": 12,
    "start_time": "2022-09-03T14:22:14.602Z"
   },
   {
    "duration": 115,
    "start_time": "2022-09-03T14:22:14.616Z"
   },
   {
    "duration": 156,
    "start_time": "2022-09-03T14:22:14.732Z"
   },
   {
    "duration": 29,
    "start_time": "2022-09-03T14:22:14.889Z"
   },
   {
    "duration": 9,
    "start_time": "2022-09-03T14:22:14.920Z"
   },
   {
    "duration": 23,
    "start_time": "2022-09-03T14:22:14.930Z"
   },
   {
    "duration": 165,
    "start_time": "2022-09-03T14:22:14.955Z"
   },
   {
    "duration": 142,
    "start_time": "2022-09-03T14:22:15.122Z"
   },
   {
    "duration": 2083,
    "start_time": "2022-09-03T14:23:09.199Z"
   },
   {
    "duration": 7,
    "start_time": "2022-09-03T14:23:11.284Z"
   },
   {
    "duration": 6895,
    "start_time": "2022-09-03T14:23:11.292Z"
   },
   {
    "duration": 14,
    "start_time": "2022-09-03T14:23:18.189Z"
   },
   {
    "duration": 28,
    "start_time": "2022-09-03T14:23:18.205Z"
   },
   {
    "duration": 15,
    "start_time": "2022-09-03T14:23:18.235Z"
   },
   {
    "duration": 122,
    "start_time": "2022-09-03T14:23:18.252Z"
   },
   {
    "duration": 146,
    "start_time": "2022-09-03T14:23:18.376Z"
   },
   {
    "duration": 27,
    "start_time": "2022-09-03T14:23:18.523Z"
   },
   {
    "duration": 8,
    "start_time": "2022-09-03T14:23:18.552Z"
   },
   {
    "duration": 44,
    "start_time": "2022-09-03T14:23:18.561Z"
   },
   {
    "duration": 149,
    "start_time": "2022-09-03T14:23:18.607Z"
   },
   {
    "duration": 48,
    "start_time": "2022-09-03T14:23:26.575Z"
   },
   {
    "duration": 41,
    "start_time": "2022-09-03T14:24:42.623Z"
   },
   {
    "duration": 45,
    "start_time": "2022-09-03T15:13:08.169Z"
   },
   {
    "duration": 1863,
    "start_time": "2022-09-03T15:21:42.708Z"
   },
   {
    "duration": 13,
    "start_time": "2022-09-03T15:21:44.574Z"
   },
   {
    "duration": 6891,
    "start_time": "2022-09-03T15:21:44.589Z"
   },
   {
    "duration": 17,
    "start_time": "2022-09-03T15:21:51.482Z"
   },
   {
    "duration": 26,
    "start_time": "2022-09-03T15:21:51.501Z"
   },
   {
    "duration": 16,
    "start_time": "2022-09-03T15:21:51.529Z"
   },
   {
    "duration": 117,
    "start_time": "2022-09-03T15:21:51.546Z"
   },
   {
    "duration": 136,
    "start_time": "2022-09-03T15:21:51.665Z"
   },
   {
    "duration": 28,
    "start_time": "2022-09-03T15:21:51.802Z"
   },
   {
    "duration": 8,
    "start_time": "2022-09-03T15:21:51.832Z"
   },
   {
    "duration": 21,
    "start_time": "2022-09-03T15:21:51.841Z"
   },
   {
    "duration": 141,
    "start_time": "2022-09-03T15:21:51.886Z"
   },
   {
    "duration": 48,
    "start_time": "2022-09-03T15:23:47.306Z"
   },
   {
    "duration": 46,
    "start_time": "2022-09-03T15:24:14.043Z"
   },
   {
    "duration": 1409,
    "start_time": "2022-09-03T15:25:19.626Z"
   },
   {
    "duration": 46,
    "start_time": "2022-09-03T15:25:50.512Z"
   },
   {
    "duration": 52,
    "start_time": "2022-09-03T15:27:05.246Z"
   },
   {
    "duration": 47,
    "start_time": "2022-09-03T15:27:12.252Z"
   },
   {
    "duration": 48,
    "start_time": "2022-09-03T15:27:14.347Z"
   },
   {
    "duration": 40,
    "start_time": "2022-09-03T15:27:29.918Z"
   },
   {
    "duration": 40,
    "start_time": "2022-09-03T15:27:36.886Z"
   },
   {
    "duration": 6,
    "start_time": "2022-09-03T15:28:17.789Z"
   },
   {
    "duration": 36,
    "start_time": "2022-09-03T15:28:41.300Z"
   },
   {
    "duration": 169,
    "start_time": "2022-09-03T15:29:15.242Z"
   },
   {
    "duration": 1393,
    "start_time": "2022-09-03T15:29:24.707Z"
   },
   {
    "duration": 37,
    "start_time": "2022-09-03T15:29:57.926Z"
   },
   {
    "duration": 1540,
    "start_time": "2022-09-03T15:30:15.798Z"
   },
   {
    "duration": 2121,
    "start_time": "2022-09-03T15:47:32.938Z"
   },
   {
    "duration": 6,
    "start_time": "2022-09-03T15:47:35.061Z"
   },
   {
    "duration": 7152,
    "start_time": "2022-09-03T15:47:35.069Z"
   },
   {
    "duration": 13,
    "start_time": "2022-09-03T15:47:42.223Z"
   },
   {
    "duration": 31,
    "start_time": "2022-09-03T15:47:42.238Z"
   },
   {
    "duration": 30,
    "start_time": "2022-09-03T15:47:42.270Z"
   },
   {
    "duration": 120,
    "start_time": "2022-09-03T15:47:42.302Z"
   },
   {
    "duration": 141,
    "start_time": "2022-09-03T15:47:42.423Z"
   },
   {
    "duration": 44,
    "start_time": "2022-09-03T15:47:42.567Z"
   },
   {
    "duration": 10,
    "start_time": "2022-09-03T15:47:42.615Z"
   },
   {
    "duration": 22,
    "start_time": "2022-09-03T15:47:42.627Z"
   },
   {
    "duration": 180,
    "start_time": "2022-09-03T15:47:42.651Z"
   },
   {
    "duration": 1592,
    "start_time": "2022-09-03T15:48:16.283Z"
   },
   {
    "duration": 1398,
    "start_time": "2022-09-03T15:49:53.947Z"
   },
   {
    "duration": 1491,
    "start_time": "2022-09-03T16:57:39.913Z"
   },
   {
    "duration": 1373,
    "start_time": "2022-09-03T16:57:51.111Z"
   },
   {
    "duration": 1393,
    "start_time": "2022-09-03T16:58:24.682Z"
   },
   {
    "duration": 1416,
    "start_time": "2022-09-03T16:58:56.894Z"
   },
   {
    "duration": 1405,
    "start_time": "2022-09-03T16:59:13.536Z"
   },
   {
    "duration": 2067,
    "start_time": "2022-09-03T16:59:18.822Z"
   },
   {
    "duration": 7,
    "start_time": "2022-09-03T16:59:20.890Z"
   },
   {
    "duration": 6705,
    "start_time": "2022-09-03T16:59:20.899Z"
   },
   {
    "duration": 14,
    "start_time": "2022-09-03T16:59:27.606Z"
   },
   {
    "duration": 27,
    "start_time": "2022-09-03T16:59:27.622Z"
   },
   {
    "duration": 40,
    "start_time": "2022-09-03T16:59:27.651Z"
   },
   {
    "duration": 107,
    "start_time": "2022-09-03T16:59:27.692Z"
   },
   {
    "duration": 139,
    "start_time": "2022-09-03T16:59:27.801Z"
   },
   {
    "duration": 27,
    "start_time": "2022-09-03T16:59:27.942Z"
   },
   {
    "duration": 21,
    "start_time": "2022-09-03T16:59:27.971Z"
   },
   {
    "duration": 29,
    "start_time": "2022-09-03T16:59:27.994Z"
   },
   {
    "duration": 146,
    "start_time": "2022-09-03T16:59:28.025Z"
   },
   {
    "duration": 1434,
    "start_time": "2022-09-03T16:59:28.172Z"
   },
   {
    "duration": 1903,
    "start_time": "2022-09-03T17:01:10.823Z"
   },
   {
    "duration": 1352,
    "start_time": "2022-09-03T17:01:27.082Z"
   },
   {
    "duration": 6,
    "start_time": "2022-09-03T17:03:01.792Z"
   },
   {
    "duration": 7011,
    "start_time": "2022-09-03T17:03:03.947Z"
   },
   {
    "duration": 14,
    "start_time": "2022-09-03T17:03:17.898Z"
   },
   {
    "duration": 23,
    "start_time": "2022-09-03T17:03:28.155Z"
   },
   {
    "duration": 1300,
    "start_time": "2022-09-03T17:04:59.615Z"
   },
   {
    "duration": 6,
    "start_time": "2022-09-03T17:05:13.535Z"
   },
   {
    "duration": 7020,
    "start_time": "2022-09-03T17:05:13.543Z"
   },
   {
    "duration": 23,
    "start_time": "2022-09-03T17:05:20.565Z"
   },
   {
    "duration": 28,
    "start_time": "2022-09-03T17:05:20.591Z"
   },
   {
    "duration": 13,
    "start_time": "2022-09-03T17:05:20.621Z"
   },
   {
    "duration": 105,
    "start_time": "2022-09-03T17:05:20.636Z"
   },
   {
    "duration": 146,
    "start_time": "2022-09-03T17:05:20.742Z"
   },
   {
    "duration": 28,
    "start_time": "2022-09-03T17:05:20.890Z"
   },
   {
    "duration": 8,
    "start_time": "2022-09-03T17:05:20.920Z"
   },
   {
    "duration": 21,
    "start_time": "2022-09-03T17:05:20.930Z"
   },
   {
    "duration": 162,
    "start_time": "2022-09-03T17:05:20.954Z"
   },
   {
    "duration": 69,
    "start_time": "2022-09-03T17:05:21.118Z"
   },
   {
    "duration": 36,
    "start_time": "2022-09-03T17:05:38.657Z"
   },
   {
    "duration": 54,
    "start_time": "2022-09-03T17:06:39.126Z"
   },
   {
    "duration": 2207,
    "start_time": "2022-09-03T17:10:46.049Z"
   },
   {
    "duration": 1284,
    "start_time": "2022-09-03T17:10:48.258Z"
   },
   {
    "duration": 6,
    "start_time": "2022-09-03T17:10:49.543Z"
   },
   {
    "duration": 6694,
    "start_time": "2022-09-03T17:10:49.550Z"
   },
   {
    "duration": 17,
    "start_time": "2022-09-03T17:10:56.246Z"
   },
   {
    "duration": 47,
    "start_time": "2022-09-03T17:10:56.265Z"
   },
   {
    "duration": 16,
    "start_time": "2022-09-03T17:10:56.315Z"
   },
   {
    "duration": 137,
    "start_time": "2022-09-03T17:10:56.333Z"
   },
   {
    "duration": 154,
    "start_time": "2022-09-03T17:10:56.471Z"
   },
   {
    "duration": 32,
    "start_time": "2022-09-03T17:10:56.627Z"
   },
   {
    "duration": 27,
    "start_time": "2022-09-03T17:10:56.661Z"
   },
   {
    "duration": 25,
    "start_time": "2022-09-03T17:10:56.689Z"
   },
   {
    "duration": 144,
    "start_time": "2022-09-03T17:10:56.715Z"
   },
   {
    "duration": 242,
    "start_time": "2022-09-03T17:10:56.861Z"
   },
   {
    "duration": 40,
    "start_time": "2022-09-03T17:11:33.711Z"
   },
   {
    "duration": 231,
    "start_time": "2022-09-03T17:11:39.162Z"
   },
   {
    "duration": 235,
    "start_time": "2022-09-03T17:11:51.827Z"
   },
   {
    "duration": 36,
    "start_time": "2022-09-03T17:12:17.097Z"
   },
   {
    "duration": 227,
    "start_time": "2022-09-03T17:13:33.585Z"
   },
   {
    "duration": 36,
    "start_time": "2022-09-03T17:14:17.026Z"
   },
   {
    "duration": 45,
    "start_time": "2022-09-03T17:14:27.261Z"
   },
   {
    "duration": 62,
    "start_time": "2022-09-03T17:15:17.979Z"
   },
   {
    "duration": 50,
    "start_time": "2022-09-03T17:32:00.570Z"
   },
   {
    "duration": 51,
    "start_time": "2022-09-03T17:32:10.480Z"
   },
   {
    "duration": 4,
    "start_time": "2022-09-03T17:33:00.941Z"
   },
   {
    "duration": 5,
    "start_time": "2022-09-03T17:33:03.207Z"
   },
   {
    "duration": 4,
    "start_time": "2022-09-03T17:33:05.379Z"
   },
   {
    "duration": 28,
    "start_time": "2022-09-03T17:33:27.553Z"
   },
   {
    "duration": 20,
    "start_time": "2022-09-03T17:33:55.063Z"
   },
   {
    "duration": 8,
    "start_time": "2022-09-03T17:34:39.110Z"
   },
   {
    "duration": 26,
    "start_time": "2022-09-03T17:35:02.090Z"
   },
   {
    "duration": 10,
    "start_time": "2022-09-03T17:36:39.618Z"
   },
   {
    "duration": 121,
    "start_time": "2022-09-03T17:42:42.538Z"
   },
   {
    "duration": 128,
    "start_time": "2022-09-03T17:42:50.869Z"
   },
   {
    "duration": 139,
    "start_time": "2022-09-03T17:43:16.262Z"
   },
   {
    "duration": 109,
    "start_time": "2022-09-03T17:43:19.832Z"
   },
   {
    "duration": 104,
    "start_time": "2022-09-03T17:43:23.314Z"
   },
   {
    "duration": 10,
    "start_time": "2022-09-03T17:43:24.844Z"
   },
   {
    "duration": 107,
    "start_time": "2022-09-03T17:43:30.074Z"
   },
   {
    "duration": 107,
    "start_time": "2022-09-03T17:43:32.646Z"
   },
   {
    "duration": 108,
    "start_time": "2022-09-03T17:43:34.236Z"
   },
   {
    "duration": 127,
    "start_time": "2022-09-03T17:43:40.107Z"
   },
   {
    "duration": 106,
    "start_time": "2022-09-03T17:43:42.646Z"
   },
   {
    "duration": 1959,
    "start_time": "2022-09-03T17:43:54.568Z"
   },
   {
    "duration": 1296,
    "start_time": "2022-09-03T17:43:56.529Z"
   },
   {
    "duration": 7,
    "start_time": "2022-09-03T17:43:57.827Z"
   },
   {
    "duration": 7002,
    "start_time": "2022-09-03T17:43:57.836Z"
   },
   {
    "duration": 15,
    "start_time": "2022-09-03T17:44:04.840Z"
   },
   {
    "duration": 44,
    "start_time": "2022-09-03T17:44:04.857Z"
   },
   {
    "duration": 15,
    "start_time": "2022-09-03T17:44:04.903Z"
   },
   {
    "duration": 117,
    "start_time": "2022-09-03T17:44:04.920Z"
   },
   {
    "duration": 153,
    "start_time": "2022-09-03T17:44:05.039Z"
   },
   {
    "duration": 30,
    "start_time": "2022-09-03T17:44:05.195Z"
   },
   {
    "duration": 8,
    "start_time": "2022-09-03T17:44:05.226Z"
   },
   {
    "duration": 27,
    "start_time": "2022-09-03T17:44:05.236Z"
   },
   {
    "duration": 140,
    "start_time": "2022-09-03T17:44:05.287Z"
   },
   {
    "duration": 133,
    "start_time": "2022-09-03T17:44:05.429Z"
   },
   {
    "duration": 78,
    "start_time": "2022-09-03T17:44:25.803Z"
   },
   {
    "duration": 51,
    "start_time": "2022-09-03T17:44:30.082Z"
   },
   {
    "duration": 52,
    "start_time": "2022-09-03T17:44:31.920Z"
   },
   {
    "duration": 2128,
    "start_time": "2022-09-03T17:44:43.726Z"
   },
   {
    "duration": 1409,
    "start_time": "2022-09-03T17:44:45.856Z"
   },
   {
    "duration": 6,
    "start_time": "2022-09-03T17:44:47.266Z"
   },
   {
    "duration": 6545,
    "start_time": "2022-09-03T17:44:47.273Z"
   },
   {
    "duration": 15,
    "start_time": "2022-09-03T17:44:53.819Z"
   },
   {
    "duration": 26,
    "start_time": "2022-09-03T17:44:53.835Z"
   },
   {
    "duration": 36,
    "start_time": "2022-09-03T17:44:53.863Z"
   },
   {
    "duration": 114,
    "start_time": "2022-09-03T17:44:53.901Z"
   },
   {
    "duration": 136,
    "start_time": "2022-09-03T17:44:54.016Z"
   },
   {
    "duration": 42,
    "start_time": "2022-09-03T17:44:54.154Z"
   },
   {
    "duration": 8,
    "start_time": "2022-09-03T17:44:54.197Z"
   },
   {
    "duration": 24,
    "start_time": "2022-09-03T17:44:54.206Z"
   },
   {
    "duration": 151,
    "start_time": "2022-09-03T17:44:54.232Z"
   },
   {
    "duration": 67,
    "start_time": "2022-09-03T17:45:16.136Z"
   },
   {
    "duration": 58,
    "start_time": "2022-09-03T17:45:28.520Z"
   },
   {
    "duration": 48,
    "start_time": "2022-09-03T17:45:38.497Z"
   },
   {
    "duration": 13,
    "start_time": "2022-09-03T17:45:44.134Z"
   },
   {
    "duration": 12,
    "start_time": "2022-09-03T17:46:33.829Z"
   },
   {
    "duration": 20,
    "start_time": "2022-09-03T17:46:38.391Z"
   },
   {
    "duration": 5,
    "start_time": "2022-09-03T17:47:18.745Z"
   },
   {
    "duration": 5,
    "start_time": "2022-09-03T17:47:36.097Z"
   },
   {
    "duration": 28,
    "start_time": "2022-09-03T17:48:09.890Z"
   },
   {
    "duration": 38,
    "start_time": "2022-09-03T17:50:13.475Z"
   },
   {
    "duration": 13,
    "start_time": "2022-09-03T17:50:38.893Z"
   },
   {
    "duration": 12,
    "start_time": "2022-09-03T17:51:09.928Z"
   },
   {
    "duration": 14,
    "start_time": "2022-09-03T17:52:01.081Z"
   },
   {
    "duration": 32,
    "start_time": "2022-09-03T17:52:32.113Z"
   },
   {
    "duration": 22,
    "start_time": "2022-09-03T17:52:51.470Z"
   },
   {
    "duration": 20,
    "start_time": "2022-09-03T17:52:53.967Z"
   },
   {
    "duration": 28,
    "start_time": "2022-09-03T17:52:59.157Z"
   },
   {
    "duration": 13,
    "start_time": "2022-09-03T17:53:38.257Z"
   },
   {
    "duration": 67,
    "start_time": "2022-09-03T17:53:59.189Z"
   },
   {
    "duration": 47,
    "start_time": "2022-09-03T17:54:02.126Z"
   },
   {
    "duration": 30,
    "start_time": "2022-09-03T17:54:05.545Z"
   },
   {
    "duration": 16,
    "start_time": "2022-09-03T17:54:44.044Z"
   },
   {
    "duration": 37,
    "start_time": "2022-09-03T17:55:19.715Z"
   },
   {
    "duration": 46,
    "start_time": "2022-09-03T17:57:30.871Z"
   },
   {
    "duration": 35,
    "start_time": "2022-09-03T17:57:38.646Z"
   },
   {
    "duration": 53,
    "start_time": "2022-09-03T17:57:46.803Z"
   },
   {
    "duration": 34,
    "start_time": "2022-09-03T17:57:49.861Z"
   },
   {
    "duration": 11,
    "start_time": "2022-09-03T17:58:17.859Z"
   },
   {
    "duration": 11,
    "start_time": "2022-09-03T17:58:35.089Z"
   },
   {
    "duration": 50,
    "start_time": "2022-09-03T17:58:38.810Z"
   },
   {
    "duration": 36,
    "start_time": "2022-09-03T17:58:59.546Z"
   },
   {
    "duration": 38,
    "start_time": "2022-09-03T17:59:14.619Z"
   },
   {
    "duration": 36,
    "start_time": "2022-09-03T17:59:23.806Z"
   },
   {
    "duration": 49,
    "start_time": "2022-09-03T17:59:31.150Z"
   },
   {
    "duration": 56,
    "start_time": "2022-09-03T17:59:46.896Z"
   },
   {
    "duration": 38,
    "start_time": "2022-09-03T18:00:03.689Z"
   },
   {
    "duration": 57,
    "start_time": "2022-09-03T18:02:42.246Z"
   },
   {
    "duration": 41,
    "start_time": "2022-09-03T18:03:11.353Z"
   },
   {
    "duration": 40,
    "start_time": "2022-09-03T18:03:18.983Z"
   },
   {
    "duration": 37,
    "start_time": "2022-09-03T18:03:21.007Z"
   },
   {
    "duration": 37,
    "start_time": "2022-09-03T18:03:22.150Z"
   },
   {
    "duration": 14,
    "start_time": "2022-09-03T18:04:36.605Z"
   },
   {
    "duration": 1192,
    "start_time": "2022-09-03T18:05:05.658Z"
   },
   {
    "duration": 857,
    "start_time": "2022-09-03T18:05:49.859Z"
   },
   {
    "duration": 11,
    "start_time": "2022-09-03T18:05:54.910Z"
   },
   {
    "duration": 1009,
    "start_time": "2022-09-03T18:06:08.055Z"
   },
   {
    "duration": 908,
    "start_time": "2022-09-03T18:07:23.181Z"
   },
   {
    "duration": 814,
    "start_time": "2022-09-03T18:07:35.341Z"
   },
   {
    "duration": 17,
    "start_time": "2022-09-03T18:07:45.718Z"
   },
   {
    "duration": 4,
    "start_time": "2022-09-03T18:11:58.744Z"
   },
   {
    "duration": 5,
    "start_time": "2022-09-03T18:12:06.294Z"
   },
   {
    "duration": 69,
    "start_time": "2022-09-03T18:12:17.211Z"
   },
   {
    "duration": 85,
    "start_time": "2022-09-03T18:12:28.243Z"
   },
   {
    "duration": 14,
    "start_time": "2022-09-03T18:13:03.467Z"
   },
   {
    "duration": 42,
    "start_time": "2022-09-03T18:13:17.868Z"
   },
   {
    "duration": 32,
    "start_time": "2022-09-03T18:13:31.641Z"
   },
   {
    "duration": 33,
    "start_time": "2022-09-03T18:14:05.541Z"
   },
   {
    "duration": 28,
    "start_time": "2022-09-03T18:15:45.630Z"
   },
   {
    "duration": 34,
    "start_time": "2022-09-03T18:15:48.943Z"
   },
   {
    "duration": 16,
    "start_time": "2022-09-03T18:18:54.223Z"
   },
   {
    "duration": 17,
    "start_time": "2022-09-03T18:19:25.692Z"
   },
   {
    "duration": 17,
    "start_time": "2022-09-03T18:19:37.644Z"
   },
   {
    "duration": 1862,
    "start_time": "2022-09-03T18:20:28.775Z"
   },
   {
    "duration": 1280,
    "start_time": "2022-09-03T18:20:30.639Z"
   },
   {
    "duration": 6,
    "start_time": "2022-09-03T18:20:31.921Z"
   },
   {
    "duration": 6841,
    "start_time": "2022-09-03T18:20:31.928Z"
   },
   {
    "duration": 19,
    "start_time": "2022-09-03T18:20:38.771Z"
   },
   {
    "duration": 36,
    "start_time": "2022-09-03T18:20:38.792Z"
   },
   {
    "duration": 13,
    "start_time": "2022-09-03T18:20:38.829Z"
   },
   {
    "duration": 100,
    "start_time": "2022-09-03T18:20:38.844Z"
   },
   {
    "duration": 143,
    "start_time": "2022-09-03T18:20:38.946Z"
   },
   {
    "duration": 28,
    "start_time": "2022-09-03T18:20:39.092Z"
   },
   {
    "duration": 8,
    "start_time": "2022-09-03T18:20:39.122Z"
   },
   {
    "duration": 23,
    "start_time": "2022-09-03T18:20:39.132Z"
   },
   {
    "duration": 165,
    "start_time": "2022-09-03T18:20:39.156Z"
   },
   {
    "duration": 51,
    "start_time": "2022-09-03T18:20:39.323Z"
   },
   {
    "duration": 21,
    "start_time": "2022-09-03T18:20:39.386Z"
   },
   {
    "duration": 18,
    "start_time": "2022-09-03T18:21:01.923Z"
   },
   {
    "duration": 32,
    "start_time": "2022-09-03T18:21:18.222Z"
   },
   {
    "duration": 22,
    "start_time": "2022-09-03T18:23:26.414Z"
   },
   {
    "duration": 25,
    "start_time": "2022-09-03T18:23:43.621Z"
   },
   {
    "duration": 44,
    "start_time": "2022-09-03T18:24:25.451Z"
   },
   {
    "duration": 52,
    "start_time": "2022-09-03T18:24:36.958Z"
   },
   {
    "duration": 22,
    "start_time": "2022-09-03T18:24:48.269Z"
   },
   {
    "duration": 26,
    "start_time": "2022-09-03T18:24:53.223Z"
   },
   {
    "duration": 7,
    "start_time": "2022-09-03T18:25:22.734Z"
   },
   {
    "duration": 8,
    "start_time": "2022-09-03T18:25:45.583Z"
   },
   {
    "duration": 9,
    "start_time": "2022-09-03T18:25:54.575Z"
   },
   {
    "duration": 7,
    "start_time": "2022-09-03T18:26:30.793Z"
   },
   {
    "duration": 9,
    "start_time": "2022-09-03T18:26:57.658Z"
   },
   {
    "duration": 48,
    "start_time": "2022-09-03T18:28:47.528Z"
   },
   {
    "duration": 8,
    "start_time": "2022-09-03T18:29:20.138Z"
   },
   {
    "duration": 8,
    "start_time": "2022-09-03T18:29:26.603Z"
   },
   {
    "duration": 7,
    "start_time": "2022-09-03T18:29:46.813Z"
   },
   {
    "duration": 7,
    "start_time": "2022-09-03T18:29:49.918Z"
   },
   {
    "duration": 7,
    "start_time": "2022-09-03T18:30:03.618Z"
   },
   {
    "duration": 7,
    "start_time": "2022-09-03T18:30:19.881Z"
   },
   {
    "duration": 7,
    "start_time": "2022-09-03T18:30:26.035Z"
   },
   {
    "duration": 6,
    "start_time": "2022-09-03T18:30:31.082Z"
   },
   {
    "duration": 6,
    "start_time": "2022-09-03T18:30:35.200Z"
   },
   {
    "duration": 8,
    "start_time": "2022-09-03T18:30:37.368Z"
   },
   {
    "duration": 13,
    "start_time": "2022-09-03T18:30:54.034Z"
   },
   {
    "duration": 12,
    "start_time": "2022-09-03T18:31:02.644Z"
   },
   {
    "duration": 12,
    "start_time": "2022-09-03T18:31:05.117Z"
   },
   {
    "duration": 4,
    "start_time": "2022-09-03T18:31:06.114Z"
   },
   {
    "duration": 4,
    "start_time": "2022-09-03T18:31:12.393Z"
   },
   {
    "duration": 8,
    "start_time": "2022-09-03T18:31:38.408Z"
   },
   {
    "duration": 28,
    "start_time": "2022-09-03T18:31:59.121Z"
   },
   {
    "duration": 7,
    "start_time": "2022-09-03T18:33:00.777Z"
   },
   {
    "duration": 29,
    "start_time": "2022-09-03T18:33:28.865Z"
   },
   {
    "duration": 122,
    "start_time": "2022-09-03T18:34:41.348Z"
   },
   {
    "duration": 129,
    "start_time": "2022-09-03T18:35:06.956Z"
   },
   {
    "duration": 270,
    "start_time": "2022-09-03T18:35:17.741Z"
   },
   {
    "duration": 248,
    "start_time": "2022-09-03T18:35:41.923Z"
   },
   {
    "duration": 11,
    "start_time": "2022-09-03T18:35:46.230Z"
   },
   {
    "duration": 244,
    "start_time": "2022-09-03T18:36:42.564Z"
   },
   {
    "duration": 128,
    "start_time": "2022-09-03T18:36:47.079Z"
   },
   {
    "duration": 14949,
    "start_time": "2022-09-03T18:36:52.093Z"
   },
   {
    "duration": 1392,
    "start_time": "2022-09-03T18:37:12.850Z"
   },
   {
    "duration": 68,
    "start_time": "2022-09-03T18:38:39.831Z"
   },
   {
    "duration": 67,
    "start_time": "2022-09-03T18:39:06.350Z"
   },
   {
    "duration": 74,
    "start_time": "2022-09-03T18:39:26.328Z"
   },
   {
    "duration": 3324,
    "start_time": "2022-09-03T18:40:15.226Z"
   },
   {
    "duration": 1366,
    "start_time": "2022-09-03T18:40:39.520Z"
   },
   {
    "duration": 7,
    "start_time": "2022-09-03T18:40:42.460Z"
   },
   {
    "duration": 10,
    "start_time": "2022-09-03T18:41:04.626Z"
   },
   {
    "duration": 35,
    "start_time": "2022-09-03T18:41:11.281Z"
   },
   {
    "duration": 25,
    "start_time": "2022-09-03T18:41:17.973Z"
   },
   {
    "duration": 35,
    "start_time": "2022-09-03T18:41:44.189Z"
   },
   {
    "duration": 29,
    "start_time": "2022-09-03T18:41:46.743Z"
   },
   {
    "duration": 12,
    "start_time": "2022-09-03T18:42:15.380Z"
   },
   {
    "duration": 22,
    "start_time": "2022-09-03T18:42:22.843Z"
   },
   {
    "duration": 8,
    "start_time": "2022-09-03T18:42:59.654Z"
   },
   {
    "duration": 28,
    "start_time": "2022-09-03T18:43:19.657Z"
   },
   {
    "duration": 43,
    "start_time": "2022-09-03T18:43:41.689Z"
   },
   {
    "duration": 33,
    "start_time": "2022-09-03T18:44:12.932Z"
   },
   {
    "duration": 12,
    "start_time": "2022-09-03T18:45:11.423Z"
   },
   {
    "duration": 55,
    "start_time": "2022-09-03T18:47:14.325Z"
   },
   {
    "duration": 11,
    "start_time": "2022-09-03T18:47:17.726Z"
   },
   {
    "duration": 12,
    "start_time": "2022-09-03T18:47:20.133Z"
   },
   {
    "duration": 23,
    "start_time": "2022-09-03T18:47:23.278Z"
   },
   {
    "duration": 1970,
    "start_time": "2022-09-03T18:47:37.682Z"
   },
   {
    "duration": 1547,
    "start_time": "2022-09-03T18:47:39.654Z"
   },
   {
    "duration": 6,
    "start_time": "2022-09-03T18:47:41.202Z"
   },
   {
    "duration": 7321,
    "start_time": "2022-09-03T18:47:41.211Z"
   },
   {
    "duration": 13,
    "start_time": "2022-09-03T18:47:48.534Z"
   },
   {
    "duration": 45,
    "start_time": "2022-09-03T18:47:48.548Z"
   },
   {
    "duration": 19,
    "start_time": "2022-09-03T18:47:48.596Z"
   },
   {
    "duration": 125,
    "start_time": "2022-09-03T18:47:48.619Z"
   },
   {
    "duration": 157,
    "start_time": "2022-09-03T18:47:48.746Z"
   },
   {
    "duration": 29,
    "start_time": "2022-09-03T18:47:48.907Z"
   },
   {
    "duration": 10,
    "start_time": "2022-09-03T18:47:48.937Z"
   },
   {
    "duration": 53,
    "start_time": "2022-09-03T18:47:48.948Z"
   },
   {
    "duration": 144,
    "start_time": "2022-09-03T18:47:49.003Z"
   },
   {
    "duration": 60,
    "start_time": "2022-09-03T18:47:49.149Z"
   },
   {
    "duration": 22,
    "start_time": "2022-09-03T18:47:49.210Z"
   },
   {
    "duration": 25,
    "start_time": "2022-09-03T18:47:49.233Z"
   },
   {
    "duration": 51,
    "start_time": "2022-09-03T18:47:49.260Z"
   },
   {
    "duration": 20,
    "start_time": "2022-09-03T18:47:49.312Z"
   },
   {
    "duration": 26,
    "start_time": "2022-09-03T18:48:01.380Z"
   },
   {
    "duration": 22,
    "start_time": "2022-09-03T18:48:05.054Z"
   },
   {
    "duration": 21,
    "start_time": "2022-09-03T18:48:07.101Z"
   },
   {
    "duration": 21,
    "start_time": "2022-09-03T18:48:14.424Z"
   },
   {
    "duration": 3010,
    "start_time": "2022-09-04T07:32:34.048Z"
   },
   {
    "duration": 1261,
    "start_time": "2022-09-04T07:32:37.060Z"
   },
   {
    "duration": 5,
    "start_time": "2022-09-04T07:32:38.323Z"
   },
   {
    "duration": 6821,
    "start_time": "2022-09-04T07:32:38.330Z"
   },
   {
    "duration": 14,
    "start_time": "2022-09-04T07:32:45.153Z"
   },
   {
    "duration": 34,
    "start_time": "2022-09-04T07:32:45.169Z"
   },
   {
    "duration": 15,
    "start_time": "2022-09-04T07:32:45.204Z"
   },
   {
    "duration": 116,
    "start_time": "2022-09-04T07:32:45.221Z"
   },
   {
    "duration": 159,
    "start_time": "2022-09-04T07:32:45.339Z"
   },
   {
    "duration": 28,
    "start_time": "2022-09-04T07:32:45.500Z"
   },
   {
    "duration": 7,
    "start_time": "2022-09-04T07:32:45.530Z"
   },
   {
    "duration": 28,
    "start_time": "2022-09-04T07:32:45.538Z"
   },
   {
    "duration": 158,
    "start_time": "2022-09-04T07:32:45.567Z"
   },
   {
    "duration": 61,
    "start_time": "2022-09-04T07:32:45.726Z"
   },
   {
    "duration": 22,
    "start_time": "2022-09-04T07:32:45.789Z"
   },
   {
    "duration": 25,
    "start_time": "2022-09-04T07:32:45.812Z"
   },
   {
    "duration": 49,
    "start_time": "2022-09-04T07:32:45.838Z"
   },
   {
    "duration": 19,
    "start_time": "2022-09-04T07:32:45.889Z"
   },
   {
    "duration": 18,
    "start_time": "2022-09-04T07:32:45.909Z"
   },
   {
    "duration": 5,
    "start_time": "2022-09-04T07:32:45.928Z"
   },
   {
    "duration": 4,
    "start_time": "2022-09-04T07:33:54.080Z"
   },
   {
    "duration": 14,
    "start_time": "2022-09-04T07:35:07.065Z"
   },
   {
    "duration": 9,
    "start_time": "2022-09-04T07:35:57.576Z"
   },
   {
    "duration": 9,
    "start_time": "2022-09-04T07:36:14.379Z"
   },
   {
    "duration": 9,
    "start_time": "2022-09-04T07:36:23.544Z"
   },
   {
    "duration": 9,
    "start_time": "2022-09-04T07:36:31.314Z"
   },
   {
    "duration": 10,
    "start_time": "2022-09-04T07:36:43.798Z"
   },
   {
    "duration": 19,
    "start_time": "2022-09-04T07:37:02.641Z"
   },
   {
    "duration": 40,
    "start_time": "2022-09-04T07:37:11.691Z"
   },
   {
    "duration": 41,
    "start_time": "2022-09-04T07:37:30.666Z"
   },
   {
    "duration": 1223,
    "start_time": "2022-09-04T07:40:35.395Z"
   },
   {
    "duration": 55,
    "start_time": "2022-09-04T07:41:18.816Z"
   },
   {
    "duration": 45,
    "start_time": "2022-09-04T07:41:30.009Z"
   },
   {
    "duration": 21,
    "start_time": "2022-09-04T07:41:45.342Z"
   },
   {
    "duration": 50,
    "start_time": "2022-09-04T07:42:16.491Z"
   },
   {
    "duration": 22,
    "start_time": "2022-09-04T07:42:24.075Z"
   },
   {
    "duration": 17,
    "start_time": "2022-09-04T07:42:40.655Z"
   },
   {
    "duration": 16,
    "start_time": "2022-09-04T07:42:45.982Z"
   },
   {
    "duration": 18,
    "start_time": "2022-09-04T07:42:58.703Z"
   },
   {
    "duration": 50,
    "start_time": "2022-09-04T07:43:06.607Z"
   },
   {
    "duration": 34,
    "start_time": "2022-09-04T07:43:36.266Z"
   },
   {
    "duration": 44,
    "start_time": "2022-09-04T07:43:53.340Z"
   },
   {
    "duration": 64,
    "start_time": "2022-09-04T07:44:05.057Z"
   },
   {
    "duration": 21,
    "start_time": "2022-09-04T07:54:09.322Z"
   },
   {
    "duration": 62,
    "start_time": "2022-09-04T07:54:26.338Z"
   },
   {
    "duration": 48,
    "start_time": "2022-09-04T07:54:31.572Z"
   },
   {
    "duration": 51,
    "start_time": "2022-09-04T07:54:36.882Z"
   },
   {
    "duration": 48,
    "start_time": "2022-09-04T07:55:06.155Z"
   },
   {
    "duration": 49,
    "start_time": "2022-09-04T07:55:15.739Z"
   },
   {
    "duration": 48,
    "start_time": "2022-09-04T07:55:19.168Z"
   },
   {
    "duration": 23,
    "start_time": "2022-09-04T07:59:13.331Z"
   },
   {
    "duration": 23,
    "start_time": "2022-09-04T07:59:19.610Z"
   },
   {
    "duration": 24,
    "start_time": "2022-09-04T07:59:29.834Z"
   },
   {
    "duration": 26,
    "start_time": "2022-09-04T08:00:00.322Z"
   },
   {
    "duration": 27,
    "start_time": "2022-09-04T08:00:02.608Z"
   },
   {
    "duration": 161,
    "start_time": "2022-09-04T08:00:25.602Z"
   },
   {
    "duration": 198,
    "start_time": "2022-09-04T08:00:46.889Z"
   },
   {
    "duration": 275,
    "start_time": "2022-09-04T08:00:57.419Z"
   },
   {
    "duration": 1454,
    "start_time": "2022-09-04T08:01:03.438Z"
   },
   {
    "duration": 161,
    "start_time": "2022-09-04T08:01:14.439Z"
   },
   {
    "duration": 186,
    "start_time": "2022-09-04T08:01:17.593Z"
   },
   {
    "duration": 177,
    "start_time": "2022-09-04T08:01:56.996Z"
   },
   {
    "duration": 175,
    "start_time": "2022-09-04T08:02:13.000Z"
   },
   {
    "duration": 144,
    "start_time": "2022-09-04T08:03:52.631Z"
   },
   {
    "duration": 137,
    "start_time": "2022-09-04T08:03:55.731Z"
   },
   {
    "duration": 20,
    "start_time": "2022-09-04T08:04:45.784Z"
   },
   {
    "duration": 233,
    "start_time": "2022-09-04T08:04:49.885Z"
   },
   {
    "duration": 192,
    "start_time": "2022-09-04T08:05:41.567Z"
   },
   {
    "duration": 4,
    "start_time": "2022-09-04T08:10:35.350Z"
   },
   {
    "duration": 6,
    "start_time": "2022-09-04T08:10:42.244Z"
   },
   {
    "duration": 7,
    "start_time": "2022-09-04T08:12:42.236Z"
   },
   {
    "duration": 8,
    "start_time": "2022-09-04T08:12:47.695Z"
   },
   {
    "duration": 9,
    "start_time": "2022-09-04T08:13:27.129Z"
   },
   {
    "duration": 9,
    "start_time": "2022-09-04T08:13:30.357Z"
   },
   {
    "duration": 9,
    "start_time": "2022-09-04T08:13:35.675Z"
   },
   {
    "duration": 9,
    "start_time": "2022-09-04T08:14:54.879Z"
   },
   {
    "duration": 12,
    "start_time": "2022-09-04T08:14:59.781Z"
   },
   {
    "duration": 13,
    "start_time": "2022-09-04T08:18:45.884Z"
   },
   {
    "duration": 17,
    "start_time": "2022-09-04T08:18:50.951Z"
   },
   {
    "duration": 3192,
    "start_time": "2022-09-04T18:17:42.899Z"
   },
   {
    "duration": 1382,
    "start_time": "2022-09-04T18:17:46.093Z"
   },
   {
    "duration": 15,
    "start_time": "2022-09-04T18:17:47.476Z"
   },
   {
    "duration": 6495,
    "start_time": "2022-09-04T18:17:47.493Z"
   },
   {
    "duration": 13,
    "start_time": "2022-09-04T18:17:53.990Z"
   },
   {
    "duration": 24,
    "start_time": "2022-09-04T18:17:54.005Z"
   },
   {
    "duration": 14,
    "start_time": "2022-09-04T18:17:54.031Z"
   },
   {
    "duration": 121,
    "start_time": "2022-09-04T18:17:54.047Z"
   },
   {
    "duration": 151,
    "start_time": "2022-09-04T18:17:54.170Z"
   },
   {
    "duration": 33,
    "start_time": "2022-09-04T18:17:54.324Z"
   },
   {
    "duration": 30,
    "start_time": "2022-09-04T18:17:54.358Z"
   },
   {
    "duration": 24,
    "start_time": "2022-09-04T18:17:54.390Z"
   },
   {
    "duration": 157,
    "start_time": "2022-09-04T18:17:54.416Z"
   },
   {
    "duration": 55,
    "start_time": "2022-09-04T18:17:54.574Z"
   },
   {
    "duration": 24,
    "start_time": "2022-09-04T18:17:54.630Z"
   },
   {
    "duration": 43,
    "start_time": "2022-09-04T18:17:54.655Z"
   },
   {
    "duration": 27,
    "start_time": "2022-09-04T18:17:54.700Z"
   },
   {
    "duration": 20,
    "start_time": "2022-09-04T18:17:54.728Z"
   },
   {
    "duration": 42,
    "start_time": "2022-09-04T18:17:54.749Z"
   },
   {
    "duration": 194,
    "start_time": "2022-09-04T18:17:54.792Z"
   },
   {
    "duration": 17,
    "start_time": "2022-09-04T18:17:54.988Z"
   },
   {
    "duration": 77,
    "start_time": "2022-09-04T18:23:58.283Z"
   },
   {
    "duration": 320,
    "start_time": "2022-09-04T18:24:04.229Z"
   },
   {
    "duration": 389,
    "start_time": "2022-09-04T18:24:21.890Z"
   },
   {
    "duration": 350,
    "start_time": "2022-09-04T18:24:28.185Z"
   },
   {
    "duration": 316,
    "start_time": "2022-09-04T18:32:43.628Z"
   },
   {
    "duration": 343,
    "start_time": "2022-09-04T18:33:27.771Z"
   },
   {
    "duration": 376,
    "start_time": "2022-09-04T18:39:31.586Z"
   },
   {
    "duration": 315,
    "start_time": "2022-09-04T18:39:37.215Z"
   },
   {
    "duration": 319,
    "start_time": "2022-09-04T18:39:50.944Z"
   },
   {
    "duration": 311,
    "start_time": "2022-09-04T18:40:31.510Z"
   },
   {
    "duration": 406,
    "start_time": "2022-09-04T18:40:38.188Z"
   },
   {
    "duration": 322,
    "start_time": "2022-09-04T18:40:59.474Z"
   },
   {
    "duration": 339,
    "start_time": "2022-09-04T18:41:16.738Z"
   },
   {
    "duration": 401,
    "start_time": "2022-09-04T18:41:23.380Z"
   },
   {
    "duration": 334,
    "start_time": "2022-09-04T18:41:55.714Z"
   },
   {
    "duration": 332,
    "start_time": "2022-09-04T18:42:00.013Z"
   },
   {
    "duration": 335,
    "start_time": "2022-09-04T18:42:09.407Z"
   },
   {
    "duration": 396,
    "start_time": "2022-09-04T18:42:19.474Z"
   },
   {
    "duration": 322,
    "start_time": "2022-09-04T18:42:23.522Z"
   },
   {
    "duration": 328,
    "start_time": "2022-09-04T18:42:29.125Z"
   },
   {
    "duration": 320,
    "start_time": "2022-09-04T18:43:23.036Z"
   },
   {
    "duration": 104,
    "start_time": "2022-09-04T18:44:50.942Z"
   },
   {
    "duration": 110,
    "start_time": "2022-09-04T18:44:59.368Z"
   },
   {
    "duration": 113,
    "start_time": "2022-09-04T18:45:16.778Z"
   },
   {
    "duration": 248,
    "start_time": "2022-09-04T18:45:23.447Z"
   },
   {
    "duration": 648,
    "start_time": "2022-09-04T18:45:30.771Z"
   },
   {
    "duration": 770,
    "start_time": "2022-09-04T18:45:51.778Z"
   },
   {
    "duration": 636,
    "start_time": "2022-09-04T18:46:55.338Z"
   },
   {
    "duration": 808,
    "start_time": "2022-09-04T18:47:29.618Z"
   },
   {
    "duration": 179,
    "start_time": "2022-09-04T18:47:52.240Z"
   },
   {
    "duration": 92,
    "start_time": "2022-09-04T18:47:59.790Z"
   },
   {
    "duration": 721,
    "start_time": "2022-09-04T18:48:06.489Z"
   },
   {
    "duration": 463,
    "start_time": "2022-09-04T18:48:34.677Z"
   },
   {
    "duration": 324,
    "start_time": "2022-09-04T18:49:10.426Z"
   },
   {
    "duration": 318,
    "start_time": "2022-09-04T18:49:28.219Z"
   },
   {
    "duration": 3350,
    "start_time": "2022-09-05T18:45:16.769Z"
   },
   {
    "duration": 1585,
    "start_time": "2022-09-05T18:45:20.122Z"
   },
   {
    "duration": 9,
    "start_time": "2022-09-05T18:45:21.710Z"
   },
   {
    "duration": 7431,
    "start_time": "2022-09-05T18:45:21.722Z"
   },
   {
    "duration": 16,
    "start_time": "2022-09-05T18:45:29.155Z"
   },
   {
    "duration": 48,
    "start_time": "2022-09-05T18:45:29.173Z"
   },
   {
    "duration": 16,
    "start_time": "2022-09-05T18:45:29.223Z"
   },
   {
    "duration": 138,
    "start_time": "2022-09-05T18:45:29.240Z"
   },
   {
    "duration": 158,
    "start_time": "2022-09-05T18:45:29.396Z"
   },
   {
    "duration": 46,
    "start_time": "2022-09-05T18:45:29.557Z"
   },
   {
    "duration": 10,
    "start_time": "2022-09-05T18:45:29.604Z"
   },
   {
    "duration": 28,
    "start_time": "2022-09-05T18:45:29.615Z"
   },
   {
    "duration": 186,
    "start_time": "2022-09-05T18:45:29.645Z"
   },
   {
    "duration": 78,
    "start_time": "2022-09-05T18:45:29.833Z"
   },
   {
    "duration": 26,
    "start_time": "2022-09-05T18:45:29.913Z"
   },
   {
    "duration": 29,
    "start_time": "2022-09-05T18:45:29.941Z"
   },
   {
    "duration": 53,
    "start_time": "2022-09-05T18:45:29.972Z"
   },
   {
    "duration": 30,
    "start_time": "2022-09-05T18:45:30.027Z"
   },
   {
    "duration": 41,
    "start_time": "2022-09-05T18:45:30.058Z"
   },
   {
    "duration": 250,
    "start_time": "2022-09-05T18:45:30.101Z"
   },
   {
    "duration": 408,
    "start_time": "2022-09-05T18:45:30.353Z"
   },
   {
    "duration": 472,
    "start_time": "2022-09-05T18:45:30.763Z"
   },
   {
    "duration": 402,
    "start_time": "2022-09-05T18:46:32.455Z"
   },
   {
    "duration": 462,
    "start_time": "2022-09-05T18:46:40.245Z"
   },
   {
    "duration": 439,
    "start_time": "2022-09-05T18:46:58.245Z"
   },
   {
    "duration": 2833,
    "start_time": "2022-09-05T18:47:58.376Z"
   },
   {
    "duration": 83,
    "start_time": "2022-09-05T18:48:06.507Z"
   },
   {
    "duration": 431,
    "start_time": "2022-09-05T18:48:09.257Z"
   },
   {
    "duration": 239,
    "start_time": "2022-09-05T18:48:15.740Z"
   },
   {
    "duration": 320,
    "start_time": "2022-09-05T18:48:27.404Z"
   },
   {
    "duration": 365,
    "start_time": "2022-09-05T18:48:32.999Z"
   },
   {
    "duration": 491,
    "start_time": "2022-09-05T18:49:48.454Z"
   },
   {
    "duration": 286,
    "start_time": "2022-09-05T18:49:53.909Z"
   },
   {
    "duration": 240,
    "start_time": "2022-09-05T18:49:58.115Z"
   },
   {
    "duration": 268,
    "start_time": "2022-09-05T18:50:02.146Z"
   },
   {
    "duration": 273,
    "start_time": "2022-09-05T18:50:16.645Z"
   },
   {
    "duration": 286,
    "start_time": "2022-09-05T18:50:25.685Z"
   },
   {
    "duration": 71,
    "start_time": "2022-09-05T18:50:41.462Z"
   },
   {
    "duration": 1749,
    "start_time": "2022-09-05T18:50:46.109Z"
   },
   {
    "duration": 431,
    "start_time": "2022-09-05T18:50:51.387Z"
   },
   {
    "duration": 228,
    "start_time": "2022-09-05T18:51:07.368Z"
   },
   {
    "duration": 239,
    "start_time": "2022-09-05T18:51:14.408Z"
   },
   {
    "duration": 377,
    "start_time": "2022-09-05T18:51:23.400Z"
   },
   {
    "duration": 646,
    "start_time": "2022-09-05T18:51:28.056Z"
   },
   {
    "duration": 389,
    "start_time": "2022-09-05T18:53:03.285Z"
   },
   {
    "duration": 154,
    "start_time": "2022-09-05T18:53:12.123Z"
   },
   {
    "duration": 277,
    "start_time": "2022-09-05T18:53:24.809Z"
   },
   {
    "duration": 277,
    "start_time": "2022-09-05T18:53:43.262Z"
   },
   {
    "duration": 535,
    "start_time": "2022-09-05T18:53:51.603Z"
   },
   {
    "duration": 357,
    "start_time": "2022-09-05T18:54:01.900Z"
   },
   {
    "duration": 270,
    "start_time": "2022-09-05T18:54:05.550Z"
   },
   {
    "duration": 282,
    "start_time": "2022-09-05T18:54:09.453Z"
   },
   {
    "duration": 277,
    "start_time": "2022-09-05T18:54:21.419Z"
   },
   {
    "duration": 288,
    "start_time": "2022-09-05T18:56:04.754Z"
   },
   {
    "duration": 400,
    "start_time": "2022-09-05T18:56:10.808Z"
   },
   {
    "duration": 278,
    "start_time": "2022-09-05T18:57:06.270Z"
   },
   {
    "duration": 180,
    "start_time": "2022-09-05T18:57:12.847Z"
   },
   {
    "duration": 160,
    "start_time": "2022-09-05T18:57:17.967Z"
   },
   {
    "duration": 146,
    "start_time": "2022-09-05T18:57:27.344Z"
   },
   {
    "duration": 170,
    "start_time": "2022-09-05T18:57:38.570Z"
   },
   {
    "duration": 203,
    "start_time": "2022-09-05T18:57:43.960Z"
   },
   {
    "duration": 176,
    "start_time": "2022-09-05T18:57:53.703Z"
   },
   {
    "duration": 168,
    "start_time": "2022-09-05T18:58:04.259Z"
   },
   {
    "duration": 270,
    "start_time": "2022-09-05T18:58:08.422Z"
   },
   {
    "duration": 155,
    "start_time": "2022-09-05T18:58:12.660Z"
   },
   {
    "duration": 156,
    "start_time": "2022-09-05T19:00:02.266Z"
   },
   {
    "duration": 161,
    "start_time": "2022-09-05T19:00:10.776Z"
   },
   {
    "duration": 181,
    "start_time": "2022-09-05T19:00:16.392Z"
   },
   {
    "duration": 163,
    "start_time": "2022-09-05T19:00:19.148Z"
   },
   {
    "duration": 181,
    "start_time": "2022-09-05T19:00:24.947Z"
   },
   {
    "duration": 212,
    "start_time": "2022-09-05T19:00:31.889Z"
   },
   {
    "duration": 209,
    "start_time": "2022-09-05T19:00:41.852Z"
   },
   {
    "duration": 199,
    "start_time": "2022-09-05T19:01:18.853Z"
   },
   {
    "duration": 215,
    "start_time": "2022-09-05T19:02:40.077Z"
   },
   {
    "duration": 325,
    "start_time": "2022-09-05T19:02:49.152Z"
   },
   {
    "duration": 205,
    "start_time": "2022-09-05T19:03:47.811Z"
   },
   {
    "duration": 155,
    "start_time": "2022-09-05T19:03:52.721Z"
   },
   {
    "duration": 173,
    "start_time": "2022-09-05T19:04:18.260Z"
   },
   {
    "duration": 200,
    "start_time": "2022-09-05T19:04:26.913Z"
   },
   {
    "duration": 198,
    "start_time": "2022-09-05T19:04:34.773Z"
   },
   {
    "duration": 192,
    "start_time": "2022-09-05T19:04:37.167Z"
   },
   {
    "duration": 229,
    "start_time": "2022-09-05T19:04:51.578Z"
   },
   {
    "duration": 218,
    "start_time": "2022-09-05T19:05:00.467Z"
   },
   {
    "duration": 216,
    "start_time": "2022-09-05T19:05:06.395Z"
   },
   {
    "duration": 321,
    "start_time": "2022-09-05T19:05:12.559Z"
   },
   {
    "duration": 210,
    "start_time": "2022-09-05T19:05:25.552Z"
   },
   {
    "duration": 226,
    "start_time": "2022-09-05T19:05:33.966Z"
   },
   {
    "duration": 216,
    "start_time": "2022-09-05T19:05:46.550Z"
   },
   {
    "duration": 184,
    "start_time": "2022-09-05T19:05:55.870Z"
   },
   {
    "duration": 255,
    "start_time": "2022-09-05T19:07:15.156Z"
   },
   {
    "duration": 204,
    "start_time": "2022-09-05T19:07:22.961Z"
   },
   {
    "duration": 207,
    "start_time": "2022-09-05T19:07:28.547Z"
   },
   {
    "duration": 225,
    "start_time": "2022-09-05T19:07:35.049Z"
   },
   {
    "duration": 3228,
    "start_time": "2022-09-06T18:54:51.600Z"
   },
   {
    "duration": 1337,
    "start_time": "2022-09-06T18:54:54.830Z"
   },
   {
    "duration": 5,
    "start_time": "2022-09-06T18:54:56.168Z"
   },
   {
    "duration": 6430,
    "start_time": "2022-09-06T18:54:56.186Z"
   },
   {
    "duration": 17,
    "start_time": "2022-09-06T18:55:02.617Z"
   },
   {
    "duration": 51,
    "start_time": "2022-09-06T18:55:02.636Z"
   },
   {
    "duration": 21,
    "start_time": "2022-09-06T18:55:02.690Z"
   },
   {
    "duration": 133,
    "start_time": "2022-09-06T18:55:02.713Z"
   },
   {
    "duration": 164,
    "start_time": "2022-09-06T18:55:02.848Z"
   },
   {
    "duration": 28,
    "start_time": "2022-09-06T18:55:03.015Z"
   },
   {
    "duration": 7,
    "start_time": "2022-09-06T18:55:03.045Z"
   },
   {
    "duration": 50,
    "start_time": "2022-09-06T18:55:03.054Z"
   },
   {
    "duration": 152,
    "start_time": "2022-09-06T18:55:03.107Z"
   },
   {
    "duration": 64,
    "start_time": "2022-09-06T18:55:03.260Z"
   },
   {
    "duration": 21,
    "start_time": "2022-09-06T18:55:03.326Z"
   },
   {
    "duration": 52,
    "start_time": "2022-09-06T18:55:03.349Z"
   },
   {
    "duration": 27,
    "start_time": "2022-09-06T18:55:03.402Z"
   },
   {
    "duration": 18,
    "start_time": "2022-09-06T18:55:03.431Z"
   },
   {
    "duration": 38,
    "start_time": "2022-09-06T18:55:03.451Z"
   },
   {
    "duration": 214,
    "start_time": "2022-09-06T18:55:03.491Z"
   },
   {
    "duration": 322,
    "start_time": "2022-09-06T18:55:03.708Z"
   },
   {
    "duration": 477,
    "start_time": "2022-09-06T18:55:04.032Z"
   },
   {
    "duration": 424,
    "start_time": "2022-09-06T18:55:04.512Z"
   },
   {
    "duration": 370,
    "start_time": "2022-09-06T18:55:04.937Z"
   },
   {
    "duration": 252,
    "start_time": "2022-09-06T18:55:05.308Z"
   },
   {
    "duration": 177,
    "start_time": "2022-09-06T18:55:05.562Z"
   },
   {
    "duration": 319,
    "start_time": "2022-09-06T18:55:05.740Z"
   },
   {
    "duration": 181,
    "start_time": "2022-09-06T18:55:06.062Z"
   },
   {
    "duration": 136,
    "start_time": "2022-09-06T18:58:47.178Z"
   },
   {
    "duration": 128,
    "start_time": "2022-09-06T18:58:50.537Z"
   },
   {
    "duration": 170,
    "start_time": "2022-09-06T18:58:54.538Z"
   },
   {
    "duration": 4,
    "start_time": "2022-09-06T18:59:00.936Z"
   },
   {
    "duration": 143,
    "start_time": "2022-09-06T18:59:06.154Z"
   },
   {
    "duration": 98,
    "start_time": "2022-09-06T18:59:13.562Z"
   },
   {
    "duration": 108,
    "start_time": "2022-09-06T18:59:24.334Z"
   },
   {
    "duration": 134,
    "start_time": "2022-09-06T18:59:28.177Z"
   },
   {
    "duration": 122,
    "start_time": "2022-09-06T18:59:32.833Z"
   },
   {
    "duration": 105,
    "start_time": "2022-09-06T18:59:35.700Z"
   },
   {
    "duration": 197,
    "start_time": "2022-09-06T18:59:38.849Z"
   },
   {
    "duration": 109,
    "start_time": "2022-09-06T19:00:31.500Z"
   },
   {
    "duration": 146,
    "start_time": "2022-09-06T19:01:20.401Z"
   },
   {
    "duration": 161,
    "start_time": "2022-09-06T19:01:31.702Z"
   },
   {
    "duration": 146,
    "start_time": "2022-09-06T19:01:50.603Z"
   },
   {
    "duration": 122,
    "start_time": "2022-09-06T19:05:16.111Z"
   },
   {
    "duration": 188,
    "start_time": "2022-09-06T19:05:28.351Z"
   },
   {
    "duration": 738,
    "start_time": "2022-09-06T19:05:39.272Z"
   },
   {
    "duration": 381,
    "start_time": "2022-09-06T19:05:51.233Z"
   },
   {
    "duration": 220,
    "start_time": "2022-09-06T19:05:55.238Z"
   },
   {
    "duration": 121,
    "start_time": "2022-09-06T19:06:32.207Z"
   },
   {
    "duration": 265,
    "start_time": "2022-09-06T19:06:35.971Z"
   },
   {
    "duration": 126,
    "start_time": "2022-09-06T19:06:39.199Z"
   },
   {
    "duration": 256,
    "start_time": "2022-09-06T19:06:44.831Z"
   },
   {
    "duration": 148,
    "start_time": "2022-09-06T19:06:48.574Z"
   },
   {
    "duration": 176,
    "start_time": "2022-09-06T19:06:54.384Z"
   },
   {
    "duration": 176,
    "start_time": "2022-09-06T19:06:59.016Z"
   },
   {
    "duration": 141,
    "start_time": "2022-09-06T19:08:20.496Z"
   },
   {
    "duration": 6486,
    "start_time": "2022-09-06T19:08:29.302Z"
   },
   {
    "duration": 667,
    "start_time": "2022-09-06T19:08:40.841Z"
   },
   {
    "duration": 208,
    "start_time": "2022-09-06T19:09:28.739Z"
   },
   {
    "duration": 163,
    "start_time": "2022-09-06T19:09:32.686Z"
   },
   {
    "duration": 874,
    "start_time": "2022-09-06T19:10:18.143Z"
   },
   {
    "duration": 764,
    "start_time": "2022-09-06T19:10:21.044Z"
   },
   {
    "duration": 928,
    "start_time": "2022-09-06T19:11:33.030Z"
   },
   {
    "duration": 171,
    "start_time": "2022-09-06T19:11:47.847Z"
   },
   {
    "duration": 116,
    "start_time": "2022-09-06T19:11:52.649Z"
   },
   {
    "duration": 130,
    "start_time": "2022-09-06T19:11:58.377Z"
   },
   {
    "duration": 102,
    "start_time": "2022-09-06T19:12:55.234Z"
   },
   {
    "duration": 113,
    "start_time": "2022-09-06T19:12:58.931Z"
   },
   {
    "duration": 134,
    "start_time": "2022-09-06T19:15:56.630Z"
   },
   {
    "duration": 153,
    "start_time": "2022-09-06T19:16:05.139Z"
   },
   {
    "duration": 155,
    "start_time": "2022-09-06T19:16:19.366Z"
   },
   {
    "duration": 155,
    "start_time": "2022-09-06T19:16:22.154Z"
   },
   {
    "duration": 307,
    "start_time": "2022-09-06T19:19:16.795Z"
   },
   {
    "duration": 205,
    "start_time": "2022-09-06T19:20:02.764Z"
   },
   {
    "duration": 31,
    "start_time": "2022-09-06T19:21:07.552Z"
   },
   {
    "duration": 30,
    "start_time": "2022-09-06T19:21:44.675Z"
   },
   {
    "duration": 1847,
    "start_time": "2022-09-06T19:22:09.191Z"
   },
   {
    "duration": 1141,
    "start_time": "2022-09-06T19:22:11.040Z"
   },
   {
    "duration": 5,
    "start_time": "2022-09-06T19:22:12.185Z"
   },
   {
    "duration": 6529,
    "start_time": "2022-09-06T19:22:12.191Z"
   },
   {
    "duration": 12,
    "start_time": "2022-09-06T19:22:18.721Z"
   },
   {
    "duration": 28,
    "start_time": "2022-09-06T19:22:18.735Z"
   },
   {
    "duration": 26,
    "start_time": "2022-09-06T19:22:18.764Z"
   },
   {
    "duration": 95,
    "start_time": "2022-09-06T19:22:18.792Z"
   },
   {
    "duration": 129,
    "start_time": "2022-09-06T19:22:18.889Z"
   },
   {
    "duration": 28,
    "start_time": "2022-09-06T19:22:26.318Z"
   },
   {
    "duration": 1810,
    "start_time": "2022-09-06T19:22:33.421Z"
   },
   {
    "duration": 1213,
    "start_time": "2022-09-06T19:22:35.233Z"
   },
   {
    "duration": 6,
    "start_time": "2022-09-06T19:22:36.447Z"
   },
   {
    "duration": 6521,
    "start_time": "2022-09-06T19:22:36.454Z"
   },
   {
    "duration": 16,
    "start_time": "2022-09-06T19:22:42.976Z"
   },
   {
    "duration": 22,
    "start_time": "2022-09-06T19:22:42.994Z"
   },
   {
    "duration": 13,
    "start_time": "2022-09-06T19:22:43.017Z"
   },
   {
    "duration": 105,
    "start_time": "2022-09-06T19:22:43.031Z"
   },
   {
    "duration": 131,
    "start_time": "2022-09-06T19:22:43.138Z"
   },
   {
    "duration": 40,
    "start_time": "2022-09-06T19:22:53.990Z"
   },
   {
    "duration": 1892,
    "start_time": "2022-09-06T19:23:27.884Z"
   },
   {
    "duration": 1202,
    "start_time": "2022-09-06T19:23:29.784Z"
   },
   {
    "duration": 5,
    "start_time": "2022-09-06T19:23:30.987Z"
   },
   {
    "duration": 6395,
    "start_time": "2022-09-06T19:23:30.994Z"
   },
   {
    "duration": 13,
    "start_time": "2022-09-06T19:23:37.390Z"
   },
   {
    "duration": 23,
    "start_time": "2022-09-06T19:23:37.404Z"
   },
   {
    "duration": 13,
    "start_time": "2022-09-06T19:23:37.428Z"
   },
   {
    "duration": 121,
    "start_time": "2022-09-06T19:23:37.443Z"
   },
   {
    "duration": 147,
    "start_time": "2022-09-06T19:23:37.566Z"
   },
   {
    "duration": 5,
    "start_time": "2022-09-06T19:23:54.115Z"
   },
   {
    "duration": 8,
    "start_time": "2022-09-06T19:24:22.821Z"
   },
   {
    "duration": 27,
    "start_time": "2022-09-06T19:24:35.174Z"
   },
   {
    "duration": 30,
    "start_time": "2022-09-06T19:24:43.117Z"
   },
   {
    "duration": 13,
    "start_time": "2022-09-06T19:29:11.163Z"
   },
   {
    "duration": 43,
    "start_time": "2022-09-06T19:29:24.121Z"
   },
   {
    "duration": 71,
    "start_time": "2022-09-06T19:29:31.274Z"
   },
   {
    "duration": 131,
    "start_time": "2022-09-06T19:30:06.776Z"
   },
   {
    "duration": 47,
    "start_time": "2022-09-06T19:34:04.789Z"
   },
   {
    "duration": 192,
    "start_time": "2022-09-06T19:34:44.925Z"
   },
   {
    "duration": 186,
    "start_time": "2022-09-06T19:36:12.917Z"
   },
   {
    "duration": 192,
    "start_time": "2022-09-06T19:36:18.010Z"
   },
   {
    "duration": 191,
    "start_time": "2022-09-06T19:36:20.849Z"
   },
   {
    "duration": 378,
    "start_time": "2022-09-06T19:36:29.352Z"
   },
   {
    "duration": 50,
    "start_time": "2022-09-06T19:36:42.216Z"
   },
   {
    "duration": 196,
    "start_time": "2022-09-06T19:36:46.032Z"
   },
   {
    "duration": 244,
    "start_time": "2022-09-06T19:37:11.442Z"
   },
   {
    "duration": 197,
    "start_time": "2022-09-06T19:38:38.832Z"
   },
   {
    "duration": 316,
    "start_time": "2022-09-06T19:39:27.733Z"
   },
   {
    "duration": 58,
    "start_time": "2022-09-06T19:39:39.200Z"
   },
   {
    "duration": 336,
    "start_time": "2022-09-06T19:39:50.922Z"
   },
   {
    "duration": 316,
    "start_time": "2022-09-06T19:40:29.390Z"
   },
   {
    "duration": 319,
    "start_time": "2022-09-06T19:40:38.736Z"
   },
   {
    "duration": 141,
    "start_time": "2022-09-06T19:41:28.020Z"
   },
   {
    "duration": 156,
    "start_time": "2022-09-06T19:43:30.991Z"
   },
   {
    "duration": 173,
    "start_time": "2022-09-06T19:44:52.166Z"
   },
   {
    "duration": 165,
    "start_time": "2022-09-06T19:45:03.166Z"
   },
   {
    "duration": 128,
    "start_time": "2022-09-06T19:45:11.393Z"
   },
   {
    "duration": 134,
    "start_time": "2022-09-06T19:45:20.653Z"
   },
   {
    "duration": 126,
    "start_time": "2022-09-06T19:45:24.927Z"
   },
   {
    "duration": 137,
    "start_time": "2022-09-06T19:45:52.148Z"
   },
   {
    "duration": 126,
    "start_time": "2022-09-06T19:46:29.595Z"
   },
   {
    "duration": 153,
    "start_time": "2022-09-06T19:47:02.647Z"
   },
   {
    "duration": 131,
    "start_time": "2022-09-06T19:47:38.793Z"
   },
   {
    "duration": 144,
    "start_time": "2022-09-06T19:47:45.729Z"
   },
   {
    "duration": 139,
    "start_time": "2022-09-06T19:47:52.875Z"
   },
   {
    "duration": 146,
    "start_time": "2022-09-06T19:48:01.999Z"
   },
   {
    "duration": 143,
    "start_time": "2022-09-06T19:48:06.831Z"
   },
   {
    "duration": 289,
    "start_time": "2022-09-06T19:48:30.325Z"
   },
   {
    "duration": 135,
    "start_time": "2022-09-06T19:48:55.931Z"
   },
   {
    "duration": 15,
    "start_time": "2022-09-06T19:49:17.367Z"
   },
   {
    "duration": 139,
    "start_time": "2022-09-06T19:49:27.151Z"
   },
   {
    "duration": 139,
    "start_time": "2022-09-06T19:49:47.741Z"
   },
   {
    "duration": 14,
    "start_time": "2022-09-06T19:50:31.402Z"
   },
   {
    "duration": 164,
    "start_time": "2022-09-06T19:50:36.781Z"
   },
   {
    "duration": 167,
    "start_time": "2022-09-06T19:50:53.581Z"
   },
   {
    "duration": 309,
    "start_time": "2022-09-06T19:51:05.927Z"
   },
   {
    "duration": 157,
    "start_time": "2022-09-06T19:51:15.229Z"
   },
   {
    "duration": 140,
    "start_time": "2022-09-06T19:51:48.634Z"
   },
   {
    "duration": 151,
    "start_time": "2022-09-06T19:52:03.390Z"
   },
   {
    "duration": 149,
    "start_time": "2022-09-06T19:52:10.747Z"
   },
   {
    "duration": 152,
    "start_time": "2022-09-06T19:52:20.898Z"
   },
   {
    "duration": 138,
    "start_time": "2022-09-06T19:52:24.031Z"
   },
   {
    "duration": 151,
    "start_time": "2022-09-06T19:52:31.646Z"
   },
   {
    "duration": 312,
    "start_time": "2022-09-06T19:52:47.564Z"
   },
   {
    "duration": 146,
    "start_time": "2022-09-06T19:53:03.839Z"
   },
   {
    "duration": 135,
    "start_time": "2022-09-06T19:53:14.995Z"
   },
   {
    "duration": 185,
    "start_time": "2022-09-06T19:56:07.294Z"
   },
   {
    "duration": 134,
    "start_time": "2022-09-06T19:56:11.634Z"
   },
   {
    "duration": 137,
    "start_time": "2022-09-06T19:56:16.004Z"
   },
   {
    "duration": 142,
    "start_time": "2022-09-06T19:56:19.959Z"
   },
   {
    "duration": 38,
    "start_time": "2022-09-06T20:05:54.663Z"
   },
   {
    "duration": 9,
    "start_time": "2022-09-06T20:06:53.930Z"
   },
   {
    "duration": 22,
    "start_time": "2022-09-06T20:07:05.984Z"
   },
   {
    "duration": 48,
    "start_time": "2022-09-06T20:07:41.896Z"
   },
   {
    "duration": 55,
    "start_time": "2022-09-06T20:08:51.670Z"
   },
   {
    "duration": 14,
    "start_time": "2022-09-06T20:08:56.463Z"
   },
   {
    "duration": 15,
    "start_time": "2022-09-06T20:09:01.394Z"
   },
   {
    "duration": 7,
    "start_time": "2022-09-06T20:09:08.840Z"
   },
   {
    "duration": 10,
    "start_time": "2022-09-06T20:09:13.595Z"
   },
   {
    "duration": 8,
    "start_time": "2022-09-06T20:09:21.726Z"
   },
   {
    "duration": 7,
    "start_time": "2022-09-06T20:09:31.804Z"
   },
   {
    "duration": 7,
    "start_time": "2022-09-06T20:10:19.628Z"
   },
   {
    "duration": 10,
    "start_time": "2022-09-06T20:10:35.423Z"
   },
   {
    "duration": 833,
    "start_time": "2022-09-06T20:10:39.465Z"
   },
   {
    "duration": 6,
    "start_time": "2022-09-06T20:10:56.568Z"
   },
   {
    "duration": 5,
    "start_time": "2022-09-06T20:11:06.662Z"
   },
   {
    "duration": 7,
    "start_time": "2022-09-06T20:11:12.347Z"
   },
   {
    "duration": 9,
    "start_time": "2022-09-06T20:11:50.573Z"
   },
   {
    "duration": 26,
    "start_time": "2022-09-06T20:11:59.164Z"
   },
   {
    "duration": 7,
    "start_time": "2022-09-06T20:12:27.680Z"
   },
   {
    "duration": 2563,
    "start_time": "2022-09-07T15:37:31.698Z"
   },
   {
    "duration": 1145,
    "start_time": "2022-09-07T15:37:34.263Z"
   },
   {
    "duration": 5,
    "start_time": "2022-09-07T15:37:35.410Z"
   },
   {
    "duration": 5969,
    "start_time": "2022-09-07T15:37:35.417Z"
   },
   {
    "duration": 13,
    "start_time": "2022-09-07T15:37:41.387Z"
   },
   {
    "duration": 21,
    "start_time": "2022-09-07T15:37:41.401Z"
   },
   {
    "duration": 35,
    "start_time": "2022-09-07T15:37:41.423Z"
   },
   {
    "duration": 97,
    "start_time": "2022-09-07T15:37:41.460Z"
   },
   {
    "duration": 128,
    "start_time": "2022-09-07T15:37:41.559Z"
   },
   {
    "duration": 5,
    "start_time": "2022-09-07T15:37:41.689Z"
   },
   {
    "duration": 29,
    "start_time": "2022-09-07T15:37:41.696Z"
   },
   {
    "duration": 29,
    "start_time": "2022-09-07T15:37:41.726Z"
   },
   {
    "duration": 20,
    "start_time": "2022-09-07T15:37:41.757Z"
   },
   {
    "duration": 140,
    "start_time": "2022-09-07T15:37:41.778Z"
   },
   {
    "duration": 52,
    "start_time": "2022-09-07T15:37:41.919Z"
   },
   {
    "duration": 19,
    "start_time": "2022-09-07T15:37:41.973Z"
   },
   {
    "duration": 23,
    "start_time": "2022-09-07T15:37:41.994Z"
   },
   {
    "duration": 43,
    "start_time": "2022-09-07T15:37:42.018Z"
   },
   {
    "duration": 17,
    "start_time": "2022-09-07T15:37:42.062Z"
   },
   {
    "duration": 17,
    "start_time": "2022-09-07T15:37:42.081Z"
   },
   {
    "duration": 199,
    "start_time": "2022-09-07T15:37:42.100Z"
   },
   {
    "duration": 300,
    "start_time": "2022-09-07T15:37:42.300Z"
   },
   {
    "duration": 371,
    "start_time": "2022-09-07T15:37:42.602Z"
   },
   {
    "duration": 322,
    "start_time": "2022-09-07T15:37:42.974Z"
   },
   {
    "duration": 317,
    "start_time": "2022-09-07T15:37:43.297Z"
   },
   {
    "duration": 225,
    "start_time": "2022-09-07T15:37:43.615Z"
   },
   {
    "duration": 116,
    "start_time": "2022-09-07T15:37:43.842Z"
   },
   {
    "duration": 260,
    "start_time": "2022-09-07T15:37:43.961Z"
   },
   {
    "duration": 148,
    "start_time": "2022-09-07T15:37:44.223Z"
   },
   {
    "duration": 102,
    "start_time": "2022-09-07T15:37:44.373Z"
   },
   {
    "duration": 149,
    "start_time": "2022-09-07T15:37:44.477Z"
   },
   {
    "duration": 172,
    "start_time": "2022-09-07T15:37:44.627Z"
   },
   {
    "duration": 140,
    "start_time": "2022-09-07T15:37:44.801Z"
   },
   {
    "duration": 155,
    "start_time": "2022-09-07T15:37:44.942Z"
   },
   {
    "duration": 121,
    "start_time": "2022-09-07T15:37:45.098Z"
   },
   {
    "duration": 110,
    "start_time": "2022-09-07T15:37:45.220Z"
   },
   {
    "duration": 303,
    "start_time": "2022-09-07T15:37:45.331Z"
   },
   {
    "duration": 152,
    "start_time": "2022-09-07T15:37:45.635Z"
   },
   {
    "duration": 153,
    "start_time": "2022-09-07T15:37:45.789Z"
   },
   {
    "duration": 143,
    "start_time": "2022-09-07T15:37:45.944Z"
   },
   {
    "duration": 138,
    "start_time": "2022-09-07T15:37:46.089Z"
   },
   {
    "duration": 132,
    "start_time": "2022-09-07T15:37:46.228Z"
   },
   {
    "duration": 151,
    "start_time": "2022-09-07T15:37:46.361Z"
   },
   {
    "duration": 303,
    "start_time": "2022-09-07T15:37:46.514Z"
   },
   {
    "duration": 143,
    "start_time": "2022-09-07T15:37:46.819Z"
   },
   {
    "duration": 7,
    "start_time": "2022-09-07T15:37:46.964Z"
   },
   {
    "duration": 47,
    "start_time": "2022-09-07T15:40:16.631Z"
   },
   {
    "duration": 20,
    "start_time": "2022-09-07T15:41:16.311Z"
   },
   {
    "duration": 21,
    "start_time": "2022-09-07T15:41:32.899Z"
   },
   {
    "duration": 23,
    "start_time": "2022-09-07T15:42:14.151Z"
   },
   {
    "duration": 22,
    "start_time": "2022-09-07T15:43:15.191Z"
   },
   {
    "duration": 182,
    "start_time": "2022-09-07T15:44:41.936Z"
   },
   {
    "duration": 39,
    "start_time": "2022-09-07T15:44:49.401Z"
   },
   {
    "duration": 13,
    "start_time": "2022-09-07T15:47:34.272Z"
   },
   {
    "duration": 19,
    "start_time": "2022-09-07T15:47:37.903Z"
   },
   {
    "duration": 199,
    "start_time": "2022-09-07T15:47:48.529Z"
   },
   {
    "duration": 126,
    "start_time": "2022-09-07T15:48:05.130Z"
   },
   {
    "duration": 174,
    "start_time": "2022-09-07T15:48:15.063Z"
   },
   {
    "duration": 238,
    "start_time": "2022-09-07T17:45:03.005Z"
   },
   {
    "duration": 297,
    "start_time": "2022-09-07T17:46:11.242Z"
   },
   {
    "duration": 213,
    "start_time": "2022-09-07T17:46:49.953Z"
   },
   {
    "duration": 149,
    "start_time": "2022-09-07T17:46:59.814Z"
   },
   {
    "duration": 143,
    "start_time": "2022-09-07T17:47:12.754Z"
   },
   {
    "duration": 151,
    "start_time": "2022-09-07T17:52:47.163Z"
   },
   {
    "duration": 153,
    "start_time": "2022-09-07T17:53:21.115Z"
   },
   {
    "duration": 1811,
    "start_time": "2022-09-07T18:01:10.987Z"
   },
   {
    "duration": 2642,
    "start_time": "2022-09-07T20:31:20.554Z"
   },
   {
    "duration": 1325,
    "start_time": "2022-09-07T20:31:23.198Z"
   },
   {
    "duration": 8,
    "start_time": "2022-09-07T20:31:24.524Z"
   },
   {
    "duration": 6969,
    "start_time": "2022-09-07T20:31:24.534Z"
   },
   {
    "duration": 16,
    "start_time": "2022-09-07T20:31:31.504Z"
   },
   {
    "duration": 52,
    "start_time": "2022-09-07T20:31:31.522Z"
   },
   {
    "duration": 13,
    "start_time": "2022-09-07T20:31:31.576Z"
   },
   {
    "duration": 109,
    "start_time": "2022-09-07T20:31:31.591Z"
   },
   {
    "duration": 180,
    "start_time": "2022-09-07T20:31:31.703Z"
   },
   {
    "duration": 9,
    "start_time": "2022-09-07T20:31:31.886Z"
   },
   {
    "duration": 66,
    "start_time": "2022-09-07T20:31:31.897Z"
   },
   {
    "duration": 11,
    "start_time": "2022-09-07T20:31:31.965Z"
   },
   {
    "duration": 33,
    "start_time": "2022-09-07T20:31:31.977Z"
   },
   {
    "duration": 185,
    "start_time": "2022-09-07T20:31:32.012Z"
   },
   {
    "duration": 62,
    "start_time": "2022-09-07T20:31:32.200Z"
   },
   {
    "duration": 32,
    "start_time": "2022-09-07T20:31:32.263Z"
   },
   {
    "duration": 36,
    "start_time": "2022-09-07T20:31:32.297Z"
   },
   {
    "duration": 44,
    "start_time": "2022-09-07T20:31:32.356Z"
   },
   {
    "duration": 25,
    "start_time": "2022-09-07T20:31:32.402Z"
   },
   {
    "duration": 41,
    "start_time": "2022-09-07T20:31:32.429Z"
   },
   {
    "duration": 265,
    "start_time": "2022-09-07T20:31:32.472Z"
   },
   {
    "duration": 341,
    "start_time": "2022-09-07T20:31:32.739Z"
   },
   {
    "duration": 443,
    "start_time": "2022-09-07T20:31:33.082Z"
   },
   {
    "duration": 364,
    "start_time": "2022-09-07T20:31:33.527Z"
   },
   {
    "duration": 369,
    "start_time": "2022-09-07T20:31:33.892Z"
   },
   {
    "duration": 255,
    "start_time": "2022-09-07T20:31:34.262Z"
   },
   {
    "duration": 152,
    "start_time": "2022-09-07T20:31:34.519Z"
   },
   {
    "duration": 318,
    "start_time": "2022-09-07T20:31:34.676Z"
   },
   {
    "duration": 207,
    "start_time": "2022-09-07T20:31:34.996Z"
   },
   {
    "duration": 167,
    "start_time": "2022-09-07T20:31:35.205Z"
   },
   {
    "duration": 290,
    "start_time": "2022-09-07T20:31:35.374Z"
   },
   {
    "duration": 256,
    "start_time": "2022-09-07T20:31:35.666Z"
   },
   {
    "duration": 210,
    "start_time": "2022-09-07T20:31:35.925Z"
   },
   {
    "duration": 186,
    "start_time": "2022-09-07T20:31:36.137Z"
   },
   {
    "duration": 145,
    "start_time": "2022-09-07T20:31:36.326Z"
   },
   {
    "duration": 153,
    "start_time": "2022-09-07T20:31:36.474Z"
   },
   {
    "duration": 428,
    "start_time": "2022-09-07T20:31:36.630Z"
   },
   {
    "duration": 205,
    "start_time": "2022-09-07T20:31:37.061Z"
   },
   {
    "duration": 195,
    "start_time": "2022-09-07T20:31:37.269Z"
   },
   {
    "duration": 177,
    "start_time": "2022-09-07T20:31:37.466Z"
   },
   {
    "duration": 201,
    "start_time": "2022-09-07T20:31:37.646Z"
   },
   {
    "duration": 162,
    "start_time": "2022-09-07T20:31:37.856Z"
   },
   {
    "duration": 219,
    "start_time": "2022-09-07T20:31:38.020Z"
   },
   {
    "duration": 379,
    "start_time": "2022-09-07T20:31:38.241Z"
   },
   {
    "duration": 195,
    "start_time": "2022-09-07T20:31:38.622Z"
   },
   {
    "duration": 38,
    "start_time": "2022-09-07T20:31:38.819Z"
   },
   {
    "duration": 176,
    "start_time": "2022-09-07T20:31:38.859Z"
   },
   {
    "duration": 174,
    "start_time": "2022-09-07T20:39:01.469Z"
   },
   {
    "duration": 3123,
    "start_time": "2022-09-09T18:06:22.657Z"
   },
   {
    "duration": 2409,
    "start_time": "2022-09-09T18:09:00.658Z"
   },
   {
    "duration": 1580,
    "start_time": "2022-09-09T18:09:03.072Z"
   },
   {
    "duration": 25,
    "start_time": "2022-09-09T18:09:04.654Z"
   },
   {
    "duration": 7404,
    "start_time": "2022-09-09T18:09:04.681Z"
   },
   {
    "duration": 15,
    "start_time": "2022-09-09T18:09:12.087Z"
   },
   {
    "duration": 44,
    "start_time": "2022-09-09T18:09:12.104Z"
   },
   {
    "duration": 28,
    "start_time": "2022-09-09T18:09:12.150Z"
   },
   {
    "duration": 123,
    "start_time": "2022-09-09T18:09:12.181Z"
   },
   {
    "duration": 154,
    "start_time": "2022-09-09T18:09:12.305Z"
   },
   {
    "duration": 17,
    "start_time": "2022-09-09T18:09:12.461Z"
   },
   {
    "duration": 56,
    "start_time": "2022-09-09T18:09:12.481Z"
   },
   {
    "duration": 10,
    "start_time": "2022-09-09T18:09:12.539Z"
   },
   {
    "duration": 41,
    "start_time": "2022-09-09T18:09:12.551Z"
   },
   {
    "duration": 178,
    "start_time": "2022-09-09T18:09:12.594Z"
   },
   {
    "duration": 61,
    "start_time": "2022-09-09T18:09:12.774Z"
   },
   {
    "duration": 43,
    "start_time": "2022-09-09T18:09:12.837Z"
   },
   {
    "duration": 29,
    "start_time": "2022-09-09T18:09:12.882Z"
   },
   {
    "duration": 31,
    "start_time": "2022-09-09T18:09:12.914Z"
   },
   {
    "duration": 38,
    "start_time": "2022-09-09T18:09:12.947Z"
   },
   {
    "duration": 23,
    "start_time": "2022-09-09T18:09:12.987Z"
   },
   {
    "duration": 267,
    "start_time": "2022-09-09T18:09:13.012Z"
   },
   {
    "duration": 379,
    "start_time": "2022-09-09T18:09:13.284Z"
   },
   {
    "duration": 386,
    "start_time": "2022-09-09T18:09:13.667Z"
   },
   {
    "duration": 537,
    "start_time": "2022-09-09T18:09:14.055Z"
   },
   {
    "duration": 409,
    "start_time": "2022-09-09T18:09:14.593Z"
   },
   {
    "duration": 286,
    "start_time": "2022-09-09T18:09:15.004Z"
   },
   {
    "duration": 163,
    "start_time": "2022-09-09T18:09:15.292Z"
   },
   {
    "duration": 190,
    "start_time": "2022-09-09T18:09:15.459Z"
   },
   {
    "duration": 188,
    "start_time": "2022-09-09T18:09:15.651Z"
   },
   {
    "duration": 247,
    "start_time": "2022-09-09T18:09:15.840Z"
   },
   {
    "duration": 176,
    "start_time": "2022-09-09T18:09:16.088Z"
   },
   {
    "duration": 218,
    "start_time": "2022-09-09T18:09:16.268Z"
   },
   {
    "duration": 230,
    "start_time": "2022-09-09T18:09:16.488Z"
   },
   {
    "duration": 223,
    "start_time": "2022-09-09T18:09:16.720Z"
   },
   {
    "duration": 162,
    "start_time": "2022-09-09T18:09:16.946Z"
   },
   {
    "duration": 134,
    "start_time": "2022-09-09T18:09:17.110Z"
   },
   {
    "duration": 291,
    "start_time": "2022-09-09T18:09:17.246Z"
   },
   {
    "duration": 187,
    "start_time": "2022-09-09T18:09:17.538Z"
   },
   {
    "duration": 264,
    "start_time": "2022-09-09T18:09:17.726Z"
   },
   {
    "duration": 186,
    "start_time": "2022-09-09T18:09:17.991Z"
   },
   {
    "duration": 164,
    "start_time": "2022-09-09T18:09:18.181Z"
   },
   {
    "duration": 164,
    "start_time": "2022-09-09T18:09:18.346Z"
   },
   {
    "duration": 192,
    "start_time": "2022-09-09T18:09:18.512Z"
   },
   {
    "duration": 355,
    "start_time": "2022-09-09T18:09:18.706Z"
   },
   {
    "duration": 188,
    "start_time": "2022-09-09T18:09:19.067Z"
   },
   {
    "duration": 33,
    "start_time": "2022-09-09T18:09:19.257Z"
   },
   {
    "duration": 212,
    "start_time": "2022-09-09T18:09:19.292Z"
   },
   {
    "duration": 9,
    "start_time": "2022-09-09T18:11:06.234Z"
   },
   {
    "duration": 14,
    "start_time": "2022-09-09T18:11:41.882Z"
   },
   {
    "duration": 78,
    "start_time": "2022-09-09T18:13:37.782Z"
   },
   {
    "duration": 26,
    "start_time": "2022-09-09T18:14:14.407Z"
   },
   {
    "duration": 178,
    "start_time": "2022-09-09T18:14:14.435Z"
   },
   {
    "duration": 67,
    "start_time": "2022-09-09T18:14:14.615Z"
   },
   {
    "duration": 22,
    "start_time": "2022-09-09T18:14:14.685Z"
   },
   {
    "duration": 26,
    "start_time": "2022-09-09T18:14:14.709Z"
   },
   {
    "duration": 57,
    "start_time": "2022-09-09T18:14:14.736Z"
   },
   {
    "duration": 21,
    "start_time": "2022-09-09T18:14:14.795Z"
   },
   {
    "duration": 23,
    "start_time": "2022-09-09T18:14:14.818Z"
   },
   {
    "duration": 247,
    "start_time": "2022-09-09T18:14:14.845Z"
   },
   {
    "duration": 449,
    "start_time": "2022-09-09T18:14:15.094Z"
   },
   {
    "duration": 396,
    "start_time": "2022-09-09T18:14:15.545Z"
   },
   {
    "duration": 401,
    "start_time": "2022-09-09T18:14:15.943Z"
   },
   {
    "duration": 578,
    "start_time": "2022-09-09T18:14:16.346Z"
   },
   {
    "duration": 284,
    "start_time": "2022-09-09T18:14:16.926Z"
   },
   {
    "duration": 149,
    "start_time": "2022-09-09T18:14:17.212Z"
   },
   {
    "duration": 209,
    "start_time": "2022-09-09T18:14:17.363Z"
   },
   {
    "duration": 166,
    "start_time": "2022-09-09T18:14:17.576Z"
   },
   {
    "duration": 127,
    "start_time": "2022-09-09T18:14:17.744Z"
   },
   {
    "duration": 181,
    "start_time": "2022-09-09T18:14:17.877Z"
   },
   {
    "duration": 217,
    "start_time": "2022-09-09T18:14:18.061Z"
   },
   {
    "duration": 188,
    "start_time": "2022-09-09T18:14:18.281Z"
   },
   {
    "duration": 185,
    "start_time": "2022-09-09T18:14:18.470Z"
   },
   {
    "duration": 254,
    "start_time": "2022-09-09T18:14:18.656Z"
   },
   {
    "duration": 134,
    "start_time": "2022-09-09T18:14:18.913Z"
   },
   {
    "duration": 274,
    "start_time": "2022-09-09T18:14:19.049Z"
   },
   {
    "duration": 188,
    "start_time": "2022-09-09T18:14:19.325Z"
   },
   {
    "duration": 273,
    "start_time": "2022-09-09T18:14:19.515Z"
   },
   {
    "duration": 384,
    "start_time": "2022-09-09T18:14:19.790Z"
   },
   {
    "duration": 335,
    "start_time": "2022-09-09T18:14:20.176Z"
   },
   {
    "duration": 367,
    "start_time": "2022-09-09T18:14:20.513Z"
   },
   {
    "duration": 403,
    "start_time": "2022-09-09T18:14:20.882Z"
   },
   {
    "duration": 604,
    "start_time": "2022-09-09T18:14:21.287Z"
   },
   {
    "duration": 255,
    "start_time": "2022-09-09T18:14:21.893Z"
   },
   {
    "duration": 32,
    "start_time": "2022-09-09T18:14:22.150Z"
   },
   {
    "duration": 204,
    "start_time": "2022-09-09T18:14:22.184Z"
   },
   {
    "duration": 373,
    "start_time": "2022-09-09T18:21:44.382Z"
   },
   {
    "duration": 378,
    "start_time": "2022-09-09T18:21:58.982Z"
   },
   {
    "duration": 358,
    "start_time": "2022-09-09T18:22:26.834Z"
   },
   {
    "duration": 383,
    "start_time": "2022-09-09T18:25:03.246Z"
   },
   {
    "duration": 259,
    "start_time": "2022-09-09T18:25:13.342Z"
   },
   {
    "duration": 748,
    "start_time": "2022-09-09T18:25:17.298Z"
   },
   {
    "duration": 938,
    "start_time": "2022-09-09T18:25:24.998Z"
   },
   {
    "duration": 359,
    "start_time": "2022-09-09T18:25:28.045Z"
   },
   {
    "duration": 310,
    "start_time": "2022-09-09T18:26:20.938Z"
   },
   {
    "duration": 50,
    "start_time": "2022-09-09T18:28:54.241Z"
   },
   {
    "duration": 40,
    "start_time": "2022-09-09T18:29:55.374Z"
   },
   {
    "duration": 1541,
    "start_time": "2022-09-09T18:30:33.058Z"
   },
   {
    "duration": 338,
    "start_time": "2022-09-09T18:31:05.353Z"
   },
   {
    "duration": 196,
    "start_time": "2022-09-09T18:31:50.933Z"
   },
   {
    "duration": 323,
    "start_time": "2022-09-09T18:33:20.995Z"
   },
   {
    "duration": 332,
    "start_time": "2022-09-09T18:33:37.482Z"
   },
   {
    "duration": 294,
    "start_time": "2022-09-09T18:33:44.439Z"
   },
   {
    "duration": 411,
    "start_time": "2022-09-09T18:33:48.483Z"
   },
   {
    "duration": 320,
    "start_time": "2022-09-09T18:34:02.782Z"
   },
   {
    "duration": 300,
    "start_time": "2022-09-09T18:34:10.434Z"
   },
   {
    "duration": 363,
    "start_time": "2022-09-09T18:35:34.458Z"
   },
   {
    "duration": 449,
    "start_time": "2022-09-09T18:36:01.035Z"
   },
   {
    "duration": 336,
    "start_time": "2022-09-09T18:36:17.738Z"
   },
   {
    "duration": 331,
    "start_time": "2022-09-09T18:36:26.053Z"
   },
   {
    "duration": 306,
    "start_time": "2022-09-09T18:37:02.281Z"
   },
   {
    "duration": 448,
    "start_time": "2022-09-09T18:37:07.931Z"
   },
   {
    "duration": 333,
    "start_time": "2022-09-09T18:37:18.848Z"
   },
   {
    "duration": 350,
    "start_time": "2022-09-09T18:39:22.564Z"
   },
   {
    "duration": 18776,
    "start_time": "2022-09-09T18:39:53.438Z"
   },
   {
    "duration": 373,
    "start_time": "2022-09-09T18:40:24.241Z"
   },
   {
    "duration": 226,
    "start_time": "2022-09-09T18:41:05.665Z"
   },
   {
    "duration": 347,
    "start_time": "2022-09-09T18:41:25.001Z"
   },
   {
    "duration": 358,
    "start_time": "2022-09-09T18:42:14.539Z"
   },
   {
    "duration": 374,
    "start_time": "2022-09-09T18:42:20.853Z"
   },
   {
    "duration": 245,
    "start_time": "2022-09-09T18:43:26.564Z"
   },
   {
    "duration": 189,
    "start_time": "2022-09-09T18:44:41.939Z"
   },
   {
    "duration": 385,
    "start_time": "2022-09-09T18:45:54.231Z"
   },
   {
    "duration": 207,
    "start_time": "2022-09-09T18:46:25.851Z"
   },
   {
    "duration": 343,
    "start_time": "2022-09-09T18:46:42.667Z"
   },
   {
    "duration": 177,
    "start_time": "2022-09-09T18:48:46.927Z"
   },
   {
    "duration": 11,
    "start_time": "2022-09-09T18:52:22.275Z"
   },
   {
    "duration": 11,
    "start_time": "2022-09-09T18:52:28.138Z"
   },
   {
    "duration": 13,
    "start_time": "2022-09-09T18:52:40.039Z"
   },
   {
    "duration": 17,
    "start_time": "2022-09-09T18:52:47.440Z"
   },
   {
    "duration": 19,
    "start_time": "2022-09-09T18:52:53.439Z"
   },
   {
    "duration": 24,
    "start_time": "2022-09-09T18:53:02.032Z"
   },
   {
    "duration": 47,
    "start_time": "2022-09-09T18:53:16.357Z"
   },
   {
    "duration": 204,
    "start_time": "2022-09-09T18:53:49.652Z"
   },
   {
    "duration": 333,
    "start_time": "2022-09-09T18:54:37.995Z"
   },
   {
    "duration": 466,
    "start_time": "2022-09-09T18:54:54.744Z"
   },
   {
    "duration": 151,
    "start_time": "2022-09-09T18:55:02.185Z"
   },
   {
    "duration": 28,
    "start_time": "2022-09-09T18:59:32.696Z"
   },
   {
    "duration": 24,
    "start_time": "2022-09-09T18:59:43.627Z"
   },
   {
    "duration": 2122,
    "start_time": "2022-09-09T19:10:58.038Z"
   },
   {
    "duration": 1400,
    "start_time": "2022-09-09T19:11:00.163Z"
   },
   {
    "duration": 12,
    "start_time": "2022-09-09T19:11:01.570Z"
   },
   {
    "duration": 7646,
    "start_time": "2022-09-09T19:11:01.585Z"
   },
   {
    "duration": 16,
    "start_time": "2022-09-09T19:11:09.233Z"
   },
   {
    "duration": 47,
    "start_time": "2022-09-09T19:11:09.250Z"
   },
   {
    "duration": 20,
    "start_time": "2022-09-09T19:11:09.298Z"
   },
   {
    "duration": 136,
    "start_time": "2022-09-09T19:11:09.320Z"
   },
   {
    "duration": 166,
    "start_time": "2022-09-09T19:11:09.458Z"
   },
   {
    "duration": 7,
    "start_time": "2022-09-09T19:11:09.626Z"
   },
   {
    "duration": 65,
    "start_time": "2022-09-09T19:11:09.635Z"
   },
   {
    "duration": 14,
    "start_time": "2022-09-09T19:11:09.701Z"
   },
   {
    "duration": 24,
    "start_time": "2022-09-09T19:11:09.717Z"
   },
   {
    "duration": 174,
    "start_time": "2022-09-09T19:11:09.744Z"
   },
   {
    "duration": 72,
    "start_time": "2022-09-09T19:11:09.919Z"
   },
   {
    "duration": 22,
    "start_time": "2022-09-09T19:11:09.993Z"
   },
   {
    "duration": 25,
    "start_time": "2022-09-09T19:11:10.016Z"
   },
   {
    "duration": 53,
    "start_time": "2022-09-09T19:11:10.043Z"
   },
   {
    "duration": 21,
    "start_time": "2022-09-09T19:11:10.097Z"
   },
   {
    "duration": 21,
    "start_time": "2022-09-09T19:11:10.120Z"
   },
   {
    "duration": 267,
    "start_time": "2022-09-09T19:11:10.143Z"
   },
   {
    "duration": 380,
    "start_time": "2022-09-09T19:11:10.412Z"
   },
   {
    "duration": 408,
    "start_time": "2022-09-09T19:11:10.793Z"
   },
   {
    "duration": 432,
    "start_time": "2022-09-09T19:11:11.203Z"
   },
   {
    "duration": 397,
    "start_time": "2022-09-09T19:11:11.637Z"
   },
   {
    "duration": 278,
    "start_time": "2022-09-09T19:11:12.036Z"
   },
   {
    "duration": 169,
    "start_time": "2022-09-09T19:11:12.315Z"
   },
   {
    "duration": 211,
    "start_time": "2022-09-09T19:11:12.486Z"
   },
   {
    "duration": 184,
    "start_time": "2022-09-09T19:11:12.699Z"
   },
   {
    "duration": 134,
    "start_time": "2022-09-09T19:11:12.884Z"
   },
   {
    "duration": 185,
    "start_time": "2022-09-09T19:11:13.019Z"
   },
   {
    "duration": 210,
    "start_time": "2022-09-09T19:11:13.206Z"
   },
   {
    "duration": 944,
    "start_time": "2022-09-09T19:11:13.418Z"
   },
   {
    "duration": 195,
    "start_time": "2022-09-09T19:11:14.367Z"
   },
   {
    "duration": 159,
    "start_time": "2022-09-09T19:11:14.564Z"
   },
   {
    "duration": 129,
    "start_time": "2022-09-09T19:11:14.725Z"
   },
   {
    "duration": 321,
    "start_time": "2022-09-09T19:11:14.856Z"
   },
   {
    "duration": 175,
    "start_time": "2022-09-09T19:11:15.182Z"
   },
   {
    "duration": 201,
    "start_time": "2022-09-09T19:11:15.359Z"
   },
   {
    "duration": 162,
    "start_time": "2022-09-09T19:11:15.567Z"
   },
   {
    "duration": 171,
    "start_time": "2022-09-09T19:11:15.733Z"
   },
   {
    "duration": 277,
    "start_time": "2022-09-09T19:11:15.905Z"
   },
   {
    "duration": 168,
    "start_time": "2022-09-09T19:11:16.184Z"
   },
   {
    "duration": 393,
    "start_time": "2022-09-09T19:11:16.354Z"
   },
   {
    "duration": 196,
    "start_time": "2022-09-09T19:11:16.749Z"
   },
   {
    "duration": 157,
    "start_time": "2022-09-09T19:11:16.947Z"
   },
   {
    "duration": 24,
    "start_time": "2022-09-09T19:11:17.106Z"
   },
   {
    "duration": 202,
    "start_time": "2022-09-09T19:11:17.132Z"
   },
   {
    "duration": 2494,
    "start_time": "2022-09-09T21:09:35.711Z"
   },
   {
    "duration": 1202,
    "start_time": "2022-09-09T21:09:38.207Z"
   },
   {
    "duration": 6,
    "start_time": "2022-09-09T21:09:39.411Z"
   },
   {
    "duration": 5845,
    "start_time": "2022-09-09T21:09:39.418Z"
   },
   {
    "duration": 13,
    "start_time": "2022-09-09T21:09:45.264Z"
   },
   {
    "duration": 32,
    "start_time": "2022-09-09T21:09:45.279Z"
   },
   {
    "duration": 42,
    "start_time": "2022-09-09T21:09:45.313Z"
   },
   {
    "duration": 106,
    "start_time": "2022-09-09T21:09:45.357Z"
   },
   {
    "duration": 126,
    "start_time": "2022-09-09T21:09:45.465Z"
   },
   {
    "duration": 7,
    "start_time": "2022-09-09T21:09:45.594Z"
   },
   {
    "duration": 30,
    "start_time": "2022-09-09T21:09:45.602Z"
   },
   {
    "duration": 13,
    "start_time": "2022-09-09T21:09:45.655Z"
   },
   {
    "duration": 21,
    "start_time": "2022-09-09T21:09:45.670Z"
   },
   {
    "duration": 146,
    "start_time": "2022-09-09T21:09:45.692Z"
   },
   {
    "duration": 53,
    "start_time": "2022-09-09T21:09:45.840Z"
   },
   {
    "duration": 22,
    "start_time": "2022-09-09T21:09:45.895Z"
   },
   {
    "duration": 38,
    "start_time": "2022-09-09T21:09:45.919Z"
   },
   {
    "duration": 26,
    "start_time": "2022-09-09T21:09:45.959Z"
   },
   {
    "duration": 17,
    "start_time": "2022-09-09T21:09:45.986Z"
   },
   {
    "duration": 17,
    "start_time": "2022-09-09T21:09:46.005Z"
   },
   {
    "duration": 209,
    "start_time": "2022-09-09T21:09:46.024Z"
   },
   {
    "duration": 309,
    "start_time": "2022-09-09T21:09:46.235Z"
   },
   {
    "duration": 439,
    "start_time": "2022-09-09T21:09:46.546Z"
   },
   {
    "duration": 381,
    "start_time": "2022-09-09T21:09:46.986Z"
   },
   {
    "duration": 391,
    "start_time": "2022-09-09T21:09:47.369Z"
   },
   {
    "duration": 219,
    "start_time": "2022-09-09T21:09:47.761Z"
   },
   {
    "duration": 117,
    "start_time": "2022-09-09T21:09:47.981Z"
   },
   {
    "duration": 248,
    "start_time": "2022-09-09T21:09:48.101Z"
   },
   {
    "duration": 147,
    "start_time": "2022-09-09T21:09:48.350Z"
   },
   {
    "duration": 103,
    "start_time": "2022-09-09T21:09:48.498Z"
   },
   {
    "duration": 148,
    "start_time": "2022-09-09T21:09:48.603Z"
   },
   {
    "duration": 168,
    "start_time": "2022-09-09T21:09:48.752Z"
   },
   {
    "duration": 153,
    "start_time": "2022-09-09T21:09:48.922Z"
   },
   {
    "duration": 147,
    "start_time": "2022-09-09T21:09:49.077Z"
   },
   {
    "duration": 120,
    "start_time": "2022-09-09T21:09:49.226Z"
   },
   {
    "duration": 121,
    "start_time": "2022-09-09T21:09:49.347Z"
   },
   {
    "duration": 364,
    "start_time": "2022-09-09T21:09:49.470Z"
   },
   {
    "duration": 168,
    "start_time": "2022-09-09T21:09:49.836Z"
   },
   {
    "duration": 185,
    "start_time": "2022-09-09T21:09:50.006Z"
   },
   {
    "duration": 162,
    "start_time": "2022-09-09T21:09:50.193Z"
   },
   {
    "duration": 152,
    "start_time": "2022-09-09T21:09:50.356Z"
   },
   {
    "duration": 137,
    "start_time": "2022-09-09T21:09:50.510Z"
   },
   {
    "duration": 165,
    "start_time": "2022-09-09T21:09:50.654Z"
   },
   {
    "duration": 321,
    "start_time": "2022-09-09T21:09:50.821Z"
   },
   {
    "duration": 160,
    "start_time": "2022-09-09T21:09:51.144Z"
   },
   {
    "duration": 139,
    "start_time": "2022-09-09T21:09:51.306Z"
   },
   {
    "duration": 27,
    "start_time": "2022-09-09T21:09:51.447Z"
   },
   {
    "duration": 179,
    "start_time": "2022-09-09T21:09:51.476Z"
   },
   {
    "duration": 2612,
    "start_time": "2024-02-03T18:49:49.926Z"
   },
   {
    "duration": 60,
    "start_time": "2024-02-03T18:49:52.540Z"
   },
   {
    "duration": 1386,
    "start_time": "2024-02-03T18:49:52.601Z"
   },
   {
    "duration": 19,
    "start_time": "2024-02-03T18:49:53.989Z"
   },
   {
    "duration": 5,
    "start_time": "2024-02-03T18:49:54.010Z"
   },
   {
    "duration": 56,
    "start_time": "2024-02-03T18:49:54.017Z"
   },
   {
    "duration": 6690,
    "start_time": "2024-02-03T18:49:54.075Z"
   },
   {
    "duration": 9,
    "start_time": "2024-02-03T18:50:00.767Z"
   },
   {
    "duration": 107,
    "start_time": "2024-02-03T18:50:00.778Z"
   },
   {
    "duration": 69,
    "start_time": "2024-02-03T18:50:00.887Z"
   },
   {
    "duration": 114,
    "start_time": "2024-02-03T18:50:00.957Z"
   },
   {
    "duration": 132,
    "start_time": "2024-02-03T18:50:01.073Z"
   },
   {
    "duration": 5,
    "start_time": "2024-02-03T18:50:01.207Z"
   },
   {
    "duration": 51,
    "start_time": "2024-02-03T18:50:01.214Z"
   },
   {
    "duration": 24,
    "start_time": "2024-02-03T18:50:01.266Z"
   },
   {
    "duration": 50,
    "start_time": "2024-02-03T18:50:01.292Z"
   },
   {
    "duration": 30,
    "start_time": "2024-02-03T18:50:01.343Z"
   },
   {
    "duration": 186,
    "start_time": "2024-02-03T18:50:01.375Z"
   },
   {
    "duration": 53,
    "start_time": "2024-02-03T18:50:01.565Z"
   },
   {
    "duration": 39,
    "start_time": "2024-02-03T18:50:01.620Z"
   },
   {
    "duration": 31,
    "start_time": "2024-02-03T18:50:01.661Z"
   },
   {
    "duration": 53,
    "start_time": "2024-02-03T18:50:01.694Z"
   },
   {
    "duration": 19,
    "start_time": "2024-02-03T18:50:01.749Z"
   },
   {
    "duration": 24,
    "start_time": "2024-02-03T18:50:01.770Z"
   },
   {
    "duration": 198,
    "start_time": "2024-02-03T18:50:01.796Z"
   },
   {
    "duration": 338,
    "start_time": "2024-02-03T18:51:40.494Z"
   },
   {
    "duration": 437,
    "start_time": "2024-02-03T18:55:34.523Z"
   },
   {
    "duration": 357,
    "start_time": "2024-02-03T18:55:39.973Z"
   },
   {
    "duration": 353,
    "start_time": "2024-02-03T18:56:32.583Z"
   },
   {
    "duration": 239,
    "start_time": "2024-02-03T18:57:32.983Z"
   },
   {
    "duration": 184,
    "start_time": "2024-02-03T18:58:55.135Z"
   },
   {
    "duration": 245,
    "start_time": "2024-02-03T19:01:02.056Z"
   },
   {
    "duration": 305,
    "start_time": "2024-02-03T19:06:01.418Z"
   },
   {
    "duration": 178,
    "start_time": "2024-02-03T19:08:27.693Z"
   },
   {
    "duration": 195,
    "start_time": "2024-02-03T19:08:35.689Z"
   },
   {
    "duration": 166,
    "start_time": "2024-02-03T19:08:39.886Z"
   },
   {
    "duration": 160,
    "start_time": "2024-02-03T19:08:46.135Z"
   },
   {
    "duration": 151,
    "start_time": "2024-02-03T19:10:45.587Z"
   },
   {
    "duration": 138,
    "start_time": "2024-02-03T19:10:56.356Z"
   },
   {
    "duration": 156,
    "start_time": "2024-02-03T19:11:04.293Z"
   },
   {
    "duration": 380,
    "start_time": "2024-02-03T19:11:07.653Z"
   },
   {
    "duration": 153,
    "start_time": "2024-02-03T19:11:19.096Z"
   },
   {
    "duration": 141,
    "start_time": "2024-02-03T19:12:24.881Z"
   },
   {
    "duration": 25,
    "start_time": "2024-02-03T19:13:59.490Z"
   },
   {
    "duration": 180,
    "start_time": "2024-02-03T19:14:30.173Z"
   },
   {
    "duration": 197,
    "start_time": "2024-02-03T19:15:31.528Z"
   },
   {
    "duration": 1689,
    "start_time": "2024-02-03T19:16:36.469Z"
   },
   {
    "duration": 19,
    "start_time": "2024-02-03T19:16:38.160Z"
   },
   {
    "duration": 1454,
    "start_time": "2024-02-03T19:16:38.181Z"
   },
   {
    "duration": 29,
    "start_time": "2024-02-03T19:16:39.637Z"
   },
   {
    "duration": 6,
    "start_time": "2024-02-03T19:16:39.667Z"
   },
   {
    "duration": 38,
    "start_time": "2024-02-03T19:16:39.674Z"
   },
   {
    "duration": 6993,
    "start_time": "2024-02-03T19:16:39.713Z"
   },
   {
    "duration": 11,
    "start_time": "2024-02-03T19:16:46.708Z"
   },
   {
    "duration": 38,
    "start_time": "2024-02-03T19:16:46.720Z"
   },
   {
    "duration": 15,
    "start_time": "2024-02-03T19:16:46.766Z"
   },
   {
    "duration": 73,
    "start_time": "2024-02-03T19:16:46.782Z"
   },
   {
    "duration": 138,
    "start_time": "2024-02-03T19:16:46.857Z"
   },
   {
    "duration": 6,
    "start_time": "2024-02-03T19:16:46.997Z"
   },
   {
    "duration": 41,
    "start_time": "2024-02-03T19:16:47.005Z"
   },
   {
    "duration": 20,
    "start_time": "2024-02-03T19:16:47.048Z"
   },
   {
    "duration": 24,
    "start_time": "2024-02-03T19:16:47.070Z"
   },
   {
    "duration": 6,
    "start_time": "2024-02-03T19:16:47.096Z"
   },
   {
    "duration": 184,
    "start_time": "2024-02-03T19:16:47.103Z"
   },
   {
    "duration": 51,
    "start_time": "2024-02-03T19:16:47.289Z"
   },
   {
    "duration": 39,
    "start_time": "2024-02-03T19:16:47.342Z"
   },
   {
    "duration": 34,
    "start_time": "2024-02-03T19:16:47.383Z"
   },
   {
    "duration": 28,
    "start_time": "2024-02-03T19:16:47.418Z"
   },
   {
    "duration": 31,
    "start_time": "2024-02-03T19:16:47.448Z"
   },
   {
    "duration": 20,
    "start_time": "2024-02-03T19:16:47.480Z"
   },
   {
    "duration": 219,
    "start_time": "2024-02-03T19:16:47.501Z"
   },
   {
    "duration": 353,
    "start_time": "2024-02-03T19:16:47.722Z"
   },
   {
    "duration": 347,
    "start_time": "2024-02-03T19:16:48.077Z"
   },
   {
    "duration": 471,
    "start_time": "2024-02-03T19:16:48.438Z"
   },
   {
    "duration": 366,
    "start_time": "2024-02-03T19:16:48.911Z"
   },
   {
    "duration": 252,
    "start_time": "2024-02-03T19:16:49.278Z"
   },
   {
    "duration": 144,
    "start_time": "2024-02-03T19:16:49.532Z"
   },
   {
    "duration": 184,
    "start_time": "2024-02-03T19:16:49.678Z"
   },
   {
    "duration": 176,
    "start_time": "2024-02-03T19:16:49.865Z"
   },
   {
    "duration": 130,
    "start_time": "2024-02-03T19:16:50.043Z"
   },
   {
    "duration": 268,
    "start_time": "2024-02-03T19:16:50.174Z"
   },
   {
    "duration": 190,
    "start_time": "2024-02-03T19:16:50.444Z"
   },
   {
    "duration": 167,
    "start_time": "2024-02-03T19:16:50.635Z"
   },
   {
    "duration": 174,
    "start_time": "2024-02-03T19:16:50.804Z"
   },
   {
    "duration": 138,
    "start_time": "2024-02-03T19:16:50.979Z"
   },
   {
    "duration": 131,
    "start_time": "2024-02-03T19:16:51.119Z"
   },
   {
    "duration": 321,
    "start_time": "2024-02-03T19:16:51.252Z"
   },
   {
    "duration": 185,
    "start_time": "2024-02-03T19:16:51.574Z"
   },
   {
    "duration": 257,
    "start_time": "2024-02-03T19:16:51.761Z"
   },
   {
    "duration": 169,
    "start_time": "2024-02-03T19:16:52.019Z"
   },
   {
    "duration": 158,
    "start_time": "2024-02-03T19:16:52.189Z"
   },
   {
    "duration": 151,
    "start_time": "2024-02-03T19:16:52.349Z"
   },
   {
    "duration": 175,
    "start_time": "2024-02-03T19:16:52.502Z"
   },
   {
    "duration": 332,
    "start_time": "2024-02-03T19:16:52.679Z"
   },
   {
    "duration": 159,
    "start_time": "2024-02-03T19:16:53.013Z"
   },
   {
    "duration": 143,
    "start_time": "2024-02-03T19:16:53.173Z"
   },
   {
    "duration": 25,
    "start_time": "2024-02-03T19:16:53.318Z"
   },
   {
    "duration": 191,
    "start_time": "2024-02-03T19:16:53.344Z"
   },
   {
    "duration": 196,
    "start_time": "2024-02-03T19:17:23.258Z"
   }
  ],
  "kernelspec": {
   "display_name": "Python 3 (ipykernel)",
   "language": "python",
   "name": "python3"
  },
  "language_info": {
   "codemirror_mode": {
    "name": "ipython",
    "version": 3
   },
   "file_extension": ".py",
   "mimetype": "text/x-python",
   "name": "python",
   "nbconvert_exporter": "python",
   "pygments_lexer": "ipython3",
   "version": "3.9.5"
  },
  "toc": {
   "base_numbering": 1,
   "nav_menu": {},
   "number_sections": true,
   "sideBar": true,
   "skip_h1_title": true,
   "title_cell": "Table of Contents",
   "title_sidebar": "Contents",
   "toc_cell": false,
   "toc_position": {
    "height": "calc(100% - 180px)",
    "left": "10px",
    "top": "150px",
    "width": "165px"
   },
   "toc_section_display": true,
   "toc_window_display": true
  }
 },
 "nbformat": 4,
 "nbformat_minor": 2
}
