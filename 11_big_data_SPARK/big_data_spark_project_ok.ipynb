{
 "cells": [
  {
   "cell_type": "markdown",
   "id": "GEqQaHzsZ_bA",
   "metadata": {
    "id": "GEqQaHzsZ_bA"
   },
   "source": [
    "## Предсказание стоимости жилья\n",
    "\n",
    "В проекте вам нужно обучить модель линейной регрессии на данных о жилье в Калифорнии в 1990 году. На основе данных нужно предсказать медианную стоимость дома в жилом массиве. Обучите модель и сделайте предсказания на тестовой выборке. Для оценки качества модели используйте метрики RMSE, MAE и R2."
   ]
  },
  {
   "cell_type": "markdown",
   "id": "1010344d",
   "metadata": {},
   "source": [
    "В колонках датасета содержатся следующие данные:\n",
    "\n",
    "    longitude — широта;\n",
    "    latitude — долгота;\n",
    "    housing_median_age — медианный возраст жителей жилого массива;\n",
    "    total_rooms — общее количество комнат в домах жилого массива;\n",
    "    total_bedrooms — общее количество спален в домах жилого массива;\n",
    "    population — количество человек, которые проживают в жилом массиве;\n",
    "    households — количество домовладений в жилом массиве;\n",
    "    median_income — медианный доход жителей жилого массива;\n",
    "    median_house_value — медианная стоимость дома в жилом массиве;\n",
    "    ocean_proximity — близость к океану.\n",
    "\n",
    "На основе данных нужно предсказать медианную стоимость дома в жилом массиве — median_house_value. Обучите модель и сделайте предсказания на тестовой выборке. Для оценки качества модели используйте метрики RMSE, MAE и R2.\n",
    "Инструкция по выполнению проекта\n",
    "\n",
    "   1. Инициализируйте локальную Spark-сессию.\n",
    "   2. Прочитайте содержимое файла /datasets/housing.csv.\n",
    "   3. Выведите типы данных колонок датасета. Используйте методы pySpark.\n",
    "   4. Выполните предобработку данных:\n",
    "     \n",
    "       * Исследуйте данные на наличие пропусков и заполните их, выбрав значения по своему усмотрению.\n",
    "       * Преобразуйте колонку с категориальными значениями техникой One hot encoding.\n",
    "   5. Постройте две модели линейной регрессии на разных наборах данных: \n",
    "            - используя все данные из файла;\n",
    "            - используя только числовые переменные, исключив категориальные.\n",
    "Для построения модели используйте оценщик LinearRegression из библиотеки MLlib.\n",
    "Сравните результаты работы линейной регрессии на двух наборах данных по метрикам RMSE, MAE и R2. Сделайте выводы."
   ]
  },
  {
   "cell_type": "markdown",
   "id": "53871372",
   "metadata": {
    "id": "53871372"
   },
   "source": [
    "### Подготовка данных"
   ]
  },
  {
   "cell_type": "code",
   "execution_count": 1,
   "id": "df92e3ec",
   "metadata": {
    "id": "df92e3ec"
   },
   "outputs": [],
   "source": [
    "import pandas as pd \n",
    "import numpy as np\n",
    "\n",
    "import pyspark\n",
    "from pyspark.sql import SparkSession, Window, Row\n",
    "from pyspark.sql.types import *\n",
    "import pyspark.sql.functions as F\n",
    "\n",
    "from pyspark.ml import Pipeline\n",
    "from pyspark.ml.feature import StringIndexer, VectorAssembler, StandardScaler\n",
    "from pyspark.ml.regression import LinearRegression\n",
    "from pyspark.ml.evaluation import RegressionEvaluator\n",
    "from pyspark.mllib.evaluation import RegressionMetrics\n",
    "\n",
    "pyspark_version = pyspark.__version__\n",
    "if int(pyspark_version[:1]) == 3:\n",
    "    from pyspark.ml.feature import OneHotEncoder    \n",
    "elif int(pyspark_version[:1]) == 2:\n",
    "    from pyspark.ml.feature import OneHotEncodeEstimator\n",
    "        \n",
    "RANDOM_SEED = 2022\n",
    "\n"
   ]
  },
  {
   "cell_type": "code",
   "execution_count": 2,
   "id": "e6d8b37a",
   "metadata": {},
   "outputs": [
    {
     "name": "stderr",
     "output_type": "stream",
     "text": [
      "                                                                                \r"
     ]
    }
   ],
   "source": [
    "spark = SparkSession.builder \\\n",
    "                    .master(\"local\") \\\n",
    "                    .appName(\"California 1990 housing project\") \\\n",
    "                    .getOrCreate()\n",
    "\n",
    "df = spark.read.option('header', 'true').csv('/datasets/housing.csv', inferSchema = True) "
   ]
  },
  {
   "cell_type": "markdown",
   "id": "008d3dfd",
   "metadata": {},
   "source": [
    "Спарк-сессия создана, датасет загружен. Теперь выведем типы данных колонок датасета с помощью методов pySpark. Почти все колонки имеют числовой тип данных double, и только 'ocean_proximity' - строковые значения."
   ]
  },
  {
   "cell_type": "code",
   "execution_count": 3,
   "id": "7f576bd5",
   "metadata": {
    "scrolled": true
   },
   "outputs": [
    {
     "name": "stdout",
     "output_type": "stream",
     "text": [
      "root\n",
      " |-- longitude: double (nullable = true)\n",
      " |-- latitude: double (nullable = true)\n",
      " |-- housing_median_age: double (nullable = true)\n",
      " |-- total_rooms: double (nullable = true)\n",
      " |-- total_bedrooms: double (nullable = true)\n",
      " |-- population: double (nullable = true)\n",
      " |-- households: double (nullable = true)\n",
      " |-- median_income: double (nullable = true)\n",
      " |-- median_house_value: double (nullable = true)\n",
      " |-- ocean_proximity: string (nullable = true)\n",
      "\n",
      "               column    type\n",
      "0           longitude  double\n",
      "1            latitude  double\n",
      "2  housing_median_age  double\n",
      "3         total_rooms  double\n",
      "4      total_bedrooms  double\n",
      "5          population  double\n",
      "6          households  double\n",
      "7       median_income  double\n",
      "8  median_house_value  double\n",
      "9     ocean_proximity  string\n"
     ]
    }
   ],
   "source": [
    "df.printSchema()\n",
    "print(pd.DataFrame(df.dtypes, columns=['column', 'type']).head(10))"
   ]
  },
  {
   "cell_type": "markdown",
   "id": "97d428f7",
   "metadata": {},
   "source": [
    "Теперь проверим данные на пропуски."
   ]
  },
  {
   "cell_type": "code",
   "execution_count": 4,
   "id": "1bf16d73",
   "metadata": {},
   "outputs": [
    {
     "name": "stderr",
     "output_type": "stream",
     "text": [
      "                                                                                \r"
     ]
    },
    {
     "data": {
      "text/html": [
       "<div>\n",
       "<style scoped>\n",
       "    .dataframe tbody tr th:only-of-type {\n",
       "        vertical-align: middle;\n",
       "    }\n",
       "\n",
       "    .dataframe tbody tr th {\n",
       "        vertical-align: top;\n",
       "    }\n",
       "\n",
       "    .dataframe thead th {\n",
       "        text-align: right;\n",
       "    }\n",
       "</style>\n",
       "<table border=\"1\" class=\"dataframe\">\n",
       "  <thead>\n",
       "    <tr style=\"text-align: right;\">\n",
       "      <th></th>\n",
       "      <th>summary</th>\n",
       "      <th>longitude</th>\n",
       "      <th>latitude</th>\n",
       "      <th>housing_median_age</th>\n",
       "      <th>total_rooms</th>\n",
       "      <th>total_bedrooms</th>\n",
       "      <th>population</th>\n",
       "      <th>households</th>\n",
       "      <th>median_income</th>\n",
       "      <th>median_house_value</th>\n",
       "      <th>ocean_proximity</th>\n",
       "    </tr>\n",
       "  </thead>\n",
       "  <tbody>\n",
       "    <tr>\n",
       "      <th>0</th>\n",
       "      <td>count</td>\n",
       "      <td>20640</td>\n",
       "      <td>20640</td>\n",
       "      <td>20640</td>\n",
       "      <td>20640</td>\n",
       "      <td>20433</td>\n",
       "      <td>20640</td>\n",
       "      <td>20640</td>\n",
       "      <td>20640</td>\n",
       "      <td>20640</td>\n",
       "      <td>20640</td>\n",
       "    </tr>\n",
       "    <tr>\n",
       "      <th>1</th>\n",
       "      <td>mean</td>\n",
       "      <td>-119.56970445736148</td>\n",
       "      <td>35.6318614341087</td>\n",
       "      <td>28.639486434108527</td>\n",
       "      <td>2635.7630813953488</td>\n",
       "      <td>537.8705525375618</td>\n",
       "      <td>1425.4767441860465</td>\n",
       "      <td>499.5396802325581</td>\n",
       "      <td>3.8706710029070246</td>\n",
       "      <td>206855.81690891474</td>\n",
       "      <td>None</td>\n",
       "    </tr>\n",
       "    <tr>\n",
       "      <th>2</th>\n",
       "      <td>stddev</td>\n",
       "      <td>2.003531723502584</td>\n",
       "      <td>2.135952397457101</td>\n",
       "      <td>12.58555761211163</td>\n",
       "      <td>2181.6152515827944</td>\n",
       "      <td>421.38507007403115</td>\n",
       "      <td>1132.46212176534</td>\n",
       "      <td>382.3297528316098</td>\n",
       "      <td>1.899821717945263</td>\n",
       "      <td>115395.61587441359</td>\n",
       "      <td>None</td>\n",
       "    </tr>\n",
       "    <tr>\n",
       "      <th>3</th>\n",
       "      <td>min</td>\n",
       "      <td>-124.35</td>\n",
       "      <td>32.54</td>\n",
       "      <td>1.0</td>\n",
       "      <td>2.0</td>\n",
       "      <td>1.0</td>\n",
       "      <td>3.0</td>\n",
       "      <td>1.0</td>\n",
       "      <td>0.4999</td>\n",
       "      <td>14999.0</td>\n",
       "      <td>&lt;1H OCEAN</td>\n",
       "    </tr>\n",
       "    <tr>\n",
       "      <th>4</th>\n",
       "      <td>max</td>\n",
       "      <td>-114.31</td>\n",
       "      <td>41.95</td>\n",
       "      <td>52.0</td>\n",
       "      <td>39320.0</td>\n",
       "      <td>6445.0</td>\n",
       "      <td>35682.0</td>\n",
       "      <td>6082.0</td>\n",
       "      <td>15.0001</td>\n",
       "      <td>500001.0</td>\n",
       "      <td>NEAR OCEAN</td>\n",
       "    </tr>\n",
       "  </tbody>\n",
       "</table>\n",
       "</div>"
      ],
      "text/plain": [
       "  summary            longitude           latitude  housing_median_age  \\\n",
       "0   count                20640              20640               20640   \n",
       "1    mean  -119.56970445736148   35.6318614341087  28.639486434108527   \n",
       "2  stddev    2.003531723502584  2.135952397457101   12.58555761211163   \n",
       "3     min              -124.35              32.54                 1.0   \n",
       "4     max              -114.31              41.95                52.0   \n",
       "\n",
       "          total_rooms      total_bedrooms          population  \\\n",
       "0               20640               20433               20640   \n",
       "1  2635.7630813953488   537.8705525375618  1425.4767441860465   \n",
       "2  2181.6152515827944  421.38507007403115    1132.46212176534   \n",
       "3                 2.0                 1.0                 3.0   \n",
       "4             39320.0              6445.0             35682.0   \n",
       "\n",
       "          households       median_income  median_house_value ocean_proximity  \n",
       "0              20640               20640               20640           20640  \n",
       "1  499.5396802325581  3.8706710029070246  206855.81690891474            None  \n",
       "2  382.3297528316098   1.899821717945263  115395.61587441359            None  \n",
       "3                1.0              0.4999             14999.0       <1H OCEAN  \n",
       "4             6082.0             15.0001            500001.0      NEAR OCEAN  "
      ]
     },
     "execution_count": 4,
     "metadata": {},
     "output_type": "execute_result"
    }
   ],
   "source": [
    "df.describe().toPandas()"
   ]
  },
  {
   "cell_type": "code",
   "execution_count": 5,
   "id": "04b6a838",
   "metadata": {},
   "outputs": [
    {
     "name": "stdout",
     "output_type": "stream",
     "text": [
      "longitude 0\n",
      "latitude 0\n",
      "housing_median_age 0\n",
      "total_rooms 0\n",
      "total_bedrooms 207\n",
      "population 0\n",
      "households 0\n",
      "median_income 0\n",
      "median_house_value 0\n",
      "ocean_proximity 0\n"
     ]
    }
   ],
   "source": [
    "columns = df.columns\n",
    "\n",
    "for column in columns:\n",
    "    check_col = F.col(column).isNull()\n",
    "    print(column, df.filter(check_col).count())"
   ]
  },
  {
   "cell_type": "markdown",
   "id": "329a8fe2",
   "metadata": {},
   "source": [
    "<font color='blue'><b>Комментарий ревьюера: </b></font> ✔️\\\n",
    "<font color='green'>Обнаружены пропуски!</font>"
   ]
  },
  {
   "cell_type": "markdown",
   "id": "935b57b8",
   "metadata": {},
   "source": [
    "Обнаружили 207 пропусков в столбце total_bedrooms. Заполним их медианным значением по датасету."
   ]
  },
  {
   "cell_type": "code",
   "execution_count": 6,
   "id": "ff55354a",
   "metadata": {},
   "outputs": [],
   "source": [
    "median = df.approxQuantile('total_bedrooms', [0.5], 0)[0]\n",
    "df = df.na.fill({'total_bedrooms': median})"
   ]
  },
  {
   "cell_type": "code",
   "execution_count": 7,
   "id": "be905d58",
   "metadata": {},
   "outputs": [
    {
     "name": "stdout",
     "output_type": "stream",
     "text": [
      "longitude 0\n",
      "latitude 0\n",
      "housing_median_age 0\n",
      "total_rooms 0\n",
      "total_bedrooms 0\n",
      "population 0\n",
      "households 0\n",
      "median_income 0\n",
      "median_house_value 0\n",
      "ocean_proximity 0\n"
     ]
    }
   ],
   "source": [
    "for column in columns:\n",
    "    check_col = F.col(column).isNull()\n",
    "    print(column, df.filter(check_col).count())"
   ]
  },
  {
   "cell_type": "markdown",
   "id": "27f38642",
   "metadata": {},
   "source": [
    "Перейдем к кодированию. У нас есть одна колонка с категориальными значениями - ocean_proximity. Проведем для нее OneHot encoding. Но сначала нам понадобится трансформировать ее с помощью трансформера StringIndexer."
   ]
  },
  {
   "cell_type": "code",
   "execution_count": 8,
   "id": "3d320a06",
   "metadata": {},
   "outputs": [],
   "source": [
    "categorical_cols = ['ocean_proximity']\n",
    "numerical_cols = ['longitude', 'latitude', 'housing_median_age', 'total_rooms', 'total_bedrooms', 'population', 'households', 'median_income']\n",
    "target = \"median_house_value\"\n"
   ]
  },
  {
   "cell_type": "markdown",
   "id": "a850f1a5",
   "metadata": {},
   "source": [
    "Сразу создадим датафрейм, в котором не будет категориальных признаков."
   ]
  },
  {
   "cell_type": "code",
   "execution_count": 9,
   "id": "8c4618b8",
   "metadata": {},
   "outputs": [
    {
     "name": "stdout",
     "output_type": "stream",
     "text": [
      "DataFrame[longitude: double, latitude: double, housing_median_age: double, total_rooms: double, total_bedrooms: double, population: double, households: double, median_income: double, median_house_value: double]\n"
     ]
    }
   ],
   "source": [
    "df_num = df.drop('ocean_proximity')\n",
    "\n",
    "print(df_num)"
   ]
  },
  {
   "cell_type": "code",
   "execution_count": 10,
   "id": "bfe17e32",
   "metadata": {},
   "outputs": [
    {
     "name": "stderr",
     "output_type": "stream",
     "text": [
      "                                                                                \r"
     ]
    },
    {
     "name": "stdout",
     "output_type": "stream",
     "text": [
      "16418 4222\n"
     ]
    }
   ],
   "source": [
    "train, test = df.randomSplit([.8,.2], seed=RANDOM_SEED)\n",
    "print(train.count(), test.count())"
   ]
  },
  {
   "cell_type": "code",
   "execution_count": 11,
   "id": "4b2cbc63",
   "metadata": {},
   "outputs": [
    {
     "name": "stdout",
     "output_type": "stream",
     "text": [
      "16418 4222\n"
     ]
    }
   ],
   "source": [
    "train_num, test_num = df_num.randomSplit([.8,.2], seed=RANDOM_SEED)\n",
    "print(train_num.count(), test_num.count())"
   ]
  },
  {
   "cell_type": "code",
   "execution_count": 12,
   "id": "930056da",
   "metadata": {},
   "outputs": [
    {
     "name": "stderr",
     "output_type": "stream",
     "text": [
      "                                                                                \r"
     ]
    }
   ],
   "source": [
    "indexer = StringIndexer(inputCols=categorical_cols, \n",
    "                        outputCols=[c+'_idx' for c in categorical_cols], handleInvalid=\"keep\") \n",
    "indexxer = indexer.fit(train)"
   ]
  },
  {
   "cell_type": "code",
   "execution_count": 13,
   "id": "0d3c95ad",
   "metadata": {},
   "outputs": [],
   "source": [
    "train = indexxer.transform(train)"
   ]
  },
  {
   "cell_type": "code",
   "execution_count": 14,
   "id": "5c32b2f5",
   "metadata": {},
   "outputs": [],
   "source": [
    "test = indexxer.transform(test)"
   ]
  },
  {
   "cell_type": "code",
   "execution_count": 15,
   "id": "30431c28",
   "metadata": {},
   "outputs": [
    {
     "name": "stdout",
     "output_type": "stream",
     "text": [
      "+---------------+-------------------+\n",
      "|ocean_proximity|ocean_proximity_idx|\n",
      "+---------------+-------------------+\n",
      "|     NEAR OCEAN|                2.0|\n",
      "|     NEAR OCEAN|                2.0|\n",
      "|     NEAR OCEAN|                2.0|\n",
      "|     NEAR OCEAN|                2.0|\n",
      "|     NEAR OCEAN|                2.0|\n",
      "+---------------+-------------------+\n",
      "only showing top 5 rows\n",
      "\n"
     ]
    }
   ],
   "source": [
    "cols = [c for c in train.columns for i in categorical_cols if (c.startswith(i))]\n",
    "train.select(cols).show(5)"
   ]
  },
  {
   "cell_type": "code",
   "execution_count": 16,
   "id": "1f73ba86",
   "metadata": {},
   "outputs": [
    {
     "name": "stdout",
     "output_type": "stream",
     "text": [
      "+---------------+-------------------+\n",
      "|ocean_proximity|ocean_proximity_idx|\n",
      "+---------------+-------------------+\n",
      "|     NEAR OCEAN|                2.0|\n",
      "|     NEAR OCEAN|                2.0|\n",
      "|     NEAR OCEAN|                2.0|\n",
      "|     NEAR OCEAN|                2.0|\n",
      "|     NEAR OCEAN|                2.0|\n",
      "+---------------+-------------------+\n",
      "only showing top 5 rows\n",
      "\n"
     ]
    }
   ],
   "source": [
    "cols = [c for c in test.columns for i in categorical_cols if (c.startswith(i))]\n",
    "test.select(cols).show(5)"
   ]
  },
  {
   "cell_type": "code",
   "execution_count": 17,
   "id": "f0a570f4",
   "metadata": {},
   "outputs": [],
   "source": [
    "encoder = OneHotEncoder(inputCols=[c+'_idx' for c in categorical_cols], \n",
    "                        outputCols=[c+'_ohe' for c in categorical_cols])\n",
    "encoder_model = encoder.fit(train)"
   ]
  },
  {
   "cell_type": "code",
   "execution_count": 18,
   "id": "527686db",
   "metadata": {},
   "outputs": [],
   "source": [
    "train = encoder_model.transform(train)\n",
    "test = encoder_model.transform(test)"
   ]
  },
  {
   "cell_type": "code",
   "execution_count": 19,
   "id": "96f67f24",
   "metadata": {},
   "outputs": [
    {
     "name": "stdout",
     "output_type": "stream",
     "text": [
      "+---------------+-------------------+-------------------+\n",
      "|ocean_proximity|ocean_proximity_idx|ocean_proximity_ohe|\n",
      "+---------------+-------------------+-------------------+\n",
      "|     NEAR OCEAN|                2.0|      (4,[2],[1.0])|\n",
      "|     NEAR OCEAN|                2.0|      (4,[2],[1.0])|\n",
      "|     NEAR OCEAN|                2.0|      (4,[2],[1.0])|\n",
      "+---------------+-------------------+-------------------+\n",
      "only showing top 3 rows\n",
      "\n"
     ]
    }
   ],
   "source": [
    "cols = [c for c in test.columns for i in categorical_cols if (c.startswith(i))]\n",
    "test.select(cols).show(3)"
   ]
  },
  {
   "cell_type": "code",
   "execution_count": 20,
   "id": "ce609f62",
   "metadata": {},
   "outputs": [],
   "source": [
    "cat_assembler = \\\n",
    "        VectorAssembler(inputCols=[\"ocean_proximity_ohe\"],\n",
    "                                       outputCol=\"categorical_features\")\n",
    "train = cat_assembler.transform(train)"
   ]
  },
  {
   "cell_type": "code",
   "execution_count": 21,
   "id": "85dc1f1b",
   "metadata": {},
   "outputs": [],
   "source": [
    "test_assembler = \\\n",
    "        VectorAssembler(inputCols=[\"ocean_proximity_ohe\"],\n",
    "                                       outputCol=\"categorical_features\")\n",
    "test = test_assembler.transform(test)"
   ]
  },
  {
   "cell_type": "markdown",
   "id": "4b1ecd9b",
   "metadata": {},
   "source": [
    "Шаг с categorical_assembler наверное даже не нужен, так как у нас лишь один категориальный признак."
   ]
  },
  {
   "cell_type": "markdown",
   "id": "1b811c6d",
   "metadata": {},
   "source": [
    "Перейдем к подготовке числовых признаков. Начиная с этого шага будем дублировать шаги для обоих датафреймов сразу."
   ]
  },
  {
   "cell_type": "code",
   "execution_count": 22,
   "id": "cf5b7e60",
   "metadata": {},
   "outputs": [],
   "source": [
    "numerical_assembler = VectorAssembler(inputCols=numerical_cols, outputCol=\"numerical_features\")\n",
    "train = numerical_assembler.transform(train)\n",
    "train_num = numerical_assembler.transform(train_num)"
   ]
  },
  {
   "cell_type": "code",
   "execution_count": 23,
   "id": "52d7c250",
   "metadata": {},
   "outputs": [],
   "source": [
    "test = numerical_assembler.transform(test)\n",
    "test_num = numerical_assembler.transform(test_num)"
   ]
  },
  {
   "cell_type": "code",
   "execution_count": 24,
   "id": "db7b445d",
   "metadata": {},
   "outputs": [
    {
     "name": "stderr",
     "output_type": "stream",
     "text": [
      "                                                                                \r"
     ]
    }
   ],
   "source": [
    "StandardScaler = StandardScaler(inputCol='numerical_features', outputCol=\"numerical_features_scaled\")\n",
    "scaler = StandardScaler.fit(train)\n",
    "scaler_num = StandardScaler.fit(train_num)\n"
   ]
  },
  {
   "cell_type": "code",
   "execution_count": 25,
   "id": "0c8ea725",
   "metadata": {},
   "outputs": [],
   "source": [
    "train = scaler.transform(train)\n",
    "train_num = scaler_num.transform(train_num)"
   ]
  },
  {
   "cell_type": "code",
   "execution_count": 26,
   "id": "ae6dc7dd",
   "metadata": {},
   "outputs": [],
   "source": [
    "test = scaler.transform(test)\n",
    "test_num = scaler_num.transform(test_num)"
   ]
  },
  {
   "cell_type": "code",
   "execution_count": 27,
   "id": "8013d26e",
   "metadata": {},
   "outputs": [
    {
     "name": "stdout",
     "output_type": "stream",
     "text": [
      "['longitude', 'latitude', 'housing_median_age', 'total_rooms', 'total_bedrooms', 'population', 'households', 'median_income', 'median_house_value', 'ocean_proximity', 'ocean_proximity_idx', 'ocean_proximity_ohe', 'categorical_features', 'numerical_features', 'numerical_features_scaled']\n",
      "['longitude', 'latitude', 'housing_median_age', 'total_rooms', 'total_bedrooms', 'population', 'households', 'median_income', 'median_house_value', 'numerical_features', 'numerical_features_scaled']\n"
     ]
    }
   ],
   "source": [
    "print(train.columns)\n",
    "print(train_num.columns)"
   ]
  },
  {
   "cell_type": "code",
   "execution_count": 29,
   "id": "551e9033",
   "metadata": {},
   "outputs": [
    {
     "name": "stdout",
     "output_type": "stream",
     "text": [
      "+--------------------+-------------------------+\n",
      "|categorical_features|numerical_features_scaled|\n",
      "+--------------------+-------------------------+\n",
      "|       (4,[2],[1.0])|     [-61.952887791441...|\n",
      "|       (4,[2],[1.0])|     [-61.927977100733...|\n",
      "|       (4,[2],[1.0])|     [-61.913030686308...|\n",
      "+--------------------+-------------------------+\n",
      "only showing top 3 rows\n",
      "\n"
     ]
    }
   ],
   "source": [
    "all_features = ['categorical_features','numerical_features_scaled']\n",
    "\n",
    "final_assembler = VectorAssembler(inputCols=all_features, \n",
    "                                  outputCol=\"features\") \n",
    "train = final_assembler.transform(train)\n",
    "\n",
    "train.select(all_features).show(3)"
   ]
  },
  {
   "cell_type": "code",
   "execution_count": 30,
   "id": "c7a06983",
   "metadata": {},
   "outputs": [],
   "source": [
    "test = final_assembler.transform(test)"
   ]
  },
  {
   "cell_type": "code",
   "execution_count": 31,
   "id": "9167b40f",
   "metadata": {},
   "outputs": [
    {
     "name": "stdout",
     "output_type": "stream",
     "text": [
      "+--------------------+-------------------------+\n",
      "|categorical_features|numerical_features_scaled|\n",
      "+--------------------+-------------------------+\n",
      "|       (4,[2],[1.0])|     [-61.927977100733...|\n",
      "|       (4,[2],[1.0])|     [-61.893102133741...|\n",
      "|       (4,[2],[1.0])|     [-61.883137857458...|\n",
      "+--------------------+-------------------------+\n",
      "only showing top 3 rows\n",
      "\n"
     ]
    }
   ],
   "source": [
    "test.select(all_features).show(3)"
   ]
  },
  {
   "cell_type": "code",
   "execution_count": 32,
   "id": "95d01168",
   "metadata": {},
   "outputs": [
    {
     "name": "stdout",
     "output_type": "stream",
     "text": [
      "+-------------------------+\n",
      "|numerical_features_scaled|\n",
      "+-------------------------+\n",
      "|     [-61.952887791441...|\n",
      "|     [-61.927977100733...|\n",
      "|     [-61.913030686308...|\n",
      "+-------------------------+\n",
      "only showing top 3 rows\n",
      "\n"
     ]
    }
   ],
   "source": [
    "features_num = ['numerical_features_scaled']\n",
    "\n",
    "final_assembler_num = VectorAssembler(inputCols=features_num, \n",
    "                                  outputCol=\"features\") \n",
    "train_num = final_assembler_num.transform(train_num)\n",
    "\n",
    "train_num.select(features_num).show(3)"
   ]
  },
  {
   "cell_type": "code",
   "execution_count": 33,
   "id": "46f9ccff",
   "metadata": {},
   "outputs": [],
   "source": [
    "test_num = final_assembler_num.transform(test_num)"
   ]
  },
  {
   "cell_type": "markdown",
   "id": "9f0a82f3",
   "metadata": {
    "id": "9f0a82f3"
   },
   "source": [
    "### Обучение моделей"
   ]
  },
  {
   "cell_type": "markdown",
   "id": "81aceb5d",
   "metadata": {},
   "source": [
    "Создадим модель линейной регрессии."
   ]
  },
  {
   "cell_type": "code",
   "execution_count": 34,
   "id": "955c9d20",
   "metadata": {},
   "outputs": [
    {
     "name": "stderr",
     "output_type": "stream",
     "text": [
      "24/03/24 18:37:13 WARN BLAS: Failed to load implementation from: com.github.fommil.netlib.NativeSystemBLAS\n",
      "24/03/24 18:37:13 WARN BLAS: Failed to load implementation from: com.github.fommil.netlib.NativeRefBLAS\n",
      "                                                                                \r"
     ]
    }
   ],
   "source": [
    "lr = LinearRegression(labelCol=target, featuresCol='features', maxIter=10, regParam=0.3, elasticNetParam=0.8)\n",
    "\n",
    "lrModel = lr.fit(train)"
   ]
  },
  {
   "cell_type": "code",
   "execution_count": 35,
   "id": "ca45d7ae",
   "metadata": {},
   "outputs": [],
   "source": [
    "lrModelNum = lr.fit(train_num)"
   ]
  },
  {
   "cell_type": "markdown",
   "id": "f29221d7",
   "metadata": {},
   "source": [
    "Проверим показатели модели на тренировочных данных."
   ]
  },
  {
   "cell_type": "code",
   "execution_count": 36,
   "id": "e7652592",
   "metadata": {},
   "outputs": [
    {
     "name": "stdout",
     "output_type": "stream",
     "text": [
      "RMSE: 69339.545699\n",
      "r2: 0.637291\n"
     ]
    }
   ],
   "source": [
    "trainingSummary = lrModel.summary\n",
    "print(\"RMSE: %f\" % trainingSummary.rootMeanSquaredError)\n",
    "print(\"r2: %f\" % trainingSummary.r2)"
   ]
  },
  {
   "cell_type": "code",
   "execution_count": 37,
   "id": "bfc0eba5",
   "metadata": {},
   "outputs": [
    {
     "name": "stdout",
     "output_type": "stream",
     "text": [
      "RMSE: 69927.877248\n",
      "r2: 0.631110\n"
     ]
    }
   ],
   "source": [
    "trainingSummaryNum = lrModelNum.summary\n",
    "print(\"RMSE: %f\" % trainingSummaryNum.rootMeanSquaredError)\n",
    "print(\"r2: %f\" % trainingSummaryNum.r2)"
   ]
  },
  {
   "cell_type": "code",
   "execution_count": 39,
   "id": "cdcc0bcc",
   "metadata": {
    "scrolled": true
   },
   "outputs": [
    {
     "name": "stdout",
     "output_type": "stream",
     "text": [
      "+---------+--------+------------------+-----------+--------------+----------+----------+-------------+------------------+---------------+-------------------+-------------------+--------------------+--------------------+-------------------------+--------------------+------------------+\n",
      "|longitude|latitude|housing_median_age|total_rooms|total_bedrooms|population|households|median_income|median_house_value|ocean_proximity|ocean_proximity_idx|ocean_proximity_ohe|categorical_features|  numerical_features|numerical_features_scaled|            features|        prediction|\n",
      "+---------+--------+------------------+-----------+--------------+----------+----------+-------------+------------------+---------------+-------------------+-------------------+--------------------+--------------------+-------------------------+--------------------+------------------+\n",
      "|   -124.3|   41.84|              17.0|     2677.0|         531.0|    1244.0|     456.0|       3.0313|          103600.0|     NEAR OCEAN|                2.0|      (4,[2],[1.0])|       (4,[2],[1.0])|[-124.3,41.84,17....|     [-61.927977100733...|[0.0,0.0,1.0,0.0,...| 182380.3111057739|\n",
      "|  -124.23|   40.81|              52.0|     1112.0|         209.0|     544.0|     172.0|       3.3462|           50800.0|     NEAR OCEAN|                2.0|      (4,[2],[1.0])|       (4,[2],[1.0])|[-124.23,40.81,52...|     [-61.893102133741...|[0.0,0.0,1.0,0.0,...|231957.01789184532|\n",
      "|  -124.21|   40.75|              32.0|     1218.0|         331.0|     620.0|     268.0|       1.6528|           58100.0|     NEAR OCEAN|                2.0|      (4,[2],[1.0])|       (4,[2],[1.0])|[-124.21,40.75,32...|     [-61.883137857458...|[0.0,0.0,1.0,0.0,...|158054.67880933837|\n",
      "|  -124.21|   41.77|              17.0|     3461.0|         722.0|    1947.0|     647.0|       2.5795|           68400.0|     NEAR OCEAN|                2.0|      (4,[2],[1.0])|       (4,[2],[1.0])|[-124.21,41.77,17...|     [-61.883137857458...|[0.0,0.0,1.0,0.0,...|161068.11113311502|\n",
      "|  -124.18|   40.78|              33.0|     1076.0|         222.0|     656.0|     236.0|       2.5096|           72200.0|     NEAR OCEAN|                2.0|      (4,[2],[1.0])|       (4,[2],[1.0])|[-124.18,40.78,33...|     [-61.868191443033...|[0.0,0.0,1.0,0.0,...|179692.71317956585|\n",
      "|  -124.18|   40.78|              34.0|     1592.0|         364.0|     950.0|     317.0|       2.1607|           67000.0|     NEAR OCEAN|                2.0|      (4,[2],[1.0])|       (4,[2],[1.0])|[-124.18,40.78,34...|     [-61.868191443033...|[0.0,0.0,1.0,0.0,...|170283.62595226208|\n",
      "|  -124.17|   40.77|              30.0|     1895.0|         366.0|     990.0|     359.0|       2.2227|           81300.0|     NEAR OCEAN|                2.0|      (4,[2],[1.0])|       (4,[2],[1.0])|[-124.17,40.77,30...|     [-61.863209304891...|[0.0,0.0,1.0,0.0,...| 169436.9136594549|\n",
      "|  -124.17|   40.79|              43.0|     2285.0|         479.0|    1169.0|     482.0|       1.9688|           70500.0|     NEAR OCEAN|                2.0|      (4,[2],[1.0])|       (4,[2],[1.0])|[-124.17,40.79,43...|     [-61.863209304891...|[0.0,0.0,1.0,0.0,...|182211.72735243046|\n",
      "|  -124.17|    40.8|              52.0|      661.0|         316.0|     392.0|     244.0|        0.957|           60000.0|     NEAR OCEAN|                2.0|      (4,[2],[1.0])|       (4,[2],[1.0])|[-124.17,40.8,52....|     [-61.863209304891...|[0.0,0.0,1.0,0.0,...| 159801.9334256231|\n",
      "|  -124.17|    41.8|              16.0|     2739.0|         480.0|    1259.0|     436.0|       3.7557|          109400.0|     NEAR OCEAN|                2.0|      (4,[2],[1.0])|       (4,[2],[1.0])|[-124.17,41.8,16....|     [-61.863209304891...|[0.0,0.0,1.0,0.0,...|202051.23923239147|\n",
      "|  -124.16|    40.8|              52.0|     1703.0|         500.0|     952.0|     435.0|       1.1386|           74100.0|     NEAR OCEAN|                2.0|      (4,[2],[1.0])|       (4,[2],[1.0])|[-124.16,40.8,52....|     [-61.858227166750...|[0.0,0.0,1.0,0.0,...|168072.65669015737|\n",
      "|  -124.16|    40.8|              52.0|     2167.0|         480.0|     908.0|     451.0|       1.6111|           74700.0|     NEAR OCEAN|                2.0|      (4,[2],[1.0])|       (4,[2],[1.0])|[-124.16,40.8,52....|     [-61.858227166750...|[0.0,0.0,1.0,0.0,...| 187417.6879415015|\n",
      "|  -124.15|   40.78|              36.0|     2112.0|         374.0|     829.0|     368.0|       3.3984|           90000.0|     NEAR OCEAN|                2.0|      (4,[2],[1.0])|       (4,[2],[1.0])|[-124.15,40.78,36...|     [-61.853245028608...|[0.0,0.0,1.0,0.0,...|227895.53403406672|\n",
      "|  -124.15|   40.78|              41.0|     2127.0|         358.0|     911.0|     349.0|       3.1711|          104200.0|     NEAR OCEAN|                2.0|      (4,[2],[1.0])|       (4,[2],[1.0])|[-124.15,40.78,41...|     [-61.853245028608...|[0.0,0.0,1.0,0.0,...| 219029.3541700443|\n",
      "|  -124.15|    40.8|              47.0|     1486.0|         335.0|     765.0|     329.0|        1.755|           74100.0|     NEAR OCEAN|                2.0|      (4,[2],[1.0])|       (4,[2],[1.0])|[-124.15,40.8,47....|     [-61.853245028608...|[0.0,0.0,1.0,0.0,...|175321.86618284706|\n",
      "|  -124.15|   40.81|              50.0|      340.0|          74.0|     235.0|      83.0|         1.75|           67500.0|     NEAR OCEAN|                2.0|      (4,[2],[1.0])|       (4,[2],[1.0])|[-124.15,40.81,50...|     [-61.853245028608...|[0.0,0.0,1.0,0.0,...|166634.17483804713|\n",
      "|  -124.15|   41.81|              17.0|     3276.0|         628.0|    3546.0|     585.0|       2.2868|          103100.0|     NEAR OCEAN|                2.0|      (4,[2],[1.0])|       (4,[2],[1.0])|[-124.15,41.81,17...|     [-61.853245028608...|[0.0,0.0,1.0,0.0,...|  71044.7852328982|\n",
      "|  -124.14|   40.58|              25.0|     1899.0|         357.0|     891.0|     355.0|       2.6987|           92500.0|      <1H OCEAN|                0.0|      (4,[0],[1.0])|       (4,[0],[1.0])|[-124.14,40.58,25...|     [-61.848262890466...|[1.0,0.0,0.0,0.0,...|177507.56205172825|\n",
      "|  -124.14|    40.6|              27.0|     1148.0|         206.0|     521.0|     219.0|        4.025|          128100.0|     NEAR OCEAN|                2.0|      (4,[2],[1.0])|       (4,[2],[1.0])|[-124.14,40.6,27....|     [-61.848262890466...|[0.0,0.0,1.0,0.0,...| 235159.3838526347|\n",
      "|  -124.14|   40.77|              27.0|     3046.0|         605.0|    1407.0|     571.0|       2.9143|           99600.0|     NEAR OCEAN|                2.0|      (4,[2],[1.0])|       (4,[2],[1.0])|[-124.14,40.77,27...|     [-61.848262890466...|[0.0,0.0,1.0,0.0,...| 204545.2196868878|\n",
      "+---------+--------+------------------+-----------+--------------+----------+----------+-------------+------------------+---------------+-------------------+-------------------+--------------------+--------------------+-------------------------+--------------------+------------------+\n",
      "only showing top 20 rows\n",
      "\n",
      "+------------------+------------------+\n",
      "|median_house_value|        prediction|\n",
      "+------------------+------------------+\n",
      "|          103600.0| 182380.3111057739|\n",
      "|           50800.0|231957.01789184532|\n",
      "|           58100.0|158054.67880933837|\n",
      "|           68400.0|161068.11113311502|\n",
      "|           72200.0|179692.71317956585|\n",
      "|           67000.0|170283.62595226208|\n",
      "|           81300.0| 169436.9136594549|\n",
      "|           70500.0|182211.72735243046|\n",
      "|           60000.0| 159801.9334256231|\n",
      "|          109400.0|202051.23923239147|\n",
      "|           74100.0|168072.65669015737|\n",
      "+------------------+------------------+\n",
      "only showing top 11 rows\n",
      "\n"
     ]
    }
   ],
   "source": [
    "predictions = lrModel.transform(test)\n",
    "predictions.show()\n",
    "predictedLabes = predictions.select('median_house_value', 'prediction')\n",
    "predictedLabes.show(11)"
   ]
  },
  {
   "cell_type": "code",
   "execution_count": 40,
   "id": "715bdd77",
   "metadata": {},
   "outputs": [
    {
     "name": "stdout",
     "output_type": "stream",
     "text": [
      "+------------------+------------------+\n",
      "|median_house_value|        prediction|\n",
      "+------------------+------------------+\n",
      "|          103600.0|101298.92550544953|\n",
      "|           50800.0|185022.49009660957|\n",
      "|           58100.0|109505.56520016352|\n",
      "|           68400.0| 78896.52190991072|\n",
      "|           72200.0|129260.54787339922|\n",
      "|           67000.0|119501.86958910758|\n",
      "|           81300.0|117718.90509561636|\n",
      "|           70500.0| 133138.6735589006|\n",
      "|           60000.0|113262.82711809129|\n",
      "|          109400.0|118010.21779444395|\n",
      "+------------------+------------------+\n",
      "only showing top 10 rows\n",
      "\n"
     ]
    }
   ],
   "source": [
    "predictions_num = lrModelNum.transform(test_num)\n",
    "\n",
    "predictedLabesNum = predictions_num.select('median_house_value', 'prediction')\n",
    "predictedLabesNum.show(10)"
   ]
  },
  {
   "cell_type": "markdown",
   "id": "346f499f",
   "metadata": {},
   "source": [
    "Создадим оценщика регрессии для вычисления требуемых метрик."
   ]
  },
  {
   "cell_type": "code",
   "execution_count": 41,
   "id": "bb950674",
   "metadata": {
    "scrolled": false
   },
   "outputs": [
    {
     "name": "stdout",
     "output_type": "stream",
     "text": [
      "Root Mean Squared Error (RMSE) on test data = 68985.5\n",
      "Root Mean Squared Error (RMSE) on test_data_num = 69179.1\n"
     ]
    }
   ],
   "source": [
    "evaluator = RegressionEvaluator(\n",
    "labelCol=\"median_house_value\", metricName=\"rmse\")\n",
    "rmse = evaluator.evaluate(predictions)\n",
    "rmse_num = evaluator.evaluate(predictions_num)\n",
    "print(\"Root Mean Squared Error (RMSE) on test data = %g\" % rmse)\n",
    "print(\"Root Mean Squared Error (RMSE) on test_data_num = %g\" % rmse_num)"
   ]
  },
  {
   "cell_type": "code",
   "execution_count": 42,
   "id": "5fbf832c",
   "metadata": {},
   "outputs": [
    {
     "name": "stdout",
     "output_type": "stream",
     "text": [
      "MAE on test data = 50088.6\n",
      "MAE on test_data_num = 50873.8\n"
     ]
    }
   ],
   "source": [
    "evaluator = RegressionEvaluator(\n",
    "labelCol=\"median_house_value\", predictionCol=\"prediction\", metricName=\"mae\")\n",
    "mae = evaluator.evaluate(predictions)\n",
    "mae_num = evaluator.evaluate(predictions_num)\n",
    "\n",
    "print(\"MAE on test data = %g\" % mae)\n",
    "print(\"MAE on test_data_num = %g\" % mae_num)"
   ]
  },
  {
   "cell_type": "code",
   "execution_count": 43,
   "id": "807b35f4",
   "metadata": {
    "scrolled": true
   },
   "outputs": [
    {
     "name": "stdout",
     "output_type": "stream",
     "text": [
      "r2 on test data = 0.648494\n",
      "r2 on test_data_num = 0.646518\n"
     ]
    }
   ],
   "source": [
    "evaluator = RegressionEvaluator(\n",
    "labelCol=\"median_house_value\", predictionCol=\"prediction\", metricName=\"r2\")\n",
    "r2 = evaluator.evaluate(predictions)\n",
    "r2_num = evaluator.evaluate(predictions_num)\n",
    "print(\"r2 on test data = %g\" % r2)\n",
    "print(\"r2 on test_data_num = %g\" % r2_num)"
   ]
  },
  {
   "cell_type": "code",
   "execution_count": 44,
   "id": "b988d361",
   "metadata": {},
   "outputs": [],
   "source": [
    "spark.stop()"
   ]
  },
  {
   "cell_type": "markdown",
   "id": "757fd103",
   "metadata": {
    "id": "757fd103"
   },
   "source": [
    "### Анализ результатов"
   ]
  },
  {
   "cell_type": "markdown",
   "id": "3a172ce9",
   "metadata": {},
   "source": [
    "Root Mean Squared Error (RMSE) on test data = 68985.5\n",
    "\n",
    "\n",
    "Root Mean Squared Error (RMSE) on test_data_num = 69179.1\n",
    "\n",
    "\n",
    "Чем меньше среднеквадратичное отклонение, тем лучше модель регрессии. Соответственно, лучше справляется модель, учитывающая категориальный признак.\n",
    "\n",
    "MAE on test data = 50088.6\n",
    "\n",
    "MAE on test_data_num = 50873.8\n",
    "\n",
    "Среднее абсолютное отклонение тоже ниже у модели, учитывающей категориальный признак.\n",
    "\n",
    "\n",
    "r2 on test data = 0.648494\n",
    "\n",
    "r2 on test_data_num = 0.646518\n",
    "\n",
    "Значения метрики R2 в целом удовлетворительные, но на всех признаках сразу модель показывает результат на 0,02 лучше, чем только на числовых признаках.\n",
    "\n",
    "Вывод, который можно сделать: при прогнозе стоимости недвижимости такой признак, как удаленность от океана (выраженный категориально), играет существенную роль, и при его удалении из модели ее качество падает."
   ]
  }
 ],
 "metadata": {
  "ExecuteTimeLog": [
   {
    "duration": 26844,
    "start_time": "2023-03-15T17:49:12.234Z"
   },
   {
    "duration": 1041,
    "start_time": "2023-03-15T17:49:54.552Z"
   },
   {
    "duration": 4524,
    "start_time": "2023-03-15T17:51:00.453Z"
   },
   {
    "duration": 5,
    "start_time": "2023-03-15T17:51:26.401Z"
   },
   {
    "duration": 6,
    "start_time": "2023-03-15T17:52:23.074Z"
   },
   {
    "duration": 84,
    "start_time": "2023-03-15T17:54:15.080Z"
   },
   {
    "duration": 11,
    "start_time": "2023-03-15T17:54:20.767Z"
   },
   {
    "duration": 2513,
    "start_time": "2023-03-15T17:55:51.088Z"
   },
   {
    "duration": 4356,
    "start_time": "2023-03-15T17:58:13.359Z"
   },
   {
    "duration": 785,
    "start_time": "2023-03-15T18:01:19.813Z"
   },
   {
    "duration": 359,
    "start_time": "2023-03-15T18:01:24.459Z"
   },
   {
    "duration": 2825,
    "start_time": "2023-03-15T18:01:34.786Z"
   },
   {
    "duration": 3,
    "start_time": "2023-03-15T18:09:52.121Z"
   },
   {
    "duration": 1780,
    "start_time": "2023-03-15T18:12:11.779Z"
   },
   {
    "duration": 137,
    "start_time": "2023-03-15T18:12:27.193Z"
   },
   {
    "duration": 131,
    "start_time": "2023-03-15T18:12:35.840Z"
   },
   {
    "duration": 159,
    "start_time": "2023-03-15T18:12:50.196Z"
   },
   {
    "duration": 193,
    "start_time": "2023-03-15T18:12:59.769Z"
   },
   {
    "duration": 129,
    "start_time": "2023-03-15T18:13:26.336Z"
   },
   {
    "duration": 501,
    "start_time": "2023-03-15T18:14:17.287Z"
   },
   {
    "duration": 200,
    "start_time": "2023-03-15T18:14:28.293Z"
   },
   {
    "duration": 616,
    "start_time": "2023-03-15T18:15:15.141Z"
   },
   {
    "duration": 41,
    "start_time": "2023-03-15T18:16:15.116Z"
   },
   {
    "duration": 3102,
    "start_time": "2023-03-15T18:16:27.023Z"
   },
   {
    "duration": 1991,
    "start_time": "2023-03-15T18:31:33.492Z"
   },
   {
    "duration": 388,
    "start_time": "2023-03-15T18:36:21.079Z"
   },
   {
    "duration": 35,
    "start_time": "2023-03-15T18:39:02.592Z"
   },
   {
    "duration": 959,
    "start_time": "2023-03-15T18:39:17.231Z"
   },
   {
    "duration": 6,
    "start_time": "2023-03-15T18:39:27.276Z"
   },
   {
    "duration": 419,
    "start_time": "2023-03-15T18:39:57.268Z"
   },
   {
    "duration": 4588,
    "start_time": "2023-03-15T18:40:40.157Z"
   },
   {
    "duration": 2620,
    "start_time": "2023-03-15T18:40:54.288Z"
   },
   {
    "duration": 6649,
    "start_time": "2023-03-15T18:40:58.662Z"
   },
   {
    "duration": 2610,
    "start_time": "2023-03-15T18:41:52.804Z"
   },
   {
    "duration": 1953,
    "start_time": "2023-03-15T18:41:59.392Z"
   },
   {
    "duration": 8,
    "start_time": "2023-03-15T18:43:23.863Z"
   },
   {
    "duration": 399,
    "start_time": "2023-03-15T18:46:41.006Z"
   },
   {
    "duration": 386,
    "start_time": "2023-03-15T18:46:43.940Z"
   },
   {
    "duration": 12,
    "start_time": "2023-03-15T18:46:44.328Z"
   },
   {
    "duration": 1444,
    "start_time": "2023-03-15T18:46:44.342Z"
   },
   {
    "duration": 2111,
    "start_time": "2023-03-15T18:46:45.788Z"
   },
   {
    "duration": 390,
    "start_time": "2023-03-15T18:46:47.901Z"
   },
   {
    "duration": 1655,
    "start_time": "2023-03-15T18:46:48.293Z"
   },
   {
    "duration": 5,
    "start_time": "2023-03-15T18:46:49.978Z"
   },
   {
    "duration": 538,
    "start_time": "2023-03-15T18:46:49.986Z"
   },
   {
    "duration": 106,
    "start_time": "2023-03-15T18:46:50.578Z"
   },
   {
    "duration": 228,
    "start_time": "2023-03-15T18:46:50.687Z"
   },
   {
    "duration": 21,
    "start_time": "2023-03-15T18:46:50.917Z"
   },
   {
    "duration": 1864,
    "start_time": "2023-03-15T18:46:50.940Z"
   },
   {
    "duration": 24,
    "start_time": "2023-03-15T18:46:52.806Z"
   },
   {
    "duration": 482,
    "start_time": "2023-03-15T18:46:52.832Z"
   },
   {
    "duration": 64,
    "start_time": "2023-03-15T18:46:53.317Z"
   },
   {
    "duration": 199,
    "start_time": "2023-03-15T18:46:53.384Z"
   },
   {
    "duration": 3424,
    "start_time": "2023-03-15T18:46:53.586Z"
   },
   {
    "duration": 1352,
    "start_time": "2023-03-15T18:46:57.012Z"
   },
   {
    "duration": 2129,
    "start_time": "2023-03-15T18:46:58.366Z"
   },
   {
    "duration": 5,
    "start_time": "2023-03-15T18:47:00.497Z"
   },
   {
    "duration": 8,
    "start_time": "2023-03-15T18:47:43.564Z"
   },
   {
    "duration": 20,
    "start_time": "2023-03-15T18:47:51.178Z"
   },
   {
    "duration": 33,
    "start_time": "2023-03-15T18:48:18.726Z"
   },
   {
    "duration": 28,
    "start_time": "2023-03-15T18:48:36.218Z"
   },
   {
    "duration": 33,
    "start_time": "2023-03-15T18:48:54.912Z"
   },
   {
    "duration": 1751,
    "start_time": "2023-03-15T18:48:59.387Z"
   },
   {
    "duration": 863,
    "start_time": "2023-03-15T18:49:58.219Z"
   },
   {
    "duration": 23,
    "start_time": "2023-03-15T18:52:00.529Z"
   },
   {
    "duration": 10,
    "start_time": "2023-03-15T18:53:00.368Z"
   },
   {
    "duration": 171,
    "start_time": "2023-03-15T18:53:16.115Z"
   },
   {
    "duration": 34,
    "start_time": "2023-03-15T18:53:40.430Z"
   },
   {
    "duration": 33,
    "start_time": "2023-03-15T18:54:06.960Z"
   },
   {
    "duration": 29,
    "start_time": "2023-03-15T18:54:59.964Z"
   },
   {
    "duration": 43,
    "start_time": "2023-03-15T18:56:16.845Z"
   },
   {
    "duration": 53,
    "start_time": "2023-03-15T18:57:00.409Z"
   },
   {
    "duration": 45,
    "start_time": "2023-03-15T18:57:04.220Z"
   },
   {
    "duration": 865,
    "start_time": "2023-03-15T19:03:44.242Z"
   },
   {
    "duration": 672,
    "start_time": "2023-03-15T19:04:31.043Z"
   },
   {
    "duration": 534,
    "start_time": "2023-03-15T19:05:06.666Z"
   },
   {
    "duration": 448,
    "start_time": "2023-03-15T19:05:10.431Z"
   },
   {
    "duration": 505,
    "start_time": "2023-03-15T19:05:24.696Z"
   },
   {
    "duration": 39,
    "start_time": "2023-03-15T19:05:55.384Z"
   },
   {
    "duration": 30487,
    "start_time": "2023-03-17T17:39:45.021Z"
   },
   {
    "duration": 193,
    "start_time": "2023-03-17T17:40:15.510Z"
   },
   {
    "duration": 5867,
    "start_time": "2023-03-17T17:40:15.705Z"
   },
   {
    "duration": 4729,
    "start_time": "2023-03-17T17:40:21.576Z"
   },
   {
    "duration": 921,
    "start_time": "2023-03-17T17:40:26.367Z"
   },
   {
    "duration": 3325,
    "start_time": "2023-03-17T17:40:27.290Z"
   },
   {
    "duration": 4,
    "start_time": "2023-03-17T17:40:30.616Z"
   },
   {
    "duration": 1696,
    "start_time": "2023-03-17T17:40:30.621Z"
   },
   {
    "duration": 367,
    "start_time": "2023-03-17T17:40:32.367Z"
   },
   {
    "duration": 707,
    "start_time": "2023-03-17T17:40:32.738Z"
   },
   {
    "duration": 63,
    "start_time": "2023-03-17T17:40:33.447Z"
   },
   {
    "duration": 4029,
    "start_time": "2023-03-17T17:40:33.512Z"
   },
   {
    "duration": 50,
    "start_time": "2023-03-17T17:40:37.543Z"
   },
   {
    "duration": 1383,
    "start_time": "2023-03-17T17:40:37.595Z"
   },
   {
    "duration": 5,
    "start_time": "2023-03-17T17:40:38.980Z"
   },
   {
    "duration": 518,
    "start_time": "2023-03-17T17:40:38.988Z"
   },
   {
    "duration": 5384,
    "start_time": "2023-03-17T17:40:39.509Z"
   },
   {
    "duration": 2605,
    "start_time": "2023-03-17T17:40:44.895Z"
   },
   {
    "duration": 6993,
    "start_time": "2023-03-17T17:40:47.502Z"
   },
   {
    "duration": 8,
    "start_time": "2023-03-17T17:40:54.498Z"
   },
   {
    "duration": 1440,
    "start_time": "2023-03-17T17:40:54.567Z"
   },
   {
    "duration": 1675,
    "start_time": "2023-03-17T17:40:56.010Z"
   },
   {
    "duration": 1200,
    "start_time": "2023-03-17T17:40:57.693Z"
   },
   {
    "duration": 875,
    "start_time": "2023-03-17T17:40:58.895Z"
   },
   {
    "duration": 137,
    "start_time": "2023-03-17T17:53:01.001Z"
   },
   {
    "duration": 21,
    "start_time": "2023-03-17T17:53:52.710Z"
   },
   {
    "duration": 10,
    "start_time": "2023-03-17T17:54:10.131Z"
   },
   {
    "duration": 127,
    "start_time": "2023-03-17T17:54:13.873Z"
   },
   {
    "duration": 10,
    "start_time": "2023-03-17T17:59:56.377Z"
   },
   {
    "duration": 3957,
    "start_time": "2023-03-17T18:00:08.403Z"
   },
   {
    "duration": 586,
    "start_time": "2023-03-17T18:00:28.917Z"
   },
   {
    "duration": 15,
    "start_time": "2023-03-17T18:00:29.506Z"
   },
   {
    "duration": 1500,
    "start_time": "2023-03-17T18:00:29.565Z"
   },
   {
    "duration": 2236,
    "start_time": "2023-03-17T18:00:31.068Z"
   },
   {
    "duration": 377,
    "start_time": "2023-03-17T18:00:33.305Z"
   },
   {
    "duration": 1891,
    "start_time": "2023-03-17T18:00:33.683Z"
   },
   {
    "duration": 4,
    "start_time": "2023-03-17T18:00:35.575Z"
   },
   {
    "duration": 717,
    "start_time": "2023-03-17T18:00:35.581Z"
   },
   {
    "duration": 315,
    "start_time": "2023-03-17T18:01:49.955Z"
   },
   {
    "duration": 7,
    "start_time": "2023-03-17T18:01:50.272Z"
   },
   {
    "duration": 1005,
    "start_time": "2023-03-17T18:01:50.281Z"
   },
   {
    "duration": 1884,
    "start_time": "2023-03-17T18:01:51.288Z"
   },
   {
    "duration": 290,
    "start_time": "2023-03-17T18:01:53.175Z"
   },
   {
    "duration": 1802,
    "start_time": "2023-03-17T18:01:53.468Z"
   },
   {
    "duration": 4,
    "start_time": "2023-03-17T18:01:55.272Z"
   },
   {
    "duration": 605,
    "start_time": "2023-03-17T18:01:55.278Z"
   },
   {
    "duration": 405,
    "start_time": "2023-03-17T18:01:55.885Z"
   },
   {
    "duration": 202,
    "start_time": "2023-03-17T18:01:56.293Z"
   },
   {
    "duration": 202,
    "start_time": "2023-03-17T18:01:56.497Z"
   },
   {
    "duration": 62,
    "start_time": "2023-03-17T18:01:56.702Z"
   },
   {
    "duration": 1772,
    "start_time": "2023-03-17T18:01:56.766Z"
   },
   {
    "duration": 305,
    "start_time": "2023-03-17T18:02:12.462Z"
   },
   {
    "duration": 9,
    "start_time": "2023-03-17T18:02:12.770Z"
   },
   {
    "duration": 911,
    "start_time": "2023-03-17T18:02:12.781Z"
   },
   {
    "duration": 1498,
    "start_time": "2023-03-17T18:02:13.694Z"
   },
   {
    "duration": 270,
    "start_time": "2023-03-17T18:02:15.194Z"
   },
   {
    "duration": 1520,
    "start_time": "2023-03-17T18:02:15.467Z"
   },
   {
    "duration": 3,
    "start_time": "2023-03-17T18:02:16.989Z"
   },
   {
    "duration": 497,
    "start_time": "2023-03-17T18:02:16.994Z"
   },
   {
    "duration": 300,
    "start_time": "2023-03-17T18:02:17.493Z"
   },
   {
    "duration": 248,
    "start_time": "2023-03-17T18:02:17.796Z"
   },
   {
    "duration": 178,
    "start_time": "2023-03-17T18:02:18.046Z"
   },
   {
    "duration": 63,
    "start_time": "2023-03-17T18:02:18.226Z"
   },
   {
    "duration": 2035,
    "start_time": "2023-03-17T18:02:18.291Z"
   },
   {
    "duration": 48,
    "start_time": "2023-03-17T18:02:22.881Z"
   },
   {
    "duration": 1080,
    "start_time": "2023-03-17T18:02:57.116Z"
   },
   {
    "duration": 6,
    "start_time": "2023-03-17T18:03:06.406Z"
   },
   {
    "duration": 199,
    "start_time": "2023-03-17T18:04:27.447Z"
   },
   {
    "duration": 2048,
    "start_time": "2023-03-17T18:04:40.795Z"
   },
   {
    "duration": 1784,
    "start_time": "2023-03-17T18:05:27.635Z"
   },
   {
    "duration": 1706,
    "start_time": "2023-03-17T18:05:30.982Z"
   },
   {
    "duration": 153,
    "start_time": "2023-03-17T18:05:52.276Z"
   },
   {
    "duration": 162,
    "start_time": "2023-03-17T18:06:07.387Z"
   },
   {
    "duration": 120,
    "start_time": "2023-03-17T18:06:12.572Z"
   },
   {
    "duration": 117,
    "start_time": "2023-03-17T18:06:17.896Z"
   },
   {
    "duration": 325,
    "start_time": "2023-03-17T18:06:21.376Z"
   },
   {
    "duration": 8,
    "start_time": "2023-03-17T18:06:21.703Z"
   },
   {
    "duration": 651,
    "start_time": "2023-03-17T18:06:21.712Z"
   },
   {
    "duration": 1382,
    "start_time": "2023-03-17T18:06:22.366Z"
   },
   {
    "duration": 238,
    "start_time": "2023-03-17T18:06:23.763Z"
   },
   {
    "duration": 1773,
    "start_time": "2023-03-17T18:06:24.003Z"
   },
   {
    "duration": 4,
    "start_time": "2023-03-17T18:06:25.778Z"
   },
   {
    "duration": 401,
    "start_time": "2023-03-17T18:06:25.785Z"
   },
   {
    "duration": 312,
    "start_time": "2023-03-17T18:06:26.188Z"
   },
   {
    "duration": 201,
    "start_time": "2023-03-17T18:06:26.503Z"
   },
   {
    "duration": 166,
    "start_time": "2023-03-17T18:06:26.706Z"
   },
   {
    "duration": 23,
    "start_time": "2023-03-17T18:06:26.874Z"
   },
   {
    "duration": 1738,
    "start_time": "2023-03-17T18:06:26.899Z"
   },
   {
    "duration": 47,
    "start_time": "2023-03-17T18:06:28.639Z"
   },
   {
    "duration": 850,
    "start_time": "2023-03-17T18:06:28.688Z"
   },
   {
    "duration": 32,
    "start_time": "2023-03-17T18:06:29.539Z"
   },
   {
    "duration": 170,
    "start_time": "2023-03-17T18:06:29.574Z"
   },
   {
    "duration": 187,
    "start_time": "2023-03-17T18:06:29.764Z"
   },
   {
    "duration": 3731,
    "start_time": "2023-03-17T18:06:29.953Z"
   },
   {
    "duration": 1894,
    "start_time": "2023-03-17T18:06:33.686Z"
   },
   {
    "duration": 1412,
    "start_time": "2023-03-17T18:06:35.582Z"
   },
   {
    "duration": 926,
    "start_time": "2023-03-17T18:06:36.996Z"
   },
   {
    "duration": 2186,
    "start_time": "2023-03-17T18:06:37.924Z"
   },
   {
    "duration": 4,
    "start_time": "2023-03-17T18:06:40.112Z"
   },
   {
    "duration": 46,
    "start_time": "2023-03-17T18:06:40.118Z"
   },
   {
    "duration": 582,
    "start_time": "2023-03-17T18:06:40.167Z"
   },
   {
    "duration": 620,
    "start_time": "2023-03-17T18:06:40.751Z"
   },
   {
    "duration": 623,
    "start_time": "2023-03-17T18:06:41.375Z"
   },
   {
    "duration": 582,
    "start_time": "2023-03-17T18:06:42.000Z"
   },
   {
    "duration": 227,
    "start_time": "2023-03-17T18:06:42.585Z"
   },
   {
    "duration": 1931,
    "start_time": "2023-03-17T18:07:11.257Z"
   },
   {
    "duration": 1474,
    "start_time": "2023-03-17T18:07:22.009Z"
   },
   {
    "duration": 1442,
    "start_time": "2023-03-17T18:07:40.777Z"
   },
   {
    "duration": 13,
    "start_time": "2023-03-17T18:07:49.959Z"
   },
   {
    "duration": 560,
    "start_time": "2023-03-17T18:08:08.223Z"
   },
   {
    "duration": 519,
    "start_time": "2023-03-17T18:08:22.479Z"
   },
   {
    "duration": 448,
    "start_time": "2023-03-17T18:08:49.321Z"
   },
   {
    "duration": 275,
    "start_time": "2023-03-17T18:08:52.170Z"
   },
   {
    "duration": 16,
    "start_time": "2023-03-17T18:08:52.448Z"
   },
   {
    "duration": 599,
    "start_time": "2023-03-17T18:08:52.466Z"
   },
   {
    "duration": 1619,
    "start_time": "2023-03-17T18:08:53.068Z"
   },
   {
    "duration": 207,
    "start_time": "2023-03-17T18:08:54.688Z"
   },
   {
    "duration": 1230,
    "start_time": "2023-03-17T18:08:54.897Z"
   },
   {
    "duration": 3,
    "start_time": "2023-03-17T18:08:56.129Z"
   },
   {
    "duration": 311,
    "start_time": "2023-03-17T18:08:56.134Z"
   },
   {
    "duration": 251,
    "start_time": "2023-03-17T18:08:56.463Z"
   },
   {
    "duration": 104,
    "start_time": "2023-03-17T18:08:56.718Z"
   },
   {
    "duration": 252,
    "start_time": "2023-03-17T18:08:56.824Z"
   },
   {
    "duration": 18,
    "start_time": "2023-03-17T18:08:57.078Z"
   },
   {
    "duration": 1302,
    "start_time": "2023-03-17T18:08:57.098Z"
   },
   {
    "duration": 62,
    "start_time": "2023-03-17T18:08:58.402Z"
   },
   {
    "duration": 529,
    "start_time": "2023-03-17T18:08:58.466Z"
   },
   {
    "duration": 5,
    "start_time": "2023-03-17T18:08:58.997Z"
   },
   {
    "duration": 196,
    "start_time": "2023-03-17T18:08:59.004Z"
   },
   {
    "duration": 92,
    "start_time": "2023-03-17T18:08:59.202Z"
   },
   {
    "duration": 3166,
    "start_time": "2023-03-17T18:08:59.296Z"
   },
   {
    "duration": 1643,
    "start_time": "2023-03-17T18:09:02.464Z"
   },
   {
    "duration": 1208,
    "start_time": "2023-03-17T18:09:04.109Z"
   },
   {
    "duration": 729,
    "start_time": "2023-03-17T18:09:05.363Z"
   },
   {
    "duration": 1887,
    "start_time": "2023-03-17T18:09:06.094Z"
   },
   {
    "duration": 1202,
    "start_time": "2023-03-17T18:09:07.989Z"
   },
   {
    "duration": 5,
    "start_time": "2023-03-17T18:09:09.193Z"
   },
   {
    "duration": 6,
    "start_time": "2023-03-17T18:09:09.199Z"
   },
   {
    "duration": 479,
    "start_time": "2023-03-17T18:09:09.207Z"
   },
   {
    "duration": 607,
    "start_time": "2023-03-17T18:09:09.690Z"
   },
   {
    "duration": 586,
    "start_time": "2023-03-17T18:09:10.299Z"
   },
   {
    "duration": 376,
    "start_time": "2023-03-17T18:09:10.888Z"
   },
   {
    "duration": 367,
    "start_time": "2023-03-17T18:09:45.818Z"
   },
   {
    "duration": 341,
    "start_time": "2023-03-17T18:09:51.300Z"
   },
   {
    "duration": 381,
    "start_time": "2023-03-17T18:09:54.408Z"
   },
   {
    "duration": 347,
    "start_time": "2023-03-17T18:09:55.918Z"
   },
   {
    "duration": 393,
    "start_time": "2023-03-17T18:09:57.248Z"
   },
   {
    "duration": 362,
    "start_time": "2023-03-17T18:10:00.624Z"
   },
   {
    "duration": 508,
    "start_time": "2023-03-17T18:10:25.460Z"
   },
   {
    "duration": 238,
    "start_time": "2023-03-17T18:10:28.051Z"
   },
   {
    "duration": 8,
    "start_time": "2023-03-17T18:10:28.291Z"
   },
   {
    "duration": 876,
    "start_time": "2023-03-17T18:10:28.301Z"
   },
   {
    "duration": 2194,
    "start_time": "2023-03-17T18:10:29.181Z"
   },
   {
    "duration": 323,
    "start_time": "2023-03-17T18:10:31.377Z"
   },
   {
    "duration": 2090,
    "start_time": "2023-03-17T18:10:31.702Z"
   },
   {
    "duration": 3,
    "start_time": "2023-03-17T18:10:33.795Z"
   },
   {
    "duration": 613,
    "start_time": "2023-03-17T18:10:33.864Z"
   },
   {
    "duration": 405,
    "start_time": "2023-03-17T18:10:34.479Z"
   },
   {
    "duration": 212,
    "start_time": "2023-03-17T18:10:34.888Z"
   },
   {
    "duration": 266,
    "start_time": "2023-03-17T18:10:35.103Z"
   },
   {
    "duration": 17,
    "start_time": "2023-03-17T18:10:35.371Z"
   },
   {
    "duration": 3377,
    "start_time": "2023-03-17T18:10:35.389Z"
   },
   {
    "duration": 96,
    "start_time": "2023-03-17T18:10:38.768Z"
   },
   {
    "duration": 908,
    "start_time": "2023-03-17T18:10:38.867Z"
   },
   {
    "duration": 6,
    "start_time": "2023-03-17T18:10:39.777Z"
   },
   {
    "duration": 220,
    "start_time": "2023-03-17T18:10:39.785Z"
   },
   {
    "duration": 260,
    "start_time": "2023-03-17T18:10:40.008Z"
   },
   {
    "duration": 5186,
    "start_time": "2023-03-17T18:10:40.270Z"
   },
   {
    "duration": 1679,
    "start_time": "2023-03-17T18:10:45.457Z"
   },
   {
    "duration": 726,
    "start_time": "2023-03-17T18:10:47.138Z"
   },
   {
    "duration": 614,
    "start_time": "2023-03-17T18:10:47.866Z"
   },
   {
    "duration": 1697,
    "start_time": "2023-03-17T18:10:48.482Z"
   },
   {
    "duration": 1153,
    "start_time": "2023-03-17T18:10:50.181Z"
   },
   {
    "duration": 30,
    "start_time": "2023-03-17T18:10:51.336Z"
   },
   {
    "duration": 6,
    "start_time": "2023-03-17T18:10:51.368Z"
   },
   {
    "duration": 593,
    "start_time": "2023-03-17T18:10:51.376Z"
   },
   {
    "duration": 362,
    "start_time": "2023-03-17T18:10:51.974Z"
   },
   {
    "duration": 0,
    "start_time": "2023-03-17T18:10:52.338Z"
   },
   {
    "duration": 0,
    "start_time": "2023-03-17T18:10:52.364Z"
   },
   {
    "duration": 0,
    "start_time": "2023-03-17T18:10:52.366Z"
   },
   {
    "duration": 464,
    "start_time": "2023-03-17T18:11:15.361Z"
   },
   {
    "duration": 275,
    "start_time": "2023-03-17T18:11:48.950Z"
   },
   {
    "duration": 8,
    "start_time": "2023-03-17T18:11:49.228Z"
   },
   {
    "duration": 562,
    "start_time": "2023-03-17T18:11:49.238Z"
   },
   {
    "duration": 1469,
    "start_time": "2023-03-17T18:11:49.802Z"
   },
   {
    "duration": 202,
    "start_time": "2023-03-17T18:11:51.273Z"
   },
   {
    "duration": 1188,
    "start_time": "2023-03-17T18:11:51.477Z"
   },
   {
    "duration": 3,
    "start_time": "2023-03-17T18:11:52.667Z"
   },
   {
    "duration": 318,
    "start_time": "2023-03-17T18:11:52.672Z"
   },
   {
    "duration": 200,
    "start_time": "2023-03-17T18:11:52.992Z"
   },
   {
    "duration": 150,
    "start_time": "2023-03-17T18:11:53.195Z"
   },
   {
    "duration": 158,
    "start_time": "2023-03-17T18:11:53.347Z"
   },
   {
    "duration": 19,
    "start_time": "2023-03-17T18:11:53.507Z"
   },
   {
    "duration": 1357,
    "start_time": "2023-03-17T18:11:53.528Z"
   },
   {
    "duration": 32,
    "start_time": "2023-03-17T18:11:54.887Z"
   },
   {
    "duration": 858,
    "start_time": "2023-03-17T18:11:54.921Z"
   },
   {
    "duration": 6,
    "start_time": "2023-03-17T18:11:55.782Z"
   },
   {
    "duration": 230,
    "start_time": "2023-03-17T18:11:55.790Z"
   },
   {
    "duration": 142,
    "start_time": "2023-03-17T18:11:56.022Z"
   },
   {
    "duration": 3041,
    "start_time": "2023-03-17T18:11:56.166Z"
   },
   {
    "duration": 1607,
    "start_time": "2023-03-17T18:11:59.208Z"
   },
   {
    "duration": 647,
    "start_time": "2023-03-17T18:12:00.817Z"
   },
   {
    "duration": 655,
    "start_time": "2023-03-17T18:12:01.466Z"
   },
   {
    "duration": 1563,
    "start_time": "2023-03-17T18:12:02.123Z"
   },
   {
    "duration": 853,
    "start_time": "2023-03-17T18:12:03.688Z"
   },
   {
    "duration": 6,
    "start_time": "2023-03-17T18:12:04.543Z"
   },
   {
    "duration": 21,
    "start_time": "2023-03-17T18:12:04.551Z"
   },
   {
    "duration": 356,
    "start_time": "2023-03-17T18:12:04.575Z"
   },
   {
    "duration": 394,
    "start_time": "2023-03-17T18:12:04.935Z"
   },
   {
    "duration": 0,
    "start_time": "2023-03-17T18:12:05.331Z"
   },
   {
    "duration": 0,
    "start_time": "2023-03-17T18:12:05.332Z"
   },
   {
    "duration": 0,
    "start_time": "2023-03-17T18:12:05.334Z"
   },
   {
    "duration": 23,
    "start_time": "2023-03-17T18:12:39.055Z"
   },
   {
    "duration": 33,
    "start_time": "2023-03-17T18:12:42.717Z"
   },
   {
    "duration": 1008,
    "start_time": "2023-03-17T18:12:51.383Z"
   },
   {
    "duration": 27,
    "start_time": "2023-03-17T18:13:05.887Z"
   },
   {
    "duration": 298,
    "start_time": "2023-03-17T18:13:09.999Z"
   },
   {
    "duration": 806,
    "start_time": "2023-03-17T18:13:55.826Z"
   },
   {
    "duration": 15,
    "start_time": "2023-03-17T18:33:01.235Z"
   },
   {
    "duration": 12,
    "start_time": "2023-03-17T18:42:27.116Z"
   },
   {
    "duration": 264,
    "start_time": "2023-03-17T18:43:08.499Z"
   },
   {
    "duration": 12,
    "start_time": "2023-03-17T18:43:16.697Z"
   },
   {
    "duration": 355,
    "start_time": "2023-03-17T18:43:21.054Z"
   },
   {
    "duration": 8,
    "start_time": "2023-03-17T18:43:21.411Z"
   },
   {
    "duration": 594,
    "start_time": "2023-03-17T18:43:21.421Z"
   },
   {
    "duration": 2364,
    "start_time": "2023-03-17T18:43:22.018Z"
   },
   {
    "duration": 252,
    "start_time": "2023-03-17T18:43:24.383Z"
   },
   {
    "duration": 1478,
    "start_time": "2023-03-17T18:43:24.637Z"
   },
   {
    "duration": 4,
    "start_time": "2023-03-17T18:43:26.117Z"
   },
   {
    "duration": 335,
    "start_time": "2023-03-17T18:43:26.123Z"
   },
   {
    "duration": 349,
    "start_time": "2023-03-17T18:43:26.460Z"
   },
   {
    "duration": 133,
    "start_time": "2023-03-17T18:43:26.813Z"
   },
   {
    "duration": 224,
    "start_time": "2023-03-17T18:43:26.948Z"
   },
   {
    "duration": 26,
    "start_time": "2023-03-17T18:43:27.185Z"
   },
   {
    "duration": 1638,
    "start_time": "2023-03-17T18:43:27.214Z"
   },
   {
    "duration": 108,
    "start_time": "2023-03-17T18:43:28.866Z"
   },
   {
    "duration": 593,
    "start_time": "2023-03-17T18:43:28.985Z"
   },
   {
    "duration": 8,
    "start_time": "2023-03-17T18:43:29.580Z"
   },
   {
    "duration": 125,
    "start_time": "2023-03-17T18:43:29.591Z"
   },
   {
    "duration": 108,
    "start_time": "2023-03-17T18:43:29.717Z"
   },
   {
    "duration": 3577,
    "start_time": "2023-03-17T18:43:29.827Z"
   },
   {
    "duration": 2043,
    "start_time": "2023-03-17T18:43:33.407Z"
   },
   {
    "duration": 1237,
    "start_time": "2023-03-17T18:43:35.452Z"
   },
   {
    "duration": 1013,
    "start_time": "2023-03-17T18:43:36.691Z"
   },
   {
    "duration": 1352,
    "start_time": "2023-03-17T18:43:37.706Z"
   },
   {
    "duration": 1343,
    "start_time": "2023-03-17T18:43:39.060Z"
   },
   {
    "duration": 6,
    "start_time": "2023-03-17T18:43:40.405Z"
   },
   {
    "duration": 20,
    "start_time": "2023-03-17T18:43:40.413Z"
   },
   {
    "duration": 659,
    "start_time": "2023-03-17T18:43:40.435Z"
   },
   {
    "duration": 88,
    "start_time": "2023-03-17T18:43:41.098Z"
   },
   {
    "duration": 15,
    "start_time": "2023-03-17T18:43:41.191Z"
   },
   {
    "duration": 0,
    "start_time": "2023-03-17T18:43:41.208Z"
   },
   {
    "duration": 0,
    "start_time": "2023-03-17T18:43:41.209Z"
   },
   {
    "duration": 0,
    "start_time": "2023-03-17T18:43:41.275Z"
   },
   {
    "duration": 1081,
    "start_time": "2023-03-17T18:43:55.646Z"
   },
   {
    "duration": 25,
    "start_time": "2023-03-17T18:45:10.356Z"
   },
   {
    "duration": 98,
    "start_time": "2023-03-17T18:45:32.240Z"
   },
   {
    "duration": 6013,
    "start_time": "2023-03-17T18:45:36.186Z"
   },
   {
    "duration": 46,
    "start_time": "2023-03-17T18:46:01.705Z"
   },
   {
    "duration": 3339,
    "start_time": "2023-03-17T18:46:04.276Z"
   },
   {
    "duration": 15,
    "start_time": "2023-03-17T18:46:07.620Z"
   },
   {
    "duration": 678,
    "start_time": "2023-03-17T18:46:07.638Z"
   },
   {
    "duration": 1495,
    "start_time": "2023-03-17T18:46:08.318Z"
   },
   {
    "duration": 295,
    "start_time": "2023-03-17T18:46:09.816Z"
   },
   {
    "duration": 1340,
    "start_time": "2023-03-17T18:46:10.115Z"
   },
   {
    "duration": 4,
    "start_time": "2023-03-17T18:46:11.457Z"
   },
   {
    "duration": 397,
    "start_time": "2023-03-17T18:46:11.463Z"
   },
   {
    "duration": 303,
    "start_time": "2023-03-17T18:46:11.864Z"
   },
   {
    "duration": 119,
    "start_time": "2023-03-17T18:46:12.174Z"
   },
   {
    "duration": 153,
    "start_time": "2023-03-17T18:46:12.296Z"
   },
   {
    "duration": 22,
    "start_time": "2023-03-17T18:46:12.452Z"
   },
   {
    "duration": 1946,
    "start_time": "2023-03-17T18:46:12.476Z"
   },
   {
    "duration": 73,
    "start_time": "2023-03-17T18:46:14.427Z"
   },
   {
    "duration": 872,
    "start_time": "2023-03-17T18:46:14.503Z"
   },
   {
    "duration": 10,
    "start_time": "2023-03-17T18:46:15.379Z"
   },
   {
    "duration": 149,
    "start_time": "2023-03-17T18:46:15.391Z"
   },
   {
    "duration": 169,
    "start_time": "2023-03-17T18:46:15.542Z"
   },
   {
    "duration": 3906,
    "start_time": "2023-03-17T18:46:15.714Z"
   },
   {
    "duration": 1670,
    "start_time": "2023-03-17T18:46:19.622Z"
   },
   {
    "duration": 753,
    "start_time": "2023-03-17T18:46:21.297Z"
   },
   {
    "duration": 667,
    "start_time": "2023-03-17T18:46:22.069Z"
   },
   {
    "duration": 1443,
    "start_time": "2023-03-17T18:46:22.738Z"
   },
   {
    "duration": 1070,
    "start_time": "2023-03-17T18:46:24.183Z"
   },
   {
    "duration": 19,
    "start_time": "2023-03-17T18:46:25.255Z"
   },
   {
    "duration": 32,
    "start_time": "2023-03-17T18:46:25.276Z"
   },
   {
    "duration": 340,
    "start_time": "2023-03-17T18:46:25.311Z"
   },
   {
    "duration": 52,
    "start_time": "2023-03-17T18:46:25.654Z"
   },
   {
    "duration": 27,
    "start_time": "2023-03-17T18:46:25.708Z"
   },
   {
    "duration": 0,
    "start_time": "2023-03-17T18:46:25.772Z"
   },
   {
    "duration": 0,
    "start_time": "2023-03-17T18:46:25.773Z"
   },
   {
    "duration": 0,
    "start_time": "2023-03-17T18:46:25.774Z"
   },
   {
    "duration": 307,
    "start_time": "2023-03-17T18:46:36.097Z"
   },
   {
    "duration": 19,
    "start_time": "2023-03-17T18:49:07.998Z"
   },
   {
    "duration": 14,
    "start_time": "2023-03-17T18:49:12.941Z"
   },
   {
    "duration": 277,
    "start_time": "2023-03-17T18:49:42.306Z"
   },
   {
    "duration": 278,
    "start_time": "2023-03-17T18:49:46.718Z"
   },
   {
    "duration": 11,
    "start_time": "2023-03-17T18:49:46.999Z"
   },
   {
    "duration": 511,
    "start_time": "2023-03-17T18:49:47.012Z"
   },
   {
    "duration": 1314,
    "start_time": "2023-03-17T18:49:47.525Z"
   },
   {
    "duration": 192,
    "start_time": "2023-03-17T18:49:48.841Z"
   },
   {
    "duration": 1334,
    "start_time": "2023-03-17T18:49:49.036Z"
   },
   {
    "duration": 8,
    "start_time": "2023-03-17T18:49:50.373Z"
   },
   {
    "duration": 368,
    "start_time": "2023-03-17T18:49:50.390Z"
   },
   {
    "duration": 258,
    "start_time": "2023-03-17T18:49:50.760Z"
   },
   {
    "duration": 179,
    "start_time": "2023-03-17T18:49:51.022Z"
   },
   {
    "duration": 129,
    "start_time": "2023-03-17T18:49:51.203Z"
   },
   {
    "duration": 46,
    "start_time": "2023-03-17T18:49:51.335Z"
   },
   {
    "duration": 1636,
    "start_time": "2023-03-17T18:49:51.384Z"
   },
   {
    "duration": 59,
    "start_time": "2023-03-17T18:49:53.022Z"
   },
   {
    "duration": 615,
    "start_time": "2023-03-17T18:49:53.084Z"
   },
   {
    "duration": 5,
    "start_time": "2023-03-17T18:49:53.701Z"
   },
   {
    "duration": 127,
    "start_time": "2023-03-17T18:49:53.708Z"
   },
   {
    "duration": 180,
    "start_time": "2023-03-17T18:49:53.837Z"
   },
   {
    "duration": 3990,
    "start_time": "2023-03-17T18:49:54.019Z"
   },
   {
    "duration": 2179,
    "start_time": "2023-03-17T18:49:58.011Z"
   },
   {
    "duration": 808,
    "start_time": "2023-03-17T18:50:00.192Z"
   },
   {
    "duration": 763,
    "start_time": "2023-03-17T18:50:01.001Z"
   },
   {
    "duration": 1239,
    "start_time": "2023-03-17T18:50:01.767Z"
   },
   {
    "duration": 1002,
    "start_time": "2023-03-17T18:50:03.008Z"
   },
   {
    "duration": 7,
    "start_time": "2023-03-17T18:50:04.012Z"
   },
   {
    "duration": 6,
    "start_time": "2023-03-17T18:50:04.021Z"
   },
   {
    "duration": 412,
    "start_time": "2023-03-17T18:50:04.029Z"
   },
   {
    "duration": 72,
    "start_time": "2023-03-17T18:50:04.445Z"
   },
   {
    "duration": 15,
    "start_time": "2023-03-17T18:50:04.520Z"
   },
   {
    "duration": 0,
    "start_time": "2023-03-17T18:50:04.537Z"
   },
   {
    "duration": 0,
    "start_time": "2023-03-17T18:50:04.539Z"
   },
   {
    "duration": 0,
    "start_time": "2023-03-17T18:50:04.541Z"
   },
   {
    "duration": 11,
    "start_time": "2023-03-17T18:52:43.835Z"
   },
   {
    "duration": 32,
    "start_time": "2023-03-17T18:53:53.997Z"
   },
   {
    "duration": 210,
    "start_time": "2023-03-17T18:53:56.543Z"
   },
   {
    "duration": 1008,
    "start_time": "2023-03-17T18:54:09.509Z"
   },
   {
    "duration": 1613,
    "start_time": "2023-03-17T18:54:17.607Z"
   },
   {
    "duration": 14,
    "start_time": "2023-03-17T18:54:24.393Z"
   },
   {
    "duration": 6,
    "start_time": "2023-03-17T18:54:30.229Z"
   },
   {
    "duration": 26,
    "start_time": "2023-03-17T18:54:44.709Z"
   },
   {
    "duration": 13,
    "start_time": "2023-03-17T18:54:50.846Z"
   },
   {
    "duration": 998,
    "start_time": "2023-03-17T18:55:46.469Z"
   },
   {
    "duration": 25797,
    "start_time": "2023-03-18T08:06:12.579Z"
   },
   {
    "duration": 101,
    "start_time": "2023-03-18T08:06:38.379Z"
   },
   {
    "duration": 5032,
    "start_time": "2023-03-18T08:06:38.482Z"
   },
   {
    "duration": 4453,
    "start_time": "2023-03-18T08:06:43.516Z"
   },
   {
    "duration": 698,
    "start_time": "2023-03-18T08:06:47.971Z"
   },
   {
    "duration": 2793,
    "start_time": "2023-03-18T08:06:48.671Z"
   },
   {
    "duration": 4,
    "start_time": "2023-03-18T08:06:51.466Z"
   },
   {
    "duration": 1036,
    "start_time": "2023-03-18T08:06:51.473Z"
   },
   {
    "duration": 1397,
    "start_time": "2023-03-18T08:06:52.511Z"
   },
   {
    "duration": 338,
    "start_time": "2023-03-18T08:06:53.965Z"
   },
   {
    "duration": 561,
    "start_time": "2023-03-18T08:06:54.305Z"
   },
   {
    "duration": 47,
    "start_time": "2023-03-18T08:06:54.868Z"
   },
   {
    "duration": 2753,
    "start_time": "2023-03-18T08:06:54.962Z"
   },
   {
    "duration": 74,
    "start_time": "2023-03-18T08:06:57.717Z"
   },
   {
    "duration": 2089,
    "start_time": "2023-03-18T08:06:57.793Z"
   },
   {
    "duration": 7,
    "start_time": "2023-03-18T08:06:59.884Z"
   },
   {
    "duration": 479,
    "start_time": "2023-03-18T08:06:59.893Z"
   },
   {
    "duration": 349,
    "start_time": "2023-03-18T08:07:00.374Z"
   },
   {
    "duration": 7436,
    "start_time": "2023-03-18T08:07:00.725Z"
   },
   {
    "duration": 1948,
    "start_time": "2023-03-18T08:07:08.163Z"
   },
   {
    "duration": 279,
    "start_time": "2023-03-18T08:07:10.112Z"
   },
   {
    "duration": 2784,
    "start_time": "2023-03-18T08:07:10.393Z"
   },
   {
    "duration": 1699,
    "start_time": "2023-03-18T08:07:13.178Z"
   },
   {
    "duration": 5116,
    "start_time": "2023-03-18T08:07:14.879Z"
   },
   {
    "duration": 2197,
    "start_time": "2023-03-18T08:07:19.997Z"
   },
   {
    "duration": 6,
    "start_time": "2023-03-18T08:07:22.196Z"
   },
   {
    "duration": 7,
    "start_time": "2023-03-18T08:07:22.203Z"
   },
   {
    "duration": 905,
    "start_time": "2023-03-18T08:07:22.261Z"
   },
   {
    "duration": 30,
    "start_time": "2023-03-18T08:07:23.168Z"
   },
   {
    "duration": 2,
    "start_time": "2023-03-18T08:07:23.201Z"
   },
   {
    "duration": 2250,
    "start_time": "2023-03-18T08:07:23.206Z"
   },
   {
    "duration": 0,
    "start_time": "2023-03-18T08:07:25.458Z"
   },
   {
    "duration": 0,
    "start_time": "2023-03-18T08:07:25.459Z"
   },
   {
    "duration": 445,
    "start_time": "2023-03-18T08:21:58.178Z"
   },
   {
    "duration": 387,
    "start_time": "2023-03-18T08:23:29.413Z"
   },
   {
    "duration": 9,
    "start_time": "2023-03-18T08:23:29.802Z"
   },
   {
    "duration": 1382,
    "start_time": "2023-03-18T08:23:29.813Z"
   },
   {
    "duration": 2076,
    "start_time": "2023-03-18T08:23:31.198Z"
   },
   {
    "duration": 385,
    "start_time": "2023-03-18T08:23:33.276Z"
   },
   {
    "duration": 1804,
    "start_time": "2023-03-18T08:23:33.667Z"
   },
   {
    "duration": 4,
    "start_time": "2023-03-18T08:23:46.548Z"
   },
   {
    "duration": 9,
    "start_time": "2023-03-18T08:25:59.303Z"
   },
   {
    "duration": 14,
    "start_time": "2023-03-18T08:28:23.110Z"
   },
   {
    "duration": 15,
    "start_time": "2023-03-18T08:29:08.905Z"
   },
   {
    "duration": 17,
    "start_time": "2023-03-18T08:29:18.921Z"
   },
   {
    "duration": 11,
    "start_time": "2023-03-18T08:30:34.215Z"
   },
   {
    "duration": 8,
    "start_time": "2023-03-18T08:30:36.407Z"
   },
   {
    "duration": 13,
    "start_time": "2023-03-18T08:31:02.238Z"
   },
   {
    "duration": 13,
    "start_time": "2023-03-18T08:31:10.609Z"
   },
   {
    "duration": 10,
    "start_time": "2023-03-18T08:33:04.393Z"
   },
   {
    "duration": 1111,
    "start_time": "2023-03-18T08:34:14.853Z"
   },
   {
    "duration": 11,
    "start_time": "2023-03-18T08:42:38.194Z"
   },
   {
    "duration": 4,
    "start_time": "2023-03-18T08:42:50.543Z"
   },
   {
    "duration": 13876,
    "start_time": "2023-03-18T08:43:05.343Z"
   },
   {
    "duration": 4038,
    "start_time": "2023-03-18T08:46:33.728Z"
   },
   {
    "duration": 161,
    "start_time": "2023-03-18T08:46:45.416Z"
   },
   {
    "duration": 568,
    "start_time": "2023-03-18T08:48:13.013Z"
   },
   {
    "duration": 740,
    "start_time": "2023-03-18T08:49:02.851Z"
   },
   {
    "duration": 819,
    "start_time": "2023-03-18T08:49:57.176Z"
   },
   {
    "duration": 513,
    "start_time": "2023-03-18T08:50:03.507Z"
   },
   {
    "duration": 294,
    "start_time": "2023-03-18T08:50:51.171Z"
   },
   {
    "duration": 8,
    "start_time": "2023-03-18T08:50:51.467Z"
   },
   {
    "duration": 1113,
    "start_time": "2023-03-18T08:50:51.477Z"
   },
   {
    "duration": 1874,
    "start_time": "2023-03-18T08:50:52.593Z"
   },
   {
    "duration": 223,
    "start_time": "2023-03-18T08:50:54.469Z"
   },
   {
    "duration": 1529,
    "start_time": "2023-03-18T08:50:54.694Z"
   },
   {
    "duration": 4,
    "start_time": "2023-03-18T08:50:56.224Z"
   },
   {
    "duration": 13,
    "start_time": "2023-03-18T08:50:56.229Z"
   },
   {
    "duration": 36,
    "start_time": "2023-03-18T08:50:56.244Z"
   },
   {
    "duration": 8,
    "start_time": "2023-03-18T08:50:56.283Z"
   },
   {
    "duration": 512,
    "start_time": "2023-03-18T08:50:56.294Z"
   },
   {
    "duration": 10,
    "start_time": "2023-03-18T08:50:56.809Z"
   },
   {
    "duration": 42,
    "start_time": "2023-03-18T08:50:56.821Z"
   },
   {
    "duration": 13224,
    "start_time": "2023-03-18T08:50:56.866Z"
   },
   {
    "duration": 3078,
    "start_time": "2023-03-18T08:51:10.093Z"
   },
   {
    "duration": 472,
    "start_time": "2023-03-18T08:51:13.173Z"
   },
   {
    "duration": 453,
    "start_time": "2023-03-18T08:51:22.007Z"
   },
   {
    "duration": 567,
    "start_time": "2023-03-18T08:51:49.945Z"
   },
   {
    "duration": 540,
    "start_time": "2023-03-18T08:52:19.888Z"
   },
   {
    "duration": 464,
    "start_time": "2023-03-18T09:03:00.060Z"
   },
   {
    "duration": 426,
    "start_time": "2023-03-18T09:12:28.371Z"
   },
   {
    "duration": 247,
    "start_time": "2023-03-18T09:12:31.777Z"
   },
   {
    "duration": 40,
    "start_time": "2023-03-18T09:12:32.026Z"
   },
   {
    "duration": 726,
    "start_time": "2023-03-18T09:12:32.068Z"
   },
   {
    "duration": 1392,
    "start_time": "2023-03-18T09:12:32.796Z"
   },
   {
    "duration": 209,
    "start_time": "2023-03-18T09:12:34.190Z"
   },
   {
    "duration": 1327,
    "start_time": "2023-03-18T09:12:34.401Z"
   },
   {
    "duration": 4,
    "start_time": "2023-03-18T09:12:35.729Z"
   },
   {
    "duration": 468,
    "start_time": "2023-03-18T09:12:35.734Z"
   },
   {
    "duration": 273,
    "start_time": "2023-03-18T09:12:40.398Z"
   },
   {
    "duration": 101,
    "start_time": "2023-03-18T09:12:43.599Z"
   },
   {
    "duration": 231,
    "start_time": "2023-03-18T09:12:47.836Z"
   },
   {
    "duration": 20,
    "start_time": "2023-03-18T09:12:50.967Z"
   },
   {
    "duration": 31,
    "start_time": "2023-03-18T09:13:39.995Z"
   },
   {
    "duration": 511,
    "start_time": "2023-03-18T09:13:41.802Z"
   },
   {
    "duration": 7,
    "start_time": "2023-03-18T09:13:43.721Z"
   },
   {
    "duration": 201,
    "start_time": "2023-03-18T09:13:49.965Z"
   },
   {
    "duration": 132,
    "start_time": "2023-03-18T09:13:52.793Z"
   },
   {
    "duration": 2926,
    "start_time": "2023-03-18T09:13:56.744Z"
   },
   {
    "duration": 1624,
    "start_time": "2023-03-18T09:14:02.667Z"
   },
   {
    "duration": 159,
    "start_time": "2023-03-18T09:14:20.060Z"
   },
   {
    "duration": 62,
    "start_time": "2023-03-18T09:14:23.324Z"
   },
   {
    "duration": 105,
    "start_time": "2023-03-18T09:14:25.922Z"
   },
   {
    "duration": 1333,
    "start_time": "2023-03-18T09:14:28.985Z"
   },
   {
    "duration": 685,
    "start_time": "2023-03-18T09:14:32.561Z"
   },
   {
    "duration": 1629,
    "start_time": "2023-03-18T09:14:35.560Z"
   },
   {
    "duration": 1027,
    "start_time": "2023-03-18T09:14:40.076Z"
   },
   {
    "duration": 6,
    "start_time": "2023-03-18T09:14:42.898Z"
   },
   {
    "duration": 5,
    "start_time": "2023-03-18T09:14:44.996Z"
   },
   {
    "duration": 461,
    "start_time": "2023-03-18T09:14:51.316Z"
   },
   {
    "duration": 16,
    "start_time": "2023-03-18T09:14:57.804Z"
   },
   {
    "duration": 30,
    "start_time": "2023-03-18T09:15:03.136Z"
   },
   {
    "duration": 485,
    "start_time": "2023-03-18T09:15:14.826Z"
   },
   {
    "duration": 10,
    "start_time": "2023-03-18T09:15:36.223Z"
   },
   {
    "duration": 8,
    "start_time": "2023-03-18T09:15:46.877Z"
   },
   {
    "duration": 10,
    "start_time": "2023-03-18T09:15:52.890Z"
   },
   {
    "duration": 905,
    "start_time": "2023-03-18T09:16:09.934Z"
   },
   {
    "duration": 926,
    "start_time": "2023-03-18T09:16:28.672Z"
   },
   {
    "duration": 849,
    "start_time": "2023-03-18T09:16:37.157Z"
   },
   {
    "duration": 353,
    "start_time": "2023-03-18T09:28:20.770Z"
   },
   {
    "duration": 10,
    "start_time": "2023-03-18T09:28:21.125Z"
   },
   {
    "duration": 747,
    "start_time": "2023-03-18T09:28:21.137Z"
   },
   {
    "duration": 1284,
    "start_time": "2023-03-18T09:28:21.887Z"
   },
   {
    "duration": 212,
    "start_time": "2023-03-18T09:28:23.172Z"
   },
   {
    "duration": 1506,
    "start_time": "2023-03-18T09:28:23.386Z"
   },
   {
    "duration": 3,
    "start_time": "2023-03-18T09:28:24.894Z"
   },
   {
    "duration": 434,
    "start_time": "2023-03-18T09:28:24.899Z"
   },
   {
    "duration": 245,
    "start_time": "2023-03-18T09:28:25.334Z"
   },
   {
    "duration": 120,
    "start_time": "2023-03-18T09:28:25.582Z"
   },
   {
    "duration": 115,
    "start_time": "2023-03-18T09:28:25.704Z"
   },
   {
    "duration": 19,
    "start_time": "2023-03-18T09:28:25.821Z"
   },
   {
    "duration": 1946,
    "start_time": "2023-03-18T09:28:25.842Z"
   },
   {
    "duration": 37,
    "start_time": "2023-03-18T09:28:27.791Z"
   },
   {
    "duration": 943,
    "start_time": "2023-03-18T09:28:27.830Z"
   },
   {
    "duration": 6,
    "start_time": "2023-03-18T09:28:28.775Z"
   },
   {
    "duration": 219,
    "start_time": "2023-03-18T09:28:28.784Z"
   },
   {
    "duration": 143,
    "start_time": "2023-03-18T09:28:29.005Z"
   },
   {
    "duration": 3306,
    "start_time": "2023-03-18T09:28:29.150Z"
   },
   {
    "duration": 1635,
    "start_time": "2023-03-18T09:28:32.460Z"
   },
   {
    "duration": 1194,
    "start_time": "2023-03-18T09:28:34.098Z"
   },
   {
    "duration": 703,
    "start_time": "2023-03-18T09:28:35.293Z"
   },
   {
    "duration": 1870,
    "start_time": "2023-03-18T09:28:35.998Z"
   },
   {
    "duration": 1198,
    "start_time": "2023-03-18T09:28:37.869Z"
   },
   {
    "duration": 5,
    "start_time": "2023-03-18T09:28:39.069Z"
   },
   {
    "duration": 7,
    "start_time": "2023-03-18T09:28:39.076Z"
   },
   {
    "duration": 716,
    "start_time": "2023-03-18T09:28:39.085Z"
   },
   {
    "duration": 295,
    "start_time": "2023-03-18T09:28:39.806Z"
   },
   {
    "duration": 906,
    "start_time": "2023-03-18T09:28:40.104Z"
   },
   {
    "duration": 742,
    "start_time": "2023-03-18T09:28:41.012Z"
   },
   {
    "duration": 601,
    "start_time": "2023-03-18T09:28:41.757Z"
   },
   {
    "duration": 740,
    "start_time": "2023-03-19T14:32:42.003Z"
   },
   {
    "duration": 25798,
    "start_time": "2023-03-19T14:35:12.913Z"
   },
   {
    "duration": 42,
    "start_time": "2023-03-19T14:36:54.912Z"
   },
   {
    "duration": 4382,
    "start_time": "2023-03-19T14:37:08.304Z"
   },
   {
    "duration": 3689,
    "start_time": "2023-03-19T14:37:17.792Z"
   },
   {
    "duration": 564,
    "start_time": "2023-03-19T14:37:23.829Z"
   },
   {
    "duration": 2320,
    "start_time": "2023-03-19T14:37:28.194Z"
   },
   {
    "duration": 2,
    "start_time": "2023-03-19T14:37:33.565Z"
   },
   {
    "duration": 11,
    "start_time": "2023-03-19T14:38:57.183Z"
   },
   {
    "duration": 85,
    "start_time": "2023-03-19T14:39:54.908Z"
   },
   {
    "duration": 183,
    "start_time": "2023-03-19T14:40:03.536Z"
   },
   {
    "duration": 111,
    "start_time": "2023-03-19T14:40:26.234Z"
   },
   {
    "duration": 1375,
    "start_time": "2023-03-19T14:42:58.820Z"
   },
   {
    "duration": 72,
    "start_time": "2023-03-19T14:43:17.336Z"
   },
   {
    "duration": 811,
    "start_time": "2023-03-19T14:43:55.385Z"
   },
   {
    "duration": 1787,
    "start_time": "2023-03-19T14:44:42.720Z"
   },
   {
    "duration": 238,
    "start_time": "2023-03-19T14:45:27.243Z"
   },
   {
    "duration": 245,
    "start_time": "2023-03-19T14:45:38.700Z"
   },
   {
    "duration": 125,
    "start_time": "2023-03-19T14:45:41.419Z"
   },
   {
    "duration": 273,
    "start_time": "2023-03-19T14:45:49.007Z"
   },
   {
    "duration": 528,
    "start_time": "2023-03-19T14:45:55.688Z"
   },
   {
    "duration": 583,
    "start_time": "2023-03-19T14:46:47.097Z"
   },
   {
    "duration": 743,
    "start_time": "2023-03-19T14:46:49.186Z"
   },
   {
    "duration": 512,
    "start_time": "2023-03-19T14:46:57.286Z"
   },
   {
    "duration": 265,
    "start_time": "2023-03-19T14:47:02.089Z"
   },
   {
    "duration": 951,
    "start_time": "2023-03-19T14:47:15.863Z"
   },
   {
    "duration": 382,
    "start_time": "2023-03-19T14:47:40.790Z"
   },
   {
    "duration": 253,
    "start_time": "2023-03-19T14:47:53.962Z"
   },
   {
    "duration": 279,
    "start_time": "2023-03-19T14:47:56.334Z"
   },
   {
    "duration": 116,
    "start_time": "2023-03-19T14:48:22.121Z"
   },
   {
    "duration": 9,
    "start_time": "2023-03-19T14:48:52.237Z"
   },
   {
    "duration": 452,
    "start_time": "2023-03-19T14:48:52.248Z"
   },
   {
    "duration": 7,
    "start_time": "2023-03-19T14:48:52.702Z"
   },
   {
    "duration": 1480,
    "start_time": "2023-03-19T14:48:52.711Z"
   },
   {
    "duration": 1687,
    "start_time": "2023-03-19T14:48:54.194Z"
   },
   {
    "duration": 442,
    "start_time": "2023-03-19T14:48:55.883Z"
   },
   {
    "duration": 1503,
    "start_time": "2023-03-19T14:48:56.380Z"
   },
   {
    "duration": 3,
    "start_time": "2023-03-19T14:48:57.884Z"
   },
   {
    "duration": 20,
    "start_time": "2023-03-19T14:48:57.888Z"
   },
   {
    "duration": 606,
    "start_time": "2023-03-19T14:48:57.909Z"
   },
   {
    "duration": 617,
    "start_time": "2023-03-19T14:48:58.518Z"
   },
   {
    "duration": 461,
    "start_time": "2023-03-19T14:48:59.137Z"
   },
   {
    "duration": 229,
    "start_time": "2023-03-19T14:48:59.600Z"
   },
   {
    "duration": 232,
    "start_time": "2023-03-19T14:49:18.600Z"
   },
   {
    "duration": 107,
    "start_time": "2023-03-19T14:49:24.902Z"
   },
   {
    "duration": 555,
    "start_time": "2023-03-19T14:49:53.762Z"
   },
   {
    "duration": 37,
    "start_time": "2023-03-19T14:49:57.350Z"
   },
   {
    "duration": 753,
    "start_time": "2023-03-19T14:50:06.190Z"
   },
   {
    "duration": 300,
    "start_time": "2023-03-19T14:50:11.757Z"
   },
   {
    "duration": 45,
    "start_time": "2023-03-19T14:50:30.307Z"
   },
   {
    "duration": 1767,
    "start_time": "2023-03-19T14:50:49.837Z"
   },
   {
    "duration": 6,
    "start_time": "2023-03-19T14:50:59.185Z"
   },
   {
    "duration": 162,
    "start_time": "2023-03-19T14:51:10.641Z"
   },
   {
    "duration": 116,
    "start_time": "2023-03-19T14:51:14.246Z"
   },
   {
    "duration": 7,
    "start_time": "2023-03-19T14:51:42.614Z"
   },
   {
    "duration": 109,
    "start_time": "2023-03-19T14:51:51.312Z"
   },
   {
    "duration": 8,
    "start_time": "2023-03-19T14:51:54.034Z"
   },
   {
    "duration": 439,
    "start_time": "2023-03-19T14:51:54.044Z"
   },
   {
    "duration": 7,
    "start_time": "2023-03-19T14:51:54.485Z"
   },
   {
    "duration": 928,
    "start_time": "2023-03-19T14:51:54.494Z"
   },
   {
    "duration": 2011,
    "start_time": "2023-03-19T14:51:55.480Z"
   },
   {
    "duration": 423,
    "start_time": "2023-03-19T14:51:57.493Z"
   },
   {
    "duration": 1712,
    "start_time": "2023-03-19T14:51:57.918Z"
   },
   {
    "duration": 3,
    "start_time": "2023-03-19T14:51:59.631Z"
   },
   {
    "duration": 14,
    "start_time": "2023-03-19T14:51:59.636Z"
   },
   {
    "duration": 539,
    "start_time": "2023-03-19T14:51:59.652Z"
   },
   {
    "duration": 539,
    "start_time": "2023-03-19T14:52:00.193Z"
   },
   {
    "duration": 562,
    "start_time": "2023-03-19T14:52:00.734Z"
   },
   {
    "duration": 382,
    "start_time": "2023-03-19T14:52:01.298Z"
   },
   {
    "duration": 364,
    "start_time": "2023-03-19T14:52:01.682Z"
   },
   {
    "duration": 42,
    "start_time": "2023-03-19T14:52:02.048Z"
   },
   {
    "duration": 287,
    "start_time": "2023-03-19T14:52:02.093Z"
   },
   {
    "duration": 34,
    "start_time": "2023-03-19T14:52:02.382Z"
   },
   {
    "duration": 1061,
    "start_time": "2023-03-19T14:52:02.418Z"
   },
   {
    "duration": 5,
    "start_time": "2023-03-19T14:52:03.481Z"
   },
   {
    "duration": 539,
    "start_time": "2023-03-19T14:52:08.986Z"
   },
   {
    "duration": 449,
    "start_time": "2023-03-19T14:52:25.448Z"
   },
   {
    "duration": 196,
    "start_time": "2023-03-19T14:52:35.098Z"
   },
   {
    "duration": 193,
    "start_time": "2023-03-19T14:52:41.301Z"
   },
   {
    "duration": 3710,
    "start_time": "2023-03-19T14:54:05.484Z"
   },
   {
    "duration": 1179,
    "start_time": "2023-03-19T14:54:14.435Z"
   },
   {
    "duration": 7,
    "start_time": "2023-03-19T14:54:22.904Z"
   },
   {
    "duration": 4,
    "start_time": "2023-03-19T14:54:27.409Z"
   },
   {
    "duration": 625,
    "start_time": "2023-03-19T14:55:01.897Z"
   },
   {
    "duration": 697,
    "start_time": "2023-03-19T15:03:12.590Z"
   },
   {
    "duration": 488,
    "start_time": "2023-03-19T15:03:17.707Z"
   },
   {
    "duration": 17,
    "start_time": "2023-03-19T15:04:36.859Z"
   },
   {
    "duration": 147,
    "start_time": "2023-03-19T15:04:41.431Z"
   },
   {
    "duration": 520,
    "start_time": "2023-03-19T15:04:49.194Z"
   },
   {
    "duration": 34,
    "start_time": "2023-03-19T15:05:17.623Z"
   },
   {
    "duration": 630,
    "start_time": "2023-03-19T15:05:23.563Z"
   },
   {
    "duration": 394,
    "start_time": "2023-03-19T15:05:34.588Z"
   },
   {
    "duration": 399,
    "start_time": "2023-03-19T15:06:29.297Z"
   },
   {
    "duration": 11,
    "start_time": "2023-03-19T15:07:22.811Z"
   },
   {
    "duration": 424,
    "start_time": "2023-03-19T15:07:22.823Z"
   },
   {
    "duration": 41,
    "start_time": "2023-03-19T15:07:23.249Z"
   },
   {
    "duration": 809,
    "start_time": "2023-03-19T15:07:23.293Z"
   },
   {
    "duration": 1365,
    "start_time": "2023-03-19T15:07:24.103Z"
   },
   {
    "duration": 222,
    "start_time": "2023-03-19T15:07:25.480Z"
   },
   {
    "duration": 1506,
    "start_time": "2023-03-19T15:07:25.705Z"
   },
   {
    "duration": 4,
    "start_time": "2023-03-19T15:07:27.213Z"
   },
   {
    "duration": 18,
    "start_time": "2023-03-19T15:07:27.218Z"
   },
   {
    "duration": 544,
    "start_time": "2023-03-19T15:07:27.239Z"
   },
   {
    "duration": 508,
    "start_time": "2023-03-19T15:07:27.785Z"
   },
   {
    "duration": 386,
    "start_time": "2023-03-19T15:07:28.295Z"
   },
   {
    "duration": 230,
    "start_time": "2023-03-19T15:07:28.683Z"
   },
   {
    "duration": 396,
    "start_time": "2023-03-19T15:07:28.915Z"
   },
   {
    "duration": 72,
    "start_time": "2023-03-19T15:07:29.313Z"
   },
   {
    "duration": 235,
    "start_time": "2023-03-19T15:07:29.387Z"
   },
   {
    "duration": 72,
    "start_time": "2023-03-19T15:07:29.624Z"
   },
   {
    "duration": 792,
    "start_time": "2023-03-19T15:07:29.697Z"
   },
   {
    "duration": 7,
    "start_time": "2023-03-19T15:07:30.491Z"
   },
   {
    "duration": 306,
    "start_time": "2023-03-19T15:07:30.500Z"
   },
   {
    "duration": 322,
    "start_time": "2023-03-19T15:07:30.808Z"
   },
   {
    "duration": 31,
    "start_time": "2023-03-19T15:07:31.132Z"
   },
   {
    "duration": 30,
    "start_time": "2023-03-19T15:07:31.165Z"
   },
   {
    "duration": 439,
    "start_time": "2023-03-19T15:07:31.196Z"
   },
   {
    "duration": 294,
    "start_time": "2023-03-19T15:07:31.637Z"
   },
   {
    "duration": 224,
    "start_time": "2023-03-19T15:07:31.933Z"
   },
   {
    "duration": 1381,
    "start_time": "2023-03-19T15:07:32.159Z"
   },
   {
    "duration": 1089,
    "start_time": "2023-03-19T15:07:33.579Z"
   },
   {
    "duration": 25,
    "start_time": "2023-03-19T15:07:34.670Z"
   },
   {
    "duration": 5,
    "start_time": "2023-03-19T15:07:34.699Z"
   },
   {
    "duration": 303,
    "start_time": "2023-03-19T15:07:39.483Z"
   },
   {
    "duration": 484,
    "start_time": "2023-03-19T15:08:42.996Z"
   },
   {
    "duration": 315,
    "start_time": "2023-03-19T15:09:11.687Z"
   },
   {
    "duration": 411,
    "start_time": "2023-03-19T15:09:20.384Z"
   },
   {
    "duration": 249,
    "start_time": "2023-03-19T15:09:29.680Z"
   },
   {
    "duration": 235,
    "start_time": "2023-03-19T15:09:35.724Z"
   },
   {
    "duration": 548,
    "start_time": "2023-03-19T15:10:12.252Z"
   },
   {
    "duration": 1519,
    "start_time": "2023-03-19T15:10:31.364Z"
   },
   {
    "duration": 1134,
    "start_time": "2023-03-19T15:10:34.112Z"
   },
   {
    "duration": 5,
    "start_time": "2023-03-19T15:10:37.227Z"
   },
   {
    "duration": 328,
    "start_time": "2023-03-19T15:10:40.752Z"
   },
   {
    "duration": 229,
    "start_time": "2023-03-19T15:10:50.459Z"
   },
   {
    "duration": 22,
    "start_time": "2023-03-19T15:12:06.393Z"
   },
   {
    "duration": 845,
    "start_time": "2023-03-19T15:12:42.059Z"
   },
   {
    "duration": 120,
    "start_time": "2023-03-19T15:13:30.984Z"
   },
   {
    "duration": 437,
    "start_time": "2023-03-19T15:14:10.358Z"
   },
   {
    "duration": 5,
    "start_time": "2023-03-19T15:14:14.622Z"
   },
   {
    "duration": 354,
    "start_time": "2023-03-19T15:14:14.630Z"
   },
   {
    "duration": 11,
    "start_time": "2023-03-19T15:14:14.986Z"
   },
   {
    "duration": 783,
    "start_time": "2023-03-19T15:14:14.999Z"
   },
   {
    "duration": 1271,
    "start_time": "2023-03-19T15:14:15.784Z"
   },
   {
    "duration": 243,
    "start_time": "2023-03-19T15:14:17.058Z"
   },
   {
    "duration": 1145,
    "start_time": "2023-03-19T15:14:17.303Z"
   },
   {
    "duration": 2,
    "start_time": "2023-03-19T15:14:18.450Z"
   },
   {
    "duration": 22,
    "start_time": "2023-03-19T15:14:18.453Z"
   },
   {
    "duration": 340,
    "start_time": "2023-03-19T15:14:18.476Z"
   },
   {
    "duration": 388,
    "start_time": "2023-03-19T15:14:18.818Z"
   },
   {
    "duration": 293,
    "start_time": "2023-03-19T15:14:19.208Z"
   },
   {
    "duration": 292,
    "start_time": "2023-03-19T15:14:23.527Z"
   },
   {
    "duration": 254,
    "start_time": "2023-03-19T15:14:40.226Z"
   },
   {
    "duration": 21,
    "start_time": "2023-03-19T15:14:59.410Z"
   },
   {
    "duration": 17,
    "start_time": "2023-03-19T15:15:03.580Z"
   },
   {
    "duration": 154,
    "start_time": "2023-03-19T15:15:05.317Z"
   },
   {
    "duration": 293,
    "start_time": "2023-03-19T15:15:14.933Z"
   },
   {
    "duration": 16,
    "start_time": "2023-03-19T15:15:19.336Z"
   },
   {
    "duration": 30,
    "start_time": "2023-03-19T15:15:26.100Z"
   },
   {
    "duration": 25,
    "start_time": "2023-03-19T15:15:28.045Z"
   },
   {
    "duration": 688,
    "start_time": "2023-03-19T15:15:30.008Z"
   },
   {
    "duration": 582,
    "start_time": "2023-03-19T15:15:32.627Z"
   },
   {
    "duration": 5,
    "start_time": "2023-03-19T15:15:38.340Z"
   },
   {
    "duration": 483,
    "start_time": "2023-03-19T15:15:41.410Z"
   },
   {
    "duration": 16,
    "start_time": "2023-03-19T15:16:07.794Z"
   },
   {
    "duration": 16,
    "start_time": "2023-03-19T15:16:33.595Z"
   },
   {
    "duration": 953,
    "start_time": "2023-03-19T15:16:35.336Z"
   },
   {
    "duration": 1203,
    "start_time": "2023-03-19T15:16:55.123Z"
   },
   {
    "duration": 157,
    "start_time": "2023-03-19T15:16:57.540Z"
   },
   {
    "duration": 209,
    "start_time": "2023-03-19T15:17:12.735Z"
   },
   {
    "duration": 890,
    "start_time": "2023-03-19T15:17:18.396Z"
   },
   {
    "duration": 4,
    "start_time": "2023-03-19T15:17:21.845Z"
   },
   {
    "duration": 4,
    "start_time": "2023-03-19T15:17:23.891Z"
   },
   {
    "duration": 331,
    "start_time": "2023-03-19T15:17:27.033Z"
   },
   {
    "duration": 307,
    "start_time": "2023-03-19T15:19:17.197Z"
   },
   {
    "duration": 280,
    "start_time": "2023-03-19T15:19:26.999Z"
   },
   {
    "duration": 247,
    "start_time": "2023-03-19T15:19:30.407Z"
   },
   {
    "duration": 355,
    "start_time": "2023-03-19T15:19:34.383Z"
   },
   {
    "duration": 4,
    "start_time": "2023-03-19T15:20:20.704Z"
   },
   {
    "duration": 4,
    "start_time": "2023-03-19T15:20:31.791Z"
   },
   {
    "duration": 7,
    "start_time": "2023-03-19T15:21:21.379Z"
   },
   {
    "duration": 3,
    "start_time": "2023-03-19T15:21:25.526Z"
   },
   {
    "duration": 100,
    "start_time": "2023-03-19T15:23:48.955Z"
   },
   {
    "duration": 5,
    "start_time": "2023-03-19T15:24:01.248Z"
   },
   {
    "duration": 336,
    "start_time": "2023-03-19T15:24:01.255Z"
   },
   {
    "duration": 7,
    "start_time": "2023-03-19T15:24:01.593Z"
   },
   {
    "duration": 577,
    "start_time": "2023-03-19T15:24:01.602Z"
   },
   {
    "duration": 1801,
    "start_time": "2023-03-19T15:24:02.182Z"
   },
   {
    "duration": 206,
    "start_time": "2023-03-19T15:24:03.985Z"
   },
   {
    "duration": 1105,
    "start_time": "2023-03-19T15:24:04.193Z"
   },
   {
    "duration": 3,
    "start_time": "2023-03-19T15:24:05.300Z"
   },
   {
    "duration": 19,
    "start_time": "2023-03-19T15:24:05.305Z"
   },
   {
    "duration": 377,
    "start_time": "2023-03-19T15:24:05.326Z"
   },
   {
    "duration": 304,
    "start_time": "2023-03-19T15:24:05.705Z"
   },
   {
    "duration": 278,
    "start_time": "2023-03-19T15:24:06.011Z"
   },
   {
    "duration": 323,
    "start_time": "2023-03-19T15:24:06.291Z"
   },
   {
    "duration": 207,
    "start_time": "2023-03-19T15:24:06.615Z"
   },
   {
    "duration": 177,
    "start_time": "2023-03-19T15:24:06.823Z"
   },
   {
    "duration": 307,
    "start_time": "2023-03-19T15:24:07.002Z"
   },
   {
    "duration": 24,
    "start_time": "2023-03-19T15:24:33.326Z"
   },
   {
    "duration": 16,
    "start_time": "2023-03-19T15:24:41.869Z"
   },
   {
    "duration": 14,
    "start_time": "2023-03-19T15:24:43.314Z"
   },
   {
    "duration": 190,
    "start_time": "2023-03-19T15:24:47.425Z"
   },
   {
    "duration": 28,
    "start_time": "2023-03-19T15:24:56.779Z"
   },
   {
    "duration": 30,
    "start_time": "2023-03-19T15:25:01.060Z"
   },
   {
    "duration": 773,
    "start_time": "2023-03-19T15:25:13.128Z"
   },
   {
    "duration": 667,
    "start_time": "2023-03-19T15:25:17.160Z"
   },
   {
    "duration": 5,
    "start_time": "2023-03-19T15:25:21.019Z"
   },
   {
    "duration": 320,
    "start_time": "2023-03-19T15:25:48.403Z"
   },
   {
    "duration": 14,
    "start_time": "2023-03-19T15:25:53.182Z"
   },
   {
    "duration": 182,
    "start_time": "2023-03-19T15:26:10.954Z"
   },
   {
    "duration": 12,
    "start_time": "2023-03-19T15:26:19.652Z"
   },
   {
    "duration": 379,
    "start_time": "2023-03-19T15:26:22.637Z"
   },
   {
    "duration": 3,
    "start_time": "2023-03-19T15:26:30.962Z"
   },
   {
    "duration": 3,
    "start_time": "2023-03-19T15:26:34.226Z"
   },
   {
    "duration": 3,
    "start_time": "2023-03-19T15:26:38.538Z"
   },
   {
    "duration": 4,
    "start_time": "2023-03-19T15:26:45.536Z"
   },
   {
    "duration": 715,
    "start_time": "2023-03-19T15:26:53.821Z"
   },
   {
    "duration": 690,
    "start_time": "2023-03-19T15:26:55.934Z"
   },
   {
    "duration": 4,
    "start_time": "2023-03-19T15:26:59.493Z"
   },
   {
    "duration": 5,
    "start_time": "2023-03-19T15:27:02.095Z"
   },
   {
    "duration": 281,
    "start_time": "2023-03-19T15:27:15.154Z"
   },
   {
    "duration": 14,
    "start_time": "2023-03-19T15:27:54.254Z"
   },
   {
    "duration": 186,
    "start_time": "2023-03-19T15:27:57.382Z"
   },
   {
    "duration": 439,
    "start_time": "2023-03-19T15:28:03.299Z"
   },
   {
    "duration": 104,
    "start_time": "2023-03-19T15:30:55.168Z"
   },
   {
    "duration": 4,
    "start_time": "2023-03-19T15:30:59.119Z"
   },
   {
    "duration": 215,
    "start_time": "2023-03-19T15:30:59.125Z"
   },
   {
    "duration": 8,
    "start_time": "2023-03-19T15:30:59.341Z"
   },
   {
    "duration": 463,
    "start_time": "2023-03-19T15:30:59.379Z"
   },
   {
    "duration": 947,
    "start_time": "2023-03-19T15:30:59.880Z"
   },
   {
    "duration": 123,
    "start_time": "2023-03-19T15:31:00.829Z"
   },
   {
    "duration": 1018,
    "start_time": "2023-03-19T15:31:00.955Z"
   },
   {
    "duration": 2,
    "start_time": "2023-03-19T15:31:01.975Z"
   },
   {
    "duration": 44,
    "start_time": "2023-03-19T15:31:01.978Z"
   },
   {
    "duration": 320,
    "start_time": "2023-03-19T15:31:02.023Z"
   },
   {
    "duration": 268,
    "start_time": "2023-03-19T15:31:02.345Z"
   },
   {
    "duration": 265,
    "start_time": "2023-03-19T15:31:02.615Z"
   },
   {
    "duration": 228,
    "start_time": "2023-03-19T15:31:02.881Z"
   },
   {
    "duration": 210,
    "start_time": "2023-03-19T15:31:03.111Z"
   },
   {
    "duration": 180,
    "start_time": "2023-03-19T15:31:03.322Z"
   },
   {
    "duration": 205,
    "start_time": "2023-03-19T15:31:03.504Z"
   },
   {
    "duration": 326,
    "start_time": "2023-03-19T15:31:08.103Z"
   },
   {
    "duration": 22,
    "start_time": "2023-03-19T15:31:17.833Z"
   },
   {
    "duration": 10,
    "start_time": "2023-03-19T15:31:20.051Z"
   },
   {
    "duration": 157,
    "start_time": "2023-03-19T15:31:27.154Z"
   },
   {
    "duration": 22,
    "start_time": "2023-03-19T15:31:29.808Z"
   },
   {
    "duration": 20,
    "start_time": "2023-03-19T15:31:32.710Z"
   },
   {
    "duration": 413,
    "start_time": "2023-03-19T15:31:35.018Z"
   },
   {
    "duration": 497,
    "start_time": "2023-03-19T15:31:36.791Z"
   },
   {
    "duration": 9,
    "start_time": "2023-03-19T15:31:39.001Z"
   },
   {
    "duration": 172,
    "start_time": "2023-03-19T15:31:42.981Z"
   },
   {
    "duration": 10,
    "start_time": "2023-03-19T15:31:45.722Z"
   },
   {
    "duration": 154,
    "start_time": "2023-03-19T15:31:48.853Z"
   },
   {
    "duration": 17,
    "start_time": "2023-03-19T15:31:51.618Z"
   },
   {
    "duration": 636,
    "start_time": "2023-03-19T15:31:53.152Z"
   },
   {
    "duration": 718,
    "start_time": "2023-03-19T15:32:04.410Z"
   },
   {
    "duration": 543,
    "start_time": "2023-03-19T15:32:06.247Z"
   },
   {
    "duration": 4,
    "start_time": "2023-03-19T15:32:08.834Z"
   },
   {
    "duration": 4,
    "start_time": "2023-03-19T15:32:10.649Z"
   },
   {
    "duration": 214,
    "start_time": "2023-03-19T15:32:17.335Z"
   },
   {
    "duration": 183,
    "start_time": "2023-03-19T15:35:21.583Z"
   },
   {
    "duration": 6,
    "start_time": "2023-03-19T15:43:28.822Z"
   },
   {
    "duration": 220,
    "start_time": "2023-03-19T15:43:28.830Z"
   },
   {
    "duration": 9,
    "start_time": "2023-03-19T15:43:29.051Z"
   },
   {
    "duration": 641,
    "start_time": "2023-03-19T15:43:29.062Z"
   },
   {
    "duration": 1078,
    "start_time": "2023-03-19T15:43:29.705Z"
   },
   {
    "duration": 137,
    "start_time": "2023-03-19T15:43:30.785Z"
   },
   {
    "duration": 915,
    "start_time": "2023-03-19T15:43:30.924Z"
   },
   {
    "duration": 3,
    "start_time": "2023-03-19T15:43:31.841Z"
   },
   {
    "duration": 27,
    "start_time": "2023-03-19T15:43:31.845Z"
   },
   {
    "duration": 350,
    "start_time": "2023-03-19T15:43:31.873Z"
   },
   {
    "duration": 313,
    "start_time": "2023-03-19T15:43:32.226Z"
   },
   {
    "duration": 247,
    "start_time": "2023-03-19T15:43:32.540Z"
   },
   {
    "duration": 213,
    "start_time": "2023-03-19T15:43:32.789Z"
   },
   {
    "duration": 200,
    "start_time": "2023-03-19T15:43:33.004Z"
   },
   {
    "duration": 155,
    "start_time": "2023-03-19T15:43:33.206Z"
   },
   {
    "duration": 207,
    "start_time": "2023-03-19T15:43:33.362Z"
   },
   {
    "duration": 176,
    "start_time": "2023-03-19T15:43:33.570Z"
   },
   {
    "duration": 13,
    "start_time": "2023-03-19T15:43:33.747Z"
   },
   {
    "duration": 55,
    "start_time": "2023-03-19T15:43:33.762Z"
   },
   {
    "duration": 194,
    "start_time": "2023-03-19T15:43:33.818Z"
   },
   {
    "duration": 69,
    "start_time": "2023-03-19T15:43:34.014Z"
   },
   {
    "duration": 21,
    "start_time": "2023-03-19T15:43:34.084Z"
   },
   {
    "duration": 530,
    "start_time": "2023-03-19T15:43:34.107Z"
   },
   {
    "duration": 498,
    "start_time": "2023-03-19T15:43:34.638Z"
   },
   {
    "duration": 8,
    "start_time": "2023-03-19T15:43:35.137Z"
   },
   {
    "duration": 235,
    "start_time": "2023-03-19T15:43:35.147Z"
   },
   {
    "duration": 14,
    "start_time": "2023-03-19T15:43:35.384Z"
   },
   {
    "duration": 202,
    "start_time": "2023-03-19T15:43:35.400Z"
   },
   {
    "duration": 9,
    "start_time": "2023-03-19T15:43:35.607Z"
   },
   {
    "duration": 394,
    "start_time": "2023-03-19T15:43:35.618Z"
   },
   {
    "duration": 268,
    "start_time": "2023-03-19T15:43:36.014Z"
   },
   {
    "duration": 150,
    "start_time": "2023-03-19T15:43:36.284Z"
   },
   {
    "duration": 3,
    "start_time": "2023-03-19T15:43:36.436Z"
   },
   {
    "duration": 6,
    "start_time": "2023-03-19T15:43:36.440Z"
   },
   {
    "duration": 4,
    "start_time": "2023-03-19T15:43:36.448Z"
   },
   {
    "duration": 28,
    "start_time": "2023-03-19T15:43:36.453Z"
   },
   {
    "duration": 1016,
    "start_time": "2023-03-19T15:43:36.483Z"
   },
   {
    "duration": 612,
    "start_time": "2023-03-19T15:43:37.502Z"
   },
   {
    "duration": 4,
    "start_time": "2023-03-19T15:43:38.116Z"
   },
   {
    "duration": 4,
    "start_time": "2023-03-19T15:43:38.121Z"
   },
   {
    "duration": 223,
    "start_time": "2023-03-19T15:43:38.127Z"
   },
   {
    "duration": 0,
    "start_time": "2023-03-19T15:43:38.351Z"
   },
   {
    "duration": 0,
    "start_time": "2023-03-19T15:43:38.353Z"
   },
   {
    "duration": 0,
    "start_time": "2023-03-19T15:43:38.354Z"
   },
   {
    "duration": 0,
    "start_time": "2023-03-19T15:43:38.355Z"
   },
   {
    "duration": 0,
    "start_time": "2023-03-19T15:43:38.356Z"
   },
   {
    "duration": 299,
    "start_time": "2023-03-19T15:50:14.603Z"
   },
   {
    "duration": 270,
    "start_time": "2023-03-19T15:54:59.326Z"
   },
   {
    "duration": 182,
    "start_time": "2023-03-19T15:56:57.312Z"
   },
   {
    "duration": 7,
    "start_time": "2023-03-19T15:57:07.480Z"
   },
   {
    "duration": 305,
    "start_time": "2023-03-19T15:57:07.489Z"
   },
   {
    "duration": 10,
    "start_time": "2023-03-19T15:57:07.796Z"
   },
   {
    "duration": 429,
    "start_time": "2023-03-19T15:57:07.808Z"
   },
   {
    "duration": 1150,
    "start_time": "2023-03-19T15:57:08.239Z"
   },
   {
    "duration": 139,
    "start_time": "2023-03-19T15:57:09.397Z"
   },
   {
    "duration": 1067,
    "start_time": "2023-03-19T15:57:09.538Z"
   },
   {
    "duration": 3,
    "start_time": "2023-03-19T15:57:10.607Z"
   },
   {
    "duration": 15,
    "start_time": "2023-03-19T15:57:10.613Z"
   },
   {
    "duration": 381,
    "start_time": "2023-03-19T15:57:10.629Z"
   },
   {
    "duration": 333,
    "start_time": "2023-03-19T15:57:11.012Z"
   },
   {
    "duration": 277,
    "start_time": "2023-03-19T15:57:11.348Z"
   },
   {
    "duration": 355,
    "start_time": "2023-03-19T15:57:11.627Z"
   },
   {
    "duration": 219,
    "start_time": "2023-03-19T15:57:11.984Z"
   },
   {
    "duration": 190,
    "start_time": "2023-03-19T15:57:12.205Z"
   },
   {
    "duration": 216,
    "start_time": "2023-03-19T15:57:12.397Z"
   },
   {
    "duration": 241,
    "start_time": "2023-03-19T15:57:12.615Z"
   },
   {
    "duration": 39,
    "start_time": "2023-03-19T15:57:12.858Z"
   },
   {
    "duration": 17,
    "start_time": "2023-03-19T15:57:12.899Z"
   },
   {
    "duration": 187,
    "start_time": "2023-03-19T15:57:12.918Z"
   },
   {
    "duration": 250,
    "start_time": "2023-03-19T15:57:18.911Z"
   },
   {
    "duration": 129,
    "start_time": "2023-03-19T15:59:23.723Z"
   },
   {
    "duration": 98,
    "start_time": "2023-03-19T15:59:34.606Z"
   },
   {
    "duration": 5,
    "start_time": "2023-03-19T15:59:38.789Z"
   },
   {
    "duration": 195,
    "start_time": "2023-03-19T15:59:38.795Z"
   },
   {
    "duration": 8,
    "start_time": "2023-03-19T15:59:38.992Z"
   },
   {
    "duration": 489,
    "start_time": "2023-03-19T15:59:39.001Z"
   },
   {
    "duration": 1109,
    "start_time": "2023-03-19T15:59:39.493Z"
   },
   {
    "duration": 207,
    "start_time": "2023-03-19T15:59:40.608Z"
   },
   {
    "duration": 1468,
    "start_time": "2023-03-19T15:59:40.817Z"
   },
   {
    "duration": 4,
    "start_time": "2023-03-19T15:59:42.287Z"
   },
   {
    "duration": 20,
    "start_time": "2023-03-19T15:59:42.293Z"
   },
   {
    "duration": 555,
    "start_time": "2023-03-19T15:59:42.315Z"
   },
   {
    "duration": 300,
    "start_time": "2023-03-19T15:59:42.872Z"
   },
   {
    "duration": 218,
    "start_time": "2023-03-19T15:59:43.174Z"
   },
   {
    "duration": 403,
    "start_time": "2023-03-19T15:59:43.393Z"
   },
   {
    "duration": 182,
    "start_time": "2023-03-19T15:59:43.798Z"
   },
   {
    "duration": 213,
    "start_time": "2023-03-19T15:59:43.982Z"
   },
   {
    "duration": 287,
    "start_time": "2023-03-19T15:59:44.196Z"
   },
   {
    "duration": 207,
    "start_time": "2023-03-19T15:59:44.485Z"
   },
   {
    "duration": 14,
    "start_time": "2023-03-19T15:59:44.694Z"
   },
   {
    "duration": 11,
    "start_time": "2023-03-19T15:59:48.180Z"
   },
   {
    "duration": 151,
    "start_time": "2023-03-19T15:59:51.724Z"
   },
   {
    "duration": 182,
    "start_time": "2023-03-19T15:59:56.250Z"
   },
   {
    "duration": 239,
    "start_time": "2023-03-19T16:00:15.618Z"
   },
   {
    "duration": 7,
    "start_time": "2023-03-19T16:00:37.373Z"
   },
   {
    "duration": 215,
    "start_time": "2023-03-19T16:00:37.382Z"
   },
   {
    "duration": 7,
    "start_time": "2023-03-19T16:00:37.599Z"
   },
   {
    "duration": 416,
    "start_time": "2023-03-19T16:00:37.607Z"
   },
   {
    "duration": 935,
    "start_time": "2023-03-19T16:00:38.025Z"
   },
   {
    "duration": 140,
    "start_time": "2023-03-19T16:00:38.962Z"
   },
   {
    "duration": 841,
    "start_time": "2023-03-19T16:00:39.104Z"
   },
   {
    "duration": 6,
    "start_time": "2023-03-19T16:00:39.947Z"
   },
   {
    "duration": 9,
    "start_time": "2023-03-19T16:00:39.955Z"
   },
   {
    "duration": 452,
    "start_time": "2023-03-19T16:00:39.966Z"
   },
   {
    "duration": 351,
    "start_time": "2023-03-19T16:00:40.420Z"
   },
   {
    "duration": 215,
    "start_time": "2023-03-19T16:00:40.772Z"
   },
   {
    "duration": 231,
    "start_time": "2023-03-19T16:00:40.989Z"
   },
   {
    "duration": 195,
    "start_time": "2023-03-19T16:00:41.222Z"
   },
   {
    "duration": 140,
    "start_time": "2023-03-19T16:00:41.419Z"
   },
   {
    "duration": 176,
    "start_time": "2023-03-19T16:00:41.560Z"
   },
   {
    "duration": 200,
    "start_time": "2023-03-19T16:00:41.737Z"
   },
   {
    "duration": 24,
    "start_time": "2023-03-19T16:00:51.631Z"
   },
   {
    "duration": 163,
    "start_time": "2023-03-19T16:00:54.327Z"
   },
   {
    "duration": 172,
    "start_time": "2023-03-19T16:00:57.311Z"
   },
   {
    "duration": 9,
    "start_time": "2023-03-19T16:01:22.949Z"
   },
   {
    "duration": 198,
    "start_time": "2023-03-19T16:01:33.601Z"
   },
   {
    "duration": 118,
    "start_time": "2023-03-19T16:04:15.351Z"
   },
   {
    "duration": 5,
    "start_time": "2023-03-19T16:04:21.494Z"
   },
   {
    "duration": 231,
    "start_time": "2023-03-19T16:04:21.501Z"
   },
   {
    "duration": 8,
    "start_time": "2023-03-19T16:04:21.734Z"
   },
   {
    "duration": 446,
    "start_time": "2023-03-19T16:04:21.744Z"
   },
   {
    "duration": 1030,
    "start_time": "2023-03-19T16:04:22.193Z"
   },
   {
    "duration": 116,
    "start_time": "2023-03-19T16:04:23.224Z"
   },
   {
    "duration": 908,
    "start_time": "2023-03-19T16:04:23.342Z"
   },
   {
    "duration": 3,
    "start_time": "2023-03-19T16:04:24.251Z"
   },
   {
    "duration": 11,
    "start_time": "2023-03-19T16:04:24.255Z"
   },
   {
    "duration": 304,
    "start_time": "2023-03-19T16:04:24.267Z"
   },
   {
    "duration": 488,
    "start_time": "2023-03-19T16:04:24.574Z"
   },
   {
    "duration": 329,
    "start_time": "2023-03-19T16:04:25.084Z"
   },
   {
    "duration": 268,
    "start_time": "2023-03-19T16:04:25.415Z"
   },
   {
    "duration": 154,
    "start_time": "2023-03-19T16:04:25.684Z"
   },
   {
    "duration": 177,
    "start_time": "2023-03-19T16:04:25.840Z"
   },
   {
    "duration": 226,
    "start_time": "2023-03-19T16:04:26.019Z"
   },
   {
    "duration": 246,
    "start_time": "2023-03-19T16:04:26.247Z"
   },
   {
    "duration": 21,
    "start_time": "2023-03-19T16:04:44.848Z"
   },
   {
    "duration": 309,
    "start_time": "2023-03-19T16:04:46.917Z"
   },
   {
    "duration": 177,
    "start_time": "2023-03-19T16:04:50.790Z"
   },
   {
    "duration": 208,
    "start_time": "2023-03-19T16:05:09.095Z"
   },
   {
    "duration": 6,
    "start_time": "2023-03-19T16:05:23.632Z"
   },
   {
    "duration": 271,
    "start_time": "2023-03-19T16:05:23.640Z"
   },
   {
    "duration": 8,
    "start_time": "2023-03-19T16:05:23.913Z"
   },
   {
    "duration": 520,
    "start_time": "2023-03-19T16:05:23.924Z"
   },
   {
    "duration": 1116,
    "start_time": "2023-03-19T16:05:24.446Z"
   },
   {
    "duration": 157,
    "start_time": "2023-03-19T16:05:25.564Z"
   },
   {
    "duration": 1252,
    "start_time": "2023-03-19T16:05:25.723Z"
   },
   {
    "duration": 4,
    "start_time": "2023-03-19T16:05:26.980Z"
   },
   {
    "duration": 20,
    "start_time": "2023-03-19T16:05:26.986Z"
   },
   {
    "duration": 390,
    "start_time": "2023-03-19T16:05:27.008Z"
   },
   {
    "duration": 306,
    "start_time": "2023-03-19T16:05:27.406Z"
   },
   {
    "duration": 263,
    "start_time": "2023-03-19T16:05:27.714Z"
   },
   {
    "duration": 627,
    "start_time": "2023-03-19T16:05:27.980Z"
   },
   {
    "duration": 190,
    "start_time": "2023-03-19T16:05:28.609Z"
   },
   {
    "duration": 136,
    "start_time": "2023-03-19T16:05:28.801Z"
   },
   {
    "duration": 197,
    "start_time": "2023-03-19T16:05:28.939Z"
   },
   {
    "duration": 207,
    "start_time": "2023-03-19T16:05:29.138Z"
   },
   {
    "duration": 211,
    "start_time": "2023-03-19T16:05:29.347Z"
   },
   {
    "duration": 41,
    "start_time": "2023-03-19T16:05:29.560Z"
   },
   {
    "duration": 172,
    "start_time": "2023-03-19T16:05:29.603Z"
   },
   {
    "duration": 211,
    "start_time": "2023-03-19T16:05:29.777Z"
   },
   {
    "duration": 31,
    "start_time": "2023-03-19T16:05:29.989Z"
   },
   {
    "duration": 21,
    "start_time": "2023-03-19T16:05:30.023Z"
   },
   {
    "duration": 553,
    "start_time": "2023-03-19T16:05:30.046Z"
   },
   {
    "duration": 438,
    "start_time": "2023-03-19T16:05:30.600Z"
   },
   {
    "duration": 6,
    "start_time": "2023-03-19T16:05:31.040Z"
   },
   {
    "duration": 254,
    "start_time": "2023-03-19T16:05:31.049Z"
   },
   {
    "duration": 14,
    "start_time": "2023-03-19T16:05:31.304Z"
   },
   {
    "duration": 227,
    "start_time": "2023-03-19T16:05:31.322Z"
   },
   {
    "duration": 175,
    "start_time": "2023-03-19T16:05:31.551Z"
   },
   {
    "duration": 22,
    "start_time": "2023-03-19T16:05:31.728Z"
   },
   {
    "duration": 395,
    "start_time": "2023-03-19T16:05:31.752Z"
   },
   {
    "duration": 199,
    "start_time": "2023-03-19T16:05:32.149Z"
   },
   {
    "duration": 194,
    "start_time": "2023-03-19T16:05:32.350Z"
   },
   {
    "duration": 4,
    "start_time": "2023-03-19T16:05:32.546Z"
   },
   {
    "duration": 38,
    "start_time": "2023-03-19T16:05:32.552Z"
   },
   {
    "duration": 18,
    "start_time": "2023-03-19T16:05:32.593Z"
   },
   {
    "duration": 13,
    "start_time": "2023-03-19T16:05:32.612Z"
   },
   {
    "duration": 764,
    "start_time": "2023-03-19T16:05:32.627Z"
   },
   {
    "duration": 905,
    "start_time": "2023-03-19T16:05:33.393Z"
   },
   {
    "duration": 85,
    "start_time": "2023-03-19T16:05:34.300Z"
   },
   {
    "duration": 96,
    "start_time": "2023-03-19T16:05:34.387Z"
   },
   {
    "duration": 406,
    "start_time": "2023-03-19T16:05:34.485Z"
   },
   {
    "duration": 0,
    "start_time": "2023-03-19T16:05:34.894Z"
   },
   {
    "duration": 0,
    "start_time": "2023-03-19T16:05:34.895Z"
   },
   {
    "duration": 0,
    "start_time": "2023-03-19T16:05:34.897Z"
   },
   {
    "duration": 0,
    "start_time": "2023-03-19T16:05:34.898Z"
   },
   {
    "duration": 0,
    "start_time": "2023-03-19T16:05:34.899Z"
   },
   {
    "duration": 5,
    "start_time": "2023-03-19T16:06:07.748Z"
   },
   {
    "duration": 266,
    "start_time": "2023-03-19T16:06:07.754Z"
   },
   {
    "duration": 7,
    "start_time": "2023-03-19T16:06:08.022Z"
   },
   {
    "duration": 499,
    "start_time": "2023-03-19T16:06:08.030Z"
   },
   {
    "duration": 1168,
    "start_time": "2023-03-19T16:06:08.531Z"
   },
   {
    "duration": 124,
    "start_time": "2023-03-19T16:06:09.701Z"
   },
   {
    "duration": 984,
    "start_time": "2023-03-19T16:06:09.826Z"
   },
   {
    "duration": 3,
    "start_time": "2023-03-19T16:06:10.812Z"
   },
   {
    "duration": 10,
    "start_time": "2023-03-19T16:06:10.817Z"
   },
   {
    "duration": 348,
    "start_time": "2023-03-19T16:06:10.828Z"
   },
   {
    "duration": 313,
    "start_time": "2023-03-19T16:06:11.179Z"
   },
   {
    "duration": 303,
    "start_time": "2023-03-19T16:06:11.494Z"
   },
   {
    "duration": 295,
    "start_time": "2023-03-19T16:06:11.799Z"
   },
   {
    "duration": 197,
    "start_time": "2023-03-19T16:06:12.097Z"
   },
   {
    "duration": 144,
    "start_time": "2023-03-19T16:06:12.296Z"
   },
   {
    "duration": 226,
    "start_time": "2023-03-19T16:06:12.442Z"
   },
   {
    "duration": 163,
    "start_time": "2023-03-19T16:06:12.669Z"
   },
   {
    "duration": 196,
    "start_time": "2023-03-19T16:06:18.885Z"
   },
   {
    "duration": 331,
    "start_time": "2023-03-19T16:06:30.970Z"
   },
   {
    "duration": 26,
    "start_time": "2023-03-19T16:06:49.978Z"
   },
   {
    "duration": 158,
    "start_time": "2023-03-19T16:06:53.976Z"
   },
   {
    "duration": 179,
    "start_time": "2023-03-19T16:06:59.048Z"
   },
   {
    "duration": 6,
    "start_time": "2023-03-19T16:18:40.999Z"
   },
   {
    "duration": 266,
    "start_time": "2023-03-19T16:18:41.007Z"
   },
   {
    "duration": 6,
    "start_time": "2023-03-19T16:18:41.275Z"
   },
   {
    "duration": 433,
    "start_time": "2023-03-19T16:18:41.282Z"
   },
   {
    "duration": 1211,
    "start_time": "2023-03-19T16:18:41.717Z"
   },
   {
    "duration": 291,
    "start_time": "2023-03-19T16:18:42.930Z"
   },
   {
    "duration": 2094,
    "start_time": "2023-03-19T16:18:43.223Z"
   },
   {
    "duration": 61,
    "start_time": "2023-03-19T16:18:45.319Z"
   },
   {
    "duration": 13,
    "start_time": "2023-03-19T16:18:45.382Z"
   },
   {
    "duration": 703,
    "start_time": "2023-03-19T16:18:45.397Z"
   },
   {
    "duration": 685,
    "start_time": "2023-03-19T16:18:46.102Z"
   },
   {
    "duration": 320,
    "start_time": "2023-03-19T16:18:46.788Z"
   },
   {
    "duration": 234,
    "start_time": "2023-03-19T16:18:47.110Z"
   },
   {
    "duration": 215,
    "start_time": "2023-03-19T16:18:47.345Z"
   },
   {
    "duration": 149,
    "start_time": "2023-03-19T16:18:47.562Z"
   },
   {
    "duration": 253,
    "start_time": "2023-03-19T16:18:47.713Z"
   },
   {
    "duration": 186,
    "start_time": "2023-03-19T16:18:47.968Z"
   },
   {
    "duration": 168,
    "start_time": "2023-03-19T16:18:48.156Z"
   },
   {
    "duration": 198,
    "start_time": "2023-03-19T16:18:48.325Z"
   },
   {
    "duration": 13,
    "start_time": "2023-03-19T16:18:58.529Z"
   },
   {
    "duration": 16,
    "start_time": "2023-03-19T16:19:01.953Z"
   },
   {
    "duration": 172,
    "start_time": "2023-03-19T16:19:03.756Z"
   },
   {
    "duration": 268,
    "start_time": "2023-03-19T16:19:07.741Z"
   },
   {
    "duration": 5,
    "start_time": "2023-03-19T18:37:13.987Z"
   },
   {
    "duration": 315,
    "start_time": "2023-03-19T18:37:13.995Z"
   },
   {
    "duration": 12,
    "start_time": "2023-03-19T18:37:14.312Z"
   },
   {
    "duration": 489,
    "start_time": "2023-03-19T18:37:14.326Z"
   },
   {
    "duration": 1535,
    "start_time": "2023-03-19T18:37:14.817Z"
   },
   {
    "duration": 158,
    "start_time": "2023-03-19T18:37:16.354Z"
   },
   {
    "duration": 947,
    "start_time": "2023-03-19T18:37:16.514Z"
   },
   {
    "duration": 2,
    "start_time": "2023-03-19T18:37:17.462Z"
   },
   {
    "duration": 8,
    "start_time": "2023-03-19T18:37:17.481Z"
   },
   {
    "duration": 310,
    "start_time": "2023-03-19T18:37:17.491Z"
   },
   {
    "duration": 264,
    "start_time": "2023-03-19T18:37:17.803Z"
   },
   {
    "duration": 233,
    "start_time": "2023-03-19T18:37:18.069Z"
   },
   {
    "duration": 7,
    "start_time": "2023-03-19T18:37:28.206Z"
   },
   {
    "duration": 7,
    "start_time": "2023-03-19T18:37:47.006Z"
   },
   {
    "duration": 87,
    "start_time": "2023-03-19T18:37:54.002Z"
   },
   {
    "duration": 7,
    "start_time": "2023-03-19T18:37:56.765Z"
   },
   {
    "duration": 136,
    "start_time": "2023-03-19T18:38:00.471Z"
   },
   {
    "duration": 12,
    "start_time": "2023-03-19T18:38:13.919Z"
   },
   {
    "duration": 246,
    "start_time": "2023-03-19T18:38:13.933Z"
   },
   {
    "duration": 8,
    "start_time": "2023-03-19T18:38:14.182Z"
   },
   {
    "duration": 451,
    "start_time": "2023-03-19T18:38:14.192Z"
   },
   {
    "duration": 1222,
    "start_time": "2023-03-19T18:38:14.646Z"
   },
   {
    "duration": 143,
    "start_time": "2023-03-19T18:38:15.870Z"
   },
   {
    "duration": 1097,
    "start_time": "2023-03-19T18:38:16.015Z"
   },
   {
    "duration": 2,
    "start_time": "2023-03-19T18:38:17.114Z"
   },
   {
    "duration": 67,
    "start_time": "2023-03-19T18:38:17.118Z"
   },
   {
    "duration": 347,
    "start_time": "2023-03-19T18:38:17.187Z"
   },
   {
    "duration": 360,
    "start_time": "2023-03-19T18:38:17.535Z"
   },
   {
    "duration": 387,
    "start_time": "2023-03-19T18:38:17.898Z"
   },
   {
    "duration": 102,
    "start_time": "2023-03-19T18:38:23.769Z"
   },
   {
    "duration": 179,
    "start_time": "2023-03-19T18:38:29.643Z"
   },
   {
    "duration": 219,
    "start_time": "2023-03-19T18:38:37.583Z"
   },
   {
    "duration": 168,
    "start_time": "2023-03-19T18:38:39.819Z"
   },
   {
    "duration": 5,
    "start_time": "2023-03-19T18:38:45.148Z"
   },
   {
    "duration": 206,
    "start_time": "2023-03-19T18:38:45.156Z"
   },
   {
    "duration": 7,
    "start_time": "2023-03-19T18:38:45.363Z"
   },
   {
    "duration": 452,
    "start_time": "2023-03-19T18:38:45.371Z"
   },
   {
    "duration": 945,
    "start_time": "2023-03-19T18:38:45.825Z"
   },
   {
    "duration": 127,
    "start_time": "2023-03-19T18:38:46.771Z"
   },
   {
    "duration": 851,
    "start_time": "2023-03-19T18:38:46.900Z"
   },
   {
    "duration": 2,
    "start_time": "2023-03-19T18:38:47.753Z"
   },
   {
    "duration": 21,
    "start_time": "2023-03-19T18:38:47.757Z"
   },
   {
    "duration": 256,
    "start_time": "2023-03-19T18:38:47.781Z"
   },
   {
    "duration": 280,
    "start_time": "2023-03-19T18:38:48.039Z"
   },
   {
    "duration": 260,
    "start_time": "2023-03-19T18:38:48.320Z"
   },
   {
    "duration": 225,
    "start_time": "2023-03-19T18:39:02.887Z"
   },
   {
    "duration": 152,
    "start_time": "2023-03-19T18:39:05.565Z"
   },
   {
    "duration": 150,
    "start_time": "2023-03-19T18:39:08.007Z"
   },
   {
    "duration": 184,
    "start_time": "2023-03-19T18:39:13.103Z"
   },
   {
    "duration": 7,
    "start_time": "2023-03-19T18:39:20.043Z"
   },
   {
    "duration": 106,
    "start_time": "2023-03-19T18:43:25.771Z"
   },
   {
    "duration": 3,
    "start_time": "2023-03-19T18:43:29.233Z"
   },
   {
    "duration": 216,
    "start_time": "2023-03-19T18:43:29.238Z"
   },
   {
    "duration": 7,
    "start_time": "2023-03-19T18:43:29.455Z"
   },
   {
    "duration": 450,
    "start_time": "2023-03-19T18:43:29.464Z"
   },
   {
    "duration": 964,
    "start_time": "2023-03-19T18:43:29.915Z"
   },
   {
    "duration": 141,
    "start_time": "2023-03-19T18:43:30.880Z"
   },
   {
    "duration": 942,
    "start_time": "2023-03-19T18:43:31.023Z"
   },
   {
    "duration": 3,
    "start_time": "2023-03-19T18:43:31.967Z"
   },
   {
    "duration": 38,
    "start_time": "2023-03-19T18:43:31.971Z"
   },
   {
    "duration": 277,
    "start_time": "2023-03-19T18:43:32.011Z"
   },
   {
    "duration": 348,
    "start_time": "2023-03-19T18:43:32.290Z"
   },
   {
    "duration": 200,
    "start_time": "2023-03-19T18:43:32.640Z"
   },
   {
    "duration": 210,
    "start_time": "2023-03-19T18:43:32.842Z"
   },
   {
    "duration": 163,
    "start_time": "2023-03-19T18:43:33.053Z"
   },
   {
    "duration": 137,
    "start_time": "2023-03-19T18:43:33.218Z"
   },
   {
    "duration": 16,
    "start_time": "2023-03-19T18:43:39.948Z"
   },
   {
    "duration": 19,
    "start_time": "2023-03-19T18:44:01.494Z"
   },
   {
    "duration": 5,
    "start_time": "2023-03-19T18:44:09.397Z"
   },
   {
    "duration": 189,
    "start_time": "2023-03-19T18:44:09.404Z"
   },
   {
    "duration": 6,
    "start_time": "2023-03-19T18:44:09.595Z"
   },
   {
    "duration": 484,
    "start_time": "2023-03-19T18:44:09.602Z"
   },
   {
    "duration": 960,
    "start_time": "2023-03-19T18:44:10.090Z"
   },
   {
    "duration": 160,
    "start_time": "2023-03-19T18:44:11.052Z"
   },
   {
    "duration": 904,
    "start_time": "2023-03-19T18:44:11.213Z"
   },
   {
    "duration": 3,
    "start_time": "2023-03-19T18:44:12.118Z"
   },
   {
    "duration": 9,
    "start_time": "2023-03-19T18:44:12.122Z"
   },
   {
    "duration": 263,
    "start_time": "2023-03-19T18:44:12.132Z"
   },
   {
    "duration": 254,
    "start_time": "2023-03-19T18:44:12.397Z"
   },
   {
    "duration": 166,
    "start_time": "2023-03-19T18:44:12.652Z"
   },
   {
    "duration": 197,
    "start_time": "2023-03-19T18:44:12.819Z"
   },
   {
    "duration": 141,
    "start_time": "2023-03-19T18:44:13.018Z"
   },
   {
    "duration": 147,
    "start_time": "2023-03-19T18:44:13.160Z"
   },
   {
    "duration": 4,
    "start_time": "2023-03-19T18:44:58.467Z"
   },
   {
    "duration": 216,
    "start_time": "2023-03-19T18:44:58.473Z"
   },
   {
    "duration": 12,
    "start_time": "2023-03-19T18:44:58.691Z"
   },
   {
    "duration": 407,
    "start_time": "2023-03-19T18:44:58.704Z"
   },
   {
    "duration": 984,
    "start_time": "2023-03-19T18:44:59.113Z"
   },
   {
    "duration": 228,
    "start_time": "2023-03-19T18:45:00.098Z"
   },
   {
    "duration": 952,
    "start_time": "2023-03-19T18:45:00.380Z"
   },
   {
    "duration": 3,
    "start_time": "2023-03-19T18:45:01.334Z"
   },
   {
    "duration": 34,
    "start_time": "2023-03-19T18:45:01.338Z"
   },
   {
    "duration": 314,
    "start_time": "2023-03-19T18:45:01.374Z"
   },
   {
    "duration": 302,
    "start_time": "2023-03-19T18:45:01.691Z"
   },
   {
    "duration": 181,
    "start_time": "2023-03-19T18:45:02.005Z"
   },
   {
    "duration": 213,
    "start_time": "2023-03-19T18:45:02.189Z"
   },
   {
    "duration": 127,
    "start_time": "2023-03-19T18:45:02.404Z"
   },
   {
    "duration": 140,
    "start_time": "2023-03-19T18:45:02.533Z"
   },
   {
    "duration": 12,
    "start_time": "2023-03-19T18:45:05.418Z"
   },
   {
    "duration": 102,
    "start_time": "2023-03-19T18:45:10.042Z"
   },
   {
    "duration": 20,
    "start_time": "2023-03-19T18:45:29.093Z"
   },
   {
    "duration": 106,
    "start_time": "2023-03-19T18:45:44.653Z"
   },
   {
    "duration": 142,
    "start_time": "2023-03-19T18:46:05.995Z"
   },
   {
    "duration": 4,
    "start_time": "2023-03-19T18:47:30.291Z"
   },
   {
    "duration": 245,
    "start_time": "2023-03-19T18:47:30.298Z"
   },
   {
    "duration": 8,
    "start_time": "2023-03-19T18:47:30.544Z"
   },
   {
    "duration": 485,
    "start_time": "2023-03-19T18:47:30.554Z"
   },
   {
    "duration": 982,
    "start_time": "2023-03-19T18:47:31.041Z"
   },
   {
    "duration": 165,
    "start_time": "2023-03-19T18:47:32.025Z"
   },
   {
    "duration": 813,
    "start_time": "2023-03-19T18:47:32.192Z"
   },
   {
    "duration": 3,
    "start_time": "2023-03-19T18:47:33.007Z"
   },
   {
    "duration": 25,
    "start_time": "2023-03-19T18:47:33.011Z"
   },
   {
    "duration": 277,
    "start_time": "2023-03-19T18:47:33.038Z"
   },
   {
    "duration": 249,
    "start_time": "2023-03-19T18:47:33.316Z"
   },
   {
    "duration": 227,
    "start_time": "2023-03-19T18:47:33.566Z"
   },
   {
    "duration": 197,
    "start_time": "2023-03-19T18:47:33.798Z"
   },
   {
    "duration": 163,
    "start_time": "2023-03-19T18:47:34.000Z"
   },
   {
    "duration": 131,
    "start_time": "2023-03-19T18:47:34.165Z"
   },
   {
    "duration": 13,
    "start_time": "2023-03-19T18:47:34.300Z"
   },
   {
    "duration": 2,
    "start_time": "2023-03-19T18:47:34.314Z"
   },
   {
    "duration": 98,
    "start_time": "2023-03-19T18:47:34.318Z"
   },
   {
    "duration": 0,
    "start_time": "2023-03-19T18:47:34.418Z"
   },
   {
    "duration": 0,
    "start_time": "2023-03-19T18:47:34.424Z"
   },
   {
    "duration": 0,
    "start_time": "2023-03-19T18:47:34.425Z"
   },
   {
    "duration": 0,
    "start_time": "2023-03-19T18:47:34.426Z"
   },
   {
    "duration": 0,
    "start_time": "2023-03-19T18:47:34.427Z"
   },
   {
    "duration": 0,
    "start_time": "2023-03-19T18:47:34.429Z"
   },
   {
    "duration": 0,
    "start_time": "2023-03-19T18:47:34.430Z"
   },
   {
    "duration": 0,
    "start_time": "2023-03-19T18:47:34.431Z"
   },
   {
    "duration": 0,
    "start_time": "2023-03-19T18:47:34.432Z"
   },
   {
    "duration": 0,
    "start_time": "2023-03-19T18:47:34.433Z"
   },
   {
    "duration": 0,
    "start_time": "2023-03-19T18:47:34.434Z"
   },
   {
    "duration": 0,
    "start_time": "2023-03-19T18:47:34.436Z"
   },
   {
    "duration": 0,
    "start_time": "2023-03-19T18:47:34.436Z"
   },
   {
    "duration": 0,
    "start_time": "2023-03-19T18:47:34.437Z"
   },
   {
    "duration": 0,
    "start_time": "2023-03-19T18:47:34.438Z"
   },
   {
    "duration": 0,
    "start_time": "2023-03-19T18:47:34.439Z"
   },
   {
    "duration": 0,
    "start_time": "2023-03-19T18:47:34.440Z"
   },
   {
    "duration": 0,
    "start_time": "2023-03-19T18:47:34.441Z"
   },
   {
    "duration": 0,
    "start_time": "2023-03-19T18:47:34.442Z"
   },
   {
    "duration": 0,
    "start_time": "2023-03-19T18:47:34.443Z"
   },
   {
    "duration": 1,
    "start_time": "2023-03-19T18:47:34.444Z"
   },
   {
    "duration": 0,
    "start_time": "2023-03-19T18:47:34.445Z"
   },
   {
    "duration": 0,
    "start_time": "2023-03-19T18:47:34.446Z"
   },
   {
    "duration": 0,
    "start_time": "2023-03-19T18:47:34.447Z"
   },
   {
    "duration": 0,
    "start_time": "2023-03-19T18:47:34.448Z"
   },
   {
    "duration": 0,
    "start_time": "2023-03-19T18:47:34.449Z"
   },
   {
    "duration": 0,
    "start_time": "2023-03-19T18:47:34.450Z"
   },
   {
    "duration": 0,
    "start_time": "2023-03-19T18:47:34.486Z"
   },
   {
    "duration": 0,
    "start_time": "2023-03-19T18:47:34.486Z"
   },
   {
    "duration": 0,
    "start_time": "2023-03-19T18:47:34.487Z"
   },
   {
    "duration": 0,
    "start_time": "2023-03-19T18:47:34.487Z"
   },
   {
    "duration": 0,
    "start_time": "2023-03-19T18:47:34.488Z"
   },
   {
    "duration": 0,
    "start_time": "2023-03-19T18:47:34.488Z"
   },
   {
    "duration": 8,
    "start_time": "2023-03-19T18:47:59.128Z"
   },
   {
    "duration": 6,
    "start_time": "2023-03-19T18:49:36.887Z"
   },
   {
    "duration": 211,
    "start_time": "2023-03-19T18:49:36.895Z"
   },
   {
    "duration": 8,
    "start_time": "2023-03-19T18:49:37.108Z"
   },
   {
    "duration": 612,
    "start_time": "2023-03-19T18:49:37.118Z"
   },
   {
    "duration": 895,
    "start_time": "2023-03-19T18:49:37.732Z"
   },
   {
    "duration": 124,
    "start_time": "2023-03-19T18:49:38.628Z"
   },
   {
    "duration": 1143,
    "start_time": "2023-03-19T18:49:38.753Z"
   },
   {
    "duration": 4,
    "start_time": "2023-03-19T18:49:39.897Z"
   },
   {
    "duration": 13,
    "start_time": "2023-03-19T18:49:39.903Z"
   },
   {
    "duration": 330,
    "start_time": "2023-03-19T18:49:39.918Z"
   },
   {
    "duration": 332,
    "start_time": "2023-03-19T18:49:40.250Z"
   },
   {
    "duration": 196,
    "start_time": "2023-03-19T18:49:46.850Z"
   },
   {
    "duration": 7,
    "start_time": "2023-03-19T18:50:27.104Z"
   },
   {
    "duration": 19,
    "start_time": "2023-03-19T18:50:45.688Z"
   },
   {
    "duration": 7,
    "start_time": "2023-03-19T18:50:50.469Z"
   },
   {
    "duration": 205,
    "start_time": "2023-03-19T18:50:50.478Z"
   },
   {
    "duration": 6,
    "start_time": "2023-03-19T18:50:50.685Z"
   },
   {
    "duration": 569,
    "start_time": "2023-03-19T18:50:50.693Z"
   },
   {
    "duration": 920,
    "start_time": "2023-03-19T18:50:51.279Z"
   },
   {
    "duration": 311,
    "start_time": "2023-03-19T18:50:52.201Z"
   },
   {
    "duration": 918,
    "start_time": "2023-03-19T18:50:52.514Z"
   },
   {
    "duration": 3,
    "start_time": "2023-03-19T18:50:53.434Z"
   },
   {
    "duration": 18,
    "start_time": "2023-03-19T18:50:53.438Z"
   },
   {
    "duration": 270,
    "start_time": "2023-03-19T18:50:53.457Z"
   },
   {
    "duration": 266,
    "start_time": "2023-03-19T18:50:53.729Z"
   },
   {
    "duration": 212,
    "start_time": "2023-03-19T18:50:57.928Z"
   },
   {
    "duration": 28,
    "start_time": "2023-03-19T18:51:05.939Z"
   },
   {
    "duration": 17,
    "start_time": "2023-03-19T18:51:08.932Z"
   },
   {
    "duration": 5,
    "start_time": "2023-03-19T18:51:11.425Z"
   },
   {
    "duration": 218,
    "start_time": "2023-03-19T18:51:11.431Z"
   },
   {
    "duration": 7,
    "start_time": "2023-03-19T18:51:11.650Z"
   },
   {
    "duration": 450,
    "start_time": "2023-03-19T18:51:11.658Z"
   },
   {
    "duration": 1099,
    "start_time": "2023-03-19T18:51:12.110Z"
   },
   {
    "duration": 166,
    "start_time": "2023-03-19T18:51:13.211Z"
   },
   {
    "duration": 882,
    "start_time": "2023-03-19T18:51:13.378Z"
   },
   {
    "duration": 4,
    "start_time": "2023-03-19T18:51:14.262Z"
   },
   {
    "duration": 23,
    "start_time": "2023-03-19T18:51:14.267Z"
   },
   {
    "duration": 343,
    "start_time": "2023-03-19T18:51:14.292Z"
   },
   {
    "duration": 284,
    "start_time": "2023-03-19T18:51:14.637Z"
   },
   {
    "duration": 189,
    "start_time": "2023-03-19T18:51:17.756Z"
   },
   {
    "duration": 10,
    "start_time": "2023-03-19T18:51:26.569Z"
   },
   {
    "duration": 168,
    "start_time": "2023-03-19T18:51:34.989Z"
   },
   {
    "duration": 146,
    "start_time": "2023-03-19T19:01:42.616Z"
   },
   {
    "duration": 8,
    "start_time": "2023-03-19T19:02:12.061Z"
   },
   {
    "duration": 12,
    "start_time": "2023-03-19T19:02:18.753Z"
   },
   {
    "duration": 102,
    "start_time": "2023-03-19T19:02:20.684Z"
   },
   {
    "duration": 147,
    "start_time": "2023-03-19T19:02:25.451Z"
   },
   {
    "duration": 17,
    "start_time": "2023-03-19T19:02:32.285Z"
   },
   {
    "duration": 24,
    "start_time": "2023-03-19T19:02:54.536Z"
   },
   {
    "duration": 161,
    "start_time": "2023-03-19T19:03:02.088Z"
   },
   {
    "duration": 154,
    "start_time": "2023-03-19T19:03:05.354Z"
   },
   {
    "duration": 198,
    "start_time": "2023-03-19T19:03:08.691Z"
   },
   {
    "duration": 13,
    "start_time": "2023-03-19T19:03:26.833Z"
   },
   {
    "duration": 19,
    "start_time": "2023-03-19T19:03:28.790Z"
   },
   {
    "duration": 163,
    "start_time": "2023-03-19T19:03:30.566Z"
   },
   {
    "duration": 146,
    "start_time": "2023-03-19T19:03:33.014Z"
   },
   {
    "duration": 19,
    "start_time": "2023-03-19T19:03:56.551Z"
   },
   {
    "duration": 18,
    "start_time": "2023-03-19T19:04:00.663Z"
   },
   {
    "duration": 378,
    "start_time": "2023-03-19T19:04:37.938Z"
   },
   {
    "duration": 16,
    "start_time": "2023-03-19T19:04:58.061Z"
   },
   {
    "duration": 16,
    "start_time": "2023-03-19T19:05:17.247Z"
   },
   {
    "duration": 9,
    "start_time": "2023-03-19T19:05:19.633Z"
   },
   {
    "duration": 189,
    "start_time": "2023-03-19T19:05:28.606Z"
   },
   {
    "duration": 16,
    "start_time": "2023-03-19T19:05:35.928Z"
   },
   {
    "duration": 177,
    "start_time": "2023-03-19T19:05:40.836Z"
   },
   {
    "duration": 169,
    "start_time": "2023-03-19T19:05:46.881Z"
   },
   {
    "duration": 10,
    "start_time": "2023-03-19T19:05:48.788Z"
   },
   {
    "duration": 180,
    "start_time": "2023-03-19T19:05:57.740Z"
   },
   {
    "duration": 173,
    "start_time": "2023-03-19T19:06:04.283Z"
   },
   {
    "duration": 4,
    "start_time": "2023-03-19T19:06:08.039Z"
   },
   {
    "duration": 647,
    "start_time": "2023-03-19T19:06:14.366Z"
   },
   {
    "duration": 589,
    "start_time": "2023-03-19T19:06:16.665Z"
   },
   {
    "duration": 6,
    "start_time": "2023-03-19T19:06:19.191Z"
   },
   {
    "duration": 12,
    "start_time": "2023-03-19T19:06:21.073Z"
   },
   {
    "duration": 274,
    "start_time": "2023-03-19T19:06:28.355Z"
   },
   {
    "duration": 175,
    "start_time": "2023-03-19T19:06:32.657Z"
   },
   {
    "duration": 436,
    "start_time": "2023-03-19T19:06:50.814Z"
   },
   {
    "duration": 194,
    "start_time": "2023-03-19T19:07:51.093Z"
   },
   {
    "duration": 173,
    "start_time": "2023-03-19T19:08:01.293Z"
   },
   {
    "duration": 408,
    "start_time": "2023-03-19T19:08:05.522Z"
   },
   {
    "duration": 191,
    "start_time": "2023-03-19T19:09:16.422Z"
   },
   {
    "duration": 396,
    "start_time": "2023-03-19T19:09:23.590Z"
   },
   {
    "duration": 209,
    "start_time": "2023-03-19T19:09:35.434Z"
   },
   {
    "duration": 427,
    "start_time": "2023-03-19T19:09:46.432Z"
   },
   {
    "duration": 363,
    "start_time": "2023-03-19T19:10:59.143Z"
   },
   {
    "duration": 8,
    "start_time": "2023-03-19T19:11:23.380Z"
   },
   {
    "duration": 190,
    "start_time": "2023-03-19T19:11:23.390Z"
   },
   {
    "duration": 6,
    "start_time": "2023-03-19T19:11:23.581Z"
   },
   {
    "duration": 359,
    "start_time": "2023-03-19T19:11:23.589Z"
   },
   {
    "duration": 1080,
    "start_time": "2023-03-19T19:11:23.950Z"
   },
   {
    "duration": 183,
    "start_time": "2023-03-19T19:11:25.032Z"
   },
   {
    "duration": 1239,
    "start_time": "2023-03-19T19:11:25.217Z"
   },
   {
    "duration": 2,
    "start_time": "2023-03-19T19:11:26.458Z"
   },
   {
    "duration": 12,
    "start_time": "2023-03-19T19:11:26.461Z"
   },
   {
    "duration": 269,
    "start_time": "2023-03-19T19:11:26.474Z"
   },
   {
    "duration": 239,
    "start_time": "2023-03-19T19:11:26.745Z"
   },
   {
    "duration": 204,
    "start_time": "2023-03-19T19:11:26.986Z"
   },
   {
    "duration": 11,
    "start_time": "2023-03-19T19:11:27.192Z"
   },
   {
    "duration": 9,
    "start_time": "2023-03-19T19:11:27.206Z"
   },
   {
    "duration": 177,
    "start_time": "2023-03-19T19:11:27.216Z"
   },
   {
    "duration": 238,
    "start_time": "2023-03-19T19:11:27.396Z"
   },
   {
    "duration": 11,
    "start_time": "2023-03-19T19:11:27.636Z"
   },
   {
    "duration": 19,
    "start_time": "2023-03-19T19:11:27.648Z"
   },
   {
    "duration": 2,
    "start_time": "2023-03-19T19:11:27.669Z"
   },
   {
    "duration": 163,
    "start_time": "2023-03-19T19:11:27.673Z"
   },
   {
    "duration": 148,
    "start_time": "2023-03-19T19:11:27.838Z"
   },
   {
    "duration": 157,
    "start_time": "2023-03-19T19:11:27.989Z"
   },
   {
    "duration": 32,
    "start_time": "2023-03-19T19:11:28.147Z"
   },
   {
    "duration": 12,
    "start_time": "2023-03-19T19:11:28.181Z"
   },
   {
    "duration": 135,
    "start_time": "2023-03-19T19:11:28.195Z"
   },
   {
    "duration": 136,
    "start_time": "2023-03-19T19:11:28.331Z"
   },
   {
    "duration": 23,
    "start_time": "2023-03-19T19:11:28.468Z"
   },
   {
    "duration": 26,
    "start_time": "2023-03-19T19:11:28.493Z"
   },
   {
    "duration": 408,
    "start_time": "2023-03-19T19:11:28.521Z"
   },
   {
    "duration": 16,
    "start_time": "2023-03-19T19:11:28.931Z"
   },
   {
    "duration": 42,
    "start_time": "2023-03-19T19:11:28.949Z"
   },
   {
    "duration": 5,
    "start_time": "2023-03-19T19:11:28.992Z"
   },
   {
    "duration": 169,
    "start_time": "2023-03-19T19:11:28.998Z"
   },
   {
    "duration": 10,
    "start_time": "2023-03-19T19:11:29.169Z"
   },
   {
    "duration": 135,
    "start_time": "2023-03-19T19:11:29.180Z"
   },
   {
    "duration": 156,
    "start_time": "2023-03-19T19:11:29.316Z"
   },
   {
    "duration": 9,
    "start_time": "2023-03-19T19:11:29.474Z"
   },
   {
    "duration": 2,
    "start_time": "2023-03-19T19:11:29.484Z"
   },
   {
    "duration": 139,
    "start_time": "2023-03-19T19:11:29.487Z"
   },
   {
    "duration": 167,
    "start_time": "2023-03-19T19:11:29.627Z"
   },
   {
    "duration": 3,
    "start_time": "2023-03-19T19:11:29.798Z"
   },
   {
    "duration": 9,
    "start_time": "2023-03-19T19:11:29.803Z"
   },
   {
    "duration": 4,
    "start_time": "2023-03-19T19:11:29.813Z"
   },
   {
    "duration": 9,
    "start_time": "2023-03-19T19:11:29.819Z"
   },
   {
    "duration": 664,
    "start_time": "2023-03-19T19:11:29.830Z"
   },
   {
    "duration": 765,
    "start_time": "2023-03-19T19:11:30.495Z"
   },
   {
    "duration": 4,
    "start_time": "2023-03-19T19:11:31.262Z"
   },
   {
    "duration": 39,
    "start_time": "2023-03-19T19:11:31.267Z"
   },
   {
    "duration": 399,
    "start_time": "2023-03-19T19:11:31.308Z"
   },
   {
    "duration": 208,
    "start_time": "2023-03-19T19:11:31.708Z"
   },
   {
    "duration": 361,
    "start_time": "2023-03-19T19:11:38.385Z"
   },
   {
    "duration": 165,
    "start_time": "2023-03-19T19:12:02.945Z"
   },
   {
    "duration": 367,
    "start_time": "2023-03-19T19:12:08.343Z"
   },
   {
    "duration": 104,
    "start_time": "2023-03-19T19:16:53.342Z"
   },
   {
    "duration": 4,
    "start_time": "2023-03-19T19:16:56.443Z"
   },
   {
    "duration": 185,
    "start_time": "2023-03-19T19:16:56.449Z"
   },
   {
    "duration": 7,
    "start_time": "2023-03-19T19:16:56.635Z"
   },
   {
    "duration": 354,
    "start_time": "2023-03-19T19:16:56.644Z"
   },
   {
    "duration": 780,
    "start_time": "2023-03-19T19:16:57.001Z"
   },
   {
    "duration": 114,
    "start_time": "2023-03-19T19:16:57.783Z"
   },
   {
    "duration": 768,
    "start_time": "2023-03-19T19:16:57.898Z"
   },
   {
    "duration": 2,
    "start_time": "2023-03-19T19:16:58.668Z"
   },
   {
    "duration": 19,
    "start_time": "2023-03-19T19:16:58.672Z"
   },
   {
    "duration": 256,
    "start_time": "2023-03-19T19:16:58.693Z"
   },
   {
    "duration": 257,
    "start_time": "2023-03-19T19:16:58.951Z"
   },
   {
    "duration": 249,
    "start_time": "2023-03-19T19:17:04.189Z"
   },
   {
    "duration": 173,
    "start_time": "2023-03-19T19:17:04.440Z"
   },
   {
    "duration": 12,
    "start_time": "2023-03-19T19:17:04.615Z"
   },
   {
    "duration": 8,
    "start_time": "2023-03-19T19:17:04.628Z"
   },
   {
    "duration": 161,
    "start_time": "2023-03-19T19:17:04.638Z"
   },
   {
    "duration": 167,
    "start_time": "2023-03-19T19:17:04.801Z"
   },
   {
    "duration": 16,
    "start_time": "2023-03-19T19:17:04.970Z"
   },
   {
    "duration": 40,
    "start_time": "2023-03-19T19:17:04.988Z"
   },
   {
    "duration": 11,
    "start_time": "2023-03-19T19:17:05.030Z"
   },
   {
    "duration": 151,
    "start_time": "2023-03-19T19:17:05.042Z"
   },
   {
    "duration": 184,
    "start_time": "2023-03-19T19:17:05.195Z"
   },
   {
    "duration": 134,
    "start_time": "2023-03-19T19:17:05.381Z"
   },
   {
    "duration": 15,
    "start_time": "2023-03-19T19:17:05.516Z"
   },
   {
    "duration": 49,
    "start_time": "2023-03-19T19:17:05.535Z"
   },
   {
    "duration": 126,
    "start_time": "2023-03-19T19:17:05.586Z"
   },
   {
    "duration": 123,
    "start_time": "2023-03-19T19:17:05.714Z"
   },
   {
    "duration": 46,
    "start_time": "2023-03-19T19:17:05.838Z"
   },
   {
    "duration": 16,
    "start_time": "2023-03-19T19:17:05.886Z"
   },
   {
    "duration": 470,
    "start_time": "2023-03-19T19:17:05.903Z"
   },
   {
    "duration": 17,
    "start_time": "2023-03-19T19:17:06.374Z"
   },
   {
    "duration": 14,
    "start_time": "2023-03-19T19:17:06.393Z"
   },
   {
    "duration": 9,
    "start_time": "2023-03-19T19:17:06.409Z"
   },
   {
    "duration": 191,
    "start_time": "2023-03-19T19:17:06.419Z"
   },
   {
    "duration": 13,
    "start_time": "2023-03-19T19:17:06.612Z"
   },
   {
    "duration": 256,
    "start_time": "2023-03-19T19:17:06.626Z"
   },
   {
    "duration": 139,
    "start_time": "2023-03-19T19:17:06.884Z"
   },
   {
    "duration": 10,
    "start_time": "2023-03-19T19:17:07.024Z"
   },
   {
    "duration": 4,
    "start_time": "2023-03-19T19:17:07.036Z"
   },
   {
    "duration": 189,
    "start_time": "2023-03-19T19:17:07.041Z"
   },
   {
    "duration": 134,
    "start_time": "2023-03-19T19:17:07.232Z"
   },
   {
    "duration": 3,
    "start_time": "2023-03-19T19:17:07.367Z"
   },
   {
    "duration": 5,
    "start_time": "2023-03-19T19:17:07.372Z"
   },
   {
    "duration": 6,
    "start_time": "2023-03-19T19:17:07.378Z"
   },
   {
    "duration": 4,
    "start_time": "2023-03-19T19:17:07.385Z"
   },
   {
    "duration": 801,
    "start_time": "2023-03-19T19:17:07.390Z"
   },
   {
    "duration": 749,
    "start_time": "2023-03-19T19:17:08.193Z"
   },
   {
    "duration": 5,
    "start_time": "2023-03-19T19:17:08.944Z"
   },
   {
    "duration": 17,
    "start_time": "2023-03-19T19:17:08.950Z"
   },
   {
    "duration": 389,
    "start_time": "2023-03-19T19:17:08.969Z"
   },
   {
    "duration": 159,
    "start_time": "2023-03-19T19:17:09.380Z"
   },
   {
    "duration": 390,
    "start_time": "2023-03-19T19:17:09.543Z"
   },
   {
    "duration": 169,
    "start_time": "2023-03-19T19:17:09.934Z"
   },
   {
    "duration": 486,
    "start_time": "2023-03-19T19:17:10.105Z"
   },
   {
    "duration": 798,
    "start_time": "2023-03-19T19:17:10.593Z"
   },
   {
    "duration": 16,
    "start_time": "2023-03-19T19:17:43.329Z"
   },
   {
    "duration": 16,
    "start_time": "2023-03-19T19:18:07.412Z"
   },
   {
    "duration": 6,
    "start_time": "2023-03-19T19:18:15.542Z"
   },
   {
    "duration": 662,
    "start_time": "2023-03-19T19:18:15.550Z"
   },
   {
    "duration": 9,
    "start_time": "2023-03-19T19:18:16.214Z"
   },
   {
    "duration": 402,
    "start_time": "2023-03-19T19:18:16.225Z"
   },
   {
    "duration": 969,
    "start_time": "2023-03-19T19:18:16.629Z"
   },
   {
    "duration": 115,
    "start_time": "2023-03-19T19:18:17.599Z"
   },
   {
    "duration": 808,
    "start_time": "2023-03-19T19:18:17.715Z"
   },
   {
    "duration": 3,
    "start_time": "2023-03-19T19:18:18.524Z"
   },
   {
    "duration": 23,
    "start_time": "2023-03-19T19:18:18.529Z"
   },
   {
    "duration": 275,
    "start_time": "2023-03-19T19:18:18.554Z"
   },
   {
    "duration": 344,
    "start_time": "2023-03-19T19:18:18.832Z"
   },
   {
    "duration": 168,
    "start_time": "2023-03-19T19:18:19.178Z"
   },
   {
    "duration": 43,
    "start_time": "2023-03-19T19:18:19.347Z"
   },
   {
    "duration": 12,
    "start_time": "2023-03-19T19:18:19.392Z"
   },
   {
    "duration": 128,
    "start_time": "2023-03-19T19:18:19.406Z"
   },
   {
    "duration": 139,
    "start_time": "2023-03-19T19:18:19.535Z"
   },
   {
    "duration": 25,
    "start_time": "2023-03-19T19:18:19.675Z"
   },
   {
    "duration": 34,
    "start_time": "2023-03-19T19:18:19.702Z"
   },
   {
    "duration": 2,
    "start_time": "2023-03-19T19:18:19.737Z"
   },
   {
    "duration": 165,
    "start_time": "2023-03-19T19:18:19.741Z"
   },
   {
    "duration": 149,
    "start_time": "2023-03-19T19:18:19.907Z"
   },
   {
    "duration": 151,
    "start_time": "2023-03-19T19:18:20.058Z"
   },
   {
    "duration": 13,
    "start_time": "2023-03-19T19:18:20.210Z"
   },
   {
    "duration": 17,
    "start_time": "2023-03-19T19:18:20.224Z"
   },
   {
    "duration": 151,
    "start_time": "2023-03-19T19:18:20.243Z"
   },
   {
    "duration": 163,
    "start_time": "2023-03-19T19:18:20.396Z"
   },
   {
    "duration": 39,
    "start_time": "2023-03-19T19:18:20.560Z"
   },
   {
    "duration": 16,
    "start_time": "2023-03-19T19:18:20.601Z"
   },
   {
    "duration": 598,
    "start_time": "2023-03-19T19:18:20.620Z"
   },
   {
    "duration": 16,
    "start_time": "2023-03-19T19:18:21.220Z"
   },
   {
    "duration": 14,
    "start_time": "2023-03-19T19:18:21.238Z"
   },
   {
    "duration": 29,
    "start_time": "2023-03-19T19:18:21.253Z"
   },
   {
    "duration": 154,
    "start_time": "2023-03-19T19:18:21.284Z"
   },
   {
    "duration": 10,
    "start_time": "2023-03-19T19:18:21.440Z"
   },
   {
    "duration": 169,
    "start_time": "2023-03-19T19:18:21.451Z"
   },
   {
    "duration": 154,
    "start_time": "2023-03-19T19:18:21.622Z"
   },
   {
    "duration": 12,
    "start_time": "2023-03-19T19:18:21.778Z"
   },
   {
    "duration": 19,
    "start_time": "2023-03-19T19:18:21.791Z"
   },
   {
    "duration": 190,
    "start_time": "2023-03-19T19:18:21.812Z"
   },
   {
    "duration": 152,
    "start_time": "2023-03-19T19:18:22.005Z"
   },
   {
    "duration": 4,
    "start_time": "2023-03-19T19:18:22.159Z"
   },
   {
    "duration": 5,
    "start_time": "2023-03-19T19:18:22.164Z"
   },
   {
    "duration": 10,
    "start_time": "2023-03-19T19:18:22.170Z"
   },
   {
    "duration": 27,
    "start_time": "2023-03-19T19:18:22.185Z"
   },
   {
    "duration": 637,
    "start_time": "2023-03-19T19:18:22.213Z"
   },
   {
    "duration": 652,
    "start_time": "2023-03-19T19:18:22.852Z"
   },
   {
    "duration": 6,
    "start_time": "2023-03-19T19:18:23.505Z"
   },
   {
    "duration": 9,
    "start_time": "2023-03-19T19:18:23.513Z"
   },
   {
    "duration": 360,
    "start_time": "2023-03-19T19:18:23.523Z"
   },
   {
    "duration": 151,
    "start_time": "2023-03-19T19:18:23.885Z"
   },
   {
    "duration": 345,
    "start_time": "2023-03-19T19:18:28.598Z"
   },
   {
    "duration": 333,
    "start_time": "2023-03-19T19:18:32.199Z"
   },
   {
    "duration": 432,
    "start_time": "2023-03-19T19:18:35.589Z"
   },
   {
    "duration": 8,
    "start_time": "2023-03-19T19:21:42.081Z"
   },
   {
    "duration": 222,
    "start_time": "2023-03-19T19:21:42.092Z"
   },
   {
    "duration": 8,
    "start_time": "2023-03-19T19:21:42.315Z"
   },
   {
    "duration": 418,
    "start_time": "2023-03-19T19:21:42.325Z"
   },
   {
    "duration": 922,
    "start_time": "2023-03-19T19:21:42.745Z"
   },
   {
    "duration": 135,
    "start_time": "2023-03-19T19:21:43.668Z"
   },
   {
    "duration": 817,
    "start_time": "2023-03-19T19:21:43.805Z"
   },
   {
    "duration": 2,
    "start_time": "2023-03-19T19:21:44.624Z"
   },
   {
    "duration": 11,
    "start_time": "2023-03-19T19:21:44.628Z"
   },
   {
    "duration": 293,
    "start_time": "2023-03-19T19:21:44.640Z"
   },
   {
    "duration": 359,
    "start_time": "2023-03-19T19:21:44.935Z"
   },
   {
    "duration": 233,
    "start_time": "2023-03-19T19:21:45.297Z"
   },
   {
    "duration": 15,
    "start_time": "2023-03-19T19:21:45.583Z"
   },
   {
    "duration": 19,
    "start_time": "2023-03-19T19:21:45.600Z"
   },
   {
    "duration": 178,
    "start_time": "2023-03-19T19:21:45.620Z"
   },
   {
    "duration": 125,
    "start_time": "2023-03-19T19:21:45.800Z"
   },
   {
    "duration": 13,
    "start_time": "2023-03-19T19:21:45.926Z"
   },
   {
    "duration": 48,
    "start_time": "2023-03-19T19:21:45.941Z"
   },
   {
    "duration": 142,
    "start_time": "2023-03-19T19:21:45.990Z"
   },
   {
    "duration": 19,
    "start_time": "2023-03-19T19:21:46.134Z"
   },
   {
    "duration": 31,
    "start_time": "2023-03-19T19:21:46.155Z"
   },
   {
    "duration": 26,
    "start_time": "2023-03-19T19:21:46.189Z"
   },
   {
    "duration": 28,
    "start_time": "2023-03-19T19:21:46.217Z"
   },
   {
    "duration": 489,
    "start_time": "2023-03-19T19:21:46.246Z"
   },
   {
    "duration": 16,
    "start_time": "2023-03-19T19:21:46.737Z"
   },
   {
    "duration": 41,
    "start_time": "2023-03-19T19:21:46.755Z"
   },
   {
    "duration": 6,
    "start_time": "2023-03-19T19:21:46.797Z"
   },
   {
    "duration": 207,
    "start_time": "2023-03-19T19:21:46.804Z"
   },
   {
    "duration": 11,
    "start_time": "2023-03-19T19:21:47.013Z"
   },
   {
    "duration": 184,
    "start_time": "2023-03-19T19:21:47.025Z"
   },
   {
    "duration": 157,
    "start_time": "2023-03-19T19:21:47.211Z"
   },
   {
    "duration": 12,
    "start_time": "2023-03-19T19:21:47.369Z"
   },
   {
    "duration": 644,
    "start_time": "2023-03-19T19:21:47.382Z"
   },
   {
    "duration": 571,
    "start_time": "2023-03-19T19:21:48.028Z"
   },
   {
    "duration": 7,
    "start_time": "2023-03-19T19:21:48.600Z"
   },
   {
    "duration": 8,
    "start_time": "2023-03-19T19:21:48.608Z"
   },
   {
    "duration": 339,
    "start_time": "2023-03-19T19:21:48.619Z"
   },
   {
    "duration": 138,
    "start_time": "2023-03-19T19:21:48.960Z"
   },
   {
    "duration": 365,
    "start_time": "2023-03-19T19:21:49.100Z"
   },
   {
    "duration": 286,
    "start_time": "2023-03-19T19:21:49.467Z"
   },
   {
    "duration": 338,
    "start_time": "2023-03-19T19:21:49.755Z"
   },
   {
    "duration": 359,
    "start_time": "2023-03-19T19:21:50.094Z"
   },
   {
    "duration": 737,
    "start_time": "2023-03-20T16:01:01.317Z"
   },
   {
    "duration": 23777,
    "start_time": "2023-03-20T16:01:02.056Z"
   },
   {
    "duration": 102,
    "start_time": "2023-03-20T16:01:25.835Z"
   },
   {
    "duration": 4378,
    "start_time": "2023-03-20T16:01:25.939Z"
   },
   {
    "duration": 3701,
    "start_time": "2023-03-20T16:01:30.319Z"
   },
   {
    "duration": 776,
    "start_time": "2023-03-20T16:01:34.022Z"
   },
   {
    "duration": 2534,
    "start_time": "2023-03-20T16:01:34.801Z"
   },
   {
    "duration": 3,
    "start_time": "2023-03-20T16:01:37.337Z"
   },
   {
    "duration": 60,
    "start_time": "2023-03-20T16:01:37.342Z"
   },
   {
    "duration": 448,
    "start_time": "2023-03-20T16:01:37.407Z"
   },
   {
    "duration": 0,
    "start_time": "2023-03-20T16:01:37.858Z"
   },
   {
    "duration": 0,
    "start_time": "2023-03-20T16:01:37.859Z"
   },
   {
    "duration": 0,
    "start_time": "2023-03-20T16:01:37.861Z"
   },
   {
    "duration": 0,
    "start_time": "2023-03-20T16:01:37.866Z"
   },
   {
    "duration": 0,
    "start_time": "2023-03-20T16:01:37.870Z"
   },
   {
    "duration": 0,
    "start_time": "2023-03-20T16:01:37.871Z"
   },
   {
    "duration": 0,
    "start_time": "2023-03-20T16:01:37.875Z"
   },
   {
    "duration": 0,
    "start_time": "2023-03-20T16:01:37.877Z"
   },
   {
    "duration": 0,
    "start_time": "2023-03-20T16:01:37.878Z"
   },
   {
    "duration": 0,
    "start_time": "2023-03-20T16:01:37.880Z"
   },
   {
    "duration": 0,
    "start_time": "2023-03-20T16:01:37.881Z"
   },
   {
    "duration": 0,
    "start_time": "2023-03-20T16:01:37.882Z"
   },
   {
    "duration": 0,
    "start_time": "2023-03-20T16:01:37.883Z"
   },
   {
    "duration": 0,
    "start_time": "2023-03-20T16:01:37.884Z"
   },
   {
    "duration": 0,
    "start_time": "2023-03-20T16:01:37.885Z"
   },
   {
    "duration": 0,
    "start_time": "2023-03-20T16:01:37.898Z"
   },
   {
    "duration": 0,
    "start_time": "2023-03-20T16:01:37.899Z"
   },
   {
    "duration": 0,
    "start_time": "2023-03-20T16:01:37.900Z"
   },
   {
    "duration": 0,
    "start_time": "2023-03-20T16:01:37.902Z"
   },
   {
    "duration": 0,
    "start_time": "2023-03-20T16:01:37.903Z"
   },
   {
    "duration": 0,
    "start_time": "2023-03-20T16:01:37.905Z"
   },
   {
    "duration": 0,
    "start_time": "2023-03-20T16:01:37.906Z"
   },
   {
    "duration": 0,
    "start_time": "2023-03-20T16:01:37.907Z"
   },
   {
    "duration": 0,
    "start_time": "2023-03-20T16:01:37.908Z"
   },
   {
    "duration": 1,
    "start_time": "2023-03-20T16:01:37.909Z"
   },
   {
    "duration": 0,
    "start_time": "2023-03-20T16:01:37.911Z"
   },
   {
    "duration": 0,
    "start_time": "2023-03-20T16:01:37.912Z"
   },
   {
    "duration": 0,
    "start_time": "2023-03-20T16:01:37.913Z"
   },
   {
    "duration": 0,
    "start_time": "2023-03-20T16:01:37.915Z"
   },
   {
    "duration": 0,
    "start_time": "2023-03-20T16:01:37.916Z"
   },
   {
    "duration": 0,
    "start_time": "2023-03-20T16:01:37.917Z"
   },
   {
    "duration": 0,
    "start_time": "2023-03-20T16:01:37.918Z"
   },
   {
    "duration": 0,
    "start_time": "2023-03-20T16:01:37.919Z"
   },
   {
    "duration": 216,
    "start_time": "2023-03-20T16:03:30.199Z"
   },
   {
    "duration": 755,
    "start_time": "2023-03-20T16:05:31.887Z"
   },
   {
    "duration": 24881,
    "start_time": "2023-03-20T16:05:32.644Z"
   },
   {
    "duration": 109,
    "start_time": "2023-03-20T16:05:57.528Z"
   },
   {
    "duration": 4760,
    "start_time": "2023-03-20T16:05:57.639Z"
   },
   {
    "duration": 4701,
    "start_time": "2023-03-20T16:06:02.400Z"
   },
   {
    "duration": 721,
    "start_time": "2023-03-20T16:06:07.103Z"
   },
   {
    "duration": 2801,
    "start_time": "2023-03-20T16:06:07.826Z"
   },
   {
    "duration": 3,
    "start_time": "2023-03-20T16:06:10.629Z"
   },
   {
    "duration": 70,
    "start_time": "2023-03-20T16:06:10.634Z"
   },
   {
    "duration": 1325,
    "start_time": "2023-03-20T16:06:10.710Z"
   },
   {
    "duration": 1072,
    "start_time": "2023-03-20T16:06:12.036Z"
   },
   {
    "duration": 1589,
    "start_time": "2023-03-20T16:06:13.112Z"
   },
   {
    "duration": 123,
    "start_time": "2023-03-20T16:06:14.703Z"
   },
   {
    "duration": 89,
    "start_time": "2023-03-20T16:06:14.827Z"
   },
   {
    "duration": 692,
    "start_time": "2023-03-20T16:06:14.918Z"
   },
   {
    "duration": 509,
    "start_time": "2023-03-20T16:06:15.612Z"
   },
   {
    "duration": 306,
    "start_time": "2023-03-20T16:06:16.124Z"
   },
   {
    "duration": 181,
    "start_time": "2023-03-20T16:06:16.432Z"
   },
   {
    "duration": 584,
    "start_time": "2023-03-20T16:06:16.615Z"
   },
   {
    "duration": 96,
    "start_time": "2023-03-20T16:06:17.201Z"
   },
   {
    "duration": 29,
    "start_time": "2023-03-20T16:06:17.300Z"
   },
   {
    "duration": 106,
    "start_time": "2023-03-20T16:06:17.331Z"
   },
   {
    "duration": 91,
    "start_time": "2023-03-20T16:06:17.439Z"
   },
   {
    "duration": 1922,
    "start_time": "2023-03-20T16:06:17.597Z"
   },
   {
    "duration": 101,
    "start_time": "2023-03-20T16:06:19.521Z"
   },
   {
    "duration": 89,
    "start_time": "2023-03-20T16:06:19.623Z"
   },
   {
    "duration": 14,
    "start_time": "2023-03-20T16:06:19.714Z"
   },
   {
    "duration": 605,
    "start_time": "2023-03-20T16:06:19.799Z"
   },
   {
    "duration": 19,
    "start_time": "2023-03-20T16:06:20.405Z"
   },
   {
    "duration": 505,
    "start_time": "2023-03-20T16:06:20.425Z"
   },
   {
    "duration": 494,
    "start_time": "2023-03-20T16:06:20.932Z"
   },
   {
    "duration": 76,
    "start_time": "2023-03-20T16:06:21.428Z"
   },
   {
    "duration": 3703,
    "start_time": "2023-03-20T16:06:21.507Z"
   },
   {
    "duration": 1794,
    "start_time": "2023-03-20T16:06:25.212Z"
   },
   {
    "duration": 6,
    "start_time": "2023-03-20T16:06:27.008Z"
   },
   {
    "duration": 8,
    "start_time": "2023-03-20T16:06:27.016Z"
   },
   {
    "duration": 1076,
    "start_time": "2023-03-20T16:06:27.026Z"
   },
   {
    "duration": 397,
    "start_time": "2023-03-20T16:06:28.106Z"
   },
   {
    "duration": 1001,
    "start_time": "2023-03-20T16:06:28.505Z"
   },
   {
    "duration": 825,
    "start_time": "2023-03-20T16:06:29.509Z"
   },
   {
    "duration": 892,
    "start_time": "2023-03-20T16:06:30.337Z"
   },
   {
    "duration": 374,
    "start_time": "2023-03-20T16:06:31.231Z"
   },
   {
    "duration": 742,
    "start_time": "2024-03-24T18:30:33.970Z"
   },
   {
    "duration": 26600,
    "start_time": "2024-03-24T18:30:45.875Z"
   },
   {
    "duration": 49,
    "start_time": "2024-03-24T18:32:33.203Z"
   },
   {
    "duration": 5306,
    "start_time": "2024-03-24T18:32:37.967Z"
   },
   {
    "duration": 4558,
    "start_time": "2024-03-24T18:32:48.826Z"
   },
   {
    "duration": 707,
    "start_time": "2024-03-24T18:32:57.473Z"
   },
   {
    "duration": 2851,
    "start_time": "2024-03-24T18:33:04.636Z"
   },
   {
    "duration": 3,
    "start_time": "2024-03-24T18:33:17.013Z"
   },
   {
    "duration": 14,
    "start_time": "2024-03-24T18:33:20.980Z"
   },
   {
    "duration": 1873,
    "start_time": "2024-03-24T18:33:45.509Z"
   },
   {
    "duration": 1088,
    "start_time": "2024-03-24T18:33:49.290Z"
   },
   {
    "duration": 1413,
    "start_time": "2024-03-24T18:33:52.087Z"
   },
   {
    "duration": 66,
    "start_time": "2024-03-24T18:33:56.701Z"
   },
   {
    "duration": 24,
    "start_time": "2024-03-24T18:34:07.490Z"
   },
   {
    "duration": 569,
    "start_time": "2024-03-24T18:34:48.417Z"
   },
   {
    "duration": 355,
    "start_time": "2024-03-24T18:34:50.965Z"
   },
   {
    "duration": 189,
    "start_time": "2024-03-24T18:35:17.951Z"
   },
   {
    "duration": 110,
    "start_time": "2024-03-24T18:35:21.070Z"
   },
   {
    "duration": 508,
    "start_time": "2024-03-24T18:35:24.062Z"
   },
   {
    "duration": 37,
    "start_time": "2024-03-24T18:35:31.365Z"
   },
   {
    "duration": 17,
    "start_time": "2024-03-24T18:35:33.237Z"
   },
   {
    "duration": 103,
    "start_time": "2024-03-24T18:35:42.862Z"
   },
   {
    "duration": 31,
    "start_time": "2024-03-24T18:35:44.010Z"
   },
   {
    "duration": 2013,
    "start_time": "2024-03-24T18:35:45.060Z"
   },
   {
    "duration": 48,
    "start_time": "2024-03-24T18:35:58.347Z"
   },
   {
    "duration": 34,
    "start_time": "2024-03-24T18:35:59.275Z"
   },
   {
    "duration": 8,
    "start_time": "2024-03-24T18:36:01.500Z"
   },
   {
    "duration": 75,
    "start_time": "2024-03-24T18:36:26.299Z"
   },
   {
    "duration": 464,
    "start_time": "2024-03-24T18:36:29.250Z"
   },
   {
    "duration": 15,
    "start_time": "2024-03-24T18:36:33.470Z"
   },
   {
    "duration": 366,
    "start_time": "2024-03-24T18:36:36.599Z"
   },
   {
    "duration": 356,
    "start_time": "2024-03-24T18:36:40.080Z"
   },
   {
    "duration": 22,
    "start_time": "2024-03-24T18:36:44.206Z"
   },
   {
    "duration": 4597,
    "start_time": "2024-03-24T18:37:12.359Z"
   },
   {
    "duration": 1857,
    "start_time": "2024-03-24T18:37:19.613Z"
   },
   {
    "duration": 7,
    "start_time": "2024-03-24T18:37:24.968Z"
   },
   {
    "duration": 5,
    "start_time": "2024-03-24T18:37:27.756Z"
   },
   {
    "duration": 1262,
    "start_time": "2024-03-24T18:37:37.744Z"
   },
   {
    "duration": 865,
    "start_time": "2024-03-24T18:43:24.876Z"
   },
   {
    "duration": 372,
    "start_time": "2024-03-24T18:44:36.804Z"
   },
   {
    "duration": 1030,
    "start_time": "2024-03-24T18:45:06.147Z"
   },
   {
    "duration": 741,
    "start_time": "2024-03-24T18:45:09.330Z"
   },
   {
    "duration": 744,
    "start_time": "2024-03-24T18:45:22.148Z"
   },
   {
    "duration": 455,
    "start_time": "2024-03-24T18:45:32.274Z"
   }
  ],
  "colab": {
   "name": "PySparkSprint.ipynb",
   "provenance": []
  },
  "kernelspec": {
   "display_name": "Python 3 (ipykernel)",
   "language": "python",
   "name": "python3"
  },
  "language_info": {
   "codemirror_mode": {
    "name": "ipython",
    "version": 3
   },
   "file_extension": ".py",
   "mimetype": "text/x-python",
   "name": "python",
   "nbconvert_exporter": "python",
   "pygments_lexer": "ipython3",
   "version": "3.9.5"
  },
  "toc": {
   "base_numbering": 1,
   "nav_menu": {},
   "number_sections": true,
   "sideBar": true,
   "skip_h1_title": true,
   "title_cell": "Table of Contents",
   "title_sidebar": "Contents",
   "toc_cell": false,
   "toc_position": {},
   "toc_section_display": true,
   "toc_window_display": true
  }
 },
 "nbformat": 4,
 "nbformat_minor": 5
}
