{
 "cells": [
  {
   "cell_type": "markdown",
   "metadata": {
    "toc": true
   },
   "source": [
    "<h1>Содержание<span class=\"tocSkip\"></span></h1>\n",
    "<div class=\"toc\"><ul class=\"toc-item\"><li><span><a href=\"#Загрузка-данных\" data-toc-modified-id=\"Загрузка-данных-1\"><span class=\"toc-item-num\">1&nbsp;&nbsp;</span>Загрузка данных</a></span></li><li><span><a href=\"#Умножение-матриц\" data-toc-modified-id=\"Умножение-матриц-2\"><span class=\"toc-item-num\">2&nbsp;&nbsp;</span>Умножение матриц</a></span></li><li><span><a href=\"#Алгоритм-преобразования\" data-toc-modified-id=\"Алгоритм-преобразования-3\"><span class=\"toc-item-num\">3&nbsp;&nbsp;</span>Алгоритм преобразования</a></span></li><li><span><a href=\"#Проверка-алгоритма\" data-toc-modified-id=\"Проверка-алгоритма-4\"><span class=\"toc-item-num\">4&nbsp;&nbsp;</span>Проверка алгоритма</a></span></li><li><span><a href=\"#Выводы\" data-toc-modified-id=\"Выводы-5\"><span class=\"toc-item-num\">5&nbsp;&nbsp;</span>Выводы</a></span></li><li><span><a href=\"#Чек-лист-проверки\" data-toc-modified-id=\"Чек-лист-проверки-6\"><span class=\"toc-item-num\">6&nbsp;&nbsp;</span>Чек-лист проверки</a></span></li></ul></div>"
   ]
  },
  {
   "cell_type": "markdown",
   "metadata": {},
   "source": [
    "# Защита персональных данных клиентов"
   ]
  },
  {
   "cell_type": "markdown",
   "metadata": {},
   "source": [
    "Вам нужно защитить данные клиентов страховой компании «Хоть потоп». Разработайте такой метод преобразования данных, чтобы по ним было сложно восстановить персональную информацию. Обоснуйте корректность его работы.\n",
    "\n",
    "Нужно защитить данные, чтобы при преобразовании качество моделей машинного обучения не ухудшилось. Подбирать наилучшую модель не требуется."
   ]
  },
  {
   "cell_type": "markdown",
   "metadata": {},
   "source": [
    "## Загрузка данных"
   ]
  },
  {
   "cell_type": "code",
   "execution_count": null,
   "metadata": {},
   "outputs": [],
   "source": [
    "import pandas as pd\n",
    "import numpy as np\n",
    "from sklearn.model_selection import train_test_split\n",
    "from sklearn.preprocessing import StandardScaler\n",
    "from sklearn.pipeline import Pipeline\n",
    "from sklearn.linear_model import LinearRegression\n",
    "from sklearn.metrics import r2_score"
   ]
  },
  {
   "cell_type": "code",
   "execution_count": null,
   "metadata": {},
   "outputs": [],
   "source": [
    "df = pd.read_csv('/datasets/insurance.csv')\n",
    "\n",
    "df.isna().sum()\n",
    "df.describe()\n",
    "df.duplicated().sum()"
   ]
  },
  {
   "cell_type": "markdown",
   "metadata": {},
   "source": [
    "в данных нет пропусков, зато есть 153 дубликата. удалять ли их?\n"
   ]
  },
  {
   "cell_type": "code",
   "execution_count": null,
   "metadata": {
    "scrolled": true
   },
   "outputs": [],
   "source": [
    "df.info()\n",
    "df['Возраст'].unique()\n",
    "df['Зарплата'].unique()"
   ]
  },
  {
   "cell_type": "markdown",
   "metadata": {},
   "source": [
    "Дробных значений в столбцах типа float нет. Изменим их тип на int."
   ]
  },
  {
   "cell_type": "code",
   "execution_count": null,
   "metadata": {},
   "outputs": [],
   "source": [
    "df['Возраст'] = df['Возраст'].astype('int')\n",
    "df['Зарплата'] = df['Зарплата'].astype('int')\n",
    "df.info()"
   ]
  },
  {
   "cell_type": "markdown",
   "metadata": {},
   "source": [
    "## Умножение матриц"
   ]
  },
  {
   "cell_type": "markdown",
   "metadata": {},
   "source": [
    "В этом задании вы можете записывать формулы в *Jupyter Notebook.*\n",
    "\n",
    "Чтобы записать формулу внутри текста, окружите её символами доллара \\\\$; если снаружи —  двойными символами \\\\$\\\\$. Эти формулы записываются на языке вёрстки *LaTeX.* \n",
    "\n",
    "Для примера мы записали формулы линейной регрессии. Можете их скопировать и отредактировать, чтобы решить задачу.\n",
    "\n",
    "Работать в *LaTeX* необязательно."
   ]
  },
  {
   "cell_type": "markdown",
   "metadata": {},
   "source": [
    "Обозначения:\n",
    "\n",
    "- $X$ — матрица признаков (нулевой столбец состоит из единиц)\n",
    "\n",
    "- $y$ — вектор целевого признака\n",
    "\n",
    "- $P$ — матрица, на которую умножаются признаки\n",
    "\n",
    "- $w$ — вектор весов линейной регрессии (нулевой элемент равен сдвигу)"
   ]
  },
  {
   "cell_type": "markdown",
   "metadata": {},
   "source": [
    "Предсказания:\n",
    "\n",
    "$$\n",
    "a = Xw\n",
    "$$\n",
    "\n",
    "Задача обучения:\n",
    "\n",
    "$$\n",
    "w = \\arg\\min_w MSE(Xw, y)\n",
    "$$\n",
    "\n",
    "Формула обучения:\n",
    "\n",
    "$$\n",
    "w = (X^T X)^{-1} X^T y\n",
    "$$"
   ]
  },
  {
   "cell_type": "markdown",
   "metadata": {},
   "source": [
    "**Вопрос:** Признаки умножают на обратимую матрицу. Изменится ли качество линейной регрессии?"
   ]
  },
  {
   "cell_type": "markdown",
   "metadata": {},
   "source": [
    "**Ответ:** не изменится.\n",
    "\n",
    "**Обоснование:** \n",
    "Заменим матрицу признаков X на матрицу F:\n",
    "\n",
    "$$\n",
    "F = XP    \\qquad (2.1)\n",
    "$$\n",
    "\n",
    "где P - обратимая матрица, на которую может быть умножена матрица X.\n",
    "\n",
    "Теперь вычислим, чему будет равно предсказание и вектор весов регрессии.\n",
    "$$\n",
    "a_1 = Fw_1 \\qquad (2.2)\n",
    "$$\n",
    "\n",
    "$$\n",
    "w_1 = (F^T F)^{-1} F^T y \\qquad (2.3)\n",
    "$$"
   ]
  },
  {
   "cell_type": "markdown",
   "metadata": {},
   "source": [
    "Подставим в уравнение 2.2 правую часть уравнения 2.3. Получим следующее:\n",
    "\n",
    "$$\n",
    "a_1 = F (F^T F)^{-1} F^T y \\qquad (2.4)\n",
    "$$"
   ]
  },
  {
   "cell_type": "markdown",
   "metadata": {},
   "source": [
    "Заменим все F на правую часть уравнения 2.1:\n",
    "\n",
    "$$a_1 = XP ((XP)^T XP)^{-1} (XP)^T y \\qquad (2.5)\n",
    "$$"
   ]
  },
  {
   "cell_type": "markdown",
   "metadata": {},
   "source": [
    "Раскроем уравнение 2.5, применив правило транспонирования матриц: транспонированное произведение матриц равно произведению транспонированных матриц, взятых в обратном порядке.\n",
    "$$\n",
    "a_1 = XP(P^T X^T XP)^{-1} P^T X^T y \\qquad (2.6.1)\n",
    "$$\n",
    "\n",
    "Теперь воспользуемся свойством сочетания матриц: обратная матрица произведения равна произведению обратных матриц, взятых в обратном порядке:\n",
    "\n",
    "$$\n",
    "a_1 = XPP^{-1} (P^T X^T X)^{-1} P^T X^T y \\qquad (2.7.1)\n",
    "$$\n",
    "$$\n",
    "a_1 = XPP^{-1} (X^T X)^{-1} (P^T)^{-1} P^T X^T y \\qquad (2.7.2)\n",
    "$$\n",
    "\n",
    "Наконец, воспользуемся свойством, гласящим, что при умножении матрицы на обратную матрицу получается единичная матрица E. Так, сократим уравнение 2.7.2:\n",
    "\n",
    "$$\n",
    "a_1 = X(X^T X)^{-1} X^T y  \\qquad (2.8.1)\n",
    "$$\n",
    "\n",
    "Тем самым, мы пришли к той же формуле, что $ a = Xw $ и можем утверждать, что $ a_1 = a $\n",
    "\n",
    "Таким образом, мы доказали, что при умножении матрицы признаков на обратную матрицу качество предсказания a не изменится.\n",
    "\n",
    "__Какое соотношение между 𝑤 и 𝑤𝑝?__\n",
    "\n",
    "Если $a_1 = Fw_1 \\qquad (2.2)$,\n",
    "\n",
    "a, как мы доказали выше, \n",
    " \n",
    "$a_1 = a \\qquad (2.8)$, \n",
    "\n",
    "то соотношение между 𝑤 и 𝑤𝑝 можно признать равным.\n"
   ]
  },
  {
   "cell_type": "markdown",
   "metadata": {},
   "source": [
    "**Алгоритм**\n",
    "\n",
    "Для защиты информации клиентов страховой компании можно умножать матрицу признаков линейной регрессии на обратимую матрицу Z, генерируемую случайным образом.\n",
    "\n",
    "Для этого потребуются следующие этапы:\n",
    "1) Составление матрицы Z\n",
    "\n",
    "\n",
    "2) Проверка этой матрицы на обратимость и вычисление детерминанта\n",
    "\n",
    "\n",
    "3) Получение преобразованной матрицы признаков: Y = XZ\n",
    "\n",
    "\n",
    "4) Применение алгоритма линейной регрессии на преобразованных признаках Y"
   ]
  },
  {
   "cell_type": "markdown",
   "metadata": {},
   "source": [
    "**Обоснование**\n",
    "\n",
    "Умножение матрицы на матрицу возможно, если ширина первой матрицы А (𝑚 × 𝑛) равна высоте второй матрицы В (𝑛 × r). То есть наша матрица Z должна иметь размерность (𝑚 × 𝑛), где n соответствует количеству признаков регрессии. А матрица Y будет иметь такую же размерность, что и матрица X.\n",
    "\n",
    "$$\n",
    "X = \\begin{pmatrix}\n",
    "1 & 2 \\\\\n",
    "2 & 3 \\\\\n",
    "4 & 5  \n",
    "\\end{pmatrix}\n",
    "\\qquad \n",
    "Z = \\begin{pmatrix}\n",
    "1 & 0 \\\\\n",
    "2 & 3 \\\\  \n",
    "\\end{pmatrix}\n",
    "\\qquad det  Y = 3\n",
    "$$"
   ]
  },
  {
   "cell_type": "markdown",
   "metadata": {},
   "source": [
    "Найдем Y:\n",
    "\n",
    "$$\n",
    "Y = \\begin{pmatrix}\n",
    "1 & 2 \\\\\n",
    "2 & 3 \\\\\n",
    "4 & 5  \n",
    "\\end{pmatrix} \\begin{pmatrix}\n",
    "1 & 0 \\\\\n",
    "2 & 3 \\\\  \n",
    "\\end{pmatrix} = \\begin{pmatrix}\n",
    "1*1+2*2 & 1*0+2*3  \\\\\n",
    "2*1+3*2 & 2*0+3*3  \\\\\n",
    "4*1+5*2 & 4*0+5*3   \n",
    "\\end{pmatrix} = \\begin{pmatrix}\n",
    "5 & 6 \\\\\n",
    "8 & 9 \\\\\n",
    "14 & 15  \n",
    "\\end{pmatrix}\n",
    "$$"
   ]
  },
  {
   "cell_type": "markdown",
   "metadata": {},
   "source": [
    "После этого необходимо добавить нулевой столбец, после чего матрица готова для использования в линейной регрессии."
   ]
  },
  {
   "cell_type": "markdown",
   "metadata": {},
   "source": [
    "## Проверка алгоритма"
   ]
  },
  {
   "cell_type": "markdown",
   "metadata": {},
   "source": [
    "Проведем исследование модели по двум направлениям:\n",
    "\n",
    "Сначала исследуем качество модели без преобразования. 1.1 С исходными признаками 1.2 С отмасштабированными признаками\n",
    "\n",
    "Затем исследуем качество модели с преобразованием. 2.1 С исходными признаками 2.2 С отмасштабированными признаками\n",
    "\n",
    "Разделим данные на обучающие и тестовые выборки."
   ]
  },
  {
   "cell_type": "code",
   "execution_count": null,
   "metadata": {},
   "outputs": [],
   "source": [
    "features = df.drop('Страховые выплаты',axis=1)\n",
    "target = df['Страховые выплаты']"
   ]
  },
  {
   "cell_type": "code",
   "execution_count": null,
   "metadata": {},
   "outputs": [],
   "source": [
    "features_train, features_test, target_train, target_test = train_test_split(\n",
    "    features, target, test_size=0.25, random_state=12345)"
   ]
  },
  {
   "cell_type": "code",
   "execution_count": null,
   "metadata": {},
   "outputs": [],
   "source": [
    "model = LinearRegression()\n",
    "model.fit(features_train, target_train)\n",
    "R2_LR_initial_data = r2_score(target_test, model.predict(features_test))\n",
    "print(\"w-vector coef\",model.coef_)\n",
    "print(\"R2 =\", R2_LR_initial_data)\n"
   ]
  },
  {
   "cell_type": "code",
   "execution_count": null,
   "metadata": {},
   "outputs": [],
   "source": [
    "regression = LinearRegression()\n",
    "scaler = StandardScaler()\n",
    "pipeline = Pipeline([(\"standard_scaler\", scaler),(\"linear_regression\", regression)])\n",
    "pipeline.fit(features_train, target_train)\n",
    "R2_LR_scaled_data = r2_score(target_test, pipeline.predict(features_test))\n",
    "#print(\"w-vector coef\",pipeline.coef_) при использовании pipeline невозможно получить коэффициенты регрессии\n",
    "print(\"R2 =\", R2_LR_scaled_data)"
   ]
  },
  {
   "cell_type": "markdown",
   "metadata": {},
   "source": [
    "Видим, что коэффициент R2 в обоих случаях равный, как на исходных данных, так и на скалированных. \n",
    "\n",
    "Приступим к преобразованию матрицы признаков."
   ]
  },
  {
   "cell_type": "code",
   "execution_count": null,
   "metadata": {},
   "outputs": [],
   "source": [
    "def cipher(features):\n",
    "    crypted_features = features\n",
    "    n = features.shape[1]\n",
    "    np.random.seed(12345)\n",
    "    cipher_matrix = np.random.randint(1, 10, (n,n))\n",
    "    det = np.linalg.det(cipher_matrix)\n",
    "    while det == 0:\n",
    "        cipher_matrix = np.random.randint(1, 10, (n,n))\n",
    "        det = np.linalg.det(cipher_matrix)\n",
    "    crypted_features = crypted_features @ cipher_matrix\n",
    "    return crypted_features, cipher_matrix"
   ]
  },
  {
   "cell_type": "markdown",
   "metadata": {},
   "source": [
    "Посмотрим на данные до преобразования и после."
   ]
  },
  {
   "cell_type": "code",
   "execution_count": null,
   "metadata": {
    "scrolled": false
   },
   "outputs": [],
   "source": [
    "display(features.head())\n",
    "features, cipher_matrix = cipher(features)\n",
    "display(features.head())\n",
    "cipher_matrix"
   ]
  },
  {
   "cell_type": "markdown",
   "metadata": {},
   "source": [
    "Мы видим, что данные благополучно зашифрованы, вместо оригинальных значений выводятся какие-то непонятные числа. \n",
    "Разобьем их теперь на тренировочную и обучающую выборки и проверим значение R2 на зашифрованных данных."
   ]
  },
  {
   "cell_type": "code",
   "execution_count": null,
   "metadata": {},
   "outputs": [],
   "source": [
    "features_train, features_test, target_train, target_test = train_test_split(\n",
    "    features, target, test_size=0.25, random_state=12345)\n"
   ]
  },
  {
   "cell_type": "code",
   "execution_count": null,
   "metadata": {},
   "outputs": [],
   "source": [
    "model = LinearRegression()\n",
    "model.fit(features_train, target_train)\n",
    "R2_LR_cipher_data = r2_score(target_test, model.predict(features_test))\n",
    "print(\"w-vector coef\",model.coef_)\n",
    "print(\"R2 =\", R2_LR_cipher_data)\n"
   ]
  },
  {
   "cell_type": "code",
   "execution_count": null,
   "metadata": {},
   "outputs": [],
   "source": [
    "regression = LinearRegression()\n",
    "scaler = StandardScaler()\n",
    "pipeline = Pipeline([(\"standard_scaler\", scaler),(\"linear_regression\", regression)])\n",
    "pipeline.fit(features_train, target_train)\n",
    "R2_LR_cipher_data = r2_score(target_test, pipeline.predict(features_test))\n",
    "print(\"R2 =\", R2_LR_cipher_data)"
   ]
  },
  {
   "cell_type": "markdown",
   "metadata": {},
   "source": [
    "Показатель R2 не изменился. ЧТД."
   ]
  },
  {
   "cell_type": "markdown",
   "metadata": {},
   "source": [
    "## Выводы"
   ]
  },
  {
   "cell_type": "markdown",
   "metadata": {},
   "source": [
    "В ходе работы с данными страховой компании \"Хоть потом\" мы проделали следующее: \n",
    "\n",
    "1. Загрузили и изучили исходные данные.\n",
    "2. Доказали, что качество линейной регресии не меняется при использования исходной матрицы или исходной матрицы, умноженной на обратимую.\n",
    "3. Создали алгоритм шифрования данных.\n",
    "4. Исследовали его работу с проверкой значений метрики R2 для исходных данных и для шифрованных.\n",
    "\n",
    "Результат: данные клиентов можно нетрудным путем зашифровать, и это никак не повлияет на значения линейной регрессии."
   ]
  }
 ],
 "metadata": {
  "ExecuteTimeLog": [
   {
    "duration": 396,
    "start_time": "2023-04-17T17:53:16.382Z"
   },
   {
    "duration": 86,
    "start_time": "2023-04-17T17:53:32.906Z"
   },
   {
    "duration": 41,
    "start_time": "2023-04-17T17:53:35.162Z"
   },
   {
    "duration": 44,
    "start_time": "2023-04-17T17:53:50.224Z"
   },
   {
    "duration": 44,
    "start_time": "2023-04-17T17:54:22.057Z"
   },
   {
    "duration": 39,
    "start_time": "2023-04-17T17:54:27.722Z"
   },
   {
    "duration": 43,
    "start_time": "2023-04-17T17:54:39.627Z"
   },
   {
    "duration": 44,
    "start_time": "2023-04-17T17:55:14.876Z"
   },
   {
    "duration": 40,
    "start_time": "2023-04-17T17:55:16.491Z"
   },
   {
    "duration": 42,
    "start_time": "2023-04-17T17:55:36.818Z"
   },
   {
    "duration": 41,
    "start_time": "2023-04-17T17:55:51.709Z"
   },
   {
    "duration": 42,
    "start_time": "2023-04-17T17:56:53.646Z"
   },
   {
    "duration": 9,
    "start_time": "2023-04-17T18:05:08.441Z"
   },
   {
    "duration": 9,
    "start_time": "2023-04-17T18:05:13.807Z"
   },
   {
    "duration": 9,
    "start_time": "2023-04-17T18:05:15.508Z"
   },
   {
    "duration": 11,
    "start_time": "2023-04-17T18:05:29.914Z"
   },
   {
    "duration": 14,
    "start_time": "2023-04-17T18:05:40.829Z"
   },
   {
    "duration": 5,
    "start_time": "2023-04-17T18:09:51.255Z"
   },
   {
    "duration": 10,
    "start_time": "2023-04-17T18:09:57.481Z"
   },
   {
    "duration": 486,
    "start_time": "2023-04-30T09:12:21.427Z"
   },
   {
    "duration": 114,
    "start_time": "2023-04-30T09:12:21.916Z"
   },
   {
    "duration": 27,
    "start_time": "2023-04-30T09:12:22.032Z"
   },
   {
    "duration": 29,
    "start_time": "2023-04-30T09:12:22.061Z"
   },
   {
    "duration": 84,
    "start_time": "2023-04-30T09:28:57.807Z"
   },
   {
    "duration": 883,
    "start_time": "2023-04-30T09:29:17.135Z"
   },
   {
    "duration": 58,
    "start_time": "2023-04-30T09:29:23.986Z"
   },
   {
    "duration": 8,
    "start_time": "2023-04-30T09:30:03.381Z"
   },
   {
    "duration": 18,
    "start_time": "2023-04-30T09:30:41.216Z"
   },
   {
    "duration": 12,
    "start_time": "2023-04-30T09:30:54.385Z"
   },
   {
    "duration": 15,
    "start_time": "2023-04-30T09:33:38.733Z"
   },
   {
    "duration": 4,
    "start_time": "2023-04-30T09:37:51.723Z"
   },
   {
    "duration": 34,
    "start_time": "2023-04-30T09:38:21.383Z"
   },
   {
    "duration": 21,
    "start_time": "2023-04-30T09:38:32.511Z"
   },
   {
    "duration": 5,
    "start_time": "2023-04-30T09:39:28.598Z"
   },
   {
    "duration": 207,
    "start_time": "2023-04-30T09:39:28.605Z"
   },
   {
    "duration": 27,
    "start_time": "2023-04-30T09:39:28.814Z"
   },
   {
    "duration": 40,
    "start_time": "2023-04-30T09:39:28.843Z"
   },
   {
    "duration": 79,
    "start_time": "2023-04-30T09:39:28.886Z"
   },
   {
    "duration": 31,
    "start_time": "2023-04-30T09:39:28.968Z"
   },
   {
    "duration": 22,
    "start_time": "2023-04-30T09:39:29.001Z"
   },
   {
    "duration": 18,
    "start_time": "2023-04-30T09:39:29.026Z"
   },
   {
    "duration": 55,
    "start_time": "2023-04-30T09:39:29.047Z"
   },
   {
    "duration": 6,
    "start_time": "2023-04-30T09:41:04.985Z"
   },
   {
    "duration": 13,
    "start_time": "2023-04-30T09:41:22.004Z"
   },
   {
    "duration": 20,
    "start_time": "2023-04-30T09:42:29.114Z"
   },
   {
    "duration": 13,
    "start_time": "2023-04-30T09:42:34.107Z"
   },
   {
    "duration": 4,
    "start_time": "2023-04-30T09:47:19.398Z"
   },
   {
    "duration": 3,
    "start_time": "2023-04-30T09:51:50.108Z"
   },
   {
    "duration": 71,
    "start_time": "2023-04-30T09:51:50.114Z"
   },
   {
    "duration": 18,
    "start_time": "2023-04-30T09:51:50.187Z"
   },
   {
    "duration": 15,
    "start_time": "2023-04-30T09:51:50.207Z"
   },
   {
    "duration": 51,
    "start_time": "2023-04-30T09:51:50.224Z"
   },
   {
    "duration": 20,
    "start_time": "2023-04-30T09:51:50.277Z"
   },
   {
    "duration": 11,
    "start_time": "2023-04-30T09:51:50.299Z"
   },
   {
    "duration": 22,
    "start_time": "2023-04-30T09:51:50.312Z"
   },
   {
    "duration": 42,
    "start_time": "2023-04-30T09:51:50.336Z"
   },
   {
    "duration": 32,
    "start_time": "2023-04-30T09:51:50.380Z"
   },
   {
    "duration": 5,
    "start_time": "2023-04-30T09:51:50.415Z"
   },
   {
    "duration": 15,
    "start_time": "2023-04-30T09:51:50.422Z"
   },
   {
    "duration": 36,
    "start_time": "2023-04-30T09:51:50.439Z"
   },
   {
    "duration": 2484,
    "start_time": "2023-05-01T04:06:51.952Z"
   },
   {
    "duration": 52,
    "start_time": "2023-05-01T04:06:54.438Z"
   },
   {
    "duration": 19,
    "start_time": "2023-05-01T04:06:54.492Z"
   },
   {
    "duration": 10,
    "start_time": "2023-05-01T04:06:54.513Z"
   },
   {
    "duration": 5,
    "start_time": "2023-05-01T04:06:54.525Z"
   },
   {
    "duration": 23,
    "start_time": "2023-05-01T04:06:54.531Z"
   },
   {
    "duration": 8,
    "start_time": "2023-05-01T04:06:54.556Z"
   },
   {
    "duration": 16,
    "start_time": "2023-05-01T04:06:54.566Z"
   },
   {
    "duration": 6,
    "start_time": "2023-05-01T04:06:54.583Z"
   },
   {
    "duration": 18,
    "start_time": "2023-05-01T04:06:54.602Z"
   },
   {
    "duration": 4,
    "start_time": "2023-05-01T04:06:54.622Z"
   },
   {
    "duration": 21,
    "start_time": "2023-05-01T04:06:54.627Z"
   },
   {
    "duration": 12,
    "start_time": "2023-05-01T04:06:54.649Z"
   },
   {
    "duration": 1194,
    "start_time": "2023-05-02T18:54:44.632Z"
   },
   {
    "duration": 125,
    "start_time": "2023-05-02T18:54:45.829Z"
   },
   {
    "duration": 23,
    "start_time": "2023-05-02T18:54:45.956Z"
   },
   {
    "duration": 15,
    "start_time": "2023-05-02T18:54:45.982Z"
   },
   {
    "duration": 12,
    "start_time": "2023-05-02T18:54:45.999Z"
   },
   {
    "duration": 32,
    "start_time": "2023-05-02T18:54:46.014Z"
   },
   {
    "duration": 38,
    "start_time": "2023-05-02T18:54:46.048Z"
   },
   {
    "duration": 24,
    "start_time": "2023-05-02T18:54:46.088Z"
   },
   {
    "duration": 26,
    "start_time": "2023-05-02T18:54:46.114Z"
   },
   {
    "duration": 32,
    "start_time": "2023-05-02T18:54:46.142Z"
   },
   {
    "duration": 23,
    "start_time": "2023-05-02T18:54:46.175Z"
   },
   {
    "duration": 22,
    "start_time": "2023-05-02T18:54:46.200Z"
   },
   {
    "duration": 18,
    "start_time": "2023-05-02T18:54:46.225Z"
   }
  ],
  "kernelspec": {
   "display_name": "Python 3 (ipykernel)",
   "language": "python",
   "name": "python3"
  },
  "language_info": {
   "codemirror_mode": {
    "name": "ipython",
    "version": 3
   },
   "file_extension": ".py",
   "mimetype": "text/x-python",
   "name": "python",
   "nbconvert_exporter": "python",
   "pygments_lexer": "ipython3",
   "version": "3.9.5"
  },
  "toc": {
   "base_numbering": 1,
   "nav_menu": {},
   "number_sections": true,
   "sideBar": true,
   "skip_h1_title": true,
   "title_cell": "Содержание",
   "title_sidebar": "Contents",
   "toc_cell": true,
   "toc_position": {
    "height": "calc(100% - 180px)",
    "left": "10px",
    "top": "150px",
    "width": "165px"
   },
   "toc_section_display": true,
   "toc_window_display": true
  }
 },
 "nbformat": 4,
 "nbformat_minor": 2
}
